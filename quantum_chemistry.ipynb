{
  "nbformat": 4,
  "nbformat_minor": 0,
  "metadata": {
    "colab": {
      "provenance": [],
      "machine_shape": "hm",
      "gpuType": "L4",
      "authorship_tag": "ABX9TyNXkzi1Keb+y4KYmcIkZUfd",
      "include_colab_link": true
    },
    "kernelspec": {
      "name": "python3",
      "display_name": "Python 3"
    },
    "language_info": {
      "name": "python"
    },
    "accelerator": "GPU"
  },
  "cells": [
    {
      "cell_type": "markdown",
      "metadata": {
        "id": "view-in-github",
        "colab_type": "text"
      },
      "source": [
        "<a href=\"https://colab.research.google.com/github/deltorobarba/sciences/blob/master/quantum_chemistry.ipynb\" target=\"_parent\"><img src=\"https://colab.research.google.com/assets/colab-badge.svg\" alt=\"Open In Colab\"/></a>"
      ]
    },
    {
      "cell_type": "markdown",
      "source": [
        "# **Quantum Chemistry Simulations of NH₃ using VQE with a UCCSD ansatz**"
      ],
      "metadata": {
        "id": "NAEKBsyHr757"
      }
    },
    {
      "cell_type": "markdown",
      "source": [
        "![sciences](https://raw.githubusercontent.com/deltorobarba/repo/master/sciences_5000.png)"
      ],
      "metadata": {
        "id": "nvEWmdDiNZpG"
      }
    },
    {
      "cell_type": "markdown",
      "source": [
        "<font color=\"blue\">Let us simulates a quantum chemistry algorithm (VQE) using CUDA-Q on a GPU, targeting the ground state energy of NH₃ via a variational quantum eigensolver (VQE) with a UCCSD ansatz and a classical optimizer (COBYLA). I will demonstrate this im three steps:\n",
        "* **Step 1**: Classical Computational Chemistry Simulation of Ground State Energy of NH₃\n",
        "* **Step 2**: Single GPU - Quantum Simulation of Ground State Energy for NH₃\n",
        "* **Step: 3**: Multi-GPU / Multi-Node- Quantum Simulation of Ground State Energy for NH₃"
      ],
      "metadata": {
        "id": "qbVTAbVWpRGj"
      }
    },
    {
      "cell_type": "code",
      "source": [
        "# Check access to nvidia GPUs\n",
        "!nvidia-smi"
      ],
      "metadata": {
        "colab": {
          "base_uri": "https://localhost:8080/"
        },
        "id": "w1n3GuZFZTby",
        "outputId": "40c4305e-979c-48e4-9fbb-3eadd59365b9"
      },
      "execution_count": null,
      "outputs": [
        {
          "output_type": "stream",
          "name": "stdout",
          "text": [
            "Mon May 26 14:30:04 2025       \n",
            "+-----------------------------------------------------------------------------------------+\n",
            "| NVIDIA-SMI 550.54.15              Driver Version: 550.54.15      CUDA Version: 12.4     |\n",
            "|-----------------------------------------+------------------------+----------------------+\n",
            "| GPU  Name                 Persistence-M | Bus-Id          Disp.A | Volatile Uncorr. ECC |\n",
            "| Fan  Temp   Perf          Pwr:Usage/Cap |           Memory-Usage | GPU-Util  Compute M. |\n",
            "|                                         |                        |               MIG M. |\n",
            "|=========================================+========================+======================|\n",
            "|   0  NVIDIA L4                      Off |   00000000:00:03.0 Off |                    0 |\n",
            "| N/A   60C    P8             13W /   72W |       0MiB /  23034MiB |      0%      Default |\n",
            "|                                         |                        |                  N/A |\n",
            "+-----------------------------------------+------------------------+----------------------+\n",
            "                                                                                         \n",
            "+-----------------------------------------------------------------------------------------+\n",
            "| Processes:                                                                              |\n",
            "|  GPU   GI   CI        PID   Type   Process name                              GPU Memory |\n",
            "|        ID   ID                                                               Usage      |\n",
            "|=========================================================================================|\n",
            "|  No running processes found                                                             |\n",
            "+-----------------------------------------------------------------------------------------+\n"
          ]
        }
      ]
    },
    {
      "cell_type": "code",
      "source": [
        "import numpy as np\n",
        "print(np.__version__)"
      ],
      "metadata": {
        "colab": {
          "base_uri": "https://localhost:8080/"
        },
        "id": "oxWqYGrFogeC",
        "outputId": "9e1bb982-6a84-4e3c-c58d-0c702c942c66"
      },
      "execution_count": null,
      "outputs": [
        {
          "output_type": "stream",
          "name": "stdout",
          "text": [
            "2.0.2\n"
          ]
        }
      ]
    },
    {
      "cell_type": "markdown",
      "source": [
        "Check which NumPy is installed. One of the dependencies of CUDA-Q is trying to use 'np.string_' which was removed in NumPy 2.0, and you will get an error later *AttributeError: `np.string_` was removed in the NumPy 2.0 release. Use `np.bytes_`*. We need to downgrade np."
      ],
      "metadata": {
        "id": "Y_u2HqpLpnWf"
      }
    },
    {
      "cell_type": "code",
      "source": [
        "# Force install NumPy < 2.0\n",
        "!pip install numpy==1.26.4 --force-reinstall -q"
      ],
      "metadata": {
        "colab": {
          "base_uri": "https://localhost:8080/"
        },
        "id": "qb9ISl9Ro7s9",
        "outputId": "f7d2ba83-412d-4539-b8fd-26afb0c440b8"
      },
      "execution_count": null,
      "outputs": [
        {
          "output_type": "stream",
          "name": "stdout",
          "text": [
            "\u001b[?25l     \u001b[90m━━━━━━━━━━━━━━━━━━━━━━━━━━━━━━━━━━━━━━━━\u001b[0m \u001b[32m0.0/61.0 kB\u001b[0m \u001b[31m?\u001b[0m eta \u001b[36m-:--:--\u001b[0m\r\u001b[2K     \u001b[90m━━━━━━━━━━━━━━━━━━━━━━━━━━━━━━━━━━━━━━━━\u001b[0m \u001b[32m61.0/61.0 kB\u001b[0m \u001b[31m5.3 MB/s\u001b[0m eta \u001b[36m0:00:00\u001b[0m\n",
            "\u001b[?25h\u001b[?25l   \u001b[90m━━━━━━━━━━━━━━━━━━━━━━━━━━━━━━━━━━━━━━━━\u001b[0m \u001b[32m0.0/18.3 MB\u001b[0m \u001b[31m?\u001b[0m eta \u001b[36m-:--:--\u001b[0m\r\u001b[2K   \u001b[91m━━━━━━━━━━━━━━\u001b[0m\u001b[91m╸\u001b[0m\u001b[90m━━━━━━━━━━━━━━━━━━━━━━━━━\u001b[0m \u001b[32m6.6/18.3 MB\u001b[0m \u001b[31m199.8 MB/s\u001b[0m eta \u001b[36m0:00:01\u001b[0m\r\u001b[2K   \u001b[91m━━━━━━━━━━━━━━━━━━━━━━━━━━━━━\u001b[0m\u001b[91m╸\u001b[0m\u001b[90m━━━━━━━━━━\u001b[0m \u001b[32m13.6/18.3 MB\u001b[0m \u001b[31m199.7 MB/s\u001b[0m eta \u001b[36m0:00:01\u001b[0m\r\u001b[2K   \u001b[91m━━━━━━━━━━━━━━━━━━━━━━━━━━━━━━━━━━━━━━━\u001b[0m\u001b[91m╸\u001b[0m \u001b[32m18.2/18.3 MB\u001b[0m \u001b[31m208.7 MB/s\u001b[0m eta \u001b[36m0:00:01\u001b[0m\r\u001b[2K   \u001b[90m━━━━━━━━━━━━━━━━━━━━━━━━━━━━━━━━━━━━━━━━\u001b[0m \u001b[32m18.3/18.3 MB\u001b[0m \u001b[31m108.3 MB/s\u001b[0m eta \u001b[36m0:00:00\u001b[0m\n",
            "\u001b[?25h\u001b[31mERROR: pip's dependency resolver does not currently take into account all the packages that are installed. This behaviour is the source of the following dependency conflicts.\n",
            "thinc 8.3.6 requires numpy<3.0.0,>=2.0.0, but you have numpy 1.26.4 which is incompatible.\u001b[0m\u001b[31m\n",
            "\u001b[0m"
          ]
        }
      ]
    },
    {
      "cell_type": "markdown",
      "source": [
        "<font color=\"blue\">Important: After installing, you **MUST restart the kernel/runtime before running the code.**"
      ],
      "metadata": {
        "id": "Te6JxWSdo_ok"
      }
    },
    {
      "cell_type": "code",
      "source": [
        "# Automatically restart runtime after package installation\n",
        "import os\n",
        "if \"COLAB_GPU\" in os.environ:\n",
        "    print(\"Restarting runtime to ensure clean package environment...\")\n",
        "    os.kill(os.getpid(), 9)"
      ],
      "metadata": {
        "id": "rBaXEEo8AN0m"
      },
      "execution_count": null,
      "outputs": []
    },
    {
      "cell_type": "code",
      "source": [
        "# Alternative: More explicit restart\n",
        "import IPython\n",
        "IPython.Application.instance().kernel.do_shutdown(True)"
      ],
      "metadata": {
        "id": "sgiPmi-LAbrC"
      },
      "execution_count": null,
      "outputs": []
    },
    {
      "cell_type": "code",
      "source": [
        "import numpy as np\n",
        "print(np.__version__)  # Should show 1.26.4"
      ],
      "metadata": {
        "colab": {
          "base_uri": "https://localhost:8080/"
        },
        "id": "MBBJOwvHpA0F",
        "outputId": "66d9c399-48c9-41fc-8135-cb8be8bebbeb"
      },
      "execution_count": null,
      "outputs": [
        {
          "output_type": "stream",
          "name": "stdout",
          "text": [
            "1.26.4\n"
          ]
        }
      ]
    },
    {
      "cell_type": "code",
      "source": [
        "!pip install openfermionpyscf==0.5 matplotlib==3.8.4 scipy==1.14.0 -q\n",
        "import matplotlib.pyplot as plt\n",
        "from scipy.optimize import minimize"
      ],
      "metadata": {
        "colab": {
          "base_uri": "https://localhost:8080/"
        },
        "id": "atWWMbHxkvSd",
        "outputId": "c0f47390-b542-4371-a6c6-bc5fd2e9e515"
      },
      "execution_count": null,
      "outputs": [
        {
          "output_type": "stream",
          "name": "stdout",
          "text": [
            "\u001b[?25l     \u001b[90m━━━━━━━━━━━━━━━━━━━━━━━━━━━━━━━━━━━━━━━━\u001b[0m \u001b[32m0.0/60.8 kB\u001b[0m \u001b[31m?\u001b[0m eta \u001b[36m-:--:--\u001b[0m\r\u001b[2K     \u001b[90m━━━━━━━━━━━━━━━━━━━━━━━━━━━━━━━━━━━━━━━━\u001b[0m \u001b[32m60.8/60.8 kB\u001b[0m \u001b[31m4.6 MB/s\u001b[0m eta \u001b[36m0:00:00\u001b[0m\n",
            "\u001b[?25h  Preparing metadata (setup.py) ... \u001b[?25l\u001b[?25hdone\n",
            "\u001b[2K     \u001b[90m━━━━━━━━━━━━━━━━━━━━━━━━━━━━━━━━━━━━━━━━\u001b[0m \u001b[32m61.0/61.0 kB\u001b[0m \u001b[31m3.1 MB/s\u001b[0m eta \u001b[36m0:00:00\u001b[0m\n",
            "\u001b[2K   \u001b[90m━━━━━━━━━━━━━━━━━━━━━━━━━━━━━━━━━━━━━━━━\u001b[0m \u001b[32m11.6/11.6 MB\u001b[0m \u001b[31m120.5 MB/s\u001b[0m eta \u001b[36m0:00:00\u001b[0m\n",
            "\u001b[2K   \u001b[90m━━━━━━━━━━━━━━━━━━━━━━━━━━━━━━━━━━━━━━━━\u001b[0m \u001b[32m41.1/41.1 MB\u001b[0m \u001b[31m55.5 MB/s\u001b[0m eta \u001b[36m0:00:00\u001b[0m\n",
            "\u001b[2K   \u001b[90m━━━━━━━━━━━━━━━━━━━━━━━━━━━━━━━━━━━━━━━━\u001b[0m \u001b[32m1.2/1.2 MB\u001b[0m \u001b[31m62.1 MB/s\u001b[0m eta \u001b[36m0:00:00\u001b[0m\n",
            "\u001b[2K   \u001b[90m━━━━━━━━━━━━━━━━━━━━━━━━━━━━━━━━━━━━━━━━\u001b[0m \u001b[32m50.9/50.9 MB\u001b[0m \u001b[31m44.6 MB/s\u001b[0m eta \u001b[36m0:00:00\u001b[0m\n",
            "\u001b[2K   \u001b[90m━━━━━━━━━━━━━━━━━━━━━━━━━━━━━━━━━━━━━━━━\u001b[0m \u001b[32m2.0/2.0 MB\u001b[0m \u001b[31m60.4 MB/s\u001b[0m eta \u001b[36m0:00:00\u001b[0m\n",
            "\u001b[?25h  Building wheel for pubchempy (setup.py) ... \u001b[?25l\u001b[?25hdone\n"
          ]
        }
      ]
    },
    {
      "cell_type": "code",
      "source": [
        "!pip install cudaq -q\n",
        "import cudaq\n",
        "print(cudaq.__version__)\n",
        "!pip show cudaq"
      ],
      "metadata": {
        "colab": {
          "base_uri": "https://localhost:8080/"
        },
        "id": "YSfy0q-Jksqf",
        "outputId": "33756ea0-fcb4-4015-bbfb-b3d4d7e4dcf5"
      },
      "execution_count": null,
      "outputs": [
        {
          "output_type": "stream",
          "name": "stdout",
          "text": [
            "  Installing build dependencies ... \u001b[?25l\u001b[?25hdone\n",
            "  Getting requirements to build wheel ... \u001b[?25l\u001b[?25hdone\n",
            "  Preparing metadata (pyproject.toml) ... \u001b[?25l\u001b[?25hdone\n",
            "\u001b[2K   \u001b[90m━━━━━━━━━━━━━━━━━━━━━━━━━━━━━━━━━━━━━━━━\u001b[0m \u001b[32m124.6/124.6 MB\u001b[0m \u001b[31m14.6 MB/s\u001b[0m eta \u001b[36m0:00:00\u001b[0m\n",
            "\u001b[2K   \u001b[90m━━━━━━━━━━━━━━━━━━━━━━━━━━━━━━━━━━━━━━━━\u001b[0m \u001b[32m5.2/5.2 MB\u001b[0m \u001b[31m102.1 MB/s\u001b[0m eta \u001b[36m0:00:00\u001b[0m\n",
            "\u001b[2K   \u001b[90m━━━━━━━━━━━━━━━━━━━━━━━━━━━━━━━━━━━━━━━━\u001b[0m \u001b[32m4.0/4.0 MB\u001b[0m \u001b[31m79.5 MB/s\u001b[0m eta \u001b[36m0:00:00\u001b[0m\n",
            "\u001b[2K   \u001b[90m━━━━━━━━━━━━━━━━━━━━━━━━━━━━━━━━━━━━━━━━\u001b[0m \u001b[32m44.3/44.3 MB\u001b[0m \u001b[31m46.0 MB/s\u001b[0m eta \u001b[36m0:00:00\u001b[0m\n",
            "\u001b[2K   \u001b[90m━━━━━━━━━━━━━━━━━━━━━━━━━━━━━━━━━━━━━━━━\u001b[0m \u001b[32m2.6/2.6 MB\u001b[0m \u001b[31m95.2 MB/s\u001b[0m eta \u001b[36m0:00:00\u001b[0m\n",
            "\u001b[2K   \u001b[90m━━━━━━━━━━━━━━━━━━━━━━━━━━━━━━━━━━━━━━━━\u001b[0m \u001b[32m202.3/202.3 MB\u001b[0m \u001b[31m6.3 MB/s\u001b[0m eta \u001b[36m0:00:00\u001b[0m\n",
            "\u001b[?25h  Building wheel for cudaq (pyproject.toml) ... \u001b[?25l\u001b[?25hdone\n",
            "CUDA-Q Version 0.11.0 (https://github.com/NVIDIA/cuda-quantum f5cc3bb1d85abcf1f642f4ddd20ad08bc1d4d200)\n",
            "Name: cudaq\n",
            "Version: 0.11.0\n",
            "Summary: Python bindings for the CUDA-Q toolkit for heterogeneous quantum-classical workflows.\n",
            "Home-page: https://developer.nvidia.com/cuda-q\n",
            "Author: NVIDIA Corporation & Affiliates\n",
            "Author-email: \n",
            "License: Apache License Version 2.0\n",
            "\n",
            "Copyright (c) 2023 - 2025 NVIDIA Corporation & Affiliates\n",
            "All rights reserved.\n",
            "\n",
            "Licensed under the Apache License, Version 2.0 (the \"License\");\n",
            "you may not use this file except in compliance with the License.\n",
            "You may obtain a copy of the License at\n",
            "\n",
            "    http://www.apache.org/licenses/LICENSE-2.0\n",
            "\n",
            "Unless required by applicable law or agreed to in writing, software\n",
            "distributed under the License is distributed on an \"AS IS\" BASIS,\n",
            "WITHOUT WARRANTIES OR CONDITIONS OF ANY KIND, either express or implied.\n",
            "See the License for the specific language governing permissions and\n",
            "limitations under the License.\n",
            "\n",
            "Location: /usr/local/lib/python3.11/dist-packages\n",
            "Requires: cuda-quantum-cu12\n",
            "Required-by: \n"
          ]
        }
      ]
    },
    {
      "cell_type": "markdown",
      "source": [
        "<font color=\"blue\">**Classical Computational Chemistry Simulation of Ground State Energy of NH₃**"
      ],
      "metadata": {
        "id": "qVsuKpDdrHlk"
      }
    },
    {
      "cell_type": "markdown",
      "source": [
        "Let us start with a standard computational chemistry calculation as a benchmark. We will notice slightly different results when using Restricted Hartree Fock with UCCSD (as classical algorithms) compared to Variational Quantum Eigensolver."
      ],
      "metadata": {
        "id": "1XjHzSJhIS_j"
      }
    },
    {
      "cell_type": "code",
      "source": [
        "###############################\n",
        "# Classical Computational Chemistry\n",
        "###############################\n",
        "\n",
        "# Let us compare the results from the quantum computational chemistry approach with a classical\n",
        "# We use Hartree-Fock SCF (Slater Determinant-based Hartree-Fock Hamiltonian)\n",
        "\n",
        "# Define hydrogen (H2) molecule\n",
        "from pyscf import gto\n",
        "mol = gto.Mole()\n",
        "mol.atom = '''\n",
        "    N 0.000 0.000 0.000\n",
        "    H 0.000 0.938 -0.380\n",
        "    H 0.812 -0.469 -0.380\n",
        "    H -0.812 -0.469 -0.380\n",
        "'''\n",
        "\n",
        "# First, ensure you have the PySCF package installed\n",
        "from pyscf import gto, scf\n",
        "import matplotlib.pyplot as plt\n",
        "\n",
        "# Step 1: Define the molecule using gto.M() function\n",
        "mol = gto.M(\n",
        "    atom = mol.atom,\n",
        "    basis = 'cc-pvdz',  # Use a common basis set, good balance between accuracy and computational cost\n",
        ")\n",
        "\n",
        "# Step 2: Perform a HF-SCF calculation using Restricted Hartree-Fock (RHF) method\n",
        "\n",
        "# scf.RHF for a restricted Hartree-Fock calculation for a closed-shell system (H₂O)\n",
        "mf = scf.RHF(mol)\n",
        "\n",
        "# Store convergence data\n",
        "conv_data = []\n",
        "\n",
        "# Callback function to collect convergence information\n",
        "def callback(envs):\n",
        "    conv_data.append(envs['e_tot'])\n",
        "\n",
        "# Set the callback directly on the mf object\n",
        "mf.callback = callback\n",
        "\n",
        "# Perform HF calculation\n",
        "energy_classical = mf.kernel()\n",
        "\n",
        "# Extract energy values and iteration numbers\n",
        "energies = conv_data\n",
        "iterations = range(1, len(energies) + 1)\n",
        "\n",
        "# Plot the convergence\n",
        "plt.plot(iterations, energies, marker='o')\n",
        "plt.xlabel('Iteration')\n",
        "plt.ylabel('Total Energy (Hartree)')\n",
        "plt.title('HF-SCF Convergence')\n",
        "plt.grid(True)\n",
        "plt.show()\n",
        "\n",
        "print(f\"HF-SCF energy for H2: {energy_classical} Hartree\")"
      ],
      "metadata": {
        "colab": {
          "base_uri": "https://localhost:8080/",
          "height": 508
        },
        "id": "op-mjH5mwJ1S",
        "outputId": "e5ef8792-e96a-4343-e58f-28d716ce851c"
      },
      "execution_count": null,
      "outputs": [
        {
          "output_type": "stream",
          "name": "stdout",
          "text": [
            "converged SCF energy = -56.1956225560141\n"
          ]
        },
        {
          "output_type": "display_data",
          "data": {
            "text/plain": [
              "<Figure size 640x480 with 1 Axes>"
            ],
            "image/png": "[encoded data removed]"
          },
          "metadata": {}
        },
        {
          "output_type": "stream",
          "name": "stdout",
          "text": [
            "HF-SCF energy for H2: -56.1956225560141 Hartree\n"
          ]
        }
      ]
    },
    {
      "cell_type": "markdown",
      "source": [
        "<font color=\"blue\">**Single GPU - Quantum Simulation of Ground State Energy for NH₃**"
      ],
      "metadata": {
        "id": "Gta19o5arDxT"
      }
    },
    {
      "cell_type": "markdown",
      "source": [
        "Now we formulate our chemistry problem into a quantum algorithm and run it on a single GPU without any distribution strategy. We compare the ground state energy result with the precious classical computational method and we will monitor the time requires to compute the result. This code is takem from a [cuda-q tutorial](https://nvidia.github.io/cuda-quantum/0.7.1/examples/python/tutorials/vqe.html) for VQEs."
      ],
      "metadata": {
        "id": "WWqcNPehJGCm"
      }
    },
    {
      "cell_type": "code",
      "source": [
        "###############################\n",
        "# GPU backend for simulation\n",
        "###############################\n",
        "\n",
        "# Single precision\n",
        "cudaq.set_target(\"nvidia\")\n",
        "\n",
        "# Double precision\n",
        "#cudaq.set_target(\"nvidia-fp64\")"
      ],
      "metadata": {
        "id": "LshKySV14MyG"
      },
      "execution_count": null,
      "outputs": []
    },
    {
      "cell_type": "code",
      "source": [
        "###############################\n",
        "# Molecule and Basis Set\n",
        "###############################\n",
        "\n",
        "# Number of hydrogen atoms.\n",
        "hydrogen_count = 2\n",
        "\n",
        "# Define ammonia molecule\n",
        "geometry = [\n",
        "    [\"N\", (0.0000, 0.0000, 0.0000)], # Nitrogen\n",
        "    [\"H\", (0.0000, 0.0000, 1.0120)], # Hydrogen 1\n",
        "    [\"H\", (0.9377, 0.0000, -0.3430)], # Hydrogen 2\n",
        "    [\"H\", (-0.9377, 0.0000, -0.3430)] # Hydrogen 3\n",
        "    ]\n",
        "\n",
        "# We use STO-3G basis set and build the electronic Hamiltonian\n",
        "molecule, data = cudaq.chemistry.create_molecular_hamiltonian(\n",
        "    geometry, 'sto-3g', 1, 0)\n",
        "\n",
        "electron_count = data.n_electrons\n",
        "qubit_count = 2 * data.n_orbitals"
      ],
      "metadata": {
        "id": "Hy_vokfb4O6S"
      },
      "execution_count": null,
      "outputs": []
    },
    {
      "cell_type": "code",
      "source": [
        "###############################\n",
        "# Resource Requirements\n",
        "###############################\n",
        "\n",
        "# This is important to define the distribution strategy (# of GPUs and nodes)\n",
        "print(f\"Electron count: {electron_count}\")\n",
        "print(f\"Qubit count: {qubit_count}\")\n",
        "print(f\"Number of orbitals: {data.n_orbitals}\")"
      ],
      "metadata": {
        "id": "sXTyrc08j89e",
        "colab": {
          "base_uri": "https://localhost:8080/"
        },
        "outputId": "e9edf348-a9e9-42fb-e63c-5f0b285a47e7"
      },
      "execution_count": null,
      "outputs": [
        {
          "output_type": "stream",
          "name": "stdout",
          "text": [
            "Electron count: 10\n",
            "Qubit count: 16\n",
            "Number of orbitals: 8\n"
          ]
        }
      ]
    },
    {
      "cell_type": "code",
      "source": [
        "###############################\n",
        "# Kernel and Ansatz (VQE)\n",
        "###############################\n",
        "\n",
        "# Quantum kernel prepares Hartree-Fock state by applying X gates to electrons and UCCSD ansatz with parameters thetas\n",
        "# Unitary Coupled-Cluster Singles and Doubles (UCCSD) captures electronic correlations well, often used in quantum chemistry\n",
        "# Alternatives: Nelder-Mead vs gradient-based etc\n",
        "\n",
        "@cudaq.kernel\n",
        "def kernel(thetas: list[float]):\n",
        "\n",
        "    qubits = cudaq.qvector(qubit_count)\n",
        "\n",
        "    for i in range(electron_count):\n",
        "        x(qubits[i])\n",
        "\n",
        "    cudaq.kernels.uccsd(qubits, thetas, electron_count, qubit_count)\n",
        "\n",
        "parameter_count = cudaq.kernels.uccsd_num_parameters(electron_count,\n",
        "                                                     qubit_count)"
      ],
      "metadata": {
        "id": "mw7ENmWi63CG"
      },
      "execution_count": null,
      "outputs": []
    },
    {
      "cell_type": "code",
      "source": [
        "###############################\n",
        "# Optimizer\n",
        "###############################\n",
        "\n",
        "# COBYLA (Constrained Optimization BY Linear Approximations) for minimization of expected energy of molecule\n",
        "# Gradient-free classical optimizer, well-suited for noisy landscapes (like those from VQE)\n",
        "\n",
        "optimizer = cudaq.optimizers.COBYLA()\n",
        "\n",
        "# 'cudaq.vqe' executes Variational Quantum Eigensolver (VQE)\n",
        "# Internally loops over parameters, evaluates energy, optimizes. Returns lowest energy and optimal parameters\n",
        "energy, parameters = cudaq.vqe(kernel,\n",
        "                               molecule,\n",
        "                               optimizer,\n",
        "                               parameter_count=parameter_count)\n",
        "\n",
        "print(f\"VQE minimum energy for NH₃: {energy} Hartree\")"
      ],
      "metadata": {
        "colab": {
          "base_uri": "https://localhost:8080/"
        },
        "id": "NjZMe20Q65LX",
        "outputId": "7cb7f627-186e-42ac-a487-88b91e2bad79"
      },
      "execution_count": null,
      "outputs": [
        {
          "output_type": "stream",
          "name": "stdout",
          "text": [
            "VQE minimum energy for NH₃: -55.43534589340438 Hartree\n"
          ]
        }
      ]
    },
    {
      "cell_type": "markdown",
      "source": [
        "Let us understand and compare the results: The VQE result of is in 'Hartree'. These are atomic units used for constructing the molecular Hamiltonian with the quantum chemistry backend `cudaq.chemistry.create_molecular_hamiltonian(...)`.\n",
        "\n",
        "Even though we are doing a quantum variational calculation, the observable (the Hamiltonian) is derived from the same electronic structure Hamiltonian as classical Hartree-Fock SCF, which is typically expressed in Hartrees:\n",
        "\n",
        "> $H = \\sum_{pq} h_{pq} a_p^\\dagger a_q + \\frac{1}{2} \\sum_{pqrs} h_{pqrs} a_p^\\dagger a_q^\\dagger a_r a_s$\n",
        "\n",
        "where $h_{pq}$, $h_{pqrs}$ are integrals in Hartree units.\n"
      ],
      "metadata": {
        "id": "UmtlBsiqyND_"
      }
    },
    {
      "cell_type": "code",
      "source": [
        "print(f\"Quantum Simulation for NH₃: {energy} Hartree\")\n",
        "print(f\"Classic Simulation for NH₃: {energy_classical} Hartree\")\n",
        "print(f\"Correlation Energy for NH₃: {energy_classical - energy} Hartree (Classical - Quantum)\")"
      ],
      "metadata": {
        "id": "06uEMn6zw5vL"
      },
      "execution_count": null,
      "outputs": []
    },
    {
      "cell_type": "markdown",
      "source": [
        "The **classical simulation** is using 'Restricted Hartree-Fock (RHF)'. This is so-called a 'mean-field method' that uses a single Slater determinant to approximate the ground state. The result is:\n",
        "\n",
        "> $E_{\\text{HF}} = -56.1956225560141 \\ \\text{Hartree}$\n",
        "\n",
        "This approach ignores electron correlation beyond exchange interactions for computational efficiency.\n",
        "\n",
        "The **quantum simulation** uses VQE with a UCCSD ansatz, which goes beyond Hartree-Fock, because it captures electron correlation by including excited Slater determinants in a variational way. This approximates so-called 'Full Configuration Interaction (FCI)' more closely and gives the more exact solution in the chosen basis. The result is:\n",
        "\n",
        "> $E_{\\text{VQE}} \\approx -55.43534589340438 \\ \\text{Hartree}$\n",
        "* This is lower than the HF energy, as expected.\n",
        "\n",
        "The difference of\n",
        "\n",
        "> $\\Delta E = E_{\\text{HF}} - E_{\\text{VQE}} \\approx -0.76027666261 \\ \\text{Hartree}$\n",
        "\n",
        "is the correlation energy captured by the UCCSD ansatz but missed by Hartree-Fock. So the quantum result is more accurate, assuming the ansatz is expressive enough and optimization converges well.\n",
        "\n",
        "Running a full configuration interaction (FCI) for comparison would give us the exact ground state energy in the basis set and confirm that the VQE is close to the true minimum."
      ],
      "metadata": {
        "id": "2JfPlyT-ySGW"
      }
    },
    {
      "cell_type": "markdown",
      "source": [
        "> **More importantly: This calculation is going to take 1 hours if we proceed with our calculation from above on a single L4 GPU . This means we need to think how we distribute the calculation.**"
      ],
      "metadata": {
        "id": "z2-wQoiP40Xr"
      }
    },
    {
      "cell_type": "markdown",
      "source": [
        "<font color=\"blue\">**Multi-GPU / Multi-Node- Quantum Simulation of Ground State Energy for NH₃**"
      ],
      "metadata": {
        "id": "iflEVdWuHFSx"
      }
    },
    {
      "cell_type": "markdown",
      "source": [
        "<font color=\"blue\">*Overview of Resource Requirements*\n",
        "\n",
        "We can speed up the calculation time by reducing the communication time from O(N²) to O(log N) by exploiting parallelization and using the ideal number of GPUs. **But how exactly do we determine the proper approach to distribute quantum simulation workload across how many GPUs and potentially nodes to speed up the calculation?**\n",
        "\n",
        "We need to understand the task that we are running and the molecule we are analyzing. From there we can derive the number of terms and whether or not we can parallelize calculations.\n",
        "\n",
        "Our use case is applying **Variational Quantum Eigensolvers** to calculate the **expectation value** of the **molecular Hamiltonian $H$** with respect to a parameterized quantum state $|\\psi(\\theta)\\rangle$:\n",
        "\n",
        "> $E(\\theta) = \\langle \\psi(\\theta) | H | \\psi(\\theta) \\rangle$\n",
        "\n",
        "The molecular Hamiltonian $H$ is represented in the **second quantized fermionic form**, which is then transformed (e.g., via **Jordan-Wigner** or **Bravyi-Kitaev**) into a **qubit Hamiltonian**:\n",
        "\n",
        "> $H = \\sum_i c_i P_i$\n",
        "\n",
        "where:\n",
        "\n",
        "* $c_i$ are scalar coefficients (from electronic integrals),\n",
        "* $P_i$ are **tensor products of Pauli operators**: e.g., $Z \\otimes I \\otimes X \\otimes Z \\otimes \\dots$\n",
        "\n",
        "The number of these **Pauli strings** depends on:\n",
        "\n",
        "* Number of **orbitals** (determines qubits),\n",
        "* Symmetry of the system,\n",
        "* Type of fermion-to-qubit transformation.\n",
        "\n",
        "For **NH₃**, the system leads to **16 qubits**, and we will see that after transformation and grouping (via Hamiltonian simplification or symmetries), the Hamiltonian is decomposed into **156 distinct Pauli terms**. These are what we need to measure to reconstruct the energy, and these are the blocks that we need to distribute.\n",
        "\n",
        "Thanks to the **observable parallelization** (Hamiltonian term) we can do these calculations all independently. This means that we will be using **8 GPUs and 1 node (machine)**. Before we get to the code on Google Cloud, let us dive a bit deeper on how we got to those numbers."
      ],
      "metadata": {
        "id": "teogfh0ndNZr"
      }
    },
    {
      "cell_type": "markdown",
      "source": [
        "<font color=\"blue\">*How many qubits do we need?*\n",
        "\n",
        "[Ammonia](https://en.m.wikipedia.org/wiki/Ammonia) (NH₃) has a Trigonal pyramidal structure with three hydrogen atoms forming a triangular base:\n",
        "\n",
        "![science](https://upload.wikimedia.org/wikipedia/commons/thumb/0/03/Ammoniak.svg/195px-Ammoniak.svg.png)\n",
        "\n",
        "```\n",
        "# Resource Requirements\n",
        "print(f\"Number of electrons: {electron_count}\")\n",
        "print(f\"Number of orbitals: {data.n_orbitals}\")\n",
        "print(f\"Number of qubits: {qubit_count}\")\n",
        "\n",
        "Number of electrons: 10\n",
        "Number of orbitals: 8\n",
        "Number of qubits: 16\n",
        "```\n",
        "\n",
        "*How the number of electrons and orbitals lead us to qubit count:*\n",
        "* NH₃ has **10 valence electrons** (7 electrons from N and 1 from each H) and **8 atomic orbitals** (atomic number of N =7 and of H=1).\n",
        "* In the **STO-3G** basis set, 8 atomic orbitals of NH₃ form **8 molecular orbitals** (including bonding, some anti-bonding, non-bonding).\n",
        "* Each **molecular orbital can host 2 electrons** (spin-up, spin-down). So we have 8 spin-orbitals = **16 spin states** and 10 electrons to place that fill these molecular orbitals, following the Aufbau principle, Hund's rule, and Pauli exclusion principle.\n",
        "* 16 spin states leads to **16 qubits**: Each **qubit** encodes a **spin orbital** — a mode that can be **occupied (1)** or **empty (0)**. With 16 qubits, the full Hilbert space is $\\mathbb{C}^{2^{16}}$, but only **8008 basis states** (with 10 particles) are physically allowed.\n",
        "\n",
        "*Additional considerations:*\n",
        "* **Ansatz choice is important**: we use **UCCSD**, which naturally respects electron count (10), spin conservation, and it generates excited Slater determinants within the right particle sector.\n",
        "* **Qubit cost is from orbitals!**: Not from electrons, but from **spin orbitals** (qubits = 2 x number of spatial orbitals).\n",
        "* **State vector still grows exponentially**: Even though only a small subspace is used, we must simulate all amplitudes unless we do low-rank approximations (like tensor networks or sparse encodings, which we can cover in another tutorial).\n",
        "* **Computation load is combinatorial**: For VQE to minimize energy, we evaluate $\\langle \\psi(\\theta) | P_i | \\psi(\\theta) \\rangle$ for 156 Pauli terms, where $|\\psi(\\theta)\\rangle$ is a state built from 10 electrons in 16 modes.\n",
        "* This is why **NH₃ is much more expensive than H₂**, even if both are “small” molecules chemically. Comparing with our previous molecule H₂, where we finished the calculation within a second, we have following computational and chemical differences to NH₃:\n",
        "\n"
      ],
      "metadata": {
        "id": "orC5j7cCck4P"
      }
    },
    {
      "cell_type": "markdown",
      "source": [
        "<font color=\"blue\">*How many terms do we have?*\n",
        "\n",
        "We said that there are 156 Pauli strings in the NH₃ Hamiltonian. It directly influences the number of GPUs that we will be using. This number comes from the structure of the electronic Hamiltonian and how it is mapped from fermionic operators to qubit operators. We skipped over a few steps when we talked about the Hamiltonian. As a tldr, the number of 156 distinct Pauli strings in the qubit Hamiltonian is derived from:\n",
        "* the molecular structure (NH₃),\n",
        "* the chosen **basis set** (STO-3G),\n",
        "* the **fermionic interaction structure**,\n",
        "* the **mapping method** (likely Jordan-Wigner or Bravyi-Kitaev), and\n",
        "* the **simplification routines**.\n",
        "\n",
        "*So let us go in more detail now. The molecule (NH₃) and the basis set are given (STO-3G), so we proceed with the fermionic interaction*:\n",
        "\n",
        "**(a) Fermionic Hamiltonian (Second Quantized Form)**. The starting point is the **electronic structure (fermionic) Hamiltonian** in second quantization, which can be described as:\n",
        "\n",
        "> $H = \\sum_{pq} h_{pq} a_p^\\dagger a_q + \\frac{1}{2} \\sum_{pqrs} h_{pqrs} a_p^\\dagger a_q^\\dagger a_r a_s$\n",
        "\n",
        "* $h_{pq}$ are **one-electron integrals** (kinetic + nuclear attraction),\n",
        "* $h_{pqrs}$ are **two-electron integrals** (electron-electron repulsion),\n",
        "* $a^\\dagger, a$ are **fermionic creation/annihilation operators**.\n",
        "\n",
        "The number of such terms depends on:\n",
        "\n",
        "* The **number of spin orbitals** $N$ (each spatial orbital has two spins).\n",
        "* For NH₃ with the **STO-3G** basis, we typically get **8 spatial orbitals** → **16 spin orbitals**.\n",
        "\n",
        "This yields:\n",
        "\n",
        "* $N^2 = 256$ one-electron terms\n",
        "* $N^4 = 65,536$ two-electron terms\n",
        "\n",
        "*65,536 two-electron terms! This is an extremely large number - imagine we would need to distribute the calculation of all these terms across GPUs (or TPUs). Luckily, many terms are **zero due to symmetry** or **identical orbitals**. So even before the qubit mapping (b), the **fermionic Hamiltonian is sparsified** — typically down to a few hundred terms.*\n",
        "\n",
        "**(b) Mapping to Qubits (Jordan-Wigner or Bravyi-Kitaev)**. Each fermionic term is now mapped to **Pauli strings** over $N$ qubits.\n",
        "\n",
        "* The **Jordan-Wigner mapping** transforms:\n",
        "\n",
        "> $a_p^\\dagger a_q \\mapsto$ linear combination of Pauli strings like $XZXI...$\n",
        "\n",
        "* Two-body terms like $a_p^\\dagger a_q^\\dagger a_r a_s$ can map to **up to 8 Pauli strings each**.\n",
        "\n",
        "However:\n",
        "\n",
        "* Many terms **cancel or simplify**.\n",
        "* Pauli strings that are **identical** but have opposite coefficients cancel.\n",
        "* Others **merge** if they’re identical up to a scalar.\n",
        "\n",
        "*This means that **the number of distinct Pauli strings in the final Hamiltonian** is much smaller than the number of original fermionic terms.*\n",
        "\n",
        "**(c) Final Hamiltonian Construction**. Our libraries like **OpenFermion**, **PySCF**, and **CUDA-Q** do the following:\n",
        "\n",
        "* Build the molecular integrals from geometry and basis set.\n",
        "* Construct the fermionic Hamiltonian.\n",
        "* Apply the fermion-to-qubit transformation.\n",
        "* Combine like terms and simplify.\n",
        "\n",
        "*In case of NH₃ (with STO-3G functional that we chose), this results in **156 distinct Pauli strings**. This number is the total number of unique, non-zero Pauli terms left **after simplification, cancellation, and basis transformation**, for **16 qubits representing NH₃** in the given basis.*\n",
        "\n",
        "***But be careful:*** *If we chose a **different molecule** we would get different terms, and with a **different basis set** (e.g., cc-pVDZ) we would get more orbitals which leads to more terms. However, using a **different mapping** than Jordan-Wigner (e.g., Bravyi-Kitaev vs JW) we would get a different structure, but typically same number of terms after simplification.*\n",
        "\n",
        "\n",
        "\n",
        "\n"
      ],
      "metadata": {
        "id": "iEfIcpDNFgzn"
      }
    },
    {
      "cell_type": "markdown",
      "source": [
        "<font color=\"blue\">*How many GPUs and Machines will we use?*\n",
        "\n",
        "*Why are we using 8 GPUs and each GPU compute its subset independently?*\n",
        "\n",
        "**(a) Calculating expectation values leverages the linearity and tensor product structure.** The total expectation value is a **linear combination**:\n",
        "\n",
        "> $\\langle H \\rangle = \\sum_i c_i \\langle \\psi | P_i | \\psi \\rangle$\n",
        "\n",
        "Each term $\\langle \\psi | P_i | \\psi \\rangle$ is **statistically independent** of the others (we measure one at a time), so:\n",
        "\n",
        "* **Each GPU can compute a different subset of $P_i$'s**.\n",
        "* They all share the same **state $|\\psi\\rangle$**, which is simulated in parallel (or broadcasted).\n",
        "* There are **no interdependencies** between $P_i$ and $P_j$ until the final sum.\n",
        "\n",
        "This is **Observable Parallelization**:\n",
        "* It's **data parallel** over Hamiltonian terms.\n",
        "* Communication happens **only once**, after local summation.\n",
        "\n",
        "**(b) We are using 8 GPUs for calculating the 156 Pauli terms**, because:\n",
        "* $156 \\div 8 = 19.5$ → this is a nearly perfect workload division\n",
        "* **Low variance in task distribution**: only 1 Pauli term difference between any two GPUs\n",
        "* It keeps all GPUs **maximally utilized**, **no bottlenecks**, no overloading.\n",
        "* **Each GPU processes its chunk fully in memory**.\n",
        "\n",
        "So 156 terms match 8 GPUs with near-zero imbalance. This is the computational sweet spot for our task.\n",
        "\n",
        "**(c) This distribution is communication efficient in (log₂(N))**\n",
        "\n",
        "This is using **tree reduction** (or `MPI_Allreduce`) to sum partial energy contributions from each GPU:\n",
        "\n",
        "* Step 1: 8 GPUs → 4 partial sums\n",
        "* Step 2: 4 → 2 sums\n",
        "* Step 3: 2 → 1 final energy\n",
        "\n",
        "This gives: **log₂(N) steps**, not N steps. For 8 GPUs we have 3 steps only! The communication overhead stays **logarithmic**, not quadratic."
      ],
      "metadata": {
        "id": "GtaxMU4UJTlB"
      }
    },
    {
      "cell_type": "markdown",
      "source": [
        "<font color=\"blue\">*Run Multi-GPU / Multi-Node Quantum Simulation of Ground State Energy for NH₃ with HPC*"
      ],
      "metadata": {
        "id": "_-M3aywnHg21"
      }
    },
    {
      "cell_type": "markdown",
      "source": [
        "```\n",
        "# 1. Create directory and files in Cloud Shell\n",
        "mkdir ~/nh3-vqe-project && cd ~/nh3-vqe-project\n",
        "\n",
        "# 2. Create and save A4-optimized VQE code\n",
        "nano distributed_vqe.py\n",
        "\n",
        "# 3. Create and save A4 deployment script  \n",
        "nano deploy_nh3_vqe_a4.sh\n",
        "\n",
        "# 4. Make executable and run\n",
        "chmod +x deploy_nh3_vqe_a4.sh\n",
        "./deploy_nh3_vqe_a4.sh\n",
        "```\n",
        "\n"
      ],
      "metadata": {
        "id": "CVHbPfAa7Nv4"
      }
    },
    {
      "cell_type": "code",
      "source": [
        "# A4-Optimized VQE Code\n",
        "#!/usr/bin/env python3\n",
        "\"\"\"\n",
        "Simplified Multi-GPU VQE for NH3 molecule\n",
        "Target: -55.43534589340438 Hartree\n",
        "Core functionality only - no visualizations\n",
        "\"\"\"\n",
        "\n",
        "import numpy as np\n",
        "import cudaq\n",
        "from mpi4py import MPI\n",
        "import os\n",
        "import time\n",
        "from scipy.optimize import minimize\n",
        "\n",
        "# MPI Setup\n",
        "comm = MPI.COMM_WORLD\n",
        "rank = comm.Get_rank()\n",
        "size = comm.Get_size()\n",
        "\n",
        "def setup_environment():\n",
        "    \"\"\"Setup GPU environment\"\"\"\n",
        "    local_rank = rank % size  # Flexible for different GPU counts\n",
        "    os.environ['CUDA_VISIBLE_DEVICES'] = str(local_rank)\n",
        "    cudaq.set_target(\"nvidia\")\n",
        "\n",
        "    if rank == 0:\n",
        "        print(f\"🚀 Multi-GPU VQE: {size} GPUs\")\n",
        "\n",
        "    return local_rank\n",
        "\n",
        "def create_nh3_molecule():\n",
        "    \"\"\"Create NH3 molecular Hamiltonian\"\"\"\n",
        "    geometry = [\n",
        "        [\"N\", (0.0000, 0.0000, 0.0000)],\n",
        "        [\"H\", (0.0000, 0.0000, 1.0120)],\n",
        "        [\"H\", (0.9377, 0.0000, -0.3430)],\n",
        "        [\"H\", (-0.9377, 0.0000, -0.3430)]\n",
        "    ]\n",
        "\n",
        "    hamiltonian, data = cudaq.chemistry.create_molecular_hamiltonian(\n",
        "        geometry, \"sto-3g\", 1, 0)\n",
        "\n",
        "    if rank == 0:\n",
        "        print(f\"NH3: {data.n_electrons} electrons, {2 * data.n_orbitals} qubits\")\n",
        "\n",
        "    return hamiltonian, data\n",
        "\n",
        "@cudaq.kernel\n",
        "def uccsd_kernel(thetas: list[float], electron_count: int, qubit_count: int):\n",
        "    \"\"\"UCCSD ansatz kernel\"\"\"\n",
        "    qubits = cudaq.qvector(qubit_count)\n",
        "\n",
        "    # Initialize Hartree-Fock state\n",
        "    for i in range(electron_count):\n",
        "        x(qubits[i])\n",
        "\n",
        "    # Apply UCCSD ansatz\n",
        "    cudaq.kernels.uccsd(qubits, thetas, electron_count, qubit_count)\n",
        "\n",
        "class SimpleVQE:\n",
        "    \"\"\"Simplified VQE class\"\"\"\n",
        "\n",
        "    def __init__(self, hamiltonian, data):\n",
        "        self.hamiltonian = hamiltonian\n",
        "        self.data = data\n",
        "        self.electron_count = data.n_electrons\n",
        "        self.qubit_count = 2 * data.n_orbitals\n",
        "        self.parameter_count = cudaq.kernels.uccsd_num_parameters(\n",
        "            self.electron_count, self.qubit_count)\n",
        "\n",
        "        if rank == 0:\n",
        "            print(f\"Parameters: {self.parameter_count}\")\n",
        "\n",
        "    def expectation_value(self, theta):\n",
        "        \"\"\"Compute expectation value\"\"\"\n",
        "        result = cudaq.observe(\n",
        "            uccsd_kernel,\n",
        "            self.hamiltonian,\n",
        "            theta,\n",
        "            self.electron_count,\n",
        "            self.qubit_count\n",
        "        )\n",
        "\n",
        "        energy = result.expectation()\n",
        "\n",
        "        if rank == 0:\n",
        "            print(f\"Energy: {energy:.8f} Eh\")\n",
        "\n",
        "        return energy\n",
        "\n",
        "    def optimize(self):\n",
        "        \"\"\"Run VQE optimization\"\"\"\n",
        "\n",
        "        # Initialize parameters\n",
        "        if rank == 0:\n",
        "            np.random.seed(42)\n",
        "            x0 = np.random.normal(0, 0.1, self.parameter_count)\n",
        "            print(\"🎯 Starting VQE optimization...\")\n",
        "            print(f\"Target: -55.43534589340438 Hartree\")\n",
        "        else:\n",
        "            x0 = np.empty(self.parameter_count)\n",
        "\n",
        "        comm.Bcast(x0, root=0)\n",
        "\n",
        "        # Optimization\n",
        "        if rank == 0:\n",
        "            start_time = time.time()\n",
        "\n",
        "            result = minimize(\n",
        "                self.expectation_value,\n",
        "                x0,\n",
        "                method='COBYLA',\n",
        "                options={'maxiter': 50, 'disp': True}\n",
        "            )\n",
        "\n",
        "            total_time = time.time() - start_time\n",
        "\n",
        "            print(f\"\\n🏁 VQE Results:\")\n",
        "            print(f\"   Final energy: {result.fun:.8f} Eh\")\n",
        "            print(f\"   Target energy: -55.43534589340438 Eh\")\n",
        "            print(f\"   Error: {abs(result.fun - (-55.43534589340438)):.8f} Eh\")\n",
        "            print(f\"   Time: {total_time:.1f}s ({total_time/60:.1f} min)\")\n",
        "            print(f\"   Converged: {result.success}\")\n",
        "\n",
        "            return result\n",
        "        else:\n",
        "            # Worker processes\n",
        "            try:\n",
        "                while True:\n",
        "                    pass\n",
        "            except:\n",
        "                pass\n",
        "\n",
        "def main():\n",
        "    \"\"\"Main execution\"\"\"\n",
        "\n",
        "    # Setup\n",
        "    setup_environment()\n",
        "\n",
        "    if rank == 0:\n",
        "        print(\"🧪 NH3 Multi-GPU VQE\")\n",
        "        print(\"=\" * 30)\n",
        "\n",
        "    # Create molecule\n",
        "    hamiltonian, data = create_nh3_molecule()\n",
        "\n",
        "    # Run VQE\n",
        "    vqe = SimpleVQE(hamiltonian, data)\n",
        "\n",
        "    if rank == 0:\n",
        "        result = vqe.optimize()\n",
        "    else:\n",
        "        vqe.optimize()\n",
        "\n",
        "    if rank == 0:\n",
        "        print(\"✅ NH3 VQE completed!\")\n",
        "\n",
        "if __name__ == \"__main__\":\n",
        "    main()"
      ],
      "metadata": {
        "id": "Lt6_uNZg08nK"
      },
      "execution_count": null,
      "outputs": []
    },
    {
      "cell_type": "code",
      "source": [
        "# Deployment Script\n",
        "#!/bin/bash\n",
        "# deploy_nh3_vqe_alternative.sh - Using more available GPUs\n",
        "set -e\n",
        "\n",
        "# Configuration with more available hardware\n",
        "PROJECT_ID=$(gcloud config get-value project)\n",
        "INSTANCE_NAME=\"nh3-vqe-node\"\n",
        "ZONE=\"us-central1-a\"\n",
        "\n",
        "MACHINE_TYPE=\"n1-standard-8\"\n",
        "ACCELERATOR=\"type=nvidia-tesla-t4,count=4\"\n",
        "NUM_GPUS=4\n",
        "\n",
        "echo \" NH3 VQE with Available Hardware\"\n",
        "echo \"   Project: $PROJECT_ID\"\n",
        "echo \"   Machine: $MACHINE_TYPE\"\n",
        "echo \"   GPUs: $NUM_GPUS x T4\"\n",
        "\n",
        "# 1. Create instance with available hardware\n",
        "echo \"Creating compute instance...\"\n",
        "gcloud compute instances create $INSTANCE_NAME \\\n",
        "    --machine-type=$MACHINE_TYPE \\\n",
        "    --zone=$ZONE \\\n",
        "    --image-family=ubuntu-2004-lts \\\n",
        "    --image-project=ubuntu-os-cloud \\\n",
        "    --boot-disk-size=100GB \\\n",
        "    --boot-disk-type=pd-ssd \\\n",
        "    --accelerator=$ACCELERATOR \\\n",
        "    --maintenance-policy=TERMINATE \\\n",
        "    --restart-on-failure \\\n",
        "    --metadata=\"install-nvidia-driver=True\" \\\n",
        "    --scopes=https://www.googleapis.com/auth/cloud-platform\n",
        "\n",
        "echo \"⏳ Waiting for instance...\"\n",
        "sleep 90\n",
        "\n",
        "# 2. Install dependencies\n",
        "echo \"📦 Installing dependencies...\"\n",
        "gcloud compute ssh $INSTANCE_NAME --zone=$ZONE << 'SETUP'\n",
        "    # Wait for automatic GPU driver installation\n",
        "    echo \"Waiting for NVIDIA driver installation...\"\n",
        "    while ! nvidia-smi &> /dev/null; do\n",
        "        sleep 10\n",
        "        echo \"Still waiting for GPU drivers...\"\n",
        "    done\n",
        "    echo \"NVIDIA drivers ready\"\n",
        "\n",
        "    # Update system\n",
        "    sudo apt update -y\n",
        "\n",
        "    # Install Python and pip\n",
        "    sudo apt install -y python3 python3-pip\n",
        "\n",
        "    # Install Python dependencies\n",
        "    pip3 install --upgrade pip\n",
        "    pip3 install cudaq mpi4py scipy numpy\n",
        "\n",
        "    # Install OpenMPI\n",
        "    sudo apt install -y openmpi-bin openmpi-common libopenmpi-dev\n",
        "\n",
        "    # Configure environment\n",
        "    echo 'export OMPI_MCA_opal_cuda_support=true' >> ~/.bashrc\n",
        "    echo 'export OMP_NUM_THREADS=1' >> ~/.bashrc\n",
        "    source ~/.bashrc\n",
        "\n",
        "    # Verify GPU setup\n",
        "    nvidia-smi\n",
        "\n",
        "    echo \"Setup completed\"\n",
        "SETUP\n",
        "\n",
        "# 3. Copy VQE code\n",
        "echo \"📁 Copying VQE code...\"\n",
        "gcloud compute scp distributed_vqe.py $INSTANCE_NAME:~/nh3_vqe.py --zone=$ZONE\n",
        "\n",
        "# 4. Execute VQE with appropriate GPU count\n",
        "echo \"🚀 Running NH3 VQE on $NUM_GPUS GPUs...\"\n",
        "gcloud compute ssh $INSTANCE_NAME --zone=$ZONE << \"RUN\"\n",
        "    # Source environment and run VQE\n",
        "    source ~/.bashrc\n",
        "    echo \"Starting NH3 VQE...\"\n",
        "    mpirun -np 4 python3 nh3_vqe.py\n",
        "RUN\n",
        "\n",
        "# 5. Cleanup\n",
        "read -p \"Delete instance? (Y/n): \" -n 1 -r\n",
        "echo \"\"\n",
        "if [[ ! $REPLY =~ ^[Nn]$ ]]; then\n",
        "    gcloud compute instances delete $INSTANCE_NAME --zone=$ZONE --quiet\n",
        "    echo \"Cleanup completed\"\n",
        "fi\n",
        "\n",
        "echo \"NH3 VQE completed!\""
      ],
      "metadata": {
        "id": "qDS9j2k85B9Q"
      },
      "execution_count": null,
      "outputs": []
    }
  ]
}