{
  "nbformat": 4,
  "nbformat_minor": 0,
  "metadata": {
    "colab": {
      "provenance": [],
      "collapsed_sections": [
        "M9kWx7lFrihM",
        "qVsuKpDdrHlk",
        "Gta19o5arDxT",
        "CFVt9ayBrltq"
      ],
      "machine_shape": "hm",
      "gpuType": "L4",
      "authorship_tag": "ABX9TyNkfIfGhhK/i0Bjn2pSeReg",
      "include_colab_link": true
    },
    "kernelspec": {
      "name": "python3",
      "display_name": "Python 3"
    },
    "language_info": {
      "name": "python"
    },
    "accelerator": "GPU"
  },
  "cells": [
    {
      "cell_type": "markdown",
      "metadata": {
        "id": "view-in-github",
        "colab_type": "text"
      },
      "source": [
        "<a href=\"https://colab.research.google.com/github/deltorobarba/sciences/blob/master/quantum_chemistry.ipynb\" target=\"_parent\"><img src=\"https://colab.research.google.com/assets/colab-badge.svg\" alt=\"Open In Colab\"/></a>"
      ]
    },
    {
      "cell_type": "markdown",
      "source": [
        "# **Quantum Chemistry with Variational Quantum Eigensolver**"
      ],
      "metadata": {
        "id": "m2XV-ATIMsR6"
      }
    },
    {
      "cell_type": "markdown",
      "source": [
        "![sciences](https://raw.githubusercontent.com/deltorobarba/repo/master/sciences_5000.png)"
      ],
      "metadata": {
        "id": "nvEWmdDiNZpG"
      }
    },
    {
      "cell_type": "markdown",
      "source": [
        "### **Variational Quantum Eigensolver to optimize an Ising model with Google Cirq**"
      ],
      "metadata": {
        "id": "88f6pDa0sJQW"
      }
    },
    {
      "cell_type": "markdown",
      "source": [
        "Code example: Use the variational quantum eigensolver in Cirq to optimize an Ising model. This demonstrates the four key components of VQE: defining the Hamiltonian (the problem to solve), creating a parameterized quantum circuit (the Ansatz), computing the expectation value of the Hamiltonian, and optimizing the parameters to find the ground state energy."
      ],
      "metadata": {
        "id": "usdBH0a6sMi0"
      }
    },
    {
      "cell_type": "code",
      "source": [
        "!pip install cirq -q"
      ],
      "metadata": {
        "id": "IfSn-wYZsQNt",
        "colab": {
          "base_uri": "https://localhost:8080/"
        },
        "outputId": "f5b31cf6-5c0f-4b8b-86ba-4a2d3d490409"
      },
      "execution_count": 1,
      "outputs": [
        {
          "output_type": "stream",
          "name": "stdout",
          "text": [
            "\u001b[?25l   \u001b[90m━━━━━━━━━━━━━━━━━━━━━━━━━━━━━━━━━━━━━━━━\u001b[0m \u001b[32m0.0/2.0 MB\u001b[0m \u001b[31m?\u001b[0m eta \u001b[36m-:--:--\u001b[0m\r\u001b[2K   \u001b[90m━━━━━━━━━━━━━━━━━━━━━━━━━━━━━━━━━━━━━━━━\u001b[0m \u001b[32m2.0/2.0 MB\u001b[0m \u001b[31m68.9 MB/s\u001b[0m eta \u001b[36m0:00:00\u001b[0m\n",
            "\u001b[?25h\u001b[?25l   \u001b[90m━━━━━━━━━━━━━━━━━━━━━━━━━━━━━━━━━━━━━━━━\u001b[0m \u001b[32m0.0/597.5 kB\u001b[0m \u001b[31m?\u001b[0m eta \u001b[36m-:--:--\u001b[0m\r\u001b[2K   \u001b[90m━━━━━━━━━━━━━━━━━━━━━━━━━━━━━━━━━━━━━━━━\u001b[0m \u001b[32m597.5/597.5 kB\u001b[0m \u001b[31m39.7 MB/s\u001b[0m eta \u001b[36m0:00:00\u001b[0m\n",
            "\u001b[?25h\u001b[?25l   \u001b[90m━━━━━━━━━━━━━━━━━━━━━━━━━━━━━━━━━━━━━━━━\u001b[0m \u001b[32m0.0/72.0 kB\u001b[0m \u001b[31m?\u001b[0m eta \u001b[36m-:--:--\u001b[0m\r\u001b[2K   \u001b[90m━━━━━━━━━━━━━━━━━━━━━━━━━━━━━━━━━━━━━━━━\u001b[0m \u001b[32m72.0/72.0 kB\u001b[0m \u001b[31m6.2 MB/s\u001b[0m eta \u001b[36m0:00:00\u001b[0m\n",
            "\u001b[2K   \u001b[90m━━━━━━━━━━━━━━━━━━━━━━━━━━━━━━━━━━━━━━━━\u001b[0m \u001b[32m425.1/425.1 kB\u001b[0m \u001b[31m38.1 MB/s\u001b[0m eta \u001b[36m0:00:00\u001b[0m\n",
            "\u001b[2K   \u001b[90m━━━━━━━━━━━━━━━━━━━━━━━━━━━━━━━━━━━━━━━━\u001b[0m \u001b[32m2.8/2.8 MB\u001b[0m \u001b[31m61.5 MB/s\u001b[0m eta \u001b[36m0:00:00\u001b[0m\n",
            "\u001b[?25h"
          ]
        }
      ]
    },
    {
      "cell_type": "code",
      "source": [
        "import cirq\n",
        "import numpy as np\n",
        "import scipy.optimize\n",
        "\n",
        "# 1. Define the Hamiltonian (Ising Model)\n",
        "def ising_hamiltonian(qubits, J=1.0, h=0.5):\n",
        "    \"\"\"Creates an Ising model Hamiltonian.\"\"\"\n",
        "    hamiltonian = cirq.PauliSum()\n",
        "    for i in range(len(qubits)):\n",
        "        hamiltonian += -J * cirq.Z(qubits[i]) * cirq.Z(qubits[(i + 1) % len(qubits)])  # Periodic boundary\n",
        "        hamiltonian += -h * cirq.X(qubits[i])  # Using X instead of Z for transverse field\n",
        "    return hamiltonian\n",
        "\n",
        "# 2. Define the Ansatz (Parameterized Quantum Circuit)\n",
        "def ansatz(qubits, params):\n",
        "    \"\"\"Creates a simple hardware-efficient ansatz.\"\"\"\n",
        "    circuit = cirq.Circuit()\n",
        "\n",
        "    # First layer of rotations\n",
        "    for i, qubit in enumerate(qubits):\n",
        "        circuit.append(cirq.rx(params[2 * i])(qubit))\n",
        "        circuit.append(cirq.rz(params[2 * i + 1])(qubit))\n",
        "\n",
        "    # Entangling layer\n",
        "    for i in range(len(qubits)):\n",
        "        circuit.append(cirq.CZ(qubits[i], qubits[(i + 1) % len(qubits)]))\n",
        "\n",
        "    # Second layer of rotations\n",
        "    offset = 2 * len(qubits)\n",
        "    for i, qubit in enumerate(qubits):\n",
        "        circuit.append(cirq.rx(params[offset + 2 * i])(qubit))\n",
        "        circuit.append(cirq.rz(params[offset + 2 * i + 1])(qubit))\n",
        "\n",
        "    return circuit\n",
        "\n",
        "# 3. Calculate the Expectation Value\n",
        "def expectation_value(qubits, params, hamiltonian, simulator):\n",
        "    \"\"\"Calculates the expectation value of the Hamiltonian.\"\"\"\n",
        "    circuit = ansatz(qubits, params)\n",
        "\n",
        "    # The key fix: create a proper qubit-to-index mapping\n",
        "    qubit_map = {qubit: i for i, qubit in enumerate(qubits)}\n",
        "\n",
        "    result = simulator.simulate(circuit)\n",
        "    state_vector = result.final_state_vector\n",
        "\n",
        "    return hamiltonian.expectation_from_state_vector(state_vector, qubit_map).real\n",
        "\n",
        "# 4. Optimization\n",
        "def vqe_optimization(num_qubits, simulator, max_iterations=100):\n",
        "    \"\"\"Performs VQE optimization.\"\"\"\n",
        "    qubits = cirq.LineQubit.range(num_qubits)\n",
        "    hamiltonian = ising_hamiltonian(qubits)\n",
        "\n",
        "    # 4 parameters per qubit (2 rotation angles per layer × 2 layers)\n",
        "    initial_params = np.random.uniform(0, 2 * np.pi, 4 * num_qubits)\n",
        "\n",
        "    def cost_function(params):\n",
        "        return expectation_value(qubits, params, hamiltonian, simulator)\n",
        "\n",
        "    result = scipy.optimize.minimize(\n",
        "        cost_function,\n",
        "        initial_params,\n",
        "        method='COBYLA',\n",
        "        options={'maxiter': max_iterations}\n",
        "    )\n",
        "\n",
        "    # Return both the optimized energy and parameters\n",
        "    return result.fun, result.x\n",
        "\n",
        "# Example Usage\n",
        "def main():\n",
        "    num_qubits = 4\n",
        "    simulator = cirq.Simulator()\n",
        "\n",
        "    print(f\"Running VQE for {num_qubits} qubits...\")\n",
        "    ground_state_energy, optimal_params = vqe_optimization(num_qubits, simulator)\n",
        "\n",
        "    print(f\"Estimated Ground State Energy: {ground_state_energy}\")\n",
        "\n",
        "    # Optional: Visualize the optimal circuit\n",
        "    qubits = cirq.LineQubit.range(num_qubits)\n",
        "    optimal_circuit = ansatz(qubits, optimal_params)\n",
        "    print(\"\\nOptimal Circuit:\")\n",
        "    print(optimal_circuit)\n",
        "\n",
        "if __name__ == \"__main__\":\n",
        "    main()"
      ],
      "metadata": {
        "id": "pIjECvJDsSJs",
        "colab": {
          "base_uri": "https://localhost:8080/"
        },
        "outputId": "498a6cce-2b16-4875-dc55-8c810b1cca52"
      },
      "execution_count": 2,
      "outputs": [
        {
          "output_type": "stream",
          "name": "stdout",
          "text": [
            "Running VQE for 4 qubits...\n",
            "Estimated Ground State Energy: -4.1708570793271065\n",
            "\n",
            "Optimal Circuit:\n",
            "                                                   ┌───────────┐\n",
            "0: ───Rx(1.05π)───Rz(1.8π)─────@────────────────────@──────────────Rx(1.1π)─────Rz(0.693π)───\n",
            "                               │                    │\n",
            "1: ───Rx(1.05π)───Rz(1.46π)────@───@───Rx(1.05π)────┼Rz(0.818π)──────────────────────────────\n",
            "                                   │                │\n",
            "2: ───Rx(1.74π)───Rz(0.006π)───────@───@────────────┼Rx(1.67π)─────Rz(1.44π)─────────────────\n",
            "                                       │            │\n",
            "3: ───Rx(1.99π)───Rz(-1.94π)───────────@────────────@──────────────Rx(-1.97π)───Rz(0.14π)────\n",
            "                                                   └───────────┘\n"
          ]
        }
      ]
    },
    {
      "cell_type": "markdown",
      "source": [
        "### **Quantum Chemistry on H₂ with UCCSD with NVIDIA cuda-q**"
      ],
      "metadata": {
        "id": "NAEKBsyHr757"
      }
    },
    {
      "cell_type": "markdown",
      "source": [
        "###### **Install cudaq**"
      ],
      "metadata": {
        "id": "M9kWx7lFrihM"
      }
    },
    {
      "cell_type": "code",
      "source": [
        "!nvidia-smi"
      ],
      "metadata": {
        "colab": {
          "base_uri": "https://localhost:8080/"
        },
        "id": "w1n3GuZFZTby",
        "outputId": "6ae9b4a5-43ff-43ac-9b57-2907bac4f065"
      },
      "execution_count": null,
      "outputs": [
        {
          "output_type": "stream",
          "name": "stdout",
          "text": [
            "Sat May 24 14:17:00 2025       \n",
            "+-----------------------------------------------------------------------------------------+\n",
            "| NVIDIA-SMI 550.54.15              Driver Version: 550.54.15      CUDA Version: 12.4     |\n",
            "|-----------------------------------------+------------------------+----------------------+\n",
            "| GPU  Name                 Persistence-M | Bus-Id          Disp.A | Volatile Uncorr. ECC |\n",
            "| Fan  Temp   Perf          Pwr:Usage/Cap |           Memory-Usage | GPU-Util  Compute M. |\n",
            "|                                         |                        |               MIG M. |\n",
            "|=========================================+========================+======================|\n",
            "|   0  NVIDIA L4                      Off |   00000000:00:03.0 Off |                    0 |\n",
            "| N/A   35C    P8             11W /   72W |       0MiB /  23034MiB |      0%      Default |\n",
            "|                                         |                        |                  N/A |\n",
            "+-----------------------------------------+------------------------+----------------------+\n",
            "                                                                                         \n",
            "+-----------------------------------------------------------------------------------------+\n",
            "| Processes:                                                                              |\n",
            "|  GPU   GI   CI        PID   Type   Process name                              GPU Memory |\n",
            "|        ID   ID                                                               Usage      |\n",
            "|=========================================================================================|\n",
            "|  No running processes found                                                             |\n",
            "+-----------------------------------------------------------------------------------------+\n"
          ]
        }
      ]
    },
    {
      "cell_type": "code",
      "source": [
        "#!wget https://developer.download.nvidia.com/compute/cuda/repos/ubuntu2204/x86_64/cuda-keyring_1.0-1_all.deb\n",
        "#!dpkg -i cuda-keyring_1.0-1_all.deb\n",
        "#!apt-get update\n",
        "#!apt-get -y install libcublas-11-8 libcusolver-11-8 cuda-cudart-11-8\n",
        "#%pip install cuda-quantum"
      ],
      "metadata": {
        "id": "tqWBhLFomlGx"
      },
      "execution_count": null,
      "outputs": []
    },
    {
      "cell_type": "code",
      "source": [
        "import numpy as np\n",
        "print(np.__version__)"
      ],
      "metadata": {
        "colab": {
          "base_uri": "https://localhost:8080/"
        },
        "id": "oxWqYGrFogeC",
        "outputId": "74322ad1-6637-4797-b195-47d5766d3d79"
      },
      "execution_count": null,
      "outputs": [
        {
          "output_type": "stream",
          "name": "stdout",
          "text": [
            "1.26.4\n"
          ]
        }
      ]
    },
    {
      "cell_type": "markdown",
      "source": [
        "This error tells you that you still have NumPy 2.0 or higher installed, but CUDA-Q (or one of its dependencies) is trying to use np.string_ which was removed in NumPy 2.0.\n",
        "The key line is: AttributeError: `np.string_` was removed in the NumPy 2.0 release. Use `np.bytes_` instead."
      ],
      "metadata": {
        "id": "Y_u2HqpLpnWf"
      }
    },
    {
      "cell_type": "code",
      "source": [
        "# Force install NumPy < 2.0\n",
        "!pip install numpy==1.26.4 --force-reinstall -q"
      ],
      "metadata": {
        "colab": {
          "base_uri": "https://localhost:8080/"
        },
        "id": "qb9ISl9Ro7s9",
        "outputId": "6d2e8c7b-b605-4890-b2bb-5f751025e360"
      },
      "execution_count": null,
      "outputs": [
        {
          "output_type": "stream",
          "name": "stdout",
          "text": [
            "\u001b[?25l     \u001b[90m━━━━━━━━━━━━━━━━━━━━━━━━━━━━━━━━━━━━━━━━\u001b[0m \u001b[32m0.0/61.0 kB\u001b[0m \u001b[31m?\u001b[0m eta \u001b[36m-:--:--\u001b[0m\r\u001b[2K     \u001b[90m━━━━━━━━━━━━━━━━━━━━━━━━━━━━━━━━━━━━━━━━\u001b[0m \u001b[32m61.0/61.0 kB\u001b[0m \u001b[31m2.7 MB/s\u001b[0m eta \u001b[36m0:00:00\u001b[0m\n",
            "\u001b[?25h\u001b[?25l   \u001b[90m━━━━━━━━━━━━━━━━━━━━━━━━━━━━━━━━━━━━━━━━\u001b[0m \u001b[32m0.0/18.3 MB\u001b[0m \u001b[31m?\u001b[0m eta \u001b[36m-:--:--\u001b[0m\r\u001b[2K   \u001b[91m━━━━━━━━━━━━━━\u001b[0m\u001b[90m╺\u001b[0m\u001b[90m━━━━━━━━━━━━━━━━━━━━━━━━━\u001b[0m \u001b[32m6.6/18.3 MB\u001b[0m \u001b[31m198.7 MB/s\u001b[0m eta \u001b[36m0:00:01\u001b[0m\r\u001b[2K   \u001b[91m━━━━━━━━━━━━━━━━━━━━━━━━━━━━━\u001b[0m\u001b[91m╸\u001b[0m\u001b[90m━━━━━━━━━━\u001b[0m \u001b[32m13.6/18.3 MB\u001b[0m \u001b[31m201.2 MB/s\u001b[0m eta \u001b[36m0:00:01\u001b[0m\r\u001b[2K   \u001b[91m━━━━━━━━━━━━━━━━━━━━━━━━━━━━━━━━━━━━━━━\u001b[0m\u001b[91m╸\u001b[0m \u001b[32m18.2/18.3 MB\u001b[0m \u001b[31m208.6 MB/s\u001b[0m eta \u001b[36m0:00:01\u001b[0m\r\u001b[2K   \u001b[91m━━━━━━━━━━━━━━━━━━━━━━━━━━━━━━━━━━━━━━━\u001b[0m\u001b[91m╸\u001b[0m \u001b[32m18.2/18.3 MB\u001b[0m \u001b[31m208.6 MB/s\u001b[0m eta \u001b[36m0:00:01\u001b[0m\r\u001b[2K   \u001b[90m━━━━━━━━━━━━━━━━━━━━━━━━━━━━━━━━━━━━━━━━\u001b[0m \u001b[32m18.3/18.3 MB\u001b[0m \u001b[31m103.6 MB/s\u001b[0m eta \u001b[36m0:00:00\u001b[0m\n",
            "\u001b[?25h\u001b[31mERROR: pip's dependency resolver does not currently take into account all the packages that are installed. This behaviour is the source of the following dependency conflicts.\n",
            "thinc 8.3.6 requires numpy<3.0.0,>=2.0.0, but you have numpy 1.26.4 which is incompatible.\u001b[0m\u001b[31m\n",
            "\u001b[0m"
          ]
        }
      ]
    },
    {
      "cell_type": "markdown",
      "source": [
        "Important: After installing, you **MUST restart your kernel/runtime before running your code again. In Colab: Runtime → Restart runtime**.\n"
      ],
      "metadata": {
        "id": "Te6JxWSdo_ok"
      }
    },
    {
      "cell_type": "code",
      "source": [
        "import numpy as np\n",
        "print(np.__version__)  # Should show 1.26.4"
      ],
      "metadata": {
        "colab": {
          "base_uri": "https://localhost:8080/"
        },
        "id": "MBBJOwvHpA0F",
        "outputId": "de5c7388-7a37-48af-e2ca-21dd867d32a4"
      },
      "execution_count": null,
      "outputs": [
        {
          "output_type": "stream",
          "name": "stdout",
          "text": [
            "1.26.4\n"
          ]
        }
      ]
    },
    {
      "cell_type": "code",
      "source": [
        "!pip install openfermionpyscf==0.5 matplotlib==3.8.4 scipy==1.14.0 -q\n",
        "import matplotlib.pyplot as plt\n",
        "from scipy.optimize import minimize\n",
        "import numpy as np"
      ],
      "metadata": {
        "colab": {
          "base_uri": "https://localhost:8080/"
        },
        "id": "atWWMbHxkvSd",
        "outputId": "5508a60a-eaa7-4f67-8860-e45cb5ccd1c7"
      },
      "execution_count": null,
      "outputs": [
        {
          "output_type": "stream",
          "name": "stdout",
          "text": [
            "\u001b[?25l     \u001b[90m━━━━━━━━━━━━━━━━━━━━━━━━━━━━━━━━━━━━━━━━\u001b[0m \u001b[32m0.0/60.8 kB\u001b[0m \u001b[31m?\u001b[0m eta \u001b[36m-:--:--\u001b[0m\r\u001b[2K     \u001b[90m━━━━━━━━━━━━━━━━━━━━━━━━━━━━━━━━━━━━━━━━\u001b[0m \u001b[32m60.8/60.8 kB\u001b[0m \u001b[31m5.5 MB/s\u001b[0m eta \u001b[36m0:00:00\u001b[0m\n",
            "\u001b[?25h  Preparing metadata (setup.py) ... \u001b[?25l\u001b[?25hdone\n",
            "\u001b[2K   \u001b[90m━━━━━━━━━━━━━━━━━━━━━━━━━━━━━━━━━━━━━━━━\u001b[0m \u001b[32m11.6/11.6 MB\u001b[0m \u001b[31m89.1 MB/s\u001b[0m eta \u001b[36m0:00:00\u001b[0m\n",
            "\u001b[2K   \u001b[90m━━━━━━━━━━━━━━━━━━━━━━━━━━━━━━━━━━━━━━━━\u001b[0m \u001b[32m41.1/41.1 MB\u001b[0m \u001b[31m61.8 MB/s\u001b[0m eta \u001b[36m0:00:00\u001b[0m\n",
            "\u001b[2K   \u001b[90m━━━━━━━━━━━━━━━━━━━━━━━━━━━━━━━━━━━━━━━━\u001b[0m \u001b[32m1.2/1.2 MB\u001b[0m \u001b[31m68.8 MB/s\u001b[0m eta \u001b[36m0:00:00\u001b[0m\n",
            "\u001b[2K   \u001b[90m━━━━━━━━━━━━━━━━━━━━━━━━━━━━━━━━━━━━━━━━\u001b[0m \u001b[32m50.9/50.9 MB\u001b[0m \u001b[31m35.2 MB/s\u001b[0m eta \u001b[36m0:00:00\u001b[0m\n",
            "\u001b[2K   \u001b[90m━━━━━━━━━━━━━━━━━━━━━━━━━━━━━━━━━━━━━━━━\u001b[0m \u001b[32m2.0/2.0 MB\u001b[0m \u001b[31m82.2 MB/s\u001b[0m eta \u001b[36m0:00:00\u001b[0m\n",
            "\u001b[?25h  Building wheel for pubchempy (setup.py) ... \u001b[?25l\u001b[?25hdone\n"
          ]
        }
      ]
    },
    {
      "cell_type": "code",
      "source": [
        "!pip install cudaq -q\n",
        "import cudaq\n",
        "print(cudaq.__version__)\n",
        "!pip show cudaq"
      ],
      "metadata": {
        "colab": {
          "base_uri": "https://localhost:8080/"
        },
        "id": "YSfy0q-Jksqf",
        "outputId": "372408d9-7e71-462f-8996-01ce1604fb7e"
      },
      "execution_count": null,
      "outputs": [
        {
          "output_type": "stream",
          "name": "stdout",
          "text": [
            "  Installing build dependencies ... \u001b[?25l\u001b[?25hdone\n",
            "  Getting requirements to build wheel ... \u001b[?25l\u001b[?25hdone\n",
            "  Preparing metadata (pyproject.toml) ... \u001b[?25l\u001b[?25hdone\n",
            "\u001b[2K   \u001b[90m━━━━━━━━━━━━━━━━━━━━━━━━━━━━━━━━━━━━━━━━\u001b[0m \u001b[32m124.6/124.6 MB\u001b[0m \u001b[31m12.3 MB/s\u001b[0m eta \u001b[36m0:00:00\u001b[0m\n",
            "\u001b[2K   \u001b[90m━━━━━━━━━━━━━━━━━━━━━━━━━━━━━━━━━━━━━━━━\u001b[0m \u001b[32m5.2/5.2 MB\u001b[0m \u001b[31m102.8 MB/s\u001b[0m eta \u001b[36m0:00:00\u001b[0m\n",
            "\u001b[2K   \u001b[90m━━━━━━━━━━━━━━━━━━━━━━━━━━━━━━━━━━━━━━━━\u001b[0m \u001b[32m4.0/4.0 MB\u001b[0m \u001b[31m107.7 MB/s\u001b[0m eta \u001b[36m0:00:00\u001b[0m\n",
            "\u001b[2K   \u001b[90m━━━━━━━━━━━━━━━━━━━━━━━━━━━━━━━━━━━━━━━━\u001b[0m \u001b[32m44.3/44.3 MB\u001b[0m \u001b[31m51.1 MB/s\u001b[0m eta \u001b[36m0:00:00\u001b[0m\n",
            "\u001b[2K   \u001b[90m━━━━━━━━━━━━━━━━━━━━━━━━━━━━━━━━━━━━━━━━\u001b[0m \u001b[32m2.6/2.6 MB\u001b[0m \u001b[31m92.7 MB/s\u001b[0m eta \u001b[36m0:00:00\u001b[0m\n",
            "\u001b[2K   \u001b[90m━━━━━━━━━━━━━━━━━━━━━━━━━━━━━━━━━━━━━━━━\u001b[0m \u001b[32m202.3/202.3 MB\u001b[0m \u001b[31m4.6 MB/s\u001b[0m eta \u001b[36m0:00:00\u001b[0m\n",
            "\u001b[?25h  Building wheel for cudaq (pyproject.toml) ... \u001b[?25l\u001b[?25hdone\n",
            "CUDA-Q Version 0.11.0 (https://github.com/NVIDIA/cuda-quantum f5cc3bb1d85abcf1f642f4ddd20ad08bc1d4d200)\n",
            "Name: cudaq\n",
            "Version: 0.11.0\n",
            "Summary: Python bindings for the CUDA-Q toolkit for heterogeneous quantum-classical workflows.\n",
            "Home-page: https://developer.nvidia.com/cuda-q\n",
            "Author: NVIDIA Corporation & Affiliates\n",
            "Author-email: \n",
            "License: Apache License Version 2.0\n",
            "\n",
            "Copyright (c) 2023 - 2025 NVIDIA Corporation & Affiliates\n",
            "All rights reserved.\n",
            "\n",
            "Licensed under the Apache License, Version 2.0 (the \"License\");\n",
            "you may not use this file except in compliance with the License.\n",
            "You may obtain a copy of the License at\n",
            "\n",
            "    http://www.apache.org/licenses/LICENSE-2.0\n",
            "\n",
            "Unless required by applicable law or agreed to in writing, software\n",
            "distributed under the License is distributed on an \"AS IS\" BASIS,\n",
            "WITHOUT WARRANTIES OR CONDITIONS OF ANY KIND, either express or implied.\n",
            "See the License for the specific language governing permissions and\n",
            "limitations under the License.\n",
            "\n",
            "Location: /usr/local/lib/python3.11/dist-packages\n",
            "Requires: cuda-quantum-cu12\n",
            "Required-by: \n"
          ]
        }
      ]
    },
    {
      "cell_type": "code",
      "source": [
        "# Select classical GPU fopr simulation or quantum chip for quantum processing\n",
        "# Single precision\n",
        "cudaq.set_target(\"nvidia\")\n",
        "\n",
        "# Double precision\n",
        "#cudaq.set_target(\"nvidia-fp64\")"
      ],
      "metadata": {
        "id": "EdVswoOxkxBZ"
      },
      "execution_count": null,
      "outputs": []
    },
    {
      "cell_type": "markdown",
      "source": [
        "###### **Hydrogen**"
      ],
      "metadata": {
        "id": "qVsuKpDdrHlk"
      }
    },
    {
      "cell_type": "markdown",
      "source": [
        "**Tutorial**: https://nvidia.github.io/cuda-quantum/0.7.1/examples/python/tutorials/vqe.html\n",
        "\n",
        "**Video**: [The Quantum Algorithm That Could Make Big Pharma Billions](https://www.youtube.com/watch?v=Fvwyd0536Gc)\n",
        "\n",
        "**Context**: https://github.com/NVIDIA/cuda-q-academic/tree/main"
      ],
      "metadata": {
        "id": "E008UTDPMwHO"
      }
    },
    {
      "cell_type": "markdown",
      "source": [
        "Let's create H₂ (hydrogen molecule)\n",
        "* 2 hydrogen atoms in a linear chain\n",
        "* Distance: 0.7474 Å apart\n",
        "* Simple diatomic molecule\n",
        "* Geometry: H--H"
      ],
      "metadata": {
        "id": "CR__KRngqhxh"
      }
    },
    {
      "cell_type": "code",
      "source": [
        "# Number of hydrogen atoms.\n",
        "hydrogen_count = 2\n",
        "\n",
        "# Distance between the atoms in Angstroms.\n",
        "bond_distance = 0.7474\n",
        "\n",
        "# Define a linear chain of Hydrogen atoms\n",
        "geometry = [('H', (0, 0, i * bond_distance)) for i in range(hydrogen_count)]\n",
        "\n",
        "molecule, data = cudaq.chemistry.create_molecular_hamiltonian(\n",
        "    geometry, 'sto-3g', 1, 0)\n",
        "\n",
        "electron_count = data.n_electrons\n",
        "qubit_count = 2 * data.n_orbitals"
      ],
      "metadata": {
        "id": "wccBuPvGkyqF"
      },
      "execution_count": null,
      "outputs": []
    },
    {
      "cell_type": "code",
      "source": [
        "# After running each geometry\n",
        "print(f\"Electron count: {electron_count}\")\n",
        "print(f\"Qubit count: {qubit_count}\")\n",
        "print(f\"Number of orbitals: {data.n_orbitals}\")"
      ],
      "metadata": {
        "colab": {
          "base_uri": "https://localhost:8080/"
        },
        "id": "4oWkGQQOq5ag",
        "outputId": "13b7790f-a013-4133-a51f-389adf13ba0e"
      },
      "execution_count": null,
      "outputs": [
        {
          "output_type": "stream",
          "name": "stdout",
          "text": [
            "Electron count: 2\n",
            "Qubit count: 4\n",
            "Number of orbitals: 2\n"
          ]
        }
      ]
    },
    {
      "cell_type": "markdown",
      "source": [
        "* The problem of interest here is a chain of hydrogen atoms seperated along the z-axis at a fixed interval called the bond distance.\n",
        "\n",
        "* The interatomic electrostatic forces due to the electrons and protons and the shielding by the neutrons creates a chemical system whose energy can be minimised to find a stable configuration.\n",
        "\n",
        "* Let us first begin by defining the molecule and other metadata about the problem."
      ],
      "metadata": {
        "id": "_3Su_AUlM0zP"
      }
    },
    {
      "cell_type": "code",
      "source": [
        "# Generate a Unitary Coupled-Cluster Singles and Doubles (UCCSD) ansatz from CUDA-Q template\n",
        "@cudaq.kernel\n",
        "def kernel(thetas: list[float]):\n",
        "\n",
        "    qubits = cudaq.qvector(qubit_count)\n",
        "\n",
        "    for i in range(electron_count):\n",
        "        x(qubits[i])\n",
        "\n",
        "    cudaq.kernels.uccsd(qubits, thetas, electron_count, qubit_count)\n",
        "\n",
        "\n",
        "parameter_count = cudaq.kernels.uccsd_num_parameters(electron_count,\n",
        "                                                     qubit_count)"
      ],
      "metadata": {
        "id": "V2AuI9RLM6Ku"
      },
      "execution_count": null,
      "outputs": []
    },
    {
      "cell_type": "code",
      "source": [
        "# CUDA-Q Optimizers for the minimization procedure\n",
        "optimizer = cudaq.optimizers.COBYLA()\n",
        "\n",
        "energy, parameters = cudaq.vqe(kernel,\n",
        "                               molecule,\n",
        "                               optimizer,\n",
        "                               parameter_count=parameter_count)\n",
        "\n",
        "print(energy)"
      ],
      "metadata": {
        "id": "6oh-29duNCiq",
        "colab": {
          "base_uri": "https://localhost:8080/"
        },
        "outputId": "0bf4feb2-20fa-4b4f-9ba7-48978a9450a2"
      },
      "execution_count": null,
      "outputs": [
        {
          "output_type": "stream",
          "name": "stdout",
          "text": [
            "-1.1371740035195186\n"
          ]
        }
      ]
    },
    {
      "cell_type": "markdown",
      "source": [
        "**Integration with Third-Party Optimizers**\n",
        "\n",
        "* We can also integrate popular libraries like scipy with CUDA-Q."
      ],
      "metadata": {
        "id": "sOgz_W-aNE3n"
      }
    },
    {
      "cell_type": "code",
      "source": [
        "# Define a function to minimize\n",
        "def cost(theta):\n",
        "\n",
        "    exp_val = cudaq.observe(kernel, molecule, theta).expectation()\n",
        "\n",
        "    return exp_val\n",
        "\n",
        "\n",
        "exp_vals = []\n",
        "\n",
        "\n",
        "def callback(xk):\n",
        "    exp_vals.append(cost(xk))\n",
        "\n",
        "\n",
        "# Initial variational parameters.\n",
        "np.random.seed(42)\n",
        "x0 = np.random.normal(0, np.pi, parameter_count)\n",
        "\n",
        "# Use the scipy optimizer to minimize the function of interest\n",
        "result = minimize(cost,\n",
        "                  x0,\n",
        "                  method='COBYLA',\n",
        "                  callback=callback,\n",
        "                  options={'maxiter': 40})\n",
        "\n",
        "plt.plot(exp_vals)\n",
        "plt.xlabel('Epochs')\n",
        "plt.ylabel('Energy')\n",
        "plt.title('VQE')\n",
        "plt.show()"
      ],
      "metadata": {
        "id": "_hA-z2JlNHEB",
        "colab": {
          "base_uri": "https://localhost:8080/",
          "height": 472
        },
        "outputId": "772a79d9-3317-4ce9-b18c-7f8d567a9648"
      },
      "execution_count": null,
      "outputs": [
        {
          "output_type": "display_data",
          "data": {
            "text/plain": [
              "<Figure size 640x480 with 1 Axes>"
            ],
            "image/png": "[encoded data removed]"
          },
          "metadata": {}
        }
      ]
    },
    {
      "cell_type": "markdown",
      "source": [
        "###### **Ammonia**"
      ],
      "metadata": {
        "id": "Gta19o5arDxT"
      }
    },
    {
      "cell_type": "markdown",
      "source": [
        "Now let's create NH₃ (ammonia)\n",
        "* 1 nitrogen atom + 3 hydrogen atoms\n",
        "* Pyramidal structure\n",
        "* Much more complex molecule\n",
        "* Geometry: N at center with 3 H atoms around it"
      ],
      "metadata": {
        "id": "-nfr1CiQqqPb"
      }
    },
    {
      "cell_type": "markdown",
      "source": [
        "The key differences:\n",
        "* Different atoms: H₂ vs NH₃\n",
        "* Different complexity: 2 atoms vs 4 atoms\n",
        "* Different electron count: H₂ has 2 electrons, NH₃ has 10 electrons (N has 7, each H has 1)\n",
        "* Different qubit requirements: H₂ needs fewer qubits than NH₃\n",
        "\n",
        "H₂ will need ~4 qubits (2 orbitals × 2 spin states), while NH₃ will need many more qubits due to having more orbitals."
      ],
      "metadata": {
        "id": "TmYisuW-q023"
      }
    },
    {
      "cell_type": "code",
      "source": [
        "geometry = [\n",
        "    [\"N\", (0.0000, 0.0000, 0.0000)], # Nitrogen\n",
        "    [\"H\", (0.0000, 0.0000, 1.0120)], # Hydrogen 1\n",
        "    [\"H\", (0.9377, 0.0000, -0.3430)], # Hydrogen 2\n",
        "    [\"H\", (-0.9377, 0.0000, -0.3430)] # Hydrogen 3\n",
        "    ]\n",
        "\n",
        "hamiltonian, data = cudaq.chemistry.create_molecular_hamiltonian(\n",
        "    geometry, \"sto-3g\", 1, 0)\n",
        "\n",
        "electron_count = data.n_electrons\n",
        "qubit_count = 2*data.n_orbitals"
      ],
      "metadata": {
        "id": "fvSddhbSgbEK"
      },
      "execution_count": null,
      "outputs": []
    },
    {
      "cell_type": "code",
      "source": [
        "# After running geometry\n",
        "print(f\"Electron count: {electron_count}\")\n",
        "print(f\"Qubit count: {qubit_count}\")\n",
        "print(f\"Number of orbitals: {data.n_orbitals}\")"
      ],
      "metadata": {
        "colab": {
          "base_uri": "https://localhost:8080/"
        },
        "id": "bs2jsnpSq7CK",
        "outputId": "04e6105b-4c5e-4f17-aaa5-6d76d77637f2"
      },
      "execution_count": null,
      "outputs": [
        {
          "output_type": "stream",
          "name": "stdout",
          "text": [
            "Electron count: 10\n",
            "Qubit count: 16\n",
            "Number of orbitals: 8\n"
          ]
        }
      ]
    },
    {
      "cell_type": "code",
      "source": [
        "@cudaq.kernel\n",
        "def kernel(thetas: list[float]):\n",
        "\n",
        "    qubits = cudaq.qvector(qubit_count)\n",
        "\n",
        "    for i in range(electron_count):\n",
        "        x(qubits[i])\n",
        "\n",
        "    cudaq.kernels.uccsd(qubits, thetas, electron_count, qubit_count)\n",
        "\n",
        "\n",
        "parameter_count = cudaq.kernels.uccsd_num_parameters(electron_count,\n",
        "                                                     qubit_count)"
      ],
      "metadata": {
        "id": "QTyxfXdcrLAR"
      },
      "execution_count": null,
      "outputs": []
    },
    {
      "cell_type": "code",
      "source": [
        "optimizer = cudaq.optimizers.COBYLA()\n",
        "\n",
        "energy, parameters = cudaq.vqe(kernel,\n",
        "                               molecule,\n",
        "                               optimizer,\n",
        "                               parameter_count=parameter_count)\n",
        "\n",
        "print(energy)"
      ],
      "metadata": {
        "id": "40SyUCOarNDA"
      },
      "execution_count": null,
      "outputs": []
    },
    {
      "cell_type": "code",
      "source": [
        "# Define a function to minimize\n",
        "def cost(theta):\n",
        "\n",
        "    exp_val = cudaq.observe(kernel, molecule, theta).expectation()\n",
        "\n",
        "    return exp_val\n",
        "\n",
        "\n",
        "exp_vals = []\n",
        "\n",
        "\n",
        "def callback(xk):\n",
        "    exp_vals.append(cost(xk))\n",
        "\n",
        "\n",
        "# Initial variational parameters.\n",
        "np.random.seed(42)\n",
        "x0 = np.random.normal(0, np.pi, parameter_count)\n",
        "\n",
        "# Use the scipy optimizer to minimize the function of interest\n",
        "result = minimize(cost,\n",
        "                  x0,\n",
        "                  method='COBYLA',\n",
        "                  callback=callback,\n",
        "                  options={'maxiter': 40})\n",
        "\n",
        "plt.plot(exp_vals)\n",
        "plt.xlabel('Epochs')\n",
        "plt.ylabel('Energy')\n",
        "plt.title('VQE')\n",
        "plt.show()"
      ],
      "metadata": {
        "colab": {
          "base_uri": "https://localhost:8080/",
          "height": 207
        },
        "id": "sHAZ8TmGrP3O",
        "outputId": "70dab993-6538-428d-f84b-592e1c7222ae"
      },
      "execution_count": null,
      "outputs": [
        {
          "output_type": "error",
          "ename": "NameError",
          "evalue": "name 'parameter_count' is not defined",
          "traceback": [
            "\u001b[0;31m---------------------------------------------------------------------------\u001b[0m",
            "\u001b[0;31mNameError\u001b[0m                                 Traceback (most recent call last)",
            "\u001b[0;32m<ipython-input-6-b086f5b5e0e4>\u001b[0m in \u001b[0;36m<cell line: 0>\u001b[0;34m()\u001b[0m\n\u001b[1;32m     16\u001b[0m \u001b[0;31m# Initial variational parameters.\u001b[0m\u001b[0;34m\u001b[0m\u001b[0;34m\u001b[0m\u001b[0m\n\u001b[1;32m     17\u001b[0m \u001b[0mnp\u001b[0m\u001b[0;34m.\u001b[0m\u001b[0mrandom\u001b[0m\u001b[0;34m.\u001b[0m\u001b[0mseed\u001b[0m\u001b[0;34m(\u001b[0m\u001b[0;36m42\u001b[0m\u001b[0;34m)\u001b[0m\u001b[0;34m\u001b[0m\u001b[0;34m\u001b[0m\u001b[0m\n\u001b[0;32m---> 18\u001b[0;31m \u001b[0mx0\u001b[0m \u001b[0;34m=\u001b[0m \u001b[0mnp\u001b[0m\u001b[0;34m.\u001b[0m\u001b[0mrandom\u001b[0m\u001b[0;34m.\u001b[0m\u001b[0mnormal\u001b[0m\u001b[0;34m(\u001b[0m\u001b[0;36m0\u001b[0m\u001b[0;34m,\u001b[0m \u001b[0mnp\u001b[0m\u001b[0;34m.\u001b[0m\u001b[0mpi\u001b[0m\u001b[0;34m,\u001b[0m \u001b[0mparameter_count\u001b[0m\u001b[0;34m)\u001b[0m\u001b[0;34m\u001b[0m\u001b[0;34m\u001b[0m\u001b[0m\n\u001b[0m\u001b[1;32m     19\u001b[0m \u001b[0;34m\u001b[0m\u001b[0m\n\u001b[1;32m     20\u001b[0m \u001b[0;31m# Use the scipy optimizer to minimize the function of interest\u001b[0m\u001b[0;34m\u001b[0m\u001b[0;34m\u001b[0m\u001b[0m\n",
            "\u001b[0;31mNameError\u001b[0m: name 'parameter_count' is not defined"
          ]
        }
      ]
    },
    {
      "cell_type": "markdown",
      "source": [
        "###### **Appendix Example**"
      ],
      "metadata": {
        "id": "CFVt9ayBrltq"
      }
    },
    {
      "cell_type": "markdown",
      "source": [
        "**Example 3** (didnt work so far)\n",
        "\n",
        "Variational Quantum Eigensolver (VQE) using `CUDA-Q` for algorithm construction and `cuQuantum` for state vector simulation to compute the ground state energy of a simple Hamiltonian $H = Z_0 Z_1 + X_0$. This is a 2-qubit Hamiltonian with Pauli operators.\n",
        "\n"
      ],
      "metadata": {
        "id": "ondr2y_FvujC"
      }
    },
    {
      "cell_type": "code",
      "source": [
        "#mport cudaq\n",
        "#import numpy as np\n",
        "from cudaq import spin\n",
        "\n",
        "# Define the Hamiltonian H = Z_0 Z_1 + X_0\n",
        "# The Hamiltonian is defined using CUDA-Q's `spin` operators to represent Pauli matrices\n",
        "hamiltonian = spin.z(0) * spin.z(1) + spin.x(0)\n",
        "\n",
        "# Variational ansatz circuit\n",
        "@cudaq.kernel\n",
        "def ansatz(theta: float):\n",
        "    cudaq.h(0)  # Hadamard gate on qubit 0\n",
        "    cudaq.cx(0, 1)  # CNOT for entanglement\n",
        "    cudaq.ry(theta, 0)  # Rotation gate with variational parameter\n",
        "\n",
        "# Objective function for optimization\n",
        "def vqe_objective(theta):\n",
        "    return cudaq.observe(ansatz, hamiltonian, theta)\n",
        "\n",
        "# cuQuantum integration (using cuQuantum's GPU acceleration for state evolution)\n",
        "#cudaq.set_target('nvidia')  # Select NVIDIA GPU as backend (uses cuQuantum)\n",
        "\n",
        "# Optimization routine (using scipy)\n",
        "from scipy.optimize import minimize\n",
        "\n",
        "# Initial guess\n",
        "initial_theta = np.random.uniform(0, 2 * np.pi)\n",
        "\n",
        "# Minimize energy using scipy's optimizer\n",
        "result = minimize(vqe_objective, initial_theta, method='COBYLA')\n",
        "\n",
        "print(f\"Optimal theta: {result.x}\")\n",
        "print(f\"Ground state energy: {result.fun}\")"
      ],
      "metadata": {
        "id": "ByY7aZvpvpAE"
      },
      "execution_count": null,
      "outputs": []
    },
    {
      "cell_type": "markdown",
      "source": [
        "**Hamiltonian Definition:**  \n",
        "- The Hamiltonian is defined using CUDA-Q's `spin` operators to represent Pauli matrices.\n",
        "\n",
        "**Quantum Circuit (Ansatz):**  \n",
        "- The `ansatz` is a simple variational circuit with a Hadamard gate, a CNOT gate for entanglement, and an RY gate parameterized by `theta`.\n",
        "\n",
        "**Objective Function (VQE Objective):**  \n",
        "- The energy expectation value of the Hamiltonian is calculated using `cudaq.observe`.\n",
        "\n",
        "**cuQuantum Integration:**  \n",
        "- By setting the target to `'nvidia'` via `cudaq.set_target()`, CUDA-Q utilizes `cuQuantum`'s accelerated simulation engine for efficient state vector simulation.\n",
        "\n",
        "**Optimization Routine:**  \n",
        "- The `scipy` optimizer minimizes the energy to find the optimal variational parameter.\n",
        "\n",
        "**Expected Output**\n",
        "```\n",
        "Optimal theta: [1.57]      # (Close to π/2 or 3π/2 depending on the optimizer path)\n",
        "Ground state energy: -1.0  # (Theoretical minimum for this Hamiltonian)\n",
        "```\n",
        "\n",
        "**Key Takeaways**\n",
        "- **CUDA-Q** is used to construct the variational algorithm and manage the hybrid workflow.\n",
        "- **cuQuantum** accelerates the simulation using NVIDIA GPUs for faster results.\n",
        "- The combination is ideal for algorithms like VQE, QAOA, or quantum chemistry simulations."
      ],
      "metadata": {
        "id": "aQKdNkufvsFO"
      }
    }
  ]
}