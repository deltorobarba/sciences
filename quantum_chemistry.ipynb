{
  "nbformat": 4,
  "nbformat_minor": 0,
  "metadata": {
    "colab": {
      "provenance": [],
      "collapsed_sections": [
        "M9kWx7lFrihM",
        "qVsuKpDdrHlk",
        "_b0MA7FX1bSD",
        "8QZB6QcF7Nht",
        "mFfC_Ict7EfR"
      ],
      "machine_shape": "hm",
      "gpuType": "L4",
      "authorship_tag": "ABX9TyOOtNy3UY1AHFbmeWk+25a2",
      "include_colab_link": true
    },
    "kernelspec": {
      "name": "python3",
      "display_name": "Python 3"
    },
    "language_info": {
      "name": "python"
    },
    "accelerator": "GPU"
  },
  "cells": [
    {
      "cell_type": "markdown",
      "metadata": {
        "id": "view-in-github",
        "colab_type": "text"
      },
      "source": [
        "<a href=\"https://colab.research.google.com/github/deltorobarba/sciences/blob/master/quantum_chemistry.ipynb\" target=\"_parent\"><img src=\"https://colab.research.google.com/assets/colab-badge.svg\" alt=\"Open In Colab\"/></a>"
      ]
    },
    {
      "cell_type": "markdown",
      "source": [
        "# **Quantum Chemistry Simulations on H₂ and NH₃ with VQE and UCCSD**"
      ],
      "metadata": {
        "id": "NAEKBsyHr757"
      }
    },
    {
      "cell_type": "markdown",
      "source": [
        "![sciences](https://raw.githubusercontent.com/deltorobarba/repo/master/sciences_5000.png)"
      ],
      "metadata": {
        "id": "nvEWmdDiNZpG"
      }
    },
    {
      "cell_type": "markdown",
      "source": [
        "Let us simulates a quantum chemistry algorithm (VQE) using CUDA-Q on a GPU, targeting the ground state energy of a molecule (like hydrogen H₂) via a variational quantum eigensolver (VQE) with a UCCSD ansatz and a classical optimizer (COBYLA).\n"
      ],
      "metadata": {
        "id": "qbVTAbVWpRGj"
      }
    },
    {
      "cell_type": "markdown",
      "source": [
        "#### <font color=\"blue\">**Step 1: Install Libraries and Dependencies**"
      ],
      "metadata": {
        "id": "M9kWx7lFrihM"
      }
    },
    {
      "cell_type": "code",
      "source": [
        "# Check access to nvidia GPUs\n",
        "!nvidia-smi"
      ],
      "metadata": {
        "colab": {
          "base_uri": "https://localhost:8080/"
        },
        "id": "w1n3GuZFZTby",
        "outputId": "66ee3721-904d-46ee-f850-24ee40dc71e1"
      },
      "execution_count": null,
      "outputs": [
        {
          "output_type": "stream",
          "name": "stdout",
          "text": [
            "Sun May 25 13:56:12 2025       \n",
            "+-----------------------------------------------------------------------------------------+\n",
            "| NVIDIA-SMI 550.54.15              Driver Version: 550.54.15      CUDA Version: 12.4     |\n",
            "|-----------------------------------------+------------------------+----------------------+\n",
            "| GPU  Name                 Persistence-M | Bus-Id          Disp.A | Volatile Uncorr. ECC |\n",
            "| Fan  Temp   Perf          Pwr:Usage/Cap |           Memory-Usage | GPU-Util  Compute M. |\n",
            "|                                         |                        |               MIG M. |\n",
            "|=========================================+========================+======================|\n",
            "|   0  NVIDIA L4                      Off |   00000000:00:03.0 Off |                    0 |\n",
            "| N/A   37C    P8             12W /   72W |       0MiB /  23034MiB |      0%      Default |\n",
            "|                                         |                        |                  N/A |\n",
            "+-----------------------------------------+------------------------+----------------------+\n",
            "                                                                                         \n",
            "+-----------------------------------------------------------------------------------------+\n",
            "| Processes:                                                                              |\n",
            "|  GPU   GI   CI        PID   Type   Process name                              GPU Memory |\n",
            "|        ID   ID                                                               Usage      |\n",
            "|=========================================================================================|\n",
            "|  No running processes found                                                             |\n",
            "+-----------------------------------------------------------------------------------------+\n"
          ]
        }
      ]
    },
    {
      "cell_type": "code",
      "source": [
        "#!wget https://developer.download.nvidia.com/compute/cuda/repos/ubuntu2204/x86_64/cuda-keyring_1.0-1_all.deb\n",
        "#!dpkg -i cuda-keyring_1.0-1_all.deb\n",
        "#!apt-get update\n",
        "#!apt-get -y install libcublas-11-8 libcusolver-11-8 cuda-cudart-11-8\n",
        "#%pip install cuda-quantum"
      ],
      "metadata": {
        "id": "tqWBhLFomlGx"
      },
      "execution_count": null,
      "outputs": []
    },
    {
      "cell_type": "code",
      "source": [
        "import numpy as np\n",
        "print(np.__version__)"
      ],
      "metadata": {
        "colab": {
          "base_uri": "https://localhost:8080/"
        },
        "id": "oxWqYGrFogeC",
        "outputId": "e46318c1-e1ee-41e4-e8fd-95625d9c0123"
      },
      "execution_count": null,
      "outputs": [
        {
          "output_type": "stream",
          "name": "stdout",
          "text": [
            "2.0.2\n"
          ]
        }
      ]
    },
    {
      "cell_type": "markdown",
      "source": [
        "Check which NumPy is installed. One of the dependencies of CUDA-Q is trying to use 'np.string_' which was removed in NumPy 2.0, and you will get an error later *AttributeError: `np.string_` was removed in the NumPy 2.0 release. Use `np.bytes_`*. We need to downgrade np."
      ],
      "metadata": {
        "id": "Y_u2HqpLpnWf"
      }
    },
    {
      "cell_type": "code",
      "source": [
        "# Force install NumPy < 2.0\n",
        "!pip install numpy==1.26.4 --force-reinstall -q"
      ],
      "metadata": {
        "colab": {
          "base_uri": "https://localhost:8080/"
        },
        "id": "qb9ISl9Ro7s9",
        "outputId": "c4ac201e-d597-4ff9-8470-54f360051eba"
      },
      "execution_count": null,
      "outputs": [
        {
          "output_type": "stream",
          "name": "stdout",
          "text": [
            "\u001b[2K     \u001b[90m━━━━━━━━━━━━━━━━━━━━━━━━━━━━━━━━━━━━━━━━\u001b[0m \u001b[32m61.0/61.0 kB\u001b[0m \u001b[31m3.8 MB/s\u001b[0m eta \u001b[36m0:00:00\u001b[0m\n",
            "\u001b[2K   \u001b[90m━━━━━━━━━━━━━━━━━━━━━━━━━━━━━━━━━━━━━━━━\u001b[0m \u001b[32m18.3/18.3 MB\u001b[0m \u001b[31m120.6 MB/s\u001b[0m eta \u001b[36m0:00:00\u001b[0m\n",
            "\u001b[?25h\u001b[31mERROR: pip's dependency resolver does not currently take into account all the packages that are installed. This behaviour is the source of the following dependency conflicts.\n",
            "thinc 8.3.6 requires numpy<3.0.0,>=2.0.0, but you have numpy 1.26.4 which is incompatible.\u001b[0m\u001b[31m\n",
            "\u001b[0m"
          ]
        }
      ]
    },
    {
      "cell_type": "markdown",
      "source": [
        "Important: After installing, you **MUST restart your kernel/runtime before running your code again.** (in Colab: Runtime → Restart runtime(\n"
      ],
      "metadata": {
        "id": "Te6JxWSdo_ok"
      }
    },
    {
      "cell_type": "code",
      "source": [
        "import numpy as np\n",
        "print(np.__version__)  # Should show 1.26.4"
      ],
      "metadata": {
        "colab": {
          "base_uri": "https://localhost:8080/"
        },
        "id": "MBBJOwvHpA0F",
        "outputId": "419b8a51-f447-4d95-a29e-781d7546b395"
      },
      "execution_count": null,
      "outputs": [
        {
          "output_type": "stream",
          "name": "stdout",
          "text": [
            "1.26.4\n"
          ]
        }
      ]
    },
    {
      "cell_type": "code",
      "source": [
        "!pip install openfermionpyscf==0.5 matplotlib==3.8.4 scipy==1.14.0 -q\n",
        "import matplotlib.pyplot as plt\n",
        "from scipy.optimize import minimize\n",
        "import numpy as np"
      ],
      "metadata": {
        "colab": {
          "base_uri": "https://localhost:8080/"
        },
        "id": "atWWMbHxkvSd",
        "outputId": "1eba8877-2044-4b5e-8c82-3a8075f9f066"
      },
      "execution_count": null,
      "outputs": [
        {
          "output_type": "stream",
          "name": "stdout",
          "text": [
            "\u001b[?25l     \u001b[90m━━━━━━━━━━━━━━━━━━━━━━━━━━━━━━━━━━━━━━━━\u001b[0m \u001b[32m0.0/60.8 kB\u001b[0m \u001b[31m?\u001b[0m eta \u001b[36m-:--:--\u001b[0m\r\u001b[2K     \u001b[90m━━━━━━━━━━━━━━━━━━━━━━━━━━━━━━━━━━━━━━━━\u001b[0m \u001b[32m60.8/60.8 kB\u001b[0m \u001b[31m3.6 MB/s\u001b[0m eta \u001b[36m0:00:00\u001b[0m\n",
            "\u001b[?25h  Preparing metadata (setup.py) ... \u001b[?25l\u001b[?25hdone\n",
            "\u001b[2K   \u001b[90m━━━━━━━━━━━━━━━━━━━━━━━━━━━━━━━━━━━━━━━━\u001b[0m \u001b[32m11.6/11.6 MB\u001b[0m \u001b[31m133.9 MB/s\u001b[0m eta \u001b[36m0:00:00\u001b[0m\n",
            "\u001b[2K   \u001b[90m━━━━━━━━━━━━━━━━━━━━━━━━━━━━━━━━━━━━━━━━\u001b[0m \u001b[32m41.1/41.1 MB\u001b[0m \u001b[31m61.7 MB/s\u001b[0m eta \u001b[36m0:00:00\u001b[0m\n",
            "\u001b[2K   \u001b[90m━━━━━━━━━━━━━━━━━━━━━━━━━━━━━━━━━━━━━━━━\u001b[0m \u001b[32m1.2/1.2 MB\u001b[0m \u001b[31m77.7 MB/s\u001b[0m eta \u001b[36m0:00:00\u001b[0m\n",
            "\u001b[2K   \u001b[90m━━━━━━━━━━━━━━━━━━━━━━━━━━━━━━━━━━━━━━━━\u001b[0m \u001b[32m50.9/50.9 MB\u001b[0m \u001b[31m50.1 MB/s\u001b[0m eta \u001b[36m0:00:00\u001b[0m\n",
            "\u001b[2K   \u001b[90m━━━━━━━━━━━━━━━━━━━━━━━━━━━━━━━━━━━━━━━━\u001b[0m \u001b[32m2.0/2.0 MB\u001b[0m \u001b[31m102.6 MB/s\u001b[0m eta \u001b[36m0:00:00\u001b[0m\n",
            "\u001b[?25h  Building wheel for pubchempy (setup.py) ... \u001b[?25l\u001b[?25hdone\n"
          ]
        }
      ]
    },
    {
      "cell_type": "code",
      "source": [
        "!pip install cudaq -q\n",
        "import cudaq\n",
        "print(cudaq.__version__)\n",
        "!pip show cudaq"
      ],
      "metadata": {
        "colab": {
          "base_uri": "https://localhost:8080/"
        },
        "id": "YSfy0q-Jksqf",
        "outputId": "b206a282-b1be-4ef7-beff-2c8251ce780b"
      },
      "execution_count": null,
      "outputs": [
        {
          "output_type": "stream",
          "name": "stdout",
          "text": [
            "  Installing build dependencies ... \u001b[?25l\u001b[?25hdone\n",
            "  Getting requirements to build wheel ... \u001b[?25l\u001b[?25hdone\n",
            "  Preparing metadata (pyproject.toml) ... \u001b[?25l\u001b[?25hdone\n",
            "\u001b[2K   \u001b[90m━━━━━━━━━━━━━━━━━━━━━━━━━━━━━━━━━━━━━━━━\u001b[0m \u001b[32m124.6/124.6 MB\u001b[0m \u001b[31m16.9 MB/s\u001b[0m eta \u001b[36m0:00:00\u001b[0m\n",
            "\u001b[2K   \u001b[90m━━━━━━━━━━━━━━━━━━━━━━━━━━━━━━━━━━━━━━━━\u001b[0m \u001b[32m5.2/5.2 MB\u001b[0m \u001b[31m123.8 MB/s\u001b[0m eta \u001b[36m0:00:00\u001b[0m\n",
            "\u001b[2K   \u001b[90m━━━━━━━━━━━━━━━━━━━━━━━━━━━━━━━━━━━━━━━━\u001b[0m \u001b[32m4.0/4.0 MB\u001b[0m \u001b[31m114.0 MB/s\u001b[0m eta \u001b[36m0:00:00\u001b[0m\n",
            "\u001b[2K   \u001b[90m━━━━━━━━━━━━━━━━━━━━━━━━━━━━━━━━━━━━━━━━\u001b[0m \u001b[32m44.3/44.3 MB\u001b[0m \u001b[31m16.4 MB/s\u001b[0m eta \u001b[36m0:00:00\u001b[0m\n",
            "\u001b[2K   \u001b[90m━━━━━━━━━━━━━━━━━━━━━━━━━━━━━━━━━━━━━━━━\u001b[0m \u001b[32m2.6/2.6 MB\u001b[0m \u001b[31m85.5 MB/s\u001b[0m eta \u001b[36m0:00:00\u001b[0m\n",
            "\u001b[2K   \u001b[90m━━━━━━━━━━━━━━━━━━━━━━━━━━━━━━━━━━━━━━━━\u001b[0m \u001b[32m202.3/202.3 MB\u001b[0m \u001b[31m4.7 MB/s\u001b[0m eta \u001b[36m0:00:00\u001b[0m\n",
            "\u001b[?25h  Building wheel for cudaq (pyproject.toml) ... \u001b[?25l\u001b[?25hdone\n",
            "CUDA-Q Version 0.11.0 (https://github.com/NVIDIA/cuda-quantum f5cc3bb1d85abcf1f642f4ddd20ad08bc1d4d200)\n",
            "Name: cudaq\n",
            "Version: 0.11.0\n",
            "Summary: Python bindings for the CUDA-Q toolkit for heterogeneous quantum-classical workflows.\n",
            "Home-page: https://developer.nvidia.com/cuda-q\n",
            "Author: NVIDIA Corporation & Affiliates\n",
            "Author-email: \n",
            "License: Apache License Version 2.0\n",
            "\n",
            "Copyright (c) 2023 - 2025 NVIDIA Corporation & Affiliates\n",
            "All rights reserved.\n",
            "\n",
            "Licensed under the Apache License, Version 2.0 (the \"License\");\n",
            "you may not use this file except in compliance with the License.\n",
            "You may obtain a copy of the License at\n",
            "\n",
            "    http://www.apache.org/licenses/LICENSE-2.0\n",
            "\n",
            "Unless required by applicable law or agreed to in writing, software\n",
            "distributed under the License is distributed on an \"AS IS\" BASIS,\n",
            "WITHOUT WARRANTIES OR CONDITIONS OF ANY KIND, either express or implied.\n",
            "See the License for the specific language governing permissions and\n",
            "limitations under the License.\n",
            "\n",
            "Location: /usr/local/lib/python3.11/dist-packages\n",
            "Requires: cuda-quantum-cu12\n",
            "Required-by: \n"
          ]
        }
      ]
    },
    {
      "cell_type": "markdown",
      "source": [
        "#### <font color=\"blue\">**Step 2: Quantum Simulation of Ground State Energy for Hydrogen molecule H₂**"
      ],
      "metadata": {
        "id": "qVsuKpDdrHlk"
      }
    },
    {
      "cell_type": "markdown",
      "source": [
        "Let us start with a small molecule: H₂ (hydrogen). This has:\n",
        "* 2 hydrogen atoms in a linear chain\n",
        "* distance: 0.7474 Å apart\n",
        "* simple diatomic molecule\n",
        "* geometry: H--H\n",
        "\n",
        "I start with the tutorial from [CUDA-Q Tutorials Variational Quantum Eigensolver](https://nvidia.github.io/cuda-quantum/0.7.1/examples/python/tutorials/vqe.html). I will provide a few more details to describe the process. Later, I will compare the result with a classical computational chemistry simulation (and explain the difference), and then I will show how we can simulate larger molecules with this quantum algorithms, but using multi-node and multi-GPU distribution."
      ],
      "metadata": {
        "id": "CR__KRngqhxh"
      }
    },
    {
      "cell_type": "code",
      "source": [
        "###############################\n",
        "# GPU backend for simulation\n",
        "###############################\n",
        "\n",
        "# Single precision\n",
        "cudaq.set_target(\"nvidia\")\n",
        "\n",
        "# Double precision\n",
        "#cudaq.set_target(\"nvidia-fp64\")"
      ],
      "metadata": {
        "id": "EdVswoOxkxBZ"
      },
      "execution_count": null,
      "outputs": []
    },
    {
      "cell_type": "code",
      "source": [
        "###############################\n",
        "# Molecule and Basis Set\n",
        "###############################\n",
        "\n",
        "# Number of hydrogen atoms.\n",
        "hydrogen_count = 2\n",
        "\n",
        "# Distance between the atoms in Angstroms.\n",
        "bond_distance = 0.7474\n",
        "\n",
        "# Define a linear chain of Hydrogen atoms\n",
        "geometry = [('H', (0, 0, i * bond_distance)) for i in range(hydrogen_count)]\n",
        "\n",
        "# We use STO-3G basis set and build the electronic Hamiltonian\n",
        "molecule, data = cudaq.chemistry.create_molecular_hamiltonian(\n",
        "    geometry, 'sto-3g', 1, 0)\n",
        "\n",
        "electron_count = data.n_electrons\n",
        "qubit_count = 2 * data.n_orbitals"
      ],
      "metadata": {
        "id": "wccBuPvGkyqF"
      },
      "execution_count": null,
      "outputs": []
    },
    {
      "cell_type": "code",
      "source": [
        "###############################\n",
        "# Resource Requirements\n",
        "###############################\n",
        "\n",
        "# This is important to define the distribution strategy (# of GPUs and nodes)\n",
        "print(f\"Electron count: {electron_count}\")\n",
        "print(f\"Qubit count: {qubit_count}\")\n",
        "print(f\"Number of orbitals: {data.n_orbitals}\")"
      ],
      "metadata": {
        "colab": {
          "base_uri": "https://localhost:8080/"
        },
        "id": "4oWkGQQOq5ag",
        "outputId": "41fb88d5-eb0a-49ae-bb84-86d7d6238215"
      },
      "execution_count": null,
      "outputs": [
        {
          "output_type": "stream",
          "name": "stdout",
          "text": [
            "Electron count: 2\n",
            "Qubit count: 4\n",
            "Number of orbitals: 2\n"
          ]
        }
      ]
    },
    {
      "cell_type": "markdown",
      "source": [
        "* The problem of interest here is a chain of hydrogen atoms seperated along the z-axis at a fixed interval called the bond distance.\n",
        "\n",
        "* The interatomic electrostatic forces due to the electrons and protons and the shielding by the neutrons creates a chemical system whose energy can be minimised to find a stable configuration.\n",
        "\n",
        "* Let us first begin by defining the molecule and other metadata about the problem."
      ],
      "metadata": {
        "id": "_3Su_AUlM0zP"
      }
    },
    {
      "cell_type": "code",
      "source": [
        "###############################\n",
        "# Kernel and Ansatz (VQE)\n",
        "###############################\n",
        "\n",
        "# Quantum kernel prepares Hartree-Fock state by applying X gates to electrons and UCCSD ansatz with parameters thetas\n",
        "# Unitary Coupled-Cluster Singles and Doubles (UCCSD) captures electronic correlations well, often used in quantum chemistry\n",
        "# Alternatives: Nelder-Mead vs gradient-based etc\n",
        "\n",
        "@cudaq.kernel\n",
        "def kernel(thetas: list[float]):\n",
        "\n",
        "    qubits = cudaq.qvector(qubit_count)\n",
        "\n",
        "    for i in range(electron_count):\n",
        "        x(qubits[i])\n",
        "\n",
        "    cudaq.kernels.uccsd(qubits, thetas, electron_count, qubit_count)\n",
        "\n",
        "parameter_count = cudaq.kernels.uccsd_num_parameters(electron_count,\n",
        "                                                     qubit_count)"
      ],
      "metadata": {
        "id": "V2AuI9RLM6Ku"
      },
      "execution_count": null,
      "outputs": []
    },
    {
      "cell_type": "code",
      "source": [
        "###############################\n",
        "# Optimizer\n",
        "###############################\n",
        "\n",
        "# COBYLA (Constrained Optimization BY Linear Approximations) for minimization of expected energy of molecule\n",
        "# Gradient-free classical optimizer, well-suited for noisy landscapes (like those from VQE)\n",
        "\n",
        "optimizer = cudaq.optimizers.COBYLA()\n",
        "\n",
        "# 'cudaq.vqe' executes Variational Quantum Eigensolver (VQE)\n",
        "# Internally loops over parameters, evaluates energy, optimizes. Returns lowest energy and optimal parameters\n",
        "energy, parameters = cudaq.vqe(kernel,\n",
        "                               molecule,\n",
        "                               optimizer,\n",
        "                               parameter_count=parameter_count)\n",
        "\n",
        "print(f\"VQE minimum energy for H₂: {energy} Hartree\")"
      ],
      "metadata": {
        "id": "6oh-29duNCiq",
        "colab": {
          "base_uri": "https://localhost:8080/"
        },
        "outputId": "e90af897-76c0-440d-956b-9ec1cf91b3b0"
      },
      "execution_count": null,
      "outputs": [
        {
          "output_type": "stream",
          "name": "stdout",
          "text": [
            "VQE minimum energy for H₂: -1.1371740035195186 Hartree\n"
          ]
        }
      ]
    },
    {
      "cell_type": "markdown",
      "source": [
        "The VQE result of '-1.1371740035195186' is in so-called 'Hartree'. These are atomic units used for constructing the molecular Hamiltonian with the quantum chemistry backend `cudaq.chemistry.create_molecular_hamiltonian(...)`.\n",
        "\n",
        "Even though we are doing a quantum variational calculation, the observable (the Hamiltonian) is derived from the same electronic structure Hamiltonian as classical Hartree-Fock SCF, which is typically expressed in Hartrees:\n",
        "\n",
        "> $H = \\sum_{pq} h_{pq} a_p^\\dagger a_q + \\frac{1}{2} \\sum_{pqrs} h_{pqrs} a_p^\\dagger a_q^\\dagger a_r a_s$\n",
        "\n",
        "where $h_{pq}$, $h_{pqrs}$ are integrals in Hartree units.\n"
      ],
      "metadata": {
        "id": "UmtlBsiqyND_"
      }
    },
    {
      "cell_type": "markdown",
      "source": [
        "This takes one second to calculate on a single L4 GPU. So we don't need multi GPU or multi-node resources for distributed computation."
      ],
      "metadata": {
        "id": "NkEjQQ2ovwlN"
      }
    },
    {
      "cell_type": "markdown",
      "source": [
        "#### <font color=\"blue\">**Step 3: Classical Simulation of Ground State Energy for Hydrogen molecule H₂**"
      ],
      "metadata": {
        "id": "_b0MA7FX1bSD"
      }
    },
    {
      "cell_type": "markdown",
      "source": [
        "Before we move on to large molecules, let us hold on for a second and compare our quantum computational simulation with a standard classical computational simulation. We will notice a difference between both results and this it important to understand why."
      ],
      "metadata": {
        "id": "p1TSUWwZ1j2r"
      }
    },
    {
      "cell_type": "code",
      "source": [
        "###############################\n",
        "# Classical Computational Chemistry\n",
        "###############################\n",
        "\n",
        "# Let us compare the results from the quantum computational chemistry approach with a classical\n",
        "# We use Hartree-Fock SCF (Slater Determinant-based Hartree-Fock Hamiltonian)\n",
        "\n",
        "# Define hydrogen (H2) molecule\n",
        "from pyscf import gto\n",
        "mol = gto.Mole()\n",
        "mol.atom = '''\n",
        "    H  0.00 0.00  0.00\n",
        "    H  0.00 0.00  0.74\n",
        "'''\n",
        "\n",
        "# First, ensure you have the PySCF package installed\n",
        "from pyscf import gto, scf\n",
        "import matplotlib.pyplot as plt\n",
        "\n",
        "# Step 1: Define the molecule using gto.M() function\n",
        "mol = gto.M(\n",
        "    atom = mol.atom,\n",
        "    basis = 'cc-pvdz',  # Use a common basis set, good balance between accuracy and computational cost\n",
        ")\n",
        "\n",
        "# Step 2: Perform a HF-SCF calculation using Restricted Hartree-Fock (RHF) method\n",
        "\n",
        "# scf.RHF for a restricted Hartree-Fock calculation for a closed-shell system (H₂O)\n",
        "mf = scf.RHF(mol)\n",
        "\n",
        "# Store convergence data\n",
        "conv_data = []\n",
        "\n",
        "# Callback function to collect convergence information\n",
        "# (callback function captures energy values at each iteration to track the convergence process)\n",
        "def callback(envs):\n",
        "    conv_data.append(envs['e_tot'])\n",
        "\n",
        "# Set the callback directly on the mf object\n",
        "mf.callback = callback\n",
        "\n",
        "# Perform HF calculation\n",
        "energy_classical = mf.kernel()\n",
        "\n",
        "# Extract energy values and iteration numbers\n",
        "energies = conv_data\n",
        "iterations = range(1, len(energies) + 1)\n",
        "\n",
        "# Plot the convergence\n",
        "plt.plot(iterations, energies, marker='o')\n",
        "plt.xlabel('Iteration')\n",
        "plt.ylabel('Total Energy (Hartree)')\n",
        "plt.title('HF-SCF Convergence')\n",
        "plt.grid(True)\n",
        "plt.show()\n",
        "\n",
        "print(f\"HF-SCF energy for H2: {energy_classical} Hartree\")"
      ],
      "metadata": {
        "colab": {
          "base_uri": "https://localhost:8080/",
          "height": 506
        },
        "id": "op-mjH5mwJ1S",
        "outputId": "bda1e168-5631-49e7-a9de-6c13d2f4c3a7"
      },
      "execution_count": null,
      "outputs": [
        {
          "output_type": "stream",
          "name": "stdout",
          "text": [
            "converged SCF energy = -1.12870009355644\n"
          ]
        },
        {
          "output_type": "display_data",
          "data": {
            "text/plain": [
              "<Figure size 640x480 with 1 Axes>"
            ],
            "image/png": "[encoded data removed]"
          },
          "metadata": {}
        },
        {
          "output_type": "stream",
          "name": "stdout",
          "text": [
            "HF-SCF energy for H2: -1.1287000935564417 Hartree\n"
          ]
        }
      ]
    },
    {
      "cell_type": "code",
      "source": [
        "print(f\"Quantum Simulation for H2: {energy} Hartree\")\n",
        "print(f\"Classic Simulation for H2: {energy_classical} Hartree\")\n",
        "print(f\"Correlation Energy for H2: {energy_classical - energy} Hartree (Classical - Quantum)\")"
      ],
      "metadata": {
        "colab": {
          "base_uri": "https://localhost:8080/"
        },
        "id": "06uEMn6zw5vL",
        "outputId": "29f101c9-e827-4ac1-f4c3-fdbe09accbb6"
      },
      "execution_count": null,
      "outputs": [
        {
          "output_type": "stream",
          "name": "stdout",
          "text": [
            "Quantum Simulation for H2: -1.1371740035195186 Hartree\n",
            "Classic Simulation for H2: -1.1287000935564417 Hartree\n",
            "Correlation Energy for H2: 0.008473909963076842 Hartree (Classical - Quantum)\n"
          ]
        }
      ]
    },
    {
      "cell_type": "markdown",
      "source": [
        "The **classical simulation** is using 'Restricted Hartree-Fock (RHF)'. This is so-called a 'mean-field method' that uses a single Slater determinant to approximate the ground state. The result is:\n",
        "\n",
        "> $E_{\\text{HF}} = -1.1287 \\ \\text{Hartree}$\n",
        "\n",
        "This approach ignores electron correlation beyond exchange interactions for computational efficiency.\n",
        "\n",
        "The **quantum simulation** uses VQE with a UCCSD ansatz, which goes beyond Hartree-Fock, because it captures electron correlation by including excited Slater determinants in a variational way. This approximates so-called 'Full Configuration Interaction (FCI)' more closely and gives the more exact solution in the chosen basis. The result is:\n",
        "\n",
        "> $E_{\\text{VQE}} \\approx -1.1372 \\ \\text{Hartree}$\n",
        "* This is lower than the HF energy, as expected.\n",
        "\n",
        "The difference of\n",
        "\n",
        "> $\\Delta E = E_{\\text{HF}} - E_{\\text{VQE}} \\approx 0.0085 \\ \\text{Hartree}$\n",
        "\n",
        "is the correlation energy captured by the UCCSD ansatz but missed by Hartree-Fock. So the quantum result is more accurate, assuming the ansatz is expressive enough and optimization converges well.\n",
        "\n",
        "Running a full configuration interaction (FCI) for comparison would give us the exact ground state energy in the basis set and confirm that the VQE is close to the true minimum."
      ],
      "metadata": {
        "id": "2JfPlyT-ySGW"
      }
    },
    {
      "cell_type": "code",
      "source": [
        "###############################\n",
        "# Control and Diagnostics\n",
        "###############################\n",
        "\n",
        "# We can also integrate popular libraries like scipy with CUDA-Q\n",
        "# This is re-doing what cudaq.vqe(...) already did, but\n",
        "# This is an independent run of VQE, entirely manual:\n",
        "# We directly minimize the cost function.\n",
        "# Use the same optimizer (\"COBYLA\").\n",
        "# Track the optimization via the callback.\n",
        "\n",
        "\n",
        "# Define a function to minimize\n",
        "def cost(theta):\n",
        "\n",
        "    exp_val = cudaq.observe(kernel, molecule, theta).expectation()\n",
        "\n",
        "    return exp_val\n",
        "\n",
        "# exp_vals records energy after each optimization step, used to plot convergence curve\n",
        "exp_vals = []\n",
        "\n",
        "\n",
        "def callback(xk):\n",
        "    exp_vals.append(cost(xk))\n",
        "\n",
        "\n",
        "# Initial variational parameters.\n",
        "np.random.seed(42)\n",
        "x0 = np.random.normal(0, np.pi, parameter_count)\n",
        "\n",
        "# Manual optimization with SciPy\n",
        "result = minimize(cost,\n",
        "                  x0,\n",
        "                  method='COBYLA',\n",
        "                  callback=callback,\n",
        "                  options={'maxiter': 40})\n",
        "\n",
        "plt.plot(exp_vals)\n",
        "plt.xlabel('Epochs')\n",
        "plt.ylabel('Energy')\n",
        "plt.title('VQE')\n",
        "plt.show()"
      ],
      "metadata": {
        "id": "_hA-z2JlNHEB",
        "colab": {
          "base_uri": "https://localhost:8080/",
          "height": 472
        },
        "outputId": "6b77a9ce-c599-4696-85a1-76321bd2882a"
      },
      "execution_count": null,
      "outputs": [
        {
          "output_type": "display_data",
          "data": {
            "text/plain": [
              "<Figure size 640x480 with 1 Axes>"
            ],
            "image/png": "[encoded data removed]"
          },
          "metadata": {}
        }
      ]
    },
    {
      "cell_type": "markdown",
      "source": [
        "#### <font color=\"blue\">**Step 4: Quantum Simulation of Ground State Energy for Ammonia molecule NH₃**"
      ],
      "metadata": {
        "id": "Gta19o5arDxT"
      }
    },
    {
      "cell_type": "markdown",
      "source": [
        "###### <font color=\"blue\">*Step 4.1: Run quantum simulation on single GPU*"
      ],
      "metadata": {
        "id": "8QZB6QcF7Nht"
      }
    },
    {
      "cell_type": "markdown",
      "source": [
        "Now we are ready to step up the game to simulate a larger molecule which requires more resources for quantum simulation.\n",
        "\n",
        "**Previously, simulating the quantum algorithm for a hydrogen molecule is easy. Hydrogen H₂ has:**\n",
        "\n",
        "* 2 hydrogen atoms in a linear chain\n",
        "* distance: 0.7474 Å apart\n",
        "* simple diatomic molecule\n",
        "* geometry: H--H\n",
        "\n",
        "From our resource requirements code above we saw that his molecular structure had only an electron count = 2 with number of orbitals = 2. Simulation the ground state energy H₂ with a quantum algorithm requires only ~4 qubits, because: 2 orbitals × 2 spin states. This is fairly easy to simulate on a single GPU.\n",
        "\n",
        "**Now let's create NH₃ (ammonia). This molecule is larger as it has:**\n",
        "* 1 nitrogen atom + 3 hydrogen atoms\n",
        "* Pyramidal structure\n",
        "* Much more complex molecule\n",
        "* Geometry: N at center with 3 H atoms around it\n",
        "\n",
        "The main differences between hydrogen H₂ and ammonia NH₃ are:\n",
        "* Different atoms: H₂ vs NH₃\n",
        "* Different complexity: 2 atoms vs 4 atoms\n",
        "* Different electron count: H₂ has 2 electrons, NH₃ has 10 electrons (N has 7, each H has 1)\n",
        "* Different qubit requirements: H₂ needs fewer qubits than NH₃\n",
        "\n",
        "**NH₃ has an electron count of 10 and with 8 orbitals. We will need 16 qubits for quantum simulation.**"
      ],
      "metadata": {
        "id": "SLt3QSaN2Q0V"
      }
    },
    {
      "cell_type": "code",
      "source": [
        "###############################\n",
        "# GPU backend for simulation\n",
        "###############################\n",
        "\n",
        "# Single precision\n",
        "cudaq.set_target(\"nvidia\")\n",
        "\n",
        "# Double precision\n",
        "#cudaq.set_target(\"nvidia-fp64\")"
      ],
      "metadata": {
        "id": "LshKySV14MyG"
      },
      "execution_count": null,
      "outputs": []
    },
    {
      "cell_type": "code",
      "source": [
        "###############################\n",
        "# Molecule and Basis Set\n",
        "###############################\n",
        "\n",
        "# Number of hydrogen atoms.\n",
        "hydrogen_count = 2\n",
        "\n",
        "# Define ammonia molecule\n",
        "geometry = [\n",
        "    [\"N\", (0.0000, 0.0000, 0.0000)], # Nitrogen\n",
        "    [\"H\", (0.0000, 0.0000, 1.0120)], # Hydrogen 1\n",
        "    [\"H\", (0.9377, 0.0000, -0.3430)], # Hydrogen 2\n",
        "    [\"H\", (-0.9377, 0.0000, -0.3430)] # Hydrogen 3\n",
        "    ]\n",
        "\n",
        "# We use STO-3G basis set and build the electronic Hamiltonian\n",
        "molecule, data = cudaq.chemistry.create_molecular_hamiltonian(\n",
        "    geometry, 'sto-3g', 1, 0)\n",
        "\n",
        "electron_count = data.n_electrons\n",
        "qubit_count = 2 * data.n_orbitals"
      ],
      "metadata": {
        "id": "Hy_vokfb4O6S"
      },
      "execution_count": null,
      "outputs": []
    },
    {
      "cell_type": "code",
      "source": [
        "###############################\n",
        "# Resource Requirements\n",
        "###############################\n",
        "\n",
        "# This is important to define the distribution strategy (# of GPUs and nodes)\n",
        "print(f\"Electron count: {electron_count}\")\n",
        "print(f\"Qubit count: {qubit_count}\")\n",
        "print(f\"Number of orbitals: {data.n_orbitals}\")"
      ],
      "metadata": {
        "colab": {
          "base_uri": "https://localhost:8080/"
        },
        "id": "bs2jsnpSq7CK",
        "outputId": "49812ee4-9ce3-4443-966f-802e096d55a4"
      },
      "execution_count": null,
      "outputs": [
        {
          "output_type": "stream",
          "name": "stdout",
          "text": [
            "Electron count: 10\n",
            "Qubit count: 16\n",
            "Number of orbitals: 8\n"
          ]
        }
      ]
    },
    {
      "cell_type": "markdown",
      "source": [
        "This calculation is going to take 1 hours if we proceed with our calculation from above on a single L4 GPU . This means we need to think how we distribute the optimization."
      ],
      "metadata": {
        "id": "z2-wQoiP40Xr"
      }
    },
    {
      "cell_type": "code",
      "source": [
        "###############################\n",
        "# Kernel and Ansatz (VQE)\n",
        "###############################\n",
        "\n",
        "# Quantum kernel prepares Hartree-Fock state by applying X gates to electrons and UCCSD ansatz with parameters thetas\n",
        "# Unitary Coupled-Cluster Singles and Doubles (UCCSD) captures electronic correlations well, often used in quantum chemistry\n",
        "# Alternatives: Nelder-Mead vs gradient-based etc\n",
        "\n",
        "@cudaq.kernel\n",
        "def kernel(thetas: list[float]):\n",
        "\n",
        "    qubits = cudaq.qvector(qubit_count)\n",
        "\n",
        "    for i in range(electron_count):\n",
        "        x(qubits[i])\n",
        "\n",
        "    cudaq.kernels.uccsd(qubits, thetas, electron_count, qubit_count)\n",
        "\n",
        "parameter_count = cudaq.kernels.uccsd_num_parameters(electron_count,\n",
        "                                                     qubit_count)"
      ],
      "metadata": {
        "id": "mw7ENmWi63CG"
      },
      "execution_count": null,
      "outputs": []
    },
    {
      "cell_type": "code",
      "source": [
        "###############################\n",
        "# Optimizer\n",
        "###############################\n",
        "\n",
        "# COBYLA (Constrained Optimization BY Linear Approximations) for minimization of expected energy of molecule\n",
        "# Gradient-free classical optimizer, well-suited for noisy landscapes (like those from VQE)\n",
        "\n",
        "optimizer = cudaq.optimizers.COBYLA()\n",
        "\n",
        "# 'cudaq.vqe' executes Variational Quantum Eigensolver (VQE)\n",
        "# Internally loops over parameters, evaluates energy, optimizes. Returns lowest energy and optimal parameters\n",
        "energy, parameters = cudaq.vqe(kernel,\n",
        "                               molecule,\n",
        "                               optimizer,\n",
        "                               parameter_count=parameter_count)\n",
        "\n",
        "print(f\"VQE minimum energy for NH₃: {energy} Hartree\")"
      ],
      "metadata": {
        "colab": {
          "base_uri": "https://localhost:8080/"
        },
        "id": "NjZMe20Q65LX",
        "outputId": "7cb7f627-186e-42ac-a487-88b91e2bad79"
      },
      "execution_count": null,
      "outputs": [
        {
          "output_type": "stream",
          "name": "stdout",
          "text": [
            "VQE minimum energy for NH₃: -55.43534589340438 Hartree\n"
          ]
        }
      ]
    },
    {
      "cell_type": "markdown",
      "source": [
        "DFT energy for Ammonia (NH₃) using b3lyp: -56.55414643336473 Hartree"
      ],
      "metadata": {
        "id": "NsAoR9yIR4OO"
      }
    },
    {
      "cell_type": "code",
      "source": [
        "from pyscf import gto\n",
        "\n",
        "# Define the molecule\n",
        "mol = gto.Mole()\n",
        "mol.atom = '''\n",
        "    N  0.0000  0.0000  0.2000\n",
        "    H  0.0000  0.9433 -0.2000\n",
        "    H  0.8165 -0.4717 -0.2000\n",
        "    H -0.8165 -0.4717 -0.2000\n",
        "'''\n",
        "\n",
        "# Name\n",
        "molecule = 'Ammonia (NH₃)'\n",
        "\n",
        "# Set basis set\n",
        "mol.basis = 'sto-3g' # Alternatively: sto-3g, cc-pvdz,6-31G\n",
        "\n",
        "from pyscf import dft\n",
        "\n",
        "# Define the molecule\n",
        "mol.atom = mol.atom\n",
        "mol.basis = mol.basis\n",
        "mol.verbose = 4\n",
        "mol.build()\n",
        "\n",
        "# Perform a DFT calculation part I\n",
        "mf = dft.RKS(mol)\n",
        "mf.xc = 'b3lyp'\n",
        "\n",
        "### Store convergence data\n",
        "conv_data = []\n",
        "\n",
        "### Callback function to collect convergence information\n",
        "def callback(envs):\n",
        "    conv_data.append(envs['e_tot'])\n",
        "\n",
        "### Set the callback directly on the mf object\n",
        "mf.callback = callback\n",
        "\n",
        "# Perform a DFT calculation part II\n",
        "energy = mf.kernel()\n",
        "\n",
        "# Extract energy values and iteration numbers\n",
        "energies = conv_data\n",
        "iterations = range(1, len(energies) + 1)\n",
        "\n",
        "print(f\"DFT energy for {molecule} using {mf.xc}: {energy} Hartree\")"
      ],
      "metadata": {
        "id": "-EL43-jFRTqT"
      },
      "execution_count": null,
      "outputs": []
    },
    {
      "cell_type": "markdown",
      "source": [
        "###### <font color=\"blue\">*Step 4.2: Understand Resource Requirements*<font color=\"blue\">"
      ],
      "metadata": {
        "id": "mFfC_Ict7EfR"
      }
    },
    {
      "cell_type": "markdown",
      "source": [
        "We are performing quantum chemistry simulations using VQE with a UCCSD ansatz on molecules like H₂ and NH₃. While H₂ is fast to simulate, NH₃ requires hours even on a high-end GPU, because the quantum state size and circuit depth grow exponentially with the number of qubits (16+ for NH₃). To make simulation tractable, we need distributed quantum simulation strategies.\n",
        "\n",
        "**Challenge for scaling is the state vector size:**\n",
        "* For n qubits, the state vector has $2^n$ complex amplitudes.\n",
        "* Each amplitude is typically 16 bytes (complex128: 8 bytes real + 8 bytes imag).\n",
        "* For NH₃ (16 qubits):\n",
        "\n",
        "> $2^{16} \\times 16\\ \\text{bytes} = 1,048,576\\ \\text{bytes} = 1\\ \\text{MB}$\n",
        "\n",
        "→ This seems small, but:\n",
        "* Circuit gates require global access to amplitudes, and\n",
        "* As qubit count grows, memory and communication become the bottleneck (every additional qubit doubles memory requirements)\n",
        "\n",
        "**A very rough rule of thumb for resource-based regimes is:**\n",
        "* 12-16 (e.g., H₂, NH₃) qubits, best: Single node with multiple GPUs\n",
        "* 17-24 qubits, best is Multi-GPU, possibly multi-node\n",
        "* 25+ qubits, best is Distributed across multiple nodes\n",
        "* max is around 43 qubits that can be simulated in classical HPC\n",
        "\n",
        "But how are these numbers derived? There is actually not a single root cause, but various, with different implications when simulating quantum algorithms:\n",
        "\n",
        "**1. State Vector Storage**\n",
        "* Distribution Strategy: Data Parallel\n",
        "* Pattern: Each GPU stores a subset of the full state vector.\n",
        "* Communication: Minimal for storage; needed when computing global expectation values or applying nonlocal gates.\n",
        "* Scaling: Perfectly scalable until memory runs out. The challenge lies not in holding the state but in applying gates and observing it.\n",
        "\n",
        "**2. Gate Operations (Circuit Execution)**\n",
        "* Distribution Strategy: Data + Model Parallel\n",
        "* Pattern:\n",
        "  * Single-qubit gates: Local operations on the amplitude chunk — no communication.\n",
        "  * Two-qubit gates (like CNOT): Span multiple chunks → require nearest-neighbor or all-to-all communication.\n",
        "* Communication Cost: High for gates that entangle distant qubits.\n",
        "* Scaling:\n",
        "  * Good for shallow, local circuits.\n",
        "  * Degrades for deep, highly entangled circuits (as in UCCSD for NH₃).\n",
        "\n",
        "**3. VQE Optimization Loop**\n",
        "* Distribution Strategy: Parameter Parallel (or functional parallelism)\n",
        "* Pattern:\n",
        "  * Each GPU evaluates energy for a different parameter set (like in SPSA or grid search).\n",
        "  * Gradients or losses can be reduced and aggregated.\n",
        "* Communication: Moderate — parameter broadcast, gradient collection.\n",
        "* Scaling: Limited by the fact that VQE is sequential:\n",
        "  * You update parameters → evaluate energy → repeat.\n",
        "  * True parallelism is in batching expectation evaluations, not the optimizer itself.\n",
        "\n",
        "**4. Expectation Value Calculation**\n",
        "* Distribution Strategy: Data Parallel\n",
        "* Pattern:\n",
        "  * Each GPU evaluates a subset of Pauli terms.\n",
        "  * This is often the most parallelizable part.\n",
        "* Communication: Just one reduction (sum) after local evaluations.\n",
        "* Scaling: Excellent — practically very parallel.\n",
        "\n",
        "| Module               | Parallel Strategy     | Communication Pattern           | Scaling Behavior                    |\n",
        "| -------------------- | --------------------- | ------------------------------- | ----------------------------------- |\n",
        "| State Vector Storage | Data Parallel         | All-reduce (for global ops)     | Excellent until memory limit        |\n",
        "| Gate Execution       | Data + Model Parallel | Nearest neighbor / all-to-all   | Moderate, CNOT-heavy circuits limit |\n",
        "| VQE Optimization     | Parameter Parallel    | Parameter broadcast, reduction  | Limited (serial bottleneck)         |\n",
        "| Expectation Value    | Data Parallel         | Single reduction (sum of terms) | Excellent – embarrassingly parallel |\n",
        "\n",
        "**So, how do we define a distribution strategy to optimize NH₃ simulation with 16 Qubits?**\n",
        "* NH₃ may require evaluating 156 Pauli terms → With 4 GPUs: 39 terms per GPU = \\~4x speedup in this step\n",
        "* Use a Single Node with 4 GPUs:\n",
        "   * NH₃ is small enough to fit on one node.\n",
        "   * NVLink allows fast communication between GPUs (\\~600 GB/s).\n",
        "* Distribute Expectation Value Calculation:\n",
        "   * Each GPU handles a subset of Pauli terms.\n",
        "   * Nearly perfect parallelism with minimal communication.\n",
        "* Parallelize State Vector + Single-Qubit Gates:\n",
        "   * 60% of gates in UCCSD are single-qubit → perfect scaling.\n",
        "   * Two-qubit gates are manageable over NVLink.\n",
        "* But we avoid Multi-Node Unless Needed:\n",
        "   * For NH₃, multi-node introduces overhead with little gain.\n",
        "   * Memory (160 GB for 4 A100s) is more than enough for 16 qubits.\n"
      ],
      "metadata": {
        "id": "qQ6_fTXzORQC"
      }
    },
    {
      "cell_type": "markdown",
      "source": [
        "###### <font color=\"blue\">*Step 4.3: Set Up Google Cloud HPC Infrastructure*"
      ],
      "metadata": {
        "id": "tgp_YJbq8CSQ"
      }
    },
    {
      "cell_type": "markdown",
      "source": [
        "First, create a cluster with GPU nodes"
      ],
      "metadata": {
        "id": "l_S5M-sd7a-3"
      }
    },
    {
      "cell_type": "markdown",
      "source": [
        "```\n",
        "# gcp-hpc-cluster.yaml\n",
        "apiVersion: compute/v1\n",
        "kind: InstanceTemplate\n",
        "metadata:\n",
        "  name: quantum-sim-template\n",
        "spec:\n",
        "  machineType: a2-highgpu-4g  # 4x A100 GPUs per node\n",
        "  # Alternative: a2-ultragpu-8g for 8x A100 GPUs\n",
        "  \n",
        "  disks:\n",
        "  - boot: true\n",
        "    initializeParams:\n",
        "      sourceImage: projects/ml-images/global/images/c0-deeplearning-common-gpu-v20240125-debian-11\n",
        "      diskSizeGb: 200\n",
        "  \n",
        "  networkInterfaces:\n",
        "  - network: projects/[PROJECT_ID]/global/networks/default\n",
        "    accessConfigs:\n",
        "    - type: ONE_TO_ONE_NAT\n",
        "  \n",
        "  scheduling:\n",
        "    preemptible: false  # Use non-preemptible for long quantum sims\n",
        "  \n",
        "  metadata:\n",
        "    items:\n",
        "    - key: install-nvidia-driver\n",
        "      value: \"True\"\n",
        "    - key: startup-script\n",
        "      value: |\n",
        "        #!/bin/bash\n",
        "        # Install CUDA Quantum and MPI\n",
        "        pip install cudaq mpi4py\n",
        "        \n",
        "        # Install NCCL for GPU communication\n",
        "        wget https://developer.download.nvidia.com/compute/cuda/repos/ubuntu2004/x86_64/cuda-keyring_1.0-1_all.deb\n",
        "        dpkg -i cuda-keyring_1.0-1_all.deb\n",
        "        apt update\n",
        "        apt install -y libnccl2 libnccl-dev\n",
        "\n",
        "---\n",
        "# Create managed instance group\n",
        "apiVersion: compute/v1\n",
        "kind: InstanceGroupManager\n",
        "metadata:\n",
        "  name: quantum-sim-cluster\n",
        "spec:\n",
        "  baseInstanceName: quantum-node\n",
        "  instanceTemplate: quantum-sim-template\n",
        "  targetSize: 4  # Start with 4 nodes\n",
        "  zone: us-central1-a\n",
        "```"
      ],
      "metadata": {
        "id": "rVXhoHQw7yeC"
      }
    },
    {
      "cell_type": "markdown",
      "source": [
        "*Distributed CUDA-Q ImplementationDistributed Multi-GPU VQE Implementation*"
      ],
      "metadata": {
        "id": "t0pNMmu38VW1"
      }
    },
    {
      "cell_type": "markdown",
      "source": [
        "```\n",
        "#!/usr/bin/env python3\n",
        "\"\"\"\n",
        "Distributed Multi-GPU VQE for large molecular systems\n",
        "Requires: mpirun -np <num_processes> python distributed_vqe.py\n",
        "\"\"\"\n",
        "\n",
        "import numpy as np\n",
        "import cudaq\n",
        "from mpi4py import MPI\n",
        "import os\n",
        "import time\n",
        "from scipy.optimize import minimize\n",
        "import matplotlib.pyplot as plt\n",
        "\n",
        "# MPI Setup\n",
        "comm = MPI.COMM_WORLD\n",
        "rank = comm.Get_rank()\n",
        "size = comm.Get_size()\n",
        "\n",
        "def setup_distributed_cudaq():\n",
        "    \"\"\"Configure CUDA-Q for distributed execution\"\"\"\n",
        "    \n",
        "    # Set GPU device based on local rank\n",
        "    local_rank = rank % 4  # Assuming 4 GPUs per node\n",
        "    os.environ['CUDA_VISIBLE_DEVICES'] = str(local_rank)\n",
        "    \n",
        "    # Use distributed GPU target\n",
        "    if rank == 0:\n",
        "        print(f\"Setting up distributed simulation with {size} processes\")\n",
        "    \n",
        "    # For large systems, use nvidia-mgpu target\n",
        "    cudaq.set_target(\"nvidia-mgpu\")\n",
        "    # Alternative: cudaq.set_target(\"nvidia-fp64-mgpu\") for double precision\n",
        "    \n",
        "    return local_rank\n",
        "\n",
        "def create_nh3_molecule():\n",
        "    \"\"\"Create NH3 molecular Hamiltonian\"\"\"\n",
        "    geometry = [\n",
        "        [\"N\", (0.0000, 0.0000, 0.0000)],  # Nitrogen\n",
        "        [\"H\", (0.0000, 0.0000, 1.0120)],  # Hydrogen 1\n",
        "        [\"H\", (0.9377, 0.0000, -0.3430)], # Hydrogen 2\n",
        "        [\"H\", (-0.9377, 0.0000, -0.3430)] # Hydrogen 3\n",
        "    ]\n",
        "    \n",
        "    if rank == 0:\n",
        "        print(\"Creating molecular Hamiltonian...\")\n",
        "    \n",
        "    hamiltonian, data = cudaq.chemistry.create_molecular_hamiltonian(\n",
        "        geometry, \"sto-3g\", 1, 0)\n",
        "    \n",
        "    return hamiltonian, data\n",
        "\n",
        "@cudaq.kernel\n",
        "def distributed_uccsd_kernel(thetas: list[float], electron_count: int, qubit_count: int):\n",
        "    \"\"\"Distributed UCCSD ansatz kernel\"\"\"\n",
        "    qubits = cudaq.qvector(qubit_count)\n",
        "    \n",
        "    # Initialize Hartree-Fock state\n",
        "    for i in range(electron_count):\n",
        "        x(qubits[i])\n",
        "    \n",
        "    # Apply UCCSD ansatz\n",
        "    cudaq.kernels.uccsd(qubits, thetas, electron_count, qubit_count)\n",
        "\n",
        "class DistributedVQE:\n",
        "    def __init__(self, hamiltonian, data):\n",
        "        self.hamiltonian = hamiltonian\n",
        "        self.data = data\n",
        "        self.electron_count = data.n_electrons\n",
        "        self.qubit_count = 2 * data.n_orbitals\n",
        "        self.parameter_count = cudaq.kernels.uccsd_num_parameters(\n",
        "            self.electron_count, self.qubit_count)\n",
        "        \n",
        "        if rank == 0:\n",
        "            print(f\"Electron count: {self.electron_count}\")\n",
        "            print(f\"Qubit count: {self.qubit_count}\")\n",
        "            print(f\"Parameter count: {self.parameter_count}\")\n",
        "            print(f\"State vector size: 2^{self.qubit_count} = {2**self.qubit_count}\")\n",
        "    \n",
        "    def cost_function(self, theta):\n",
        "        \"\"\"Distributed cost function evaluation\"\"\"\n",
        "        start_time = time.time()\n",
        "        \n",
        "        # Each process evaluates expectation value\n",
        "        exp_val = cudaq.observe(\n",
        "            distributed_uccsd_kernel,\n",
        "            self.hamiltonian,\n",
        "            theta,\n",
        "            self.electron_count,\n",
        "            self.qubit_count\n",
        "        ).expectation()\n",
        "        \n",
        "        # Synchronize across processes (CUDA-Q handles this internally)\n",
        "        comm.Barrier()\n",
        "        \n",
        "        if rank == 0:\n",
        "            print(f\"Cost evaluation time: {time.time() - start_time:.2f}s, Energy: {exp_val:.6f}\")\n",
        "        \n",
        "        return exp_val\n",
        "    \n",
        "    def optimize(self, max_iterations=100):\n",
        "        \"\"\"Run distributed VQE optimization\"\"\"\n",
        "        \n",
        "        # Initialize parameters on rank 0, broadcast to all\n",
        "        if rank == 0:\n",
        "            np.random.seed(42)\n",
        "            x0 = np.random.normal(0, 0.1, self.parameter_count)\n",
        "        else:\n",
        "            x0 = np.empty(self.parameter_count)\n",
        "        \n",
        "        comm.Bcast(x0, root=0)\n",
        "        \n",
        "        # Track convergence\n",
        "        self.energies = []\n",
        "        \n",
        "        def callback(xk):\n",
        "            energy = self.cost_function(xk)\n",
        "            if rank == 0:\n",
        "                self.energies.append(energy)\n",
        "                print(f\"Iteration {len(self.energies)}: Energy = {energy:.8f}\")\n",
        "        \n",
        "        if rank == 0:\n",
        "            print(\"Starting VQE optimization...\")\n",
        "            start_time = time.time()\n",
        "        \n",
        "        # Run optimization (only rank 0 controls optimizer)\n",
        "        if rank == 0:\n",
        "            result = minimize(\n",
        "                self.cost_function,\n",
        "                x0,\n",
        "                method='COBYLA',\n",
        "                callback=callback,\n",
        "                options={\n",
        "                    'maxiter': max_iterations,\n",
        "                    'disp': True,\n",
        "                    'rhobeg': 0.1\n",
        "                }\n",
        "            )\n",
        "            \n",
        "            print(f\"Optimization completed in {time.time() - start_time:.2f}s\")\n",
        "            print(f\"Final energy: {result.fun:.8f}\")\n",
        "            print(f\"Converged: {result.success}\")\n",
        "            \n",
        "            return result\n",
        "        else:\n",
        "            # Worker processes just evaluate cost function when called\n",
        "            for _ in range(max_iterations * 5):  # Upper bound estimate\n",
        "                try:\n",
        "                    # Workers will be called via scipy's minimize\n",
        "                    pass\n",
        "                except:\n",
        "                    break\n",
        "    \n",
        "    def plot_convergence(self):\n",
        "        \"\"\"Plot energy convergence\"\"\"\n",
        "        if rank == 0 and self.energies:\n",
        "            plt.figure(figsize=(10, 6))\n",
        "            plt.plot(self.energies, 'b-', linewidth=2)\n",
        "            plt.xlabel('Iteration')\n",
        "            plt.ylabel('Energy (Hartree)')\n",
        "            plt.title('Distributed VQE Convergence')\n",
        "            plt.grid(True, alpha=0.3)\n",
        "            plt.tight_layout()\n",
        "            plt.savefig('distributed_vqe_convergence.png', dpi=300)\n",
        "            plt.show()\n",
        "\n",
        "def run_distributed_benchmark():\n",
        "    \"\"\"Run performance benchmark\"\"\"\n",
        "    if rank == 0:\n",
        "        print(f\"Running distributed benchmark on {size} processes\")\n",
        "    \n",
        "    # Test different problem sizes\n",
        "    sizes = [12, 16, 20] if size >= 4 else [12, 16]\n",
        "    \n",
        "    for test_size in sizes:\n",
        "        if rank == 0:\n",
        "            print(f\"\\nTesting {test_size} qubits...\")\n",
        "        \n",
        "        # Create synthetic test\n",
        "        @cudaq.kernel\n",
        "        def test_kernel(qubit_count: int):\n",
        "            qubits = cudaq.qvector(qubit_count)\n",
        "            for i in range(qubit_count):\n",
        "                if i % 2 == 0:\n",
        "                    x(qubits[i])\n",
        "            \n",
        "            # Add some entanglement\n",
        "            for i in range(qubit_count - 1):\n",
        "                cx(qubits[i], qubits[i + 1])\n",
        "        \n",
        "        start_time = time.time()\n",
        "        counts = cudaq.sample(test_kernel, test_size)\n",
        "        comm.Barrier()\n",
        "        \n",
        "        if rank == 0:\n",
        "            elapsed = time.time() - start_time\n",
        "            print(f\"{test_size} qubits: {elapsed:.2f}s\")\n",
        "\n",
        "def main():\n",
        "    \"\"\"Main distributed VQE execution\"\"\"\n",
        "    \n",
        "    # Setup\n",
        "    local_rank = setup_distributed_cudaq()\n",
        "    \n",
        "    if rank == 0:\n",
        "        print(\"=\"*60)\n",
        "        print(\"Distributed Quantum VQE for NH3 Molecule\")\n",
        "        print(f\"Running on {size} processes\")\n",
        "        print(\"=\"*60)\n",
        "    \n",
        "    # Create molecule\n",
        "    hamiltonian, data = create_nh3_molecule()\n",
        "    \n",
        "    # Run benchmark first\n",
        "    run_distributed_benchmark()\n",
        "    \n",
        "    # Initialize VQE\n",
        "    vqe = DistributedVQE(hamiltonian, data)\n",
        "    \n",
        "    # Run optimization\n",
        "    if rank == 0:\n",
        "        result = vqe.optimize(max_iterations=50)\n",
        "        vqe.plot_convergence()\n",
        "    else:\n",
        "        vqe.optimize(max_iterations=50)\n",
        "    \n",
        "    if rank == 0:\n",
        "        print(\"Distributed VQE completed successfully!\")\n",
        "\n",
        "if __name__ == \"__main__\":\n",
        "    main()\n",
        "```"
      ],
      "metadata": {
        "id": "uwLhOOx58NTB"
      }
    },
    {
      "cell_type": "markdown",
      "source": [
        "*GCP Deployment and Execution*"
      ],
      "metadata": {
        "id": "PzFWCzjy9BQQ"
      }
    },
    {
      "cell_type": "markdown",
      "source": [
        "```\n",
        "#!/bin/bash\n",
        "# deploy_quantum_sim.sh - Deploy and run distributed quantum simulation\n",
        "\n",
        "set -e\n",
        "\n",
        "# Configuration\n",
        "PROJECT_ID=\"your-project-id\"\n",
        "CLUSTER_NAME=\"quantum-cluster\"\n",
        "ZONE=\"us-central1-a\"\n",
        "NUM_NODES=4\n",
        "GPUS_PER_NODE=4\n",
        "\n",
        "echo \"Setting up distributed quantum simulation on Google Cloud...\"\n",
        "\n",
        "# 1. Create the cluster\n",
        "echo \"Creating HPC cluster...\"\n",
        "gcloud compute instance-groups managed create $CLUSTER_NAME \\\n",
        "    --base-instance-name=quantum-node \\\n",
        "    --size=$NUM_NODES \\\n",
        "    --template=quantum-sim-template \\\n",
        "    --zone=$ZONE\n",
        "\n",
        "# Wait for instances to be ready\n",
        "echo \"Waiting for instances to be ready...\"\n",
        "sleep 60\n",
        "\n",
        "# 2. Get instance IPs\n",
        "INSTANCES=$(gcloud compute instances list --filter=\"name:quantum-node*\" --format=\"value(name)\")\n",
        "EXTERNAL_IPS=$(gcloud compute instances list --filter=\"name:quantum-node*\" --format=\"value(networkInterfaces[0].accessConfigs[0].natIP)\")\n",
        "\n",
        "echo \"Cluster nodes:\"\n",
        "echo \"$INSTANCES\"\n",
        "\n",
        "# 3. Setup SSH keys and hostfile\n",
        "echo \"Setting up SSH and MPI hostfile...\"\n",
        "for ip in $EXTERNAL_IPS; do\n",
        "    ssh-keyscan -H $ip >> ~/.ssh/known_hosts 2>/dev/null || true\n",
        "done\n",
        "\n",
        "# Create hostfile for MPI\n",
        "echo \"$EXTERNAL_IPS\" | sed \"s/\\$/ slots=$GPUS_PER_NODE/\" > hostfile\n",
        "\n",
        "# 4. Install dependencies on all nodes\n",
        "echo \"Installing dependencies on all nodes...\"\n",
        "for ip in $EXTERNAL_IPS; do\n",
        "    echo \"Setting up node $ip...\"\n",
        "    ssh -o StrictHostKeyChecking=no $ip << 'EOF' &\n",
        "        # Update system\n",
        "        sudo apt update\n",
        "        \n",
        "        # Install CUDA Quantum\n",
        "        pip install cudaq mpi4py matplotlib scipy\n",
        "        \n",
        "        # Install NCCL for multi-GPU communication\n",
        "        sudo apt install -y libnccl2 libnccl-dev\n",
        "        \n",
        "        # Verify CUDA installation\n",
        "        nvidia-smi\n",
        "        \n",
        "        echo \"Node setup complete\"\n",
        "EOF\n",
        "done\n",
        "\n",
        "wait\n",
        "echo \"All nodes configured\"\n",
        "\n",
        "# 5. Copy simulation files to all nodes\n",
        "echo \"Copying simulation files...\"\n",
        "FIRST_IP=$(echo $EXTERNAL_IPS | cut -d' ' -f1)\n",
        "\n",
        "# Copy to first node\n",
        "scp distributed_vqe.py $FIRST_IP:~/\n",
        "\n",
        "# Copy from first node to others\n",
        "for ip in $(echo $EXTERNAL_IPS | cut -d' ' -f2-); do\n",
        "    ssh $FIRST_IP \"scp distributed_vqe.py $ip:~/\" &\n",
        "done\n",
        "wait\n",
        "\n",
        "# 6. Run the distributed simulation\n",
        "echo \"Starting distributed VQE simulation...\"\n",
        "\n",
        "# Calculate total processes\n",
        "TOTAL_PROCESSES=$((NUM_NODES * GPUS_PER_NODE))\n",
        "\n",
        "ssh $FIRST_IP << EOF\n",
        "    echo \"Running on $TOTAL_PROCESSES processes across $NUM_NODES nodes\"\n",
        "    \n",
        "    # Run the simulation\n",
        "    mpirun -np $TOTAL_PROCESSES \\\n",
        "           --hostfile hostfile \\\n",
        "           -x CUDA_VISIBLE_DEVICES \\\n",
        "           -x NCCL_DEBUG=INFO \\\n",
        "           --mca btl_tcp_if_include eth0 \\\n",
        "           python3 distributed_vqe.py\n",
        "EOF\n",
        "\n",
        "# 7. Collect results\n",
        "echo \"Collecting results...\"\n",
        "scp $FIRST_IP:~/distributed_vqe_convergence.png ./results/\n",
        "scp $FIRST_IP:~/vqe_output.log ./results/ 2>/dev/null || true\n",
        "\n",
        "echo \"Simulation complete! Results saved to ./results/\"\n",
        "\n",
        "# 8. Optional: Clean up resources\n",
        "read -p \"Delete cluster resources? (y/N): \" -n 1 -r\n",
        "echo\n",
        "if [[ $REPLY =~ ^[Yy]$ ]]; then\n",
        "    echo \"Cleaning up cluster...\"\n",
        "    gcloud compute instance-groups managed delete $CLUSTER_NAME --zone=$ZONE --quiet\n",
        "    echo \"Cleanup complete\"\n",
        "fi\n",
        "```"
      ],
      "metadata": {
        "id": "NRbIVxYX9Ilv"
      }
    },
    {
      "cell_type": "markdown",
      "source": [
        "Performance Optimization Tips\n",
        "\n",
        "For your NH3 molecule (16 qubits), here are key optimizations:\n",
        "Memory Management:\n",
        "* Use nvidia-fp64 only if you need double precision\n",
        "* Consider state vector chunking for >20 qubits\n",
        "* Enable GPU memory pooling\n",
        "\n",
        "Communication Optimization:\n",
        "\n",
        "```\n",
        "# Add to your setup\n",
        "os.environ['NCCL_TREE_THRESHOLD'] = '0'  # Force tree algorithm\n",
        "os.environ['NCCL_IB_DISABLE'] = '1'      # Disable InfiniBand if unavailable`\n",
        "```\n",
        "\n",
        "Algorithm Improvements:\n",
        "* Use parameter sweeps to reduce optimizer calls\n",
        "* Implement adaptive step sizes\n",
        "* Consider QAOA instead of UCCSD for faster convergence\n",
        "\n",
        "Expected Performance\n",
        "For NH3 (16 qubits) on 4 x A100 nodes:\n",
        "* Single iteration: ~10-30 seconds (vs 2+ minutes on T4)\n",
        "* Full optimization: 15-45 minutes (vs 2+ hours)\n",
        "* Memory usage: ~32GB per node (2^16 complex128 × 16 bytes)\n",
        "\n",
        "Quick Start Commands\n",
        "\n",
        "```\n",
        "# Make scripts executable\n",
        "chmod +x deploy_quantum_sim.sh\n",
        "\n",
        "# Set your project ID\n",
        "export PROJECT_ID=\"your-gcp-project\"`\n",
        "\n",
        "# Deploy and run\n",
        "./deploy_quantum_sim.sh`\n",
        "```\n",
        "\n",
        "This setup should dramatically reduce your simulation time from 2 hours to under 30 minutes for NH3, and scale efficiently to larger molecules like caffeine or small proteins!\n"
      ],
      "metadata": {
        "id": "dzxicxuV9wPP"
      }
    }
  ]
}