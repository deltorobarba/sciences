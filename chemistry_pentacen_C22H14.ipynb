{
  "nbformat": 4,
  "nbformat_minor": 0,
  "metadata": {
    "colab": {
      "provenance": [],
      "machine_shape": "hm",
      "gpuType": "A100",
      "include_colab_link": true
    },
    "kernelspec": {
      "name": "python3",
      "display_name": "Python 3"
    },
    "language_info": {
      "name": "python"
    },
    "accelerator": "GPU"
  },
  "cells": [
    {
      "cell_type": "markdown",
      "metadata": {
        "id": "view-in-github",
        "colab_type": "text"
      },
      "source": [
        "<a href=\"https://colab.research.google.com/github/deltorobarba/sciences/blob/master/chemistry_pentacen_C22H14.ipynb\" target=\"_parent\"><img src=\"https://colab.research.google.com/assets/colab-badge.svg\" alt=\"Open In Colab\"/></a>"
      ]
    },
    {
      "cell_type": "markdown",
      "source": [
        "# **Pentacen (C22H14)**"
      ],
      "metadata": {
        "id": "MW95WnMS4EXd"
      }
    },
    {
      "cell_type": "code",
      "source": [
        "!pip install pyscf -q"
      ],
      "metadata": {
        "colab": {
          "base_uri": "https://localhost:8080/"
        },
        "id": "F0zL5o9O3sh7",
        "outputId": "d5957e88-e12f-4414-83eb-fc4b71c81221"
      },
      "execution_count": null,
      "outputs": [
        {
          "output_type": "stream",
          "name": "stdout",
          "text": [
            "\u001b[2K   \u001b[90m━━━━━━━━━━━━━━━━━━━━━━━━━━━━━━━━━━━━━━━━\u001b[0m \u001b[32m48.7/48.7 MB\u001b[0m \u001b[31m46.1 MB/s\u001b[0m eta \u001b[36m0:00:00\u001b[0m\n",
            "\u001b[?25h"
          ]
        }
      ]
    },
    {
      "cell_type": "markdown",
      "source": [
        "**Calculating Ground State energy with Hartree Fock SCF (using basis 6-31G)**"
      ],
      "metadata": {
        "id": "WUD0a_4s7g2A"
      }
    },
    {
      "cell_type": "code",
      "source": [
        "# Hartree-Fock SCF (Slater Determinant)\n",
        "# First, ensure you have the PySCF package installed\n",
        "from pyscf import gto, scf\n",
        "import matplotlib.pyplot as plt\n",
        "import numpy as np\n",
        "\n",
        "# Step 1: Define the molecule using gto.M() function\n",
        "mol = gto.M(\n",
        "    atom = '''\n",
        "    C   0.000000    0.000000    0.000000\n",
        "    C   1.396000    0.000000    0.000000\n",
        "    C   2.094000    1.209600    0.000000\n",
        "    C   3.490000    1.209600    0.000000\n",
        "    C   4.188000    0.000000    0.000000\n",
        "    C   5.584000    0.000000    0.000000\n",
        "    C   6.282000    1.209600    0.000000\n",
        "    C   7.678000    1.209600    0.000000\n",
        "    C   8.376000    0.000000    0.000000\n",
        "    C   9.772000    0.000000    0.000000\n",
        "    H  -0.551000   -0.951000    0.000000\n",
        "    H   1.947000   -0.951000    0.000000\n",
        "    H   1.947000    2.160600    0.000000\n",
        "    H   3.041000   -0.951000    0.000000\n",
        "    H   5.135000   -0.951000    0.000000\n",
        "    H   6.229000   -0.951000    0.000000\n",
        "    H   7.323000   -0.951000    0.000000\n",
        "    H   8.417000   -0.951000    0.000000\n",
        "    H   9.511000   -0.951000    0.000000\n",
        "    H   9.511000    2.160600    0.000000\n",
        "''',\n",
        "    basis = '6-31G',  # Alternativelz´y: cc-pvdz\n",
        ")\n",
        "\n",
        "# Step 2: Perform a HF-SCF calculation using Restricted Hartree-Fock (RHF) method\n",
        "\n",
        "# scf.RHF for a restricted Hartree-Fock calculation for a closed-shell system (H₂O)\n",
        "mf = scf.RHF(mol)\n",
        "\n",
        "# Store convergence data\n",
        "conv_data = []\n",
        "\n",
        "# Callback function to collect convergence information\n",
        "# (callback function captures energy values at each iteration to track the convergence process)\n",
        "def callback(envs):\n",
        "    conv_data.append(envs['e_tot'])\n",
        "\n",
        "# Set the callback directly on the mf object\n",
        "mf.callback = callback\n",
        "\n",
        "# Perform HF calculation\n",
        "energy = mf.kernel()\n",
        "\n",
        "# Extract energy values and iteration numbers\n",
        "energies = conv_data\n",
        "iterations = range(1, len(energies) + 1)\n",
        "\n",
        "# Plot the convergence\n",
        "plt.plot(iterations, energies, marker='o')\n",
        "plt.xlabel('Iteration')\n",
        "plt.ylabel('Total Energy (Hartree)')\n",
        "plt.title('HF-SCF Convergence')\n",
        "plt.grid(True)\n",
        "plt.show()\n",
        "\n",
        "print(f\"HF-SCF energy for Pentacene: {energy} Hartree\")"
      ],
      "metadata": {
        "colab": {
          "base_uri": "https://localhost:8080/",
          "height": 508
        },
        "id": "gfqEhOEF6G8T",
        "outputId": "8acf6d78-0c66-454a-a675-91b36e1b7b48"
      },
      "execution_count": null,
      "outputs": [
        {
          "output_type": "stream",
          "name": "stdout",
          "text": [
            "converged SCF energy = -382.861498203544\n"
          ]
        },
        {
          "output_type": "display_data",
          "data": {
            "text/plain": [
              "<Figure size 640x480 with 1 Axes>"
            ],
            "image/png": "[encoded data removed]"
          },
          "metadata": {}
        },
        {
          "output_type": "stream",
          "name": "stdout",
          "text": [
            "HF-SCF energy for Pentacene: -382.8614982035442 Hartree\n"
          ]
        }
      ]
    },
    {
      "cell_type": "markdown",
      "source": [
        "**Calculating Ground State energy with DFT-SCF (using basis cc-pvdz)**"
      ],
      "metadata": {
        "id": "9Z_WzQc47omn"
      }
    },
    {
      "cell_type": "code",
      "execution_count": null,
      "metadata": {
        "colab": {
          "base_uri": "https://localhost:8080/"
        },
        "id": "8u-a_E4o3qu_",
        "outputId": "a26d8ec0-8aad-4ff7-b1cd-fc7626d8332a"
      },
      "outputs": [
        {
          "output_type": "stream",
          "name": "stdout",
          "text": [
            "System: uname_result(system='Linux', node='ac8b2ca3a8e1', release='6.1.85+', version='#1 SMP PREEMPT_DYNAMIC Thu Jun 27 21:05:47 UTC 2024', machine='x86_64')  Threads 2\n",
            "Python 3.10.12 (main, Sep 11 2024, 15:47:36) [GCC 11.4.0]\n",
            "numpy 1.26.4  scipy 1.13.1  h5py 3.11.0\n",
            "Date: Fri Oct 11 14:08:41 2024\n",
            "PySCF version 2.7.0\n",
            "PySCF path  /usr/local/lib/python3.10/dist-packages/pyscf\n",
            "\n",
            "[CONFIG] conf_file None\n",
            "[INPUT] verbose = 4\n",
            "[INPUT] num. atoms = 20\n",
            "[INPUT] num. electrons = 70\n",
            "[INPUT] charge = 0\n",
            "[INPUT] spin (= nelec alpha-beta = 2S) = 0\n",
            "[INPUT] symmetry False subgroup None\n",
            "[INPUT] Mole.unit = angstrom\n",
            "[INPUT] Symbol           X                Y                Z      unit          X                Y                Z       unit  Magmom\n",
            "[INPUT]  1 C      0.000000000000   0.000000000000   0.000000000000 AA    0.000000000000   0.000000000000   0.000000000000 Bohr   0.0\n",
            "[INPUT]  2 C      1.396000000000   0.000000000000   0.000000000000 AA    2.638057669893   0.000000000000   0.000000000000 Bohr   0.0\n",
            "[INPUT]  3 C      2.094000000000   1.209600000000   0.000000000000 AA    3.957086504839   2.285812720274   0.000000000000 Bohr   0.0\n",
            "[INPUT]  4 C      3.490000000000   1.209600000000   0.000000000000 AA    6.595144174732   2.285812720274   0.000000000000 Bohr   0.0\n",
            "[INPUT]  5 C      4.188000000000   0.000000000000   0.000000000000 AA    7.914173009678   0.000000000000   0.000000000000 Bohr   0.0\n",
            "[INPUT]  6 C      5.584000000000   0.000000000000   0.000000000000 AA   10.552230679571   0.000000000000   0.000000000000 Bohr   0.0\n",
            "[INPUT]  7 C      6.282000000000   1.209600000000   0.000000000000 AA   11.871259514518   2.285812720274   0.000000000000 Bohr   0.0\n",
            "[INPUT]  8 C      7.678000000000   1.209600000000   0.000000000000 AA   14.509317184411   2.285812720274   0.000000000000 Bohr   0.0\n",
            "[INPUT]  9 C      8.376000000000   0.000000000000   0.000000000000 AA   15.828346019357   0.000000000000   0.000000000000 Bohr   0.0\n",
            "[INPUT] 10 C      9.772000000000   0.000000000000   0.000000000000 AA   18.466403689250   0.000000000000   0.000000000000 Bohr   0.0\n",
            "[INPUT] 11 H     -0.551000000000  -0.951000000000   0.000000000000 AA   -1.041239094635  -1.797129544461   0.000000000000 Bohr   0.0\n",
            "[INPUT] 12 H      1.947000000000  -0.951000000000   0.000000000000 AA    3.679296764528  -1.797129544461   0.000000000000 Bohr   0.0\n",
            "[INPUT] 13 H      1.947000000000   2.160600000000   0.000000000000 AA    3.679296764528   4.082942264735   0.000000000000 Bohr   0.0\n",
            "[INPUT] 14 H      3.041000000000  -0.951000000000   0.000000000000 AA    5.746657144802  -1.797129544461   0.000000000000 Bohr   0.0\n",
            "[INPUT] 15 H      5.135000000000  -0.951000000000   0.000000000000 AA    9.703743649642  -1.797129544461   0.000000000000 Bohr   0.0\n",
            "[INPUT] 16 H      6.229000000000  -0.951000000000   0.000000000000 AA   11.771104029916  -1.797129544461   0.000000000000 Bohr   0.0\n",
            "[INPUT] 17 H      7.323000000000  -0.951000000000   0.000000000000 AA   13.838464410190  -1.797129544461   0.000000000000 Bohr   0.0\n",
            "[INPUT] 18 H      8.417000000000  -0.951000000000   0.000000000000 AA   15.905824790464  -1.797129544461   0.000000000000 Bohr   0.0\n",
            "[INPUT] 19 H      9.511000000000  -0.951000000000   0.000000000000 AA   17.973185170738  -1.797129544461   0.000000000000 Bohr   0.0\n",
            "[INPUT] 20 H      9.511000000000   2.160600000000   0.000000000000 AA   17.973185170738   4.082942264735   0.000000000000 Bohr   0.0\n",
            "\n",
            "nuclear repulsion = 413.390322823909\n",
            "number of shells = 80\n",
            "number of NR pGTOs = 330\n",
            "number of NR cGTOs = 190\n",
            "basis = cc-pvdz\n",
            "ecp = {}\n",
            "CPU time:        87.21\n",
            "\n",
            "\n",
            "******** <class 'pyscf.dft.rks.RKS'> ********\n",
            "method = RKS\n",
            "initial guess = minao\n",
            "damping factor = 0\n",
            "level_shift factor = 0\n",
            "DIIS = <class 'pyscf.scf.diis.CDIIS'>\n",
            "diis_start_cycle = 1\n",
            "diis_space = 8\n",
            "diis_damp = 0\n",
            "SCF conv_tol = 1e-09\n",
            "SCF conv_tol_grad = None\n",
            "SCF max_cycles = 50\n",
            "direct_scf = True\n",
            "direct_scf_tol = 1e-13\n",
            "chkfile to save SCF result = /tmp/tmpa2657pp6\n",
            "max_memory 4000 MB (current use 333 MB)\n",
            "XC library pyscf.dft.libxc version 6.1.0\n",
            "    S. Lehtola, C. Steigemann, M. J.T. Oliveira, and M. A.L. Marques.,  SoftwareX 7, 1–5 (2018)\n",
            "XC functionals = b3lyp\n",
            "    P. J. Stephens, F. J. Devlin, C. F. Chabalowski, and M. J. Frisch.,  J. Phys. Chem. 98, 11623 (1994)\n",
            "radial grids: \n",
            "    Treutler-Ahlrichs [JCP 102, 346 (1995); DOI:10.1063/1.469408] (M4) radial grids\n",
            "    \n",
            "becke partition: Becke, JCP 88, 2547 (1988); DOI:10.1063/1.454033\n",
            "pruning grids: <function nwchem_prune at 0x7cee34ab2200>\n",
            "grids dens level: 3\n",
            "symmetrized grids: False\n",
            "atomic radii adjust function: <function treutler_atomic_radii_adjust at 0x7cee34ab0b80>\n",
            "small_rho_cutoff = 1e-07\n",
            "Set gradient conv threshold to 3.16228e-05\n",
            "Initial guess from minao.\n",
            "tot grids = 239264\n",
            "init E= -388.190519317065\n",
            "  HOMO = -0.22676048087042  LUMO = -0.199391172560216\n",
            "cycle= 1 E= -385.690084427705  delta_E=  2.5  |g|= 0.811  |ddm|= 4.87\n",
            "  HOMO = -0.168204300774766  LUMO = -0.161610031192389\n",
            "cycle= 2 E= -382.835949416259  delta_E= 2.85  |g|= 2.89  |ddm|=    7\n",
            "  HOMO = -0.175709878504487  LUMO = -0.143736259100863\n",
            "cycle= 3 E= -385.671327724641  delta_E= -2.84  |g|= 0.853  |ddm|=  6.2\n",
            "  HOMO = -0.209875501724731  LUMO = -0.166674084728309\n",
            "cycle= 4 E= -385.504381597652  delta_E= 0.167  |g|= 1.08  |ddm|= 2.12\n",
            "  HOMO = -0.208164055224554  LUMO = -0.174011414995121\n",
            "cycle= 5 E= -385.672017702082  delta_E= -0.168  |g|= 0.732  |ddm|= 2.09\n",
            "  HOMO = -0.20713911616765  LUMO = -0.169063702212238\n",
            "cycle= 6 E= -385.914993929517  delta_E= -0.243  |g|= 0.226  |ddm|=  1.5\n",
            "  HOMO = -0.201070294153531  LUMO = -0.169145011854059\n",
            "cycle= 7 E= -385.91532038938  delta_E= -0.000326  |g|= 0.228  |ddm|= 0.467\n",
            "  HOMO = -0.209355179028846  LUMO = -0.170801936621867\n",
            "cycle= 8 E= -385.931192861679  delta_E= -0.0159  |g|= 0.0687  |ddm|= 0.346\n",
            "  HOMO = -0.209825572475772  LUMO = -0.168510599274243\n",
            "cycle= 9 E= -385.932784864061  delta_E= -0.00159  |g|= 0.0217  |ddm|= 0.104\n",
            "  HOMO = -0.20995217238005  LUMO = -0.168496422564267\n",
            "cycle= 10 E= -385.932848761214  delta_E= -6.39e-05  |g|= 0.0162  |ddm|= 0.0343\n",
            "  HOMO = -0.20975012523283  LUMO = -0.168219328468166\n",
            "cycle= 11 E= -385.932921819959  delta_E= -7.31e-05  |g|= 0.00483  |ddm|= 0.02\n",
            "  HOMO = -0.209653627714324  LUMO = -0.16811469244594\n",
            "cycle= 12 E= -385.932926556191  delta_E= -4.74e-06  |g|= 0.00464  |ddm|= 0.015\n",
            "  HOMO = -0.209760959428567  LUMO = -0.168197928930146\n",
            "cycle= 13 E= -385.932931927991  delta_E= -5.37e-06  |g|= 0.00183  |ddm|= 0.0063\n",
            "  HOMO = -0.209744741727361  LUMO = -0.168184751577122\n",
            "cycle= 14 E= -385.93293314558  delta_E= -1.22e-06  |g|= 0.000953  |ddm|= 0.00291\n",
            "  HOMO = -0.209742923296427  LUMO = -0.168206212934826\n",
            "cycle= 15 E= -385.932933216461  delta_E= -7.09e-08  |g|= 0.000823  |ddm|= 0.00191\n",
            "  HOMO = -0.209729420150609  LUMO = -0.168193708592081\n",
            "cycle= 16 E= -385.932933408374  delta_E= -1.92e-07  |g|= 0.000472  |ddm|= 0.000677\n",
            "  HOMO = -0.209719755267116  LUMO = -0.16818631142181\n",
            "cycle= 17 E= -385.932933520848  delta_E= -1.12e-07  |g|= 0.000271  |ddm|= 0.00109\n",
            "  HOMO = -0.20972914918486  LUMO = -0.168185412515828\n",
            "cycle= 18 E= -385.932933499637  delta_E= 2.12e-08  |g|= 0.000386  |ddm|= 0.000589\n",
            "  HOMO = -0.209723435447188  LUMO = -0.168187624826366\n",
            "cycle= 19 E= -385.932933544078  delta_E= -4.44e-08  |g|= 8.07e-05  |ddm|= 0.000446\n",
            "  HOMO = -0.20972296999832  LUMO = -0.16818816299889\n",
            "cycle= 20 E= -385.932933545789  delta_E= -1.71e-09  |g|= 4.95e-05  |ddm|= 0.0001\n",
            "  HOMO = -0.209721459512782  LUMO = -0.168186201431007\n",
            "cycle= 21 E= -385.932933546625  delta_E= -8.36e-10  |g|= 2.96e-05  |ddm|= 0.000108\n",
            "  HOMO = -0.209721990032735  LUMO = -0.168187963253572\n",
            "Extra cycle  E= -385.932933541776  delta_E= 4.85e-09  |g|= 0.000112  |ddm|= 0.000223\n",
            "converged SCF energy = -385.932933541776\n",
            "DFT energy for Methane (CH₄) using B3LYP: -385.93293354177604 Hartree\n"
          ]
        }
      ],
      "source": [
        "from pyscf import gto, dft\n",
        "\n",
        "# Define the pentacen molecule\n",
        "mol = gto.Mole()\n",
        "mol.atom = '''\n",
        "    C   0.000000    0.000000    0.000000\n",
        "    C   1.396000    0.000000    0.000000\n",
        "    C   2.094000    1.209600    0.000000\n",
        "    C   3.490000    1.209600    0.000000\n",
        "    C   4.188000    0.000000    0.000000\n",
        "    C   5.584000    0.000000    0.000000\n",
        "    C   6.282000    1.209600    0.000000\n",
        "    C   7.678000    1.209600    0.000000\n",
        "    C   8.376000    0.000000    0.000000\n",
        "    C   9.772000    0.000000    0.000000\n",
        "    H  -0.551000   -0.951000    0.000000\n",
        "    H   1.947000   -0.951000    0.000000\n",
        "    H   1.947000    2.160600    0.000000\n",
        "    H   3.041000   -0.951000    0.000000\n",
        "    H   5.135000   -0.951000    0.000000\n",
        "    H   6.229000   -0.951000    0.000000\n",
        "    H   7.323000   -0.951000    0.000000\n",
        "    H   8.417000   -0.951000    0.000000\n",
        "    H   9.511000   -0.951000    0.000000\n",
        "    H   9.511000    2.160600    0.000000\n",
        "'''\n",
        "\n",
        "mol.basis = 'cc-pvdz'\n",
        "mol.verbose = 4\n",
        "mol.build()\n",
        "\n",
        "# Perform a DFT calculation using the B3LYP functional\n",
        "mf = dft.RKS(mol)\n",
        "mf.xc = 'b3lyp'\n",
        "energy = mf.kernel()\n",
        "\n",
        "print(f\"DFT energy for Methane (CH₄) using B3LYP: {energy} Hartree\")"
      ]
    },
    {
      "cell_type": "markdown",
      "source": [
        "**Calculating Ground State energy with Quantum Variational Eigensolver (using Pennylane and OpenFermion)**"
      ],
      "metadata": {
        "id": "llCY1Y3y71ty"
      }
    },
    {
      "cell_type": "markdown",
      "source": [
        "https://www.newscientist.com/article/2227244-google-has-performed-the-biggest-quantum-chemistry-simulation-ever/"
      ],
      "metadata": {
        "id": "pCP6jCI_9pnd"
      }
    },
    {
      "cell_type": "code",
      "source": [
        "!pip install pennylane openfermion openfermionpyscf -q"
      ],
      "metadata": {
        "colab": {
          "base_uri": "https://localhost:8080/"
        },
        "id": "NtpGwCQ07Jhm",
        "outputId": "5e180235-efdf-4f5a-e95c-64d11543ca1a"
      },
      "execution_count": null,
      "outputs": [
        {
          "output_type": "stream",
          "name": "stdout",
          "text": [
            "  Preparing metadata (setup.py) ... \u001b[?25l\u001b[?25hdone\n",
            "\u001b[2K   \u001b[90m━━━━━━━━━━━━━━━━━━━━━━━━━━━━━━━━━━━━━━━━\u001b[0m \u001b[32m1.9/1.9 MB\u001b[0m \u001b[31m40.4 MB/s\u001b[0m eta \u001b[36m0:00:00\u001b[0m\n",
            "\u001b[2K   \u001b[90m━━━━━━━━━━━━━━━━━━━━━━━━━━━━━━━━━━━━━━━━\u001b[0m \u001b[32m1.2/1.2 MB\u001b[0m \u001b[31m63.0 MB/s\u001b[0m eta \u001b[36m0:00:00\u001b[0m\n",
            "\u001b[2K   \u001b[90m━━━━━━━━━━━━━━━━━━━━━━━━━━━━━━━━━━━━━━━━\u001b[0m \u001b[32m51.0/51.0 kB\u001b[0m \u001b[31m4.3 MB/s\u001b[0m eta \u001b[36m0:00:00\u001b[0m\n",
            "\u001b[2K   \u001b[90m━━━━━━━━━━━━━━━━━━━━━━━━━━━━━━━━━━━━━━━━\u001b[0m \u001b[32m1.9/1.9 MB\u001b[0m \u001b[31m76.0 MB/s\u001b[0m eta \u001b[36m0:00:00\u001b[0m\n",
            "\u001b[2K   \u001b[90m━━━━━━━━━━━━━━━━━━━━━━━━━━━━━━━━━━━━━━━━\u001b[0m \u001b[32m15.3/15.3 MB\u001b[0m \u001b[31m101.2 MB/s\u001b[0m eta \u001b[36m0:00:00\u001b[0m\n",
            "\u001b[2K   \u001b[90m━━━━━━━━━━━━━━━━━━━━━━━━━━━━━━━━━━━━━━━━\u001b[0m \u001b[32m2.0/2.0 MB\u001b[0m \u001b[31m76.7 MB/s\u001b[0m eta \u001b[36m0:00:00\u001b[0m\n",
            "\u001b[?25h  Building wheel for pubchempy (setup.py) ... \u001b[?25l\u001b[?25hdone\n"
          ]
        }
      ]
    },
    {
      "cell_type": "code",
      "source": [
        "from psutil import virtual_memory\n",
        "ram_gb = virtual_memory().total / 1e9\n",
        "print('Your runtime has {:.1f} gigabytes of available RAM\\n'.format(ram_gb))\n",
        "\n",
        "if ram_gb < 20:\n",
        "  print('Not using a high-RAM runtime')\n",
        "else:\n",
        "  print('You are using a high-RAM runtime!')"
      ],
      "metadata": {
        "colab": {
          "base_uri": "https://localhost:8080/"
        },
        "id": "LKyI0qr-Ad8b",
        "outputId": "4c43720f-2c3b-4dbd-ffa8-77f70d07730e"
      },
      "execution_count": null,
      "outputs": [
        {
          "output_type": "stream",
          "name": "stdout",
          "text": [
            "Your runtime has 89.6 gigabytes of available RAM\n",
            "\n",
            "You are using a high-RAM runtime!\n"
          ]
        }
      ]
    },
    {
      "cell_type": "code",
      "source": [
        "gpu_info = !nvidia-smi\n",
        "gpu_info = '\\n'.join(gpu_info)\n",
        "if gpu_info.find('failed') >= 0:\n",
        "  print('Not connected to a GPU')\n",
        "else:\n",
        "  print(gpu_info)"
      ],
      "metadata": {
        "colab": {
          "base_uri": "https://localhost:8080/"
        },
        "id": "fqEImxuPBEnv",
        "outputId": "8a187b6a-de29-4116-b2c8-01a4672e7839"
      },
      "execution_count": null,
      "outputs": [
        {
          "output_type": "stream",
          "name": "stdout",
          "text": [
            "Fri Oct 11 14:43:10 2024       \n",
            "+---------------------------------------------------------------------------------------+\n",
            "| NVIDIA-SMI 535.104.05             Driver Version: 535.104.05   CUDA Version: 12.2     |\n",
            "|-----------------------------------------+----------------------+----------------------+\n",
            "| GPU  Name                 Persistence-M | Bus-Id        Disp.A | Volatile Uncorr. ECC |\n",
            "| Fan  Temp   Perf          Pwr:Usage/Cap |         Memory-Usage | GPU-Util  Compute M. |\n",
            "|                                         |                      |               MIG M. |\n",
            "|=========================================+======================+======================|\n",
            "|   0  NVIDIA A100-SXM4-40GB          Off | 00000000:00:04.0 Off |                    0 |\n",
            "| N/A   32C    P0              46W / 400W |      2MiB / 40960MiB |      0%      Default |\n",
            "|                                         |                      |             Disabled |\n",
            "+-----------------------------------------+----------------------+----------------------+\n",
            "                                                                                         \n",
            "+---------------------------------------------------------------------------------------+\n",
            "| Processes:                                                                            |\n",
            "|  GPU   GI   CI        PID   Type   Process name                            GPU Memory |\n",
            "|        ID   ID                                                             Usage      |\n",
            "|=======================================================================================|\n",
            "|  No running processes found                                                           |\n",
            "+---------------------------------------------------------------------------------------+\n"
          ]
        }
      ]
    },
    {
      "cell_type": "markdown",
      "source": [
        "The amount of RAM required to compute the ground state energy of pentacene depends on several factors, such as the computational method (e.g., Hartree-Fock, Density Functional Theory (DFT), or coupled-cluster methods), the basis set used, and the size of the system.\n",
        "\n",
        "Pentacene (C22H14) is a moderately large molecule with 36 atoms, which results in a significant number of orbitals and electrons that need to be considered in quantum chemical calculations. Here's a general breakdown:\n",
        "\n",
        "1. **Method Used**:\n",
        "   - **Hartree-Fock (HF)** or **Density Functional Theory (DFT)** with small basis sets like STO-3G or 6-31G may not require an excessive amount of RAM (from 8 GB to 32 GB), but the results may not be highly accurate.\n",
        "   - **Post-Hartree-Fock methods** such as **Coupled Cluster (CCSD)**, **Møller-Plesset perturbation theory (MP2)**, or **Configuration Interaction (CI)** are much more memory-intensive and may require 64 GB or more of RAM depending on the level of approximation and the basis set.\n",
        "\n",
        "2. **Basis Set Size**:\n",
        "   - **Small Basis Sets** (e.g., STO-3G, 6-31G): 8–32 GB.\n",
        "   - **Medium Basis Sets** (e.g., 6-311G**): 32–128 GB.\n",
        "   - **Large Basis Sets** (e.g., cc-pVTZ, aug-cc-pVDZ): 128 GB or more, especially for methods beyond DFT.\n",
        "\n",
        "3. **Approximation Level**:\n",
        "   - For large, correlated methods like **CCSD(T)** (Coupled Cluster with Single, Double, and perturbative Triple excitations), you may need 256 GB or more depending on the basis set and computational resources.\n",
        "\n",
        "For practical DFT calculations with medium-sized basis sets, a workstation with 64 GB of RAM should be sufficient. However, for higher accuracy and methods that account for electron correlation more explicitly, you might need a high-performance computing cluster or a workstation with 128 GB or more of RAM."
      ],
      "metadata": {
        "id": "hUtJJoyDA3lN"
      }
    },
    {
      "cell_type": "code",
      "source": [
        "import pennylane as qml\n",
        "from pennylane import numpy as np\n",
        "from openfermionpyscf import generate_molecular_hamiltonian\n",
        "from openfermion.transforms import get_fermion_operator, jordan_wigner\n",
        "from pennylane import qchem\n",
        "\n",
        "# Define the molecular geometry of pentacene (simplified for this example)\n",
        "geometry = [('C', (0.000000, 0.000000, 0.000000)),\n",
        "            ('C', (1.396000, 0.000000, 0.000000)),\n",
        "            ('C', (2.094000, 1.209600, 0.000000)),\n",
        "            ('C', (3.490000, 1.209600, 0.000000)),\n",
        "            ('C', (4.188000, 0.000000, 0.000000)),\n",
        "            ('C', (5.584000, 0.000000, 0.000000)),\n",
        "            ('C', (6.282000, 1.209600, 0.000000)),\n",
        "            ('C', (7.678000, 1.209600, 0.000000)),\n",
        "            ('C', (8.376000, 0.000000, 0.000000)),\n",
        "            ('C', (9.772000, 0.000000, 0.000000)),\n",
        "            ('H', (-0.551000, -0.951000, 0.000000)),\n",
        "            ('H', (1.947000, -0.951000, 0.000000)),\n",
        "            ('H', (1.947000, 2.160600, 0.000000)),\n",
        "            ('H', (3.041000, -0.951000, 0.000000)),\n",
        "            ('H', (5.135000, -0.951000, 0.000000)),\n",
        "            ('H', (6.229000, -0.951000, 0.000000)),\n",
        "            ('H', (7.323000, -0.951000, 0.000000)),\n",
        "            ('H', (8.417000, -0.951000, 0.000000)),\n",
        "            ('H', (9.511000, -0.951000, 0.000000)),\n",
        "            ('H', (9.511000, 2.160600, 0.000000))]\n",
        "\n",
        "# Set up the molecular parameters\n",
        "basis = 'sto-3g'  # Basis set\n",
        "charge = 0  # Neutral molecule\n",
        "multiplicity = 1  # Singlet\n",
        "\n",
        "# Step 1: Generate the molecular Hamiltonian using OpenFermion and PySCF\n",
        "molecular_hamiltonian = generate_molecular_hamiltonian(geometry, basis, multiplicity, charge)\n",
        "\n",
        "# Step 2: Convert the molecular Hamiltonian into a qubit Hamiltonian using Jordan-Wigner transformation\n",
        "fermion_hamiltonian = get_fermion_operator(molecular_hamiltonian)\n",
        "qubit_hamiltonian = jordan_wigner(fermion_hamiltonian)\n",
        "\n",
        "# Step 3: Set up the quantum device for PennyLane\n",
        "n_qubits = qchem.hf_orbitals(basis, geometry, multiplicity, charge)\n",
        "dev = qml.device('default.qubit', wires=n_qubits)\n",
        "\n",
        "# Step 4: Define the ansatz using PennyLane's UCCSD\n",
        "def ansatz(params, wires):\n",
        "    qml.qchem.UCCSD(params, wires=wires)\n",
        "\n",
        "# Step 5: Define the cost function for VQE\n",
        "@qml.qnode(dev)\n",
        "def cost_fn(params):\n",
        "    ansatz(params, wires=range(n_qubits))\n",
        "    return qml.expval(qubit_hamiltonian)\n",
        "\n",
        "# Step 6: Set up the VQE optimization\n",
        "params = np.random.normal(0, np.pi, len(qubit_hamiltonian.terms))  # Initialize parameters\n",
        "optimizer = qml.GradientDescentOptimizer(stepsize=0.4)\n",
        "\n",
        "# Run the optimization to find the ground state energy\n",
        "max_iterations = 100\n",
        "conv_tol = 1e-6\n",
        "\n",
        "for n in range(max_iterations):\n",
        "    params, energy = optimizer.step_and_cost(cost_fn, params)\n",
        "    if n % 10 == 0:\n",
        "        print(f\"Iteration: {n}, Energy: {energy:.6f} Hartree\")\n",
        "\n",
        "    if np.abs(energy - cost_fn(params)) < conv_tol:\n",
        "        break\n",
        "\n",
        "print(f\"Final estimated ground state energy: {energy:.6f} Hartree\")\n"
      ],
      "metadata": {
        "id": "AcC3FYYZ7IAu"
      },
      "execution_count": null,
      "outputs": []
    }
  ]
}