{
  "nbformat": 4,
  "nbformat_minor": 0,
  "metadata": {
    "colab": {
      "provenance": [],
      "authorship_tag": "ABX9TyPxgQ0DbtNWLghlhOhE1+BW",
      "include_colab_link": true
    },
    "kernelspec": {
      "name": "python3",
      "display_name": "Python 3"
    },
    "language_info": {
      "name": "python"
    }
  },
  "cells": [
    {
      "cell_type": "markdown",
      "metadata": {
        "id": "view-in-github",
        "colab_type": "text"
      },
      "source": [
        "<a href=\"https://colab.research.google.com/github/deltorobarba/sciences/blob/master/quantum_pasqal.ipynb\" target=\"_parent\"><img src=\"https://colab.research.google.com/assets/colab-badge.svg\" alt=\"Open In Colab\"/></a>"
      ]
    },
    {
      "cell_type": "code",
      "execution_count": null,
      "metadata": {
        "id": "47X2r6T-iTUb"
      },
      "outputs": [],
      "source": []
    },
    {
      "cell_type": "markdown",
      "source": [
        "https://portal.pasqal.cloud/devices/FRESNEL"
      ],
      "metadata": {
        "id": "DGY8mFOiiafM"
      }
    },
    {
      "cell_type": "markdown",
      "source": [
        "https://docs.pasqal.com/pulser/"
      ],
      "metadata": {
        "id": "uBemvOX8isJP"
      }
    },
    {
      "cell_type": "markdown",
      "source": [
        "https://docs.pasqal.com/cloud/fresnel-job/"
      ],
      "metadata": {
        "id": "jWFPGbRYie5c"
      }
    },
    {
      "cell_type": "code",
      "source": [
        "from pulser.json.abstract_repr.deserializer import deserialize_device\n",
        "from pasqal_cloud import SDK\n",
        "\n",
        "project_id = \"your_project_id\"# Replace this value by your project_id on the Pasqal platform.\n",
        "username = \"your_username\"# Replace this value by your username or email on the Pasqal platform.\n",
        "\n",
        "# Initialize the cloud client\n",
        "sdk = SDK(username=username, project_id=project_id)\n",
        "\n",
        "specs = sdk.get_device_specs_dict()\n",
        "# Build a device object to describe the specs of our \"Fresnel\" QPU\n",
        "device = deserialize_device(specs[\"FRESNEL\"])"
      ],
      "metadata": {
        "id": "Qd-gFBX9iiWf"
      },
      "execution_count": null,
      "outputs": []
    }
  ]
}