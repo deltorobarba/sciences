{
  "nbformat": 4,
  "nbformat_minor": 0,
  "metadata": {
    "colab": {
      "provenance": [],
      "authorship_tag": "ABX9TyPoEZXvHeypPcKL64Jz958y",
      "include_colab_link": true
    },
    "kernelspec": {
      "name": "python3",
      "display_name": "Python 3"
    },
    "language_info": {
      "name": "python"
    }
  },
  "cells": [
    {
      "cell_type": "markdown",
      "metadata": {
        "id": "view-in-github",
        "colab_type": "text"
      },
      "source": [
        "<a href=\"https://colab.research.google.com/github/deltorobarba/sciences/blob/master/qft_tensornetworks.ipynb\" target=\"_parent\"><img src=\"https://colab.research.google.com/assets/colab-badge.svg\" alt=\"Open In Colab\"/></a>"
      ]
    },
    {
      "cell_type": "markdown",
      "source": [
        "# **Tensor Networks for Quantum Fourier Transform with Cirq**"
      ],
      "metadata": {
        "id": "O2BVvCgV-uI2"
      }
    },
    {
      "cell_type": "markdown",
      "source": [
        "https://github.com/NVIDIA/cuQuantum/blob/main/python/samples/tensornet/experimental/network_state/circuits_cirq/example07_mpi_sampling.py"
      ],
      "metadata": {
        "id": "Yl9HRQkjsj5j"
      }
    },
    {
      "cell_type": "markdown",
      "source": [
        "https://docs.nvidia.com/cuda/cuquantum/latest/python/tensornet.html#tn-simulator-intro"
      ],
      "metadata": {
        "id": "MM8GnDJItgqn"
      }
    },
    {
      "cell_type": "code",
      "source": [
        "!pip install cirq -q"
      ],
      "metadata": {
        "id": "mLZoahWAsfFF"
      },
      "execution_count": null,
      "outputs": []
    },
    {
      "cell_type": "code",
      "source": [
        "!pip install mpi4py -q"
      ],
      "metadata": {
        "colab": {
          "base_uri": "https://localhost:8080/"
        },
        "id": "K-VpHHWGsvR9",
        "outputId": "93d06f54-93f1-4f8f-b6ce-a9882f581cb8"
      },
      "execution_count": null,
      "outputs": [
        {
          "output_type": "stream",
          "name": "stdout",
          "text": [
            "\u001b[?25l     \u001b[90m━━━━━━━━━━━━━━━━━━━━━━━━━━━━━━━━━━━━━━━━\u001b[0m \u001b[32m0.0/466.3 kB\u001b[0m \u001b[31m?\u001b[0m eta \u001b[36m-:--:--\u001b[0m\r\u001b[2K     \u001b[91m━━━━━━━━━━━━━━\u001b[0m\u001b[91m╸\u001b[0m\u001b[90m━━━━━━━━━━━━━━━━━━━━━━━━━\u001b[0m \u001b[32m174.1/466.3 kB\u001b[0m \u001b[31m4.9 MB/s\u001b[0m eta \u001b[36m0:00:01\u001b[0m\r\u001b[2K     \u001b[90m━━━━━━━━━━━━━━━━━━━━━━━━━━━━━━━━━━━━━━━━\u001b[0m \u001b[32m466.3/466.3 kB\u001b[0m \u001b[31m7.2 MB/s\u001b[0m eta \u001b[36m0:00:00\u001b[0m\n",
            "\u001b[?25h  Installing build dependencies ... \u001b[?25l\u001b[?25hdone\n",
            "  Getting requirements to build wheel ... \u001b[?25l\u001b[?25hdone\n",
            "  Installing backend dependencies ... \u001b[?25l\u001b[?25hdone\n",
            "  Preparing metadata (pyproject.toml) ... \u001b[?25l\u001b[?25hdone\n",
            "  Building wheel for mpi4py (pyproject.toml) ... \u001b[?25l\u001b[?25hdone\n"
          ]
        }
      ]
    },
    {
      "cell_type": "code",
      "source": [
        "!pip install cuquantum -q"
      ],
      "metadata": {
        "colab": {
          "base_uri": "https://localhost:8080/"
        },
        "id": "Tz9ry4BNtJIG",
        "outputId": "a7a6cbfd-c765-4018-87de-6df5abe8cf94"
      },
      "execution_count": null,
      "outputs": [
        {
          "output_type": "stream",
          "name": "stdout",
          "text": [
            "  Preparing metadata (setup.py) ... \u001b[?25l\u001b[?25hdone\n",
            "\u001b[2K   \u001b[90m━━━━━━━━━━━━━━━━━━━━━━━━━━━━━━━━━━━━━━━━\u001b[0m \u001b[32m4.0/4.0 MB\u001b[0m \u001b[31m30.3 MB/s\u001b[0m eta \u001b[36m0:00:00\u001b[0m\n",
            "\u001b[2K   \u001b[90m━━━━━━━━━━━━━━━━━━━━━━━━━━━━━━━━━━━━━━━━\u001b[0m \u001b[32m44.3/44.3 MB\u001b[0m \u001b[31m24.3 MB/s\u001b[0m eta \u001b[36m0:00:00\u001b[0m\n",
            "\u001b[2K   \u001b[90m━━━━━━━━━━━━━━━━━━━━━━━━━━━━━━━━━━━━━━━━\u001b[0m \u001b[32m2.6/2.6 MB\u001b[0m \u001b[31m69.6 MB/s\u001b[0m eta \u001b[36m0:00:00\u001b[0m\n",
            "\u001b[2K   \u001b[90m━━━━━━━━━━━━━━━━━━━━━━━━━━━━━━━━━━━━━━━━\u001b[0m \u001b[32m202.3/202.3 MB\u001b[0m \u001b[31m5.9 MB/s\u001b[0m eta \u001b[36m0:00:00\u001b[0m\n",
            "\u001b[?25h  Building wheel for cuquantum (setup.py) ... \u001b[?25l\u001b[?25hdone\n"
          ]
        }
      ]
    },
    {
      "cell_type": "code",
      "source": [
        "!pip install cupy-cuda11x -q"
      ],
      "metadata": {
        "colab": {
          "base_uri": "https://localhost:8080/"
        },
        "id": "C_ZfHGYHt37s",
        "outputId": "809b2c0e-6802-44ed-bff3-c6c03d27b470"
      },
      "execution_count": null,
      "outputs": [
        {
          "output_type": "stream",
          "name": "stdout",
          "text": [
            "\u001b[2K   \u001b[90m━━━━━━━━━━━━━━━━━━━━━━━━━━━━━━━━━━━━━━━━\u001b[0m \u001b[32m100.0/100.0 MB\u001b[0m \u001b[31m7.0 MB/s\u001b[0m eta \u001b[36m0:00:00\u001b[0m\n",
            "\u001b[?25h"
          ]
        }
      ]
    },
    {
      "cell_type": "code",
      "execution_count": null,
      "metadata": {
        "colab": {
          "base_uri": "https://localhost:8080/",
          "height": 384
        },
        "id": "icY_Cfbasb13",
        "outputId": "e8711f1e-06a0-434f-f69f-34ffe21ccf51"
      },
      "outputs": [
        {
          "output_type": "error",
          "ename": "ValueError",
          "evalue": "numpy.dtype size changed, may indicate binary incompatibility. Expected 96 from C header, got 88 from PyObject",
          "traceback": [
            "\u001b[0;31m---------------------------------------------------------------------------\u001b[0m",
            "\u001b[0;31mValueError\u001b[0m                                Traceback (most recent call last)",
            "\u001b[0;32m<ipython-input-9-d4d9687af45e>\u001b[0m in \u001b[0;36m<cell line: 0>\u001b[0;34m()\u001b[0m\n\u001b[1;32m      3\u001b[0m \u001b[0;31m# SPDX-License-Identifier: BSD-3-Clause\u001b[0m\u001b[0;34m\u001b[0m\u001b[0;34m\u001b[0m\u001b[0m\n\u001b[1;32m      4\u001b[0m \u001b[0;34m\u001b[0m\u001b[0m\n\u001b[0;32m----> 5\u001b[0;31m \u001b[0;32mimport\u001b[0m \u001b[0mcirq\u001b[0m\u001b[0;34m\u001b[0m\u001b[0;34m\u001b[0m\u001b[0m\n\u001b[0m\u001b[1;32m      6\u001b[0m \u001b[0;34m\u001b[0m\u001b[0m\n\u001b[1;32m      7\u001b[0m \u001b[0;32mimport\u001b[0m \u001b[0mcupy\u001b[0m \u001b[0;32mas\u001b[0m \u001b[0mcp\u001b[0m\u001b[0;34m\u001b[0m\u001b[0;34m\u001b[0m\u001b[0m\n",
            "\u001b[0;32m/usr/local/lib/python3.11/dist-packages/cirq/__init__.py\u001b[0m in \u001b[0;36m<module>\u001b[0;34m\u001b[0m\n\u001b[1;32m     17\u001b[0m \u001b[0;32mfrom\u001b[0m \u001b[0mcirq\u001b[0m \u001b[0;32mimport\u001b[0m \u001b[0m_import\u001b[0m\u001b[0;34m\u001b[0m\u001b[0;34m\u001b[0m\u001b[0m\n\u001b[1;32m     18\u001b[0m \u001b[0;34m\u001b[0m\u001b[0m\n\u001b[0;32m---> 19\u001b[0;31m \u001b[0;32mfrom\u001b[0m \u001b[0mcirq\u001b[0m\u001b[0;34m.\u001b[0m\u001b[0m_compat\u001b[0m \u001b[0;32mimport\u001b[0m \u001b[0m__cirq_debug__\u001b[0m\u001b[0;34m,\u001b[0m \u001b[0mwith_debug\u001b[0m\u001b[0;34m\u001b[0m\u001b[0;34m\u001b[0m\u001b[0m\n\u001b[0m\u001b[1;32m     20\u001b[0m \u001b[0;34m\u001b[0m\u001b[0m\n\u001b[1;32m     21\u001b[0m \u001b[0;31m# A module can only depend on modules imported earlier in this list of modules\u001b[0m\u001b[0;34m\u001b[0m\u001b[0;34m\u001b[0m\u001b[0m\n",
            "\u001b[0;32m/usr/local/lib/python3.11/dist-packages/cirq/_compat.py\u001b[0m in \u001b[0;36m<module>\u001b[0;34m\u001b[0m\n\u001b[1;32m     29\u001b[0m \u001b[0;34m\u001b[0m\u001b[0m\n\u001b[1;32m     30\u001b[0m \u001b[0;32mimport\u001b[0m \u001b[0mnumpy\u001b[0m \u001b[0;32mas\u001b[0m \u001b[0mnp\u001b[0m\u001b[0;34m\u001b[0m\u001b[0;34m\u001b[0m\u001b[0m\n\u001b[0;32m---> 31\u001b[0;31m \u001b[0;32mimport\u001b[0m \u001b[0mpandas\u001b[0m \u001b[0;32mas\u001b[0m \u001b[0mpd\u001b[0m\u001b[0;34m\u001b[0m\u001b[0;34m\u001b[0m\u001b[0m\n\u001b[0m\u001b[1;32m     32\u001b[0m \u001b[0;32mimport\u001b[0m \u001b[0msympy\u001b[0m\u001b[0;34m\u001b[0m\u001b[0;34m\u001b[0m\u001b[0m\n\u001b[1;32m     33\u001b[0m \u001b[0;32mimport\u001b[0m \u001b[0msympy\u001b[0m\u001b[0;34m.\u001b[0m\u001b[0mprinting\u001b[0m\u001b[0;34m.\u001b[0m\u001b[0mrepr\u001b[0m\u001b[0;34m\u001b[0m\u001b[0;34m\u001b[0m\u001b[0m\n",
            "\u001b[0;32m/usr/local/lib/python3.11/dist-packages/pandas/__init__.py\u001b[0m in \u001b[0;36m<module>\u001b[0;34m\u001b[0m\n\u001b[1;32m     35\u001b[0m     ) from _err\n\u001b[1;32m     36\u001b[0m \u001b[0;34m\u001b[0m\u001b[0m\n\u001b[0;32m---> 37\u001b[0;31m from pandas._config import (\n\u001b[0m\u001b[1;32m     38\u001b[0m     \u001b[0mget_option\u001b[0m\u001b[0;34m,\u001b[0m\u001b[0;34m\u001b[0m\u001b[0;34m\u001b[0m\u001b[0m\n\u001b[1;32m     39\u001b[0m     \u001b[0mset_option\u001b[0m\u001b[0;34m,\u001b[0m\u001b[0;34m\u001b[0m\u001b[0;34m\u001b[0m\u001b[0m\n",
            "\u001b[0;32m/usr/local/lib/python3.11/dist-packages/pandas/_config/__init__.py\u001b[0m in \u001b[0;36m<module>\u001b[0;34m\u001b[0m\n\u001b[1;32m     18\u001b[0m     \u001b[0;34m\"warn_copy_on_write\"\u001b[0m\u001b[0;34m,\u001b[0m\u001b[0;34m\u001b[0m\u001b[0;34m\u001b[0m\u001b[0m\n\u001b[1;32m     19\u001b[0m ]\n\u001b[0;32m---> 20\u001b[0;31m \u001b[0;32mfrom\u001b[0m \u001b[0mpandas\u001b[0m\u001b[0;34m.\u001b[0m\u001b[0m_config\u001b[0m \u001b[0;32mimport\u001b[0m \u001b[0mconfig\u001b[0m\u001b[0;34m\u001b[0m\u001b[0;34m\u001b[0m\u001b[0m\n\u001b[0m\u001b[1;32m     21\u001b[0m \u001b[0;32mfrom\u001b[0m \u001b[0mpandas\u001b[0m\u001b[0;34m.\u001b[0m\u001b[0m_config\u001b[0m \u001b[0;32mimport\u001b[0m \u001b[0mdates\u001b[0m  \u001b[0;31m# pyright: ignore[reportUnusedImport]  # noqa: F401\u001b[0m\u001b[0;34m\u001b[0m\u001b[0;34m\u001b[0m\u001b[0m\n\u001b[1;32m     22\u001b[0m from pandas._config.config import (\n",
            "\u001b[0;32m/usr/local/lib/python3.11/dist-packages/pandas/_config/config.py\u001b[0m in \u001b[0;36m<module>\u001b[0;34m\u001b[0m\n\u001b[1;32m     66\u001b[0m \u001b[0;32mimport\u001b[0m \u001b[0mwarnings\u001b[0m\u001b[0;34m\u001b[0m\u001b[0;34m\u001b[0m\u001b[0m\n\u001b[1;32m     67\u001b[0m \u001b[0;34m\u001b[0m\u001b[0m\n\u001b[0;32m---> 68\u001b[0;31m from pandas._typing import (\n\u001b[0m\u001b[1;32m     69\u001b[0m     \u001b[0mF\u001b[0m\u001b[0;34m,\u001b[0m\u001b[0;34m\u001b[0m\u001b[0;34m\u001b[0m\u001b[0m\n\u001b[1;32m     70\u001b[0m     \u001b[0mT\u001b[0m\u001b[0;34m,\u001b[0m\u001b[0;34m\u001b[0m\u001b[0;34m\u001b[0m\u001b[0m\n",
            "\u001b[0;32m/usr/local/lib/python3.11/dist-packages/pandas/_typing.py\u001b[0m in \u001b[0;36m<module>\u001b[0;34m\u001b[0m\n\u001b[1;32m    196\u001b[0m     \u001b[0mint\u001b[0m\u001b[0;34m,\u001b[0m\u001b[0;34m\u001b[0m\u001b[0;34m\u001b[0m\u001b[0m\n\u001b[1;32m    197\u001b[0m     \u001b[0mnp\u001b[0m\u001b[0;34m.\u001b[0m\u001b[0mndarray\u001b[0m\u001b[0;34m,\u001b[0m\u001b[0;34m\u001b[0m\u001b[0;34m\u001b[0m\u001b[0m\n\u001b[0;32m--> 198\u001b[0;31m     \u001b[0mnp\u001b[0m\u001b[0;34m.\u001b[0m\u001b[0mrandom\u001b[0m\u001b[0;34m.\u001b[0m\u001b[0mGenerator\u001b[0m\u001b[0;34m,\u001b[0m\u001b[0;34m\u001b[0m\u001b[0;34m\u001b[0m\u001b[0m\n\u001b[0m\u001b[1;32m    199\u001b[0m     \u001b[0mnp\u001b[0m\u001b[0;34m.\u001b[0m\u001b[0mrandom\u001b[0m\u001b[0;34m.\u001b[0m\u001b[0mBitGenerator\u001b[0m\u001b[0;34m,\u001b[0m\u001b[0;34m\u001b[0m\u001b[0;34m\u001b[0m\u001b[0m\n\u001b[1;32m    200\u001b[0m     \u001b[0mnp\u001b[0m\u001b[0;34m.\u001b[0m\u001b[0mrandom\u001b[0m\u001b[0;34m.\u001b[0m\u001b[0mRandomState\u001b[0m\u001b[0;34m,\u001b[0m\u001b[0;34m\u001b[0m\u001b[0;34m\u001b[0m\u001b[0m\n",
            "\u001b[0;32m/usr/local/lib/python3.11/dist-packages/numpy/__init__.py\u001b[0m in \u001b[0;36m__getattr__\u001b[0;34m(attr)\u001b[0m\n\u001b[1;32m    335\u001b[0m \u001b[0;34m\u001b[0m\u001b[0m\n\u001b[1;32m    336\u001b[0m     \u001b[0;32mdef\u001b[0m \u001b[0m__dir__\u001b[0m\u001b[0;34m(\u001b[0m\u001b[0;34m)\u001b[0m\u001b[0;34m:\u001b[0m\u001b[0;34m\u001b[0m\u001b[0;34m\u001b[0m\u001b[0m\n\u001b[0;32m--> 337\u001b[0;31m         \u001b[0mpublic_symbols\u001b[0m \u001b[0;34m=\u001b[0m \u001b[0mglobals\u001b[0m\u001b[0;34m(\u001b[0m\u001b[0;34m)\u001b[0m\u001b[0;34m.\u001b[0m\u001b[0mkeys\u001b[0m\u001b[0;34m(\u001b[0m\u001b[0;34m)\u001b[0m \u001b[0;34m|\u001b[0m \u001b[0;34m{\u001b[0m\u001b[0;34m'testing'\u001b[0m\u001b[0;34m}\u001b[0m\u001b[0;34m\u001b[0m\u001b[0;34m\u001b[0m\u001b[0m\n\u001b[0m\u001b[1;32m    338\u001b[0m         public_symbols -= {\n\u001b[1;32m    339\u001b[0m             \u001b[0;34m\"core\"\u001b[0m\u001b[0;34m,\u001b[0m \u001b[0;34m\"matrixlib\"\u001b[0m\u001b[0;34m,\u001b[0m\u001b[0;34m\u001b[0m\u001b[0;34m\u001b[0m\u001b[0m\n",
            "\u001b[0;32m/usr/local/lib/python3.11/dist-packages/numpy/random/__init__.py\u001b[0m in \u001b[0;36m<module>\u001b[0;34m\u001b[0m\n\u001b[1;32m    178\u001b[0m \u001b[0;34m\u001b[0m\u001b[0m\n\u001b[1;32m    179\u001b[0m \u001b[0;31m# add these for module-freeze analysis (like PyInstaller)\u001b[0m\u001b[0;34m\u001b[0m\u001b[0;34m\u001b[0m\u001b[0m\n\u001b[0;32m--> 180\u001b[0;31m \u001b[0;32mfrom\u001b[0m \u001b[0;34m.\u001b[0m \u001b[0;32mimport\u001b[0m \u001b[0m_pickle\u001b[0m\u001b[0;34m\u001b[0m\u001b[0;34m\u001b[0m\u001b[0m\n\u001b[0m\u001b[1;32m    181\u001b[0m \u001b[0;32mfrom\u001b[0m \u001b[0;34m.\u001b[0m \u001b[0;32mimport\u001b[0m \u001b[0m_common\u001b[0m\u001b[0;34m\u001b[0m\u001b[0;34m\u001b[0m\u001b[0m\n\u001b[1;32m    182\u001b[0m \u001b[0;32mfrom\u001b[0m \u001b[0;34m.\u001b[0m \u001b[0;32mimport\u001b[0m \u001b[0m_bounded_integers\u001b[0m\u001b[0;34m\u001b[0m\u001b[0;34m\u001b[0m\u001b[0m\n",
            "\u001b[0;32m/usr/local/lib/python3.11/dist-packages/numpy/random/_pickle.py\u001b[0m in \u001b[0;36m<module>\u001b[0;34m\u001b[0m\n\u001b[0;32m----> 1\u001b[0;31m \u001b[0;32mfrom\u001b[0m \u001b[0;34m.\u001b[0m\u001b[0mmtrand\u001b[0m \u001b[0;32mimport\u001b[0m \u001b[0mRandomState\u001b[0m\u001b[0;34m\u001b[0m\u001b[0;34m\u001b[0m\u001b[0m\n\u001b[0m\u001b[1;32m      2\u001b[0m \u001b[0;32mfrom\u001b[0m \u001b[0;34m.\u001b[0m\u001b[0m_philox\u001b[0m \u001b[0;32mimport\u001b[0m \u001b[0mPhilox\u001b[0m\u001b[0;34m\u001b[0m\u001b[0;34m\u001b[0m\u001b[0m\n\u001b[1;32m      3\u001b[0m \u001b[0;32mfrom\u001b[0m \u001b[0;34m.\u001b[0m\u001b[0m_pcg64\u001b[0m \u001b[0;32mimport\u001b[0m \u001b[0mPCG64\u001b[0m\u001b[0;34m,\u001b[0m \u001b[0mPCG64DXSM\u001b[0m\u001b[0;34m\u001b[0m\u001b[0;34m\u001b[0m\u001b[0m\n\u001b[1;32m      4\u001b[0m \u001b[0;32mfrom\u001b[0m \u001b[0;34m.\u001b[0m\u001b[0m_sfc64\u001b[0m \u001b[0;32mimport\u001b[0m \u001b[0mSFC64\u001b[0m\u001b[0;34m\u001b[0m\u001b[0;34m\u001b[0m\u001b[0m\n\u001b[1;32m      5\u001b[0m \u001b[0;34m\u001b[0m\u001b[0m\n",
            "\u001b[0;32mnumpy/random/mtrand.pyx\u001b[0m in \u001b[0;36minit numpy.random.mtrand\u001b[0;34m()\u001b[0m\n",
            "\u001b[0;31mValueError\u001b[0m: numpy.dtype size changed, may indicate binary incompatibility. Expected 96 from C header, got 88 from PyObject"
          ]
        }
      ],
      "source": [
        "# Copyright (c) 2024, NVIDIA CORPORATION & AFFILIATES\n",
        "#\n",
        "# SPDX-License-Identifier: BSD-3-Clause\n",
        "\n",
        "import cirq\n",
        "\n",
        "import cupy as cp\n",
        "from mpi4py import MPI\n",
        "\n",
        "from cuquantum.bindings import cutensornet as cutn\n",
        "from cuquantum.tensornet.experimental import NetworkState, TNConfig\n",
        "\n",
        "root = 0\n",
        "comm = MPI.COMM_WORLD\n",
        "rank, size = comm.Get_rank(), comm.Get_size()\n",
        "if rank == root:\n",
        "    print(\"*** Printing is done only from the root process to prevent jumbled messages ***\")\n",
        "    print(f\"The number of processes is {size}\")\n",
        "\n",
        "num_devices = cp.cuda.runtime.getDeviceCount()\n",
        "device_id = rank % num_devices\n",
        "dev = cp.cuda.Device(device_id)\n",
        "dev.use()\n",
        "\n",
        "props = cp.cuda.runtime.getDeviceProperties(dev.id)\n",
        "if rank == root:\n",
        "    print(\"cuTensorNet-vers:\", cutn.get_version())\n",
        "    print(\"===== root process device info ======\")\n",
        "    print(\"GPU-name:\", props[\"name\"].decode())\n",
        "    print(\"GPU-clock:\", props[\"clockRate\"])\n",
        "    print(\"GPU-memoryClock:\", props[\"memoryClockRate\"])\n",
        "    print(\"GPU-nSM:\", props[\"multiProcessorCount\"])\n",
        "    print(\"GPU-major:\", props[\"major\"])\n",
        "    print(\"GPU-minor:\", props[\"minor\"])\n",
        "    print(\"========================\")\n",
        "\n",
        "handle = cutn.create()\n",
        "cutn_comm = comm.Dup()\n",
        "cutn.distributed_reset_configuration(handle, MPI._addressof(cutn_comm), MPI._sizeof(cutn_comm))\n",
        "if rank == root:\n",
        "    print(\"Reset distributed MPI configuration\")\n",
        "\n",
        "free_mem = dev.mem_info[0]\n",
        "free_mem = comm.allreduce(free_mem, MPI.MIN)\n",
        "workspace_limit = int(free_mem * 0.5)\n",
        "\n",
        "# device id must be explicitly set on each process\n",
        "options = {'handle': handle,\n",
        "           'device_id': device_id,\n",
        "           'memory_limit': workspace_limit}\n",
        "\n",
        "# create a QFT circuit\n",
        "n_qubits = 12\n",
        "qubits = cirq.LineQubit.range(n_qubits)\n",
        "qft_operation = cirq.qft(*qubits, without_reverse=True)\n",
        "circuit = cirq.Circuit(qft_operation)\n",
        "if rank == root:\n",
        "    print(circuit)\n",
        "\n",
        "# select tensor network contraction as the simulation method\n",
        "config = TNConfig(num_hyper_samples=4)\n",
        "\n",
        "# create a NetworkState object\n",
        "with NetworkState.from_circuit(circuit, dtype='complex128', backend='cupy', config=config, options=options) as state:\n",
        "    # draw samples from the state object\n",
        "    nshots = 1000\n",
        "    samples = state.compute_sampling(nshots)\n",
        "    if rank == root:\n",
        "        print(\"Sampling results:\")\n",
        "        print(samples)\n",
        "\n",
        "cutn.destroy(handle)"
      ]
    },
    {
      "cell_type": "markdown",
      "source": [
        "This Python code snippet demonstrates how to simulate a Quantum Fourier Transform (QFT) circuit using cuQuantum's `tensornet` library in a distributed, multi-GPU environment using MPI (Message Passing Interface). Let's break down the code step by step:\n",
        "\n",
        "**1. Importing Libraries:**\n",
        "\n",
        "```python\n",
        "import cirq\n",
        "import cupy as cp\n",
        "from mpi4py import MPI\n",
        "from cuquantum.bindings import cutensornet as cutn\n",
        "from cuquantum.tensornet.experimental import NetworkState, TNConfig\n",
        "```\n",
        "\n",
        "* `cirq`: A Python library for creating, manipulating, and simulating quantum circuits.\n",
        "* `cupy`: A NumPy-compatible array library for GPU acceleration.\n",
        "* `mpi4py`: A Python interface to the MPI standard for parallel computing.\n",
        "* `cuquantum.bindings.cutensornet`: The cuTensorNet library bindings for tensor network computations.\n",
        "* `cuquantum.tensornet.experimental.NetworkState`, `TNConfig`: Classes for managing and configuring tensor network simulations.\n",
        "\n",
        "**2. MPI Initialization:**\n",
        "\n",
        "```python\n",
        "root = 0\n",
        "comm = MPI.COMM_WORLD\n",
        "rank, size = comm.Get_rank(), comm.Get_size()\n",
        "if rank == root:\n",
        "    print(\"*** Printing is done only from the root process to prevent jumbled messages ***\")\n",
        "    print(f\"The number of processes is {size}\")\n",
        "```\n",
        "\n",
        "* This section initializes MPI.\n",
        "* `comm` represents the communicator, which allows processes to communicate with each other.\n",
        "* `rank` is the unique ID of each process, and `size` is the total number of processes.\n",
        "* The `if rank == root:` block ensures that output is printed only by the root process (rank 0) to avoid messy output.\n",
        "\n",
        "**3. GPU Device Selection:**\n",
        "\n",
        "```python\n",
        "num_devices = cp.cuda.runtime.getDeviceCount()\n",
        "device_id = rank % num_devices\n",
        "dev = cp.cuda.Device(device_id)\n",
        "dev.use()\n",
        "\n",
        "props = cp.cuda.runtime.getDeviceProperties(dev.id)\n",
        "if rank == root:\n",
        "    print(\"cuTensorNet-vers:\", cutn.get_version())\n",
        "    print(\"===== root process device info ======\")\n",
        "    print(\"GPU-name:\", props[\"name\"].decode())\n",
        "    print(\"GPU-clock:\", props[\"clockRate\"])\n",
        "    print(\"GPU-memoryClock:\", props[\"memoryClockRate\"])\n",
        "    print(\"GPU-nSM:\", props[\"multiProcessorCount\"])\n",
        "    print(\"GPU-major:\", props[\"major\"])\n",
        "    print(\"GPU-minor:\", props[\"minor\"])\n",
        "    print(\"========================\")\n",
        "```\n",
        "\n",
        "* This part selects a GPU for each process.\n",
        "* It calculates the `device_id` by taking the remainder of the process rank divided by the number of available GPUs.\n",
        "* `dev.use()` sets the selected GPU as the current device for the process.\n",
        "* It then prints GPU information on the root process.\n",
        "\n",
        "**4. cuTensorNet Initialization and MPI Configuration:**\n",
        "\n",
        "```python\n",
        "handle = cutn.create()\n",
        "cutn_comm = comm.Dup()\n",
        "cutn.distributed_reset_configuration(handle, MPI._addressof(cutn_comm), MPI._sizeof(cutn_comm))\n",
        "if rank == root:\n",
        "    print(\"Reset distributed MPI configuration\")\n",
        "```\n",
        "\n",
        "* This initializes the cuTensorNet library and configures it for distributed execution using MPI.\n",
        "* `cutn.create()` creates a cuTensorNet handle.\n",
        "* `cutn.distributed_reset_configuration()` sets up the library to work with the MPI communicator.\n",
        "\n",
        "**5. Workspace Memory Allocation:**\n",
        "\n",
        "```python\n",
        "free_mem = dev.mem_info[0]\n",
        "free_mem = comm.allreduce(free_mem, MPI.MIN)\n",
        "workspace_limit = int(free_mem * 0.5)\n",
        "\n",
        "options = {'handle': handle,\n",
        "            'device_id': device_id,\n",
        "            'memory_limit': workspace_limit}\n",
        "```\n",
        "\n",
        "* This section determines the available GPU memory and sets a memory limit for the cuTensorNet workspace.\n",
        "* `comm.allreduce()` finds the minimum available memory across all processes.\n",
        "* The `options` dictionary stores configuration parameters for cuTensorNet.\n",
        "\n",
        "**6. Creating the QFT Circuit:**\n",
        "\n",
        "```python\n",
        "n_qubits = 12\n",
        "qubits = cirq.LineQubit.range(n_qubits)\n",
        "qft_operation = cirq.qft(*qubits, without_reverse=True)\n",
        "circuit = cirq.Circuit(qft_operation)\n",
        "if rank == root:\n",
        "    print(circuit)\n",
        "```\n",
        "\n",
        "* This creates a 12-qubit QFT circuit using Cirq.\n",
        "\n",
        "**7. Tensor Network Simulation and Sampling:**\n",
        "\n",
        "```python\n",
        "config = TNConfig(num_hyper_samples=4)\n",
        "\n",
        "with NetworkState.from_circuit(circuit, dtype='complex128', backend='cupy', config=config, options=options) as state:\n",
        "    nshots = 1000\n",
        "    samples = state.compute_sampling(nshots)\n",
        "    if rank == root:\n",
        "        print(\"Sampling results:\")\n",
        "        print(samples)\n",
        "```\n",
        "\n",
        "* This is the core of the simulation.\n",
        "* `TNConfig` configures the tensor network contraction.\n",
        "* `NetworkState.from_circuit()` creates a tensor network representation of the circuit.\n",
        "* `state.compute_sampling()` performs the sampling and returns the results.\n",
        "* The results are printed on the root process.\n",
        "\n",
        "**8. cuTensorNet Destruction:**\n",
        "\n",
        "```python\n",
        "cutn.destroy(handle)\n",
        "```\n",
        "\n",
        "* This releases the resources used by the cuTensorNet handle.\n",
        "\n",
        "**In summary:**\n",
        "\n",
        "This code leverages cuQuantum's cuTensorNet library for efficient, distributed simulation of quantum circuits on GPUs. It uses MPI to distribute the computational workload across multiple GPUs, allowing for the simulation of larger quantum systems. It creates a QFT circuit using Cirq and then samples from the output distribution of that circuit using cuTensorNet's tensor network capabilities.\n"
      ],
      "metadata": {
        "id": "RMz5m57bubRa"
      }
    }
  ]
}