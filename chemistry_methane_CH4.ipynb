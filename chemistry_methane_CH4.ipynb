{
  "nbformat": 4,
  "nbformat_minor": 0,
  "metadata": {
    "colab": {
      "provenance": [],
      "collapsed_sections": [
        "ZEPiVY049r-z"
      ],
      "include_colab_link": true
    },
    "kernelspec": {
      "name": "python3",
      "display_name": "Python 3"
    },
    "language_info": {
      "name": "python"
    }
  },
  "cells": [
    {
      "cell_type": "markdown",
      "metadata": {
        "id": "view-in-github",
        "colab_type": "text"
      },
      "source": [
        "<a href=\"https://colab.research.google.com/github/deltorobarba/sciences/blob/master/chemistry_methane_CH4.ipynb\" target=\"_parent\"><img src=\"https://colab.research.google.com/assets/colab-badge.svg\" alt=\"Open In Colab\"/></a>"
      ]
    },
    {
      "cell_type": "markdown",
      "source": [
        "# **Methane (CH₄)**"
      ],
      "metadata": {
        "id": "y6KY9T_X840N"
      }
    },
    {
      "cell_type": "markdown",
      "source": [
        "[Methane](https://en.m.wikipedia.org/wiki/Methane) (CH₄) has a Tetrahedral geometry with equal C-H bond lengths.\n",
        "\n",
        "![science](https://upload.wikimedia.org/wikipedia/commons/thumb/9/9b/Methane-2D-dimensions.svg/320px-Methane-2D-dimensions.svg.png)"
      ],
      "metadata": {
        "id": "qkhWxCD99koZ"
      }
    },
    {
      "cell_type": "code",
      "source": [
        "!pip install pyscf geometric -q\n",
        "import numpy as np\n",
        "import matplotlib.pyplot as plt\n",
        "from pyscf import gto, scf, hessian, dft\n",
        "from pyscf.geomopt.geometric_solver import optimize"
      ],
      "metadata": {
        "id": "gs-lK9ED5mX4"
      },
      "execution_count": 18,
      "outputs": []
    },
    {
      "cell_type": "code",
      "source": [
        "# Define molecule\n",
        "mol = gto.Mole()\n",
        "mol.atom = '''\n",
        "    C  0.000000  0.000000  0.000000\n",
        "    H  0.629118  0.629118  0.629118\n",
        "    H -0.629118 -0.629118  0.629118\n",
        "    H -0.629118  0.629118 -0.629118\n",
        "    H  0.629118 -0.629118 -0.629118\n",
        "'''\n",
        "\n",
        "# Name\n",
        "molecule = 'Methane (CH₄)'"
      ],
      "metadata": {
        "id": "qwA6Vphx7yJs"
      },
      "execution_count": null,
      "outputs": []
    },
    {
      "cell_type": "code",
      "source": [
        "# Build molecule (with gto.M() function)\n",
        "mol.atom = mol.atom\n",
        "mol.basis = 'cc-pvdz' # Alternative basis set: sto-3g, cc-pvdz,6-31G\n",
        "mol.build()"
      ],
      "metadata": {
        "colab": {
          "base_uri": "https://localhost:8080/"
        },
        "id": "gLscs4VK3Y0V",
        "outputId": "49dda22d-16b5-47ac-f135-15a3457023e6"
      },
      "execution_count": 20,
      "outputs": [
        {
          "output_type": "execute_result",
          "data": {
            "text/plain": [
              "<pyscf.gto.mole.Mole at 0x78d6391acdd0>"
            ]
          },
          "metadata": {},
          "execution_count": 20
        }
      ]
    },
    {
      "cell_type": "code",
      "source": [
        "# Ground State Energy with Hartree-Fock (Slater Determinant)\n",
        "mf = scf.RHF(mol)\n",
        "mf.kernel()"
      ],
      "metadata": {
        "colab": {
          "base_uri": "https://localhost:8080/"
        },
        "id": "Rlg9mrNs5OwT",
        "outputId": "8327b0bb-789d-4dd4-ed27-ae854bb97114"
      },
      "execution_count": 22,
      "outputs": [
        {
          "output_type": "stream",
          "name": "stdout",
          "text": [
            "converged SCF energy = -40.1987085424814\n"
          ]
        },
        {
          "output_type": "execute_result",
          "data": {
            "text/plain": [
              "np.float64(-40.19870854248145)"
            ]
          },
          "metadata": {},
          "execution_count": 22
        }
      ]
    },
    {
      "cell_type": "code",
      "source": [
        "# Ground State Energy with DFT (Kohn-Sham)\n",
        "mf = dft.RKS(mol)\n",
        "mf.xc = 'B3LYP'    # Exchange-correlation functional\n",
        "mf.kernel()"
      ],
      "metadata": {
        "colab": {
          "base_uri": "https://localhost:8080/"
        },
        "id": "9uI62mVU6Mj2",
        "outputId": "5adbfdbc-b10c-4167-a9a1-113b42deee0e"
      },
      "execution_count": null,
      "outputs": [
        {
          "output_type": "stream",
          "name": "stdout",
          "text": [
            "converged SCF energy = -40.5160837943044\n"
          ]
        },
        {
          "output_type": "execute_result",
          "data": {
            "text/plain": [
              "np.float64(-40.5160837943044)"
            ]
          },
          "metadata": {},
          "execution_count": 16
        }
      ]
    },
    {
      "cell_type": "code",
      "source": [
        "# Geometry Optimization (in Angstroms) with HF or DFT\n",
        "mol_eq = optimize(mf)\n",
        "print(mol_eq.atom_coords())"
      ],
      "metadata": {
        "colab": {
          "base_uri": "https://localhost:8080/"
        },
        "id": "Qd360vac_PrL",
        "outputId": "78ef53bd-689d-4fb0-f206-33c6fe6a3a31"
      },
      "execution_count": 23,
      "outputs": [
        {
          "output_type": "stream",
          "name": "stderr",
          "text": [
            "geometric-optimize called with the following command line:\n",
            "/usr/local/lib/python3.11/dist-packages/colab_kernel_launcher.py -f /root/.local/share/jupyter/runtime/kernel-05ee35f3-c6c7-4f61-941f-c81cb60cfda9.json\n",
            "\n",
            "                                        \u001b[91m())))))))))))))))/\u001b[0m                     \n",
            "                                    \u001b[91m())))))))))))))))))))))))),\u001b[0m                \n",
            "                                \u001b[91m*)))))))))))))))))))))))))))))))))\u001b[0m             \n",
            "                        \u001b[94m#,\u001b[0m    \u001b[91m()))))))))/\u001b[0m                \u001b[91m.)))))))))),\u001b[0m          \n",
            "                      \u001b[94m#%%%%,\u001b[0m  \u001b[91m())))))\u001b[0m                        \u001b[91m.))))))))*\u001b[0m        \n",
            "                      \u001b[94m*%%%%%%,\u001b[0m  \u001b[91m))\u001b[0m              \u001b[93m..\u001b[0m              \u001b[91m,))))))).\u001b[0m      \n",
            "                        \u001b[94m*%%%%%%,\u001b[0m         \u001b[93m***************/.\u001b[0m        \u001b[91m.)))))))\u001b[0m     \n",
            "                \u001b[94m#%%/\u001b[0m      \u001b[94m(%%%%%%,\u001b[0m    \u001b[93m/*********************.\u001b[0m       \u001b[91m)))))))\u001b[0m    \n",
            "              \u001b[94m.%%%%%%#\u001b[0m      \u001b[94m*%%%%%%,\u001b[0m  \u001b[93m*******/,\u001b[0m     \u001b[93m**********,\u001b[0m      \u001b[91m.))))))\u001b[0m   \n",
            "                \u001b[94m.%%%%%%/\u001b[0m      \u001b[94m*%%%%%%,\u001b[0m  \u001b[93m**\u001b[0m              \u001b[93m********\u001b[0m      \u001b[91m.))))))\u001b[0m  \n",
            "          \u001b[94m##\u001b[0m      \u001b[94m.%%%%%%/\u001b[0m      \u001b[94m(%%%%%%,\u001b[0m                  \u001b[93m,******\u001b[0m      \u001b[91m/)))))\u001b[0m  \n",
            "        \u001b[94m%%%%%%\u001b[0m      \u001b[94m.%%%%%%#\u001b[0m      \u001b[94m*%%%%%%,\u001b[0m    \u001b[92m,/////.\u001b[0m       \u001b[93m******\u001b[0m      \u001b[91m))))))\u001b[0m \n",
            "      \u001b[94m#%\u001b[0m      \u001b[94m%%\u001b[0m      \u001b[94m.%%%%%%/\u001b[0m      \u001b[94m*%%%%%%,\u001b[0m  \u001b[92m////////,\u001b[0m      \u001b[93m*****/\u001b[0m     \u001b[91m,)))))\u001b[0m \n",
            "    \u001b[94m#%%\u001b[0m  \u001b[94m%%%\u001b[0m  \u001b[94m%%%#\u001b[0m      \u001b[94m.%%%%%%/\u001b[0m      \u001b[94m(%%%%%%,\u001b[0m  \u001b[92m///////.\u001b[0m     \u001b[93m/*****\u001b[0m      \u001b[91m))))).\u001b[0m\n",
            "  \u001b[94m#%%%%.\u001b[0m      \u001b[94m%%%%%#\u001b[0m      \u001b[94m/%%%%%%*\u001b[0m      \u001b[94m#%%%%%%\u001b[0m   \u001b[92m/////)\u001b[0m     \u001b[93m******\u001b[0m      \u001b[91m))))),\u001b[0m\n",
            "    \u001b[94m#%%%%##%\u001b[0m  \u001b[94m%%%#\u001b[0m      \u001b[94m.%%%%%%/\u001b[0m      \u001b[94m(%%%%%%,\u001b[0m  \u001b[92m///////.\u001b[0m     \u001b[93m/*****\u001b[0m      \u001b[91m))))).\u001b[0m\n",
            "      \u001b[94m##\u001b[0m     \u001b[94m%%%\u001b[0m      \u001b[94m.%%%%%%/\u001b[0m      \u001b[94m*%%%%%%,\u001b[0m  \u001b[92m////////.\u001b[0m      \u001b[93m*****/\u001b[0m     \u001b[91m,)))))\u001b[0m \n",
            "        \u001b[94m#%%%%#\u001b[0m      \u001b[94m/%%%%%%/\u001b[0m      \u001b[94m(%%%%%%\u001b[0m      \u001b[92m/)/)//\u001b[0m       \u001b[93m******\u001b[0m      \u001b[91m))))))\u001b[0m \n",
            "          \u001b[94m##\u001b[0m      \u001b[94m.%%%%%%/\u001b[0m      \u001b[94m(%%%%%%,\u001b[0m                  \u001b[93m*******\u001b[0m      \u001b[91m))))))\u001b[0m  \n",
            "                \u001b[94m.%%%%%%/\u001b[0m      \u001b[94m*%%%%%%,\u001b[0m  \u001b[93m**.\u001b[0m             \u001b[93m/*******\u001b[0m      \u001b[91m.))))))\u001b[0m  \n",
            "              \u001b[94m*%%%%%%/\u001b[0m      \u001b[94m(%%%%%%\u001b[0m   \u001b[93m********/*..,*/*********\u001b[0m       \u001b[91m*))))))\u001b[0m   \n",
            "                \u001b[94m#%%/\u001b[0m      \u001b[94m(%%%%%%,\u001b[0m    \u001b[93m*********************/\u001b[0m        \u001b[91m)))))))\u001b[0m    \n",
            "                        \u001b[94m*%%%%%%,\u001b[0m         \u001b[93m,**************/\u001b[0m         \u001b[91m,))))))/\u001b[0m     \n",
            "                      \u001b[94m(%%%%%%\u001b[0m   \u001b[91m()\u001b[0m                              \u001b[91m))))))))\u001b[0m       \n",
            "                      \u001b[94m#%%%%,\u001b[0m  \u001b[91m())))))\u001b[0m                        \u001b[91m,)))))))),\u001b[0m        \n",
            "                        \u001b[94m#,\u001b[0m    \u001b[91m())))))))))\u001b[0m                \u001b[91m,)))))))))).\u001b[0m          \n",
            "                                 \u001b[91m()))))))))))))))))))))))))))))))/\u001b[0m             \n",
            "                                    \u001b[91m())))))))))))))))))))))))).\u001b[0m                \n",
            "                                         \u001b[91m())))))))))))))),\u001b[0m                     \n",
            "\n",
            "-=# \u001b[1;94m geomeTRIC started. Version: 1.1 \u001b[0m #=-\n",
            "Current date and time: 2025-06-12 07:23:25\n",
            "#========================================================#\n",
            "#| \u001b[92m    Arguments passed to driver run_optimizer():     \u001b[0m |#\n",
            "#========================================================#\n",
            "customengine              <pyscf.geomopt.geometric_solver.PySCFEngine object at 0x78d65929ee90> \n",
            "input                     /tmp/tmpj2pubidh/1c91b4a2-76cc-4f4f-8f23-a348cabf1f9b \n",
            "logIni                    /usr/local/lib/python3.11/dist-packages/pyscf/geomopt/log.ini \n",
            "----------------------------------------------------------\n",
            "Custom engine selected.\n",
            "Bonds will be generated from interatomic distances less than 1.20 times sum of covalent radii\n",
            "15 internal coordinates being used (instead of 15 Cartesians)\n",
            "Internal coordinate system (atoms numbered from 1):\n",
            "Distance 1-2\n",
            "Distance 1-3\n",
            "Distance 1-4\n",
            "Distance 1-5\n",
            "Angle 2-1-3\n",
            "Angle 2-1-4\n",
            "Angle 2-1-5\n",
            "Angle 3-1-4\n",
            "Angle 3-1-5\n",
            "Angle 4-1-5\n",
            "Translation-X 1-5\n",
            "Translation-Y 1-5\n",
            "Translation-Z 1-5\n",
            "Rotation-A 1-5\n",
            "Rotation-B 1-5\n",
            "Rotation-C 1-5\n",
            "<class 'geometric.internal.Distance'> : 4\n",
            "<class 'geometric.internal.Angle'> : 6\n",
            "<class 'geometric.internal.TranslationX'> : 1\n",
            "<class 'geometric.internal.TranslationY'> : 1\n",
            "<class 'geometric.internal.TranslationZ'> : 1\n",
            "<class 'geometric.internal.RotationA'> : 1\n",
            "<class 'geometric.internal.RotationB'> : 1\n",
            "<class 'geometric.internal.RotationC'> : 1\n",
            "> ===== Optimization Info: ====\n",
            "> Job type: Energy minimization\n",
            "> Maximum number of optimization cycles: 300\n",
            "> Initial / maximum trust radius (Angstrom): 0.100 / 0.300\n",
            "> Convergence Criteria:\n",
            "> Will converge when all 5 criteria are reached:\n",
            ">  |Delta-E| < 1.00e-06\n",
            ">  RMS-Grad  < 3.00e-04\n",
            ">  Max-Grad  < 4.50e-04\n",
            ">  RMS-Disp  < 1.20e-03\n",
            ">  Max-Disp  < 1.80e-03\n",
            "> === End Optimization Info ===\n"
          ]
        },
        {
          "output_type": "stream",
          "name": "stdout",
          "text": [
            "\n",
            "Geometry optimization cycle 1\n",
            "Cartesian coordinates (Angstrom)\n",
            " Atom        New coordinates             dX        dY        dZ\n",
            "   C   0.000000   0.000000   0.000000    0.000000  0.000000  0.000000\n",
            "   H   0.629118   0.629118   0.629118    0.000000  0.000000  0.000000\n",
            "   H  -0.629118  -0.629118   0.629118    0.000000  0.000000  0.000000\n",
            "   H  -0.629118   0.629118  -0.629118    0.000000  0.000000  0.000000\n",
            "   H   0.629118  -0.629118  -0.629118    0.000000  0.000000  0.000000\n",
            "converged SCF energy = -40.1987085424816\n",
            "--------------- RHF_Scanner gradients ---------------\n",
            "         x                y                z\n",
            "0 C     0.0000000000    -0.0000000000    -0.0000000000\n",
            "1 H    -0.0004686254    -0.0004686254    -0.0004686254\n",
            "2 H     0.0004686254     0.0004686254    -0.0004686254\n",
            "3 H     0.0004686254    -0.0004686254     0.0004686254\n",
            "4 H    -0.0004686254     0.0004686254     0.0004686254\n",
            "----------------------------------------------\n",
            "cycle 1: E = -40.1987085425  dE = -40.1987  norm(grad) = 0.00162337\n"
          ]
        },
        {
          "output_type": "stream",
          "name": "stderr",
          "text": [
            "Step    0 : Gradient = 7.260e-04/8.117e-04 (rms/max) Energy = -40.1987085425\n",
            "Hessian Eigenvalues: 5.00000e-02 5.00000e-02 5.00000e-02 ... 3.48515e-01 3.48515e-01 3.48515e-01\n"
          ]
        },
        {
          "output_type": "stream",
          "name": "stdout",
          "text": [
            "\n",
            "Geometry optimization cycle 2\n",
            "Cartesian coordinates (Angstrom)\n",
            " Atom        New coordinates             dX        dY        dZ\n",
            "   C   0.000000  -0.000000  -0.000000    0.000000 -0.000000 -0.000000\n",
            "   H   0.629830   0.629830   0.629830    0.000712  0.000712  0.000712\n",
            "   H  -0.629830  -0.629830   0.629830   -0.000712 -0.000712  0.000712\n",
            "   H  -0.629830   0.629830  -0.629830   -0.000712  0.000712 -0.000712\n",
            "   H   0.629830  -0.629830  -0.629830    0.000712 -0.000712 -0.000712\n",
            "converged SCF energy = -40.1987119439092\n",
            "--------------- RHF_Scanner gradients ---------------\n",
            "         x                y                z\n",
            "0 C    -0.0000000000     0.0000000000    -0.0000000000\n",
            "1 H     0.0000465180     0.0000465180     0.0000465180\n",
            "2 H    -0.0000465180    -0.0000465180     0.0000465180\n",
            "3 H    -0.0000465180     0.0000465180    -0.0000465180\n",
            "4 H     0.0000465180    -0.0000465180    -0.0000465180\n",
            "----------------------------------------------\n",
            "cycle 2: E = -40.1987119439  dE = -3.40143e-06  norm(grad) = 0.000161143\n"
          ]
        },
        {
          "output_type": "stream",
          "name": "stderr",
          "text": [
            "Step    1 : Displace = \u001b[92m1.102e-03\u001b[0m/\u001b[92m1.232e-03\u001b[0m (rms/max) Trust = 1.000e-01 (=) Grad = \u001b[92m7.207e-05\u001b[0m/\u001b[92m8.057e-05\u001b[0m (rms/max) E (change) = -40.1987119439 (\u001b[0m-3.401e-06\u001b[0m) Quality = \u001b[0m0.900\u001b[0m\n",
            "Hessian Eigenvalues: 5.00000e-02 5.00000e-02 5.00000e-02 ... 3.48515e-01 3.48515e-01 3.83110e-01\n"
          ]
        },
        {
          "output_type": "stream",
          "name": "stdout",
          "text": [
            "\n",
            "Geometry optimization cycle 3\n",
            "Cartesian coordinates (Angstrom)\n",
            " Atom        New coordinates             dX        dY        dZ\n",
            "   C   0.000000  -0.000000   0.000000    0.000000  0.000000  0.000000\n",
            "   H   0.629765   0.629765   0.629765   -0.000064 -0.000064 -0.000064\n",
            "   H  -0.629765  -0.629765   0.629765    0.000064  0.000064 -0.000064\n",
            "   H  -0.629765   0.629765  -0.629765    0.000064 -0.000064  0.000064\n",
            "   H   0.629765  -0.629765  -0.629765   -0.000064  0.000064  0.000064\n",
            "converged SCF energy = -40.1987119778077\n",
            "--------------- RHF_Scanner gradients ---------------\n",
            "         x                y                z\n",
            "0 C    -0.0000000000     0.0000000000     0.0000000000\n",
            "1 H    -0.0000000272    -0.0000000272    -0.0000000272\n",
            "2 H     0.0000000272     0.0000000272    -0.0000000272\n",
            "3 H     0.0000000272    -0.0000000272     0.0000000272\n",
            "4 H    -0.0000000272     0.0000000272     0.0000000272\n",
            "----------------------------------------------\n",
            "cycle 3: E = -40.1987119778  dE = -3.38985e-08  norm(grad) = 9.40521e-08\n"
          ]
        },
        {
          "output_type": "stream",
          "name": "stderr",
          "text": [
            "Step    2 : Displace = \u001b[92m9.954e-05\u001b[0m/\u001b[92m1.113e-04\u001b[0m (rms/max) Trust = 1.414e-01 (\u001b[92m+\u001b[0m) Grad = \u001b[92m4.206e-08\u001b[0m/\u001b[92m4.703e-08\u001b[0m (rms/max) E (change) = -40.1987119778 (\u001b[92m-3.390e-08\u001b[0m) Quality = \u001b[0m1.000\u001b[0m\n",
            "Hessian Eigenvalues: 5.00000e-02 5.00000e-02 5.00000e-02 ... 3.48515e-01 3.48515e-01 3.83110e-01\n",
            "Converged! =D\n",
            "\n",
            "    #==========================================================================#\n",
            "    #| If this code has benefited your research, please support us by citing: |#\n",
            "    #|                                                                        |#\n",
            "    #| Wang, L.-P.; Song, C.C. (2016) \"Geometry optimization made simple with |#\n",
            "    #| translation and rotation coordinates\", J. Chem, Phys. 144, 214108.     |#\n",
            "    #| http://dx.doi.org/10.1063/1.4952956                                    |#\n",
            "    #==========================================================================#\n",
            "    Time elapsed since start of run_optimizer: 1.481 seconds\n"
          ]
        },
        {
          "output_type": "stream",
          "name": "stdout",
          "text": [
            "[[ 1.29680046e-14 -3.42681532e-14  9.39416999e-14]\n",
            " [ 1.19008393e+00  1.19008393e+00  1.19008393e+00]\n",
            " [-1.19008393e+00 -1.19008393e+00  1.19008393e+00]\n",
            " [-1.19008393e+00  1.19008393e+00 -1.19008393e+00]\n",
            " [ 1.19008393e+00 -1.19008393e+00 -1.19008393e+00]]\n"
          ]
        }
      ]
    },
    {
      "cell_type": "code",
      "source": [
        "# Geometry Optimization using DFT-SCF\n",
        "\n",
        "# We re-use mol.build() to define molecule with a rough guess for geometry (initial atomic positions)\n",
        "# These positions don't need to be exact, as the optimization will refine them\n",
        "\n",
        "mf = dft.RKS(mol)     # Perform geometry optimization using DFT\n",
        "mf.xc = 'b3lyp'       # Define exchange-correlation functional\n",
        "mol_eq = optimize(mf) # This function iteratively adjusts positions of atoms to minimize total energy of system\n",
        "\n",
        "# Print optimized coordinates. This geometry corresponds to lowest energy configuration found during optimization process\n",
        "print(\"Optimized Geometry (in Angstroms):\")\n",
        "print(mol_eq.atom_coords())"
      ],
      "metadata": {
        "colab": {
          "base_uri": "https://localhost:8080/"
        },
        "id": "mwfMca9L-im5",
        "outputId": "fc66afc9-86b7-4d61-b103-1801f1bf816a"
      },
      "execution_count": 19,
      "outputs": [
        {
          "output_type": "stream",
          "name": "stderr",
          "text": [
            "geometric-optimize called with the following command line:\n",
            "/usr/local/lib/python3.11/dist-packages/colab_kernel_launcher.py -f /root/.local/share/jupyter/runtime/kernel-05ee35f3-c6c7-4f61-941f-c81cb60cfda9.json\n",
            "\n",
            "                                        \u001b[91m())))))))))))))))/\u001b[0m                     \n",
            "                                    \u001b[91m())))))))))))))))))))))))),\u001b[0m                \n",
            "                                \u001b[91m*)))))))))))))))))))))))))))))))))\u001b[0m             \n",
            "                        \u001b[94m#,\u001b[0m    \u001b[91m()))))))))/\u001b[0m                \u001b[91m.)))))))))),\u001b[0m          \n",
            "                      \u001b[94m#%%%%,\u001b[0m  \u001b[91m())))))\u001b[0m                        \u001b[91m.))))))))*\u001b[0m        \n",
            "                      \u001b[94m*%%%%%%,\u001b[0m  \u001b[91m))\u001b[0m              \u001b[93m..\u001b[0m              \u001b[91m,))))))).\u001b[0m      \n",
            "                        \u001b[94m*%%%%%%,\u001b[0m         \u001b[93m***************/.\u001b[0m        \u001b[91m.)))))))\u001b[0m     \n",
            "                \u001b[94m#%%/\u001b[0m      \u001b[94m(%%%%%%,\u001b[0m    \u001b[93m/*********************.\u001b[0m       \u001b[91m)))))))\u001b[0m    \n",
            "              \u001b[94m.%%%%%%#\u001b[0m      \u001b[94m*%%%%%%,\u001b[0m  \u001b[93m*******/,\u001b[0m     \u001b[93m**********,\u001b[0m      \u001b[91m.))))))\u001b[0m   \n",
            "                \u001b[94m.%%%%%%/\u001b[0m      \u001b[94m*%%%%%%,\u001b[0m  \u001b[93m**\u001b[0m              \u001b[93m********\u001b[0m      \u001b[91m.))))))\u001b[0m  \n",
            "          \u001b[94m##\u001b[0m      \u001b[94m.%%%%%%/\u001b[0m      \u001b[94m(%%%%%%,\u001b[0m                  \u001b[93m,******\u001b[0m      \u001b[91m/)))))\u001b[0m  \n",
            "        \u001b[94m%%%%%%\u001b[0m      \u001b[94m.%%%%%%#\u001b[0m      \u001b[94m*%%%%%%,\u001b[0m    \u001b[92m,/////.\u001b[0m       \u001b[93m******\u001b[0m      \u001b[91m))))))\u001b[0m \n",
            "      \u001b[94m#%\u001b[0m      \u001b[94m%%\u001b[0m      \u001b[94m.%%%%%%/\u001b[0m      \u001b[94m*%%%%%%,\u001b[0m  \u001b[92m////////,\u001b[0m      \u001b[93m*****/\u001b[0m     \u001b[91m,)))))\u001b[0m \n",
            "    \u001b[94m#%%\u001b[0m  \u001b[94m%%%\u001b[0m  \u001b[94m%%%#\u001b[0m      \u001b[94m.%%%%%%/\u001b[0m      \u001b[94m(%%%%%%,\u001b[0m  \u001b[92m///////.\u001b[0m     \u001b[93m/*****\u001b[0m      \u001b[91m))))).\u001b[0m\n",
            "  \u001b[94m#%%%%.\u001b[0m      \u001b[94m%%%%%#\u001b[0m      \u001b[94m/%%%%%%*\u001b[0m      \u001b[94m#%%%%%%\u001b[0m   \u001b[92m/////)\u001b[0m     \u001b[93m******\u001b[0m      \u001b[91m))))),\u001b[0m\n",
            "    \u001b[94m#%%%%##%\u001b[0m  \u001b[94m%%%#\u001b[0m      \u001b[94m.%%%%%%/\u001b[0m      \u001b[94m(%%%%%%,\u001b[0m  \u001b[92m///////.\u001b[0m     \u001b[93m/*****\u001b[0m      \u001b[91m))))).\u001b[0m\n",
            "      \u001b[94m##\u001b[0m     \u001b[94m%%%\u001b[0m      \u001b[94m.%%%%%%/\u001b[0m      \u001b[94m*%%%%%%,\u001b[0m  \u001b[92m////////.\u001b[0m      \u001b[93m*****/\u001b[0m     \u001b[91m,)))))\u001b[0m \n",
            "        \u001b[94m#%%%%#\u001b[0m      \u001b[94m/%%%%%%/\u001b[0m      \u001b[94m(%%%%%%\u001b[0m      \u001b[92m/)/)//\u001b[0m       \u001b[93m******\u001b[0m      \u001b[91m))))))\u001b[0m \n",
            "          \u001b[94m##\u001b[0m      \u001b[94m.%%%%%%/\u001b[0m      \u001b[94m(%%%%%%,\u001b[0m                  \u001b[93m*******\u001b[0m      \u001b[91m))))))\u001b[0m  \n",
            "                \u001b[94m.%%%%%%/\u001b[0m      \u001b[94m*%%%%%%,\u001b[0m  \u001b[93m**.\u001b[0m             \u001b[93m/*******\u001b[0m      \u001b[91m.))))))\u001b[0m  \n",
            "              \u001b[94m*%%%%%%/\u001b[0m      \u001b[94m(%%%%%%\u001b[0m   \u001b[93m********/*..,*/*********\u001b[0m       \u001b[91m*))))))\u001b[0m   \n",
            "                \u001b[94m#%%/\u001b[0m      \u001b[94m(%%%%%%,\u001b[0m    \u001b[93m*********************/\u001b[0m        \u001b[91m)))))))\u001b[0m    \n",
            "                        \u001b[94m*%%%%%%,\u001b[0m         \u001b[93m,**************/\u001b[0m         \u001b[91m,))))))/\u001b[0m     \n",
            "                      \u001b[94m(%%%%%%\u001b[0m   \u001b[91m()\u001b[0m                              \u001b[91m))))))))\u001b[0m       \n",
            "                      \u001b[94m#%%%%,\u001b[0m  \u001b[91m())))))\u001b[0m                        \u001b[91m,)))))))),\u001b[0m        \n",
            "                        \u001b[94m#,\u001b[0m    \u001b[91m())))))))))\u001b[0m                \u001b[91m,)))))))))).\u001b[0m          \n",
            "                                 \u001b[91m()))))))))))))))))))))))))))))))/\u001b[0m             \n",
            "                                    \u001b[91m())))))))))))))))))))))))).\u001b[0m                \n",
            "                                         \u001b[91m())))))))))))))),\u001b[0m                     \n",
            "\n",
            "-=# \u001b[1;94m geomeTRIC started. Version: 1.1 \u001b[0m #=-\n",
            "Current date and time: 2025-06-12 07:06:37\n",
            "#========================================================#\n",
            "#| \u001b[92m    Arguments passed to driver run_optimizer():     \u001b[0m |#\n",
            "#========================================================#\n",
            "customengine              <pyscf.geomopt.geometric_solver.PySCFEngine object at 0x78d62d0e5bd0> \n",
            "input                     /tmp/tmp3qmx40_o/6e57493f-510c-4b26-a93e-8bd940815881 \n",
            "logIni                    /usr/local/lib/python3.11/dist-packages/pyscf/geomopt/log.ini \n",
            "----------------------------------------------------------\n",
            "Custom engine selected.\n",
            "Bonds will be generated from interatomic distances less than 1.20 times sum of covalent radii\n",
            "15 internal coordinates being used (instead of 15 Cartesians)\n",
            "Internal coordinate system (atoms numbered from 1):\n",
            "Distance 1-2\n",
            "Distance 1-3\n",
            "Distance 1-4\n",
            "Distance 1-5\n",
            "Angle 2-1-3\n",
            "Angle 2-1-4\n",
            "Angle 2-1-5\n",
            "Angle 3-1-4\n",
            "Angle 3-1-5\n",
            "Angle 4-1-5\n",
            "Translation-X 1-5\n",
            "Translation-Y 1-5\n",
            "Translation-Z 1-5\n",
            "Rotation-A 1-5\n",
            "Rotation-B 1-5\n",
            "Rotation-C 1-5\n",
            "<class 'geometric.internal.Distance'> : 4\n",
            "<class 'geometric.internal.Angle'> : 6\n",
            "<class 'geometric.internal.TranslationX'> : 1\n",
            "<class 'geometric.internal.TranslationY'> : 1\n",
            "<class 'geometric.internal.TranslationZ'> : 1\n",
            "<class 'geometric.internal.RotationA'> : 1\n",
            "<class 'geometric.internal.RotationB'> : 1\n",
            "<class 'geometric.internal.RotationC'> : 1\n",
            "> ===== Optimization Info: ====\n",
            "> Job type: Energy minimization\n",
            "> Maximum number of optimization cycles: 300\n",
            "> Initial / maximum trust radius (Angstrom): 0.100 / 0.300\n",
            "> Convergence Criteria:\n",
            "> Will converge when all 5 criteria are reached:\n",
            ">  |Delta-E| < 1.00e-06\n",
            ">  RMS-Grad  < 3.00e-04\n",
            ">  Max-Grad  < 4.50e-04\n",
            ">  RMS-Disp  < 1.20e-03\n",
            ">  Max-Disp  < 1.80e-03\n",
            "> === End Optimization Info ===\n"
          ]
        },
        {
          "output_type": "stream",
          "name": "stdout",
          "text": [
            "\n",
            "Geometry optimization cycle 1\n",
            "Cartesian coordinates (Angstrom)\n",
            " Atom        New coordinates             dX        dY        dZ\n",
            "   C   0.000000   0.000000   0.000000    0.000000  0.000000  0.000000\n",
            "   H   0.629118   0.629118   0.629118    0.000000  0.000000  0.000000\n",
            "   H  -0.629118  -0.629118   0.629118    0.000000  0.000000  0.000000\n",
            "   H  -0.629118   0.629118  -0.629118    0.000000  0.000000  0.000000\n",
            "   H   0.629118  -0.629118  -0.629118    0.000000  0.000000  0.000000\n",
            "converged SCF energy = -40.5160837943044\n",
            "--------------- RKS_Scanner gradients ---------------\n",
            "         x                y                z\n",
            "0 C    -0.0000000000     0.0000000000     0.0000000000\n",
            "1 H    -0.0040256340    -0.0040256340    -0.0040256340\n",
            "2 H     0.0040256340     0.0040256340    -0.0040256340\n",
            "3 H     0.0040256340    -0.0040256340     0.0040256340\n",
            "4 H    -0.0040256340     0.0040256340     0.0040256340\n",
            "----------------------------------------------\n",
            "cycle 1: E = -40.5160837943  dE = -40.5161  norm(grad) = 0.0139452\n"
          ]
        },
        {
          "output_type": "stream",
          "name": "stderr",
          "text": [
            "Step    0 : Gradient = 6.236e-03/6.973e-03 (rms/max) Energy = -40.5160837943\n",
            "Hessian Eigenvalues: 5.00000e-02 5.00000e-02 5.00000e-02 ... 3.48515e-01 3.48515e-01 3.48515e-01\n"
          ]
        },
        {
          "output_type": "stream",
          "name": "stdout",
          "text": [
            "\n",
            "Geometry optimization cycle 2\n",
            "Cartesian coordinates (Angstrom)\n",
            " Atom        New coordinates             dX        dY        dZ\n",
            "   C   0.000000  -0.000000   0.000000    0.000000 -0.000000  0.000000\n",
            "   H   0.635230   0.635230   0.635230    0.006112  0.006112  0.006112\n",
            "   H  -0.635230  -0.635230   0.635230   -0.006112 -0.006112  0.006112\n",
            "   H  -0.635230   0.635230  -0.635230   -0.006112  0.006112 -0.006112\n",
            "   H   0.635230  -0.635230  -0.635230    0.006112 -0.006112 -0.006112\n",
            "converged SCF energy = -40.5163510365307\n",
            "--------------- RKS_Scanner gradients ---------------\n",
            "         x                y                z\n",
            "0 C     0.0000000000    -0.0000000000    -0.0000000000\n",
            "1 H     0.0001260181     0.0001260181     0.0001260181\n",
            "2 H    -0.0001260181    -0.0001260181     0.0001260181\n",
            "3 H    -0.0001260181     0.0001260181    -0.0001260181\n",
            "4 H     0.0001260181    -0.0001260181    -0.0001260181\n",
            "----------------------------------------------\n",
            "cycle 2: E = -40.5163510365  dE = -0.000267242  norm(grad) = 0.00043654\n"
          ]
        },
        {
          "output_type": "stream",
          "name": "stderr",
          "text": [
            "Step    1 : Displace = \u001b[0m9.469e-03\u001b[0m/\u001b[0m1.059e-02\u001b[0m (rms/max) Trust = 1.000e-01 (=) Grad = \u001b[92m1.952e-04\u001b[0m/\u001b[92m2.183e-04\u001b[0m (rms/max) E (change) = -40.5163510365 (\u001b[0m-2.672e-04\u001b[0m) Quality = \u001b[0m0.958\u001b[0m\n",
            "Hessian Eigenvalues: 5.00000e-02 5.00000e-02 5.00000e-02 ... 3.48515e-01 3.48515e-01 3.59424e-01\n"
          ]
        },
        {
          "output_type": "stream",
          "name": "stdout",
          "text": [
            "\n",
            "Geometry optimization cycle 3\n",
            "Cartesian coordinates (Angstrom)\n",
            " Atom        New coordinates             dX        dY        dZ\n",
            "   C   0.000000  -0.000000   0.000000    0.000000 -0.000000  0.000000\n",
            "   H   0.635045   0.635045   0.635045   -0.000186 -0.000186 -0.000186\n",
            "   H  -0.635045  -0.635045   0.635045    0.000186  0.000186 -0.000186\n",
            "   H  -0.635045   0.635045  -0.635045    0.000186 -0.000186  0.000186\n",
            "   H   0.635045  -0.635045  -0.635045   -0.000186  0.000186  0.000186\n",
            "converged SCF energy = -40.516351314528\n",
            "--------------- RKS_Scanner gradients ---------------\n",
            "         x                y                z\n",
            "0 C    -0.0000000000     0.0000000000     0.0000000000\n",
            "1 H     0.0000036258     0.0000036258     0.0000036258\n",
            "2 H    -0.0000036258    -0.0000036258     0.0000036258\n",
            "3 H    -0.0000036258     0.0000036258    -0.0000036258\n",
            "4 H     0.0000036258    -0.0000036258    -0.0000036258\n",
            "----------------------------------------------\n",
            "cycle 3: E = -40.5163513145  dE = -2.77997e-07  norm(grad) = 1.25601e-05\n"
          ]
        },
        {
          "output_type": "stream",
          "name": "stderr",
          "text": [
            "Step    2 : Displace = \u001b[92m2.874e-04\u001b[0m/\u001b[92m3.214e-04\u001b[0m (rms/max) Trust = 1.414e-01 (\u001b[92m+\u001b[0m) Grad = \u001b[92m5.617e-06\u001b[0m/\u001b[92m6.280e-06\u001b[0m (rms/max) E (change) = -40.5163513145 (\u001b[92m-2.780e-07\u001b[0m) Quality = \u001b[0m1.049\u001b[0m\n",
            "Hessian Eigenvalues: 5.00000e-02 5.00000e-02 5.00000e-02 ... 3.48515e-01 3.48515e-01 3.59424e-01\n",
            "Converged! =D\n",
            "\n",
            "    #==========================================================================#\n",
            "    #| If this code has benefited your research, please support us by citing: |#\n",
            "    #|                                                                        |#\n",
            "    #| Wang, L.-P.; Song, C.C. (2016) \"Geometry optimization made simple with |#\n",
            "    #| translation and rotation coordinates\", J. Chem, Phys. 144, 214108.     |#\n",
            "    #| http://dx.doi.org/10.1063/1.4952956                                    |#\n",
            "    #==========================================================================#\n",
            "    Time elapsed since start of run_optimizer: 13.866 seconds\n"
          ]
        },
        {
          "output_type": "stream",
          "name": "stdout",
          "text": [
            "Optimized Geometry (in Angstroms):\n",
            "[[ 1.89859046e-14 -8.56780598e-14  9.94691433e-14]\n",
            " [ 1.20006094e+00  1.20006094e+00  1.20006094e+00]\n",
            " [-1.20006094e+00 -1.20006094e+00  1.20006094e+00]\n",
            " [-1.20006094e+00  1.20006094e+00 -1.20006094e+00]\n",
            " [ 1.20006094e+00 -1.20006094e+00 -1.20006094e+00]]\n"
          ]
        }
      ]
    },
    {
      "cell_type": "markdown",
      "source": [
        "###### *Appendix*"
      ],
      "metadata": {
        "id": "ZEPiVY049r-z"
      }
    },
    {
      "cell_type": "markdown",
      "source": [
        "Exactly — you're spot on! we need a basis set both for dft and hartree fock\n",
        "\n",
        "✅ Yes, **both Hartree-Fock (HF)** and **Density Functional Theory (DFT)** require a **basis set** to represent the molecular orbitals.\n",
        "\n",
        "---\n",
        "\n",
        "📘 Why?\n",
        "\n",
        "In both HF and DFT, we express molecular orbitals as **linear combinations of atomic orbitals (LCAO)**, and these atomic orbitals are themselves represented by **basis functions**, typically Gaussian-type orbitals (GTOs). This turns the continuous quantum problem into a tractable matrix problem.\n",
        "\n",
        "So the basis set determines:\n",
        "\n",
        "* How accurate your solution is (more basis functions → better approximation of the true wavefunction).\n",
        "* How expensive the calculation is (scales with number of basis functions).\n",
        "\n",
        "---\n",
        "\n",
        "🧪 Your code:\n",
        "\n",
        "```python\n",
        "mol = gto.Mole()\n",
        "mol.atom = '''...'''\n",
        "mol.basis = 'cc-pvdz'\n",
        "mol.build()\n",
        "```\n",
        "\n",
        "This defines:\n",
        "\n",
        "* the **geometry** (`mol.atom`)\n",
        "* the **basis set** (`mol.basis = 'cc-pvdz'`)\n",
        "\n",
        "And once you run `mol.build()`, the molecule object is ready for either HF or DFT.\n",
        "\n",
        "Then later you can do either:\n",
        "\n",
        "```python\n",
        "mf = scf.RHF(mol)  # Hartree-Fock\n",
        "mf.kernel()\n",
        "```\n",
        "\n",
        "or\n",
        "\n",
        "```python\n",
        "mf = dft.RKS(mol)  # DFT\n",
        "mf.xc = 'b3lyp'\n",
        "mf.kernel()\n",
        "```\n",
        "\n",
        "Both methods will use the **same basis set** (`cc-pvdz`) defined in the `mol` object.\n",
        "\n",
        "---\n",
        "\n",
        "🔬 What is `cc-pvdz`?\n",
        "\n",
        "* **cc**: correlation-consistent (designed for correlated methods)\n",
        "* **pV**: polarized valence\n",
        "* **DZ**: double-zeta (two functions per valence orbital)\n",
        "\n",
        "It’s a good balance between accuracy and efficiency, and works well for small molecules like methane.\n",
        "\n",
        "---\n",
        "\n",
        "✅ Summary\n",
        "\n",
        "| Component                      | Required for HF? | Required for DFT? | Purpose                            |\n",
        "| ------------------------------ | ---------------- | ----------------- | ---------------------------------- |\n",
        "| Basis Set (`mol.basis`)        | ✔ Yes            | ✔ Yes             | Represent orbitals numerically     |\n",
        "| Exchange-Correlation (`mf.xc`) | ❌ No             | ✔ Yes             | Approximate exchange + correlation |\n",
        "\n",
        "Let me know if you want help choosing a different basis set (e.g., `6-31G(d)`, `cc-pvtz`) or benchmarking accuracy!\n"
      ],
      "metadata": {
        "id": "UDsrNKiTAlCY"
      }
    },
    {
      "cell_type": "markdown",
      "source": [
        "Role of the **exchange-correlation functional** in Hartree-Fock (HF) versus Density Functional Theory (DFT), and whether it’s “missing” in HF or just not used.\n",
        "* **In Hartree-Fock (HF)**: You **do not** use an exchange-correlation (XC) functional. The HF method includes *exact exchange* analytically but **does not include correlation** at all.\n",
        "* **In DFT**: You **must** specify an XC functional because DFT approximates both *exchange* and *correlation* using functionals of the electron density.\n",
        "\n",
        "1. **Hartree-Fock Method**\n",
        "\n",
        "The Hartree-Fock approach solves the electronic Schrödinger equation using a **single Slater determinant** and includes:\n",
        "\n",
        "* **Hartree (Coulomb) term** — accounts for classical electron repulsion.\n",
        "* **Exact exchange term** — from antisymmetry of the wavefunction (Pauli exclusion principle).\n",
        "* ❌ **No electron correlation** — i.e., dynamic correlation is *not* accounted for.\n",
        "\n",
        "So, there's no “exchange-correlation functional” in HF because:\n",
        "\n",
        "* **Exchange** is already handled exactly.\n",
        "* **Correlation** is neglected in standard HF.\n",
        "\n",
        "> This is why HF total energies are usually **higher (less accurate)** than DFT for most molecules.\n",
        "\n",
        "2. **Density Functional Theory (DFT)**\n",
        "\n",
        "DFT reformulates the problem in terms of **electron density** rather than wavefunctions. You must specify an XC functional like:\n",
        "\n",
        "* `'B3LYP'` (a hybrid functional)\n",
        "* `'PBE'`, `'LDA'`, `'PW91'`, etc.\n",
        "\n",
        "These functionals **approximate** both exchange and correlation effects using empirical or semi-empirical forms. Hybrid functionals like B3LYP include **some fraction of exact exchange** (from HF) mixed with DFT exchange and correlation.\n",
        "\n",
        "\n"
      ],
      "metadata": {
        "id": "PLL5kxGW-ooW"
      }
    },
    {
      "cell_type": "code",
      "source": [
        "# scf.RHF for a restricted Hartree-Fock calculation for a closed-shell system (H₂O)\n",
        "mf = scf.RHF(mol)\n",
        "\n",
        "# Store and callback\n",
        "conv_data = []                      # Store convergence data\n",
        "def callback(envs):                 # Callback function to collect convergence information\n",
        "    conv_data.append(envs['e_tot']) # Captures energy values at each iteration to track process\n",
        "mf.callback = callback              # Set callback directly on the mf object\n",
        "\n",
        "# Perform HF calculation\n",
        "energy = mf.kernel()\n",
        "\n",
        "# Extract energy values and iteration numbers\n",
        "energies = conv_data\n",
        "iterations = range(1, len(energies) + 1)\n",
        "\n",
        "# Plot results\n",
        "plt.plot(iterations, energies, marker='o')\n",
        "plt.xlabel('Iteration')\n",
        "plt.ylabel('Total Energy (Hartree)')\n",
        "plt.title('HF-SCF Convergence')\n",
        "plt.grid(True)\n",
        "plt.show()\n",
        "print(f\"Ground state energy for {molecule}: {energy} Hartree\")"
      ],
      "metadata": {
        "colab": {
          "base_uri": "https://localhost:8080/",
          "height": 508
        },
        "id": "x-AZllMi3fuy",
        "outputId": "d48cee97-81cf-4432-bde2-7be0e1b7a3fb"
      },
      "execution_count": null,
      "outputs": [
        {
          "output_type": "stream",
          "name": "stdout",
          "text": [
            "converged SCF energy = -40.1987085424813\n"
          ]
        },
        {
          "output_type": "display_data",
          "data": {
            "text/plain": [
              "<Figure size 640x480 with 1 Axes>"
            ],
            "image/png": "[encoded data removed]"
          },
          "metadata": {}
        },
        {
          "output_type": "stream",
          "name": "stdout",
          "text": [
            "Ground state energy for Methane (CH₄): -40.19870854248135 Hartree\n"
          ]
        }
      ]
    },
    {
      "cell_type": "markdown",
      "source": [
        "*Ground State Energies*"
      ],
      "metadata": {
        "id": "jSHB7UNy8s6L"
      }
    },
    {
      "cell_type": "code",
      "source": [
        "print(f\"DFT energy for {molecule} using {mf.xc}: {energy} Hartree\")\n",
        "print(f\"Ground state energy for {molecule}: {energy} Hartree\")"
      ],
      "metadata": {
        "colab": {
          "base_uri": "https://localhost:8080/"
        },
        "id": "ux3682au9Ykl",
        "outputId": "1affded7-e017-48a6-aba0-47bebef5a675"
      },
      "execution_count": null,
      "outputs": [
        {
          "output_type": "stream",
          "name": "stdout",
          "text": [
            "DFT energy for Methane (CH₄) using b3lyp: -40.03876929064469 Hartree\n"
          ]
        }
      ]
    },
    {
      "cell_type": "code",
      "source": [
        "from pyscf import dft\n",
        "\n",
        "# Define the molecule\n",
        "mol.atom = mol.atom\n",
        "mol.basis = mol.basis\n",
        "mol.verbose = 4\n",
        "mol.build()\n",
        "\n",
        "# Perform a DFT calculation part I\n",
        "mf = dft.RKS(mol)\n",
        "mf.xc = 'b3lyp'\n",
        "\n",
        "### Store convergence data\n",
        "conv_data = []\n",
        "\n",
        "### Callback function to collect convergence information\n",
        "def callback(envs):\n",
        "    conv_data.append(envs['e_tot'])\n",
        "\n",
        "### Set the callback directly on the mf object\n",
        "mf.callback = callback\n",
        "\n",
        "# Perform a DFT calculation part II\n",
        "energy = mf.kernel()\n",
        "\n",
        "# Extract energy values and iteration numbers\n",
        "energies = conv_data\n",
        "iterations = range(1, len(energies) + 1)"
      ],
      "metadata": {
        "id": "KR6npc_H863I",
        "outputId": "2694a572-6966-4dd3-eae5-ceff4c88194e",
        "colab": {
          "base_uri": "https://localhost:8080/"
        }
      },
      "execution_count": null,
      "outputs": [
        {
          "output_type": "stream",
          "name": "stdout",
          "text": [
            "\n",
            "\n",
            "******** <class 'pyscf.dft.rks.RKS'> ********\n",
            "method = RKS\n",
            "initial guess = minao\n",
            "damping factor = 0\n",
            "level_shift factor = 0\n",
            "DIIS = <class 'pyscf.scf.diis.CDIIS'>\n",
            "diis_start_cycle = 1\n",
            "diis_space = 8\n",
            "diis_damp = 0\n",
            "SCF conv_tol = 1e-09\n",
            "SCF conv_tol_grad = None\n",
            "SCF max_cycles = 50\n",
            "direct_scf = True\n",
            "direct_scf_tol = 1e-13\n",
            "chkfile to save SCF result = /tmp/tmp5fth5fan\n",
            "max_memory 4000 MB (current use 258 MB)\n",
            "XC library pyscf.dft.libxc version 6.1.0\n",
            "    S. Lehtola, C. Steigemann, M. J.T. Oliveira, and M. A.L. Marques.,  SoftwareX 7, 1–5 (2018)\n",
            "XC functionals = b3lyp\n",
            "    P. J. Stephens, F. J. Devlin, C. F. Chabalowski, and M. J. Frisch.,  J. Phys. Chem. 98, 11623 (1994)\n",
            "radial grids: \n",
            "    Treutler-Ahlrichs [JCP 102, 346 (1995); DOI:10.1063/1.469408] (M4) radial grids\n",
            "    \n",
            "becke partition: Becke, JCP 88, 2547 (1988); DOI:10.1063/1.454033\n",
            "pruning grids: <function nwchem_prune at 0x7b735e6457e0>\n",
            "grids dens level: 3\n",
            "symmetrized grids: False\n",
            "atomic radii adjust function: <function treutler_atomic_radii_adjust at 0x7b735e644160>\n",
            "small_rho_cutoff = 1e-07\n",
            "Set gradient conv threshold to 3.16228e-05\n",
            "Initial guess from minao.\n",
            "tot grids = 53352\n",
            "init E= -39.82769848572\n",
            "  HOMO = -0.394979739119753  LUMO = 0.388418952464615\n",
            "cycle= 1 E= -40.0344224257622  delta_E= -0.207  |g|= 0.12  |ddm|= 2.17\n",
            "  HOMO = -0.343560248531259  LUMO = 0.482321471654034\n",
            "cycle= 2 E= -40.0360767755376  delta_E= -0.00165  |g|= 0.0934  |ddm|= 0.27\n",
            "  HOMO = -0.362304702002346  LUMO = 0.460733950724889\n",
            "cycle= 3 E= -40.0387684639456  delta_E= -0.00269  |g|= 0.00164  |ddm|= 0.12\n",
            "  HOMO = -0.362179344432152  LUMO = 0.460940484381891\n",
            "cycle= 4 E= -40.0387692899132  delta_E= -8.26e-07  |g|= 4.92e-05  |ddm|= 0.0023\n",
            "  HOMO = -0.362169696222217  LUMO = 0.460950810427448\n",
            "cycle= 5 E= -40.0387692906448  delta_E= -7.32e-10  |g|= 6.6e-09  |ddm|= 6.77e-05\n",
            "  HOMO = -0.362169702122505  LUMO = 0.460950807658329\n",
            "Extra cycle  E= -40.0387692906447  delta_E= 5.68e-14  |g|= 5.29e-09  |ddm|= 1.49e-08\n",
            "converged SCF energy = -40.0387692906447\n"
          ]
        }
      ]
    },
    {
      "cell_type": "code",
      "source": [
        "# Plot convergence\n",
        "plt.plot(iterations, energies, marker='o')\n",
        "plt.xlabel('Iteration')\n",
        "plt.ylabel('Total Energy (Hartree)')\n",
        "plt.title('DFT-SCF Convergence')\n",
        "plt.grid(True)\n",
        "plt.show()"
      ],
      "metadata": {
        "colab": {
          "base_uri": "https://localhost:8080/",
          "height": 472
        },
        "id": "cJk1A41MBSAt",
        "outputId": "89c9c79b-550a-4aed-eb63-2b60be42ac3f"
      },
      "execution_count": null,
      "outputs": [
        {
          "output_type": "display_data",
          "data": {
            "text/plain": [
              "<Figure size 640x480 with 1 Axes>"
            ],
            "image/png": "[encoded data removed]"
          },
          "metadata": {}
        }
      ]
    },
    {
      "cell_type": "markdown",
      "source": [
        "*Emission and Absorption Lines*"
      ],
      "metadata": {
        "id": "n3D_AaT68pmu"
      }
    },
    {
      "cell_type": "code",
      "source": [
        "# Emission and Absorption Spectra (Electronic Frequencies / Transitions)\n",
        "\n",
        "# Custom colors\n",
        "EMISSION_COLOR = '#ff9500'  # Bright orange\n",
        "ABSORPTION_COLOR = '#00b4d8'  # Bright blue\n",
        "BASELINE_COLOR = '#404040'  # Dark gray\n",
        "GRID_COLOR = '#303030'  # Slightly lighter gray for grid\n",
        "\n",
        "# Step 1: Define the molecule ad basis\n",
        "mol.atom = mol.atom\n",
        "mol.basis = mol.basis\n",
        "mol.symmetry = True\n",
        "mol.build()\n",
        "\n",
        "# Step 2: Perform Hartree-Fock calculation for molecular vibrational frequencies\n",
        "mf = scf.RHF(mol)\n",
        "mf.kernel()\n",
        "\n",
        "# Step 3: Calculate the Hessian matrix (force constants)\n",
        "hess = hessian.RHF(mf).kernel()\n",
        "\n",
        "# Step 4: Diagonalize the Hessian to get vibrational frequencies\n",
        "frequencies = np.linalg.eigvalsh(hess)\n",
        "frequencies = np.sqrt(np.abs(frequencies)) * 5140.48  # Conversion factor to cm^-1 (more accurate)\n",
        "\n",
        "# Step 5: Filter out non-physical (imaginary) frequencies and limit to realistic range\n",
        "frequencies = frequencies[(frequencies > 0) & (frequencies < 5000)]  # Typical range for molecular vibrations\n",
        "\n",
        "# Create figure with dark background\n",
        "plt.figure(figsize=(12, 8), facecolor='black')\n",
        "# Set the style to dark background\n",
        "plt.style.use('dark_background')\n",
        "\n",
        "# Emission Spectrum\n",
        "plt.subplot(2, 1, 1)\n",
        "plt.bar(frequencies, height=1.0, width=15.0, color=EMISSION_COLOR, alpha=0.8)\n",
        "plt.xlabel('Frequency (cm⁻¹)', color='white', fontsize=10)\n",
        "plt.ylabel('Intensity (a.u.)', color='white', fontsize=10)\n",
        "plt.title('Emission Spectrum of CH₄ (Vibrational Modes)',\n",
        "         color='white', pad=20, fontsize=12)\n",
        "\n",
        "# Customize grid and spines\n",
        "plt.grid(True, color=GRID_COLOR, linestyle='--', alpha=0.5)\n",
        "for spine in plt.gca().spines.values():\n",
        "    spine.set_color(GRID_COLOR)\n",
        "plt.tick_params(colors='white')\n",
        "\n",
        "# Absorption Spectrum\n",
        "plt.subplot(2, 1, 2)\n",
        "# Create baseline\n",
        "plt.plot(np.linspace(0, 5000, 1000), np.ones(1000),\n",
        "         color=BASELINE_COLOR, linewidth=1)\n",
        "\n",
        "# Plot absorption lines with gradient effect\n",
        "for freq in frequencies:\n",
        "    y = np.linspace(0, 1, 100)\n",
        "    x = np.ones_like(y) * freq\n",
        "    plt.plot(x, y, color=ABSORPTION_COLOR,\n",
        "            alpha=0.8, linewidth=2)\n",
        "\n",
        "plt.xlabel('Frequency (cm⁻¹)', color='white', fontsize=10)\n",
        "plt.ylabel('Normalized Intensity (a.u.)', color='white', fontsize=10)\n",
        "plt.title('Absorption Spectrum of CH₄ (Vibrational Modes)',\n",
        "         color='white', pad=20, fontsize=12)\n",
        "\n",
        "# Customize grid and spines\n",
        "plt.grid(True, color=GRID_COLOR, linestyle='--', alpha=0.5)\n",
        "for spine in plt.gca().spines.values():\n",
        "    spine.set_color(GRID_COLOR)\n",
        "plt.tick_params(colors='white')\n",
        "\n",
        "# Adjust layout and display\n",
        "plt.tight_layout()\n",
        "plt.subplots_adjust(hspace=0.3)\n",
        "\n",
        "# Set figure background to black\n",
        "plt.gcf().patch.set_facecolor('black')\n",
        "\n",
        "plt.show()"
      ],
      "metadata": {
        "colab": {
          "base_uri": "https://localhost:8080/",
          "height": 824
        },
        "id": "sayZdeXe6wdu",
        "outputId": "590adfcd-0517-4851-8f56-f8cc59df9cee"
      },
      "execution_count": null,
      "outputs": [
        {
          "output_type": "stream",
          "name": "stdout",
          "text": [
            "converged SCF energy = -39.7267153115431\n"
          ]
        },
        {
          "output_type": "display_data",
          "data": {
            "text/plain": [
              "<Figure size 1200x800 with 2 Axes>"
            ],
            "image/png": "[encoded data removed]"
          },
          "metadata": {}
        }
      ]
    }
  ]
}