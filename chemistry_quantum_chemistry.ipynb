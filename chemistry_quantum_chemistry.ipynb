{
  "nbformat": 4,
  "nbformat_minor": 0,
  "metadata": {
    "colab": {
      "provenance": [],
      "collapsed_sections": [
        "88f6pDa0sJQW",
        "NAEKBsyHr757"
      ],
      "authorship_tag": "ABX9TyM7f4y7xpf1wS5z5x22RMfW",
      "include_colab_link": true
    },
    "kernelspec": {
      "name": "python3",
      "display_name": "Python 3"
    },
    "language_info": {
      "name": "python"
    }
  },
  "cells": [
    {
      "cell_type": "markdown",
      "metadata": {
        "id": "view-in-github",
        "colab_type": "text"
      },
      "source": [
        "<a href=\"https://colab.research.google.com/github/deltorobarba/sciences/blob/master/chemistry_quantum_chemistry.ipynb\" target=\"_parent\"><img src=\"https://colab.research.google.com/assets/colab-badge.svg\" alt=\"Open In Colab\"/></a>"
      ]
    },
    {
      "cell_type": "markdown",
      "source": [
        "# **Quantum Chemistry with Variational Quantum Eigensolver**"
      ],
      "metadata": {
        "id": "m2XV-ATIMsR6"
      }
    },
    {
      "cell_type": "markdown",
      "source": [
        "![sciences](https://raw.githubusercontent.com/deltorobarba/repo/master/sciences_5000.png)"
      ],
      "metadata": {
        "id": "nvEWmdDiNZpG"
      }
    },
    {
      "cell_type": "markdown",
      "source": [
        "### **Variational Quantum Eigensolver to optimize an Ising model with Google Cirq**"
      ],
      "metadata": {
        "id": "88f6pDa0sJQW"
      }
    },
    {
      "cell_type": "markdown",
      "source": [
        "Code example: Use the variational quantum eigensolver in Cirq to optimize an Ising model. This demonstrates the four key components of VQE: defining the Hamiltonian (the problem to solve), creating a parameterized quantum circuit (the Ansatz), computing the expectation value of the Hamiltonian, and optimizing the parameters to find the ground state energy."
      ],
      "metadata": {
        "id": "usdBH0a6sMi0"
      }
    },
    {
      "cell_type": "code",
      "source": [
        "!pip install cirq -q"
      ],
      "metadata": {
        "colab": {
          "base_uri": "https://localhost:8080/"
        },
        "id": "IfSn-wYZsQNt",
        "outputId": "7762b6a5-35dd-4f45-8a0e-12e53daa24fe"
      },
      "execution_count": null,
      "outputs": [
        {
          "output_type": "stream",
          "name": "stdout",
          "text": [
            "\u001b[?25l   \u001b[90m━━━━━━━━━━━━━━━━━━━━━━━━━━━━━━━━━━━━━━━━\u001b[0m \u001b[32m0.0/2.0 MB\u001b[0m \u001b[31m?\u001b[0m eta \u001b[36m-:--:--\u001b[0m\r\u001b[2K   \u001b[91m━━━━━━━━━━━━\u001b[0m\u001b[90m╺\u001b[0m\u001b[90m━━━━━━━━━━━━━━━━━━━━━━━━━━━\u001b[0m \u001b[32m0.6/2.0 MB\u001b[0m \u001b[31m17.2 MB/s\u001b[0m eta \u001b[36m0:00:01\u001b[0m\r\u001b[2K   \u001b[91m━━━━━━━━━━━━━━━━━━━━━━━━━━━━━━━━━━━━━━━\u001b[0m\u001b[91m╸\u001b[0m \u001b[32m2.0/2.0 MB\u001b[0m \u001b[31m32.7 MB/s\u001b[0m eta \u001b[36m0:00:01\u001b[0m\r\u001b[2K   \u001b[90m━━━━━━━━━━━━━━━━━━━━━━━━━━━━━━━━━━━━━━━━\u001b[0m \u001b[32m2.0/2.0 MB\u001b[0m \u001b[31m22.2 MB/s\u001b[0m eta \u001b[36m0:00:00\u001b[0m\n",
            "\u001b[2K   \u001b[90m━━━━━━━━━━━━━━━━━━━━━━━━━━━━━━━━━━━━━━━━\u001b[0m \u001b[32m597.5/597.5 kB\u001b[0m \u001b[31m24.1 MB/s\u001b[0m eta \u001b[36m0:00:00\u001b[0m\n",
            "\u001b[2K   \u001b[90m━━━━━━━━━━━━━━━━━━━━━━━━━━━━━━━━━━━━━━━━\u001b[0m \u001b[32m72.0/72.0 kB\u001b[0m \u001b[31m4.3 MB/s\u001b[0m eta \u001b[36m0:00:00\u001b[0m\n",
            "\u001b[2K   \u001b[90m━━━━━━━━━━━━━━━━━━━━━━━━━━━━━━━━━━━━━━━━\u001b[0m \u001b[32m425.1/425.1 kB\u001b[0m \u001b[31m21.8 MB/s\u001b[0m eta \u001b[36m0:00:00\u001b[0m\n",
            "\u001b[2K   \u001b[90m━━━━━━━━━━━━━━━━━━━━━━━━━━━━━━━━━━━━━━━━\u001b[0m \u001b[32m2.8/2.8 MB\u001b[0m \u001b[31m63.9 MB/s\u001b[0m eta \u001b[36m0:00:00\u001b[0m\n",
            "\u001b[?25h"
          ]
        }
      ]
    },
    {
      "cell_type": "code",
      "source": [
        "import cirq\n",
        "import numpy as np\n",
        "import scipy.optimize\n",
        "\n",
        "# 1. Define the Hamiltonian (Ising Model)\n",
        "def ising_hamiltonian(qubits, J=1.0, h=0.5):\n",
        "    \"\"\"Creates an Ising model Hamiltonian.\"\"\"\n",
        "    hamiltonian = cirq.PauliSum()\n",
        "    for i in range(len(qubits)):\n",
        "        hamiltonian += -J * cirq.Z(qubits[i]) * cirq.Z(qubits[(i + 1) % len(qubits)])  # Periodic boundary\n",
        "        hamiltonian += -h * cirq.X(qubits[i])  # Using X instead of Z for transverse field\n",
        "    return hamiltonian\n",
        "\n",
        "# 2. Define the Ansatz (Parameterized Quantum Circuit)\n",
        "def ansatz(qubits, params):\n",
        "    \"\"\"Creates a simple hardware-efficient ansatz.\"\"\"\n",
        "    circuit = cirq.Circuit()\n",
        "\n",
        "    # First layer of rotations\n",
        "    for i, qubit in enumerate(qubits):\n",
        "        circuit.append(cirq.rx(params[2 * i])(qubit))\n",
        "        circuit.append(cirq.rz(params[2 * i + 1])(qubit))\n",
        "\n",
        "    # Entangling layer\n",
        "    for i in range(len(qubits)):\n",
        "        circuit.append(cirq.CZ(qubits[i], qubits[(i + 1) % len(qubits)]))\n",
        "\n",
        "    # Second layer of rotations\n",
        "    offset = 2 * len(qubits)\n",
        "    for i, qubit in enumerate(qubits):\n",
        "        circuit.append(cirq.rx(params[offset + 2 * i])(qubit))\n",
        "        circuit.append(cirq.rz(params[offset + 2 * i + 1])(qubit))\n",
        "\n",
        "    return circuit\n",
        "\n",
        "# 3. Calculate the Expectation Value\n",
        "def expectation_value(qubits, params, hamiltonian, simulator):\n",
        "    \"\"\"Calculates the expectation value of the Hamiltonian.\"\"\"\n",
        "    circuit = ansatz(qubits, params)\n",
        "\n",
        "    # The key fix: create a proper qubit-to-index mapping\n",
        "    qubit_map = {qubit: i for i, qubit in enumerate(qubits)}\n",
        "\n",
        "    result = simulator.simulate(circuit)\n",
        "    state_vector = result.final_state_vector\n",
        "\n",
        "    return hamiltonian.expectation_from_state_vector(state_vector, qubit_map).real\n",
        "\n",
        "# 4. Optimization\n",
        "def vqe_optimization(num_qubits, simulator, max_iterations=100):\n",
        "    \"\"\"Performs VQE optimization.\"\"\"\n",
        "    qubits = cirq.LineQubit.range(num_qubits)\n",
        "    hamiltonian = ising_hamiltonian(qubits)\n",
        "\n",
        "    # 4 parameters per qubit (2 rotation angles per layer × 2 layers)\n",
        "    initial_params = np.random.uniform(0, 2 * np.pi, 4 * num_qubits)\n",
        "\n",
        "    def cost_function(params):\n",
        "        return expectation_value(qubits, params, hamiltonian, simulator)\n",
        "\n",
        "    result = scipy.optimize.minimize(\n",
        "        cost_function,\n",
        "        initial_params,\n",
        "        method='COBYLA',\n",
        "        options={'maxiter': max_iterations}\n",
        "    )\n",
        "\n",
        "    # Return both the optimized energy and parameters\n",
        "    return result.fun, result.x\n",
        "\n",
        "# Example Usage\n",
        "def main():\n",
        "    num_qubits = 4\n",
        "    simulator = cirq.Simulator()\n",
        "\n",
        "    print(f\"Running VQE for {num_qubits} qubits...\")\n",
        "    ground_state_energy, optimal_params = vqe_optimization(num_qubits, simulator)\n",
        "\n",
        "    print(f\"Estimated Ground State Energy: {ground_state_energy}\")\n",
        "\n",
        "    # Optional: Visualize the optimal circuit\n",
        "    qubits = cirq.LineQubit.range(num_qubits)\n",
        "    optimal_circuit = ansatz(qubits, optimal_params)\n",
        "    print(\"\\nOptimal Circuit:\")\n",
        "    print(optimal_circuit)\n",
        "\n",
        "if __name__ == \"__main__\":\n",
        "    main()"
      ],
      "metadata": {
        "colab": {
          "base_uri": "https://localhost:8080/"
        },
        "id": "pIjECvJDsSJs",
        "outputId": "499f2e93-5909-499f-db20-c6edead5ceef"
      },
      "execution_count": null,
      "outputs": [
        {
          "output_type": "stream",
          "name": "stdout",
          "text": [
            "Running VQE for 4 qubits...\n",
            "Estimated Ground State Energy: -4.214084185659885\n",
            "\n",
            "Optimal Circuit:\n",
            "                                                     ┌──────────┐\n",
            "0: ───Rx(1.05π)────Rz(0.807π)───@─────────────────────@─────────────Rx(0.893π)───Rz(-0.307π)───\n",
            "                                │                     │\n",
            "1: ───Rx(-1.85π)───Rz(-1.85π)───@───@───Rx(-1.87π)────┼Rz(1.03π)───────────────────────────────\n",
            "                                    │                 │\n",
            "2: ───Rx(1.92π)────Rz(-0.22π)───────@───@─────────────┼Rx(1.98π)────Rz(0.851π)─────────────────\n",
            "                                        │             │\n",
            "3: ───Rx(1.07π)────Rz(1.28π)────────────@─────────────@─────────────Rx(0.898π)───Rz(1.27π)─────\n",
            "                                                     └──────────┘\n"
          ]
        }
      ]
    },
    {
      "cell_type": "markdown",
      "source": [
        "### **Quantum Chemistry on H₂ with UCCSD with NVIDIA cuda-q**"
      ],
      "metadata": {
        "id": "NAEKBsyHr757"
      }
    },
    {
      "cell_type": "markdown",
      "source": [
        "https://nvidia.github.io/cuda-quantum/0.7.1/examples/python/tutorials/vqe.html"
      ],
      "metadata": {
        "id": "E008UTDPMwHO"
      }
    },
    {
      "cell_type": "code",
      "source": [
        "!pip install cudaq\n",
        "import cudaq\n",
        "print(cudaq.__version__)\n",
        "!pip show cudaq"
      ],
      "metadata": {
        "id": "zIDw07BgyYpd"
      },
      "execution_count": null,
      "outputs": []
    },
    {
      "cell_type": "code",
      "source": [
        "!pip install openfermionpyscf==0.5 matplotlib==3.8.4 scipy==1.13.0\n",
        "import matplotlib.pyplot as plt\n",
        "from scipy.optimize import minimize\n",
        "import numpy as np"
      ],
      "metadata": {
        "id": "h7zSBXquOLXW"
      },
      "execution_count": null,
      "outputs": []
    },
    {
      "cell_type": "code",
      "source": [
        "# Single precision\n",
        "cudaq.set_target(\"nvidia\")\n",
        "\n",
        "# Double precision\n",
        "#cudaq.set_target(\"nvidia-fp64\")"
      ],
      "metadata": {
        "id": "Ofn3AvvMMyrR"
      },
      "execution_count": null,
      "outputs": []
    },
    {
      "cell_type": "markdown",
      "source": [
        "The problem of interest here is a chain of hydrogen atoms seperated along the z-axis at a fixed interval called the bond distance.\n",
        "\n",
        "The interatomic electrostatic forces due to the electrons and protons and the shielding by the neutrons creates a chemical system whose energy can be minimised to find a stable configuration.\n",
        "\n",
        "Let us first begin by defining the molecule and other metadata about the problem."
      ],
      "metadata": {
        "id": "_3Su_AUlM0zP"
      }
    },
    {
      "cell_type": "code",
      "source": [
        "# Number of hydrogen atoms.\n",
        "hydrogen_count = 2\n",
        "\n",
        "# Distance between the atoms in Angstroms.\n",
        "bond_distance = 0.7474\n",
        "\n",
        "# Define a linear chain of Hydrogen atoms\n",
        "geometry = [('H', (0, 0, i * bond_distance)) for i in range(hydrogen_count)]\n",
        "\n",
        "molecule, data = cudaq.chemistry.create_molecular_hamiltonian(\n",
        "    geometry, 'sto-3g', 1, 0)\n",
        "\n",
        "electron_count = data.n_electrons\n",
        "qubit_count = 2 * data.n_orbitals"
      ],
      "metadata": {
        "id": "2_VHjBvcM3DP"
      },
      "execution_count": null,
      "outputs": []
    },
    {
      "cell_type": "markdown",
      "source": [
        "We now generate a Unitary Coupled-Cluster Singles and Doubles (UCCSD) ansatz from the template provided by CUDA-Q."
      ],
      "metadata": {
        "id": "fhPuasIVM4oC"
      }
    },
    {
      "cell_type": "code",
      "source": [
        "@cudaq.kernel\n",
        "def kernel(thetas: list[float]):\n",
        "\n",
        "    qubits = cudaq.qvector(qubit_count)\n",
        "\n",
        "    for i in range(electron_count):\n",
        "        x(qubits[i])\n",
        "\n",
        "    cudaq.kernels.uccsd(qubits, thetas, electron_count, qubit_count)\n",
        "\n",
        "\n",
        "parameter_count = cudaq.kernels.uccsd_num_parameters(electron_count,\n",
        "                                                     qubit_count)"
      ],
      "metadata": {
        "id": "V2AuI9RLM6Ku"
      },
      "execution_count": null,
      "outputs": []
    },
    {
      "cell_type": "markdown",
      "source": [
        "**Using CUDA-Q Optimizers**\n",
        "\n",
        "We use the builtin optimizers within CUDA-Q for the minimization procedure."
      ],
      "metadata": {
        "id": "i5nQ19bPM-OX"
      }
    },
    {
      "cell_type": "code",
      "source": [
        "optimizer = cudaq.optimizers.COBYLA()\n",
        "\n",
        "energy, parameters = cudaq.vqe(kernel,\n",
        "                               molecule,\n",
        "                               optimizer,\n",
        "                               parameter_count=parameter_count)\n",
        "\n",
        "print(energy)"
      ],
      "metadata": {
        "id": "6oh-29duNCiq",
        "colab": {
          "base_uri": "https://localhost:8080/"
        },
        "outputId": "49d873f2-a22f-4b8b-ce44-ecd2c40a406c"
      },
      "execution_count": null,
      "outputs": [
        {
          "output_type": "stream",
          "name": "stdout",
          "text": [
            "-1.1371756649403264\n"
          ]
        }
      ]
    },
    {
      "cell_type": "markdown",
      "source": [
        "**Integration with Third-Party Optimizers**\n",
        "\n",
        "We can also integrate popular libraries like scipy with CUDA-Q."
      ],
      "metadata": {
        "id": "sOgz_W-aNE3n"
      }
    },
    {
      "cell_type": "code",
      "source": [
        "# Define a function to minimize\n",
        "def cost(theta):\n",
        "\n",
        "    exp_val = cudaq.observe(kernel, molecule, theta).expectation()\n",
        "\n",
        "    return exp_val\n",
        "\n",
        "\n",
        "exp_vals = []\n",
        "\n",
        "\n",
        "def callback(xk):\n",
        "    exp_vals.append(cost(xk))\n",
        "\n",
        "\n",
        "# Initial variational parameters.\n",
        "np.random.seed(42)\n",
        "x0 = np.random.normal(0, np.pi, parameter_count)\n",
        "\n",
        "# Use the scipy optimizer to minimize the function of interest\n",
        "result = minimize(cost,\n",
        "                  x0,\n",
        "                  method='COBYLA',\n",
        "                  callback=callback,\n",
        "                  options={'maxiter': 40})\n",
        "\n",
        "plt.plot(exp_vals)\n",
        "plt.xlabel('Epochs')\n",
        "plt.ylabel('Energy')\n",
        "plt.title('VQE')\n",
        "plt.show()"
      ],
      "metadata": {
        "id": "_hA-z2JlNHEB",
        "colab": {
          "base_uri": "https://localhost:8080/",
          "height": 472
        },
        "outputId": "5dc20e25-9f71-463d-ebd5-2c46ac2bec02"
      },
      "execution_count": null,
      "outputs": [
        {
          "output_type": "display_data",
          "data": {
            "text/plain": [
              "<Figure size 640x480 with 1 Axes>"
            ],
            "image/png": "[encoded data removed]"
          },
          "metadata": {}
        }
      ]
    },
    {
      "cell_type": "markdown",
      "source": [
        "**NVIDIA cuQuantum** and **NVIDIA CUDA-Q** are both frameworks designed for accelerating quantum computing workflows, but they serve distinct purposes and are optimized for different stages of quantum application development.\n",
        "\n",
        "**NVIDIA cuQuantum**\n",
        "- **Purpose:** cuQuantum is a high-performance library specifically designed to accelerate quantum circuit simulations on GPUs. It provides essential tools for simulating large-scale quantum algorithms.\n",
        "- **Core Libraries:** It includes:\n",
        "  - **cuStateVec**: For state vector simulations.\n",
        "  - **cuTensorNet**: For tensor network simulations, crucial for efficiently handling large entangled quantum systems.\n",
        "- **Use Case:** Ideal for simulating quantum algorithms using classical hardware (NVIDIA GPUs) to test, debug, and optimize quantum circuits before deploying on real quantum hardware.\n",
        "\n",
        "**NVIDIA CUDA-Q**\n",
        "- **Purpose:** CUDA-Q is an end-to-end hybrid quantum-classical programming platform designed to develop, compile, and run hybrid algorithms that combine quantum and classical components.\n",
        "- **Core Features:** CUDA-Q integrates:\n",
        "  - **Quantum Kernels:** Enables developers to express quantum operations alongside classical CUDA code.\n",
        "  - **Hybrid Computing Support:** Allows seamless switching between classical GPU computing and quantum computing.\n",
        "- **Use Case:** Tailored for hybrid quantum-classical algorithms such as VQE (Variational Quantum Eigensolver), QAOA (Quantum Approximate Optimization Algorithm), and QML (Quantum Machine Learning).\n",
        "\n",
        "**Relationship**\n",
        "- **Complementary Roles:**\n",
        "  - **cuQuantum** is a specialized library for simulating quantum circuits on GPUs.\n",
        "  - **CUDA-Q** provides a broader framework for developing quantum-classical hybrid algorithms, which can leverage cuQuantum's simulation capabilities for improved performance.\n",
        "- **Integration:** CUDA-Q can integrate with cuQuantum to offload simulation tasks to GPU resources, ensuring fast and efficient quantum state evolution or tensor network calculations.\n",
        "\n",
        "**Analogy**\n",
        "Think of **cuQuantum** as a powerful GPU-accelerated quantum circuit simulator (like a high-performance math library), while **CUDA-Q** is a flexible programming platform that allows you to build complex workflows combining classical and quantum components.\n",
        "\n",
        "In practical terms, if you're designing a quantum algorithm that requires both classical control logic and quantum simulations, **CUDA-Q** would be the high-level framework to write your code, and **cuQuantum** would be the backend engine accelerating those quantum computations."
      ],
      "metadata": {
        "id": "S_V4C-_rviZL"
      }
    },
    {
      "cell_type": "markdown",
      "source": [
        "Here's a small example demonstrating how **NVIDIA CUDA-Q** and **NVIDIA cuQuantum** can be combined to simulate a quantum algorithm efficiently on an NVIDIA GPU. We'll implement a simple **Variational Quantum Eigensolver (VQE)** using `CUDA-Q` for algorithm construction and `cuQuantum` for state vector simulation.\n",
        "\n",
        "**Example: Variational Quantum Eigensolver (VQE) using CUDA-Q and cuQuantum** - We'll compute the ground state energy of a simple Hamiltonian:\n",
        "\n",
        "$$\n",
        "H = Z_0 Z_1 + X_0\n",
        "$$\n",
        "\n",
        "This is a 2-qubit Hamiltonian with Pauli operators.\n",
        "\n"
      ],
      "metadata": {
        "id": "ondr2y_FvujC"
      }
    },
    {
      "cell_type": "code",
      "source": [
        "#mport cudaq\n",
        "#import numpy as np\n",
        "from cudaq import spin\n",
        "\n",
        "# Define the Hamiltonian H = Z_0 Z_1 + X_0\n",
        "hamiltonian = spin.z(0) * spin.z(1) + spin.x(0)\n",
        "\n",
        "# Variational ansatz circuit\n",
        "@cudaq.kernel\n",
        "def ansatz(theta: float):\n",
        "    cudaq.h(0)  # Hadamard gate on qubit 0\n",
        "    cudaq.cx(0, 1)  # CNOT for entanglement\n",
        "    cudaq.ry(theta, 0)  # Rotation gate with variational parameter\n",
        "\n",
        "# Objective function for optimization\n",
        "def vqe_objective(theta):\n",
        "    return cudaq.observe(ansatz, hamiltonian, theta)\n",
        "\n",
        "# cuQuantum integration (using cuQuantum's GPU acceleration for state evolution)\n",
        "cudaq.set_target('nvidia')  # Select NVIDIA GPU as backend (uses cuQuantum)\n",
        "\n",
        "# Optimization routine (using scipy)\n",
        "from scipy.optimize import minimize\n",
        "\n",
        "# Initial guess\n",
        "initial_theta = np.random.uniform(0, 2 * np.pi)\n",
        "\n",
        "# Minimize energy using scipy's optimizer\n",
        "result = minimize(vqe_objective, initial_theta, method='COBYLA')\n",
        "\n",
        "print(f\"Optimal theta: {result.x}\")\n",
        "print(f\"Ground state energy: {result.fun}\")\n"
      ],
      "metadata": {
        "id": "ByY7aZvpvpAE"
      },
      "execution_count": null,
      "outputs": []
    },
    {
      "cell_type": "markdown",
      "source": [
        "**Hamiltonian Definition:**  \n",
        "- The Hamiltonian is defined using CUDA-Q's `spin` operators to represent Pauli matrices.\n",
        "\n",
        "**Quantum Circuit (Ansatz):**  \n",
        "- The `ansatz` is a simple variational circuit with a Hadamard gate, a CNOT gate for entanglement, and an RY gate parameterized by `theta`.\n",
        "\n",
        "**Objective Function (VQE Objective):**  \n",
        "- The energy expectation value of the Hamiltonian is calculated using `cudaq.observe`.\n",
        "\n",
        "**cuQuantum Integration:**  \n",
        "- By setting the target to `'nvidia'` via `cudaq.set_target()`, CUDA-Q utilizes `cuQuantum`'s accelerated simulation engine for efficient state vector simulation.\n",
        "\n",
        "**Optimization Routine:**  \n",
        "- The `scipy` optimizer minimizes the energy to find the optimal variational parameter.\n",
        "\n",
        "**Expected Output**\n",
        "```\n",
        "Optimal theta: [1.57]      # (Close to π/2 or 3π/2 depending on the optimizer path)\n",
        "Ground state energy: -1.0  # (Theoretical minimum for this Hamiltonian)\n",
        "```\n",
        "\n",
        "**Key Takeaways**\n",
        "- **CUDA-Q** is used to construct the variational algorithm and manage the hybrid workflow.\n",
        "- **cuQuantum** accelerates the simulation using NVIDIA GPUs for faster results.\n",
        "- The combination is ideal for algorithms like VQE, QAOA, or quantum chemistry simulations."
      ],
      "metadata": {
        "id": "aQKdNkufvsFO"
      }
    }
  ]
}