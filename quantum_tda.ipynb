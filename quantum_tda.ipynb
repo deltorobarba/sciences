{
  "cells": [
    {
      "cell_type": "markdown",
      "metadata": {
        "id": "view-in-github",
        "colab_type": "text"
      },
      "source": [
        "<a href=\"https://colab.research.google.com/github/deltorobarba/sciences/blob/master/quantum_tda.ipynb\" target=\"_parent\"><img src=\"https://colab.research.google.com/assets/colab-badge.svg\" alt=\"Open In Colab\"/></a>"
      ]
    },
    {
      "cell_type": "markdown",
      "source": [
        "# **Topological Data Analysis**"
      ],
      "metadata": {
        "id": "49N3JPMfZcP1"
      }
    },
    {
      "cell_type": "markdown",
      "source": [
        "Calculations in context of paper '*Analyzing Prospects for Quantum Advantage in Topological Data Analysis*' https://journals.aps.org/prxquantum/abstract/10.1103/PRXQuantum.5.010319"
      ],
      "metadata": {
        "id": "2Mv80pfsMvcW"
      }
    },
    {
      "cell_type": "markdown",
      "source": [
        "### *Classical (Financial) TDA*"
      ],
      "metadata": {
        "id": "W6Q6_z49tIyw"
      }
    },
    {
      "cell_type": "code",
      "source": [
        "import networkx as nx\n",
        "import numpy as np\n",
        "import string\n",
        "\n",
        "import matplotlib.pyplot as plt\n",
        "import math\n",
        "import pandas as pd\n",
        "from scipy.special import comb\n",
        "from scipy.spatial.distance import pdist, squareform\n",
        "from scipy.sparse.linalg import eigs\n",
        "\n",
        "from google.colab import files\n",
        "import seaborn as sns"
      ],
      "metadata": {
        "id": "9yxKdk5MGI8F"
      },
      "execution_count": null,
      "outputs": []
    },
    {
      "cell_type": "code",
      "execution_count": null,
      "metadata": {
        "id": "3doaVeRJ2fPl"
      },
      "outputs": [],
      "source": [
        "# Libraries for Topological Data Analysis\n",
        "!pip install -U giotto-tda --q                          # Complete TDA library from Giotto\n",
        "from gtda.time_series import SingleTakensEmbedding      # Create Takens Embedding of Time Series\n",
        "from gtda.plotting import plot_point_cloud              # Plot pointcloud from Takens Embedding in phase space\n",
        "from gtda.diagrams import PersistenceLandscape          # Create persistence landscape from Takens Embedding\n",
        "from gtda.diagrams import BettiCurve                    # Create Betti Curves\n",
        "from gtda.homology import VietorisRipsPersistence       # Create persistence diagrams of the VietorisRips filtration\n",
        "from gtda.homology import EuclideanCechPersistence      # Create persistence diagrams of the Čech filtration\n",
        "from gtda.homology import WeightedRipsPersistence       # Create persistence diagrams of the Weighted (Vietoris–)Rips filtrations\n",
        "from gtda.homology import WeakAlphaPersistence          # Create persistence diagrams of the Weak Alpha filtration\n",
        "from gtda.homology import SparseRipsPersistence         # Create persistence diagrams of the SparseRips filtration\n",
        "from gtda.diagrams import NumberOfPoints                # NumberOfPoints"
      ]
    },
    {
      "cell_type": "code",
      "source": [
        "# implements Equation (54, now 55) in the notes\n",
        "def resource_quantity(r, delta, E, betti, n, k, gap, cliques):\n",
        "  ans = (math.pi * 0.5 * math.sqrt(comb(n, k) / cliques)) + (n * math.log((4 * cliques) / (r * betti)) / gap)\n",
        "  ans *= 3 * E * math.log(1/delta) * math.sqrt(cliques / betti) / r\n",
        "  return ans"
      ],
      "metadata": {
        "id": "aMiZsIxQkqud"
      },
      "execution_count": null,
      "outputs": []
    },
    {
      "cell_type": "code",
      "source": [
        "# Creates graph from the pairwise distance matrix for a given filtration\n",
        "def pairwise_to_graph(pdist_matrix, filtration):\n",
        "  n = pdist_matrix.shape[0]\n",
        "  G = nx.Graph()\n",
        "  for row in range(n):\n",
        "    for column in range(n):\n",
        "      if row < column:\n",
        "        if pdist_matrix[row][column] < filtration:\n",
        "          G.add_edge(row, column)\n",
        "  return G"
      ],
      "metadata": {
        "id": "OGdCbcoakrL8"
      },
      "execution_count": null,
      "outputs": []
    },
    {
      "cell_type": "code",
      "source": [
        "# Calculates gap of a graph Laplacian\n",
        "def get_gap(graph):\n",
        "  laplacian = nx.laplacian_matrix(graph)\n",
        "  laplacian = laplacian.toarray()\n",
        "  eigvals = np.linalg.eigvals(laplacian)\n",
        "  eigvals = np.unique(list(map(lambda x: 0 if x < 0.000000000001 else x, list(eigvals))))\n",
        "  eigvals = np.sort(eigvals)\n",
        "  return eigvals[1] - eigvals[0]"
      ],
      "metadata": {
        "id": "BvhMBMpVktoc"
      },
      "execution_count": null,
      "outputs": []
    },
    {
      "cell_type": "code",
      "source": [
        "# Counts the number of triangles in a graph\n",
        "def number_of_triangles(graph):\n",
        "  triangle_list = nx.triangles(graph).values()\n",
        "  return sum(triangle_list)/3"
      ],
      "metadata": {
        "id": "LQOZrk1oTXiN"
      },
      "execution_count": null,
      "outputs": []
    },
    {
      "cell_type": "code",
      "source": [
        "# Obtains the betti number from a birth-death diagram for a given filtration\n",
        "def get_betti_from_diagram(birth_death_diagram, filtration, order):\n",
        "  ans = 0\n",
        "  for feature in birth_death_diagram[0]:\n",
        "    if feature[0] <= filtration and feature[1] >= filtration and feature[2] == order:\n",
        "      ans +=1\n",
        "  return ans"
      ],
      "metadata": {
        "id": "xFzRamDRTYKN"
      },
      "execution_count": null,
      "outputs": []
    },
    {
      "cell_type": "code",
      "source": [
        "# returns the number of cliques of size size in the graph G\n",
        "def get_number_of_cliques_of_size(G, size):\n",
        "  if size == 3:\n",
        "    return number_of_triangles(G)\n",
        "  elif size == 2:\n",
        "    return G.number_of_edges()\n",
        "  elif size == 1:\n",
        "    return G.number_of_nodes()\n",
        "  else:\n",
        "    print('Have not implemented this order yet.')\n",
        "    return"
      ],
      "metadata": {
        "id": "ggOzJkk_m_QT"
      },
      "execution_count": null,
      "outputs": []
    },
    {
      "cell_type": "code",
      "source": [
        "def get_delta_r_plot(pairwise_distances, diagram, order):\n",
        "  #xs = np.linspace(0.00001, 0.5, num=100)\n",
        "  xs = np.logspace(-5, 0, num=50)\n",
        "  estimates_r = []\n",
        "  estimates_delta = []\n",
        "  r_xs = []\n",
        "  delta_xs = []\n",
        "\n",
        "  filtration = 0.0276\n",
        "\n",
        "  for x in xs:\n",
        "    graph = pairwise_to_graph(pairwise_distances, filtration)\n",
        "    if nx.is_empty(graph):\n",
        "      continue\n",
        "    E = graph.number_of_edges()\n",
        "    n = graph.number_of_nodes()\n",
        "    gap = get_gap(graph)\n",
        "    # print(gap)\n",
        "\n",
        "    cliques = get_number_of_cliques_of_size(graph, order)\n",
        "\n",
        "    betti = get_betti_from_diagram(diagram, filtration, order-1)\n",
        "    if betti == 0:\n",
        "      continue\n",
        "    r_xs.append(x)\n",
        "    estimates_r.append(resource_quantity(x, 0.01, E, betti , n, order, gap, cliques))\n",
        "\n",
        "    delta_xs.append(x)\n",
        "    estimates_delta.append(resource_quantity(0.01, x, E, betti , n, order, gap, cliques))\n",
        "  print(estimates_delta)\n",
        "  fig = plt.figure()\n",
        "  ax_r = fig.add_subplot(121)\n",
        "  ax_r.scatter(r_xs, estimates_r)\n",
        "  ax_r.set_xlabel('r')\n",
        "  ax_r.set_ylabel('number of Toffolis')\n",
        "  ax_r.set_title('dependency on $r$')\n",
        "  ax_r.set_yscale('log')\n",
        "  ax_r.set_xscale('log')\n",
        "\n",
        "  ax_delta = fig.add_subplot(122)\n",
        "  ax_delta.scatter(delta_xs, estimates_delta)\n",
        "  ax_delta.set_xlabel('delta')\n",
        "  ax_delta.set_ylabel('number of Toffolis')\n",
        "  ax_delta.set_title('dependency on $\\delta$')\n",
        "  ax_delta.set_yscale('log')\n",
        "  ax_delta.set_xscale('log')\n",
        "\n",
        "  fig.tight_layout()\n",
        "  plt.savefig(\"r_delta_plots.pdf\", dpi=150)\n",
        "  plt.show()"
      ],
      "metadata": {
        "id": "sUUI0FGrywSR"
      },
      "execution_count": null,
      "outputs": []
    },
    {
      "cell_type": "code",
      "source": [
        "# plots the number of Toffolis versus the filtration for the given orders\n",
        "def get_filtration_plot(pairwise_distances, diagram, orders, r, delta):\n",
        "  longest_time = np.amax(diagram, axis=1)[0][1]\n",
        "  shortest_time = np.amin(diagram, axis=1)[0][0]\n",
        "\n",
        "  filtrations = np.linspace(2*shortest_time, longest_time, 100)\n",
        "  filtrations = np.linspace(0.001, 0.1, 100)\n",
        "\n",
        "  xs = [[] for i in range(len(orders))]\n",
        "  estimates = [[] for i in range(len(orders))]\n",
        "\n",
        "  for filtration in filtrations:\n",
        "    graph = pairwise_to_graph(pairwise_distances, filtration)\n",
        "    if nx.is_empty(graph):\n",
        "      continue\n",
        "    E = graph.number_of_edges()\n",
        "    n = graph.number_of_nodes()\n",
        "    gap = get_gap(graph)\n",
        "    # print(gap)\n",
        "\n",
        "    for ind, order in enumerate(orders):\n",
        "      cliques = get_number_of_cliques_of_size(graph, order)\n",
        "\n",
        "      betti = get_betti_from_diagram(diagram, filtration, order-1)\n",
        "      if betti == 0:\n",
        "        continue\n",
        "      xs[ind].append(filtration)\n",
        "      estimates[ind].append(resource_quantity(r, delta, E, betti , n, order, gap, cliques))\n",
        "\n",
        "  for i in range(len(orders)):\n",
        "    plt.scatter(xs[i], estimates[i], label=f'$k={orders[i]}$')\n",
        "  plt.xlabel('filtration')\n",
        "  plt.ylabel('number of Toffolis')\n",
        "  plt.title('Resource estimates')\n",
        "  plt.legend(loc='upper left')\n",
        "  plt.savefig(\"estimate_vs_filtration.pdf\", dpi=150)\n",
        "  plt.show()"
      ],
      "metadata": {
        "id": "J77pc0OJUSLn"
      },
      "execution_count": null,
      "outputs": []
    },
    {
      "cell_type": "code",
      "source": [
        "# plots the gap of the Laplacian versus the filtration for the given orders\n",
        "def get_gap_plot(pairwise_distances, diagram):\n",
        "  longest_time = np.amax(diagram, axis=1)[0][1]\n",
        "  shortest_time = np.amin(diagram, axis=1)[0][0]\n",
        "\n",
        "  filtrations = np.linspace(2*shortest_time, longest_time, 100)\n",
        "  filtrations = np.linspace(0.001, 0.1, 100)\n",
        "\n",
        "  xs = []\n",
        "  gaps = []\n",
        "\n",
        "  for filtration in filtrations:\n",
        "    graph = pairwise_to_graph(pairwise_distances, filtration)\n",
        "    if nx.is_empty(graph):\n",
        "      continue\n",
        "    xs.append(filtration)\n",
        "    gaps.append(get_gap(graph))\n",
        "\n",
        "  plt.scatter(xs, gaps)\n",
        "  plt.xlabel('filtration')\n",
        "  plt.ylabel('Laplacian gap')\n",
        "  plt.title('Gaps')\n",
        "  plt.savefig(\"gap_plot.pdf\", dpi=150)\n",
        "  plt.show()"
      ],
      "metadata": {
        "id": "hwEQDDtrV6A-"
      },
      "execution_count": null,
      "outputs": []
    },
    {
      "cell_type": "code",
      "source": [
        "# plots the number of Toffolis versus the system size for the given orders\n",
        "def get_size_plot(pairwise_distances_list, diagram_list, orders, r, delta, filtration):\n",
        "  assert len(pairwise_distances_list) == len(diagram_list), 'Diagram and pairwise distance lists have different sizes'\n",
        "\n",
        "  xs = [[] for i in range(len(orders))]\n",
        "  estimates = [[] for i in range(len(orders))]\n",
        "\n",
        "  for i in range(len(diagram_list)):\n",
        "      graph = pairwise_to_graph(pairwise_distances_list[i], filtration)\n",
        "      if nx.is_empty(graph):\n",
        "        continue\n",
        "      print('not empty')\n",
        "      E = graph.number_of_edges()\n",
        "      n = graph.number_of_nodes()\n",
        "      gap = get_gap(graph)\n",
        "\n",
        "      for ind, order in enumerate(orders):\n",
        "        cliques = get_number_of_cliques_of_size(graph, order)\n",
        "\n",
        "        betti = get_betti_from_diagram(diagram_list[i], filtration, order-1)\n",
        "        if betti == 0:\n",
        "          continue\n",
        "        print('not zero')\n",
        "        xs[ind].append(n)\n",
        "        estimates[ind].append(resource_quantity(r, delta, E, betti, n, order, gap, cliques))\n",
        "  print(xs)\n",
        "  print(estimates)\n",
        "  for i in range(len(orders)):\n",
        "    plt.scatter(xs[i], estimates[i], label=f'$k={orders[i]}$')\n",
        "  plt.xlabel('n')\n",
        "  plt.ylabel('number of Toffolis')\n",
        "  plt.title('Resource estimates')\n",
        "  plt.legend(loc='upper left')\n",
        "  plt.show()"
      ],
      "metadata": {
        "id": "BVs1Q_8gWyzH"
      },
      "execution_count": null,
      "outputs": []
    },
    {
      "cell_type": "code",
      "source": [
        "# Financial data going through the pipeline\n",
        "# Import raw data and display table content\n",
        "url = 'https://raw.githubusercontent.com/deltorobarba/repo/master/sp500c.csv'\n",
        "data_raw = pd.read_csv(url)\n",
        "\n",
        "# Rename imported time series\n",
        "data = data_raw\n",
        "\n",
        "# Select specific features, and rename features\n",
        "data = data[['Date', 'Open', 'High', 'Low', 'Close']].rename(columns={\"Date\": \"date\", \"Close\": \"price\"})\n",
        "data = data.drop(['Open', 'High', 'Low'], axis=1)\n",
        "\n",
        "# Set date index\n",
        "data = data.set_index('date')\n",
        "\n",
        "# Add Frequency (business days)\n",
        "data.index = pd.to_datetime(data.index, utc=True)\n",
        "data = data.asfreq('B') # B stands for business day, so that weekends and bank holiday as non trading day are ignored\n",
        "\n",
        "# Remove nan\n",
        "data = data.dropna()\n",
        "\n",
        "data_original = data # We will need this later to differentiate between preprocessed and original data\n",
        "\n",
        "# Log Return\n",
        "data = np.log(data/data.shift(1)).dropna()\n",
        "\n",
        "# data = (data-data.mean())/data.std()            # Mean Normalization\n",
        "data = (data-data.min())/(data.max()-data.min())  # Min Max Normalization\n",
        "data = data.dropna()                              # remove nan value\n",
        "#data.plot(title='S&P500: Logreturn & MinMax Normalized')\n",
        "\n",
        "# Choose original or preprocessed data\n",
        "series = data                                   # Choose \"data\" for logreturned series, or \"data_original\" for unprocessed series\n",
        "\n",
        "series = series['2010-01-01':'2015-01-01']\n",
        "series"
      ],
      "metadata": {
        "colab": {
          "base_uri": "https://localhost:8080/",
          "height": 673
        },
        "id": "yp0ZmNryXzTK",
        "outputId": "bbfd0b2e-dca1-49bf-a969-1aa3b52d7d49"
      },
      "execution_count": null,
      "outputs": [
        {
          "output_type": "execute_result",
          "data": {
            "text/plain": [
              "                              price\n",
              "date                               \n",
              "2010-01-04 00:00:00+00:00  0.605201\n",
              "2010-01-05 00:00:00+00:00  0.551221\n",
              "2010-01-06 00:00:00+00:00  0.540407\n",
              "2010-01-07 00:00:00+00:00  0.554941\n",
              "2010-01-08 00:00:00+00:00  0.550238\n",
              "...                             ...\n",
              "2014-12-24 00:00:00+00:00  0.537521\n",
              "2014-12-26 00:00:00+00:00  0.552036\n",
              "2014-12-29 00:00:00+00:00  0.541739\n",
              "2014-12-30 00:00:00+00:00  0.517450\n",
              "2014-12-31 00:00:00+00:00  0.494418\n",
              "\n",
              "[1258 rows x 1 columns]"
            ],
            "text/html": [
              "\n",
              "  <div id=\"df-714f6c8b-f2d4-491d-8317-2db219675719\">\n",
              "    <div class=\"colab-df-container\">\n",
              "      <div>\n",
              "<style scoped>\n",
              "    .dataframe tbody tr th:only-of-type {\n",
              "        vertical-align: middle;\n",
              "    }\n",
              "\n",
              "    .dataframe tbody tr th {\n",
              "        vertical-align: top;\n",
              "    }\n",
              "\n",
              "    .dataframe thead th {\n",
              "        text-align: right;\n",
              "    }\n",
              "</style>\n",
              "<table border=\"1\" class=\"dataframe\">\n",
              "  <thead>\n",
              "    <tr style=\"text-align: right;\">\n",
              "      <th></th>\n",
              "      <th>price</th>\n",
              "    </tr>\n",
              "    <tr>\n",
              "      <th>date</th>\n",
              "      <th></th>\n",
              "    </tr>\n",
              "  </thead>\n",
              "  <tbody>\n",
              "    <tr>\n",
              "      <th>2010-01-04 00:00:00+00:00</th>\n",
              "      <td>0.605201</td>\n",
              "    </tr>\n",
              "    <tr>\n",
              "      <th>2010-01-05 00:00:00+00:00</th>\n",
              "      <td>0.551221</td>\n",
              "    </tr>\n",
              "    <tr>\n",
              "      <th>2010-01-06 00:00:00+00:00</th>\n",
              "      <td>0.540407</td>\n",
              "    </tr>\n",
              "    <tr>\n",
              "      <th>2010-01-07 00:00:00+00:00</th>\n",
              "      <td>0.554941</td>\n",
              "    </tr>\n",
              "    <tr>\n",
              "      <th>2010-01-08 00:00:00+00:00</th>\n",
              "      <td>0.550238</td>\n",
              "    </tr>\n",
              "    <tr>\n",
              "      <th>...</th>\n",
              "      <td>...</td>\n",
              "    </tr>\n",
              "    <tr>\n",
              "      <th>2014-12-24 00:00:00+00:00</th>\n",
              "      <td>0.537521</td>\n",
              "    </tr>\n",
              "    <tr>\n",
              "      <th>2014-12-26 00:00:00+00:00</th>\n",
              "      <td>0.552036</td>\n",
              "    </tr>\n",
              "    <tr>\n",
              "      <th>2014-12-29 00:00:00+00:00</th>\n",
              "      <td>0.541739</td>\n",
              "    </tr>\n",
              "    <tr>\n",
              "      <th>2014-12-30 00:00:00+00:00</th>\n",
              "      <td>0.517450</td>\n",
              "    </tr>\n",
              "    <tr>\n",
              "      <th>2014-12-31 00:00:00+00:00</th>\n",
              "      <td>0.494418</td>\n",
              "    </tr>\n",
              "  </tbody>\n",
              "</table>\n",
              "<p>1258 rows × 1 columns</p>\n",
              "</div>\n",
              "      <button class=\"colab-df-convert\" onclick=\"convertToInteractive('df-714f6c8b-f2d4-491d-8317-2db219675719')\"\n",
              "              title=\"Convert this dataframe to an interactive table.\"\n",
              "              style=\"display:none;\">\n",
              "        \n",
              "  <svg xmlns=\"http://www.w3.org/2000/svg\" height=\"24px\"viewBox=\"0 0 24 24\"\n",
              "       width=\"24px\">\n",
              "    <path d=\"M0 0h24v24H0V0z\" fill=\"none\"/>\n",
              "    <path d=\"M18.56 5.44l.94 2.06.94-2.06 2.06-.94-2.06-.94-.94-2.06-.94 2.06-2.06.94zm-11 1L8.5 8.5l.94-2.06 2.06-.94-2.06-.94L8.5 2.5l-.94 2.06-2.06.94zm10 10l.94 2.06.94-2.06 2.06-.94-2.06-.94-.94-2.06-.94 2.06-2.06.94z\"/><path d=\"M17.41 7.96l-1.37-1.37c-.4-.4-.92-.59-1.43-.59-.52 0-1.04.2-1.43.59L10.3 9.45l-7.72 7.72c-.78.78-.78 2.05 0 2.83L4 21.41c.39.39.9.59 1.41.59.51 0 1.02-.2 1.41-.59l7.78-7.78 2.81-2.81c.8-.78.8-2.07 0-2.86zM5.41 20L4 18.59l7.72-7.72 1.47 1.35L5.41 20z\"/>\n",
              "  </svg>\n",
              "      </button>\n",
              "      \n",
              "  <style>\n",
              "    .colab-df-container {\n",
              "      display:flex;\n",
              "      flex-wrap:wrap;\n",
              "      gap: 12px;\n",
              "    }\n",
              "\n",
              "    .colab-df-convert {\n",
              "      background-color: #E8F0FE;\n",
              "      border: none;\n",
              "      border-radius: 50%;\n",
              "      cursor: pointer;\n",
              "      display: none;\n",
              "      fill: #1967D2;\n",
              "      height: 32px;\n",
              "      padding: 0 0 0 0;\n",
              "      width: 32px;\n",
              "    }\n",
              "\n",
              "    .colab-df-convert:hover {\n",
              "      background-color: #E2EBFA;\n",
              "      box-shadow: 0px 1px 2px rgba(60, 64, 67, 0.3), 0px 1px 3px 1px rgba(60, 64, 67, 0.15);\n",
              "      fill: #174EA6;\n",
              "    }\n",
              "\n",
              "    [theme=dark] .colab-df-convert {\n",
              "      background-color: #3B4455;\n",
              "      fill: #D2E3FC;\n",
              "    }\n",
              "\n",
              "    [theme=dark] .colab-df-convert:hover {\n",
              "      background-color: #434B5C;\n",
              "      box-shadow: 0px 1px 3px 1px rgba(0, 0, 0, 0.15);\n",
              "      filter: drop-shadow(0px 1px 2px rgba(0, 0, 0, 0.3));\n",
              "      fill: #FFFFFF;\n",
              "    }\n",
              "  </style>\n",
              "\n",
              "      <script>\n",
              "        const buttonEl =\n",
              "          document.querySelector('#df-714f6c8b-f2d4-491d-8317-2db219675719 button.colab-df-convert');\n",
              "        buttonEl.style.display =\n",
              "          google.colab.kernel.accessAllowed ? 'block' : 'none';\n",
              "\n",
              "        async function convertToInteractive(key) {\n",
              "          const element = document.querySelector('#df-714f6c8b-f2d4-491d-8317-2db219675719');\n",
              "          const dataTable =\n",
              "            await google.colab.kernel.invokeFunction('convertToInteractive',\n",
              "                                                     [key], {});\n",
              "          if (!dataTable) return;\n",
              "\n",
              "          const docLinkHtml = 'Like what you see? Visit the ' +\n",
              "            '<a target=\"_blank\" href=https://colab.research.google.com/notebooks/data_table.ipynb>data table notebook</a>'\n",
              "            + ' to learn more about interactive tables.';\n",
              "          element.innerHTML = '';\n",
              "          dataTable['output_type'] = 'display_data';\n",
              "          await google.colab.output.renderOutput(dataTable, element);\n",
              "          const docLink = document.createElement('div');\n",
              "          docLink.innerHTML = docLinkHtml;\n",
              "          element.appendChild(docLink);\n",
              "        }\n",
              "      </script>\n",
              "    </div>\n",
              "  </div>\n",
              "  "
            ]
          },
          "metadata": {},
          "execution_count": 12
        }
      ]
    },
    {
      "cell_type": "code",
      "source": [
        "#sns.set(rc={'figure.figsize':(8, 8), \"lines.linewidth\": 1.0})\n",
        "\n",
        "plot = series.plot(title='S&P 500 from 2010-2015', legend=False)\n",
        "fig = plot.get_figure()\n",
        "#fig.savefig(\"s_and_p_after_preprocessing.pdf\", dpi=300)\n",
        "#files.download(\"s_and_p_after_preprocessing.pdf\")"
      ],
      "metadata": {
        "colab": {
          "base_uri": "https://localhost:8080/",
          "height": 54
        },
        "id": "trEjxkJMso-8",
        "outputId": "0c8b05a5-dd05-406b-c8a2-9376607c819c"
      },
      "execution_count": null,
      "outputs": [
        {
          "output_type": "display_data",
          "data": {
            "text/plain": [
              "<Figure size 432x288 with 1 Axes>"
            ],
            "image/png": "[encoded data removed]"
          },
          "metadata": {
            "needs_background": "light"
          }
        }
      ]
    },
    {
      "cell_type": "code",
      "source": [
        "# TDA Output + Resource Estimation according to equation #55\n",
        "# generates pairwise distances and birth-death diagram from series data\n",
        "def process_data(series):\n",
        "  # Hyperparameter for Takens Time Delay Embedding\n",
        "  embedding_dimension = 3                         # Upper bound for optimal embedding dimension d determined by false nearest neighbours\n",
        "  embedding_time_delay = 3                        # Upper bound for optimal time delay Tau determined by mutual information or ACF\n",
        "  parameters_type = \"search\"                      # Get optimal value for embedding_dimension & embedding_time_delay. Otherwise: \"fixed\"\n",
        "  stride = 8                                      # Increase stride to reduce amount of data\n",
        "  n_jobs=-1                                       # Maximum number of jobs to use for the computation\n",
        "\n",
        "  # Hyperparameter for Persistence Diagrams\n",
        "  # filtration = VietorisRipsPersistence          # Choose the filtration method - we do that below separately\n",
        "  homology_dimensions = [0, 1, 2, 3]                 # Persistence Diagrams with 0-connected components, 1-loops, 2-voids, and higher orders\n",
        "  reduced_homology=True\n",
        "\n",
        "  # Takens Embedding\n",
        "  embedder = SingleTakensEmbedding(\n",
        "      parameters_type=parameters_type,\n",
        "      n_jobs=n_jobs,\n",
        "      time_delay=embedding_time_delay,\n",
        "      dimension=embedding_dimension,\n",
        "      stride=stride,\n",
        "  )\n",
        "\n",
        "  y_embedded = embedder.fit_transform(series.price)\n",
        "  #print('Optimal time delay based on mutual information:', embedder.time_delay_)\n",
        "  #print('Optimal embedding dimension based on false nearest neighbors:', embedder.dimension_)\n",
        "  #print(f\"Shape of embedded time series: {y_embedded.shape}\")\n",
        "\n",
        "  pairwise_distances = squareform(pdist(y_embedded, metric='euclidean'))\n",
        "\n",
        "  # plot_point_cloud(y_embedded)\n",
        "\n",
        "  # Postprocessing embedding to transform matrix for filtration process\n",
        "  y_embedded = y_embedded[None, :, :]\n",
        "\n",
        "  # Filtration method for computing the persistence diagram\n",
        "  filtration = VietorisRipsPersistence\n",
        "\n",
        "  # Create Persistence Diagrams from Takens Time Delay Embedding\n",
        "  persistence = filtration(\n",
        "      homology_dimensions=homology_dimensions, n_jobs=6, reduced_homology=reduced_homology)\n",
        "  print(\"Persistence Diagram\")\n",
        "  diagram = persistence.fit_transform_plot(y_embedded)\n",
        "\n",
        "  return pairwise_distances, diagram"
      ],
      "metadata": {
        "id": "nW49ULvLT4E1"
      },
      "execution_count": null,
      "outputs": []
    },
    {
      "cell_type": "markdown",
      "source": [
        "**Get Filtration Plot**"
      ],
      "metadata": {
        "id": "CeyrcWNus_ad"
      }
    },
    {
      "cell_type": "code",
      "source": [
        "pairwise_distances, diagram = process_data(series)\n",
        "get_filtration_plot(pairwise_distances, diagram, [1, 2, 3], 0.0001, 0.0001)"
      ],
      "metadata": {
        "colab": {
          "base_uri": "https://localhost:8080/",
          "height": 899
        },
        "id": "Oa2oTpJtW56t",
        "outputId": "cdea67f0-ab1e-4d92-ac17-73f5bc806b72"
      },
      "execution_count": null,
      "outputs": [
        {
          "output_type": "stream",
          "name": "stdout",
          "text": [
            "Persistence Diagram\n"
          ]
        },
        {
          "output_type": "display_data",
          "data": {
            "text/html": [
              "<html>\n",
              "<head><meta charset=\"utf-8\" /></head>\n",
              "<body>\n",
              "    <div>            <script src=\"https://cdnjs.cloudflare.com/ajax/libs/mathjax/2.7.5/MathJax.js?config=TeX-AMS-MML_SVG\"></script><script type=\"text/javascript\">if (window.MathJax) {MathJax.Hub.Config({SVG: {font: \"STIX-Web\"}});}</script>                <script type=\"text/javascript\">window.PlotlyConfig = {MathJaxConfig: 'local'};</script>\n",
              "        <script src=\"https://cdn.plot.ly/plotly-2.8.3.min.js\"></script>                <div id=\"4bf1d8bc-0494-4ec7-a46b-b96deebef032\" class=\"plotly-graph-div\" style=\"height:500px; width:500px;\"></div>            <script type=\"text/javascript\">                                    window.PLOTLYENV=window.PLOTLYENV || {};                                    if (document.getElementById(\"4bf1d8bc-0494-4ec7-a46b-b96deebef032\")) {                    Plotly.newPlot(                        \"4bf1d8bc-0494-4ec7-a46b-b96deebef032\",                        [{\"hoverinfo\":\"none\",\"line\":{\"color\":\"black\",\"dash\":\"dash\",\"width\":1},\"mode\":\"lines\",\"showlegend\":false,\"x\":[-0.0022437000274658204,0.11442870140075684],\"y\":[-0.0022437000274658204,0.11442870140075684],\"type\":\"scatter\"},{\"hoverinfo\":\"text\",\"hovertext\":[\"(0.0, 0.0027478996198624372)\",\"(0.0, 0.003405887633562088)\",\"(0.0, 0.003928119316697121)\",\"(0.0, 0.004203462973237038)\",\"(0.0, 0.004414428491145372)\",\"(0.0, 0.004772484768182039)\",\"(0.0, 0.004857008345425129)\",\"(0.0, 0.005187381524592638)\",\"(0.0, 0.005223847925662994)\",\"(0.0, 0.0053965556435287)\",\"(0.0, 0.0055458261631429195)\",\"(0.0, 0.0058021279983222485)\",\"(0.0, 0.00613512983545661)\",\"(0.0, 0.006341438740491867)\",\"(0.0, 0.006377825513482094)\",\"(0.0, 0.0065246522426605225)\",\"(0.0, 0.00673782778903842)\",\"(0.0, 0.007129976060241461)\",\"(0.0, 0.007237784564495087)\",\"(0.0, 0.007386464625597)\",\"(0.0, 0.007389823440462351)\",\"(0.0, 0.007488783448934555)\",\"(0.0, 0.007585448678582907)\",\"(0.0, 0.007653765380382538)\",\"(0.0, 0.008082907646894455)\",\"(0.0, 0.008238855749368668)\",\"(0.0, 0.008500097319483757)\",\"(0.0, 0.008666718378663063)\",\"(0.0, 0.00869276374578476)\",\"(0.0, 0.008798709139227867)\",\"(0.0, 0.008913387544453144)\",\"(0.0, 0.009303433820605278)\",\"(0.0, 0.009325503371655941)\",\"(0.0, 0.009498635306954384)\",\"(0.0, 0.009598854929208755)\",\"(0.0, 0.009636388160288334)\",\"(0.0, 0.009641017764806747)\",\"(0.0, 0.00967840664088726)\",\"(0.0, 0.009700382128357887)\",\"(0.0, 0.009871171787381172)\",\"(0.0, 0.010121418163180351)\",\"(0.0, 0.010128523223102093)\",\"(0.0, 0.010193749330937862)\",\"(0.0, 0.010213444009423256)\",\"(0.0, 0.010334457270801067)\",\"(0.0, 0.010768131352961063)\",\"(0.0, 0.010985445231199265)\",\"(0.0, 0.011372909881174564)\",\"(0.0, 0.011408447287976742)\",\"(0.0, 0.0114299850538373)\",\"(0.0, 0.011660000309348106)\",\"(0.0, 0.011843891814351082)\",\"(0.0, 0.011881827376782894)\",\"(0.0, 0.012108894065022469)\",\"(0.0, 0.012261112220585346)\",\"(0.0, 0.012262394651770592)\",\"(0.0, 0.01229342445731163)\",\"(0.0, 0.012588596902787685)\",\"(0.0, 0.01303185522556305)\",\"(0.0, 0.013159208931028843)\",\"(0.0, 0.01325664296746254)\",\"(0.0, 0.013290942646563053)\",\"(0.0, 0.01331019215285778)\",\"(0.0, 0.013368883170187473)\",\"(0.0, 0.013394263572990894)\",\"(0.0, 0.013511928729712963)\",\"(0.0, 0.013552271761000156)\",\"(0.0, 0.013601033017039299)\",\"(0.0, 0.013649199157953262)\",\"(0.0, 0.01380197424441576)\",\"(0.0, 0.014354877173900604)\",\"(0.0, 0.014456725679337978)\",\"(0.0, 0.014838065020740032)\",\"(0.0, 0.015272576361894608)\",\"(0.0, 0.015298381447792053)\",\"(0.0, 0.015510502271354198)\",\"(0.0, 0.01581820845603943)\",\"(0.0, 0.01591320149600506)\",\"(0.0, 0.01597289927303791)\",\"(0.0, 0.01629520207643509)\",\"(0.0, 0.016350945457816124)\",\"(0.0, 0.016415361315011978)\",\"(0.0, 0.016510864719748497)\",\"(0.0, 0.01655551977455616)\",\"(0.0, 0.01663103885948658)\",\"(0.0, 0.016696816310286522)\",\"(0.0, 0.016829123720526695)\",\"(0.0, 0.0168607197701931)\",\"(0.0, 0.0174738597124815)\",\"(0.0, 0.017671359702944756)\",\"(0.0, 0.017683083191514015)\",\"(0.0, 0.017774589359760284)\",\"(0.0, 0.017828093841671944)\",\"(0.0, 0.017870470881462097)\",\"(0.0, 0.018043000251054764)\",\"(0.0, 0.018255382776260376)\",\"(0.0, 0.018385840579867363)\",\"(0.0, 0.01910199597477913)\",\"(0.0, 0.019222509115934372)\",\"(0.0, 0.019340643659234047)\",\"(0.0, 0.01937929354608059)\",\"(0.0, 0.019676201045513153)\",\"(0.0, 0.019758591428399086)\",\"(0.0, 0.019963325932621956)\",\"(0.0, 0.019994651898741722)\",\"(0.0, 0.020258046686649323)\",\"(0.0, 0.020403675734996796)\",\"(0.0, 0.020441895350813866)\",\"(0.0, 0.02090579830110073)\",\"(0.0, 0.02109830267727375)\",\"(0.0, 0.021951496601104736)\",\"(0.0, 0.02207174524664879)\",\"(0.0, 0.022650795057415962)\",\"(0.0, 0.022970207035541534)\",\"(0.0, 0.023104097694158554)\",\"(0.0, 0.02333347499370575)\",\"(0.0, 0.023590892553329468)\",\"(0.0, 0.023799989372491837)\",\"(0.0, 0.023962244391441345)\",\"(0.0, 0.024064457044005394)\",\"(0.0, 0.02437516860663891)\",\"(0.0, 0.02440073899924755)\",\"(0.0, 0.02483162097632885)\",\"(0.0, 0.02549082599580288)\",\"(0.0, 0.026092393323779106)\",\"(0.0, 0.02613048069179058)\",\"(0.0, 0.026224792003631592)\",\"(0.0, 0.02658797986805439)\",\"(0.0, 0.02788577228784561)\",\"(0.0, 0.02791706845164299)\",\"(0.0, 0.029486052691936493)\",\"(0.0, 0.02982133999466896)\",\"(0.0, 0.03003178909420967)\",\"(0.0, 0.03188344091176987)\",\"(0.0, 0.032460156828165054)\",\"(0.0, 0.035439763218164444)\",\"(0.0, 0.036585208028554916)\",\"(0.0, 0.038296107202768326)\",\"(0.0, 0.03839462623000145)\",\"(0.0, 0.03850589320063591)\",\"(0.0, 0.039815954864025116)\",\"(0.0, 0.041085708886384964)\",\"(0.0, 0.041125573217868805)\",\"(0.0, 0.05342615395784378)\",\"(0.0, 0.05560481548309326)\",\"(0.0, 0.05797867476940155)\",\"(0.0, 0.06150209903717041)\",\"(0.0, 0.06536171585321426)\",\"(0.0, 0.06980772316455841)\",\"(0.0, 0.07142414897680283)\",\"(0.0, 0.07256782799959183)\",\"(0.0, 0.07795506715774536)\",\"(0.0, 0.07885126024484634)\",\"(0.0, 0.07984005659818649)\",\"(0.0, 0.08489236980676651)\",\"(0.0, 0.09983251988887787)\"],\"mode\":\"markers\",\"name\":\"H0\",\"x\":[0.0,0.0,0.0,0.0,0.0,0.0,0.0,0.0,0.0,0.0,0.0,0.0,0.0,0.0,0.0,0.0,0.0,0.0,0.0,0.0,0.0,0.0,0.0,0.0,0.0,0.0,0.0,0.0,0.0,0.0,0.0,0.0,0.0,0.0,0.0,0.0,0.0,0.0,0.0,0.0,0.0,0.0,0.0,0.0,0.0,0.0,0.0,0.0,0.0,0.0,0.0,0.0,0.0,0.0,0.0,0.0,0.0,0.0,0.0,0.0,0.0,0.0,0.0,0.0,0.0,0.0,0.0,0.0,0.0,0.0,0.0,0.0,0.0,0.0,0.0,0.0,0.0,0.0,0.0,0.0,0.0,0.0,0.0,0.0,0.0,0.0,0.0,0.0,0.0,0.0,0.0,0.0,0.0,0.0,0.0,0.0,0.0,0.0,0.0,0.0,0.0,0.0,0.0,0.0,0.0,0.0,0.0,0.0,0.0,0.0,0.0,0.0,0.0,0.0,0.0,0.0,0.0,0.0,0.0,0.0,0.0,0.0,0.0,0.0,0.0,0.0,0.0,0.0,0.0,0.0,0.0,0.0,0.0,0.0,0.0,0.0,0.0,0.0,0.0,0.0,0.0,0.0,0.0,0.0,0.0,0.0,0.0,0.0,0.0,0.0,0.0,0.0,0.0,0.0,0.0,0.0],\"y\":[0.0027478996198624372,0.003405887633562088,0.003928119316697121,0.004203462973237038,0.004414428491145372,0.004772484768182039,0.004857008345425129,0.005187381524592638,0.005223847925662994,0.0053965556435287,0.0055458261631429195,0.0058021279983222485,0.00613512983545661,0.006341438740491867,0.006377825513482094,0.0065246522426605225,0.00673782778903842,0.007129976060241461,0.007237784564495087,0.007386464625597,0.007389823440462351,0.007488783448934555,0.007585448678582907,0.007653765380382538,0.008082907646894455,0.008238855749368668,0.008500097319483757,0.008666718378663063,0.00869276374578476,0.008798709139227867,0.008913387544453144,0.009303433820605278,0.009325503371655941,0.009498635306954384,0.009598854929208755,0.009636388160288334,0.009641017764806747,0.00967840664088726,0.009700382128357887,0.009871171787381172,0.010121418163180351,0.010128523223102093,0.010193749330937862,0.010213444009423256,0.010334457270801067,0.010768131352961063,0.010985445231199265,0.011372909881174564,0.011408447287976742,0.0114299850538373,0.011660000309348106,0.011843891814351082,0.011881827376782894,0.012108894065022469,0.012261112220585346,0.012262394651770592,0.01229342445731163,0.012588596902787685,0.01303185522556305,0.013159208931028843,0.01325664296746254,0.013290942646563053,0.01331019215285778,0.013368883170187473,0.013394263572990894,0.013511928729712963,0.013552271761000156,0.013601033017039299,0.013649199157953262,0.01380197424441576,0.014354877173900604,0.014456725679337978,0.014838065020740032,0.015272576361894608,0.015298381447792053,0.015510502271354198,0.01581820845603943,0.01591320149600506,0.01597289927303791,0.01629520207643509,0.016350945457816124,0.016415361315011978,0.016510864719748497,0.01655551977455616,0.01663103885948658,0.016696816310286522,0.016829123720526695,0.0168607197701931,0.0174738597124815,0.017671359702944756,0.017683083191514015,0.017774589359760284,0.017828093841671944,0.017870470881462097,0.018043000251054764,0.018255382776260376,0.018385840579867363,0.01910199597477913,0.019222509115934372,0.019340643659234047,0.01937929354608059,0.019676201045513153,0.019758591428399086,0.019963325932621956,0.019994651898741722,0.020258046686649323,0.020403675734996796,0.020441895350813866,0.02090579830110073,0.02109830267727375,0.021951496601104736,0.02207174524664879,0.022650795057415962,0.022970207035541534,0.023104097694158554,0.02333347499370575,0.023590892553329468,0.023799989372491837,0.023962244391441345,0.024064457044005394,0.02437516860663891,0.02440073899924755,0.02483162097632885,0.02549082599580288,0.026092393323779106,0.02613048069179058,0.026224792003631592,0.02658797986805439,0.02788577228784561,0.02791706845164299,0.029486052691936493,0.02982133999466896,0.03003178909420967,0.03188344091176987,0.032460156828165054,0.035439763218164444,0.036585208028554916,0.038296107202768326,0.03839462623000145,0.03850589320063591,0.039815954864025116,0.041085708886384964,0.041125573217868805,0.05342615395784378,0.05560481548309326,0.05797867476940155,0.06150209903717041,0.06536171585321426,0.06980772316455841,0.07142414897680283,0.07256782799959183,0.07795506715774536,0.07885126024484634,0.07984005659818649,0.08489236980676651,0.09983251988887787],\"type\":\"scatter\"},{\"hoverinfo\":\"text\",\"hovertext\":[\"(0.0909590944647789, 0.11218500137329102)\",\"(0.08360297232866287, 0.08555745333433151)\",\"(0.07653070986270905, 0.07900433987379074)\",\"(0.06960698217153549, 0.06984148919582367)\",\"(0.05990806967020035, 0.06532223522663116)\",\"(0.059626225382089615, 0.05988432466983795)\",\"(0.053055331110954285, 0.053718265146017075)\",\"(0.048146557062864304, 0.04869251325726509)\",\"(0.04759057238698006, 0.0484851710498333)\",\"(0.04713830351829529, 0.05047561228275299)\",\"(0.04533827304840088, 0.04901602491736412)\",\"(0.043293073773384094, 0.05088590830564499)\",\"(0.04016471281647682, 0.043136563152074814)\",\"(0.03732076287269592, 0.038807664066553116)\",\"(0.03697947785258293, 0.03940677270293236)\",\"(0.03554529696702957, 0.03565230965614319)\",\"(0.035446178168058395, 0.04684334620833397)\",\"(0.03368581086397171, 0.03642243891954422)\",\"(0.033030442893505096, 0.0427626334130764)\",\"(0.029150357469916344, 0.031095556914806366)\",\"(0.02742135338485241, 0.02767126075923443)\",\"(0.027085065841674805, 0.028602896258234978)\",\"(0.0265443604439497, 0.026879072189331055)\",\"(0.025488128885626793, 0.029243621975183487)\",\"(0.025427795946598053, 0.027023864910006523)\",\"(0.025302689522504807, 0.029654616490006447)\",\"(0.02476918324828148, 0.033838797360658646)\",\"(0.02377494052052498, 0.024229109287261963)\",\"(0.02336389385163784, 0.025083281099796295)\",\"(0.022659823298454285, 0.02295246161520481)\",\"(0.022563425824046135, 0.03207536041736603)\",\"(0.022550836205482483, 0.02418755553662777)\",\"(0.022424111142754555, 0.03293510898947716)\",\"(0.02176089398562908, 0.024289511144161224)\",\"(0.021486394107341766, 0.022455723956227303)\",\"(0.020555470138788223, 0.021078750491142273)\",\"(0.02040019817650318, 0.0207617599517107)\",\"(0.020349113270640373, 0.022863196209073067)\",\"(0.02030954696238041, 0.02213604375720024)\",\"(0.019478190690279007, 0.023916197940707207)\",\"(0.019322238862514496, 0.024436337873339653)\",\"(0.01921307109296322, 0.022818807512521744)\",\"(0.018351014703512192, 0.018650026991963387)\",\"(0.015034591779112816, 0.02048570103943348)\",\"(0.014726461842656136, 0.014948340132832527)\",\"(0.014229104854166508, 0.018915941938757896)\",\"(0.013298841193318367, 0.015473614446818829)\",\"(0.013205892406404018, 0.019288603216409683)\",\"(0.012534722685813904, 0.017522752285003662)\",\"(0.01236443966627121, 0.013564939610660076)\",\"(0.011682316660881042, 0.01203653123229742)\",\"(0.010835512541234493, 0.015292959287762642)\"],\"mode\":\"markers\",\"name\":\"H1\",\"x\":[0.0909590944647789,0.08360297232866287,0.07653070986270905,0.06960698217153549,0.05990806967020035,0.059626225382089615,0.053055331110954285,0.048146557062864304,0.04759057238698006,0.04713830351829529,0.04533827304840088,0.043293073773384094,0.04016471281647682,0.03732076287269592,0.03697947785258293,0.03554529696702957,0.035446178168058395,0.03368581086397171,0.033030442893505096,0.029150357469916344,0.02742135338485241,0.027085065841674805,0.0265443604439497,0.025488128885626793,0.025427795946598053,0.025302689522504807,0.02476918324828148,0.02377494052052498,0.02336389385163784,0.022659823298454285,0.022563425824046135,0.022550836205482483,0.022424111142754555,0.02176089398562908,0.021486394107341766,0.020555470138788223,0.02040019817650318,0.020349113270640373,0.02030954696238041,0.019478190690279007,0.019322238862514496,0.01921307109296322,0.018351014703512192,0.015034591779112816,0.014726461842656136,0.014229104854166508,0.013298841193318367,0.013205892406404018,0.012534722685813904,0.01236443966627121,0.011682316660881042,0.010835512541234493],\"y\":[0.11218500137329102,0.08555745333433151,0.07900433987379074,0.06984148919582367,0.06532223522663116,0.05988432466983795,0.053718265146017075,0.04869251325726509,0.0484851710498333,0.05047561228275299,0.04901602491736412,0.05088590830564499,0.043136563152074814,0.038807664066553116,0.03940677270293236,0.03565230965614319,0.04684334620833397,0.03642243891954422,0.0427626334130764,0.031095556914806366,0.02767126075923443,0.028602896258234978,0.026879072189331055,0.029243621975183487,0.027023864910006523,0.029654616490006447,0.033838797360658646,0.024229109287261963,0.025083281099796295,0.02295246161520481,0.03207536041736603,0.02418755553662777,0.03293510898947716,0.024289511144161224,0.022455723956227303,0.021078750491142273,0.0207617599517107,0.022863196209073067,0.02213604375720024,0.023916197940707207,0.024436337873339653,0.022818807512521744,0.018650026991963387,0.02048570103943348,0.014948340132832527,0.018915941938757896,0.015473614446818829,0.019288603216409683,0.017522752285003662,0.013564939610660076,0.01203653123229742,0.015292959287762642],\"type\":\"scatter\"},{\"hoverinfo\":\"text\",\"hovertext\":[\"(0.05104316771030426, 0.05594494566321373)\",\"(0.040086112916469574, 0.04302525147795677)\",\"(0.03795038163661957, 0.0394727848470211)\",\"(0.03321565315127373, 0.03516324236989021)\",\"(0.027511950582265854, 0.028630303218960762)\",\"(0.022818807512521744, 0.022886892780661583)\",\"(0.019688349217176437, 0.02000434696674347)\",\"(0.019254421815276146, 0.021646497771143913)\"],\"mode\":\"markers\",\"name\":\"H2\",\"x\":[0.05104316771030426,0.040086112916469574,0.03795038163661957,0.03321565315127373,0.027511950582265854,0.022818807512521744,0.019688349217176437,0.019254421815276146],\"y\":[0.05594494566321373,0.04302525147795677,0.0394727848470211,0.03516324236989021,0.028630303218960762,0.022886892780661583,0.02000434696674347,0.021646497771143913],\"type\":\"scatter\"},{\"hoverinfo\":\"text\",\"hovertext\":[\"(0.02005070075392723, 0.020560825243592262)\"],\"mode\":\"markers\",\"name\":\"H3\",\"x\":[0.02005070075392723],\"y\":[0.020560825243592262],\"type\":\"scatter\"}],                        {\"template\":{\"data\":{\"bar\":[{\"error_x\":{\"color\":\"#2a3f5f\"},\"error_y\":{\"color\":\"#2a3f5f\"},\"marker\":{\"line\":{\"color\":\"#E5ECF6\",\"width\":0.5},\"pattern\":{\"fillmode\":\"overlay\",\"size\":10,\"solidity\":0.2}},\"type\":\"bar\"}],\"barpolar\":[{\"marker\":{\"line\":{\"color\":\"#E5ECF6\",\"width\":0.5},\"pattern\":{\"fillmode\":\"overlay\",\"size\":10,\"solidity\":0.2}},\"type\":\"barpolar\"}],\"carpet\":[{\"aaxis\":{\"endlinecolor\":\"#2a3f5f\",\"gridcolor\":\"white\",\"linecolor\":\"white\",\"minorgridcolor\":\"white\",\"startlinecolor\":\"#2a3f5f\"},\"baxis\":{\"endlinecolor\":\"#2a3f5f\",\"gridcolor\":\"white\",\"linecolor\":\"white\",\"minorgridcolor\":\"white\",\"startlinecolor\":\"#2a3f5f\"},\"type\":\"carpet\"}],\"choropleth\":[{\"colorbar\":{\"outlinewidth\":0,\"ticks\":\"\"},\"type\":\"choropleth\"}],\"contour\":[{\"colorbar\":{\"outlinewidth\":0,\"ticks\":\"\"},\"colorscale\":[[0.0,\"#0d0887\"],[0.1111111111111111,\"#46039f\"],[0.2222222222222222,\"#7201a8\"],[0.3333333333333333,\"#9c179e\"],[0.4444444444444444,\"#bd3786\"],[0.5555555555555556,\"#d8576b\"],[0.6666666666666666,\"#ed7953\"],[0.7777777777777778,\"#fb9f3a\"],[0.8888888888888888,\"#fdca26\"],[1.0,\"#f0f921\"]],\"type\":\"contour\"}],\"contourcarpet\":[{\"colorbar\":{\"outlinewidth\":0,\"ticks\":\"\"},\"type\":\"contourcarpet\"}],\"heatmap\":[{\"colorbar\":{\"outlinewidth\":0,\"ticks\":\"\"},\"colorscale\":[[0.0,\"#0d0887\"],[0.1111111111111111,\"#46039f\"],[0.2222222222222222,\"#7201a8\"],[0.3333333333333333,\"#9c179e\"],[0.4444444444444444,\"#bd3786\"],[0.5555555555555556,\"#d8576b\"],[0.6666666666666666,\"#ed7953\"],[0.7777777777777778,\"#fb9f3a\"],[0.8888888888888888,\"#fdca26\"],[1.0,\"#f0f921\"]],\"type\":\"heatmap\"}],\"heatmapgl\":[{\"colorbar\":{\"outlinewidth\":0,\"ticks\":\"\"},\"colorscale\":[[0.0,\"#0d0887\"],[0.1111111111111111,\"#46039f\"],[0.2222222222222222,\"#7201a8\"],[0.3333333333333333,\"#9c179e\"],[0.4444444444444444,\"#bd3786\"],[0.5555555555555556,\"#d8576b\"],[0.6666666666666666,\"#ed7953\"],[0.7777777777777778,\"#fb9f3a\"],[0.8888888888888888,\"#fdca26\"],[1.0,\"#f0f921\"]],\"type\":\"heatmapgl\"}],\"histogram\":[{\"marker\":{\"pattern\":{\"fillmode\":\"overlay\",\"size\":10,\"solidity\":0.2}},\"type\":\"histogram\"}],\"histogram2d\":[{\"colorbar\":{\"outlinewidth\":0,\"ticks\":\"\"},\"colorscale\":[[0.0,\"#0d0887\"],[0.1111111111111111,\"#46039f\"],[0.2222222222222222,\"#7201a8\"],[0.3333333333333333,\"#9c179e\"],[0.4444444444444444,\"#bd3786\"],[0.5555555555555556,\"#d8576b\"],[0.6666666666666666,\"#ed7953\"],[0.7777777777777778,\"#fb9f3a\"],[0.8888888888888888,\"#fdca26\"],[1.0,\"#f0f921\"]],\"type\":\"histogram2d\"}],\"histogram2dcontour\":[{\"colorbar\":{\"outlinewidth\":0,\"ticks\":\"\"},\"colorscale\":[[0.0,\"#0d0887\"],[0.1111111111111111,\"#46039f\"],[0.2222222222222222,\"#7201a8\"],[0.3333333333333333,\"#9c179e\"],[0.4444444444444444,\"#bd3786\"],[0.5555555555555556,\"#d8576b\"],[0.6666666666666666,\"#ed7953\"],[0.7777777777777778,\"#fb9f3a\"],[0.8888888888888888,\"#fdca26\"],[1.0,\"#f0f921\"]],\"type\":\"histogram2dcontour\"}],\"mesh3d\":[{\"colorbar\":{\"outlinewidth\":0,\"ticks\":\"\"},\"type\":\"mesh3d\"}],\"parcoords\":[{\"line\":{\"colorbar\":{\"outlinewidth\":0,\"ticks\":\"\"}},\"type\":\"parcoords\"}],\"pie\":[{\"automargin\":true,\"type\":\"pie\"}],\"scatter\":[{\"marker\":{\"colorbar\":{\"outlinewidth\":0,\"ticks\":\"\"}},\"type\":\"scatter\"}],\"scatter3d\":[{\"line\":{\"colorbar\":{\"outlinewidth\":0,\"ticks\":\"\"}},\"marker\":{\"colorbar\":{\"outlinewidth\":0,\"ticks\":\"\"}},\"type\":\"scatter3d\"}],\"scattercarpet\":[{\"marker\":{\"colorbar\":{\"outlinewidth\":0,\"ticks\":\"\"}},\"type\":\"scattercarpet\"}],\"scattergeo\":[{\"marker\":{\"colorbar\":{\"outlinewidth\":0,\"ticks\":\"\"}},\"type\":\"scattergeo\"}],\"scattergl\":[{\"marker\":{\"colorbar\":{\"outlinewidth\":0,\"ticks\":\"\"}},\"type\":\"scattergl\"}],\"scattermapbox\":[{\"marker\":{\"colorbar\":{\"outlinewidth\":0,\"ticks\":\"\"}},\"type\":\"scattermapbox\"}],\"scatterpolar\":[{\"marker\":{\"colorbar\":{\"outlinewidth\":0,\"ticks\":\"\"}},\"type\":\"scatterpolar\"}],\"scatterpolargl\":[{\"marker\":{\"colorbar\":{\"outlinewidth\":0,\"ticks\":\"\"}},\"type\":\"scatterpolargl\"}],\"scatterternary\":[{\"marker\":{\"colorbar\":{\"outlinewidth\":0,\"ticks\":\"\"}},\"type\":\"scatterternary\"}],\"surface\":[{\"colorbar\":{\"outlinewidth\":0,\"ticks\":\"\"},\"colorscale\":[[0.0,\"#0d0887\"],[0.1111111111111111,\"#46039f\"],[0.2222222222222222,\"#7201a8\"],[0.3333333333333333,\"#9c179e\"],[0.4444444444444444,\"#bd3786\"],[0.5555555555555556,\"#d8576b\"],[0.6666666666666666,\"#ed7953\"],[0.7777777777777778,\"#fb9f3a\"],[0.8888888888888888,\"#fdca26\"],[1.0,\"#f0f921\"]],\"type\":\"surface\"}],\"table\":[{\"cells\":{\"fill\":{\"color\":\"#EBF0F8\"},\"line\":{\"color\":\"white\"}},\"header\":{\"fill\":{\"color\":\"#C8D4E3\"},\"line\":{\"color\":\"white\"}},\"type\":\"table\"}]},\"layout\":{\"annotationdefaults\":{\"arrowcolor\":\"#2a3f5f\",\"arrowhead\":0,\"arrowwidth\":1},\"autotypenumbers\":\"strict\",\"coloraxis\":{\"colorbar\":{\"outlinewidth\":0,\"ticks\":\"\"}},\"colorscale\":{\"diverging\":[[0,\"#8e0152\"],[0.1,\"#c51b7d\"],[0.2,\"#de77ae\"],[0.3,\"#f1b6da\"],[0.4,\"#fde0ef\"],[0.5,\"#f7f7f7\"],[0.6,\"#e6f5d0\"],[0.7,\"#b8e186\"],[0.8,\"#7fbc41\"],[0.9,\"#4d9221\"],[1,\"#276419\"]],\"sequential\":[[0.0,\"#0d0887\"],[0.1111111111111111,\"#46039f\"],[0.2222222222222222,\"#7201a8\"],[0.3333333333333333,\"#9c179e\"],[0.4444444444444444,\"#bd3786\"],[0.5555555555555556,\"#d8576b\"],[0.6666666666666666,\"#ed7953\"],[0.7777777777777778,\"#fb9f3a\"],[0.8888888888888888,\"#fdca26\"],[1.0,\"#f0f921\"]],\"sequentialminus\":[[0.0,\"#0d0887\"],[0.1111111111111111,\"#46039f\"],[0.2222222222222222,\"#7201a8\"],[0.3333333333333333,\"#9c179e\"],[0.4444444444444444,\"#bd3786\"],[0.5555555555555556,\"#d8576b\"],[0.6666666666666666,\"#ed7953\"],[0.7777777777777778,\"#fb9f3a\"],[0.8888888888888888,\"#fdca26\"],[1.0,\"#f0f921\"]]},\"colorway\":[\"#636efa\",\"#EF553B\",\"#00cc96\",\"#ab63fa\",\"#FFA15A\",\"#19d3f3\",\"#FF6692\",\"#B6E880\",\"#FF97FF\",\"#FECB52\"],\"font\":{\"color\":\"#2a3f5f\"},\"geo\":{\"bgcolor\":\"white\",\"lakecolor\":\"white\",\"landcolor\":\"#E5ECF6\",\"showlakes\":true,\"showland\":true,\"subunitcolor\":\"white\"},\"hoverlabel\":{\"align\":\"left\"},\"hovermode\":\"closest\",\"mapbox\":{\"style\":\"light\"},\"paper_bgcolor\":\"white\",\"plot_bgcolor\":\"#E5ECF6\",\"polar\":{\"angularaxis\":{\"gridcolor\":\"white\",\"linecolor\":\"white\",\"ticks\":\"\"},\"bgcolor\":\"#E5ECF6\",\"radialaxis\":{\"gridcolor\":\"white\",\"linecolor\":\"white\",\"ticks\":\"\"}},\"scene\":{\"xaxis\":{\"backgroundcolor\":\"#E5ECF6\",\"gridcolor\":\"white\",\"gridwidth\":2,\"linecolor\":\"white\",\"showbackground\":true,\"ticks\":\"\",\"zerolinecolor\":\"white\"},\"yaxis\":{\"backgroundcolor\":\"#E5ECF6\",\"gridcolor\":\"white\",\"gridwidth\":2,\"linecolor\":\"white\",\"showbackground\":true,\"ticks\":\"\",\"zerolinecolor\":\"white\"},\"zaxis\":{\"backgroundcolor\":\"#E5ECF6\",\"gridcolor\":\"white\",\"gridwidth\":2,\"linecolor\":\"white\",\"showbackground\":true,\"ticks\":\"\",\"zerolinecolor\":\"white\"}},\"shapedefaults\":{\"line\":{\"color\":\"#2a3f5f\"}},\"ternary\":{\"aaxis\":{\"gridcolor\":\"white\",\"linecolor\":\"white\",\"ticks\":\"\"},\"baxis\":{\"gridcolor\":\"white\",\"linecolor\":\"white\",\"ticks\":\"\"},\"bgcolor\":\"#E5ECF6\",\"caxis\":{\"gridcolor\":\"white\",\"linecolor\":\"white\",\"ticks\":\"\"}},\"title\":{\"x\":0.05},\"xaxis\":{\"automargin\":true,\"gridcolor\":\"white\",\"linecolor\":\"white\",\"ticks\":\"\",\"title\":{\"standoff\":15},\"zerolinecolor\":\"white\",\"zerolinewidth\":2},\"yaxis\":{\"automargin\":true,\"gridcolor\":\"white\",\"linecolor\":\"white\",\"ticks\":\"\",\"title\":{\"standoff\":15},\"zerolinecolor\":\"white\",\"zerolinewidth\":2}}},\"xaxis\":{\"title\":{\"text\":\"Birth\"},\"side\":\"bottom\",\"type\":\"linear\",\"range\":[-0.0022437000274658204,0.11442870140075684],\"autorange\":false,\"ticks\":\"outside\",\"showline\":true,\"zeroline\":true,\"linewidth\":1,\"linecolor\":\"black\",\"mirror\":false,\"showexponent\":\"all\",\"exponentformat\":\"e\"},\"yaxis\":{\"title\":{\"text\":\"Death\"},\"side\":\"left\",\"type\":\"linear\",\"range\":[-0.0022437000274658204,0.11442870140075684],\"autorange\":false,\"scaleanchor\":\"x\",\"scaleratio\":1,\"ticks\":\"outside\",\"showline\":true,\"zeroline\":true,\"linewidth\":1,\"linecolor\":\"black\",\"mirror\":false,\"showexponent\":\"all\",\"exponentformat\":\"e\"},\"width\":500,\"height\":500,\"plot_bgcolor\":\"white\"},                        {\"responsive\": true}                    ).then(function(){\n",
              "                            \n",
              "var gd = document.getElementById('4bf1d8bc-0494-4ec7-a46b-b96deebef032');\n",
              "var x = new MutationObserver(function (mutations, observer) {{\n",
              "        var display = window.getComputedStyle(gd).display;\n",
              "        if (!display || display === 'none') {{\n",
              "            console.log([gd, 'removed!']);\n",
              "            Plotly.purge(gd);\n",
              "            observer.disconnect();\n",
              "        }}\n",
              "}});\n",
              "\n",
              "// Listen for the removal of the full notebook cells\n",
              "var notebookContainer = gd.closest('#notebook-container');\n",
              "if (notebookContainer) {{\n",
              "    x.observe(notebookContainer, {childList: true});\n",
              "}}\n",
              "\n",
              "// Listen for the clearing of the current output cell\n",
              "var outputEl = gd.closest('.output');\n",
              "if (outputEl) {{\n",
              "    x.observe(outputEl, {childList: true});\n",
              "}}\n",
              "\n",
              "                        })                };                            </script>        </div>\n",
              "</body>\n",
              "</html>"
            ]
          },
          "metadata": {}
        },
        {
          "output_type": "stream",
          "name": "stderr",
          "text": [
            "/usr/local/lib/python3.7/dist-packages/matplotlib/collections.py:153: ComplexWarning:\n",
            "\n",
            "Casting complex values to real discards the imaginary part\n",
            "\n"
          ]
        },
        {
          "output_type": "display_data",
          "data": {
            "text/plain": [
              "<Figure size 432x288 with 1 Axes>"
            ],
            "image/png": "[encoded data removed]"
          },
          "metadata": {
            "needs_background": "light"
          }
        }
      ]
    },
    {
      "cell_type": "markdown",
      "source": [
        "**Get Delta R Plot**"
      ],
      "metadata": {
        "id": "jOm2FVmvtDRC"
      }
    },
    {
      "cell_type": "code",
      "source": [
        "pairwise_distances, diagram = process_data(series)\n",
        "get_delta_r_plot(pairwise_distances, diagram, 3)"
      ],
      "metadata": {
        "colab": {
          "base_uri": "https://localhost:8080/",
          "height": 917
        },
        "id": "rnuQqeGFuJvp",
        "outputId": "eec81491-c1df-4a72-c1f0-970be604b6b6"
      },
      "execution_count": null,
      "outputs": [
        {
          "output_type": "stream",
          "name": "stdout",
          "text": [
            "Persistence Diagram\n"
          ]
        },
        {
          "output_type": "display_data",
          "data": {
            "text/html": [
              "<html>\n",
              "<head><meta charset=\"utf-8\" /></head>\n",
              "<body>\n",
              "    <div>            <script src=\"https://cdnjs.cloudflare.com/ajax/libs/mathjax/2.7.5/MathJax.js?config=TeX-AMS-MML_SVG\"></script><script type=\"text/javascript\">if (window.MathJax) {MathJax.Hub.Config({SVG: {font: \"STIX-Web\"}});}</script>                <script type=\"text/javascript\">window.PlotlyConfig = {MathJaxConfig: 'local'};</script>\n",
              "        <script src=\"https://cdn.plot.ly/plotly-2.8.3.min.js\"></script>                <div id=\"57246f18-c2e5-4bb4-8ce5-ae6f6f0050f3\" class=\"plotly-graph-div\" style=\"height:500px; width:500px;\"></div>            <script type=\"text/javascript\">                                    window.PLOTLYENV=window.PLOTLYENV || {};                                    if (document.getElementById(\"57246f18-c2e5-4bb4-8ce5-ae6f6f0050f3\")) {                    Plotly.newPlot(                        \"57246f18-c2e5-4bb4-8ce5-ae6f6f0050f3\",                        [{\"hoverinfo\":\"none\",\"line\":{\"color\":\"black\",\"dash\":\"dash\",\"width\":1},\"mode\":\"lines\",\"showlegend\":false,\"x\":[-0.0022437000274658204,0.11442870140075684],\"y\":[-0.0022437000274658204,0.11442870140075684],\"type\":\"scatter\"},{\"hoverinfo\":\"text\",\"hovertext\":[\"(0.0, 0.0027478996198624372)\",\"(0.0, 0.003405887633562088)\",\"(0.0, 0.003928119316697121)\",\"(0.0, 0.004203462973237038)\",\"(0.0, 0.004414428491145372)\",\"(0.0, 0.004772484768182039)\",\"(0.0, 0.004857008345425129)\",\"(0.0, 0.005187381524592638)\",\"(0.0, 0.005223847925662994)\",\"(0.0, 0.0053965556435287)\",\"(0.0, 0.0055458261631429195)\",\"(0.0, 0.0058021279983222485)\",\"(0.0, 0.00613512983545661)\",\"(0.0, 0.006341438740491867)\",\"(0.0, 0.006377825513482094)\",\"(0.0, 0.0065246522426605225)\",\"(0.0, 0.00673782778903842)\",\"(0.0, 0.007129976060241461)\",\"(0.0, 0.007237784564495087)\",\"(0.0, 0.007386464625597)\",\"(0.0, 0.007389823440462351)\",\"(0.0, 0.007488783448934555)\",\"(0.0, 0.007585448678582907)\",\"(0.0, 0.007653765380382538)\",\"(0.0, 0.008082907646894455)\",\"(0.0, 0.008238855749368668)\",\"(0.0, 0.008500097319483757)\",\"(0.0, 0.008666718378663063)\",\"(0.0, 0.00869276374578476)\",\"(0.0, 0.008798709139227867)\",\"(0.0, 0.008913387544453144)\",\"(0.0, 0.009303433820605278)\",\"(0.0, 0.009325503371655941)\",\"(0.0, 0.009498635306954384)\",\"(0.0, 0.009598854929208755)\",\"(0.0, 0.009636388160288334)\",\"(0.0, 0.009641017764806747)\",\"(0.0, 0.00967840664088726)\",\"(0.0, 0.009700382128357887)\",\"(0.0, 0.009871171787381172)\",\"(0.0, 0.010121418163180351)\",\"(0.0, 0.010128523223102093)\",\"(0.0, 0.010193749330937862)\",\"(0.0, 0.010213444009423256)\",\"(0.0, 0.010334457270801067)\",\"(0.0, 0.010768131352961063)\",\"(0.0, 0.010985445231199265)\",\"(0.0, 0.011372909881174564)\",\"(0.0, 0.011408447287976742)\",\"(0.0, 0.0114299850538373)\",\"(0.0, 0.011660000309348106)\",\"(0.0, 0.011843891814351082)\",\"(0.0, 0.011881827376782894)\",\"(0.0, 0.012108894065022469)\",\"(0.0, 0.012261112220585346)\",\"(0.0, 0.012262394651770592)\",\"(0.0, 0.01229342445731163)\",\"(0.0, 0.012588596902787685)\",\"(0.0, 0.01303185522556305)\",\"(0.0, 0.013159208931028843)\",\"(0.0, 0.01325664296746254)\",\"(0.0, 0.013290942646563053)\",\"(0.0, 0.01331019215285778)\",\"(0.0, 0.013368883170187473)\",\"(0.0, 0.013394263572990894)\",\"(0.0, 0.013511928729712963)\",\"(0.0, 0.013552271761000156)\",\"(0.0, 0.013601033017039299)\",\"(0.0, 0.013649199157953262)\",\"(0.0, 0.01380197424441576)\",\"(0.0, 0.014354877173900604)\",\"(0.0, 0.014456725679337978)\",\"(0.0, 0.014838065020740032)\",\"(0.0, 0.015272576361894608)\",\"(0.0, 0.015298381447792053)\",\"(0.0, 0.015510502271354198)\",\"(0.0, 0.01581820845603943)\",\"(0.0, 0.01591320149600506)\",\"(0.0, 0.01597289927303791)\",\"(0.0, 0.01629520207643509)\",\"(0.0, 0.016350945457816124)\",\"(0.0, 0.016415361315011978)\",\"(0.0, 0.016510864719748497)\",\"(0.0, 0.01655551977455616)\",\"(0.0, 0.01663103885948658)\",\"(0.0, 0.016696816310286522)\",\"(0.0, 0.016829123720526695)\",\"(0.0, 0.0168607197701931)\",\"(0.0, 0.0174738597124815)\",\"(0.0, 0.017671359702944756)\",\"(0.0, 0.017683083191514015)\",\"(0.0, 0.017774589359760284)\",\"(0.0, 0.017828093841671944)\",\"(0.0, 0.017870470881462097)\",\"(0.0, 0.018043000251054764)\",\"(0.0, 0.018255382776260376)\",\"(0.0, 0.018385840579867363)\",\"(0.0, 0.01910199597477913)\",\"(0.0, 0.019222509115934372)\",\"(0.0, 0.019340643659234047)\",\"(0.0, 0.01937929354608059)\",\"(0.0, 0.019676201045513153)\",\"(0.0, 0.019758591428399086)\",\"(0.0, 0.019963325932621956)\",\"(0.0, 0.019994651898741722)\",\"(0.0, 0.020258046686649323)\",\"(0.0, 0.020403675734996796)\",\"(0.0, 0.020441895350813866)\",\"(0.0, 0.02090579830110073)\",\"(0.0, 0.02109830267727375)\",\"(0.0, 0.021951496601104736)\",\"(0.0, 0.02207174524664879)\",\"(0.0, 0.022650795057415962)\",\"(0.0, 0.022970207035541534)\",\"(0.0, 0.023104097694158554)\",\"(0.0, 0.02333347499370575)\",\"(0.0, 0.023590892553329468)\",\"(0.0, 0.023799989372491837)\",\"(0.0, 0.023962244391441345)\",\"(0.0, 0.024064457044005394)\",\"(0.0, 0.02437516860663891)\",\"(0.0, 0.02440073899924755)\",\"(0.0, 0.02483162097632885)\",\"(0.0, 0.02549082599580288)\",\"(0.0, 0.026092393323779106)\",\"(0.0, 0.02613048069179058)\",\"(0.0, 0.026224792003631592)\",\"(0.0, 0.02658797986805439)\",\"(0.0, 0.02788577228784561)\",\"(0.0, 0.02791706845164299)\",\"(0.0, 0.029486052691936493)\",\"(0.0, 0.02982133999466896)\",\"(0.0, 0.03003178909420967)\",\"(0.0, 0.03188344091176987)\",\"(0.0, 0.032460156828165054)\",\"(0.0, 0.035439763218164444)\",\"(0.0, 0.036585208028554916)\",\"(0.0, 0.038296107202768326)\",\"(0.0, 0.03839462623000145)\",\"(0.0, 0.03850589320063591)\",\"(0.0, 0.039815954864025116)\",\"(0.0, 0.041085708886384964)\",\"(0.0, 0.041125573217868805)\",\"(0.0, 0.05342615395784378)\",\"(0.0, 0.05560481548309326)\",\"(0.0, 0.05797867476940155)\",\"(0.0, 0.06150209903717041)\",\"(0.0, 0.06536171585321426)\",\"(0.0, 0.06980772316455841)\",\"(0.0, 0.07142414897680283)\",\"(0.0, 0.07256782799959183)\",\"(0.0, 0.07795506715774536)\",\"(0.0, 0.07885126024484634)\",\"(0.0, 0.07984005659818649)\",\"(0.0, 0.08489236980676651)\",\"(0.0, 0.09983251988887787)\"],\"mode\":\"markers\",\"name\":\"H0\",\"x\":[0.0,0.0,0.0,0.0,0.0,0.0,0.0,0.0,0.0,0.0,0.0,0.0,0.0,0.0,0.0,0.0,0.0,0.0,0.0,0.0,0.0,0.0,0.0,0.0,0.0,0.0,0.0,0.0,0.0,0.0,0.0,0.0,0.0,0.0,0.0,0.0,0.0,0.0,0.0,0.0,0.0,0.0,0.0,0.0,0.0,0.0,0.0,0.0,0.0,0.0,0.0,0.0,0.0,0.0,0.0,0.0,0.0,0.0,0.0,0.0,0.0,0.0,0.0,0.0,0.0,0.0,0.0,0.0,0.0,0.0,0.0,0.0,0.0,0.0,0.0,0.0,0.0,0.0,0.0,0.0,0.0,0.0,0.0,0.0,0.0,0.0,0.0,0.0,0.0,0.0,0.0,0.0,0.0,0.0,0.0,0.0,0.0,0.0,0.0,0.0,0.0,0.0,0.0,0.0,0.0,0.0,0.0,0.0,0.0,0.0,0.0,0.0,0.0,0.0,0.0,0.0,0.0,0.0,0.0,0.0,0.0,0.0,0.0,0.0,0.0,0.0,0.0,0.0,0.0,0.0,0.0,0.0,0.0,0.0,0.0,0.0,0.0,0.0,0.0,0.0,0.0,0.0,0.0,0.0,0.0,0.0,0.0,0.0,0.0,0.0,0.0,0.0,0.0,0.0,0.0,0.0],\"y\":[0.0027478996198624372,0.003405887633562088,0.003928119316697121,0.004203462973237038,0.004414428491145372,0.004772484768182039,0.004857008345425129,0.005187381524592638,0.005223847925662994,0.0053965556435287,0.0055458261631429195,0.0058021279983222485,0.00613512983545661,0.006341438740491867,0.006377825513482094,0.0065246522426605225,0.00673782778903842,0.007129976060241461,0.007237784564495087,0.007386464625597,0.007389823440462351,0.007488783448934555,0.007585448678582907,0.007653765380382538,0.008082907646894455,0.008238855749368668,0.008500097319483757,0.008666718378663063,0.00869276374578476,0.008798709139227867,0.008913387544453144,0.009303433820605278,0.009325503371655941,0.009498635306954384,0.009598854929208755,0.009636388160288334,0.009641017764806747,0.00967840664088726,0.009700382128357887,0.009871171787381172,0.010121418163180351,0.010128523223102093,0.010193749330937862,0.010213444009423256,0.010334457270801067,0.010768131352961063,0.010985445231199265,0.011372909881174564,0.011408447287976742,0.0114299850538373,0.011660000309348106,0.011843891814351082,0.011881827376782894,0.012108894065022469,0.012261112220585346,0.012262394651770592,0.01229342445731163,0.012588596902787685,0.01303185522556305,0.013159208931028843,0.01325664296746254,0.013290942646563053,0.01331019215285778,0.013368883170187473,0.013394263572990894,0.013511928729712963,0.013552271761000156,0.013601033017039299,0.013649199157953262,0.01380197424441576,0.014354877173900604,0.014456725679337978,0.014838065020740032,0.015272576361894608,0.015298381447792053,0.015510502271354198,0.01581820845603943,0.01591320149600506,0.01597289927303791,0.01629520207643509,0.016350945457816124,0.016415361315011978,0.016510864719748497,0.01655551977455616,0.01663103885948658,0.016696816310286522,0.016829123720526695,0.0168607197701931,0.0174738597124815,0.017671359702944756,0.017683083191514015,0.017774589359760284,0.017828093841671944,0.017870470881462097,0.018043000251054764,0.018255382776260376,0.018385840579867363,0.01910199597477913,0.019222509115934372,0.019340643659234047,0.01937929354608059,0.019676201045513153,0.019758591428399086,0.019963325932621956,0.019994651898741722,0.020258046686649323,0.020403675734996796,0.020441895350813866,0.02090579830110073,0.02109830267727375,0.021951496601104736,0.02207174524664879,0.022650795057415962,0.022970207035541534,0.023104097694158554,0.02333347499370575,0.023590892553329468,0.023799989372491837,0.023962244391441345,0.024064457044005394,0.02437516860663891,0.02440073899924755,0.02483162097632885,0.02549082599580288,0.026092393323779106,0.02613048069179058,0.026224792003631592,0.02658797986805439,0.02788577228784561,0.02791706845164299,0.029486052691936493,0.02982133999466896,0.03003178909420967,0.03188344091176987,0.032460156828165054,0.035439763218164444,0.036585208028554916,0.038296107202768326,0.03839462623000145,0.03850589320063591,0.039815954864025116,0.041085708886384964,0.041125573217868805,0.05342615395784378,0.05560481548309326,0.05797867476940155,0.06150209903717041,0.06536171585321426,0.06980772316455841,0.07142414897680283,0.07256782799959183,0.07795506715774536,0.07885126024484634,0.07984005659818649,0.08489236980676651,0.09983251988887787],\"type\":\"scatter\"},{\"hoverinfo\":\"text\",\"hovertext\":[\"(0.0909590944647789, 0.11218500137329102)\",\"(0.08360297232866287, 0.08555745333433151)\",\"(0.07653070986270905, 0.07900433987379074)\",\"(0.06960698217153549, 0.06984148919582367)\",\"(0.05990806967020035, 0.06532223522663116)\",\"(0.059626225382089615, 0.05988432466983795)\",\"(0.053055331110954285, 0.053718265146017075)\",\"(0.048146557062864304, 0.04869251325726509)\",\"(0.04759057238698006, 0.0484851710498333)\",\"(0.04713830351829529, 0.05047561228275299)\",\"(0.04533827304840088, 0.04901602491736412)\",\"(0.043293073773384094, 0.05088590830564499)\",\"(0.04016471281647682, 0.043136563152074814)\",\"(0.03732076287269592, 0.038807664066553116)\",\"(0.03697947785258293, 0.03940677270293236)\",\"(0.03554529696702957, 0.03565230965614319)\",\"(0.035446178168058395, 0.04684334620833397)\",\"(0.03368581086397171, 0.03642243891954422)\",\"(0.033030442893505096, 0.0427626334130764)\",\"(0.029150357469916344, 0.031095556914806366)\",\"(0.02742135338485241, 0.02767126075923443)\",\"(0.027085065841674805, 0.028602896258234978)\",\"(0.0265443604439497, 0.026879072189331055)\",\"(0.025488128885626793, 0.029243621975183487)\",\"(0.025427795946598053, 0.027023864910006523)\",\"(0.025302689522504807, 0.029654616490006447)\",\"(0.02476918324828148, 0.033838797360658646)\",\"(0.02377494052052498, 0.024229109287261963)\",\"(0.02336389385163784, 0.025083281099796295)\",\"(0.022659823298454285, 0.02295246161520481)\",\"(0.022563425824046135, 0.03207536041736603)\",\"(0.022550836205482483, 0.02418755553662777)\",\"(0.022424111142754555, 0.03293510898947716)\",\"(0.02176089398562908, 0.024289511144161224)\",\"(0.021486394107341766, 0.022455723956227303)\",\"(0.020555470138788223, 0.021078750491142273)\",\"(0.02040019817650318, 0.0207617599517107)\",\"(0.020349113270640373, 0.022863196209073067)\",\"(0.02030954696238041, 0.02213604375720024)\",\"(0.019478190690279007, 0.023916197940707207)\",\"(0.019322238862514496, 0.024436337873339653)\",\"(0.01921307109296322, 0.022818807512521744)\",\"(0.018351014703512192, 0.018650026991963387)\",\"(0.015034591779112816, 0.02048570103943348)\",\"(0.014726461842656136, 0.014948340132832527)\",\"(0.014229104854166508, 0.018915941938757896)\",\"(0.013298841193318367, 0.015473614446818829)\",\"(0.013205892406404018, 0.019288603216409683)\",\"(0.012534722685813904, 0.017522752285003662)\",\"(0.01236443966627121, 0.013564939610660076)\",\"(0.011682316660881042, 0.01203653123229742)\",\"(0.010835512541234493, 0.015292959287762642)\"],\"mode\":\"markers\",\"name\":\"H1\",\"x\":[0.0909590944647789,0.08360297232866287,0.07653070986270905,0.06960698217153549,0.05990806967020035,0.059626225382089615,0.053055331110954285,0.048146557062864304,0.04759057238698006,0.04713830351829529,0.04533827304840088,0.043293073773384094,0.04016471281647682,0.03732076287269592,0.03697947785258293,0.03554529696702957,0.035446178168058395,0.03368581086397171,0.033030442893505096,0.029150357469916344,0.02742135338485241,0.027085065841674805,0.0265443604439497,0.025488128885626793,0.025427795946598053,0.025302689522504807,0.02476918324828148,0.02377494052052498,0.02336389385163784,0.022659823298454285,0.022563425824046135,0.022550836205482483,0.022424111142754555,0.02176089398562908,0.021486394107341766,0.020555470138788223,0.02040019817650318,0.020349113270640373,0.02030954696238041,0.019478190690279007,0.019322238862514496,0.01921307109296322,0.018351014703512192,0.015034591779112816,0.014726461842656136,0.014229104854166508,0.013298841193318367,0.013205892406404018,0.012534722685813904,0.01236443966627121,0.011682316660881042,0.010835512541234493],\"y\":[0.11218500137329102,0.08555745333433151,0.07900433987379074,0.06984148919582367,0.06532223522663116,0.05988432466983795,0.053718265146017075,0.04869251325726509,0.0484851710498333,0.05047561228275299,0.04901602491736412,0.05088590830564499,0.043136563152074814,0.038807664066553116,0.03940677270293236,0.03565230965614319,0.04684334620833397,0.03642243891954422,0.0427626334130764,0.031095556914806366,0.02767126075923443,0.028602896258234978,0.026879072189331055,0.029243621975183487,0.027023864910006523,0.029654616490006447,0.033838797360658646,0.024229109287261963,0.025083281099796295,0.02295246161520481,0.03207536041736603,0.02418755553662777,0.03293510898947716,0.024289511144161224,0.022455723956227303,0.021078750491142273,0.0207617599517107,0.022863196209073067,0.02213604375720024,0.023916197940707207,0.024436337873339653,0.022818807512521744,0.018650026991963387,0.02048570103943348,0.014948340132832527,0.018915941938757896,0.015473614446818829,0.019288603216409683,0.017522752285003662,0.013564939610660076,0.01203653123229742,0.015292959287762642],\"type\":\"scatter\"},{\"hoverinfo\":\"text\",\"hovertext\":[\"(0.05104316771030426, 0.05594494566321373)\",\"(0.040086112916469574, 0.04302525147795677)\",\"(0.03795038163661957, 0.0394727848470211)\",\"(0.03321565315127373, 0.03516324236989021)\",\"(0.027511950582265854, 0.028630303218960762)\",\"(0.022818807512521744, 0.022886892780661583)\",\"(0.019688349217176437, 0.02000434696674347)\",\"(0.019254421815276146, 0.021646497771143913)\"],\"mode\":\"markers\",\"name\":\"H2\",\"x\":[0.05104316771030426,0.040086112916469574,0.03795038163661957,0.03321565315127373,0.027511950582265854,0.022818807512521744,0.019688349217176437,0.019254421815276146],\"y\":[0.05594494566321373,0.04302525147795677,0.0394727848470211,0.03516324236989021,0.028630303218960762,0.022886892780661583,0.02000434696674347,0.021646497771143913],\"type\":\"scatter\"},{\"hoverinfo\":\"text\",\"hovertext\":[\"(0.02005070075392723, 0.020560825243592262)\"],\"mode\":\"markers\",\"name\":\"H3\",\"x\":[0.02005070075392723],\"y\":[0.020560825243592262],\"type\":\"scatter\"}],                        {\"template\":{\"data\":{\"bar\":[{\"error_x\":{\"color\":\"#2a3f5f\"},\"error_y\":{\"color\":\"#2a3f5f\"},\"marker\":{\"line\":{\"color\":\"#E5ECF6\",\"width\":0.5},\"pattern\":{\"fillmode\":\"overlay\",\"size\":10,\"solidity\":0.2}},\"type\":\"bar\"}],\"barpolar\":[{\"marker\":{\"line\":{\"color\":\"#E5ECF6\",\"width\":0.5},\"pattern\":{\"fillmode\":\"overlay\",\"size\":10,\"solidity\":0.2}},\"type\":\"barpolar\"}],\"carpet\":[{\"aaxis\":{\"endlinecolor\":\"#2a3f5f\",\"gridcolor\":\"white\",\"linecolor\":\"white\",\"minorgridcolor\":\"white\",\"startlinecolor\":\"#2a3f5f\"},\"baxis\":{\"endlinecolor\":\"#2a3f5f\",\"gridcolor\":\"white\",\"linecolor\":\"white\",\"minorgridcolor\":\"white\",\"startlinecolor\":\"#2a3f5f\"},\"type\":\"carpet\"}],\"choropleth\":[{\"colorbar\":{\"outlinewidth\":0,\"ticks\":\"\"},\"type\":\"choropleth\"}],\"contour\":[{\"colorbar\":{\"outlinewidth\":0,\"ticks\":\"\"},\"colorscale\":[[0.0,\"#0d0887\"],[0.1111111111111111,\"#46039f\"],[0.2222222222222222,\"#7201a8\"],[0.3333333333333333,\"#9c179e\"],[0.4444444444444444,\"#bd3786\"],[0.5555555555555556,\"#d8576b\"],[0.6666666666666666,\"#ed7953\"],[0.7777777777777778,\"#fb9f3a\"],[0.8888888888888888,\"#fdca26\"],[1.0,\"#f0f921\"]],\"type\":\"contour\"}],\"contourcarpet\":[{\"colorbar\":{\"outlinewidth\":0,\"ticks\":\"\"},\"type\":\"contourcarpet\"}],\"heatmap\":[{\"colorbar\":{\"outlinewidth\":0,\"ticks\":\"\"},\"colorscale\":[[0.0,\"#0d0887\"],[0.1111111111111111,\"#46039f\"],[0.2222222222222222,\"#7201a8\"],[0.3333333333333333,\"#9c179e\"],[0.4444444444444444,\"#bd3786\"],[0.5555555555555556,\"#d8576b\"],[0.6666666666666666,\"#ed7953\"],[0.7777777777777778,\"#fb9f3a\"],[0.8888888888888888,\"#fdca26\"],[1.0,\"#f0f921\"]],\"type\":\"heatmap\"}],\"heatmapgl\":[{\"colorbar\":{\"outlinewidth\":0,\"ticks\":\"\"},\"colorscale\":[[0.0,\"#0d0887\"],[0.1111111111111111,\"#46039f\"],[0.2222222222222222,\"#7201a8\"],[0.3333333333333333,\"#9c179e\"],[0.4444444444444444,\"#bd3786\"],[0.5555555555555556,\"#d8576b\"],[0.6666666666666666,\"#ed7953\"],[0.7777777777777778,\"#fb9f3a\"],[0.8888888888888888,\"#fdca26\"],[1.0,\"#f0f921\"]],\"type\":\"heatmapgl\"}],\"histogram\":[{\"marker\":{\"pattern\":{\"fillmode\":\"overlay\",\"size\":10,\"solidity\":0.2}},\"type\":\"histogram\"}],\"histogram2d\":[{\"colorbar\":{\"outlinewidth\":0,\"ticks\":\"\"},\"colorscale\":[[0.0,\"#0d0887\"],[0.1111111111111111,\"#46039f\"],[0.2222222222222222,\"#7201a8\"],[0.3333333333333333,\"#9c179e\"],[0.4444444444444444,\"#bd3786\"],[0.5555555555555556,\"#d8576b\"],[0.6666666666666666,\"#ed7953\"],[0.7777777777777778,\"#fb9f3a\"],[0.8888888888888888,\"#fdca26\"],[1.0,\"#f0f921\"]],\"type\":\"histogram2d\"}],\"histogram2dcontour\":[{\"colorbar\":{\"outlinewidth\":0,\"ticks\":\"\"},\"colorscale\":[[0.0,\"#0d0887\"],[0.1111111111111111,\"#46039f\"],[0.2222222222222222,\"#7201a8\"],[0.3333333333333333,\"#9c179e\"],[0.4444444444444444,\"#bd3786\"],[0.5555555555555556,\"#d8576b\"],[0.6666666666666666,\"#ed7953\"],[0.7777777777777778,\"#fb9f3a\"],[0.8888888888888888,\"#fdca26\"],[1.0,\"#f0f921\"]],\"type\":\"histogram2dcontour\"}],\"mesh3d\":[{\"colorbar\":{\"outlinewidth\":0,\"ticks\":\"\"},\"type\":\"mesh3d\"}],\"parcoords\":[{\"line\":{\"colorbar\":{\"outlinewidth\":0,\"ticks\":\"\"}},\"type\":\"parcoords\"}],\"pie\":[{\"automargin\":true,\"type\":\"pie\"}],\"scatter\":[{\"marker\":{\"colorbar\":{\"outlinewidth\":0,\"ticks\":\"\"}},\"type\":\"scatter\"}],\"scatter3d\":[{\"line\":{\"colorbar\":{\"outlinewidth\":0,\"ticks\":\"\"}},\"marker\":{\"colorbar\":{\"outlinewidth\":0,\"ticks\":\"\"}},\"type\":\"scatter3d\"}],\"scattercarpet\":[{\"marker\":{\"colorbar\":{\"outlinewidth\":0,\"ticks\":\"\"}},\"type\":\"scattercarpet\"}],\"scattergeo\":[{\"marker\":{\"colorbar\":{\"outlinewidth\":0,\"ticks\":\"\"}},\"type\":\"scattergeo\"}],\"scattergl\":[{\"marker\":{\"colorbar\":{\"outlinewidth\":0,\"ticks\":\"\"}},\"type\":\"scattergl\"}],\"scattermapbox\":[{\"marker\":{\"colorbar\":{\"outlinewidth\":0,\"ticks\":\"\"}},\"type\":\"scattermapbox\"}],\"scatterpolar\":[{\"marker\":{\"colorbar\":{\"outlinewidth\":0,\"ticks\":\"\"}},\"type\":\"scatterpolar\"}],\"scatterpolargl\":[{\"marker\":{\"colorbar\":{\"outlinewidth\":0,\"ticks\":\"\"}},\"type\":\"scatterpolargl\"}],\"scatterternary\":[{\"marker\":{\"colorbar\":{\"outlinewidth\":0,\"ticks\":\"\"}},\"type\":\"scatterternary\"}],\"surface\":[{\"colorbar\":{\"outlinewidth\":0,\"ticks\":\"\"},\"colorscale\":[[0.0,\"#0d0887\"],[0.1111111111111111,\"#46039f\"],[0.2222222222222222,\"#7201a8\"],[0.3333333333333333,\"#9c179e\"],[0.4444444444444444,\"#bd3786\"],[0.5555555555555556,\"#d8576b\"],[0.6666666666666666,\"#ed7953\"],[0.7777777777777778,\"#fb9f3a\"],[0.8888888888888888,\"#fdca26\"],[1.0,\"#f0f921\"]],\"type\":\"surface\"}],\"table\":[{\"cells\":{\"fill\":{\"color\":\"#EBF0F8\"},\"line\":{\"color\":\"white\"}},\"header\":{\"fill\":{\"color\":\"#C8D4E3\"},\"line\":{\"color\":\"white\"}},\"type\":\"table\"}]},\"layout\":{\"annotationdefaults\":{\"arrowcolor\":\"#2a3f5f\",\"arrowhead\":0,\"arrowwidth\":1},\"autotypenumbers\":\"strict\",\"coloraxis\":{\"colorbar\":{\"outlinewidth\":0,\"ticks\":\"\"}},\"colorscale\":{\"diverging\":[[0,\"#8e0152\"],[0.1,\"#c51b7d\"],[0.2,\"#de77ae\"],[0.3,\"#f1b6da\"],[0.4,\"#fde0ef\"],[0.5,\"#f7f7f7\"],[0.6,\"#e6f5d0\"],[0.7,\"#b8e186\"],[0.8,\"#7fbc41\"],[0.9,\"#4d9221\"],[1,\"#276419\"]],\"sequential\":[[0.0,\"#0d0887\"],[0.1111111111111111,\"#46039f\"],[0.2222222222222222,\"#7201a8\"],[0.3333333333333333,\"#9c179e\"],[0.4444444444444444,\"#bd3786\"],[0.5555555555555556,\"#d8576b\"],[0.6666666666666666,\"#ed7953\"],[0.7777777777777778,\"#fb9f3a\"],[0.8888888888888888,\"#fdca26\"],[1.0,\"#f0f921\"]],\"sequentialminus\":[[0.0,\"#0d0887\"],[0.1111111111111111,\"#46039f\"],[0.2222222222222222,\"#7201a8\"],[0.3333333333333333,\"#9c179e\"],[0.4444444444444444,\"#bd3786\"],[0.5555555555555556,\"#d8576b\"],[0.6666666666666666,\"#ed7953\"],[0.7777777777777778,\"#fb9f3a\"],[0.8888888888888888,\"#fdca26\"],[1.0,\"#f0f921\"]]},\"colorway\":[\"#636efa\",\"#EF553B\",\"#00cc96\",\"#ab63fa\",\"#FFA15A\",\"#19d3f3\",\"#FF6692\",\"#B6E880\",\"#FF97FF\",\"#FECB52\"],\"font\":{\"color\":\"#2a3f5f\"},\"geo\":{\"bgcolor\":\"white\",\"lakecolor\":\"white\",\"landcolor\":\"#E5ECF6\",\"showlakes\":true,\"showland\":true,\"subunitcolor\":\"white\"},\"hoverlabel\":{\"align\":\"left\"},\"hovermode\":\"closest\",\"mapbox\":{\"style\":\"light\"},\"paper_bgcolor\":\"white\",\"plot_bgcolor\":\"#E5ECF6\",\"polar\":{\"angularaxis\":{\"gridcolor\":\"white\",\"linecolor\":\"white\",\"ticks\":\"\"},\"bgcolor\":\"#E5ECF6\",\"radialaxis\":{\"gridcolor\":\"white\",\"linecolor\":\"white\",\"ticks\":\"\"}},\"scene\":{\"xaxis\":{\"backgroundcolor\":\"#E5ECF6\",\"gridcolor\":\"white\",\"gridwidth\":2,\"linecolor\":\"white\",\"showbackground\":true,\"ticks\":\"\",\"zerolinecolor\":\"white\"},\"yaxis\":{\"backgroundcolor\":\"#E5ECF6\",\"gridcolor\":\"white\",\"gridwidth\":2,\"linecolor\":\"white\",\"showbackground\":true,\"ticks\":\"\",\"zerolinecolor\":\"white\"},\"zaxis\":{\"backgroundcolor\":\"#E5ECF6\",\"gridcolor\":\"white\",\"gridwidth\":2,\"linecolor\":\"white\",\"showbackground\":true,\"ticks\":\"\",\"zerolinecolor\":\"white\"}},\"shapedefaults\":{\"line\":{\"color\":\"#2a3f5f\"}},\"ternary\":{\"aaxis\":{\"gridcolor\":\"white\",\"linecolor\":\"white\",\"ticks\":\"\"},\"baxis\":{\"gridcolor\":\"white\",\"linecolor\":\"white\",\"ticks\":\"\"},\"bgcolor\":\"#E5ECF6\",\"caxis\":{\"gridcolor\":\"white\",\"linecolor\":\"white\",\"ticks\":\"\"}},\"title\":{\"x\":0.05},\"xaxis\":{\"automargin\":true,\"gridcolor\":\"white\",\"linecolor\":\"white\",\"ticks\":\"\",\"title\":{\"standoff\":15},\"zerolinecolor\":\"white\",\"zerolinewidth\":2},\"yaxis\":{\"automargin\":true,\"gridcolor\":\"white\",\"linecolor\":\"white\",\"ticks\":\"\",\"title\":{\"standoff\":15},\"zerolinecolor\":\"white\",\"zerolinewidth\":2}}},\"xaxis\":{\"title\":{\"text\":\"Birth\"},\"side\":\"bottom\",\"type\":\"linear\",\"range\":[-0.0022437000274658204,0.11442870140075684],\"autorange\":false,\"ticks\":\"outside\",\"showline\":true,\"zeroline\":true,\"linewidth\":1,\"linecolor\":\"black\",\"mirror\":false,\"showexponent\":\"all\",\"exponentformat\":\"e\"},\"yaxis\":{\"title\":{\"text\":\"Death\"},\"side\":\"left\",\"type\":\"linear\",\"range\":[-0.0022437000274658204,0.11442870140075684],\"autorange\":false,\"scaleanchor\":\"x\",\"scaleratio\":1,\"ticks\":\"outside\",\"showline\":true,\"zeroline\":true,\"linewidth\":1,\"linecolor\":\"black\",\"mirror\":false,\"showexponent\":\"all\",\"exponentformat\":\"e\"},\"width\":500,\"height\":500,\"plot_bgcolor\":\"white\"},                        {\"responsive\": true}                    ).then(function(){\n",
              "                            \n",
              "var gd = document.getElementById('57246f18-c2e5-4bb4-8ce5-ae6f6f0050f3');\n",
              "var x = new MutationObserver(function (mutations, observer) {{\n",
              "        var display = window.getComputedStyle(gd).display;\n",
              "        if (!display || display === 'none') {{\n",
              "            console.log([gd, 'removed!']);\n",
              "            Plotly.purge(gd);\n",
              "            observer.disconnect();\n",
              "        }}\n",
              "}});\n",
              "\n",
              "// Listen for the removal of the full notebook cells\n",
              "var notebookContainer = gd.closest('#notebook-container');\n",
              "if (notebookContainer) {{\n",
              "    x.observe(notebookContainer, {childList: true});\n",
              "}}\n",
              "\n",
              "// Listen for the clearing of the current output cell\n",
              "var outputEl = gd.closest('.output');\n",
              "if (outputEl) {{\n",
              "    x.observe(outputEl, {childList: true});\n",
              "}}\n",
              "\n",
              "                        })                };                            </script>        </div>\n",
              "</body>\n",
              "</html>"
            ]
          },
          "metadata": {}
        },
        {
          "output_type": "stream",
          "name": "stdout",
          "text": [
            "[(2289745182356.902+0j), (2243015688839.414+0j), (2196286195321.926+0j), (2149556701804.4385+0j), (2102827208286.9504+0j), (2056097714769.4622+0j), (2009368221251.975+0j), (1962638727734.487+0j), (1915909234216.999+0j), (1869179740699.5115+0j), (1822450247182.0234+0j), (1775720753664.536+0j), (1728991260147.048+0j), (1682261766629.5603+0j), (1635532273112.0723+0j), (1588802779594.5845+0j), (1542073286077.0967+0j), (1495343792559.6091+0j), (1448614299042.121+0j), (1401884805524.6335+0j), (1355155312007.1458+0j), (1308425818489.6582+0j), (1261696324972.1702+0j), (1214966831454.6824+0j), (1168237337937.1946+0j), (1121507844419.707+0j), (1074778350902.2192+0j), (1028048857384.7311+0j), (981319363867.2435+0j), (934589870349.7557+0j), (887860376832.2678+0j), (841130883314.7802+0j), (794401389797.2922+0j), (747671896279.8046+0j), (700942402762.3168+0j), (654212909244.8289+0j), (607483415727.3412+0j), (560753922209.8535+0j), (514024428692.36554+0j), (467294935174.87787+0j), (420565441657.3901+0j), (373835948139.9023+0j), (327106454622.4146+0j), (280376961104.9268+0j), (233647467587.43863+0j), (186917974069.95093+0j), (140188480552.4632+0j), (93458987034.97546+0j), (46729493517.48773+0j), 0j]\n"
          ]
        },
        {
          "output_type": "stream",
          "name": "stderr",
          "text": [
            "/usr/local/lib/python3.7/dist-packages/matplotlib/collections.py:153: ComplexWarning:\n",
            "\n",
            "Casting complex values to real discards the imaginary part\n",
            "\n"
          ]
        },
        {
          "output_type": "display_data",
          "data": {
            "text/plain": [
              "<Figure size 432x288 with 2 Axes>"
            ],
            "image/png": "[encoded data removed]"
          },
          "metadata": {
            "needs_background": "light"
          }
        }
      ]
    },
    {
      "cell_type": "markdown",
      "source": [
        "**Get Gap Plot**"
      ],
      "metadata": {
        "id": "ovlVWXcTtFzV"
      }
    },
    {
      "cell_type": "code",
      "source": [
        "pairwise_distances, diagram = process_data(series)\n",
        "get_gap_plot(pairwise_distances, diagram)"
      ],
      "metadata": {
        "colab": {
          "base_uri": "https://localhost:8080/",
          "height": 899
        },
        "id": "_quR08wx2FEG",
        "outputId": "379744e9-7d21-4d7b-b946-989b95001c5f"
      },
      "execution_count": null,
      "outputs": [
        {
          "output_type": "stream",
          "name": "stdout",
          "text": [
            "Persistence Diagram\n"
          ]
        },
        {
          "output_type": "display_data",
          "data": {
            "text/html": [
              "<html>\n",
              "<head><meta charset=\"utf-8\" /></head>\n",
              "<body>\n",
              "    <div>            <script src=\"https://cdnjs.cloudflare.com/ajax/libs/mathjax/2.7.5/MathJax.js?config=TeX-AMS-MML_SVG\"></script><script type=\"text/javascript\">if (window.MathJax) {MathJax.Hub.Config({SVG: {font: \"STIX-Web\"}});}</script>                <script type=\"text/javascript\">window.PlotlyConfig = {MathJaxConfig: 'local'};</script>\n",
              "        <script src=\"https://cdn.plot.ly/plotly-2.8.3.min.js\"></script>                <div id=\"b47d7b1f-109d-4c52-9b55-fb55773487cb\" class=\"plotly-graph-div\" style=\"height:500px; width:500px;\"></div>            <script type=\"text/javascript\">                                    window.PLOTLYENV=window.PLOTLYENV || {};                                    if (document.getElementById(\"b47d7b1f-109d-4c52-9b55-fb55773487cb\")) {                    Plotly.newPlot(                        \"b47d7b1f-109d-4c52-9b55-fb55773487cb\",                        [{\"hoverinfo\":\"none\",\"line\":{\"color\":\"black\",\"dash\":\"dash\",\"width\":1},\"mode\":\"lines\",\"showlegend\":false,\"x\":[-0.0022437000274658204,0.11442870140075684],\"y\":[-0.0022437000274658204,0.11442870140075684],\"type\":\"scatter\"},{\"hoverinfo\":\"text\",\"hovertext\":[\"(0.0, 0.0027478996198624372)\",\"(0.0, 0.003405887633562088)\",\"(0.0, 0.003928119316697121)\",\"(0.0, 0.004203462973237038)\",\"(0.0, 0.004414428491145372)\",\"(0.0, 0.004772484768182039)\",\"(0.0, 0.004857008345425129)\",\"(0.0, 0.005187381524592638)\",\"(0.0, 0.005223847925662994)\",\"(0.0, 0.0053965556435287)\",\"(0.0, 0.0055458261631429195)\",\"(0.0, 0.0058021279983222485)\",\"(0.0, 0.00613512983545661)\",\"(0.0, 0.006341438740491867)\",\"(0.0, 0.006377825513482094)\",\"(0.0, 0.0065246522426605225)\",\"(0.0, 0.00673782778903842)\",\"(0.0, 0.007129976060241461)\",\"(0.0, 0.007237784564495087)\",\"(0.0, 0.007386464625597)\",\"(0.0, 0.007389823440462351)\",\"(0.0, 0.007488783448934555)\",\"(0.0, 0.007585448678582907)\",\"(0.0, 0.007653765380382538)\",\"(0.0, 0.008082907646894455)\",\"(0.0, 0.008238855749368668)\",\"(0.0, 0.008500097319483757)\",\"(0.0, 0.008666718378663063)\",\"(0.0, 0.00869276374578476)\",\"(0.0, 0.008798709139227867)\",\"(0.0, 0.008913387544453144)\",\"(0.0, 0.009303433820605278)\",\"(0.0, 0.009325503371655941)\",\"(0.0, 0.009498635306954384)\",\"(0.0, 0.009598854929208755)\",\"(0.0, 0.009636388160288334)\",\"(0.0, 0.009641017764806747)\",\"(0.0, 0.00967840664088726)\",\"(0.0, 0.009700382128357887)\",\"(0.0, 0.009871171787381172)\",\"(0.0, 0.010121418163180351)\",\"(0.0, 0.010128523223102093)\",\"(0.0, 0.010193749330937862)\",\"(0.0, 0.010213444009423256)\",\"(0.0, 0.010334457270801067)\",\"(0.0, 0.010768131352961063)\",\"(0.0, 0.010985445231199265)\",\"(0.0, 0.011372909881174564)\",\"(0.0, 0.011408447287976742)\",\"(0.0, 0.0114299850538373)\",\"(0.0, 0.011660000309348106)\",\"(0.0, 0.011843891814351082)\",\"(0.0, 0.011881827376782894)\",\"(0.0, 0.012108894065022469)\",\"(0.0, 0.012261112220585346)\",\"(0.0, 0.012262394651770592)\",\"(0.0, 0.01229342445731163)\",\"(0.0, 0.012588596902787685)\",\"(0.0, 0.01303185522556305)\",\"(0.0, 0.013159208931028843)\",\"(0.0, 0.01325664296746254)\",\"(0.0, 0.013290942646563053)\",\"(0.0, 0.01331019215285778)\",\"(0.0, 0.013368883170187473)\",\"(0.0, 0.013394263572990894)\",\"(0.0, 0.013511928729712963)\",\"(0.0, 0.013552271761000156)\",\"(0.0, 0.013601033017039299)\",\"(0.0, 0.013649199157953262)\",\"(0.0, 0.01380197424441576)\",\"(0.0, 0.014354877173900604)\",\"(0.0, 0.014456725679337978)\",\"(0.0, 0.014838065020740032)\",\"(0.0, 0.015272576361894608)\",\"(0.0, 0.015298381447792053)\",\"(0.0, 0.015510502271354198)\",\"(0.0, 0.01581820845603943)\",\"(0.0, 0.01591320149600506)\",\"(0.0, 0.01597289927303791)\",\"(0.0, 0.01629520207643509)\",\"(0.0, 0.016350945457816124)\",\"(0.0, 0.016415361315011978)\",\"(0.0, 0.016510864719748497)\",\"(0.0, 0.01655551977455616)\",\"(0.0, 0.01663103885948658)\",\"(0.0, 0.016696816310286522)\",\"(0.0, 0.016829123720526695)\",\"(0.0, 0.0168607197701931)\",\"(0.0, 0.0174738597124815)\",\"(0.0, 0.017671359702944756)\",\"(0.0, 0.017683083191514015)\",\"(0.0, 0.017774589359760284)\",\"(0.0, 0.017828093841671944)\",\"(0.0, 0.017870470881462097)\",\"(0.0, 0.018043000251054764)\",\"(0.0, 0.018255382776260376)\",\"(0.0, 0.018385840579867363)\",\"(0.0, 0.01910199597477913)\",\"(0.0, 0.019222509115934372)\",\"(0.0, 0.019340643659234047)\",\"(0.0, 0.01937929354608059)\",\"(0.0, 0.019676201045513153)\",\"(0.0, 0.019758591428399086)\",\"(0.0, 0.019963325932621956)\",\"(0.0, 0.019994651898741722)\",\"(0.0, 0.020258046686649323)\",\"(0.0, 0.020403675734996796)\",\"(0.0, 0.020441895350813866)\",\"(0.0, 0.02090579830110073)\",\"(0.0, 0.02109830267727375)\",\"(0.0, 0.021951496601104736)\",\"(0.0, 0.02207174524664879)\",\"(0.0, 0.022650795057415962)\",\"(0.0, 0.022970207035541534)\",\"(0.0, 0.023104097694158554)\",\"(0.0, 0.02333347499370575)\",\"(0.0, 0.023590892553329468)\",\"(0.0, 0.023799989372491837)\",\"(0.0, 0.023962244391441345)\",\"(0.0, 0.024064457044005394)\",\"(0.0, 0.02437516860663891)\",\"(0.0, 0.02440073899924755)\",\"(0.0, 0.02483162097632885)\",\"(0.0, 0.02549082599580288)\",\"(0.0, 0.026092393323779106)\",\"(0.0, 0.02613048069179058)\",\"(0.0, 0.026224792003631592)\",\"(0.0, 0.02658797986805439)\",\"(0.0, 0.02788577228784561)\",\"(0.0, 0.02791706845164299)\",\"(0.0, 0.029486052691936493)\",\"(0.0, 0.02982133999466896)\",\"(0.0, 0.03003178909420967)\",\"(0.0, 0.03188344091176987)\",\"(0.0, 0.032460156828165054)\",\"(0.0, 0.035439763218164444)\",\"(0.0, 0.036585208028554916)\",\"(0.0, 0.038296107202768326)\",\"(0.0, 0.03839462623000145)\",\"(0.0, 0.03850589320063591)\",\"(0.0, 0.039815954864025116)\",\"(0.0, 0.041085708886384964)\",\"(0.0, 0.041125573217868805)\",\"(0.0, 0.05342615395784378)\",\"(0.0, 0.05560481548309326)\",\"(0.0, 0.05797867476940155)\",\"(0.0, 0.06150209903717041)\",\"(0.0, 0.06536171585321426)\",\"(0.0, 0.06980772316455841)\",\"(0.0, 0.07142414897680283)\",\"(0.0, 0.07256782799959183)\",\"(0.0, 0.07795506715774536)\",\"(0.0, 0.07885126024484634)\",\"(0.0, 0.07984005659818649)\",\"(0.0, 0.08489236980676651)\",\"(0.0, 0.09983251988887787)\"],\"mode\":\"markers\",\"name\":\"H0\",\"x\":[0.0,0.0,0.0,0.0,0.0,0.0,0.0,0.0,0.0,0.0,0.0,0.0,0.0,0.0,0.0,0.0,0.0,0.0,0.0,0.0,0.0,0.0,0.0,0.0,0.0,0.0,0.0,0.0,0.0,0.0,0.0,0.0,0.0,0.0,0.0,0.0,0.0,0.0,0.0,0.0,0.0,0.0,0.0,0.0,0.0,0.0,0.0,0.0,0.0,0.0,0.0,0.0,0.0,0.0,0.0,0.0,0.0,0.0,0.0,0.0,0.0,0.0,0.0,0.0,0.0,0.0,0.0,0.0,0.0,0.0,0.0,0.0,0.0,0.0,0.0,0.0,0.0,0.0,0.0,0.0,0.0,0.0,0.0,0.0,0.0,0.0,0.0,0.0,0.0,0.0,0.0,0.0,0.0,0.0,0.0,0.0,0.0,0.0,0.0,0.0,0.0,0.0,0.0,0.0,0.0,0.0,0.0,0.0,0.0,0.0,0.0,0.0,0.0,0.0,0.0,0.0,0.0,0.0,0.0,0.0,0.0,0.0,0.0,0.0,0.0,0.0,0.0,0.0,0.0,0.0,0.0,0.0,0.0,0.0,0.0,0.0,0.0,0.0,0.0,0.0,0.0,0.0,0.0,0.0,0.0,0.0,0.0,0.0,0.0,0.0,0.0,0.0,0.0,0.0,0.0,0.0],\"y\":[0.0027478996198624372,0.003405887633562088,0.003928119316697121,0.004203462973237038,0.004414428491145372,0.004772484768182039,0.004857008345425129,0.005187381524592638,0.005223847925662994,0.0053965556435287,0.0055458261631429195,0.0058021279983222485,0.00613512983545661,0.006341438740491867,0.006377825513482094,0.0065246522426605225,0.00673782778903842,0.007129976060241461,0.007237784564495087,0.007386464625597,0.007389823440462351,0.007488783448934555,0.007585448678582907,0.007653765380382538,0.008082907646894455,0.008238855749368668,0.008500097319483757,0.008666718378663063,0.00869276374578476,0.008798709139227867,0.008913387544453144,0.009303433820605278,0.009325503371655941,0.009498635306954384,0.009598854929208755,0.009636388160288334,0.009641017764806747,0.00967840664088726,0.009700382128357887,0.009871171787381172,0.010121418163180351,0.010128523223102093,0.010193749330937862,0.010213444009423256,0.010334457270801067,0.010768131352961063,0.010985445231199265,0.011372909881174564,0.011408447287976742,0.0114299850538373,0.011660000309348106,0.011843891814351082,0.011881827376782894,0.012108894065022469,0.012261112220585346,0.012262394651770592,0.01229342445731163,0.012588596902787685,0.01303185522556305,0.013159208931028843,0.01325664296746254,0.013290942646563053,0.01331019215285778,0.013368883170187473,0.013394263572990894,0.013511928729712963,0.013552271761000156,0.013601033017039299,0.013649199157953262,0.01380197424441576,0.014354877173900604,0.014456725679337978,0.014838065020740032,0.015272576361894608,0.015298381447792053,0.015510502271354198,0.01581820845603943,0.01591320149600506,0.01597289927303791,0.01629520207643509,0.016350945457816124,0.016415361315011978,0.016510864719748497,0.01655551977455616,0.01663103885948658,0.016696816310286522,0.016829123720526695,0.0168607197701931,0.0174738597124815,0.017671359702944756,0.017683083191514015,0.017774589359760284,0.017828093841671944,0.017870470881462097,0.018043000251054764,0.018255382776260376,0.018385840579867363,0.01910199597477913,0.019222509115934372,0.019340643659234047,0.01937929354608059,0.019676201045513153,0.019758591428399086,0.019963325932621956,0.019994651898741722,0.020258046686649323,0.020403675734996796,0.020441895350813866,0.02090579830110073,0.02109830267727375,0.021951496601104736,0.02207174524664879,0.022650795057415962,0.022970207035541534,0.023104097694158554,0.02333347499370575,0.023590892553329468,0.023799989372491837,0.023962244391441345,0.024064457044005394,0.02437516860663891,0.02440073899924755,0.02483162097632885,0.02549082599580288,0.026092393323779106,0.02613048069179058,0.026224792003631592,0.02658797986805439,0.02788577228784561,0.02791706845164299,0.029486052691936493,0.02982133999466896,0.03003178909420967,0.03188344091176987,0.032460156828165054,0.035439763218164444,0.036585208028554916,0.038296107202768326,0.03839462623000145,0.03850589320063591,0.039815954864025116,0.041085708886384964,0.041125573217868805,0.05342615395784378,0.05560481548309326,0.05797867476940155,0.06150209903717041,0.06536171585321426,0.06980772316455841,0.07142414897680283,0.07256782799959183,0.07795506715774536,0.07885126024484634,0.07984005659818649,0.08489236980676651,0.09983251988887787],\"type\":\"scatter\"},{\"hoverinfo\":\"text\",\"hovertext\":[\"(0.0909590944647789, 0.11218500137329102)\",\"(0.08360297232866287, 0.08555745333433151)\",\"(0.07653070986270905, 0.07900433987379074)\",\"(0.06960698217153549, 0.06984148919582367)\",\"(0.05990806967020035, 0.06532223522663116)\",\"(0.059626225382089615, 0.05988432466983795)\",\"(0.053055331110954285, 0.053718265146017075)\",\"(0.048146557062864304, 0.04869251325726509)\",\"(0.04759057238698006, 0.0484851710498333)\",\"(0.04713830351829529, 0.05047561228275299)\",\"(0.04533827304840088, 0.04901602491736412)\",\"(0.043293073773384094, 0.05088590830564499)\",\"(0.04016471281647682, 0.043136563152074814)\",\"(0.03732076287269592, 0.038807664066553116)\",\"(0.03697947785258293, 0.03940677270293236)\",\"(0.03554529696702957, 0.03565230965614319)\",\"(0.035446178168058395, 0.04684334620833397)\",\"(0.03368581086397171, 0.03642243891954422)\",\"(0.033030442893505096, 0.0427626334130764)\",\"(0.029150357469916344, 0.031095556914806366)\",\"(0.02742135338485241, 0.02767126075923443)\",\"(0.027085065841674805, 0.028602896258234978)\",\"(0.0265443604439497, 0.026879072189331055)\",\"(0.025488128885626793, 0.029243621975183487)\",\"(0.025427795946598053, 0.027023864910006523)\",\"(0.025302689522504807, 0.029654616490006447)\",\"(0.02476918324828148, 0.033838797360658646)\",\"(0.02377494052052498, 0.024229109287261963)\",\"(0.02336389385163784, 0.025083281099796295)\",\"(0.022659823298454285, 0.02295246161520481)\",\"(0.022563425824046135, 0.03207536041736603)\",\"(0.022550836205482483, 0.02418755553662777)\",\"(0.022424111142754555, 0.03293510898947716)\",\"(0.02176089398562908, 0.024289511144161224)\",\"(0.021486394107341766, 0.022455723956227303)\",\"(0.020555470138788223, 0.021078750491142273)\",\"(0.02040019817650318, 0.0207617599517107)\",\"(0.020349113270640373, 0.022863196209073067)\",\"(0.02030954696238041, 0.02213604375720024)\",\"(0.019478190690279007, 0.023916197940707207)\",\"(0.019322238862514496, 0.024436337873339653)\",\"(0.01921307109296322, 0.022818807512521744)\",\"(0.018351014703512192, 0.018650026991963387)\",\"(0.015034591779112816, 0.02048570103943348)\",\"(0.014726461842656136, 0.014948340132832527)\",\"(0.014229104854166508, 0.018915941938757896)\",\"(0.013298841193318367, 0.015473614446818829)\",\"(0.013205892406404018, 0.019288603216409683)\",\"(0.012534722685813904, 0.017522752285003662)\",\"(0.01236443966627121, 0.013564939610660076)\",\"(0.011682316660881042, 0.01203653123229742)\",\"(0.010835512541234493, 0.015292959287762642)\"],\"mode\":\"markers\",\"name\":\"H1\",\"x\":[0.0909590944647789,0.08360297232866287,0.07653070986270905,0.06960698217153549,0.05990806967020035,0.059626225382089615,0.053055331110954285,0.048146557062864304,0.04759057238698006,0.04713830351829529,0.04533827304840088,0.043293073773384094,0.04016471281647682,0.03732076287269592,0.03697947785258293,0.03554529696702957,0.035446178168058395,0.03368581086397171,0.033030442893505096,0.029150357469916344,0.02742135338485241,0.027085065841674805,0.0265443604439497,0.025488128885626793,0.025427795946598053,0.025302689522504807,0.02476918324828148,0.02377494052052498,0.02336389385163784,0.022659823298454285,0.022563425824046135,0.022550836205482483,0.022424111142754555,0.02176089398562908,0.021486394107341766,0.020555470138788223,0.02040019817650318,0.020349113270640373,0.02030954696238041,0.019478190690279007,0.019322238862514496,0.01921307109296322,0.018351014703512192,0.015034591779112816,0.014726461842656136,0.014229104854166508,0.013298841193318367,0.013205892406404018,0.012534722685813904,0.01236443966627121,0.011682316660881042,0.010835512541234493],\"y\":[0.11218500137329102,0.08555745333433151,0.07900433987379074,0.06984148919582367,0.06532223522663116,0.05988432466983795,0.053718265146017075,0.04869251325726509,0.0484851710498333,0.05047561228275299,0.04901602491736412,0.05088590830564499,0.043136563152074814,0.038807664066553116,0.03940677270293236,0.03565230965614319,0.04684334620833397,0.03642243891954422,0.0427626334130764,0.031095556914806366,0.02767126075923443,0.028602896258234978,0.026879072189331055,0.029243621975183487,0.027023864910006523,0.029654616490006447,0.033838797360658646,0.024229109287261963,0.025083281099796295,0.02295246161520481,0.03207536041736603,0.02418755553662777,0.03293510898947716,0.024289511144161224,0.022455723956227303,0.021078750491142273,0.0207617599517107,0.022863196209073067,0.02213604375720024,0.023916197940707207,0.024436337873339653,0.022818807512521744,0.018650026991963387,0.02048570103943348,0.014948340132832527,0.018915941938757896,0.015473614446818829,0.019288603216409683,0.017522752285003662,0.013564939610660076,0.01203653123229742,0.015292959287762642],\"type\":\"scatter\"},{\"hoverinfo\":\"text\",\"hovertext\":[\"(0.05104316771030426, 0.05594494566321373)\",\"(0.040086112916469574, 0.04302525147795677)\",\"(0.03795038163661957, 0.0394727848470211)\",\"(0.03321565315127373, 0.03516324236989021)\",\"(0.027511950582265854, 0.028630303218960762)\",\"(0.022818807512521744, 0.022886892780661583)\",\"(0.019688349217176437, 0.02000434696674347)\",\"(0.019254421815276146, 0.021646497771143913)\"],\"mode\":\"markers\",\"name\":\"H2\",\"x\":[0.05104316771030426,0.040086112916469574,0.03795038163661957,0.03321565315127373,0.027511950582265854,0.022818807512521744,0.019688349217176437,0.019254421815276146],\"y\":[0.05594494566321373,0.04302525147795677,0.0394727848470211,0.03516324236989021,0.028630303218960762,0.022886892780661583,0.02000434696674347,0.021646497771143913],\"type\":\"scatter\"},{\"hoverinfo\":\"text\",\"hovertext\":[\"(0.02005070075392723, 0.020560825243592262)\"],\"mode\":\"markers\",\"name\":\"H3\",\"x\":[0.02005070075392723],\"y\":[0.020560825243592262],\"type\":\"scatter\"}],                        {\"template\":{\"data\":{\"bar\":[{\"error_x\":{\"color\":\"#2a3f5f\"},\"error_y\":{\"color\":\"#2a3f5f\"},\"marker\":{\"line\":{\"color\":\"#E5ECF6\",\"width\":0.5},\"pattern\":{\"fillmode\":\"overlay\",\"size\":10,\"solidity\":0.2}},\"type\":\"bar\"}],\"barpolar\":[{\"marker\":{\"line\":{\"color\":\"#E5ECF6\",\"width\":0.5},\"pattern\":{\"fillmode\":\"overlay\",\"size\":10,\"solidity\":0.2}},\"type\":\"barpolar\"}],\"carpet\":[{\"aaxis\":{\"endlinecolor\":\"#2a3f5f\",\"gridcolor\":\"white\",\"linecolor\":\"white\",\"minorgridcolor\":\"white\",\"startlinecolor\":\"#2a3f5f\"},\"baxis\":{\"endlinecolor\":\"#2a3f5f\",\"gridcolor\":\"white\",\"linecolor\":\"white\",\"minorgridcolor\":\"white\",\"startlinecolor\":\"#2a3f5f\"},\"type\":\"carpet\"}],\"choropleth\":[{\"colorbar\":{\"outlinewidth\":0,\"ticks\":\"\"},\"type\":\"choropleth\"}],\"contour\":[{\"colorbar\":{\"outlinewidth\":0,\"ticks\":\"\"},\"colorscale\":[[0.0,\"#0d0887\"],[0.1111111111111111,\"#46039f\"],[0.2222222222222222,\"#7201a8\"],[0.3333333333333333,\"#9c179e\"],[0.4444444444444444,\"#bd3786\"],[0.5555555555555556,\"#d8576b\"],[0.6666666666666666,\"#ed7953\"],[0.7777777777777778,\"#fb9f3a\"],[0.8888888888888888,\"#fdca26\"],[1.0,\"#f0f921\"]],\"type\":\"contour\"}],\"contourcarpet\":[{\"colorbar\":{\"outlinewidth\":0,\"ticks\":\"\"},\"type\":\"contourcarpet\"}],\"heatmap\":[{\"colorbar\":{\"outlinewidth\":0,\"ticks\":\"\"},\"colorscale\":[[0.0,\"#0d0887\"],[0.1111111111111111,\"#46039f\"],[0.2222222222222222,\"#7201a8\"],[0.3333333333333333,\"#9c179e\"],[0.4444444444444444,\"#bd3786\"],[0.5555555555555556,\"#d8576b\"],[0.6666666666666666,\"#ed7953\"],[0.7777777777777778,\"#fb9f3a\"],[0.8888888888888888,\"#fdca26\"],[1.0,\"#f0f921\"]],\"type\":\"heatmap\"}],\"heatmapgl\":[{\"colorbar\":{\"outlinewidth\":0,\"ticks\":\"\"},\"colorscale\":[[0.0,\"#0d0887\"],[0.1111111111111111,\"#46039f\"],[0.2222222222222222,\"#7201a8\"],[0.3333333333333333,\"#9c179e\"],[0.4444444444444444,\"#bd3786\"],[0.5555555555555556,\"#d8576b\"],[0.6666666666666666,\"#ed7953\"],[0.7777777777777778,\"#fb9f3a\"],[0.8888888888888888,\"#fdca26\"],[1.0,\"#f0f921\"]],\"type\":\"heatmapgl\"}],\"histogram\":[{\"marker\":{\"pattern\":{\"fillmode\":\"overlay\",\"size\":10,\"solidity\":0.2}},\"type\":\"histogram\"}],\"histogram2d\":[{\"colorbar\":{\"outlinewidth\":0,\"ticks\":\"\"},\"colorscale\":[[0.0,\"#0d0887\"],[0.1111111111111111,\"#46039f\"],[0.2222222222222222,\"#7201a8\"],[0.3333333333333333,\"#9c179e\"],[0.4444444444444444,\"#bd3786\"],[0.5555555555555556,\"#d8576b\"],[0.6666666666666666,\"#ed7953\"],[0.7777777777777778,\"#fb9f3a\"],[0.8888888888888888,\"#fdca26\"],[1.0,\"#f0f921\"]],\"type\":\"histogram2d\"}],\"histogram2dcontour\":[{\"colorbar\":{\"outlinewidth\":0,\"ticks\":\"\"},\"colorscale\":[[0.0,\"#0d0887\"],[0.1111111111111111,\"#46039f\"],[0.2222222222222222,\"#7201a8\"],[0.3333333333333333,\"#9c179e\"],[0.4444444444444444,\"#bd3786\"],[0.5555555555555556,\"#d8576b\"],[0.6666666666666666,\"#ed7953\"],[0.7777777777777778,\"#fb9f3a\"],[0.8888888888888888,\"#fdca26\"],[1.0,\"#f0f921\"]],\"type\":\"histogram2dcontour\"}],\"mesh3d\":[{\"colorbar\":{\"outlinewidth\":0,\"ticks\":\"\"},\"type\":\"mesh3d\"}],\"parcoords\":[{\"line\":{\"colorbar\":{\"outlinewidth\":0,\"ticks\":\"\"}},\"type\":\"parcoords\"}],\"pie\":[{\"automargin\":true,\"type\":\"pie\"}],\"scatter\":[{\"marker\":{\"colorbar\":{\"outlinewidth\":0,\"ticks\":\"\"}},\"type\":\"scatter\"}],\"scatter3d\":[{\"line\":{\"colorbar\":{\"outlinewidth\":0,\"ticks\":\"\"}},\"marker\":{\"colorbar\":{\"outlinewidth\":0,\"ticks\":\"\"}},\"type\":\"scatter3d\"}],\"scattercarpet\":[{\"marker\":{\"colorbar\":{\"outlinewidth\":0,\"ticks\":\"\"}},\"type\":\"scattercarpet\"}],\"scattergeo\":[{\"marker\":{\"colorbar\":{\"outlinewidth\":0,\"ticks\":\"\"}},\"type\":\"scattergeo\"}],\"scattergl\":[{\"marker\":{\"colorbar\":{\"outlinewidth\":0,\"ticks\":\"\"}},\"type\":\"scattergl\"}],\"scattermapbox\":[{\"marker\":{\"colorbar\":{\"outlinewidth\":0,\"ticks\":\"\"}},\"type\":\"scattermapbox\"}],\"scatterpolar\":[{\"marker\":{\"colorbar\":{\"outlinewidth\":0,\"ticks\":\"\"}},\"type\":\"scatterpolar\"}],\"scatterpolargl\":[{\"marker\":{\"colorbar\":{\"outlinewidth\":0,\"ticks\":\"\"}},\"type\":\"scatterpolargl\"}],\"scatterternary\":[{\"marker\":{\"colorbar\":{\"outlinewidth\":0,\"ticks\":\"\"}},\"type\":\"scatterternary\"}],\"surface\":[{\"colorbar\":{\"outlinewidth\":0,\"ticks\":\"\"},\"colorscale\":[[0.0,\"#0d0887\"],[0.1111111111111111,\"#46039f\"],[0.2222222222222222,\"#7201a8\"],[0.3333333333333333,\"#9c179e\"],[0.4444444444444444,\"#bd3786\"],[0.5555555555555556,\"#d8576b\"],[0.6666666666666666,\"#ed7953\"],[0.7777777777777778,\"#fb9f3a\"],[0.8888888888888888,\"#fdca26\"],[1.0,\"#f0f921\"]],\"type\":\"surface\"}],\"table\":[{\"cells\":{\"fill\":{\"color\":\"#EBF0F8\"},\"line\":{\"color\":\"white\"}},\"header\":{\"fill\":{\"color\":\"#C8D4E3\"},\"line\":{\"color\":\"white\"}},\"type\":\"table\"}]},\"layout\":{\"annotationdefaults\":{\"arrowcolor\":\"#2a3f5f\",\"arrowhead\":0,\"arrowwidth\":1},\"autotypenumbers\":\"strict\",\"coloraxis\":{\"colorbar\":{\"outlinewidth\":0,\"ticks\":\"\"}},\"colorscale\":{\"diverging\":[[0,\"#8e0152\"],[0.1,\"#c51b7d\"],[0.2,\"#de77ae\"],[0.3,\"#f1b6da\"],[0.4,\"#fde0ef\"],[0.5,\"#f7f7f7\"],[0.6,\"#e6f5d0\"],[0.7,\"#b8e186\"],[0.8,\"#7fbc41\"],[0.9,\"#4d9221\"],[1,\"#276419\"]],\"sequential\":[[0.0,\"#0d0887\"],[0.1111111111111111,\"#46039f\"],[0.2222222222222222,\"#7201a8\"],[0.3333333333333333,\"#9c179e\"],[0.4444444444444444,\"#bd3786\"],[0.5555555555555556,\"#d8576b\"],[0.6666666666666666,\"#ed7953\"],[0.7777777777777778,\"#fb9f3a\"],[0.8888888888888888,\"#fdca26\"],[1.0,\"#f0f921\"]],\"sequentialminus\":[[0.0,\"#0d0887\"],[0.1111111111111111,\"#46039f\"],[0.2222222222222222,\"#7201a8\"],[0.3333333333333333,\"#9c179e\"],[0.4444444444444444,\"#bd3786\"],[0.5555555555555556,\"#d8576b\"],[0.6666666666666666,\"#ed7953\"],[0.7777777777777778,\"#fb9f3a\"],[0.8888888888888888,\"#fdca26\"],[1.0,\"#f0f921\"]]},\"colorway\":[\"#636efa\",\"#EF553B\",\"#00cc96\",\"#ab63fa\",\"#FFA15A\",\"#19d3f3\",\"#FF6692\",\"#B6E880\",\"#FF97FF\",\"#FECB52\"],\"font\":{\"color\":\"#2a3f5f\"},\"geo\":{\"bgcolor\":\"white\",\"lakecolor\":\"white\",\"landcolor\":\"#E5ECF6\",\"showlakes\":true,\"showland\":true,\"subunitcolor\":\"white\"},\"hoverlabel\":{\"align\":\"left\"},\"hovermode\":\"closest\",\"mapbox\":{\"style\":\"light\"},\"paper_bgcolor\":\"white\",\"plot_bgcolor\":\"#E5ECF6\",\"polar\":{\"angularaxis\":{\"gridcolor\":\"white\",\"linecolor\":\"white\",\"ticks\":\"\"},\"bgcolor\":\"#E5ECF6\",\"radialaxis\":{\"gridcolor\":\"white\",\"linecolor\":\"white\",\"ticks\":\"\"}},\"scene\":{\"xaxis\":{\"backgroundcolor\":\"#E5ECF6\",\"gridcolor\":\"white\",\"gridwidth\":2,\"linecolor\":\"white\",\"showbackground\":true,\"ticks\":\"\",\"zerolinecolor\":\"white\"},\"yaxis\":{\"backgroundcolor\":\"#E5ECF6\",\"gridcolor\":\"white\",\"gridwidth\":2,\"linecolor\":\"white\",\"showbackground\":true,\"ticks\":\"\",\"zerolinecolor\":\"white\"},\"zaxis\":{\"backgroundcolor\":\"#E5ECF6\",\"gridcolor\":\"white\",\"gridwidth\":2,\"linecolor\":\"white\",\"showbackground\":true,\"ticks\":\"\",\"zerolinecolor\":\"white\"}},\"shapedefaults\":{\"line\":{\"color\":\"#2a3f5f\"}},\"ternary\":{\"aaxis\":{\"gridcolor\":\"white\",\"linecolor\":\"white\",\"ticks\":\"\"},\"baxis\":{\"gridcolor\":\"white\",\"linecolor\":\"white\",\"ticks\":\"\"},\"bgcolor\":\"#E5ECF6\",\"caxis\":{\"gridcolor\":\"white\",\"linecolor\":\"white\",\"ticks\":\"\"}},\"title\":{\"x\":0.05},\"xaxis\":{\"automargin\":true,\"gridcolor\":\"white\",\"linecolor\":\"white\",\"ticks\":\"\",\"title\":{\"standoff\":15},\"zerolinecolor\":\"white\",\"zerolinewidth\":2},\"yaxis\":{\"automargin\":true,\"gridcolor\":\"white\",\"linecolor\":\"white\",\"ticks\":\"\",\"title\":{\"standoff\":15},\"zerolinecolor\":\"white\",\"zerolinewidth\":2}}},\"xaxis\":{\"title\":{\"text\":\"Birth\"},\"side\":\"bottom\",\"type\":\"linear\",\"range\":[-0.0022437000274658204,0.11442870140075684],\"autorange\":false,\"ticks\":\"outside\",\"showline\":true,\"zeroline\":true,\"linewidth\":1,\"linecolor\":\"black\",\"mirror\":false,\"showexponent\":\"all\",\"exponentformat\":\"e\"},\"yaxis\":{\"title\":{\"text\":\"Death\"},\"side\":\"left\",\"type\":\"linear\",\"range\":[-0.0022437000274658204,0.11442870140075684],\"autorange\":false,\"scaleanchor\":\"x\",\"scaleratio\":1,\"ticks\":\"outside\",\"showline\":true,\"zeroline\":true,\"linewidth\":1,\"linecolor\":\"black\",\"mirror\":false,\"showexponent\":\"all\",\"exponentformat\":\"e\"},\"width\":500,\"height\":500,\"plot_bgcolor\":\"white\"},                        {\"responsive\": true}                    ).then(function(){\n",
              "                            \n",
              "var gd = document.getElementById('b47d7b1f-109d-4c52-9b55-fb55773487cb');\n",
              "var x = new MutationObserver(function (mutations, observer) {{\n",
              "        var display = window.getComputedStyle(gd).display;\n",
              "        if (!display || display === 'none') {{\n",
              "            console.log([gd, 'removed!']);\n",
              "            Plotly.purge(gd);\n",
              "            observer.disconnect();\n",
              "        }}\n",
              "}});\n",
              "\n",
              "// Listen for the removal of the full notebook cells\n",
              "var notebookContainer = gd.closest('#notebook-container');\n",
              "if (notebookContainer) {{\n",
              "    x.observe(notebookContainer, {childList: true});\n",
              "}}\n",
              "\n",
              "// Listen for the clearing of the current output cell\n",
              "var outputEl = gd.closest('.output');\n",
              "if (outputEl) {{\n",
              "    x.observe(outputEl, {childList: true});\n",
              "}}\n",
              "\n",
              "                        })                };                            </script>        </div>\n",
              "</body>\n",
              "</html>"
            ]
          },
          "metadata": {}
        },
        {
          "output_type": "stream",
          "name": "stderr",
          "text": [
            "/usr/local/lib/python3.7/dist-packages/matplotlib/collections.py:153: ComplexWarning:\n",
            "\n",
            "Casting complex values to real discards the imaginary part\n",
            "\n"
          ]
        },
        {
          "output_type": "display_data",
          "data": {
            "text/plain": [
              "<Figure size 432x288 with 1 Axes>"
            ],
            "image/png": "[encoded data removed]"
          },
          "metadata": {
            "needs_background": "light"
          }
        }
      ]
    },
    {
      "cell_type": "markdown",
      "source": [
        "**Get Size Plot**"
      ],
      "metadata": {
        "id": "LOPqSzr3txOS"
      }
    },
    {
      "cell_type": "code",
      "source": [
        "#pairwise_distances_list = []\n",
        "#diagram_list = []\n",
        "\n",
        "#for i in range(1, 6):\n",
        "#  pairwise_distances, diagram = process_data(series[::i])\n",
        "#  pairwise_distances_list.append(pairwise_distances)\n",
        "#  diagram_list.append(diagram)\n",
        "\n",
        "#get_size_plot(pairwise_distances_list, diagram_list, [1,2,3], 0.01, 0.01, 0.5)"
      ],
      "metadata": {
        "id": "kSJVw3Bla6AO"
      },
      "execution_count": null,
      "outputs": []
    },
    {
      "cell_type": "code",
      "source": [
        "#get_size_plot(pairwise_distances_list, diagram_list, [1,2,3], 0.01, 0.01, 0.276)"
      ],
      "metadata": {
        "id": "jYICNGy4a_S-"
      },
      "execution_count": null,
      "outputs": []
    },
    {
      "cell_type": "code",
      "source": [
        "#a, b = process_data(series)\n",
        "#pairwise_distances_list[0] == a"
      ],
      "metadata": {
        "id": "Vs3XE9e9hXoS"
      },
      "execution_count": null,
      "outputs": []
    },
    {
      "cell_type": "code",
      "source": [
        "#b == diagram_list[0]"
      ],
      "metadata": {
        "id": "bcAKxCMthsPi"
      },
      "execution_count": null,
      "outputs": []
    },
    {
      "cell_type": "markdown",
      "source": [
        "*Resource Estimation for classical resources required (pending)*\n",
        "\n",
        "* Would you be open to running some more Betti number calculations in order to benchmark for us how long they are taking classically?\n",
        "* The graphs we would want to run the Betti number calculation on are those described in Section IV.A of the current note (graphs with large Betti numbers).\n",
        "* Robbie, can you confirm that m = n / 5 (I think that's what Dominic said) gives the largest speedup? The goal is then to try to extrapolate the scaling of the classical computation's cost. -\n",
        "* Ok. So in that case: Alex we would want some numbers on the classical cost of computing the Betti number of the graph I mentioned before with m=5 and k = n/5 for n from 5 to as large as you can go!\n",
        "\n",
        "We are interested in the ratio of the Betti number to n choose k.  The choice k=n/5 just maximises the Betti number itself.  If we are wanting to maximise the ratio of classical to quantum runtimes, then we are trying to maximise\n",
        "betti_k  (n choose k+1)\n",
        "where I've included the shift by 1 for k.  That gives optimal k for the various n as:\n",
        "* N = 10, k = 3\n",
        "* N = 20, k = 6\n",
        "* N = 30, k = 9\n",
        "* N = 40, k = 12\n",
        "* N = 50, k = 16\n",
        "* N = 60, k = 19\n",
        "* N = 70, k = 22\n",
        "* N = 80, k = 25\n",
        "* N = 90, k = 29\n",
        "* N = 100, k = 32\n",
        "\n",
        "\n",
        " m = 5\n",
        "\n",
        "n = 5, 10, 15 etc biggest size\n",
        "\n",
        "run calculations in increments of 5\n",
        "\n",
        "k = n/m, so n/5 etc\n",
        "\n",
        "**k cluster, m vertices (nodes)**\n",
        "\n",
        "Betti equation given by euqtaion 65: *Let K(m, k) be the k-partite complete graph, where each partition contains m vertices. That is, K(m, k) consists of k clusters, each with m vertices. K(m, 1) is a collection of m points with no edges.*\n",
        "\n",
        "The $(k-1)^{\\text{th}}$ Betti number of (the clique complex of) $K(m,k)$ is\n",
        "\n",
        "> $\\beta_{k-1} = (m-1)^k$\n",
        "\n",
        "whats is the scaling of the algorithm running? n choose k^2 or k?"
      ],
      "metadata": {
        "id": "CHN7GIU42_Je"
      }
    },
    {
      "cell_type": "markdown",
      "source": [
        "\n",
        "m = 5 vertices (nodes) per cluster\n",
        "\n",
        "n = 5, 10, 15 etc biggest size\n",
        "\n",
        "run calculations in increments of 5\n",
        "\n",
        "k cluster = n/m, so n/5 etc"
      ],
      "metadata": {
        "id": "R-N1UWm_F_lB"
      }
    },
    {
      "cell_type": "code",
      "source": [
        "# D_ij = 2 for all nodes which share a cluster\n",
        "m = np.array([[0,2,2,2,2], [2,0,2,2,2], [2,2,0,2,2], [2,2,2,0,2], [2,2,2,2,0]])\n",
        "\n",
        "# D_ij = 1 for all nodes in different clusters\n",
        "n = np.ones((5, 5))\n",
        "\n",
        "# Create distance matrix and draw network\n",
        "DistMatrix= np.block([[m, n, n, n],\n",
        "                      [n, m, n, n],\n",
        "                      [n, n, m, n],\n",
        "                      [n, n, n, m]])\n",
        "G=nx.from_numpy_matrix(DistMatrix)\n",
        "nx.draw(G)"
      ],
      "metadata": {
        "id": "miIOAu_kGBBO"
      },
      "execution_count": null,
      "outputs": []
    },
    {
      "cell_type": "code",
      "source": [
        "DistMatrix"
      ],
      "metadata": {
        "id": "gcJRStNIGCiL"
      },
      "execution_count": null,
      "outputs": []
    },
    {
      "cell_type": "code",
      "source": [
        "pairwise_distances = DistMatrix[None, :, :]\n",
        "\n",
        "# Create Persistence Diagrams\n",
        "filtration = VietorisRipsPersistence\n",
        "persistence = filtration(\n",
        "    homology_dimensions=[0, 1, 2, 3, 4, 5],\n",
        "    metric='precomputed',\n",
        "    n_jobs=-1,\n",
        "    reduced_homology=True,\n",
        "    coeff=2,\n",
        "    collapse_edges=True,\n",
        "    max_edge_length=2.0)\n",
        "diagram = persistence.fit_transform_plot(pairwise_distances)"
      ],
      "metadata": {
        "id": "PV62rgx-GEUL"
      },
      "execution_count": null,
      "outputs": []
    },
    {
      "cell_type": "code",
      "source": [
        "# Extract total number of topological features and per homology dimension\n",
        "table = pd.DataFrame((NumberOfPoints(n_jobs=-1).fit_transform(diagram)),\n",
        "                     columns=['H0', 'H1', 'H2', 'H3', 'H4', 'H5'], index=['Topological Features'])\n",
        "pd.set_option('display.max_rows', None)\n",
        "table.insert(6, \"Sum\", table.sum(1))\n",
        "table"
      ],
      "metadata": {
        "id": "8k5qaRelGFhF"
      },
      "execution_count": null,
      "outputs": []
    },
    {
      "cell_type": "markdown",
      "source": [
        "(Interesting notebook of (classical) TDA using Giotto: https://github.com/GUDHI/TDA-tutorial/blob/master/Tuto-GUDHI-optimization.ipynb)"
      ],
      "metadata": {
        "id": "wusb58KWN0Oz"
      }
    },
    {
      "cell_type": "markdown",
      "source": [
        "### *CPU Performance Test*"
      ],
      "metadata": {
        "id": "-4zjA63e4o1-"
      }
    },
    {
      "cell_type": "code",
      "source": [
        "import math\n",
        "import sympy\n",
        "import numpy as np\n",
        "import pandas as pd\n",
        "import seaborn as sns\n",
        "import matplotlib.pyplot as plt"
      ],
      "metadata": {
        "id": "BS3tXsqm5PkL"
      },
      "execution_count": null,
      "outputs": []
    },
    {
      "cell_type": "code",
      "source": [
        "from psutil import *\n",
        "cpu_count()"
      ],
      "metadata": {
        "colab": {
          "base_uri": "https://localhost:8080/"
        },
        "id": "CXUsyb6c4w59",
        "outputId": "63fa3390-fc54-4f22-b1c7-3834d0268c08"
      },
      "execution_count": null,
      "outputs": [
        {
          "output_type": "execute_result",
          "data": {
            "text/plain": [
              "2"
            ]
          },
          "metadata": {},
          "execution_count": 1
        }
      ]
    },
    {
      "cell_type": "code",
      "source": [
        "!cat /proc/cpuinfo"
      ],
      "metadata": {
        "colab": {
          "base_uri": "https://localhost:8080/"
        },
        "id": "nLzdolJL4-ZB",
        "outputId": "d347bf65-0c2c-455b-fb8a-6aba76842614"
      },
      "execution_count": null,
      "outputs": [
        {
          "output_type": "stream",
          "name": "stdout",
          "text": [
            "processor\t: 0\n",
            "vendor_id\t: GenuineIntel\n",
            "cpu family\t: 6\n",
            "model\t\t: 79\n",
            "model name\t: Intel(R) Xeon(R) CPU @ 2.20GHz\n",
            "stepping\t: 0\n",
            "microcode\t: 0x1\n",
            "cpu MHz\t\t: 2199.998\n",
            "cache size\t: 56320 KB\n",
            "physical id\t: 0\n",
            "siblings\t: 2\n",
            "core id\t\t: 0\n",
            "cpu cores\t: 1\n",
            "apicid\t\t: 0\n",
            "initial apicid\t: 0\n",
            "fpu\t\t: yes\n",
            "fpu_exception\t: yes\n",
            "cpuid level\t: 13\n",
            "wp\t\t: yes\n",
            "flags\t\t: fpu vme de pse tsc msr pae mce cx8 apic sep mtrr pge mca cmov pat pse36 clflush mmx fxsr sse sse2 ss ht syscall nx pdpe1gb rdtscp lm constant_tsc rep_good nopl xtopology nonstop_tsc cpuid tsc_known_freq pni pclmulqdq ssse3 fma cx16 pcid sse4_1 sse4_2 x2apic movbe popcnt aes xsave avx f16c rdrand hypervisor lahf_lm abm 3dnowprefetch invpcid_single ssbd ibrs ibpb stibp fsgsbase tsc_adjust bmi1 hle avx2 smep bmi2 erms invpcid rtm rdseed adx smap xsaveopt arat md_clear arch_capabilities\n",
            "bugs\t\t: cpu_meltdown spectre_v1 spectre_v2 spec_store_bypass l1tf mds swapgs taa mmio_stale_data retbleed\n",
            "bogomips\t: 4399.99\n",
            "clflush size\t: 64\n",
            "cache_alignment\t: 64\n",
            "address sizes\t: 46 bits physical, 48 bits virtual\n",
            "power management:\n",
            "\n",
            "processor\t: 1\n",
            "vendor_id\t: GenuineIntel\n",
            "cpu family\t: 6\n",
            "model\t\t: 79\n",
            "model name\t: Intel(R) Xeon(R) CPU @ 2.20GHz\n",
            "stepping\t: 0\n",
            "microcode\t: 0x1\n",
            "cpu MHz\t\t: 2199.998\n",
            "cache size\t: 56320 KB\n",
            "physical id\t: 0\n",
            "siblings\t: 2\n",
            "core id\t\t: 0\n",
            "cpu cores\t: 1\n",
            "apicid\t\t: 1\n",
            "initial apicid\t: 1\n",
            "fpu\t\t: yes\n",
            "fpu_exception\t: yes\n",
            "cpuid level\t: 13\n",
            "wp\t\t: yes\n",
            "flags\t\t: fpu vme de pse tsc msr pae mce cx8 apic sep mtrr pge mca cmov pat pse36 clflush mmx fxsr sse sse2 ss ht syscall nx pdpe1gb rdtscp lm constant_tsc rep_good nopl xtopology nonstop_tsc cpuid tsc_known_freq pni pclmulqdq ssse3 fma cx16 pcid sse4_1 sse4_2 x2apic movbe popcnt aes xsave avx f16c rdrand hypervisor lahf_lm abm 3dnowprefetch invpcid_single ssbd ibrs ibpb stibp fsgsbase tsc_adjust bmi1 hle avx2 smep bmi2 erms invpcid rtm rdseed adx smap xsaveopt arat md_clear arch_capabilities\n",
            "bugs\t\t: cpu_meltdown spectre_v1 spectre_v2 spec_store_bypass l1tf mds swapgs taa mmio_stale_data retbleed\n",
            "bogomips\t: 4399.99\n",
            "clflush size\t: 64\n",
            "cache_alignment\t: 64\n",
            "address sizes\t: 46 bits physical, 48 bits virtual\n",
            "power management:\n",
            "\n"
          ]
        }
      ]
    },
    {
      "cell_type": "code",
      "source": [
        "# Compute and display complexity of Fibonacci\n",
        "\n",
        "import time\n",
        "\n",
        "def fibonacci(n):\n",
        "    if n <= 1:\n",
        "        return n\n",
        "    return fibonacci(n-1) + fibonacci(n-2)\n",
        "\n",
        "\n",
        "# My input data for the function\n",
        "my_tuple = 5,10,15,20,25\n",
        "\n",
        "# Define empty bucket\n",
        "rows_list = []\n",
        "\n",
        "for n in my_tuple:\n",
        "\n",
        "    # Begin tracking CPU time\n",
        "    st = time.process_time(),\n",
        "\n",
        "    # Run algorithms\n",
        "    result = fibonacci(n),\n",
        "\n",
        "    # Finish tracking CPU time\n",
        "    et = time.process_time(),\n",
        "\n",
        "    # Calculate performance (end - begin)\n",
        "    performance = [x - y for x, y in zip(list(et), list(st))]\n",
        "\n",
        "    # Collect results in a list\n",
        "    rows_list.append(performance)\n",
        "\n",
        "# Write results in a table\n",
        "df = pd.DataFrame(rows_list, index=my_tuple, columns=['CPU Performance in sec'])\n",
        "print(df)\n",
        "\n",
        "# Visualize results in a graph\n",
        "df = df.reset_index().rename(columns={\"index\": \"Datasize\"})\n",
        "df.plot(x ='Datasize', y='CPU Performance in sec', kind = 'bar')"
      ],
      "metadata": {
        "colab": {
          "base_uri": "https://localhost:8080/",
          "height": 399
        },
        "id": "zstvW2jv5KUu",
        "outputId": "0551c4cf-9053-4519-a2b7-4addd6a3ab6b"
      },
      "execution_count": null,
      "outputs": [
        {
          "output_type": "stream",
          "name": "stdout",
          "text": [
            "    CPU Performance in sec\n",
            "5                 0.000021\n",
            "10                0.000044\n",
            "15                0.000499\n",
            "20                0.004968\n",
            "25                0.051973\n"
          ]
        },
        {
          "output_type": "execute_result",
          "data": {
            "text/plain": [
              "<matplotlib.axes._subplots.AxesSubplot at 0x7fd17e38b650>"
            ]
          },
          "metadata": {},
          "execution_count": 4
        },
        {
          "output_type": "display_data",
          "data": {
            "text/plain": [
              "<Figure size 432x288 with 1 Axes>"
            ],
            "image/png": "[encoded data removed]"
          },
          "metadata": {
            "needs_background": "light"
          }
        }
      ]
    },
    {
      "cell_type": "markdown",
      "source": [
        "### ***Helper Functions***"
      ],
      "metadata": {
        "id": "4_hGkSz_SHre"
      }
    },
    {
      "cell_type": "code",
      "source": [
        "import networkx as nx\n",
        "import numpy as np\n",
        "import matplotlib.pyplot as plt\n",
        "import math\n",
        "import pandas as pd\n",
        "from scipy.special import comb\n",
        "from scipy.spatial.distance import pdist, squareform\n",
        "from scipy.sparse.linalg import eigs\n",
        "from itertools import product\n",
        "import statistics\n",
        "\n",
        "import sys\n",
        "np.set_printoptions(threshold=sys.maxsize)\n",
        "\n",
        "!pip install -U giotto-tda --q\n",
        "from gtda.homology import VietorisRipsPersistence\n",
        "from gtda.diagrams import NumberOfPoints\n",
        "from gtda.time_series import SingleTakensEmbedding"
      ],
      "metadata": {
        "id": "S7omAYY9SQEj"
      },
      "execution_count": null,
      "outputs": []
    },
    {
      "cell_type": "markdown",
      "metadata": {
        "id": "-znWxwnEpL0-"
      },
      "source": [
        "### *Classical Resource Estimate for TDA on k-partite complete graph*\n",
        "\n"
      ]
    },
    {
      "cell_type": "code",
      "execution_count": null,
      "metadata": {
        "colab": {
          "base_uri": "https://localhost:8080/",
          "height": 337
        },
        "id": "6n6Xr0F687Hj",
        "outputId": "c876dd1c-4a7d-4c1c-c82e-838268a01a1c"
      },
      "outputs": [
        {
          "output_type": "stream",
          "name": "stdout",
          "text": [
            "Graph with 15 nodes and 75 edges\n"
          ]
        },
        {
          "output_type": "display_data",
          "data": {
            "text/plain": [
              "<Figure size 432x288 with 1 Axes>"
            ],
            "image/png": "[encoded data removed]"
          },
          "metadata": {}
        }
      ],
      "source": [
        "# Create k-partite complete graph (according to IV.A., Figure 1, page 17) - 6 subsets of each 5 nodes\n",
        "\n",
        "# Provide number of nodes (must be be multiple of 5)\n",
        "n = 15\n",
        "\n",
        "def values(n):\n",
        "  cluster = int(n/5)                    # 5 is fixed number of nodes per cluster\n",
        "  return [(5)for i in range(cluster)]\n",
        "\n",
        "G = nx.complete_multipartite_graph(*values(n))\n",
        "\n",
        "print(G)\n",
        "nx.draw(G)"
      ]
    },
    {
      "cell_type": "code",
      "execution_count": null,
      "metadata": {
        "colab": {
          "base_uri": "https://localhost:8080/"
        },
        "id": "acCcsxc2asvO",
        "outputId": "cfa9237c-bb14-4079-9371-90dc923624fa"
      },
      "outputs": [
        {
          "data": {
            "text/plain": [
              "(15, 15)"
            ]
          },
          "execution_count": 28,
          "metadata": {},
          "output_type": "execute_result"
        }
      ],
      "source": [
        "# Classical TDA from Giotto library (to compute persistent diagrams)\n",
        "\n",
        "# Create adjacency matrix of graph (as input for Giotto TDA library)\n",
        "X = nx.adjacency_matrix(G)\n",
        "np.shape(X)"
      ]
    },
    {
      "cell_type": "code",
      "execution_count": null,
      "metadata": {
        "id": "kcz8LRlJc1xM"
      },
      "outputs": [],
      "source": [
        "def persistent_homology(X):\n",
        "  # Instantiate topological transformer\n",
        "  persistence = VietorisRipsPersistence(\n",
        "      # Choose maximal homology dimension for TDA\n",
        "      homology_dimensions=[0, 1, 2, 3, 4, 5],\n",
        "      metric='precomputed',\n",
        "      n_jobs=-1,\n",
        "      reduced_homology=True,\n",
        "      coeff=2,\n",
        "      collapse_edges=True,\n",
        "      max_edge_length=2.0)\n",
        "  # Compute persistence diagrams corresponding to each graph in X\n",
        "  diagram = persistence.fit_transform_plot(X)\n",
        "  return diagram"
      ]
    },
    {
      "cell_type": "code",
      "execution_count": null,
      "metadata": {
        "id": "aHugJ_WaR-CI"
      },
      "outputs": [],
      "source": [
        "# Run classical TDA on k-partite complete graph\n",
        "diagram = persistent_homology([X])\n",
        "diagram"
      ]
    },
    {
      "cell_type": "code",
      "execution_count": null,
      "metadata": {
        "colab": {
          "base_uri": "https://localhost:8080/",
          "height": 517
        },
        "id": "bVB3cJ6xRy1n",
        "outputId": "f9de07f3-43fa-4718-ade7-de2544e2609b"
      },
      "outputs": [
        {
          "data": {
            "text/html": [
              "<html>\n",
              "<head><meta charset=\"utf-8\" /></head>\n",
              "<body>\n",
              "    <div>            <script src=\"https://cdnjs.cloudflare.com/ajax/libs/mathjax/2.7.5/MathJax.js?config=TeX-AMS-MML_SVG\"></script><script type=\"text/javascript\">if (window.MathJax) {MathJax.Hub.Config({SVG: {font: \"STIX-Web\"}});}</script>                <script type=\"text/javascript\">window.PlotlyConfig = {MathJaxConfig: 'local'};</script>\n",
              "        <script src=\"https://cdn.plot.ly/plotly-2.8.3.min.js\"></script>                <div id=\"df9afa0c-e3fe-49f9-901c-4aa0926a0d9c\" class=\"plotly-graph-div\" style=\"height:500px; width:500px;\"></div>            <script type=\"text/javascript\">                                    window.PLOTLYENV=window.PLOTLYENV || {};                                    if (document.getElementById(\"df9afa0c-e3fe-49f9-901c-4aa0926a0d9c\")) {                    Plotly.newPlot(                        \"df9afa0c-e3fe-49f9-901c-4aa0926a0d9c\",                        [{\"hoverinfo\":\"none\",\"line\":{\"color\":\"black\",\"dash\":\"dash\",\"width\":1},\"mode\":\"lines\",\"showlegend\":false,\"x\":[-0.04,2.04],\"y\":[-0.04,2.04],\"type\":\"scatter\"},{\"hoverinfo\":\"text\",\"hovertext\":[\"(0.0, 1.0), multiplicity: 14\",\"(0.0, 1.0), multiplicity: 14\",\"(0.0, 1.0), multiplicity: 14\",\"(0.0, 1.0), multiplicity: 14\",\"(0.0, 1.0), multiplicity: 14\",\"(0.0, 1.0), multiplicity: 14\",\"(0.0, 1.0), multiplicity: 14\",\"(0.0, 1.0), multiplicity: 14\",\"(0.0, 1.0), multiplicity: 14\",\"(0.0, 1.0), multiplicity: 14\",\"(0.0, 1.0), multiplicity: 14\",\"(0.0, 1.0), multiplicity: 14\",\"(0.0, 1.0), multiplicity: 14\",\"(0.0, 1.0), multiplicity: 14\"],\"mode\":\"markers\",\"name\":\"H0\",\"x\":[0.0,0.0,0.0,0.0,0.0,0.0,0.0,0.0,0.0,0.0,0.0,0.0,0.0,0.0],\"y\":[1.0,1.0,1.0,1.0,1.0,1.0,1.0,1.0,1.0,1.0,1.0,1.0,1.0,1.0],\"type\":\"scatter\"},{\"hoverinfo\":\"text\",\"hovertext\":[],\"mode\":\"markers\",\"name\":\"H1\",\"x\":[],\"y\":[],\"type\":\"scatter\"},{\"hoverinfo\":\"text\",\"hovertext\":[\"(1.0, 2.0), multiplicity: 64\",\"(1.0, 2.0), multiplicity: 64\",\"(1.0, 2.0), multiplicity: 64\",\"(1.0, 2.0), multiplicity: 64\",\"(1.0, 2.0), multiplicity: 64\",\"(1.0, 2.0), multiplicity: 64\",\"(1.0, 2.0), multiplicity: 64\",\"(1.0, 2.0), multiplicity: 64\",\"(1.0, 2.0), multiplicity: 64\",\"(1.0, 2.0), multiplicity: 64\",\"(1.0, 2.0), multiplicity: 64\",\"(1.0, 2.0), multiplicity: 64\",\"(1.0, 2.0), multiplicity: 64\",\"(1.0, 2.0), multiplicity: 64\",\"(1.0, 2.0), multiplicity: 64\",\"(1.0, 2.0), multiplicity: 64\",\"(1.0, 2.0), multiplicity: 64\",\"(1.0, 2.0), multiplicity: 64\",\"(1.0, 2.0), multiplicity: 64\",\"(1.0, 2.0), multiplicity: 64\",\"(1.0, 2.0), multiplicity: 64\",\"(1.0, 2.0), multiplicity: 64\",\"(1.0, 2.0), multiplicity: 64\",\"(1.0, 2.0), multiplicity: 64\",\"(1.0, 2.0), multiplicity: 64\",\"(1.0, 2.0), multiplicity: 64\",\"(1.0, 2.0), multiplicity: 64\",\"(1.0, 2.0), multiplicity: 64\",\"(1.0, 2.0), multiplicity: 64\",\"(1.0, 2.0), multiplicity: 64\",\"(1.0, 2.0), multiplicity: 64\",\"(1.0, 2.0), multiplicity: 64\",\"(1.0, 2.0), multiplicity: 64\",\"(1.0, 2.0), multiplicity: 64\",\"(1.0, 2.0), multiplicity: 64\",\"(1.0, 2.0), multiplicity: 64\",\"(1.0, 2.0), multiplicity: 64\",\"(1.0, 2.0), multiplicity: 64\",\"(1.0, 2.0), multiplicity: 64\",\"(1.0, 2.0), multiplicity: 64\",\"(1.0, 2.0), multiplicity: 64\",\"(1.0, 2.0), multiplicity: 64\",\"(1.0, 2.0), multiplicity: 64\",\"(1.0, 2.0), multiplicity: 64\",\"(1.0, 2.0), multiplicity: 64\",\"(1.0, 2.0), multiplicity: 64\",\"(1.0, 2.0), multiplicity: 64\",\"(1.0, 2.0), multiplicity: 64\",\"(1.0, 2.0), multiplicity: 64\",\"(1.0, 2.0), multiplicity: 64\",\"(1.0, 2.0), multiplicity: 64\",\"(1.0, 2.0), multiplicity: 64\",\"(1.0, 2.0), multiplicity: 64\",\"(1.0, 2.0), multiplicity: 64\",\"(1.0, 2.0), multiplicity: 64\",\"(1.0, 2.0), multiplicity: 64\",\"(1.0, 2.0), multiplicity: 64\",\"(1.0, 2.0), multiplicity: 64\",\"(1.0, 2.0), multiplicity: 64\",\"(1.0, 2.0), multiplicity: 64\",\"(1.0, 2.0), multiplicity: 64\",\"(1.0, 2.0), multiplicity: 64\",\"(1.0, 2.0), multiplicity: 64\",\"(1.0, 2.0), multiplicity: 64\"],\"mode\":\"markers\",\"name\":\"H2\",\"x\":[1.0,1.0,1.0,1.0,1.0,1.0,1.0,1.0,1.0,1.0,1.0,1.0,1.0,1.0,1.0,1.0,1.0,1.0,1.0,1.0,1.0,1.0,1.0,1.0,1.0,1.0,1.0,1.0,1.0,1.0,1.0,1.0,1.0,1.0,1.0,1.0,1.0,1.0,1.0,1.0,1.0,1.0,1.0,1.0,1.0,1.0,1.0,1.0,1.0,1.0,1.0,1.0,1.0,1.0,1.0,1.0,1.0,1.0,1.0,1.0,1.0,1.0,1.0,1.0],\"y\":[2.0,2.0,2.0,2.0,2.0,2.0,2.0,2.0,2.0,2.0,2.0,2.0,2.0,2.0,2.0,2.0,2.0,2.0,2.0,2.0,2.0,2.0,2.0,2.0,2.0,2.0,2.0,2.0,2.0,2.0,2.0,2.0,2.0,2.0,2.0,2.0,2.0,2.0,2.0,2.0,2.0,2.0,2.0,2.0,2.0,2.0,2.0,2.0,2.0,2.0,2.0,2.0,2.0,2.0,2.0,2.0,2.0,2.0,2.0,2.0,2.0,2.0,2.0,2.0],\"type\":\"scatter\"},{\"hoverinfo\":\"text\",\"hovertext\":[],\"mode\":\"markers\",\"name\":\"H3\",\"x\":[],\"y\":[],\"type\":\"scatter\"},{\"hoverinfo\":\"text\",\"hovertext\":[],\"mode\":\"markers\",\"name\":\"H4\",\"x\":[],\"y\":[],\"type\":\"scatter\"},{\"hoverinfo\":\"text\",\"hovertext\":[],\"mode\":\"markers\",\"name\":\"H5\",\"x\":[],\"y\":[],\"type\":\"scatter\"}],                        {\"template\":{\"data\":{\"bar\":[{\"error_x\":{\"color\":\"#2a3f5f\"},\"error_y\":{\"color\":\"#2a3f5f\"},\"marker\":{\"line\":{\"color\":\"#E5ECF6\",\"width\":0.5},\"pattern\":{\"fillmode\":\"overlay\",\"size\":10,\"solidity\":0.2}},\"type\":\"bar\"}],\"barpolar\":[{\"marker\":{\"line\":{\"color\":\"#E5ECF6\",\"width\":0.5},\"pattern\":{\"fillmode\":\"overlay\",\"size\":10,\"solidity\":0.2}},\"type\":\"barpolar\"}],\"carpet\":[{\"aaxis\":{\"endlinecolor\":\"#2a3f5f\",\"gridcolor\":\"white\",\"linecolor\":\"white\",\"minorgridcolor\":\"white\",\"startlinecolor\":\"#2a3f5f\"},\"baxis\":{\"endlinecolor\":\"#2a3f5f\",\"gridcolor\":\"white\",\"linecolor\":\"white\",\"minorgridcolor\":\"white\",\"startlinecolor\":\"#2a3f5f\"},\"type\":\"carpet\"}],\"choropleth\":[{\"colorbar\":{\"outlinewidth\":0,\"ticks\":\"\"},\"type\":\"choropleth\"}],\"contour\":[{\"colorbar\":{\"outlinewidth\":0,\"ticks\":\"\"},\"colorscale\":[[0.0,\"#0d0887\"],[0.1111111111111111,\"#46039f\"],[0.2222222222222222,\"#7201a8\"],[0.3333333333333333,\"#9c179e\"],[0.4444444444444444,\"#bd3786\"],[0.5555555555555556,\"#d8576b\"],[0.6666666666666666,\"#ed7953\"],[0.7777777777777778,\"#fb9f3a\"],[0.8888888888888888,\"#fdca26\"],[1.0,\"#f0f921\"]],\"type\":\"contour\"}],\"contourcarpet\":[{\"colorbar\":{\"outlinewidth\":0,\"ticks\":\"\"},\"type\":\"contourcarpet\"}],\"heatmap\":[{\"colorbar\":{\"outlinewidth\":0,\"ticks\":\"\"},\"colorscale\":[[0.0,\"#0d0887\"],[0.1111111111111111,\"#46039f\"],[0.2222222222222222,\"#7201a8\"],[0.3333333333333333,\"#9c179e\"],[0.4444444444444444,\"#bd3786\"],[0.5555555555555556,\"#d8576b\"],[0.6666666666666666,\"#ed7953\"],[0.7777777777777778,\"#fb9f3a\"],[0.8888888888888888,\"#fdca26\"],[1.0,\"#f0f921\"]],\"type\":\"heatmap\"}],\"heatmapgl\":[{\"colorbar\":{\"outlinewidth\":0,\"ticks\":\"\"},\"colorscale\":[[0.0,\"#0d0887\"],[0.1111111111111111,\"#46039f\"],[0.2222222222222222,\"#7201a8\"],[0.3333333333333333,\"#9c179e\"],[0.4444444444444444,\"#bd3786\"],[0.5555555555555556,\"#d8576b\"],[0.6666666666666666,\"#ed7953\"],[0.7777777777777778,\"#fb9f3a\"],[0.8888888888888888,\"#fdca26\"],[1.0,\"#f0f921\"]],\"type\":\"heatmapgl\"}],\"histogram\":[{\"marker\":{\"pattern\":{\"fillmode\":\"overlay\",\"size\":10,\"solidity\":0.2}},\"type\":\"histogram\"}],\"histogram2d\":[{\"colorbar\":{\"outlinewidth\":0,\"ticks\":\"\"},\"colorscale\":[[0.0,\"#0d0887\"],[0.1111111111111111,\"#46039f\"],[0.2222222222222222,\"#7201a8\"],[0.3333333333333333,\"#9c179e\"],[0.4444444444444444,\"#bd3786\"],[0.5555555555555556,\"#d8576b\"],[0.6666666666666666,\"#ed7953\"],[0.7777777777777778,\"#fb9f3a\"],[0.8888888888888888,\"#fdca26\"],[1.0,\"#f0f921\"]],\"type\":\"histogram2d\"}],\"histogram2dcontour\":[{\"colorbar\":{\"outlinewidth\":0,\"ticks\":\"\"},\"colorscale\":[[0.0,\"#0d0887\"],[0.1111111111111111,\"#46039f\"],[0.2222222222222222,\"#7201a8\"],[0.3333333333333333,\"#9c179e\"],[0.4444444444444444,\"#bd3786\"],[0.5555555555555556,\"#d8576b\"],[0.6666666666666666,\"#ed7953\"],[0.7777777777777778,\"#fb9f3a\"],[0.8888888888888888,\"#fdca26\"],[1.0,\"#f0f921\"]],\"type\":\"histogram2dcontour\"}],\"mesh3d\":[{\"colorbar\":{\"outlinewidth\":0,\"ticks\":\"\"},\"type\":\"mesh3d\"}],\"parcoords\":[{\"line\":{\"colorbar\":{\"outlinewidth\":0,\"ticks\":\"\"}},\"type\":\"parcoords\"}],\"pie\":[{\"automargin\":true,\"type\":\"pie\"}],\"scatter\":[{\"marker\":{\"colorbar\":{\"outlinewidth\":0,\"ticks\":\"\"}},\"type\":\"scatter\"}],\"scatter3d\":[{\"line\":{\"colorbar\":{\"outlinewidth\":0,\"ticks\":\"\"}},\"marker\":{\"colorbar\":{\"outlinewidth\":0,\"ticks\":\"\"}},\"type\":\"scatter3d\"}],\"scattercarpet\":[{\"marker\":{\"colorbar\":{\"outlinewidth\":0,\"ticks\":\"\"}},\"type\":\"scattercarpet\"}],\"scattergeo\":[{\"marker\":{\"colorbar\":{\"outlinewidth\":0,\"ticks\":\"\"}},\"type\":\"scattergeo\"}],\"scattergl\":[{\"marker\":{\"colorbar\":{\"outlinewidth\":0,\"ticks\":\"\"}},\"type\":\"scattergl\"}],\"scattermapbox\":[{\"marker\":{\"colorbar\":{\"outlinewidth\":0,\"ticks\":\"\"}},\"type\":\"scattermapbox\"}],\"scatterpolar\":[{\"marker\":{\"colorbar\":{\"outlinewidth\":0,\"ticks\":\"\"}},\"type\":\"scatterpolar\"}],\"scatterpolargl\":[{\"marker\":{\"colorbar\":{\"outlinewidth\":0,\"ticks\":\"\"}},\"type\":\"scatterpolargl\"}],\"scatterternary\":[{\"marker\":{\"colorbar\":{\"outlinewidth\":0,\"ticks\":\"\"}},\"type\":\"scatterternary\"}],\"surface\":[{\"colorbar\":{\"outlinewidth\":0,\"ticks\":\"\"},\"colorscale\":[[0.0,\"#0d0887\"],[0.1111111111111111,\"#46039f\"],[0.2222222222222222,\"#7201a8\"],[0.3333333333333333,\"#9c179e\"],[0.4444444444444444,\"#bd3786\"],[0.5555555555555556,\"#d8576b\"],[0.6666666666666666,\"#ed7953\"],[0.7777777777777778,\"#fb9f3a\"],[0.8888888888888888,\"#fdca26\"],[1.0,\"#f0f921\"]],\"type\":\"surface\"}],\"table\":[{\"cells\":{\"fill\":{\"color\":\"#EBF0F8\"},\"line\":{\"color\":\"white\"}},\"header\":{\"fill\":{\"color\":\"#C8D4E3\"},\"line\":{\"color\":\"white\"}},\"type\":\"table\"}]},\"layout\":{\"annotationdefaults\":{\"arrowcolor\":\"#2a3f5f\",\"arrowhead\":0,\"arrowwidth\":1},\"autotypenumbers\":\"strict\",\"coloraxis\":{\"colorbar\":{\"outlinewidth\":0,\"ticks\":\"\"}},\"colorscale\":{\"diverging\":[[0,\"#8e0152\"],[0.1,\"#c51b7d\"],[0.2,\"#de77ae\"],[0.3,\"#f1b6da\"],[0.4,\"#fde0ef\"],[0.5,\"#f7f7f7\"],[0.6,\"#e6f5d0\"],[0.7,\"#b8e186\"],[0.8,\"#7fbc41\"],[0.9,\"#4d9221\"],[1,\"#276419\"]],\"sequential\":[[0.0,\"#0d0887\"],[0.1111111111111111,\"#46039f\"],[0.2222222222222222,\"#7201a8\"],[0.3333333333333333,\"#9c179e\"],[0.4444444444444444,\"#bd3786\"],[0.5555555555555556,\"#d8576b\"],[0.6666666666666666,\"#ed7953\"],[0.7777777777777778,\"#fb9f3a\"],[0.8888888888888888,\"#fdca26\"],[1.0,\"#f0f921\"]],\"sequentialminus\":[[0.0,\"#0d0887\"],[0.1111111111111111,\"#46039f\"],[0.2222222222222222,\"#7201a8\"],[0.3333333333333333,\"#9c179e\"],[0.4444444444444444,\"#bd3786\"],[0.5555555555555556,\"#d8576b\"],[0.6666666666666666,\"#ed7953\"],[0.7777777777777778,\"#fb9f3a\"],[0.8888888888888888,\"#fdca26\"],[1.0,\"#f0f921\"]]},\"colorway\":[\"#636efa\",\"#EF553B\",\"#00cc96\",\"#ab63fa\",\"#FFA15A\",\"#19d3f3\",\"#FF6692\",\"#B6E880\",\"#FF97FF\",\"#FECB52\"],\"font\":{\"color\":\"#2a3f5f\"},\"geo\":{\"bgcolor\":\"white\",\"lakecolor\":\"white\",\"landcolor\":\"#E5ECF6\",\"showlakes\":true,\"showland\":true,\"subunitcolor\":\"white\"},\"hoverlabel\":{\"align\":\"left\"},\"hovermode\":\"closest\",\"mapbox\":{\"style\":\"light\"},\"paper_bgcolor\":\"white\",\"plot_bgcolor\":\"#E5ECF6\",\"polar\":{\"angularaxis\":{\"gridcolor\":\"white\",\"linecolor\":\"white\",\"ticks\":\"\"},\"bgcolor\":\"#E5ECF6\",\"radialaxis\":{\"gridcolor\":\"white\",\"linecolor\":\"white\",\"ticks\":\"\"}},\"scene\":{\"xaxis\":{\"backgroundcolor\":\"#E5ECF6\",\"gridcolor\":\"white\",\"gridwidth\":2,\"linecolor\":\"white\",\"showbackground\":true,\"ticks\":\"\",\"zerolinecolor\":\"white\"},\"yaxis\":{\"backgroundcolor\":\"#E5ECF6\",\"gridcolor\":\"white\",\"gridwidth\":2,\"linecolor\":\"white\",\"showbackground\":true,\"ticks\":\"\",\"zerolinecolor\":\"white\"},\"zaxis\":{\"backgroundcolor\":\"#E5ECF6\",\"gridcolor\":\"white\",\"gridwidth\":2,\"linecolor\":\"white\",\"showbackground\":true,\"ticks\":\"\",\"zerolinecolor\":\"white\"}},\"shapedefaults\":{\"line\":{\"color\":\"#2a3f5f\"}},\"ternary\":{\"aaxis\":{\"gridcolor\":\"white\",\"linecolor\":\"white\",\"ticks\":\"\"},\"baxis\":{\"gridcolor\":\"white\",\"linecolor\":\"white\",\"ticks\":\"\"},\"bgcolor\":\"#E5ECF6\",\"caxis\":{\"gridcolor\":\"white\",\"linecolor\":\"white\",\"ticks\":\"\"}},\"title\":{\"x\":0.05},\"xaxis\":{\"automargin\":true,\"gridcolor\":\"white\",\"linecolor\":\"white\",\"ticks\":\"\",\"title\":{\"standoff\":15},\"zerolinecolor\":\"white\",\"zerolinewidth\":2},\"yaxis\":{\"automargin\":true,\"gridcolor\":\"white\",\"linecolor\":\"white\",\"ticks\":\"\",\"title\":{\"standoff\":15},\"zerolinecolor\":\"white\",\"zerolinewidth\":2}}},\"xaxis\":{\"title\":{\"text\":\"Birth\"},\"side\":\"bottom\",\"type\":\"linear\",\"range\":[-0.04,2.04],\"autorange\":false,\"ticks\":\"outside\",\"showline\":true,\"zeroline\":true,\"linewidth\":1,\"linecolor\":\"black\",\"mirror\":false,\"showexponent\":\"all\",\"exponentformat\":\"e\"},\"yaxis\":{\"title\":{\"text\":\"Death\"},\"side\":\"left\",\"type\":\"linear\",\"range\":[-0.04,2.04],\"autorange\":false,\"scaleanchor\":\"x\",\"scaleratio\":1,\"ticks\":\"outside\",\"showline\":true,\"zeroline\":true,\"linewidth\":1,\"linecolor\":\"black\",\"mirror\":false,\"showexponent\":\"all\",\"exponentformat\":\"e\"},\"width\":500,\"height\":500,\"plot_bgcolor\":\"white\"},                        {\"responsive\": true}                    ).then(function(){\n",
              "                            \n",
              "var gd = document.getElementById('df9afa0c-e3fe-49f9-901c-4aa0926a0d9c');\n",
              "var x = new MutationObserver(function (mutations, observer) {{\n",
              "        var display = window.getComputedStyle(gd).display;\n",
              "        if (!display || display === 'none') {{\n",
              "            console.log([gd, 'removed!']);\n",
              "            Plotly.purge(gd);\n",
              "            observer.disconnect();\n",
              "        }}\n",
              "}});\n",
              "\n",
              "// Listen for the removal of the full notebook cells\n",
              "var notebookContainer = gd.closest('#notebook-container');\n",
              "if (notebookContainer) {{\n",
              "    x.observe(notebookContainer, {childList: true});\n",
              "}}\n",
              "\n",
              "// Listen for the clearing of the current output cell\n",
              "var outputEl = gd.closest('.output');\n",
              "if (outputEl) {{\n",
              "    x.observe(outputEl, {childList: true});\n",
              "}}\n",
              "\n",
              "                        })                };                            </script>        </div>\n",
              "</body>\n",
              "</html>"
            ]
          },
          "metadata": {},
          "output_type": "display_data"
        }
      ],
      "source": [
        "# Get persistent diagram plot up to chosen homology dimension\n",
        "VietorisRipsPersistence.plot(diagram)"
      ]
    },
    {
      "cell_type": "code",
      "execution_count": null,
      "metadata": {
        "colab": {
          "base_uri": "https://localhost:8080/",
          "height": 81
        },
        "id": "bQRnnTa8cw9O",
        "outputId": "fc5ed376-6f8c-4c53-b7f2-67fb792c4f8f"
      },
      "outputs": [
        {
          "data": {
            "text/html": [
              "\n",
              "  <div id=\"df-c82e3340-b756-4138-99f3-224eb32c8c9b\">\n",
              "    <div class=\"colab-df-container\">\n",
              "      <div>\n",
              "<style scoped>\n",
              "    .dataframe tbody tr th:only-of-type {\n",
              "        vertical-align: middle;\n",
              "    }\n",
              "\n",
              "    .dataframe tbody tr th {\n",
              "        vertical-align: top;\n",
              "    }\n",
              "\n",
              "    .dataframe thead th {\n",
              "        text-align: right;\n",
              "    }\n",
              "</style>\n",
              "<table border=\"1\" class=\"dataframe\">\n",
              "  <thead>\n",
              "    <tr style=\"text-align: right;\">\n",
              "      <th></th>\n",
              "      <th>H0</th>\n",
              "      <th>H1</th>\n",
              "      <th>H2</th>\n",
              "      <th>H3</th>\n",
              "      <th>H4</th>\n",
              "      <th>H5</th>\n",
              "      <th>Sum</th>\n",
              "    </tr>\n",
              "  </thead>\n",
              "  <tbody>\n",
              "    <tr>\n",
              "      <th>Topological Features</th>\n",
              "      <td>14</td>\n",
              "      <td>0</td>\n",
              "      <td>64</td>\n",
              "      <td>0</td>\n",
              "      <td>0</td>\n",
              "      <td>0</td>\n",
              "      <td>78</td>\n",
              "    </tr>\n",
              "  </tbody>\n",
              "</table>\n",
              "</div>\n",
              "      <button class=\"colab-df-convert\" onclick=\"convertToInteractive('df-c82e3340-b756-4138-99f3-224eb32c8c9b')\"\n",
              "              title=\"Convert this dataframe to an interactive table.\"\n",
              "              style=\"display:none;\">\n",
              "        \n",
              "  <svg xmlns=\"http://www.w3.org/2000/svg\" height=\"24px\"viewBox=\"0 0 24 24\"\n",
              "       width=\"24px\">\n",
              "    <path d=\"M0 0h24v24H0V0z\" fill=\"none\"/>\n",
              "    <path d=\"M18.56 5.44l.94 2.06.94-2.06 2.06-.94-2.06-.94-.94-2.06-.94 2.06-2.06.94zm-11 1L8.5 8.5l.94-2.06 2.06-.94-2.06-.94L8.5 2.5l-.94 2.06-2.06.94zm10 10l.94 2.06.94-2.06 2.06-.94-2.06-.94-.94-2.06-.94 2.06-2.06.94z\"/><path d=\"M17.41 7.96l-1.37-1.37c-.4-.4-.92-.59-1.43-.59-.52 0-1.04.2-1.43.59L10.3 9.45l-7.72 7.72c-.78.78-.78 2.05 0 2.83L4 21.41c.39.39.9.59 1.41.59.51 0 1.02-.2 1.41-.59l7.78-7.78 2.81-2.81c.8-.78.8-2.07 0-2.86zM5.41 20L4 18.59l7.72-7.72 1.47 1.35L5.41 20z\"/>\n",
              "  </svg>\n",
              "      </button>\n",
              "      \n",
              "  <style>\n",
              "    .colab-df-container {\n",
              "      display:flex;\n",
              "      flex-wrap:wrap;\n",
              "      gap: 12px;\n",
              "    }\n",
              "\n",
              "    .colab-df-convert {\n",
              "      background-color: #E8F0FE;\n",
              "      border: none;\n",
              "      border-radius: 50%;\n",
              "      cursor: pointer;\n",
              "      display: none;\n",
              "      fill: #1967D2;\n",
              "      height: 32px;\n",
              "      padding: 0 0 0 0;\n",
              "      width: 32px;\n",
              "    }\n",
              "\n",
              "    .colab-df-convert:hover {\n",
              "      background-color: #E2EBFA;\n",
              "      box-shadow: 0px 1px 2px rgba(60, 64, 67, 0.3), 0px 1px 3px 1px rgba(60, 64, 67, 0.15);\n",
              "      fill: #174EA6;\n",
              "    }\n",
              "\n",
              "    [theme=dark] .colab-df-convert {\n",
              "      background-color: #3B4455;\n",
              "      fill: #D2E3FC;\n",
              "    }\n",
              "\n",
              "    [theme=dark] .colab-df-convert:hover {\n",
              "      background-color: #434B5C;\n",
              "      box-shadow: 0px 1px 3px 1px rgba(0, 0, 0, 0.15);\n",
              "      filter: drop-shadow(0px 1px 2px rgba(0, 0, 0, 0.3));\n",
              "      fill: #FFFFFF;\n",
              "    }\n",
              "  </style>\n",
              "\n",
              "      <script>\n",
              "        const buttonEl =\n",
              "          document.querySelector('#df-c82e3340-b756-4138-99f3-224eb32c8c9b button.colab-df-convert');\n",
              "        buttonEl.style.display =\n",
              "          google.colab.kernel.accessAllowed ? 'block' : 'none';\n",
              "\n",
              "        async function convertToInteractive(key) {\n",
              "          const element = document.querySelector('#df-c82e3340-b756-4138-99f3-224eb32c8c9b');\n",
              "          const dataTable =\n",
              "            await google.colab.kernel.invokeFunction('convertToInteractive',\n",
              "                                                     [key], {});\n",
              "          if (!dataTable) return;\n",
              "\n",
              "          const docLinkHtml = 'Like what you see? Visit the ' +\n",
              "            '<a target=\"_blank\" href=https://colab.research.google.com/notebooks/data_table.ipynb>data table notebook</a>'\n",
              "            + ' to learn more about interactive tables.';\n",
              "          element.innerHTML = '';\n",
              "          dataTable['output_type'] = 'display_data';\n",
              "          await google.colab.output.renderOutput(dataTable, element);\n",
              "          const docLink = document.createElement('div');\n",
              "          docLink.innerHTML = docLinkHtml;\n",
              "          element.appendChild(docLink);\n",
              "        }\n",
              "      </script>\n",
              "    </div>\n",
              "  </div>\n",
              "  "
            ],
            "text/plain": [
              "                      H0  H1  H2  H3  H4  H5  Sum\n",
              "Topological Features  14   0  64   0   0   0   78"
            ]
          },
          "execution_count": 32,
          "metadata": {},
          "output_type": "execute_result"
        }
      ],
      "source": [
        "# Extract total number of topological features per homology dimension\n",
        "table = pd.DataFrame((NumberOfPoints(n_jobs=-1).fit_transform(diagram)),\n",
        "                     columns=['H0', 'H1', 'H2', 'H3', 'H4', 'H5'], index=['Topological Features'])\n",
        "pd.set_option('display.max_rows', None)\n",
        "table.insert(6, \"Sum\", table.sum(1))\n",
        "table"
      ]
    },
    {
      "cell_type": "markdown",
      "metadata": {
        "id": "bUE5z_trnFqn"
      },
      "source": [
        "*Estimate Cost & Auxiliary Functions*\n",
        "\n",
        "> $T_q=\\widetilde{\\mathcal{O}}\\left(\\frac{n|E|}{r \\lambda_{\\min }} \\sqrt{\\frac{1}{\\beta_{k-1}}\\left(\\begin{array}{l}n \\\\ k\\end{array}\\right)}\\right)$ $\\quad$ (equation 59)"
      ]
    },
    {
      "cell_type": "code",
      "execution_count": null,
      "metadata": {
        "id": "GIjhJESSvdLf"
      },
      "outputs": [],
      "source": [
        "def classical_cost(n, E, r, gap, k, betti_k_minus_one):\n",
        "  \"\"\"Calculates Toffoli count given parameters to the TDA algorithm.\n",
        "  Args:\n",
        "    n: number of vertices\n",
        "    E: number of edges\n",
        "    gap: difference between lowest and second lowest eigenvalue of the k-th\n",
        "      order combinatorial Laplacian\n",
        "    k: order of Betti number\n",
        "    betti_k_minus_one: Betti number of order k-1\n",
        "\n",
        "  Returns:\n",
        "    Toffoli count\n",
        "  \"\"\"\n",
        "  return n * E * np.sqrt(comb(n, k) / betti_k_minus_one) / (r * gap)"
      ]
    },
    {
      "cell_type": "code",
      "execution_count": null,
      "metadata": {
        "id": "3G3g8TW7ISeK"
      },
      "outputs": [],
      "source": [
        "def get_cliques_of_size(G, k):\n",
        "  \"\"\"Gets cliques of a graph.\n",
        "  Args:\n",
        "    G: `nx.Graph` problem graph\n",
        "    k: order of Betti number being estimated\n",
        "\n",
        "  Returns:\n",
        "    A 3-tuple of `list`, respectively the cliques of size k-1, k and k+1\n",
        "  \"\"\"\n",
        "  all_cliques = list(nx.enumerate_all_cliques(G))\n",
        "  lower_cliques = list(filter(lambda x: len(x) == k-1, all_cliques))\n",
        "  cliques = list(filter(lambda x: len(x) == k, all_cliques))\n",
        "  upper_cliques = list(filter(lambda x: len(x) == k+1, all_cliques))\n",
        "\n",
        "  return lower_cliques, cliques, upper_cliques"
      ]
    },
    {
      "cell_type": "code",
      "execution_count": null,
      "metadata": {
        "id": "M5WEPFfeIUwy"
      },
      "outputs": [],
      "source": [
        "def is_upper_clique(clique, upper_clique):\n",
        "  \"\"\"Decides if two cliques are adjacent. They have to have difference 1 in size.\n",
        "  Args:\n",
        "    clique: the smaller clique\n",
        "    upper_clique: the larger clique\n",
        "\n",
        "  Returns:\n",
        "    Whether upper_clique is clique appended by one number\n",
        "  \"\"\"\n",
        "  return (len(upper_clique) - len(clique) == 1) and (len(set(upper_clique) - set(clique)) == 1)"
      ]
    },
    {
      "cell_type": "code",
      "execution_count": null,
      "metadata": {
        "id": "bpO4D5jtIYNe"
      },
      "outputs": [],
      "source": [
        "def get_number_of_upper_cliques(clique, upper_cliques):\n",
        "  \"\"\"Gets number of upper cliques a clique has.\n",
        "  Args:\n",
        "    clique: the clique\n",
        "    upper_cliques: a list with cliques of size 1 larger than clique\n",
        "\n",
        "  Returns:\n",
        "    The number of cliques in upper_cliques that are upper to clique.\n",
        "  \"\"\"\n",
        "  total = 0\n",
        "  for upper_clique in upper_cliques:\n",
        "    if is_upper_clique(clique, upper_clique):\n",
        "      total +=1\n",
        "\n",
        "  return total"
      ]
    },
    {
      "cell_type": "code",
      "execution_count": null,
      "metadata": {
        "id": "uAlzt7ipIbUT"
      },
      "outputs": [],
      "source": [
        "def lower_not_upper_similarity(clique1, clique2, lower_cliques, upper_cliques):\n",
        "  \"\"\"Calculates off-diagonal entries of combinatorial Laplacian.\n",
        "\n",
        "  Args:\n",
        "    clique1: k-clique indexing the row\n",
        "    clique2: k-clique indexing the column\n",
        "    lower_cliques: `list` of (k-1)-cliques\n",
        "    upper_cliques: `list` of (k+1)-cliques\n",
        "\n",
        "  Returns:\n",
        "    The off-diagonal entry at coordinate (clique1, clique2).\n",
        "  \"\"\"\n",
        "  # have common upper?\n",
        "  for upper_clique in upper_cliques:\n",
        "    if is_upper_clique(clique1, upper_clique) and is_upper_clique(clique2, upper_clique):\n",
        "      return 0\n",
        "\n",
        "  # don't have common upper\n",
        "  # have common lower?\n",
        "\n",
        "  # NEW CODE\n",
        "  # clique1 and clique2 are lower similar if and only if they differ on exactly one vertex\n",
        "  # Sign is given by the parity of the number of different elements: odd --> +1, even --> -1\n",
        "  if len(set(clique1).difference(set(clique2)))==1:\n",
        "    return 2 * (np.count_nonzero(np.array(clique1) - np.array(clique2)) % 2) - 1\n",
        "\n",
        "  # OLD CODE\n",
        "  '''\n",
        "  for lower_clique in lower_cliques:\n",
        "    if is_upper_clique(lower_clique, clique1) and is_upper_clique(lower_clique, clique2):\n",
        "     # have a common lower. Need to find similarity.\n",
        "\n",
        "     diff_inds = []\n",
        "     diff_elems1 = list(set(clique1) - set(clique2))\n",
        "     diff_inds.append(clique1.index(diff_elems1[0]))\n",
        "\n",
        "     diff_elems2 = list(set(clique2) - set(clique1))\n",
        "     diff_inds.append(clique2.index(diff_elems2[0]))\n",
        "\n",
        "     if len(diff_inds) == 1:\n",
        "       sign = 0\n",
        "     else:\n",
        "       sign = ((diff_inds[1] - diff_inds[0]) % 2)\n",
        "\n",
        "     return (-1) ** sign\n",
        "  '''\n",
        "\n",
        "  # don't have common lower\n",
        "  return 0"
      ]
    },
    {
      "cell_type": "code",
      "execution_count": null,
      "metadata": {
        "id": "SpM8TdXCIdV2"
      },
      "outputs": [],
      "source": [
        "### THIS IS ACTUALLY COMPUTING THE ORDER (k-1)\n",
        "# returns the combinatorial Laplacian of order k of a graph\n",
        "def get_laplacian(G, k):\n",
        "  \"\"\"Computes the k-th order Laplacian of a graph G using theorem 3.3.4 in\n",
        "  http://www2.stat.duke.edu/~sayan/forkate/CombinatorialLaplacians.pdf.\n",
        "\n",
        "  Args:\n",
        "    G: `nx.Graph` input graph\n",
        "    k: order of Betti number to be estimated\n",
        "\n",
        "  Returns:\n",
        "    The matrix of such combinatorial Laplacian.\n",
        "  \"\"\"\n",
        "  # standard Laplacian\n",
        "  if k==0:\n",
        "    return nx.laplacian_matrix(G)\n",
        "\n",
        "  #k += 1\n",
        "  lower_cliques, cliques, upper_cliques = get_cliques_of_size(G, k)\n",
        "\n",
        "  n_cliques = len(cliques)\n",
        "  laplacian = np.zeros((n_cliques, n_cliques))\n",
        "  for (row, clique_row) in enumerate(cliques):\n",
        "    for (column, clique_column) in enumerate(cliques):\n",
        "      # diagonal\n",
        "      if row == column:\n",
        "        #laplacian[row][column] = k + 1 + get_number_of_upper_cliques(clique_row, upper_cliques)\n",
        "        laplacian[row][column] = k + get_number_of_upper_cliques(clique_row, upper_cliques)\n",
        "\n",
        "      # off-diagonals\n",
        "      else:\n",
        "        laplacian[row][column] = lower_not_upper_similarity(clique_row, clique_column, lower_cliques, upper_cliques)\n",
        "\n",
        "  return laplacian"
      ]
    },
    {
      "cell_type": "code",
      "execution_count": null,
      "metadata": {
        "id": "HvYpl80EI-VF"
      },
      "outputs": [],
      "source": [
        "def get_laplacian_spectrum(G, k):\n",
        "  \"\"\"Computes the eigenvalue spectrum of the k-th order Laplacian of a graph G\n",
        "\n",
        "  Args:\n",
        "    G: `nx.Graph` input graph\n",
        "    k: order of the Betti number being estimated\n",
        "\n",
        "  Returns:\n",
        "    `list` of eigenvalues\n",
        "  \"\"\"\n",
        "  laplacian = get_laplacian(G, k)\n",
        "  eigvals = np.linalg.eigvals(laplacian)\n",
        "  eigvals = np.sort(eigvals)\n",
        "\n",
        "  return eigvals"
      ]
    },
    {
      "cell_type": "code",
      "execution_count": null,
      "metadata": {
        "id": "YIFc_rksJAAQ"
      },
      "outputs": [],
      "source": [
        "# calculates combinatorial laplacian gap of a graph G at order k as well as the\n",
        "# number of zero eigenvalues\n",
        "def get_laplacian_info(G, k):\n",
        "  \"\"\"Computes the difference between the second lowest and lowest eigenvalues\n",
        "  of the k-th order Laplacian of a graph G\n",
        "\n",
        "  Args:\n",
        "    G: `nx.Graph` input graph\n",
        "    k: order of the Betti number being estimated\n",
        "\n",
        "  Returns:\n",
        "    The gap of the Laplacian and the number of zero eigenvalues.\n",
        "  \"\"\"\n",
        "  '''\n",
        "  laplacian = get_laplacian(G, k)\n",
        "  eigvals = np.linalg.eigvals(laplacian)\n",
        "  '''\n",
        "  eigvals = get_laplacian_spectrum(G, k)\n",
        "  eigvals = list(map(lambda x: 0 if np.abs(x) < 0.000000000001 else x, list(eigvals)))\n",
        "\n",
        "  betti_number = eigvals.count(0)\n",
        "\n",
        "  eigvals = np.unique(eigvals)\n",
        "\n",
        "  return eigvals[1] - eigvals[0], betti_number"
      ]
    },
    {
      "cell_type": "code",
      "execution_count": null,
      "metadata": {
        "id": "lbqK8LRUJC2_"
      },
      "outputs": [],
      "source": [
        "# Cost function\n",
        "\n",
        "def generate_plots(ns, ks):\n",
        "  \"\"\"Generates plots of combinatorial laplacian gap, betti number and number\n",
        "  of Toffolis for a combination of n's and k's.\n",
        "\n",
        "  Args:\n",
        "    ns: `list` of `int` of n's\n",
        "    ks: `list` of `int` of n's\n",
        "  \"\"\"\n",
        "  n_samples = 50\n",
        "  gaps = [[] for _ in range(len(ks))]\n",
        "  gap_stds = [[] for _ in range(len(ks))]\n",
        "  bettis = [[] for _ in range(len(ks))]\n",
        "  betti_stds = [[] for _ in range(len(ks))]\n",
        "  costs = [[] for _ in range(len(ks))]\n",
        "  cost_stds = [[] for _ in range(len(ks))]\n",
        "\n",
        "  for k_ind, k in enumerate(ks):\n",
        "    for n in ns:\n",
        "#      p = n ** (- (2 * k + 1)/float(2 * k * (k + 1)))\n",
        "      betti_samples = []\n",
        "      cost_samples = []\n",
        "      gap_samples = []\n",
        "\n",
        "      # Subsets of complete multipartite graph with 5 nodes each:\n",
        "      subsets = [(5)for i in range(int(n/5))]\n",
        "\n",
        "      for ind in range(n_samples):\n",
        "        print(f'(k, n, sample) = ({k}, {n}, {ind})')\n",
        "\n",
        "        # Get graph for different sizes of n\n",
        "        G = nx.complete_multipartite_graph(*subsets)\n",
        "\n",
        "#       G = nx.erdos_renyi_graph(n, p)\n",
        "\n",
        "        gap, betti_number = get_laplacian_info(G, k)\n",
        "        betti_samples.append(betti_number)\n",
        "        gap_samples.append(gap)\n",
        "        cost_samples.append(classical_cost(n, G.number_of_edges(), 0.05, gap, k, betti_number))\n",
        "\n",
        "      cost_avg = sum(cost_samples) / n_samples\n",
        "      betti_avg = sum(betti_samples) / float(n_samples)\n",
        "      gap_avg = sum(gap_samples) / n_samples\n",
        "\n",
        "      cost_std = statistics.stdev(np.real(cost_samples))\n",
        "      betti_std = statistics.stdev(np.real(betti_samples))\n",
        "      gap_std = statistics.stdev(np.real(gap_samples))\n",
        "\n",
        "      costs[k_ind].append(cost_avg)\n",
        "      bettis[k_ind].append(betti_avg)\n",
        "      gaps[k_ind].append(gap_avg)\n",
        "\n",
        "      cost_stds[k_ind].append(cost_std)\n",
        "      betti_stds[k_ind].append(betti_std)\n",
        "      gap_stds[k_ind].append(gap_std)\n",
        "\n",
        "  fig = plt.figure(figsize=(20, 10))\n",
        "\n",
        "  #fig.subplots_adjust(hspace=0.4, wspace=0.4)\n",
        "\n",
        "  ax_costs = fig.add_subplot(1,3,1)\n",
        "  for k_ind, k in enumerate(ks):\n",
        "    ax_costs.scatter(ns, costs[k_ind])\n",
        "    ax_costs.set_xlabel('n')\n",
        "    ax_costs.set_ylabel('number of Toffolis')\n",
        "    ax_costs.errorbar(ns, costs[k_ind], yerr=cost_stds[k_ind])\n",
        "  ax_costs.legend([f'$k = {k}$' for k in ks])\n",
        "\n",
        "  ax_gaps = fig.add_subplot(1,3,2)\n",
        "  for k_ind, k in enumerate(ks):\n",
        "    ax_gaps.scatter(ns, gaps[k_ind])\n",
        "    ax_gaps.set_xlabel('n')\n",
        "    ax_gaps.set_ylabel('Gap')\n",
        "    ax_gaps.errorbar(ns, gaps[k_ind], yerr=gap_stds[k_ind])\n",
        "  ax_gaps.legend([f'$k = {k}$' for k in ks])\n",
        "\n",
        "  ax_bettis = fig.add_subplot(1,3,3)\n",
        "  for k_ind, k in enumerate(ks):\n",
        "    ax_bettis.scatter(ns, bettis[k_ind])\n",
        "    ax_bettis.set_xlabel('n')\n",
        "    ax_bettis.set_ylabel('Betti number')\n",
        "    ax_bettis.errorbar(ns, bettis[k_ind], yerr=betti_stds[k_ind])\n",
        "  ax_bettis.legend([f'$k = {k}$' for k in ks])\n",
        "\n",
        "  plt.tight_layout()\n",
        "  plt.subplots_adjust()\n",
        "  plt.show()"
      ]
    },
    {
      "cell_type": "code",
      "execution_count": null,
      "metadata": {
        "id": "ArPWM_cUxR2o",
        "colab": {
          "base_uri": "https://localhost:8080/"
        },
        "outputId": "2773c383-663e-4f10-b5b2-032957712a6b"
      },
      "outputs": [
        {
          "output_type": "stream",
          "name": "stdout",
          "text": [
            "(k, n, sample) = (1, 20, 0)\n",
            "(k, n, sample) = (1, 20, 1)\n",
            "(k, n, sample) = (1, 20, 2)\n",
            "(k, n, sample) = (1, 20, 3)\n",
            "(k, n, sample) = (1, 20, 4)\n",
            "(k, n, sample) = (1, 20, 5)\n"
          ]
        },
        {
          "output_type": "stream",
          "name": "stderr",
          "text": [
            "/usr/local/lib/python3.7/dist-packages/ipykernel_launcher.py:14: RuntimeWarning: divide by zero encountered in double_scalars\n",
            "  \n"
          ]
        },
        {
          "output_type": "stream",
          "name": "stdout",
          "text": [
            "(k, n, sample) = (1, 20, 6)\n",
            "(k, n, sample) = (1, 20, 7)\n",
            "(k, n, sample) = (1, 20, 8)\n",
            "(k, n, sample) = (1, 20, 9)\n",
            "(k, n, sample) = (1, 20, 10)\n",
            "(k, n, sample) = (1, 20, 11)\n",
            "(k, n, sample) = (1, 20, 12)\n",
            "(k, n, sample) = (1, 20, 13)\n",
            "(k, n, sample) = (1, 20, 14)\n",
            "(k, n, sample) = (1, 20, 15)\n",
            "(k, n, sample) = (1, 20, 16)\n",
            "(k, n, sample) = (1, 20, 17)\n",
            "(k, n, sample) = (1, 20, 18)\n",
            "(k, n, sample) = (1, 20, 19)\n",
            "(k, n, sample) = (1, 20, 20)\n",
            "(k, n, sample) = (1, 20, 21)\n",
            "(k, n, sample) = (1, 20, 22)\n",
            "(k, n, sample) = (1, 20, 23)\n",
            "(k, n, sample) = (1, 20, 24)\n",
            "(k, n, sample) = (1, 20, 25)\n",
            "(k, n, sample) = (1, 20, 26)\n",
            "(k, n, sample) = (1, 20, 27)\n",
            "(k, n, sample) = (1, 20, 28)\n",
            "(k, n, sample) = (1, 20, 29)\n",
            "(k, n, sample) = (1, 20, 30)\n",
            "(k, n, sample) = (1, 20, 31)\n",
            "(k, n, sample) = (1, 20, 32)\n",
            "(k, n, sample) = (1, 20, 33)\n",
            "(k, n, sample) = (1, 20, 34)\n",
            "(k, n, sample) = (1, 20, 35)\n",
            "(k, n, sample) = (1, 20, 36)\n",
            "(k, n, sample) = (1, 20, 37)\n",
            "(k, n, sample) = (1, 20, 38)\n",
            "(k, n, sample) = (1, 20, 39)\n",
            "(k, n, sample) = (1, 20, 40)\n",
            "(k, n, sample) = (1, 20, 41)\n",
            "(k, n, sample) = (1, 20, 42)\n",
            "(k, n, sample) = (1, 20, 43)\n",
            "(k, n, sample) = (1, 20, 44)\n",
            "(k, n, sample) = (1, 20, 45)\n",
            "(k, n, sample) = (1, 20, 46)\n",
            "(k, n, sample) = (1, 20, 47)\n",
            "(k, n, sample) = (1, 20, 48)\n",
            "(k, n, sample) = (1, 20, 49)\n",
            "(k, n, sample) = (2, 20, 0)\n"
          ]
        },
        {
          "output_type": "stream",
          "name": "stderr",
          "text": [
            "/usr/local/lib/python3.7/dist-packages/ipykernel_launcher.py:14: RuntimeWarning: invalid value encountered in true_divide\n",
            "  \n"
          ]
        },
        {
          "output_type": "stream",
          "name": "stdout",
          "text": [
            "(k, n, sample) = (2, 20, 1)\n",
            "(k, n, sample) = (2, 20, 2)\n",
            "(k, n, sample) = (2, 20, 3)\n",
            "(k, n, sample) = (2, 20, 4)\n",
            "(k, n, sample) = (2, 20, 5)\n",
            "(k, n, sample) = (2, 20, 6)\n"
          ]
        }
      ],
      "source": [
        "generate_plots([20], [1, 2])"
      ]
    },
    {
      "cell_type": "markdown",
      "source": [
        "### *Quantum TDA Test Run*"
      ],
      "metadata": {
        "id": "NH0omEkd2Qiu"
      }
    },
    {
      "cell_type": "code",
      "execution_count": null,
      "metadata": {
        "id": "MW4oFo6TnhDP"
      },
      "outputs": [],
      "source": [
        "def quantum_cost(n, E, r, gap, k, betti_k_minus_one):\n",
        "  \"\"\"Calculates Toffoli count given parameters to the TDA algorithm.\n",
        "  Args:\n",
        "    n: number of vertices\n",
        "    E: number of edges\n",
        "    gap: difference between lowest and second lowest eigenvalue of the k-th\n",
        "      order combinatorial Laplacian\n",
        "    k: order of Betti number\n",
        "    betti_k_minus_one: Betti number of order k-1\n",
        "\n",
        "  Returns:\n",
        "    Toffoli count\n",
        "  \"\"\"\n",
        "  return n * E * np.sqrt(comb(n, k) / betti_k_minus_one) / (r * gap)"
      ]
    },
    {
      "cell_type": "code",
      "execution_count": null,
      "metadata": {
        "id": "IiBy1qfVeqGk"
      },
      "outputs": [],
      "source": [
        "def get_cliques_of_size(G, k):\n",
        "  \"\"\"Gets cliques of a graph.\n",
        "  Args:\n",
        "    G: `nx.Graph` problem graph\n",
        "    k: order of Betti number being estimated\n",
        "\n",
        "  Returns:\n",
        "    A 3-tuple of `list`, respectively the cliques of size k-1, k and k+1\n",
        "  \"\"\"\n",
        "  all_cliques = list(nx.enumerate_all_cliques(G))\n",
        "  lower_cliques = list(filter(lambda x: len(x) == k-1, all_cliques))\n",
        "  cliques = list(filter(lambda x: len(x) == k, all_cliques))\n",
        "  upper_cliques = list(filter(lambda x: len(x) == k+1, all_cliques))\n",
        "\n",
        "  return lower_cliques, cliques, upper_cliques"
      ]
    },
    {
      "cell_type": "code",
      "execution_count": null,
      "metadata": {
        "id": "mAUEFvVTijDK"
      },
      "outputs": [],
      "source": [
        "def is_upper_clique(clique, upper_clique):\n",
        "  \"\"\"Decides if two cliques are adjacent. They have to have difference 1 in size.\n",
        "  Args:\n",
        "    clique: the smaller clique\n",
        "    upper_clique: the larger clique\n",
        "\n",
        "  Returns:\n",
        "    Whether upper_clique is clique appended by one number\n",
        "  \"\"\"\n",
        "  return (len(upper_clique) - len(clique) == 1) and (len(set(upper_clique) - set(clique)) == 1)"
      ]
    },
    {
      "cell_type": "code",
      "execution_count": null,
      "metadata": {
        "id": "BrDeFhFtjMf1"
      },
      "outputs": [],
      "source": [
        "def get_number_of_upper_cliques(clique, upper_cliques):\n",
        "  \"\"\"Gets number of upper cliques a clique has.\n",
        "  Args:\n",
        "    clique: the clique\n",
        "    upper_cliques: a list with cliques of size 1 larger than clique\n",
        "\n",
        "  Returns:\n",
        "    The number of cliques in upper_cliques that are upper to clique.\n",
        "  \"\"\"\n",
        "  total = 0\n",
        "  for upper_clique in upper_cliques:\n",
        "    if is_upper_clique(clique, upper_clique):\n",
        "      total +=1\n",
        "\n",
        "  return total"
      ]
    },
    {
      "cell_type": "code",
      "execution_count": null,
      "metadata": {
        "id": "Vo4LGDUqjiGx"
      },
      "outputs": [],
      "source": [
        "def lower_not_upper_similarity(clique1, clique2, lower_cliques, upper_cliques):\n",
        "  \"\"\"Calculates off-diagonal entries of combinatorial Laplacian.\n",
        "\n",
        "  Args:\n",
        "    clique1: k-clique indexing the row\n",
        "    clique2: k-clique indexing the column\n",
        "    lower_cliques: `list` of (k-1)-cliques\n",
        "    upper_cliques: `list` of (k+1)-cliques\n",
        "\n",
        "  Returns:\n",
        "    The off-diagonal entry at coordinate (clique1, clique2).\n",
        "  \"\"\"\n",
        "  # have common upper?\n",
        "  for upper_clique in upper_cliques:\n",
        "    if is_upper_clique(clique1, upper_clique) and is_upper_clique(clique2, upper_clique):\n",
        "      return 0\n",
        "\n",
        "  # don't have common upper\n",
        "  # have common lower?\n",
        "\n",
        "  # NEW CODE\n",
        "  # clique1 and clique2 are lower similar if and only if they differ on exactly one vertex\n",
        "  # Sign is given by the parity of the number of different elements: odd --> +1, even --> -1\n",
        "  if len(set(clique1).difference(set(clique2)))==1:\n",
        "    return 2 * (np.count_nonzero(np.array(clique1) - np.array(clique2)) % 2) - 1\n",
        "\n",
        "  # OLD CODE\n",
        "  '''\n",
        "  for lower_clique in lower_cliques:\n",
        "    if is_upper_clique(lower_clique, clique1) and is_upper_clique(lower_clique, clique2):\n",
        "     # have a common lower. Need to find similarity.\n",
        "\n",
        "     diff_inds = []\n",
        "     diff_elems1 = list(set(clique1) - set(clique2))\n",
        "     diff_inds.append(clique1.index(diff_elems1[0]))\n",
        "\n",
        "     diff_elems2 = list(set(clique2) - set(clique1))\n",
        "     diff_inds.append(clique2.index(diff_elems2[0]))\n",
        "\n",
        "     if len(diff_inds) == 1:\n",
        "       sign = 0\n",
        "     else:\n",
        "       sign = ((diff_inds[1] - diff_inds[0]) % 2)\n",
        "\n",
        "     return (-1) ** sign\n",
        "  '''\n",
        "\n",
        "  # don't have common lower\n",
        "  return 0"
      ]
    },
    {
      "cell_type": "code",
      "execution_count": null,
      "metadata": {
        "id": "JFE0ao-KdXdI"
      },
      "outputs": [],
      "source": [
        "### THIS IS ACTUALLY COMPUTING THE ORDER (k-1)\n",
        "# returns the combinatorial Laplacian of order k of a graph\n",
        "def get_laplacian(G, k):\n",
        "  \"\"\"Computes the k-th order Laplacian of a graph G using theorem 3.3.4 in\n",
        "  http://www2.stat.duke.edu/~sayan/forkate/CombinatorialLaplacians.pdf.\n",
        "\n",
        "  Args:\n",
        "    G: `nx.Graph` input graph\n",
        "    k: order of Betti number to be estimated\n",
        "\n",
        "  Returns:\n",
        "    The matrix of such combinatorial Laplacian.\n",
        "  \"\"\"\n",
        "  # standard Laplacian\n",
        "  if k==0:\n",
        "    return nx.laplacian_matrix(G)\n",
        "\n",
        "  #k += 1\n",
        "  lower_cliques, cliques, upper_cliques = get_cliques_of_size(G, k)\n",
        "\n",
        "  n_cliques = len(cliques)\n",
        "  laplacian = np.zeros((n_cliques, n_cliques))\n",
        "  for (row, clique_row) in enumerate(cliques):\n",
        "    for (column, clique_column) in enumerate(cliques):\n",
        "      # diagonal\n",
        "      if row == column:\n",
        "        #laplacian[row][column] = k + 1 + get_number_of_upper_cliques(clique_row, upper_cliques)\n",
        "        laplacian[row][column] = k + get_number_of_upper_cliques(clique_row, upper_cliques)\n",
        "\n",
        "      # off-diagonals\n",
        "      else:\n",
        "        laplacian[row][column] = lower_not_upper_similarity(clique_row, clique_column, lower_cliques, upper_cliques)\n",
        "\n",
        "  return laplacian"
      ]
    },
    {
      "cell_type": "code",
      "execution_count": null,
      "metadata": {
        "id": "yEPS73pSTcH_"
      },
      "outputs": [],
      "source": [
        "def get_laplacian_spectrum(G, k):\n",
        "  \"\"\"Computes the eigenvalue spectrum of the k-th order Laplacian of a graph G\n",
        "\n",
        "  Args:\n",
        "    G: `nx.Graph` input graph\n",
        "    k: order of the Betti number being estimated\n",
        "\n",
        "  Returns:\n",
        "    `list` of eigenvalues\n",
        "  \"\"\"\n",
        "  laplacian = get_laplacian(G, k)\n",
        "  eigvals = np.linalg.eigvals(laplacian)\n",
        "  eigvals = np.sort(eigvals)\n",
        "\n",
        "  return eigvals"
      ]
    },
    {
      "cell_type": "code",
      "execution_count": null,
      "metadata": {
        "id": "V1iz80gu5_f9"
      },
      "outputs": [],
      "source": [
        "# calculates combinatorial laplacian gap of a graph G at order k as well as the\n",
        "# number of zero eigenvalues\n",
        "def get_laplacian_info(G, k):\n",
        "  \"\"\"Computes the difference between the second lowest and lowest eigenvalues\n",
        "  of the k-th order Laplacian of a graph G\n",
        "\n",
        "  Args:\n",
        "    G: `nx.Graph` input graph\n",
        "    k: order of the Betti number being estimated\n",
        "\n",
        "  Returns:\n",
        "    The gap of the Laplacian and the number of zero eigenvalues.\n",
        "  \"\"\"\n",
        "  '''\n",
        "  laplacian = get_laplacian(G, k)\n",
        "  eigvals = np.linalg.eigvals(laplacian)\n",
        "  '''\n",
        "  eigvals = get_laplacian_spectrum(G, k)\n",
        "  eigvals = list(map(lambda x: 0 if np.abs(x) < 0.000000000001 else x, list(eigvals)))\n",
        "\n",
        "  betti_number = eigvals.count(0)\n",
        "\n",
        "  eigvals = np.unique(eigvals)\n",
        "\n",
        "  return eigvals[1] - eigvals[0], betti_number"
      ]
    },
    {
      "cell_type": "code",
      "source": [
        "#@title\n",
        "# old code with non log data\n",
        "\n",
        "def generate_plots(ns, ks):\n",
        "  \"\"\"Generates plots of combinatorial laplacian gap, betti number and number\n",
        "  of Toffolis for a combination of n's and k's.\n",
        "\n",
        "  Args:\n",
        "    ns: `list` of `int` of n's\n",
        "    ks: `list` of `int` of n's\n",
        "  \"\"\"\n",
        "  n_samples = 3000\n",
        "  gaps = [[] for _ in range(len(ks))]\n",
        "  gap_stds = [[] for _ in range(len(ks))]\n",
        "  bettis = [[] for _ in range(len(ks))]\n",
        "  betti_stds = [[] for _ in range(len(ks))]\n",
        "  costs = [[] for _ in range(len(ks))]\n",
        "  cost_stds = [[] for _ in range(len(ks))]\n",
        "\n",
        "  for k_ind, k in enumerate(ks):\n",
        "    for n in ns:\n",
        "      p = n ** (- (2 * k + 1)/float(2 * k * (k + 1)))\n",
        "      betti_samples = []\n",
        "      cost_samples = []\n",
        "      gap_samples = []\n",
        "      for ind in range(n_samples):\n",
        "        print(f'(k, n, sample) = ({k}, {n}, {ind})')\n",
        "        G = nx.erdos_renyi_graph(n, p)\n",
        "        gap, betti_number = get_laplacian_info(G, k)\n",
        "        betti_samples.append(betti_number)\n",
        "        gap_samples.append(gap)\n",
        "        cost_samples.append(quantum_cost(n, G.number_of_edges(), 0.05, gap, k, betti_number))\n",
        "\n",
        "      cost_avg = sum(cost_samples) / n_samples\n",
        "      betti_avg = sum(betti_samples) / float(n_samples)\n",
        "      gap_avg = sum(gap_samples) / n_samples\n",
        "\n",
        "      cost_std = statistics.stdev(np.real(cost_samples))\n",
        "      betti_std = statistics.stdev(np.real(betti_samples))\n",
        "      gap_std = statistics.stdev(np.real(gap_samples))\n",
        "\n",
        "      costs[k_ind].append(cost_avg)\n",
        "      bettis[k_ind].append(betti_avg)\n",
        "      gaps[k_ind].append(gap_avg)\n",
        "\n",
        "      cost_stds[k_ind].append(cost_std)\n",
        "      betti_stds[k_ind].append(betti_std)\n",
        "      gap_stds[k_ind].append(gap_std)\n",
        "\n",
        "  fig = plt.figure(figsize=(20, 10))\n",
        "\n",
        "  #fig.subplots_adjust(hspace=0.4, wspace=0.4)\n",
        "\n",
        "  ax_costs = fig.add_subplot(1,3,1)\n",
        "  for k_ind, k in enumerate(ks):\n",
        "    ax_costs.scatter(ns, costs[k_ind])\n",
        "    ax_costs.set_xlabel('n')\n",
        "    ax_costs.set_ylabel('number of Toffolis')\n",
        "    ax_costs.errorbar(ns, costs[k_ind], yerr=cost_stds[k_ind])\n",
        "  ax_costs.legend([f'$k = {k}$' for k in ks])\n",
        "\n",
        "  ax_gaps = fig.add_subplot(1,3,2)\n",
        "  for k_ind, k in enumerate(ks):\n",
        "    ax_gaps.scatter(ns, gaps[k_ind])\n",
        "    ax_gaps.set_xlabel('n')\n",
        "    ax_gaps.set_ylabel('Gap')\n",
        "    ax_gaps.errorbar(ns, gaps[k_ind], yerr=gap_stds[k_ind])\n",
        "  ax_gaps.legend([f'$k = {k}$' for k in ks])\n",
        "\n",
        "  ax_bettis = fig.add_subplot(1,3,3)\n",
        "  for k_ind, k in enumerate(ks):\n",
        "    ax_bettis.scatter(ns, bettis[k_ind])\n",
        "    ax_bettis.set_xlabel('n')\n",
        "    ax_bettis.set_ylabel('Betti number')\n",
        "    ax_bettis.errorbar(ns, bettis[k_ind], yerr=betti_stds[k_ind])\n",
        "  ax_bettis.legend([f'$k = {k}$' for k in ks])\n",
        "\n",
        "  plt.tight_layout()\n",
        "  plt.subplots_adjust()\n",
        "  plt.show()\n",
        "\n",
        "generate_plots([10, 15, 20, 25], [1,2])"
      ],
      "metadata": {
        "id": "ppukADtiOP1E",
        "cellView": "form"
      },
      "execution_count": null,
      "outputs": []
    },
    {
      "cell_type": "markdown",
      "source": [
        "**Try to plot things on a log / log plot so that we can try to infer the polynomial order of the gap scaling:**"
      ],
      "metadata": {
        "id": "VZj_aVSRRljb"
      }
    },
    {
      "cell_type": "code",
      "execution_count": null,
      "metadata": {
        "id": "skL5EwcaB3jQ"
      },
      "outputs": [],
      "source": [
        "def generate_plots(ns, ks):\n",
        "  \"\"\"Generates plots of combinatorial laplacian gap, betti number and number\n",
        "  of Toffolis for a combination of n's and k's.\n",
        "\n",
        "  Args:\n",
        "    ns: `list` of `int` of n's\n",
        "    ks: `list` of `int` of n's\n",
        "  \"\"\"\n",
        "  n_samples = 100\n",
        "  gaps = [[] for _ in range(len(ks))]\n",
        "  gap_stds = [[] for _ in range(len(ks))]\n",
        "  bettis = [[] for _ in range(len(ks))]\n",
        "  betti_stds = [[] for _ in range(len(ks))]\n",
        "  costs = [[] for _ in range(len(ks))]\n",
        "  cost_stds = [[] for _ in range(len(ks))]\n",
        "\n",
        "  for k_ind, k in enumerate(ks):\n",
        "    for n in ns:\n",
        "      p = n ** (- (2 * k + 1)/float(2 * k * (k + 1)))\n",
        "      betti_samples = []\n",
        "      cost_samples = []\n",
        "      gap_samples = []\n",
        "      for ind in range(n_samples):\n",
        "        print(f'(k, n, sample) = ({k}, {n}, {ind})')\n",
        "        G = nx.erdos_renyi_graph(n, p)\n",
        "        gap, betti_number = get_laplacian_info(G, k)\n",
        "        betti_samples.append(betti_number)\n",
        "        gap_samples.append(gap)\n",
        "        cost_samples.append(quantum_cost(n, G.number_of_edges(), 0.05, gap, k, betti_number))\n",
        "\n",
        "      cost_avg = sum(cost_samples) / n_samples\n",
        "      betti_avg = sum(betti_samples) / float(n_samples)\n",
        "      gap_avg = sum(gap_samples) / n_samples\n",
        "\n",
        "      cost_std = statistics.stdev(np.real(cost_samples))\n",
        "      betti_std = statistics.stdev(np.real(betti_samples))\n",
        "      gap_std = statistics.stdev(np.real(gap_samples))\n",
        "\n",
        "      costs[k_ind].append(cost_avg)\n",
        "      bettis[k_ind].append(betti_avg)\n",
        "      gaps[k_ind].append(gap_avg)\n",
        "\n",
        "      cost_stds[k_ind].append(cost_std)\n",
        "      betti_stds[k_ind].append(betti_std)\n",
        "      gap_stds[k_ind].append(gap_std)\n",
        "\n",
        "  fig = plt.figure(figsize=(20, 10))\n",
        "\n",
        "  #fig.subplots_adjust(hspace=0.4, wspace=0.4)\n",
        "\n",
        "  ax_costs = fig.add_subplot(1,3,1)\n",
        "  for k_ind, k in enumerate(ks):\n",
        "    ax_costs.scatter(np.log(ns), np.log(costs[k_ind]))\n",
        "    ax_costs.set_xlabel('log of n')\n",
        "    ax_costs.set_ylabel('log of number of Toffolis')\n",
        "    ax_costs.errorbar(np.log(ns), np.log(costs[k_ind]), yerr=np.log(cost_stds[k_ind]))\n",
        "  ax_costs.legend([f'$k = {k}$' for k in ks])\n",
        "\n",
        "  ax_gaps = fig.add_subplot(1,3,2)\n",
        "  for k_ind, k in enumerate(ks):\n",
        "    ax_gaps.scatter(np.log(ns), np.log(gaps[k_ind]))\n",
        "    ax_gaps.set_xlabel('log of n')\n",
        "    ax_gaps.set_ylabel('log of Gap')\n",
        "    ax_gaps.errorbar(np.log(ns), np.log(gaps[k_ind]), yerr=np.log(gap_stds[k_ind]))\n",
        "  ax_gaps.legend([f'$k = {k}$' for k in ks])\n",
        "\n",
        "  ax_bettis = fig.add_subplot(1,3,3)\n",
        "  for k_ind, k in enumerate(ks):\n",
        "    ax_bettis.scatter(np.log(ns), np.log(bettis[k_ind]))\n",
        "    ax_bettis.set_xlabel('log of n')\n",
        "    ax_bettis.set_ylabel('log of Betti number')\n",
        "    ax_bettis.errorbar(np.log(ns), np.log(bettis[k_ind]), yerr=np.log(betti_stds[k_ind]))\n",
        "  ax_bettis.legend([f'$k = {k}$' for k in ks])\n",
        "\n",
        "  plt.tight_layout()\n",
        "  plt.subplots_adjust()\n",
        "  plt.show()\n",
        "\n",
        "generate_plots([25], [8])"
      ]
    },
    {
      "cell_type": "markdown",
      "metadata": {
        "id": "L7k6aejBDkkV"
      },
      "source": [
        "### ***Quantum TDA Pipeline for Erdos-Renyi (ER), Finance and KMK***"
      ]
    },
    {
      "cell_type": "code",
      "execution_count": 1,
      "metadata": {
        "colab": {
          "base_uri": "https://localhost:8080/",
          "height": 126
        },
        "id": "neMWhKPFxWkQ",
        "outputId": "8e627486-b652-418b-8ae6-8105fd3c7f84"
      },
      "outputs": [
        {
          "output_type": "execute_result",
          "data": {
            "text/plain": [
              "\"\\nUsage: to generate the data which will be stored in .npy files, run\\ngenerate_data(ns, ks, graph_type, file_prefix)\\n\\nns is the list of n, For kmk only, ns has to be a list of lists with [m,k].\\nks is the lits of k,\\ngraph type is one of\\n'ER' for Erdos-Renyi, 'financial' for financial data, 'kmk' for K(m,k) graph\\nand 'lattice' for the graph from condensed matter.\\nfile_prefix is a potential\\nprefix for the file names.\\nExamples:\\n\\ngenerate_data([10,20,30], [1,2,3,4,5], 10, 'ER', '')\\ngenerate_data([1,2,3,4], [1,2,3], 10, 'financial', '')\\ngenerate_data([[2,3],[3,3],[4,3]], [1,2,3,4,5], 10, 'kmk', '')\\ngenerate_data([3,4,5,6], [1,2,3], 10, 'lattice', '')\\n\\nTo plot the data, run\\ngenerate_plots(ks, graph_type, file_prefix)\\nwhere the arguments are as above.\\n\""
            ],
            "application/vnd.google.colaboratory.intrinsic+json": {
              "type": "string"
            }
          },
          "metadata": {},
          "execution_count": 1
        }
      ],
      "source": [
        "\"\"\"\n",
        "Usage: to generate the data which will be stored in .npy files, run\n",
        "generate_data(ns, ks, graph_type, file_prefix)\n",
        "\n",
        "ns is the list of n, For kmk only, ns has to be a list of lists with [m,k].\n",
        "ks is the lits of k,\n",
        "graph type is one of\n",
        "'ER' for Erdos-Renyi, 'financial' for financial data, 'kmk' for K(m,k) graph\n",
        "and 'lattice' for the graph from condensed matter.\n",
        "file_prefix is a potential\n",
        "prefix for the file names.\n",
        "Examples:\n",
        "\n",
        "generate_data([10,20,30], [1,2,3,4,5], 10, 'ER', '')\n",
        "generate_data([1,2,3,4], [1,2,3], 10, 'financial', '')\n",
        "generate_data([[2,3],[3,3],[4,3]], [1,2,3,4,5], 10, 'kmk', '')\n",
        "generate_data([3,4,5,6], [1,2,3], 10, 'lattice', '')\n",
        "\n",
        "To plot the data, run\n",
        "generate_plots(ks, graph_type, file_prefix)\n",
        "where the arguments are as above.\n",
        "\"\"\""
      ]
    },
    {
      "cell_type": "code",
      "execution_count": 2,
      "metadata": {
        "id": "Cguxdfkgc0yJ",
        "colab": {
          "base_uri": "https://localhost:8080/",
          "height": 217
        },
        "outputId": "f7f9fecc-848c-48d9-c316-107517e3e35b"
      },
      "outputs": [
        {
          "output_type": "error",
          "ename": "NameError",
          "evalue": "name 'pd' is not defined",
          "traceback": [
            "\u001b[0;31m---------------------------------------------------------------------------\u001b[0m",
            "\u001b[0;31mNameError\u001b[0m                                 Traceback (most recent call last)",
            "\u001b[0;32m<ipython-input-2-374201866>\u001b[0m in \u001b[0;36m<cell line: 0>\u001b[0;34m()\u001b[0m\n\u001b[1;32m      1\u001b[0m \u001b[0;31m# Import raw data and display table content\u001b[0m\u001b[0;34m\u001b[0m\u001b[0;34m\u001b[0m\u001b[0m\n\u001b[1;32m      2\u001b[0m \u001b[0murl\u001b[0m \u001b[0;34m=\u001b[0m \u001b[0;34m'https://raw.githubusercontent.com/deltorobarba/repo/master/sp500c.csv'\u001b[0m\u001b[0;34m\u001b[0m\u001b[0;34m\u001b[0m\u001b[0m\n\u001b[0;32m----> 3\u001b[0;31m \u001b[0mdata_raw\u001b[0m \u001b[0;34m=\u001b[0m \u001b[0mpd\u001b[0m\u001b[0;34m.\u001b[0m\u001b[0mread_csv\u001b[0m\u001b[0;34m(\u001b[0m\u001b[0murl\u001b[0m\u001b[0;34m)\u001b[0m\u001b[0;34m\u001b[0m\u001b[0;34m\u001b[0m\u001b[0m\n\u001b[0m\u001b[1;32m      4\u001b[0m \u001b[0;34m\u001b[0m\u001b[0m\n\u001b[1;32m      5\u001b[0m \u001b[0;31m# Rename imported time series\u001b[0m\u001b[0;34m\u001b[0m\u001b[0;34m\u001b[0m\u001b[0m\n",
            "\u001b[0;31mNameError\u001b[0m: name 'pd' is not defined"
          ]
        }
      ],
      "source": [
        "# Import raw data and display table content\n",
        "url = 'https://raw.githubusercontent.com/deltorobarba/repo/master/sp500c.csv'\n",
        "data_raw = pd.read_csv(url)\n",
        "\n",
        "# Rename imported time series\n",
        "data = data_raw\n",
        "\n",
        "# Select specific features, and rename features\n",
        "data = data[['Date', 'Open', 'High', 'Low', 'Close']].rename(columns={\"Date\": \"date\", \"Close\": \"price\"})\n",
        "data = data.drop(['Open', 'High', 'Low'], axis=1)\n",
        "\n",
        "# Set date index\n",
        "data = data.set_index('date')\n",
        "\n",
        "# Add Frequency (business days)\n",
        "data.index = pd.to_datetime(data.index, utc=True)\n",
        "data = data.asfreq('B') # B stands for business day, so that weekends and bank holiday as non trading day are ignored\n",
        "\n",
        "# Remove nan\n",
        "data = data.dropna()\n",
        "\n",
        "data_original = data # We will need this later to differentiate between preprocessed and original data\n",
        "\n",
        "# Log Return\n",
        "data = np.log(data/data.shift(1)).dropna()\n",
        "\n",
        "# data = (data-data.mean())/data.std()            # Mean Normalization\n",
        "data = (data-data.min())/(data.max()-data.min())  # Min Max Normalization\n",
        "fin_data = data.dropna()                          # remove nan value\n"
      ]
    },
    {
      "cell_type": "code",
      "execution_count": null,
      "metadata": {
        "id": "alq9ASKBBQyF"
      },
      "outputs": [],
      "source": [
        "def pairwise_to_graph(pdist_matrix, filtration):\n",
        "  \"\"\"Generates a graph given a cloud of points.\n",
        "\n",
        "  Args:\n",
        "    pdist_matrix: matrix encoding pairwise distance between points.\n",
        "    filtration: the filtration parameter.\n",
        "\n",
        "  Returns:\n",
        "    `nx.Graph` graph where there are edges between two points\n",
        "    if their distance is less than filtration.\n",
        "  \"\"\"\n",
        "  n = pdist_matrix.shape[0]\n",
        "  G = nx.Graph()\n",
        "  for row in range(n):\n",
        "    for column in range(n):\n",
        "      if row < column:\n",
        "        if pdist_matrix[row][column] < filtration:\n",
        "          G.add_edge(row, column)\n",
        "  return G"
      ]
    },
    {
      "cell_type": "code",
      "execution_count": null,
      "metadata": {
        "id": "erfypBZ8bwrM"
      },
      "outputs": [],
      "source": [
        "def gen_fin_graph(n):\n",
        "  \"\"\"Generates a graph from financial data.\n",
        "\n",
        "  Args:\n",
        "    n: `int` to choose a specific timeframe.\n",
        "\n",
        "  Returns:\n",
        "    `nx.Graph` graph representing the financial data from the indicated\n",
        "    timeframe.\n",
        "  \"\"\"\n",
        "  series = data\n",
        "  if n==1:\n",
        "    series = series['2010-01-01':'2010-04-30']\n",
        "    #series = series['2009-01-01':'2009-04-30']\n",
        "  elif n==2:\n",
        "    series = series['2010-01-01':'2010-08-01']\n",
        "    #series = series['2009-01-01':'2009-08-31']\n",
        "  elif n==3:\n",
        "    series = series['2010-01-01':'2011-01-01']\n",
        "    #series = series['2009-01-01':'2009-12-31']\n",
        "  elif n==4:\n",
        "    series = series['2010-01-01':'2011-04-01']\n",
        "  elif n==5:\n",
        "    series = series['2010-01-01':'2011-08-01']\n",
        "  elif n==6:\n",
        "    series = series['2010-01-01':'2012-01-01']\n",
        "  elif n==7:\n",
        "    series = series['2010-01-01':'2012-04-01']\n",
        "  elif n==8:\n",
        "    series = series['2010-01-01':'2012-08-01']\n",
        "  else:\n",
        "    series = series['2010-01-01':'2013-01-01']\n",
        "\n",
        "\n",
        "  embedding_dimension = 3                         # Upper bound for optimal embedding dimension d determined by false nearest neighbours\n",
        "  embedding_time_delay = 3                        # Upper bound for optimal time delay Tau determined by mutual information or ACF\n",
        "  parameters_type = \"search\"                      # Get optimal value for embedding_dimension & embedding_time_delay. Otherwise: \"fixed\"\n",
        "  stride = 8                                      # Increase stride to reduce amount of data\n",
        "  n_jobs=-1                                       # Maximum number of jobs to use for the computation\n",
        "\n",
        "  # Takens Embedding\n",
        "  embedder = SingleTakensEmbedding(\n",
        "      parameters_type=parameters_type,\n",
        "      n_jobs=n_jobs,\n",
        "      time_delay=embedding_time_delay,\n",
        "      dimension=embedding_dimension,\n",
        "      stride=stride,\n",
        "  )\n",
        "\n",
        "  y_embedded = embedder.fit_transform(series.price)\n",
        "  #print('Optimal time delay based on mutual information:', embedder.time_delay_)\n",
        "  #print('Optimal embedding dimension based on false nearest neighbors:', embedder.dimension_)\n",
        "  #print(f\"Shape of embedded time series: {y_embedded.shape}\")\n",
        "\n",
        "  pairwise_distances = squareform(pdist(y_embedded, metric='euclidean'))\n",
        "  graph = pairwise_to_graph(pairwise_distances, 0.75)\n",
        "  return graph, graph.number_of_nodes()"
      ]
    },
    {
      "cell_type": "code",
      "execution_count": null,
      "metadata": {
        "id": "uc47KeK2D3zw"
      },
      "outputs": [],
      "source": [
        "def gen_triangular_lattice(n):\n",
        "  \"\"\"Generates finite truncation of graph on the left side of Figure 2 in\n",
        "  arXiv:cond-mat/0504595v2\n",
        "\n",
        "    Args:\n",
        "      n: number of triangle units\n",
        "\n",
        "    Returns:\n",
        "     `nx.Graph()` representation of the graph.\n",
        "  \"\"\"\n",
        "  G = nx.Graph()\n",
        "  G.add_edges_from([('1,1','1,2'), ('1,1', '1,3')])\n",
        "\n",
        "  for j in range(2, n+1):\n",
        "    # new triangle\n",
        "    G.add_edges_from([(str(j)+',1', str(j)+',2'), (str(j)+',1', str(j)+',3')])\n",
        "\n",
        "    # connections to previous one\n",
        "    G.add_edges_from([(str(j-1)+',2', str(j)+',1'), (str(j)+',1', str(j-1)+',3'), (str(j-1)+',2', str(j)+',2'), (str(j)+',3', str(j-1)+',3')])\n",
        "\n",
        "    graph_complement = nx.complement(G)\n",
        "  return graph_complement, graph_complement.number_of_nodes()"
      ]
    },
    {
      "cell_type": "code",
      "execution_count": null,
      "metadata": {
        "id": "Uwuy3RnmX2U1"
      },
      "outputs": [],
      "source": [
        "def gen_kmk(params):\n",
        "  \"\"\"Generates K(m,k) graph from section IV A in the paper.\n",
        "\n",
        "  Args:\n",
        "    params: a `list` [m, k] where m is the total number\n",
        "\n",
        "  Returns:\n",
        "    (`nx.Graph` graph, n) where n is the total number of nodes\n",
        "  \"\"\"\n",
        "\n",
        "  m = params[0]\n",
        "  k = params[1]\n",
        "  def values(m):\n",
        "     return [(m) for i in range(k)]\n",
        "\n",
        "  G = nx.complete_multipartite_graph(*values(m))\n",
        "  return G, m*k"
      ]
    },
    {
      "cell_type": "code",
      "execution_count": null,
      "metadata": {
        "id": "5NUlQmvtZsYu"
      },
      "outputs": [],
      "source": [
        "def quantum_cost(n, E, r, gap, k, betti_k_minus_one):\n",
        "  \"\"\"Calculates Toffoli count given parameters to the TDA algorithm.\n",
        "  Args:\n",
        "    n: number of vertices\n",
        "    E: number of edges\n",
        "    gap: difference between lowest and second lowest eigenvalue of the k-th\n",
        "      order combinatorial Laplacian\n",
        "    k: order of Betti number\n",
        "    betti_k_minus_one: Betti number of order k-1\n",
        "\n",
        "  Returns:\n",
        "    Toffoli count\n",
        "  \"\"\"\n",
        "  return n * E * np.sqrt(comb(n, k) / betti_k_minus_one) / (r * gap)"
      ]
    },
    {
      "cell_type": "code",
      "execution_count": null,
      "metadata": {
        "id": "regzIx_iZsYu"
      },
      "outputs": [],
      "source": [
        "def get_cliques_of_size(G, k):\n",
        "  \"\"\"Gets cliques of a graph.\n",
        "  Args:\n",
        "    G: `nx.Graph` problem graph\n",
        "    k: order of Betti number being estimated\n",
        "\n",
        "  Returns:\n",
        "    A 3-tuple of `list`, respectively the cliques of size k-1, k and k+1\n",
        "  \"\"\"\n",
        "  all_cliques = list(nx.enumerate_all_cliques(G))\n",
        "  lower_cliques = list(filter(lambda x: len(x) == k-1, all_cliques))\n",
        "  cliques = list(filter(lambda x: len(x) == k, all_cliques))\n",
        "  upper_cliques = list(filter(lambda x: len(x) == k+1, all_cliques))\n",
        "\n",
        "  return lower_cliques, cliques, upper_cliques"
      ]
    },
    {
      "cell_type": "code",
      "execution_count": null,
      "metadata": {
        "id": "Pj13wnEJZsYu"
      },
      "outputs": [],
      "source": [
        "def is_upper_clique(clique, upper_clique):\n",
        "  \"\"\"Decides if two cliques are adjacent. They have to have difference 1 in size.\n",
        "  Args:\n",
        "    clique: the smaller clique\n",
        "    upper_clique: the larger clique\n",
        "\n",
        "  Returns:\n",
        "    Whether upper_clique is clique appended by one number\n",
        "  \"\"\"\n",
        "  return (len(upper_clique) - len(clique) == 1) and (len(set(upper_clique) - set(clique)) == 1)"
      ]
    },
    {
      "cell_type": "code",
      "execution_count": null,
      "metadata": {
        "id": "aG3szTlFZsYu"
      },
      "outputs": [],
      "source": [
        "def get_number_of_upper_cliques(clique, upper_cliques):\n",
        "  \"\"\"Gets number of upper cliques a clique has.\n",
        "  Args:\n",
        "    clique: the clique\n",
        "    upper_cliques: a list with cliques of size 1 larger than clique\n",
        "\n",
        "  Returns:\n",
        "    The number of cliques in upper_cliques that are upper to clique.\n",
        "  \"\"\"\n",
        "  total = 0\n",
        "  for upper_clique in upper_cliques:\n",
        "    if is_upper_clique(clique, upper_clique):\n",
        "      total +=1\n",
        "\n",
        "  return total"
      ]
    },
    {
      "cell_type": "code",
      "execution_count": null,
      "metadata": {
        "id": "lVZE672uZsYu"
      },
      "outputs": [],
      "source": [
        "def lower_not_upper_similarity(clique1, clique2, lower_cliques, upper_cliques):\n",
        "  \"\"\"Calculates off-diagonal entries of combinatorial Laplacian.\n",
        "\n",
        "  Args:\n",
        "    clique1: k-clique indexing the row\n",
        "    clique2: k-clique indexing the column\n",
        "    lower_cliques: `list` of (k-1)-cliques\n",
        "    upper_cliques: `list` of (k+1)-cliques\n",
        "\n",
        "  Returns:\n",
        "    The off-diagonal entry at coordinate (clique1, clique2).\n",
        "  \"\"\"\n",
        "  # have common upper?\n",
        "  for upper_clique in upper_cliques:\n",
        "    if is_upper_clique(clique1, upper_clique) and is_upper_clique(clique2, upper_clique):\n",
        "      return 0\n",
        "\n",
        "  # don't have common upper\n",
        "  # have common lower?\n",
        "\n",
        "  # clique1 and clique2 are lower similar if and only if they differ on exactly one vertex\n",
        "  # Sign is given by the parity of the number of different elements: odd --> +1, even --> -1\n",
        "  if len(set(clique1).difference(set(clique2)))==1:\n",
        "\n",
        "    count = 0\n",
        "    for i in range(len(clique1)):\n",
        "      if clique1[i] != clique2[i]:\n",
        "        count += 1\n",
        "\n",
        "    return 2 * (count % 2) - 1\n",
        "\n",
        "  # don't have common lower\n",
        "  return 0"
      ]
    },
    {
      "cell_type": "code",
      "execution_count": null,
      "metadata": {
        "id": "ysfAFp57ZsYv"
      },
      "outputs": [],
      "source": [
        "# returns the combinatorial Laplacian of order k of a graph\n",
        "def get_laplacian(G, k):\n",
        "  \"\"\"Computes the k-th order Laplacian of a graph G using theorem 3.3.4 in\n",
        "  http://www2.stat.duke.edu/~sayan/forkate/CombinatorialLaplacians.pdf.\n",
        "  Assumes k > 1. Note that the indexing is off-by-note with the notes above.\n",
        "\n",
        "  Args:\n",
        "    G: `nx.Graph` input graph\n",
        "    k: order of Betti number to be estimated\n",
        "\n",
        "  Returns:\n",
        "    The matrix of such combinatorial Laplacian.\n",
        "  \"\"\"\n",
        "\n",
        "  lower_cliques, cliques, upper_cliques = get_cliques_of_size(G, k)\n",
        "\n",
        "  n_cliques = len(cliques)\n",
        "  laplacian = np.zeros((n_cliques, n_cliques))\n",
        "  for (row, clique_row) in enumerate(cliques):\n",
        "    for (column, clique_column) in enumerate(cliques):\n",
        "      # diagonal\n",
        "      if row == column:\n",
        "        #laplacian[row][column] = k + 1 + get_number_of_upper_cliques(clique_row, upper_cliques)\n",
        "        laplacian[row][column] = k + get_number_of_upper_cliques(clique_row, upper_cliques)\n",
        "\n",
        "      # off-diagonals\n",
        "      else:\n",
        "        laplacian[row][column] = lower_not_upper_similarity(clique_row, clique_column, lower_cliques, upper_cliques)\n",
        "\n",
        "  return laplacian"
      ]
    },
    {
      "cell_type": "code",
      "execution_count": null,
      "metadata": {
        "id": "MfIIgpoiZsYv"
      },
      "outputs": [],
      "source": [
        "def get_laplacian_spectrum(G, k):\n",
        "  \"\"\"Computes the eigenvalue spectrum of the k-th order Laplacian of a graph G\n",
        "\n",
        "  Args:\n",
        "    G: `nx.Graph` input graph\n",
        "    k: order of the Betti number being estimated\n",
        "\n",
        "  Returns:\n",
        "    `list` of eigenvalues\n",
        "  \"\"\"\n",
        "  if k == 1:\n",
        "    eigvals = nx.adjacency_spectrum(G)\n",
        "  else:\n",
        "    laplacian = get_laplacian(G, k)\n",
        "    eigvals = np.linalg.eigvals(laplacian)\n",
        "  eigvals = np.sort(eigvals)\n",
        "\n",
        "  return eigvals"
      ]
    },
    {
      "cell_type": "code",
      "execution_count": null,
      "metadata": {
        "id": "Ny7GMmruZsYv"
      },
      "outputs": [],
      "source": [
        "# calculates combinatorial laplacian gap of a graph G at order k as well as the\n",
        "# number of zero eigenvalues\n",
        "def get_laplacian_info(G, k):\n",
        "  \"\"\"Computes the difference between the second lowest and lowest eigenvalues\n",
        "  of the k-th order Laplacian of a graph G\n",
        "\n",
        "  Args:\n",
        "    G: `nx.Graph` input graph\n",
        "    k: order of the Betti number being estimated\n",
        "\n",
        "  Returns:\n",
        "    The gap of the Laplacian and the number of zero eigenvalues.\n",
        "  \"\"\"\n",
        "  '''\n",
        "  laplacian = get_laplacian(G, k)\n",
        "  eigvals = np.linalg.eigvals(laplacian)\n",
        "  '''\n",
        "  # increments k since the code is actually computing the k-1 betti number if\n",
        "  # k is used. This is because the k-homology is spanned by (k+1)-cliques.\n",
        "  k += 1\n",
        "  eigvals = get_laplacian_spectrum(G, k)\n",
        "  eigvals = list(map(lambda x: 0 if np.abs(x) < 0.000000000001 else x, list(eigvals)))\n",
        "\n",
        "  betti_number = eigvals.count(0)\n",
        "\n",
        "  eigvals = np.unique(eigvals)\n",
        "\n",
        "  #trivial kernel\n",
        "  if len(eigvals) < 2:\n",
        "    return None, None\n",
        "\n",
        "  return eigvals[1] - eigvals[0], betti_number"
      ]
    },
    {
      "cell_type": "code",
      "execution_count": null,
      "metadata": {
        "id": "ZLcOJU-UZsYv"
      },
      "outputs": [],
      "source": [
        "# Generate data and generate plots functions\n",
        "def generate_data(ns, ks, n_samples, graph_type, file_prefix):\n",
        "  \"\"\"Generates data of combinatorial laplacian gap, betti number and number\n",
        "  of Toffolis for a combination of n's and k's. Saves them locally as .npy files.\n",
        "\n",
        "  Args:\n",
        "    ns: `list` of `int` of n's\n",
        "    ks: `list` of `int` of n's\n",
        "    n_samples: `int` how many types to resample\n",
        "    graph_type: `string` with graph type\n",
        "    file_prefix: `string` with file name prefix\n",
        "  \"\"\"\n",
        "  assert n_samples > 1, 'Number of samples must be greater than 1.\\n'\n",
        "\n",
        "  max_repeat = 5\n",
        "\n",
        "  gaps = [[] for _ in range(len(ks))]\n",
        "  bettis = [[] for _ in range(len(ks))]\n",
        "  costs = [[] for _ in range(len(ks))]\n",
        "  used_ns = [[] for _ in range(len(ks))]\n",
        "\n",
        "  for k_ind, k in enumerate(ks):\n",
        "    for n in ns:\n",
        "      betti_samples = []\n",
        "      cost_samples = []\n",
        "      gap_samples = []\n",
        "\n",
        "      ind = 0\n",
        "      repeat = 0\n",
        "      skip_n = False\n",
        "      while ind < n_samples:\n",
        "        if repeat > max_repeat:\n",
        "          skip_n = True\n",
        "          break\n",
        "        ind += 1\n",
        "        print(f'(k, n, sample) = ({k}, {n}, {ind})')\n",
        "        if graph_type == 'ER':\n",
        "          #p = n ** (- (2 * k + 1)/float(2 * k * (k + 1)))\n",
        "          #p = n ** (0.5 * (-1/float(k) - 1/float(2*k+1)))\n",
        "          p = n ** (-1 / (k+0.5))\n",
        "          #print(p)\n",
        "          G = nx.erdos_renyi_graph(n, p)\n",
        "          actual_n = n\n",
        "        elif graph_type == 'lattice':\n",
        "          G, actual_n = gen_triangular_lattice(n)\n",
        "        elif graph_type == 'kmk':\n",
        "          G, actual_n = gen_kmk(n)\n",
        "        elif graph_type == 'financial':\n",
        "          G, actual_n = gen_fin_graph(n)\n",
        "        else:\n",
        "          print('Graph type not recognized.\\n')\n",
        "          return None\n",
        "\n",
        "        gap, betti_number = get_laplacian_info(G, k)\n",
        "\n",
        "        # trivial kernel\n",
        "        if gap == None:\n",
        "          repeat += 1\n",
        "          ind -= 1\n",
        "          continue\n",
        "\n",
        "        # non-trivial kernel\n",
        "        betti_samples.append(betti_number)\n",
        "        gap_samples.append(gap)\n",
        "        cost_samples.append(quantum_cost(actual_n, G.number_of_edges(), 0.05, gap, k, betti_number))\n",
        "\n",
        "      if skip_n:\n",
        "        print('Skipped n')\n",
        "        continue\n",
        "\n",
        "      used_ns[k_ind].append(actual_n)\n",
        "      bettis[k_ind].append(betti_samples)\n",
        "      gaps[k_ind].append(gap_samples)\n",
        "      costs[k_ind].append(cost_samples)\n",
        "\n",
        "  # saves data\n",
        "  np.save(file_prefix + '_' + graph_type + '_bettis', bettis)\n",
        "  np.save(file_prefix + '_' + graph_type + '_gaps', gaps)\n",
        "  np.save(file_prefix + '_' + graph_type + '_costs', costs)\n",
        "  np.save(file_prefix + '_' + graph_type + '_used_ns', used_ns)"
      ]
    },
    {
      "cell_type": "code",
      "execution_count": null,
      "metadata": {
        "id": "SKhaahcrTKq2"
      },
      "outputs": [],
      "source": [
        "def generate_plots(ks, graph_type, file_prefix):\n",
        "  \"\"\"Generate plots from the data generated by generate_data().\n",
        "\n",
        "  Args:\n",
        "    ks: `list` of Betti order k\n",
        "    graph_type: `string` with the graph type\n",
        "    file_prefix: `string` with file name prefix\n",
        "  \"\"\"\n",
        "  bettis = np.load(file_prefix + '_' + graph_type + '_bettis.npy', allow_pickle=True)\n",
        "  gaps = np.load(file_prefix + '_' + graph_type + '_gaps.npy', allow_pickle=True)\n",
        "  costs = np.load(file_prefix + '_' + graph_type + '_costs.npy', allow_pickle=True)\n",
        "  used_ns = np.load(file_prefix + '_' + graph_type + '_used_ns.npy', allow_pickle=True)\n",
        "\n",
        "  gap_avgs = [[] for _ in range(len(ks))]\n",
        "  betti_avgs = [[] for _ in range(len(ks))]\n",
        "  cost_avgs = [[] for _ in range(len(ks))]\n",
        "\n",
        "  gap_stds = [[] for _ in range(len(ks))]\n",
        "  betti_stds = [[] for _ in range(len(ks))]\n",
        "  cost_stds = [[] for _ in range(len(ks))]\n",
        "\n",
        "  for k_ind, k in enumerate(ks):\n",
        "    for n_ind, n in enumerate(used_ns[k_ind]):\n",
        "      cost_avgs[k_ind].append(np.average(costs[k_ind][n_ind]))\n",
        "      betti_avgs[k_ind].append(np.average(bettis[k_ind][n_ind]))\n",
        "      gap_avgs[k_ind].append(np.average(gaps[k_ind][n_ind]))\n",
        "\n",
        "      cost_stds[k_ind].append(statistics.stdev(np.real(costs[k_ind][n_ind])))\n",
        "      betti_stds[k_ind].append(statistics.stdev(np.real(bettis[k_ind][n_ind])))\n",
        "      gap_stds[k_ind].append(statistics.stdev(np.real(gaps[k_ind][n_ind])))\n",
        "\n",
        "  fig = plt.figure(figsize=(20, 10))\n",
        "\n",
        "  ax_costs = fig.add_subplot(1,3,1)\n",
        "  for k_ind, k in enumerate(ks):\n",
        "    ax_costs.scatter(used_ns[k_ind], cost_avgs[k_ind])\n",
        "    ax_costs.set_xlabel('n')\n",
        "    ax_costs.set_ylabel('number of Toffolis')\n",
        "    ax_costs.errorbar(used_ns[k_ind], cost_avgs[k_ind], yerr=cost_stds[k_ind])\n",
        "  ax_costs.legend([f'$k = {k}$' for k in ks])\n",
        "\n",
        "  ax_gaps = fig.add_subplot(1,3,2)\n",
        "  for k_ind, k in enumerate(ks):\n",
        "    ax_gaps.scatter(used_ns[k_ind], gap_avgs[k_ind])\n",
        "    ax_gaps.set_xlabel('n')\n",
        "    ax_gaps.set_ylabel('Gap')\n",
        "    ax_gaps.errorbar(used_ns[k_ind], gap_avgs[k_ind], yerr=gap_stds[k_ind])\n",
        "  ax_gaps.legend([f'$k = {k}$' for k in ks])\n",
        "\n",
        "  ax_bettis = fig.add_subplot(1,3,3)\n",
        "  for k_ind, k in enumerate(ks):\n",
        "    ax_bettis.scatter(used_ns[k_ind], betti_avgs[k_ind])\n",
        "    ax_bettis.set_xlabel('n')\n",
        "    ax_bettis.set_ylabel('Betti number')\n",
        "    ax_bettis.errorbar(used_ns[k_ind], betti_avgs[k_ind], yerr=betti_stds[k_ind])\n",
        "  ax_bettis.legend([f'$k = {k}$' for k in ks])\n",
        "\n",
        "  plt.tight_layout()\n",
        "  plt.subplots_adjust()\n",
        "  plt.savefig(file_prefix + '_' + graph_type + '_plot')\n",
        "  plt.show()"
      ]
    },
    {
      "cell_type": "code",
      "execution_count": null,
      "metadata": {
        "id": "j0narweceunm"
      },
      "outputs": [],
      "source": [
        "# Run ER analysis\n",
        "\n",
        "#generate_data([10,20,30,35,40,45,50,55,60,65,70,75,80], [1,2,3,4,5], 10, 'ER', '')\n",
        "generate_data([10,20], [1,2,3,4], 2, 'ER', '')\n",
        "generate_plots([1,2,3,4], 'ER', '')"
      ]
    },
    {
      "cell_type": "code",
      "execution_count": null,
      "metadata": {
        "id": "hghUuMGyS4Fz"
      },
      "outputs": [],
      "source": [
        "a = np.load('_ER_bettis.npy', allow_pickle=True)\n",
        "a"
      ]
    },
    {
      "cell_type": "code",
      "execution_count": null,
      "metadata": {
        "id": "NruOEsT_91Zf"
      },
      "outputs": [],
      "source": [
        "plt.savefig('_ER_bettis.pdf')"
      ]
    },
    {
      "cell_type": "code",
      "execution_count": null,
      "metadata": {
        "id": "jvGPY6cDGHTU"
      },
      "outputs": [],
      "source": [
        "# Run lattice analysis\n",
        "\n",
        "#generate_data([10,20,30,35,40,45,50,55,60,65,70,75,80], [1,2,3,4,5], 10, 'ER', '')\n",
        "#generate_data([1,2,3,4], [1,2,3], 10, 'financial', '')\n",
        "#generate_data([[2,3],[3,3],[4,3]], [1,2,3,4,5], 10, 'kmk', '')\n",
        "\n",
        "generate_data([3,4,5,6], [1,2,3], 10, 'lattice', '')\n",
        "generate_plots([1,2,3], 'lattice', '')"
      ]
    },
    {
      "cell_type": "code",
      "execution_count": null,
      "metadata": {
        "id": "tQxeK1UsI_Tr"
      },
      "outputs": [],
      "source": [
        "generate_data([3,4,5,6,7,8,9], [1,2,3], 10, 'lattice', '')\n",
        "generate_plots([1,2,3], 'lattice', '')"
      ]
    },
    {
      "cell_type": "code",
      "execution_count": null,
      "metadata": {
        "id": "64wBnxVUZE8d"
      },
      "outputs": [],
      "source": [
        "# Run financial analysis\n",
        "\n",
        "#generate_data([10,20,30,35,40,45,50,55,60,65,70,75,80], [1,2,3,4,5], 10, 'ER', '')\n",
        "#generate_data([3,4,5,6,7,8,9], [1,2,3], 10, 'lattice', '')\n",
        "#generate_data([[2,3],[3,3],[4,3]], [1,2,3,4,5], 10, 'kmk', '')\n",
        "\n",
        "generate_data([1,2], [1,2], 10, 'financial', '')\n",
        "generate_plots([1,2], 'financial', '')"
      ]
    },
    {
      "cell_type": "markdown",
      "source": [
        "### *Code for Generating plots of combinatorial laplacian gap, betti number and number of Toffolis for a combination of n's and k's*"
      ],
      "metadata": {
        "id": "TAJnTy0Um25J"
      }
    },
    {
      "cell_type": "code",
      "execution_count": null,
      "metadata": {
        "id": "2yrBkO6JYGxU"
      },
      "outputs": [],
      "source": [
        "def quantum_cost(n, E, r, gap, k, betti_k_minus_one):\n",
        "  \"\"\"Calculates Toffoli count given parameters to the TDA algorithm.\n",
        "  Args:\n",
        "    n: number of vertices\n",
        "    E: number of edges\n",
        "    gap: difference between lowest and second lowest eigenvalue of the k-th\n",
        "      order combinatorial Laplacian\n",
        "    k: order of Betti number\n",
        "    betti_k_minus_one: Betti number of order k-1\n",
        "\n",
        "  Returns:\n",
        "    Toffoli count\n",
        "  \"\"\"\n",
        "  return n * E * np.sqrt(comb(n, k) / betti_k_minus_one) / (r * gap)"
      ]
    },
    {
      "cell_type": "code",
      "execution_count": null,
      "metadata": {
        "id": "6JSKrD3oYGxU"
      },
      "outputs": [],
      "source": [
        "def get_cliques_of_size(G, k):\n",
        "  \"\"\"Gets cliques of a graph.\n",
        "  Args:\n",
        "    G: `nx.Graph` problem graph\n",
        "    k: order of Betti number being estimated\n",
        "\n",
        "  Returns:\n",
        "    A 3-tuple of `list`, respectively the cliques of size k-1, k and k+1\n",
        "  \"\"\"\n",
        "  all_cliques = list(nx.enumerate_all_cliques(G))\n",
        "  lower_cliques = list(filter(lambda x: len(x) == k-1, all_cliques))\n",
        "  cliques = list(filter(lambda x: len(x) == k, all_cliques))\n",
        "  upper_cliques = list(filter(lambda x: len(x) == k+1, all_cliques))\n",
        "\n",
        "  return lower_cliques, cliques, upper_cliques"
      ]
    },
    {
      "cell_type": "code",
      "execution_count": null,
      "metadata": {
        "id": "n-PkdmWuYGxU"
      },
      "outputs": [],
      "source": [
        "def is_upper_clique(clique, upper_clique):\n",
        "  \"\"\"Decides if two cliques are adjacent. They have to have difference 1 in size.\n",
        "  Args:\n",
        "    clique: the smaller clique\n",
        "    upper_clique: the larger clique\n",
        "\n",
        "  Returns:\n",
        "    Whether upper_clique is clique appended by one number\n",
        "  \"\"\"\n",
        "  return (len(upper_clique) - len(clique) == 1) and (len(set(upper_clique) - set(clique)) == 1)"
      ]
    },
    {
      "cell_type": "code",
      "execution_count": null,
      "metadata": {
        "id": "e9OX05OfYGxU"
      },
      "outputs": [],
      "source": [
        "def get_number_of_upper_cliques(clique, upper_cliques):\n",
        "  \"\"\"Gets number of upper cliques a clique has.\n",
        "  Args:\n",
        "    clique: the clique\n",
        "    upper_cliques: a list with cliques of size 1 larger than clique\n",
        "\n",
        "  Returns:\n",
        "    The number of cliques in upper_cliques that are upper to clique.\n",
        "  \"\"\"\n",
        "  total = 0\n",
        "  for upper_clique in upper_cliques:\n",
        "    if is_upper_clique(clique, upper_clique):\n",
        "      total +=1\n",
        "\n",
        "  return total"
      ]
    },
    {
      "cell_type": "code",
      "execution_count": null,
      "metadata": {
        "id": "jEfOh5KOYGxU"
      },
      "outputs": [],
      "source": [
        "def lower_not_upper_similarity(clique1, clique2, lower_cliques, upper_cliques):\n",
        "  \"\"\"Calculates off-diagonal entries of combinatorial Laplacian.\n",
        "\n",
        "  Args:\n",
        "    clique1: k-clique indexing the row\n",
        "    clique2: k-clique indexing the column\n",
        "    lower_cliques: `list` of (k-1)-cliques\n",
        "    upper_cliques: `list` of (k+1)-cliques\n",
        "\n",
        "  Returns:\n",
        "    The off-diagonal entry at coordinate (clique1, clique2).\n",
        "  \"\"\"\n",
        "  # have common upper?\n",
        "  for upper_clique in upper_cliques:\n",
        "    if is_upper_clique(clique1, upper_clique) and is_upper_clique(clique2, upper_clique):\n",
        "      return 0\n",
        "\n",
        "  # don't have common upper\n",
        "  # have common lower?\n",
        "\n",
        "  # NEW CODE\n",
        "  # clique1 and clique2 are lower similar if and only if they differ on exactly one vertex\n",
        "  # Sign is given by the parity of the number of different elements: odd --> +1, even --> -1\n",
        "  if len(set(clique1).difference(set(clique2)))==1:\n",
        "    return 2 * (np.count_nonzero(np.array(clique1) - np.array(clique2)) % 2) - 1\n",
        "\n",
        "  # OLD CODE\n",
        "  '''\n",
        "  for lower_clique in lower_cliques:\n",
        "    if is_upper_clique(lower_clique, clique1) and is_upper_clique(lower_clique, clique2):\n",
        "     # have a common lower. Need to find similarity.\n",
        "\n",
        "     diff_inds = []\n",
        "     diff_elems1 = list(set(clique1) - set(clique2))\n",
        "     diff_inds.append(clique1.index(diff_elems1[0]))\n",
        "\n",
        "     diff_elems2 = list(set(clique2) - set(clique1))\n",
        "     diff_inds.append(clique2.index(diff_elems2[0]))\n",
        "\n",
        "     if len(diff_inds) == 1:\n",
        "       sign = 0\n",
        "     else:\n",
        "       sign = ((diff_inds[1] - diff_inds[0]) % 2)\n",
        "\n",
        "     return (-1) ** sign\n",
        "  '''\n",
        "\n",
        "  # don't have common lower\n",
        "  return 0"
      ]
    },
    {
      "cell_type": "code",
      "execution_count": null,
      "metadata": {
        "id": "za0OGzriYGxU"
      },
      "outputs": [],
      "source": [
        "### THIS IS ACTUALLY COMPUTING THE ORDER (k-1)\n",
        "# returns the combinatorial Laplacian of order k of a graph\n",
        "def get_laplacian(G, k):\n",
        "  \"\"\"Computes the k-th order Laplacian of a graph G using theorem 3.3.4 in\n",
        "  http://www2.stat.duke.edu/~sayan/forkate/CombinatorialLaplacians.pdf.\n",
        "\n",
        "  Args:\n",
        "    G: `nx.Graph` input graph\n",
        "    k: order of Betti number to be estimated\n",
        "\n",
        "  Returns:\n",
        "    The matrix of such combinatorial Laplacian.\n",
        "  \"\"\"\n",
        "  # standard Laplacian\n",
        "  if k==0:\n",
        "    return nx.laplacian_matrix(G)\n",
        "\n",
        "  #k += 1\n",
        "  lower_cliques, cliques, upper_cliques = get_cliques_of_size(G, k)\n",
        "\n",
        "  n_cliques = len(cliques)\n",
        "  laplacian = np.zeros((n_cliques, n_cliques))\n",
        "  for (row, clique_row) in enumerate(cliques):\n",
        "    for (column, clique_column) in enumerate(cliques):\n",
        "      # diagonal\n",
        "      if row == column:\n",
        "        #laplacian[row][column] = k + 1 + get_number_of_upper_cliques(clique_row, upper_cliques)\n",
        "        laplacian[row][column] = k + get_number_of_upper_cliques(clique_row, upper_cliques)\n",
        "\n",
        "      # off-diagonals\n",
        "      else:\n",
        "        laplacian[row][column] = lower_not_upper_similarity(clique_row, clique_column, lower_cliques, upper_cliques)\n",
        "\n",
        "  return laplacian"
      ]
    },
    {
      "cell_type": "code",
      "execution_count": null,
      "metadata": {
        "id": "E5RC6Ap_YGxU"
      },
      "outputs": [],
      "source": [
        "def get_laplacian_spectrum(G, k):\n",
        "  \"\"\"Computes the eigenvalue spectrum of the k-th order Laplacian of a graph G\n",
        "\n",
        "  Args:\n",
        "    G: `nx.Graph` input graph\n",
        "    k: order of the Betti number being estimated\n",
        "\n",
        "  Returns:\n",
        "    `list` of eigenvalues\n",
        "  \"\"\"\n",
        "  laplacian = get_laplacian(G, k)\n",
        "  eigvals = np.linalg.eigvals(laplacian)\n",
        "  eigvals = np.sort(eigvals)\n",
        "\n",
        "  return eigvals"
      ]
    },
    {
      "cell_type": "code",
      "execution_count": null,
      "metadata": {
        "id": "VOepNLfPYGxU"
      },
      "outputs": [],
      "source": [
        "# calculates combinatorial laplacian gap of a graph G at order k as well as the\n",
        "# number of zero eigenvalues\n",
        "def get_laplacian_info(G, k):\n",
        "  \"\"\"Computes the difference between the second lowest and lowest eigenvalues\n",
        "  of the k-th order Laplacian of a graph G\n",
        "\n",
        "  Args:\n",
        "    G: `nx.Graph` input graph\n",
        "    k: order of the Betti number being estimated\n",
        "\n",
        "  Returns:\n",
        "    The gap of the Laplacian and the number of zero eigenvalues.\n",
        "  \"\"\"\n",
        "  '''\n",
        "  laplacian = get_laplacian(G, k)\n",
        "  eigvals = np.linalg.eigvals(laplacian)\n",
        "  '''\n",
        "  eigvals = get_laplacian_spectrum(G, k)\n",
        "  eigvals = list(map(lambda x: 0 if np.abs(x) < 0.000000000001 else x, list(eigvals)))\n",
        "\n",
        "  betti_number = eigvals.count(0)\n",
        "\n",
        "  eigvals = np.unique(eigvals)\n",
        "\n",
        "  return eigvals[1] - eigvals[0], betti_number"
      ]
    },
    {
      "cell_type": "code",
      "source": [
        "def generate_plots(ns, ks):\n",
        "  \"\"\"Generates plots of combinatorial laplacian gap, betti number and number\n",
        "  of Toffolis for a combination of n's and k's.\n",
        "\n",
        "  Args:\n",
        "    ns: `list` of `int` of n's\n",
        "    ks: `list` of `int` of n's\n",
        "  \"\"\"\n",
        "  n_samples = 50\n",
        "  gaps = [[] for _ in range(len(ks))]\n",
        "  gap_stds = [[] for _ in range(len(ks))]\n",
        "  bettis = [[] for _ in range(len(ks))]\n",
        "  betti_stds = [[] for _ in range(len(ks))]\n",
        "  costs = [[] for _ in range(len(ks))]\n",
        "  cost_stds = [[] for _ in range(len(ks))]\n",
        "\n",
        "  for k_ind, k in enumerate(ks):\n",
        "    for n in ns:\n",
        "      p = n ** (- (2 * k + 1)/float(2 * k * (k + 1)))\n",
        "      betti_samples = []\n",
        "      cost_samples = []\n",
        "      gap_samples = []\n",
        "      for ind in range(n_samples):\n",
        "        print(f'(k, n, sample) = ({k}, {n}, {ind})')\n",
        "        G = nx.erdos_renyi_graph(n, p)\n",
        "        gap, betti_number = get_laplacian_info(G, k)\n",
        "        betti_samples.append(betti_number)\n",
        "        gap_samples.append(gap)\n",
        "        cost_samples.append(quantum_cost(n, G.number_of_edges(), 0.05, gap, k, betti_number))\n",
        "\n",
        "      cost_avg = sum(cost_samples) / n_samples\n",
        "      betti_avg = sum(betti_samples) / float(n_samples)\n",
        "      gap_avg = sum(gap_samples) / n_samples\n",
        "\n",
        "      cost_std = statistics.stdev(np.real(cost_samples))\n",
        "      betti_std = statistics.stdev(np.real(betti_samples))\n",
        "      gap_std = statistics.stdev(np.real(gap_samples))\n",
        "\n",
        "      costs[k_ind].append(cost_avg)\n",
        "      bettis[k_ind].append(betti_avg)\n",
        "      gaps[k_ind].append(gap_avg)\n",
        "\n",
        "      cost_stds[k_ind].append(cost_std)\n",
        "      betti_stds[k_ind].append(betti_std)\n",
        "      gap_stds[k_ind].append(gap_std)\n",
        "\n",
        "## Alex --->  I removed all plotting options from here to reduce CPU time\n",
        "\n",
        "#generate_plots([25], [1])"
      ],
      "metadata": {
        "id": "6NcHdXhFYGxU"
      },
      "execution_count": null,
      "outputs": []
    },
    {
      "cell_type": "code",
      "source": [
        "# CPU Performance Calculation\n",
        "\n",
        "import time\n",
        "\n",
        "rows_list = []\n",
        "\n",
        "my_tuple = [10, 15, 20, 25, 30, 35]\n",
        "\n",
        "for num in my_tuple:\n",
        "    st = time.process_time(),\n",
        "    generate_plots([num], [1]),\n",
        "    et = time.process_time(),\n",
        "    performance = [x - y for x, y in zip(list(et), list(st))]\n",
        "    rows_list.append(performance)\n",
        "\n",
        "df = pd.DataFrame(rows_list, index=[*(my_tuple)], columns=['CPU Performance in sec for \\n k=1 order of Betti number'])\n",
        "df['Growth'] = df.diff()\n",
        "print(df)\n",
        "df = df.reset_index().rename(columns={\"index\": \"Datasize n vertices\"})\n",
        "df.plot(x ='Datasize n vertices', y='CPU Performance in sec for \\n k=1 order of Betti number', kind = 'bar')"
      ],
      "metadata": {
        "id": "nHf_658BhT_2"
      },
      "execution_count": null,
      "outputs": []
    },
    {
      "cell_type": "code",
      "source": [
        "import time\n",
        "\n",
        "rows_list = []\n",
        "\n",
        "my_tuple = [10, 15, 20, 25, 30, 35]\n",
        "\n",
        "for num in my_tuple:\n",
        "    st = time.process_time(),\n",
        "    generate_plots([num], [2]),\n",
        "    et = time.process_time(),\n",
        "    performance = [x - y for x, y in zip(list(et), list(st))]\n",
        "    rows_list.append(performance)\n",
        "\n",
        "df = pd.DataFrame(rows_list, index=[*(my_tuple)], columns=['CPU Performance in sec for \\n k=2 order of Betti number'])\n",
        "df['Growth'] = df.diff()\n",
        "print(df)\n",
        "df = df.reset_index().rename(columns={\"index\": \"Datasize n vertices\"})\n",
        "df.plot(x ='Datasize n vertices', y='CPU Performance in sec for \\n k=2 order of Betti number', kind = 'bar')"
      ],
      "metadata": {
        "id": "LaaLL6kXmBkX"
      },
      "execution_count": null,
      "outputs": []
    },
    {
      "cell_type": "code",
      "source": [
        "# Simple double check\n",
        "%time generate_plots([25], [1])"
      ],
      "metadata": {
        "id": "hJLICisFGuJR"
      },
      "execution_count": null,
      "outputs": []
    }
  ],
  "metadata": {
    "colab": {
      "provenance": [],
      "gpuClass": "premium",
      "collapsed_sections": [
        "W6Q6_z49tIyw",
        "-4zjA63e4o1-",
        "4_hGkSz_SHre",
        "-znWxwnEpL0-",
        "NH0omEkd2Qiu",
        "L7k6aejBDkkV",
        "TAJnTy0Um25J"
      ],
      "gpuType": "V28",
      "include_colab_link": true
    },
    "kernelspec": {
      "display_name": "Python 3",
      "name": "python3"
    },
    "language_info": {
      "name": "python"
    },
    "accelerator": "TPU"
  },
  "nbformat": 4,
  "nbformat_minor": 0
}