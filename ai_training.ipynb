{
  "nbformat": 4,
  "nbformat_minor": 0,
  "metadata": {
    "colab": {
      "provenance": [],
      "authorship_tag": "ABX9TyNmzNrezPHamcexXs/UjJHt",
      "include_colab_link": true
    },
    "kernelspec": {
      "name": "python3",
      "display_name": "Python 3"
    },
    "language_info": {
      "name": "python"
    }
  },
  "cells": [
    {
      "cell_type": "markdown",
      "metadata": {
        "id": "view-in-github",
        "colab_type": "text"
      },
      "source": [
        "<a href=\"https://colab.research.google.com/github/deltorobarba/sciences/blob/master/ai_training.ipynb\" target=\"_parent\"><img src=\"https://colab.research.google.com/assets/colab-badge.svg\" alt=\"Open In Colab\"/></a>"
      ]
    },
    {
      "cell_type": "markdown",
      "source": [
        "# <font color=\"blue\">**Training and Tuning**"
      ],
      "metadata": {
        "id": "45jfy2sWQt8X"
      }
    },
    {
      "cell_type": "markdown",
      "source": [
        "https://cloud.google.com/vertex-ai/generative-ai/docs/models/tune-models"
      ],
      "metadata": {
        "id": "hYyiqHFC6FhS"
      }
    },
    {
      "cell_type": "markdown",
      "source": [
        "**Open source:** Ray, Horovod (training), Axolotl (finetune multiple GPU), Unsloth (finetune single GPU), Dask, Spark\n"
      ],
      "metadata": {
        "id": "Gn7b-NVO6I0g"
      }
    },
    {
      "cell_type": "markdown",
      "source": [
        "Model Garden Tuning: Explore Models https://cloud.google.com/vertex-ai/generative-ai/docs/model-garden/explore-models\n"
      ],
      "metadata": {
        "id": "_PY0Az1W6Lpu"
      }
    },
    {
      "cell_type": "markdown",
      "source": [
        "Vertex Training: Pricing for training (https://cloud.google.com/vertex-ai/pricing#custom-trained_models) for example SVT for Gemini (https://cloud.google.com/vertex-ai/generative-ai/docs/models/gemini-supervised-tuning#supported_models)\n"
      ],
      "metadata": {
        "id": "yn9Mwpxh6QQD"
      }
    },
    {
      "cell_type": "markdown",
      "source": [
        "Ray on Vertex (managed https://cloud.google.com/vertex-ai/docs/open-source/ray-on-vertex-ai/overview) or Ray on GKE (with KubeRay https://cloud.google.com/kubernetes-engine/docs/add-on/ray-on-gke/concepts/overview), example see Gemma on Ray (https://developers.googleblog.com/en/get-started-with-gemma-on-ray-on-vertex-ai/), Scale AI on Ray on Vertex AI  (https://medium.com/google-cloud/ray-on-vertex-ai-lets-get-it-started-7a9f8360ea25)\n"
      ],
      "metadata": {
        "id": "aaPjib3r6WqZ"
      }
    },
    {
      "cell_type": "markdown",
      "source": [
        "Using 🤗 PEFT & bitsandbytes to finetune a LoRa checkpoint\n",
        "\n",
        "https://huggingface.co/meta-llama/Llama-3.1-8B\n",
        "\n",
        "https://huggingface.co/models?other=base_model:quantized:meta-llama/Llama-3.1-8B\n",
        "\n",
        "https://huggingface.co/unsloth/Meta-Llama-3.1-8B-bnb-4bit\n",
        "\n",
        "https://colab.research.google.com/drive/1Ys44kVvmeZtnICzWz0xgpRnrIOjZAuxp?usp=sharing#scrollTo=QmUBVEnvCDJv\n",
        "\n",
        "Original: https://colab.research.google.com/drive/14xo6sj4dARk8lXZbOifHEn1f_70qNAwy?usp=sharing#scrollTo=4iwHGzKBN6wk\n",
        "\n",
        "Paper: https://arxiv.org/abs/2106.09685\n",
        "\n",
        "Video: https://www.youtube.com/watch?v=Us5ZFp16PaU&t=393s"
      ],
      "metadata": {
        "id": "j5b_v4Vc4kB9"
      }
    },
    {
      "cell_type": "markdown",
      "source": [
        "https://colab.sandbox.google.com/drive/1CHtIWodkATMxWSkSdaZj60EkFTXymq26?resourcekey=0-YVhm1YZ9excXMSpaTTtxhA#scrollTo=35615fa2-c923-4bfd-b194-5265bbe81ce1\n",
        "\n",
        "managed tuning OSS\n"
      ],
      "metadata": {
        "id": "GpAnpq-c5wAG"
      }
    },
    {
      "cell_type": "markdown",
      "source": [
        "\n",
        "Model Garden\n",
        "\n",
        "PEFT: https://cloud.google.com/vertex-ai/generative-ai/docs/model-garden/explore-models\n",
        "\n",
        "Example: Mistral: https://github.com/GoogleCloudPlatform/vertex-ai-samples/blob/main/notebooks/community/model_garden/model_garden_pytorch_mistral_peft_tuning.ipynb\n",
        "\n",
        "Example: LLama3 https://github.com/GoogleCloudPlatform/vertex-ai-samples/blob/main/notebooks/community/model_garden/model_garden_pytorch_llama3_finetuning.ipynb\n",
        "\n",
        "Managed PEFT for open-weight models: pending\n",
        "\n",
        "Full finetuning: released\n",
        "\n",
        "DPO - Direct Preference Optimization: directly optimizes the LLM's policy using a dataset of human preferences. https://arxiv.org/pdf/2305.18290.pdf (pending)\n",
        "\n",
        "Continuous Pretraining: bring your own custom LoRA (end Q2) and tokenspace\n"
      ],
      "metadata": {
        "id": "uHWl_clr51OZ"
      }
    },
    {
      "cell_type": "code",
      "execution_count": null,
      "metadata": {
        "id": "Ge03DgPsQtMD"
      },
      "outputs": [],
      "source": []
    }
  ]
}