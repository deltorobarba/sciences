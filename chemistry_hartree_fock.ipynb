{
  "nbformat": 4,
  "nbformat_minor": 0,
  "metadata": {
    "colab": {
      "provenance": [],
      "authorship_tag": "ABX9TyPR3KcWTfnT2klb4aDz8axs",
      "include_colab_link": true
    },
    "kernelspec": {
      "name": "python3",
      "display_name": "Python 3"
    },
    "language_info": {
      "name": "python"
    }
  },
  "cells": [
    {
      "cell_type": "markdown",
      "metadata": {
        "id": "view-in-github",
        "colab_type": "text"
      },
      "source": [
        "<a href=\"https://colab.research.google.com/github/deltorobarba/sciences/blob/master/chemistry_hartree_fock.ipynb\" target=\"_parent\"><img src=\"https://colab.research.google.com/assets/colab-badge.svg\" alt=\"Open In Colab\"/></a>"
      ]
    },
    {
      "cell_type": "markdown",
      "source": [
        "# **Hartree-Fock (HF-SCF)**"
      ],
      "metadata": {
        "id": "eU3XH7emGqyX"
      }
    },
    {
      "cell_type": "markdown",
      "source": [
        "![sciences](https://raw.githubusercontent.com/deltorobarba/repo/master/sciences_5000.png)"
      ],
      "metadata": {
        "id": "LZ1dVucdNJXt"
      }
    },
    {
      "cell_type": "code",
      "source": [
        "!pip install pyscf geometric -q"
      ],
      "metadata": {
        "colab": {
          "base_uri": "https://localhost:8080/"
        },
        "id": "TErie0efGhPw",
        "outputId": "879f5ce2-f34c-4969-e767-be08fb089626"
      },
      "execution_count": null,
      "outputs": [
        {
          "output_type": "stream",
          "name": "stdout",
          "text": [
            "\u001b[?25l     \u001b[90m━━━━━━━━━━━━━━━━━━━━━━━━━━━━━━━━━━━━━━━━\u001b[0m \u001b[32m0.0/386.0 kB\u001b[0m \u001b[31m?\u001b[0m eta \u001b[36m-:--:--\u001b[0m\r\u001b[2K     \u001b[91m━━━━━━━━━━━━━━━━━━━━\u001b[0m\u001b[90m╺\u001b[0m\u001b[90m━━━━━━━━━━━━━━━━━━━\u001b[0m \u001b[32m194.6/386.0 kB\u001b[0m \u001b[31m5.4 MB/s\u001b[0m eta \u001b[36m0:00:01\u001b[0m\r\u001b[2K     \u001b[91m━━━━━━━━━━━━━━━━━━━━━━━━━━━━━━━━━━━━━━━\u001b[0m\u001b[90m╺\u001b[0m \u001b[32m378.9/386.0 kB\u001b[0m \u001b[31m6.9 MB/s\u001b[0m eta \u001b[36m0:00:01\u001b[0m\r\u001b[2K     \u001b[90m━━━━━━━━━━━━━━━━━━━━━━━━━━━━━━━━━━━━━━━━\u001b[0m \u001b[32m386.0/386.0 kB\u001b[0m \u001b[31m4.9 MB/s\u001b[0m eta \u001b[36m0:00:00\u001b[0m\n",
            "\u001b[?25h  Preparing metadata (setup.py) ... \u001b[?25l\u001b[?25hdone\n",
            "\u001b[2K   \u001b[90m━━━━━━━━━━━━━━━━━━━━━━━━━━━━━━━━━━━━━━━━\u001b[0m \u001b[32m50.9/50.9 MB\u001b[0m \u001b[31m15.1 MB/s\u001b[0m eta \u001b[36m0:00:00\u001b[0m\n",
            "\u001b[?25h  Building wheel for geometric (setup.py) ... \u001b[?25l\u001b[?25hdone\n"
          ]
        }
      ]
    },
    {
      "cell_type": "code",
      "execution_count": null,
      "metadata": {
        "id": "ttEFdYRfGc6K",
        "colab": {
          "base_uri": "https://localhost:8080/"
        },
        "outputId": "0e41d5db-67cf-4ab2-a3bf-1664764e65cb"
      },
      "outputs": [
        {
          "output_type": "execute_result",
          "data": {
            "text/plain": [
              "<pyscf.gto.mole.Mole at 0x7d05e3df6910>"
            ]
          },
          "metadata": {},
          "execution_count": 3
        }
      ],
      "source": [
        "from pyscf import gto\n",
        "\n",
        "# Define the molecule\n",
        "mol = gto.Mole()\n",
        "mol.atom = '''\n",
        "    N  0.0000  0.0000  0.2000\n",
        "    H  0.0000  0.9433 -0.2000\n",
        "    H  0.8165 -0.4717 -0.2000\n",
        "    H -0.8165 -0.4717 -0.2000\n",
        "'''\n",
        "\n",
        "# Name\n",
        "molecule = 'Ammonia (NH₃)'\n",
        "\n",
        "# Set basis set\n",
        "mol.basis = 'cc-pvdz' # Alternatively: sto-3g, cc-pvdz,6-31G\n",
        "\n",
        "# Define the molecule using gto.M() function\n",
        "mol.atom = mol.atom\n",
        "mol.basis = mol.basis\n",
        "mol.build()"
      ]
    },
    {
      "cell_type": "markdown",
      "source": [
        "*Ground State with HF-SCF*"
      ],
      "metadata": {
        "id": "Wp4QmAcsPVh-"
      }
    },
    {
      "cell_type": "code",
      "source": [
        "# Hartree-Fock SCF (Slater Determinant)\n",
        "# First, ensure you have the PySCF package installed\n",
        "from pyscf import gto, scf\n",
        "import matplotlib.pyplot as plt\n",
        "import numpy as np\n",
        "\n",
        "# Step 1: Define the molecule using gto.M() function\n",
        "mol = gto.M(\n",
        "    atom = '''\n",
        "    O  0.000000  0.000000  0.000000\n",
        "    H  0.000000  0.757000  0.586000\n",
        "    H  0.000000 -0.757000  0.586000\n",
        "''',\n",
        "    basis = 'cc-pvdz',  # Use a common basis set, good balance between accuracy and computational cost\n",
        ")\n",
        "\n",
        "# Step 2: Perform a HF-SCF calculation using Restricted Hartree-Fock (RHF) method\n",
        "\n",
        "# scf.RHF for a restricted Hartree-Fock calculation for a closed-shell system (H₂O)\n",
        "mf = scf.RHF(mol)\n",
        "\n",
        "# Store convergence data\n",
        "conv_data = []\n",
        "\n",
        "# Callback function to collect convergence information\n",
        "# (callback function captures energy values at each iteration to track the convergence process)\n",
        "def callback(envs):\n",
        "    conv_data.append(envs['e_tot'])\n",
        "\n",
        "# Set the callback directly on the mf object\n",
        "mf.callback = callback\n",
        "\n",
        "# Perform HF calculation\n",
        "energy = mf.kernel()\n",
        "\n",
        "# Extract energy values and iteration numbers\n",
        "energies = conv_data\n",
        "iterations = range(1, len(energies) + 1)\n",
        "\n",
        "# Plot the convergence\n",
        "plt.plot(iterations, energies, marker='o')\n",
        "plt.xlabel('Iteration')\n",
        "plt.ylabel('Total Energy (Hartree)')\n",
        "plt.title('HF-SCF Convergence')\n",
        "plt.grid(True)\n",
        "plt.show()\n",
        "\n",
        "print(f\"HF-SCF energy for H2O: {energy} Hartree\")"
      ],
      "metadata": {
        "colab": {
          "base_uri": "https://localhost:8080/",
          "height": 526
        },
        "id": "gG7_BwYSPYri",
        "outputId": "c1307559-c14d-4a80-ad4b-2e40d8593b32"
      },
      "execution_count": null,
      "outputs": [
        {
          "output_type": "stream",
          "name": "stdout",
          "text": [
            "converged SCF energy = -76.0267936449739\n"
          ]
        },
        {
          "output_type": "display_data",
          "data": {
            "text/plain": [
              "<Figure size 640x480 with 1 Axes>"
            ],
            "image/png": "[encoded data removed]"
          },
          "metadata": {}
        },
        {
          "output_type": "stream",
          "name": "stdout",
          "text": [
            "HF-SCF energy for H2O: -76.02679364497386 Hartree\n"
          ]
        }
      ]
    },
    {
      "cell_type": "code",
      "source": [
        "# Hartree-Fock Hamiltonian includes electron-electron interaction in form of exchange integrals.\n",
        "# In Hartree-Fock theory, electrons are described using a Slater determinant of single-particle orbitals,\n",
        "# and Hamiltonian includes terms for the kinetic energy, electron-nuclear attraction, and electron-electron repulsion\n",
        "\n",
        "from pyscf import gto, scf\n",
        "\n",
        "# Define the molecule\n",
        "mol = gto.M(\n",
        "    atom = mol.atom,\n",
        "    basis = 'cc-pvdz',  # Use a common basis set\n",
        ")\n",
        "\n",
        "# Perform a Hartree-Fock calculation\n",
        "mf = scf.RHF(mol)\n",
        "mf.kernel()"
      ],
      "metadata": {
        "colab": {
          "base_uri": "https://localhost:8080/"
        },
        "id": "1ae7uueFPiQR",
        "outputId": "271c6eb4-b3f2-4819-b0ba-d30da8d7dc2c"
      },
      "execution_count": null,
      "outputs": [
        {
          "output_type": "stream",
          "name": "stdout",
          "text": [
            "converged SCF energy = -76.0267936449738\n"
          ]
        },
        {
          "output_type": "execute_result",
          "data": {
            "text/plain": [
              "-76.02679364497384"
            ]
          },
          "metadata": {},
          "execution_count": 5
        }
      ]
    },
    {
      "cell_type": "markdown",
      "source": [
        "*HF-SCF Core Hamiltonian matrix*"
      ],
      "metadata": {
        "id": "0UhoBbJxPndH"
      }
    },
    {
      "cell_type": "code",
      "source": [
        "# Core Hamiltonian matrix represents one-electron part of molecular Hamiltonian\n",
        "# = kinetic energy operator of electrons and electrostatic attraction operator between electrons and nuclei\n",
        "# Core Hamiltonian does not include electron-electron interactions\n",
        "\n",
        "# Get the core Hamiltonian (kinetic + nuclear attraction)\n",
        "core_hamiltonian = mf.get_hcore()\n",
        "print(\"Core Hamiltonian matrix (Hcore):\\n\", core_hamiltonian)"
      ],
      "metadata": {
        "colab": {
          "base_uri": "https://localhost:8080/"
        },
        "id": "SgmpWRGhPpJg",
        "outputId": "2d4062f5-315f-493d-d043-fb2aa133cdd5"
      },
      "execution_count": null,
      "outputs": [
        {
          "output_type": "stream",
          "name": "stdout",
          "text": [
            "Core Hamiltonian matrix (Hcore):\n",
            " [[-3.30266742e+01  7.86885373e+00 -5.92940699e+00  0.00000000e+00\n",
            "   0.00000000e+00 -3.06478075e-02  0.00000000e+00  0.00000000e+00\n",
            "  -5.73180346e-03  0.00000000e+00  0.00000000e+00 -3.84923952e-04\n",
            "   0.00000000e+00  3.35894308e-03 -1.62279641e+00 -2.10585214e+00\n",
            "   0.00000000e+00  2.68023438e+00  2.07311975e+00 -1.62279641e+00\n",
            "  -2.10585214e+00  0.00000000e+00 -2.68023438e+00  2.07311975e+00]\n",
            " [ 7.86885373e+00 -1.02785814e+01 -5.04442940e+00  0.00000000e+00\n",
            "   0.00000000e+00 -1.70475422e-01  0.00000000e+00  0.00000000e+00\n",
            "  -1.15911214e-01  0.00000000e+00  0.00000000e+00 -9.37449906e-03\n",
            "   0.00000000e+00  8.18042331e-02 -2.14274568e+00 -2.44231854e+00\n",
            "   0.00000000e+00  2.30454912e+00  1.75477703e+00 -2.14274568e+00\n",
            "  -2.44231854e+00  0.00000000e+00 -2.30454912e+00  1.75477703e+00]\n",
            " [-5.92940699e+00 -5.04442940e+00 -7.61956807e+00  0.00000000e+00\n",
            "   0.00000000e+00 -1.77925761e-01  0.00000000e+00  0.00000000e+00\n",
            "  -2.42181267e-01  0.00000000e+00  0.00000000e+00 -1.28774087e-02\n",
            "   0.00000000e+00  1.12371502e-01 -3.46624887e+00 -4.21955620e+00\n",
            "   0.00000000e+00  2.89538955e+00  2.18854891e+00 -3.46624887e+00\n",
            "  -4.21955620e+00  0.00000000e+00 -2.89538955e+00  2.18854891e+00]\n",
            " [ 0.00000000e+00  0.00000000e+00  0.00000000e+00 -8.45620600e+00\n",
            "   0.00000000e+00  0.00000000e+00 -3.75147734e+00  0.00000000e+00\n",
            "   0.00000000e+00  0.00000000e+00  0.00000000e+00  0.00000000e+00\n",
            "  -1.23474327e-01  0.00000000e+00  0.00000000e+00  0.00000000e+00\n",
            "  -1.48788538e+00  0.00000000e+00  0.00000000e+00  0.00000000e+00\n",
            "   0.00000000e+00 -1.48788538e+00  0.00000000e+00  0.00000000e+00]\n",
            " [ 0.00000000e+00  0.00000000e+00  0.00000000e+00  0.00000000e+00\n",
            "  -8.56253774e+00  0.00000000e+00  0.00000000e+00 -3.84860424e+00\n",
            "   0.00000000e+00  0.00000000e+00 -2.11466842e-01  0.00000000e+00\n",
            "   0.00000000e+00  0.00000000e+00 -1.76308837e+00 -6.53955674e-01\n",
            "   0.00000000e+00  1.28717469e+00  2.13919727e+00  1.76308837e+00\n",
            "   6.53955674e-01  0.00000000e+00  1.28717469e+00 -2.13919727e+00]\n",
            " [-3.06478075e-02 -1.70475422e-01 -1.77925761e-01  0.00000000e+00\n",
            "   0.00000000e+00 -8.51992462e+00  0.00000000e+00  0.00000000e+00\n",
            "  -3.80968002e+00  0.00000000e+00  0.00000000e+00 -1.47617700e-01\n",
            "   0.00000000e+00  4.39962575e-02 -1.40666693e+00 -5.85631681e-01\n",
            "   0.00000000e+00  2.20702081e+00  1.95471024e-01 -1.40666693e+00\n",
            "  -5.85631681e-01  0.00000000e+00 -2.20702081e+00  1.95471024e-01]\n",
            " [ 0.00000000e+00  0.00000000e+00  0.00000000e+00 -3.75147734e+00\n",
            "   0.00000000e+00  0.00000000e+00 -4.60666380e+00  0.00000000e+00\n",
            "   0.00000000e+00  0.00000000e+00  0.00000000e+00  0.00000000e+00\n",
            "  -1.04330922e-01  0.00000000e+00  0.00000000e+00  0.00000000e+00\n",
            "  -1.90867427e+00  0.00000000e+00  0.00000000e+00  0.00000000e+00\n",
            "   0.00000000e+00 -1.90867427e+00  0.00000000e+00  0.00000000e+00]\n",
            " [ 0.00000000e+00  0.00000000e+00  0.00000000e+00  0.00000000e+00\n",
            "  -3.84860424e+00  0.00000000e+00  0.00000000e+00 -4.83239854e+00\n",
            "   0.00000000e+00  0.00000000e+00 -2.20588336e-01  0.00000000e+00\n",
            "   0.00000000e+00  0.00000000e+00 -2.52639309e+00 -1.34055236e+00\n",
            "   0.00000000e+00  7.95117314e-02  1.51359072e+00  2.52639309e+00\n",
            "   1.34055236e+00  0.00000000e+00  7.95117314e-02 -1.51359072e+00]\n",
            " [-5.73180346e-03 -1.15911214e-01 -2.42181267e-01  0.00000000e+00\n",
            "   0.00000000e+00 -3.80968002e+00  0.00000000e+00  0.00000000e+00\n",
            "  -4.74193392e+00  0.00000000e+00  0.00000000e+00 -1.27132332e-01\n",
            "   0.00000000e+00  5.81287072e-02 -2.01006131e+00 -1.19121764e+00\n",
            "   0.00000000e+00  1.59378974e+00 -7.23967567e-01 -2.01006131e+00\n",
            "  -1.19121764e+00  0.00000000e+00 -1.59378974e+00 -7.23967567e-01]\n",
            " [ 0.00000000e+00  0.00000000e+00  0.00000000e+00  0.00000000e+00\n",
            "   0.00000000e+00  0.00000000e+00  0.00000000e+00  0.00000000e+00\n",
            "   0.00000000e+00 -4.33176456e+00  0.00000000e+00  0.00000000e+00\n",
            "   0.00000000e+00  0.00000000e+00  0.00000000e+00  0.00000000e+00\n",
            "  -1.33571333e+00  0.00000000e+00  0.00000000e+00  0.00000000e+00\n",
            "   0.00000000e+00  1.33571333e+00  0.00000000e+00  0.00000000e+00]\n",
            " [ 0.00000000e+00  0.00000000e+00  0.00000000e+00  0.00000000e+00\n",
            "  -2.11466842e-01  0.00000000e+00  0.00000000e+00 -2.20588336e-01\n",
            "   0.00000000e+00  0.00000000e+00 -4.49039167e+00  0.00000000e+00\n",
            "   0.00000000e+00  0.00000000e+00 -1.21551483e+00 -1.63549359e-01\n",
            "   0.00000000e+00  7.75466399e-01  7.51542984e-02  1.21551483e+00\n",
            "   1.63549359e-01  0.00000000e+00  7.75466399e-01 -7.51542984e-02]\n",
            " [-3.84923952e-04 -9.37449906e-03 -1.28774087e-02  0.00000000e+00\n",
            "   0.00000000e+00 -1.47617700e-01  0.00000000e+00  0.00000000e+00\n",
            "  -1.27132332e-01  0.00000000e+00  0.00000000e+00 -4.34434678e+00\n",
            "   0.00000000e+00 -4.74228405e-02 -1.17859045e-01 -3.24499550e-02\n",
            "   0.00000000e+00  9.58860727e-01 -1.09243644e+00 -1.17859045e-01\n",
            "  -3.24499550e-02  0.00000000e+00 -9.58860727e-01 -1.09243644e+00]\n",
            " [ 0.00000000e+00  0.00000000e+00  0.00000000e+00 -1.23474327e-01\n",
            "   0.00000000e+00  0.00000000e+00 -1.04330922e-01  0.00000000e+00\n",
            "   0.00000000e+00  0.00000000e+00  0.00000000e+00  0.00000000e+00\n",
            "  -4.29538787e+00  0.00000000e+00  0.00000000e+00  0.00000000e+00\n",
            "  -1.05806804e+00  0.00000000e+00  0.00000000e+00  0.00000000e+00\n",
            "   0.00000000e+00 -1.05806804e+00  0.00000000e+00  0.00000000e+00]\n",
            " [ 3.35894308e-03  8.18042331e-02  1.12371502e-01  0.00000000e+00\n",
            "   0.00000000e+00  4.39962575e-02  0.00000000e+00  0.00000000e+00\n",
            "   5.81287072e-02  0.00000000e+00  0.00000000e+00 -4.74228405e-02\n",
            "   0.00000000e+00 -4.37525008e+00  7.85481906e-01  1.47327175e-01\n",
            "   0.00000000e+00  1.62704085e-01 -9.01452729e-01  7.85481906e-01\n",
            "   1.47327175e-01  0.00000000e+00 -1.62704085e-01 -9.01452729e-01]\n",
            " [-1.62279641e+00 -2.14274568e+00 -3.46624887e+00  0.00000000e+00\n",
            "  -1.76308837e+00 -1.40666693e+00  0.00000000e+00 -2.52639309e+00\n",
            "  -2.01006131e+00  0.00000000e+00 -1.21551483e+00 -1.17859045e-01\n",
            "   0.00000000e+00  7.85481906e-01 -5.13361961e+00 -3.57067941e+00\n",
            "   0.00000000e+00  1.23444403e+00  8.96110647e-01 -9.42223934e-01\n",
            "  -1.88772423e+00  0.00000000e+00 -1.29470776e+00  2.15394247e-01]\n",
            " [-2.10585214e+00 -2.44231854e+00 -4.21955620e+00  0.00000000e+00\n",
            "  -6.53955674e-01 -5.85631681e-01  0.00000000e+00 -1.34055236e+00\n",
            "  -1.19121764e+00  0.00000000e+00 -1.63549359e-01 -3.24499550e-02\n",
            "   0.00000000e+00  1.47327175e-01 -3.57067941e+00 -4.21775874e+00\n",
            "   0.00000000e+00  1.05832404e+00  7.63616934e-01 -1.88772423e+00\n",
            "  -2.96397208e+00  0.00000000e+00 -1.48809338e+00  4.70407485e-01]\n",
            " [ 0.00000000e+00  0.00000000e+00  0.00000000e+00 -1.48788538e+00\n",
            "   0.00000000e+00  0.00000000e+00 -1.90867427e+00  0.00000000e+00\n",
            "   0.00000000e+00 -1.33571333e+00  0.00000000e+00  0.00000000e+00\n",
            "  -1.05806804e+00  0.00000000e+00  0.00000000e+00  0.00000000e+00\n",
            "  -3.38370580e+00  0.00000000e+00  0.00000000e+00  0.00000000e+00\n",
            "   0.00000000e+00 -3.53090562e-01  0.00000000e+00  0.00000000e+00]\n",
            " [ 2.68023438e+00  2.30454912e+00  2.89538955e+00  0.00000000e+00\n",
            "   1.28717469e+00  2.20702081e+00  0.00000000e+00  7.95117314e-02\n",
            "   1.59378974e+00  0.00000000e+00  7.75466399e-01  9.58860727e-01\n",
            "   0.00000000e+00  1.62704085e-01  1.23444403e+00  1.05832404e+00\n",
            "   0.00000000e+00 -4.22083474e+00 -6.13936558e-01  1.29470776e+00\n",
            "   1.48809338e+00  0.00000000e+00  1.98882625e+00 -3.27467321e-01]\n",
            " [ 2.07311975e+00  1.75477703e+00  2.18854891e+00  0.00000000e+00\n",
            "   2.13919727e+00  1.95471024e-01  0.00000000e+00  1.51359072e+00\n",
            "  -7.23967567e-01  0.00000000e+00  7.51542984e-02 -1.09243644e+00\n",
            "   0.00000000e+00 -9.01452729e-01  8.96110647e-01  7.63616934e-01\n",
            "   0.00000000e+00 -6.13936558e-01 -3.85895919e+00  2.15394247e-01\n",
            "   4.70407485e-01  0.00000000e+00  3.27467321e-01 -4.72969781e-01]\n",
            " [-1.62279641e+00 -2.14274568e+00 -3.46624887e+00  0.00000000e+00\n",
            "   1.76308837e+00 -1.40666693e+00  0.00000000e+00  2.52639309e+00\n",
            "  -2.01006131e+00  0.00000000e+00  1.21551483e+00 -1.17859045e-01\n",
            "   0.00000000e+00  7.85481906e-01 -9.42223934e-01 -1.88772423e+00\n",
            "   0.00000000e+00  1.29470776e+00  2.15394247e-01 -5.13361961e+00\n",
            "  -3.57067941e+00  0.00000000e+00 -1.23444403e+00  8.96110647e-01]\n",
            " [-2.10585214e+00 -2.44231854e+00 -4.21955620e+00  0.00000000e+00\n",
            "   6.53955674e-01 -5.85631681e-01  0.00000000e+00  1.34055236e+00\n",
            "  -1.19121764e+00  0.00000000e+00  1.63549359e-01 -3.24499550e-02\n",
            "   0.00000000e+00  1.47327175e-01 -1.88772423e+00 -2.96397208e+00\n",
            "   0.00000000e+00  1.48809338e+00  4.70407485e-01 -3.57067941e+00\n",
            "  -4.21775874e+00  0.00000000e+00 -1.05832404e+00  7.63616934e-01]\n",
            " [ 0.00000000e+00  0.00000000e+00  0.00000000e+00 -1.48788538e+00\n",
            "   0.00000000e+00  0.00000000e+00 -1.90867427e+00  0.00000000e+00\n",
            "   0.00000000e+00  1.33571333e+00  0.00000000e+00  0.00000000e+00\n",
            "  -1.05806804e+00  0.00000000e+00  0.00000000e+00  0.00000000e+00\n",
            "  -3.53090562e-01  0.00000000e+00  0.00000000e+00  0.00000000e+00\n",
            "   0.00000000e+00 -3.38370580e+00  0.00000000e+00  0.00000000e+00]\n",
            " [-2.68023438e+00 -2.30454912e+00 -2.89538955e+00  0.00000000e+00\n",
            "   1.28717469e+00 -2.20702081e+00  0.00000000e+00  7.95117314e-02\n",
            "  -1.59378974e+00  0.00000000e+00  7.75466399e-01 -9.58860727e-01\n",
            "   0.00000000e+00 -1.62704085e-01 -1.29470776e+00 -1.48809338e+00\n",
            "   0.00000000e+00  1.98882625e+00  3.27467321e-01 -1.23444403e+00\n",
            "  -1.05832404e+00  0.00000000e+00 -4.22083474e+00  6.13936558e-01]\n",
            " [ 2.07311975e+00  1.75477703e+00  2.18854891e+00  0.00000000e+00\n",
            "  -2.13919727e+00  1.95471024e-01  0.00000000e+00 -1.51359072e+00\n",
            "  -7.23967567e-01  0.00000000e+00 -7.51542984e-02 -1.09243644e+00\n",
            "   0.00000000e+00 -9.01452729e-01  2.15394247e-01  4.70407485e-01\n",
            "   0.00000000e+00 -3.27467321e-01 -4.72969781e-01  8.96110647e-01\n",
            "   7.63616934e-01  0.00000000e+00  6.13936558e-01 -3.85895919e+00]]\n"
          ]
        }
      ]
    },
    {
      "cell_type": "markdown",
      "source": [
        "*HF-SCF Fock Matrix*"
      ],
      "metadata": {
        "id": "zjJAMgloPses"
      }
    },
    {
      "cell_type": "code",
      "source": [
        "# Fock matrix approximates many-electron wavefunction of system (H₂O),\n",
        "# i.e. approximates interactions between electrons in a system to find an optimal set of orbitals.\n",
        "# It gives snapshot of molecule electronic structure, incl. energies of molecular orbitals and how they interact or mix\n",
        "\n",
        "# Get the Fock matrix (core Hamiltonian + electron-electron interaction terms)\n",
        "fock_matrix = mf.get_fock()\n",
        "print(\"Fock Matrix (Hartree-Fock Hamiltonian):\\n\", fock_matrix)"
      ],
      "metadata": {
        "colab": {
          "base_uri": "https://localhost:8080/"
        },
        "id": "WmhdrqFFPuY4",
        "outputId": "cd6556e8-cfcd-4a5c-ce10-0e798b6bfa26"
      },
      "execution_count": null,
      "outputs": [
        {
          "output_type": "stream",
          "name": "stdout",
          "text": [
            "Fock Matrix (Hartree-Fock Hamiltonian):\n",
            " [[-2.05503070e+01  4.42448190e+00 -3.95660733e+00 -2.93828883e-18\n",
            "  -6.93889390e-17 -2.41662208e-02  6.62141105e-19 -7.37257477e-18\n",
            "  -6.01764295e-03 -1.53057002e-17 -1.46367293e-17 -5.01310614e-05\n",
            "   1.10536658e-17 -1.20872661e-03 -1.09323297e+00 -1.41449454e+00\n",
            "  -6.58948219e-19  1.78970445e+00  1.38345313e+00 -1.09323297e+00\n",
            "  -1.41449454e+00  2.89195621e-18 -1.78970445e+00  1.38345313e+00]\n",
            " [ 4.42448190e+00 -1.77436135e+00 -3.63157077e-01 -7.13924528e-17\n",
            "  -1.73472348e-16 -4.06665759e-02 -2.39975024e-17 -5.46437895e-17\n",
            "  -6.01372077e-02 -1.08335787e-17 -7.97972799e-17 -6.84863507e-03\n",
            "   7.06966341e-18  8.57775181e-02 -4.45334301e-01 -4.42871045e-01\n",
            "  -8.82913808e-18  4.43589556e-02  3.68621936e-02 -4.45334301e-01\n",
            "  -4.42871045e-01 -1.62154088e-17 -4.43589556e-02  3.68621936e-02]\n",
            " [-3.95660733e+00 -3.63157077e-01 -1.81678753e+00 -1.90255459e-17\n",
            "  -1.30104261e-16 -9.49263136e-02 -9.76938361e-18 -5.11743425e-17\n",
            "  -1.76260013e-01 -8.98638036e-18 -3.38271078e-17 -1.20769586e-02\n",
            "   8.47894485e-18  1.17736246e-01 -8.41373246e-01 -9.39345401e-01\n",
            "   4.82932172e-19  7.32515280e-01  5.48555663e-01 -8.41373246e-01\n",
            "  -9.39345401e-01 -1.85074130e-17 -7.32515280e-01  5.48555663e-01]\n",
            " [-2.93828883e-18 -7.13924528e-17 -1.90255459e-17 -1.45586577e-01\n",
            "  -2.87030283e-16  2.16223384e-16 -6.60576550e-01 -7.14380685e-17\n",
            "   1.01310545e-16 -4.33680869e-17  9.05947390e-17 -3.34586242e-17\n",
            "  -7.49133997e-02  8.71262593e-17  6.14392145e-17  1.58796269e-17\n",
            "  -3.07560407e-01 -1.70595313e-17  1.42390786e-16 -1.88822597e-17\n",
            "   3.36064376e-17 -3.07560407e-01  5.57335253e-17 -8.83015168e-17]\n",
            " [-6.93889390e-17 -1.73472348e-16 -1.30104261e-16 -2.87030283e-16\n",
            "  -8.09717439e-02 -1.54390389e-16 -1.79496918e-16 -6.98886924e-01\n",
            "  -1.84314369e-17 -9.81593109e-17 -2.27531090e-01 -1.05709712e-18\n",
            "   6.70549780e-17  2.42861287e-16 -4.64066964e-01 -1.92560690e-01\n",
            "  -7.87611196e-17 -1.31919702e-02  1.85521662e-01  4.64066964e-01\n",
            "   1.92560690e-01 -8.07275212e-18 -1.31919702e-02 -1.85521662e-01]\n",
            " [-2.41662208e-02 -4.06665759e-02 -9.49263136e-02  2.16223384e-16\n",
            "  -1.54390389e-16 -1.13160703e-01  1.07691525e-16 -1.81495444e-16\n",
            "  -6.89832240e-01  1.04335076e-17 -1.46584134e-16 -9.16044348e-02\n",
            "  -4.05184795e-17  7.73878190e-02 -3.79693631e-01 -2.07824302e-01\n",
            "   4.31941211e-17  2.23805419e-01 -1.22589840e-01 -3.79693631e-01\n",
            "  -2.07824302e-01  2.44229217e-17 -2.23805419e-01 -1.22589840e-01]\n",
            " [ 6.62141105e-19 -2.39975024e-17 -9.76938361e-18 -6.60576550e-01\n",
            "  -1.79496918e-16  1.07691525e-16  1.66352092e-02 -3.24663500e-17\n",
            "   3.70151862e-17 -1.38777878e-17  7.07182548e-17 -2.69268736e-17\n",
            "  -6.36668806e-02  6.89958283e-17  4.53939662e-17  1.69703422e-18\n",
            "  -4.19660541e-02 -9.15957727e-18  9.62838141e-17 -4.31369991e-17\n",
            "   7.73665977e-18 -4.19660541e-02  3.09017029e-17 -7.18358902e-17]\n",
            " [-7.37257477e-18 -5.46437895e-17 -5.11743425e-17 -7.14380685e-17\n",
            "  -6.98886924e-01 -1.81495444e-16 -3.24663500e-17 -1.96800152e-01\n",
            "  -5.18248638e-17 -7.35751083e-17 -2.49376937e-01 -1.60461922e-17\n",
            "   6.70238894e-17  1.51788304e-16 -2.81401226e-01 -9.97438455e-02\n",
            "  -2.22780624e-17  4.85603605e-02  4.55536162e-02  2.81401226e-01\n",
            "   9.97438455e-02  5.56589088e-17  4.85603605e-02 -4.55536162e-02]\n",
            " [-6.01764295e-03 -6.01372077e-02 -1.76260013e-01  1.01310545e-16\n",
            "  -1.84314369e-17 -6.89832240e-01  3.70151862e-17 -5.18248638e-17\n",
            "  -1.15499697e-01  1.67051436e-17 -1.04083409e-16 -8.23999085e-02\n",
            "  -2.65836494e-17  9.19308564e-02 -2.47059794e-01 -1.91547287e-01\n",
            "   1.30790235e-17  8.90541577e-02  1.27328293e-02 -2.47059794e-01\n",
            "  -1.91547287e-01 -1.13874155e-17 -8.90541577e-02  1.27328293e-02]\n",
            " [-1.53057002e-17 -1.08335787e-17 -8.98638036e-18 -4.33680869e-17\n",
            "  -9.81593109e-17  1.04335076e-17 -1.38777878e-17 -7.35751083e-17\n",
            "   1.67051436e-17  2.91604447e+00 -1.69849151e-17 -3.10546955e-18\n",
            "   3.46944695e-18 -2.73052227e-18 -2.85887526e-17 -1.70263963e-17\n",
            "   2.33801822e-01  1.76003679e-17  4.10882985e-17  5.07233451e-17\n",
            "   1.56144978e-17 -2.33801822e-01  1.39016998e-17 -2.13110464e-17]\n",
            " [-1.46367293e-17 -7.97972799e-17 -3.38271078e-17  9.05947390e-17\n",
            "  -2.27531090e-01 -1.46584134e-16  7.07182548e-17 -2.49376937e-01\n",
            "  -1.04083409e-16 -1.69849151e-17  2.75064108e+00 -1.26851654e-17\n",
            "   2.95450645e-17  9.97465999e-18 -6.55498893e-02 -6.18422277e-02\n",
            "   2.57405614e-17 -3.95579699e-01 -1.85473704e-01  6.55498893e-02\n",
            "   6.18422277e-02  5.55000888e-17 -3.95579699e-01  1.85473704e-01]\n",
            " [-5.01310614e-05 -6.84863507e-03 -1.20769586e-02 -3.34586242e-17\n",
            "  -1.05709712e-18 -9.16044348e-02 -2.69268736e-17 -1.60461922e-17\n",
            "  -8.23999085e-02 -3.10546955e-18 -1.26851654e-17  2.90796983e+00\n",
            "  -3.99855678e-18 -2.88015218e-02 -2.23320937e-02 -2.00819908e-02\n",
            "  -1.26267236e-17 -1.48719708e-01  1.73672431e-01 -2.23320937e-02\n",
            "  -2.00819908e-02 -1.09772507e-17  1.48719708e-01  1.73672431e-01]\n",
            " [ 1.10536658e-17  7.06966341e-18  8.47894485e-18 -7.49133997e-02\n",
            "   6.70549780e-17 -4.05184795e-17 -6.36668806e-02  6.70238894e-17\n",
            "  -2.65836494e-17  3.46944695e-18  2.95450645e-17 -3.99855678e-18\n",
            "   2.94163350e+00  5.71776026e-19  4.42262968e-17  1.95208077e-17\n",
            "   1.66294378e-01 -2.29612503e-18 -1.00267036e-17 -5.70583361e-17\n",
            "  -1.76119183e-17  1.66294378e-01 -2.02379637e-17  1.04160227e-17]\n",
            " [-1.20872661e-03  8.57775181e-02  1.17736246e-01  8.71262593e-17\n",
            "   2.42861287e-16  7.73878190e-02  6.89958283e-17  1.51788304e-16\n",
            "   9.19308564e-02 -2.73052227e-18  9.97465999e-18 -2.88015218e-02\n",
            "   5.71776026e-19  2.86567978e+00  4.40052900e-02  8.65603294e-02\n",
            "   3.82874616e-17  1.15055740e-01  2.86113531e-01  4.40052900e-02\n",
            "   8.65603294e-02  3.72318205e-17 -1.15055740e-01  2.86113531e-01]\n",
            " [-1.09323297e+00 -4.45334301e-01 -8.41373246e-01  6.14392145e-17\n",
            "  -4.64066964e-01 -3.79693631e-01  4.53939662e-17 -2.81401226e-01\n",
            "  -2.47059794e-01 -2.85887526e-17 -6.55498893e-02 -2.23320937e-02\n",
            "   4.42262968e-17  4.40052900e-02 -4.80892677e-01 -6.14673830e-01\n",
            "   1.62075455e-17  5.08667420e-01  3.69240315e-01 -2.99083661e-01\n",
            "  -4.29632587e-01  4.11465993e-17 -3.96841316e-01  1.04774565e-01]\n",
            " [-1.41449454e+00 -4.42871045e-01 -9.39345401e-01  1.58796269e-17\n",
            "  -1.92560690e-01 -2.07824302e-01  1.69703422e-18 -9.97438455e-02\n",
            "  -1.91547287e-01 -1.70263963e-17 -6.18422277e-02 -2.00819908e-02\n",
            "   1.95208077e-17  8.65603294e-02 -6.14673830e-01 -4.93264288e-01\n",
            "  -1.67062464e-19  4.66260681e-01  3.34290925e-01 -4.29632587e-01\n",
            "  -4.74486702e-01  4.74074991e-18 -3.94700710e-01  2.31406777e-01]\n",
            " [-6.58948219e-19 -8.82913808e-18  4.82932172e-19 -3.07560407e-01\n",
            "  -7.87611196e-17  4.31941211e-17 -4.19660541e-02 -2.22780624e-17\n",
            "   1.30790235e-17  2.33801822e-01  2.57405614e-17 -1.26267236e-17\n",
            "   1.66294378e-01  3.82874616e-17  1.62075455e-17 -1.67062464e-19\n",
            "   1.31384240e+00 -2.09095946e-18  4.38337590e-17 -1.26350350e-17\n",
            "   8.17949536e-18 -1.13467604e-01  1.44649667e-17 -3.18306010e-17]\n",
            " [ 1.78970445e+00  4.43589556e-02  7.32515280e-01 -1.70595313e-17\n",
            "  -1.31919702e-02  2.23805419e-01 -9.15957727e-18  4.85603605e-02\n",
            "   8.90541577e-02  1.76003679e-17 -3.95579699e-01 -1.48719708e-01\n",
            "  -2.29612503e-18  1.15055740e-01  5.08667420e-01  4.66260681e-01\n",
            "  -2.09095946e-18  8.46248845e-01 -3.58048541e-01  3.96841316e-01\n",
            "   3.94700710e-01 -5.51032070e-18  4.07906054e-01 -1.99847614e-01]\n",
            " [ 1.38345313e+00  3.68621936e-02  5.48555663e-01  1.42390786e-16\n",
            "   1.85521662e-01 -1.22589840e-01  9.62838141e-17  4.55536162e-02\n",
            "   1.27328293e-02  4.10882985e-17 -1.85473704e-01  1.73672431e-01\n",
            "  -1.00267036e-17  2.86113531e-01  3.69240315e-01  3.34290925e-01\n",
            "   4.38337590e-17 -3.58048541e-01  1.04773621e+00  1.04774565e-01\n",
            "   2.31406777e-01  2.37926359e-17  1.99847614e-01 -1.64333959e-01]\n",
            " [-1.09323297e+00 -4.45334301e-01 -8.41373246e-01 -1.88822597e-17\n",
            "   4.64066964e-01 -3.79693631e-01 -4.31369991e-17  2.81401226e-01\n",
            "  -2.47059794e-01  5.07233451e-17  6.55498893e-02 -2.23320937e-02\n",
            "  -5.70583361e-17  4.40052900e-02 -2.99083661e-01 -4.29632587e-01\n",
            "  -1.26350350e-17  3.96841316e-01  1.04774565e-01 -4.80892677e-01\n",
            "  -6.14673830e-01 -9.24560801e-17 -5.08667420e-01  3.69240315e-01]\n",
            " [-1.41449454e+00 -4.42871045e-01 -9.39345401e-01  3.36064376e-17\n",
            "   1.92560690e-01 -2.07824302e-01  7.73665977e-18  9.97438455e-02\n",
            "  -1.91547287e-01  1.56144978e-17  6.18422277e-02 -2.00819908e-02\n",
            "  -1.76119183e-17  8.65603294e-02 -4.29632587e-01 -4.74486702e-01\n",
            "   8.17949536e-18  3.94700710e-01  2.31406777e-01 -6.14673830e-01\n",
            "  -4.93264288e-01 -3.09581994e-17 -4.66260681e-01  3.34290925e-01]\n",
            " [ 2.89195621e-18 -1.62154088e-17 -1.85074130e-17 -3.07560407e-01\n",
            "  -8.07275212e-18  2.44229217e-17 -4.19660541e-02  5.56589088e-17\n",
            "  -1.13874155e-17 -2.33801822e-01  5.55000888e-17 -1.09772507e-17\n",
            "   1.66294378e-01  3.72318205e-17  4.11465993e-17  4.74074991e-18\n",
            "  -1.13467604e-01 -5.51032070e-18  2.37926359e-17 -9.24560801e-17\n",
            "  -3.09581994e-17  1.31384240e+00 -6.55648699e-18 -1.12986468e-17]\n",
            " [-1.78970445e+00 -4.43589556e-02 -7.32515280e-01  5.57335253e-17\n",
            "  -1.31919702e-02 -2.23805419e-01  3.09017029e-17  4.85603605e-02\n",
            "  -8.90541577e-02  1.39016998e-17 -3.95579699e-01  1.48719708e-01\n",
            "  -2.02379637e-17 -1.15055740e-01 -3.96841316e-01 -3.94700710e-01\n",
            "   1.44649667e-17  4.07906054e-01  1.99847614e-01 -5.08667420e-01\n",
            "  -4.66260681e-01 -6.55648699e-18  8.46248845e-01  3.58048541e-01]\n",
            " [ 1.38345313e+00  3.68621936e-02  5.48555663e-01 -8.83015168e-17\n",
            "  -1.85521662e-01 -1.22589840e-01 -7.18358902e-17 -4.55536162e-02\n",
            "   1.27328293e-02 -2.13110464e-17  1.85473704e-01  1.73672431e-01\n",
            "   1.04160227e-17  2.86113531e-01  1.04774565e-01  2.31406777e-01\n",
            "  -3.18306010e-17 -1.99847614e-01 -1.64333959e-01  3.69240315e-01\n",
            "   3.34290925e-01 -1.12986468e-17  3.58048541e-01  1.04773621e+00]]\n"
          ]
        }
      ]
    },
    {
      "cell_type": "code",
      "source": [
        "print(\"Fock Matrix Shape:\", fock_matrix.shape)\n",
        "print(\"Fock Matrix Size:\", fock_matrix.size)\n",
        "print(\"Fock Matrix Dimension:\", fock_matrix.ndim)\n",
        "print(\"Fock Matrix Trace:\", np.trace(fock_matrix))\n",
        "print(\"Fock Matrix Determinant:\", np.linalg.det(fock_matrix))\n",
        "print(\"Fock Matrix Rank:\", np.linalg.matrix_rank(fock_matrix))"
      ],
      "metadata": {
        "colab": {
          "base_uri": "https://localhost:8080/"
        },
        "id": "vE4XfhPZPxXK",
        "outputId": "28f92443-ca7a-4fe0-ea97-5191eb51802a"
      },
      "execution_count": null,
      "outputs": [
        {
          "output_type": "stream",
          "name": "stdout",
          "text": [
            "Fock Matrix Shape: (24, 24)\n",
            "Fock Matrix Size: 576\n",
            "Fock Matrix Dimension: 2\n",
            "Fock Matrix Trace: -5.927529968220448\n",
            "Fock Matrix Determinant: -0.3799637617374651\n",
            "Fock Matrix Rank: 24\n"
          ]
        }
      ]
    },
    {
      "cell_type": "markdown",
      "source": [
        "* **Shape**: corresponds to 24 basis functions (molecular orbitals) used to describe water molecule (H₂O) = 1s orbitals of the hydrogen atoms + oxygen atom's $2s, 2p_x, 2p_y$, and $2p_z$ orbitals + additional basis functions from higher-order functions like polarization or diffuse functions depending on theory or basis set (e.g., STO-3G, 6-31G, etc.)\n",
        "* **Size**: 24 x 24 = 576. All interactions between 24 orbitals (both diagonal and off-diagonal). Represent pairwise interactions between orbitals as N x N matrix. Each element $F_ij$ corresponds to interaction between orbital i and orbital j.\n",
        "* **Trace**: diagonal elements correspond to one-electron energies of molecular orbitals. In stable molecule like water, most electrons occupy bound molecular orbitals with negative energies (relative to free electron), hence a negative trace. Magnitude of trace depends on the specific molecular orbitals' energy levels, which are influenced by the electron-nuclear and electron-electron interactions in the Hartree-Fock approximation.\n",
        "* **Rank**: = number of linearly independent rows or columns. Rank is 24 (equal to number of rows/columns) = all 24 molecular orbitals are linearly independent, none redundant - expected in Hartree-Fock calculation where each basis function represents a unique molecular orbital.\n",
        "* **Determinant**: insights into matrix's invertibility and system's stability.\n",
        "  * A determinant close to zero (but not exactly zero) typically suggests that the matrix is close to being singular, meaning it is almost non-invertible. This could imply that some of the molecular orbitals are nearly degenerate or that the system is on the verge of instability.\n",
        "  * A negative determinant indicates a specific symmetry property or interaction of the molecular orbitals, but the exact physical meaning is more abstract in this context.\n",
        "  * -0.38 suggests that there are significant interactions between orbitals, but system remains stable, as determinant is not zero.\n"
      ],
      "metadata": {
        "id": "hyKDPeSgP1Ka"
      }
    },
    {
      "cell_type": "markdown",
      "source": [
        "*HF-SCF Molecular Orbital Coefficients for All Orbitals (occupied and unoccupied)*"
      ],
      "metadata": {
        "id": "gd3cCfqMP4GL"
      }
    },
    {
      "cell_type": "code",
      "source": [
        "# Retrieve Hartree-Fock orbitals (related to the Slater determinant) - occupied and unoccupied\n",
        "# Occupied orbitals: contain electrons in Hartree-Fock ground state\n",
        "# Virtual orbitals: unoccupied in ground state but can be important for excited state or post-Hartree-Fock methods like MP2 or CISD (electronic correlation effects)\n",
        "\n",
        "from pyscf import gto, scf\n",
        "\n",
        "# Define the molecule\n",
        "mol = gto.M(\n",
        "    atom = mol.atom,\n",
        "    basis = 'cc-pvdz',  # Use a common basis set\n",
        ")\n",
        "\n",
        "# Perform a Hartree-Fock calculation\n",
        "mf = scf.RHF(mol)\n",
        "mf.kernel()\n",
        "\n",
        "# Get the molecular orbitals (which form the Slater determinant)\n",
        "mo_coeff = mf.mo_coeff  # Coefficients of the molecular orbitals in the atomic basis\n",
        "mo_energy = mf.mo_energy  # Orbital energies\n",
        "\n",
        "print(\"Molecular Orbital Coefficients (MO coefficients):\\n\", mo_coeff)\n",
        "print(\"Molecular Orbital Energies:\\n\", mo_energy)"
      ],
      "metadata": {
        "colab": {
          "base_uri": "https://localhost:8080/"
        },
        "id": "5T013zOGP6YP",
        "outputId": "d4ba5dc2-f945-4807-bdc2-d5ec27f77d5c"
      },
      "execution_count": null,
      "outputs": [
        {
          "output_type": "stream",
          "name": "stdout",
          "text": [
            "converged SCF energy = -76.0267936449739\n",
            "Molecular Orbital Coefficients (MO coefficients):\n",
            " [[ 1.00089979e+00 -8.21604151e-03 -6.86246320e-16  2.16305736e-03\n",
            "   6.47296608e-17 -5.20574216e-02  8.30693743e-16 -8.44229961e-16\n",
            "  -6.51033846e-02  3.14639080e-03 -1.81592909e-16  1.62583386e-15\n",
            "   2.02016030e-01  1.04801206e-15  3.21575224e-17 -7.24314862e-01\n",
            "   1.06169494e-14 -4.84432281e-14  2.78505588e-01  1.45587799e-18\n",
            "  -7.07716311e-17 -8.42916924e-02 -1.42425038e-01 -5.69476952e-15]\n",
            " [ 1.17545240e-03  4.42883335e-01  1.31494585e-16 -1.50393950e-01\n",
            "  -2.17059965e-16  7.26049469e-02 -1.16448675e-15 -9.29869879e-15\n",
            "  -2.55809190e-01  1.14706356e-01  8.44105039e-16  3.74676399e-15\n",
            "   5.29322337e-01  2.72083792e-15  5.68660157e-17 -1.59283979e+00\n",
            "   2.37338702e-14 -1.25541974e-13  7.29453105e-01 -2.39854028e-17\n",
            "  -1.78245419e-16 -1.54240789e-01 -1.75143749e-01 -6.96748641e-15]\n",
            " [-2.66588259e-03  3.75739337e-01  7.62530806e-15 -3.49801235e-01\n",
            "  -1.42254690e-15  1.00273972e+00 -1.44905350e-14 -4.82093701e-15\n",
            "   3.19724145e-01  7.49301446e-01  8.91315081e-15 -1.03594898e-14\n",
            "  -5.07242956e-01 -2.71953718e-15 -2.36210007e-16  3.03486435e+00\n",
            "  -3.52045019e-14 -1.15496810e-13  7.92621040e-01 -1.74487442e-16\n",
            "   1.32516009e-16  5.60816987e-01  2.26885340e+00  8.94553285e-14]\n",
            " [ 7.56597267e-19 -9.39133333e-17  4.83565417e-16 -1.30179796e-15\n",
            "   6.31170514e-01 -9.25085537e-17 -2.52573898e-16 -6.69679566e-16\n",
            "  -6.48162294e-16  9.71503914e-15 -9.67823569e-01  6.99038569e-15\n",
            "   1.08433454e-15  5.50624975e-16 -2.02855275e-02  9.44649737e-16\n",
            "   2.09900461e-16 -1.46662591e-16  1.36951394e-16 -1.14492727e-02\n",
            "  -5.20688184e-16  5.33935446e-17  3.85757795e-17  4.90267973e-18]\n",
            " [ 5.25901621e-18 -2.45243336e-16  4.89970411e-01  3.12414298e-15\n",
            "  -7.21184309e-16 -3.23986433e-15 -2.83168415e-01  2.67947805e-01\n",
            "  -1.32397351e-14 -2.62945125e-15 -5.20377731e-15 -7.34053617e-01\n",
            "   2.47275680e-15  9.92047051e-16 -2.02472585e-16 -7.09904784e-15\n",
            "  -1.03598960e-02  8.39406513e-01  1.31608780e-13 -5.49472635e-16\n",
            "  -5.38983263e-17 -2.05540303e-16 -1.30519052e-14  4.69240186e-01]\n",
            " [ 1.76288221e-03  7.88241662e-02 -2.82822773e-15  5.45487762e-01\n",
            "   1.06566629e-15  1.90498760e-01 -1.70741856e-15 -1.28235935e-14\n",
            "  -3.29200740e-01 -7.54457861e-01 -7.50230686e-15  1.68237266e-15\n",
            "  -1.32216244e-01 -8.00761747e-16  4.52036991e-18  1.10105844e-01\n",
            "   2.05185193e-15 -1.08661712e-13  6.69435886e-01  5.52674924e-17\n",
            "   2.07436744e-16  1.97312372e-02  4.05160528e-01  1.57302193e-14]\n",
            " [-3.86553579e-19  8.95639849e-18  5.80512701e-16 -9.17686654e-16\n",
            "   4.95654516e-01  8.04544644e-17 -3.17775193e-16  1.16437338e-15\n",
            "   4.57483668e-16 -1.03580083e-14  1.02521832e+00 -7.26989663e-15\n",
            "  -9.58674111e-16 -7.19794067e-15 -6.33627392e-01 -1.16664920e-15\n",
            "   1.00222300e-15 -1.01259239e-16 -2.36224885e-16  3.11717295e-01\n",
            "  -1.74948050e-15 -3.09596760e-17  4.85864894e-18  4.89844133e-17]\n",
            " [ 1.79716470e-17 -1.47225082e-16  2.21871797e-01  2.93206909e-15\n",
            "  -5.71579130e-16 -6.70702424e-15 -6.71002721e-01  4.61286661e-01\n",
            "  -1.64781513e-14  6.87755831e-15  1.10898423e-14  1.76432288e+00\n",
            "  -5.52975519e-15 -3.22637948e-15  2.03972866e-15  1.20345747e-14\n",
            "   9.01763932e-01  1.52739909e-01  1.75637302e-14  2.61317134e-16\n",
            "  -9.60056546e-17 -4.21028935e-15 -3.86435184e-14  1.14476172e+00]\n",
            " [-4.83847858e-04 -1.30882003e-02  1.10276923e-15  3.65342068e-01\n",
            "   1.86813854e-16  3.36960252e-01 -8.52303700e-15 -1.56442999e-14\n",
            "   9.73505183e-03  1.27925552e+00  1.43763290e-14 -3.56915227e-15\n",
            "   7.39551829e-01  3.76749645e-15 -1.87785810e-16  9.67829807e-01\n",
            "  -1.27127300e-14 -2.57731931e-14  1.79742640e-01 -1.50208815e-16\n",
            "  -5.11000929e-16  5.38968909e-01  9.21317337e-01  3.71108377e-14]\n",
            " [-7.12343778e-19 -3.08830374e-18  3.01928792e-18  4.40630267e-18\n",
            "   2.16492978e-16 -6.77421320e-17 -2.64320499e-16 -2.05548896e-17\n",
            "  -2.39706999e-17 -1.13544634e-16 -3.28557163e-16 -1.85374178e-16\n",
            "   1.23390314e-15 -1.31260845e-01  1.65414191e-15  1.47637018e-17\n",
            "   1.29022652e-17  1.87799562e-16  1.56330047e-17  6.94835751e-15\n",
            "   1.06626304e+00 -3.42593611e-16 -4.98945347e-18  7.35350363e-17]\n",
            " [ 9.11472329e-18  3.27563998e-17  2.68096298e-02  6.24361958e-16\n",
            "  -2.34028527e-17 -1.07652247e-15 -2.12634290e-02 -1.11730074e-01\n",
            "   6.85965196e-15 -2.11379912e-15  3.36714701e-16  4.46146399e-02\n",
            "  -5.65752357e-16  7.97952115e-17 -5.94605075e-17 -3.16765460e-15\n",
            "  -2.93894209e-02 -1.38648769e-01 -2.74115255e-14  3.94069024e-17\n",
            "  -4.96145238e-17 -3.11927099e-15 -4.54497670e-14  1.32554921e+00]\n",
            " [ 1.10183158e-05  1.24124938e-03 -7.52851814e-17  1.78741272e-02\n",
            "  -2.85809496e-17  7.52574536e-03 -4.31637645e-16 -3.74642657e-16\n",
            "   9.30890471e-04  1.27510144e-02 -2.01244157e-16 -7.08846041e-17\n",
            "  -1.17198856e-01 -5.54746417e-16  2.31497553e-17 -1.14156666e-01\n",
            "   3.05957010e-15  6.53146916e-15 -5.31718232e-02  8.08788069e-17\n",
            "   3.87325832e-16  1.08473917e+00  1.33811774e-01  6.31066649e-15]\n",
            " [-3.75186845e-19 -8.55760904e-20 -1.27545689e-16 -2.12242147e-17\n",
            "   1.82051282e-02  3.73612576e-18  2.93488952e-16 -4.21448437e-17\n",
            "  -8.98317515e-18 -8.49264357e-17 -3.52290888e-03 -1.85669273e-16\n",
            "  -1.47022348e-16  9.76611606e-16  1.60773890e-01  1.64484744e-17\n",
            "   2.54831129e-16 -1.85004033e-16  3.00755576e-17  1.04281706e+00\n",
            "  -7.01714095e-15 -6.76719271e-17  3.41778538e-18  1.28607085e-17]\n",
            " [-1.38400215e-04 -3.01486074e-03 -5.75928194e-16 -4.59561181e-03\n",
            "  -2.72487753e-17 -9.98722542e-03  5.04370851e-16 -3.98292510e-15\n",
            "  -1.07057869e-01  6.67128691e-03  2.00243216e-16  3.46944695e-16\n",
            "  -4.65079606e-03 -2.23879716e-17 -1.06175177e-17  1.08131701e-01\n",
            "  -1.92207361e-15 -2.97054048e-14  2.17539968e-01  3.27321352e-17\n",
            "   6.98804797e-17  1.74672062e-01 -1.16006103e+00 -3.73590048e-14]\n",
            " [-2.41432519e-04  1.93586938e-01  3.27986037e-01  2.06379140e-01\n",
            "   8.25606654e-16 -5.89528865e-02  2.59440075e-02 -9.44354203e-01\n",
            "   7.87474478e-01 -5.46912030e-01 -8.72675136e-15 -3.79478789e-01\n",
            "  -3.33122007e-01 -4.13051842e-16 -9.19627781e-16 -8.28726670e-01\n",
            "  -3.87828780e-01 -2.95624572e-01 -4.78848786e-01  9.44250326e-17\n",
            "   5.06028620e-16 -3.07673139e-01 -1.23863764e+00 -1.08699711e+00]\n",
            " [ 4.21366228e-04  1.00843866e-02  8.97753876e-02  4.03178705e-02\n",
            "   6.22265952e-16 -8.29300475e-01  1.44439009e+00  6.86064927e-01\n",
            "  -5.47685840e-01 -1.13125591e-01 -6.60018859e-15 -8.25486153e-01\n",
            "   2.09645113e-01  1.65842866e-15  7.46025437e-17 -3.88057121e-01\n",
            "  -9.15604222e-02 -3.29983532e-01 -1.58789442e-01 -3.94970509e-18\n",
            "  -3.15018571e-16 -3.80891575e-02 -1.91743584e-01 -2.88591924e-01]\n",
            " [ 1.28864536e-19  6.44667274e-18 -3.78181768e-17 -4.78349411e-17\n",
            "   3.10780036e-02  4.64586186e-17 -2.73107787e-16 -5.13575765e-16\n",
            "  -1.39708212e-17  1.16409382e-16  8.10502255e-03 -1.32198555e-15\n",
            "   3.15983201e-15 -6.85609232e-01  7.67114685e-01 -2.02827491e-17\n",
            "  -1.95111747e-15 -1.12392053e-16 -6.10224426e-18 -3.98434790e-01\n",
            "  -3.71538536e-01  1.41597064e-16  4.28508238e-18 -1.41672613e-17]\n",
            " [ 5.71725539e-04 -3.73302718e-02 -2.33201984e-02 -3.17579583e-02\n",
            "  -1.24349449e-16  1.75639965e-02 -2.08385190e-02 -7.39989216e-02\n",
            "   2.96097565e-01  8.44941407e-02  3.54789130e-15  3.02709943e-01\n",
            "   3.29141838e-01  1.53315740e-15 -5.67922239e-16  3.73106424e-01\n",
            "  -4.71953316e-01  7.24406239e-01  7.44653488e-01 -1.63232008e-16\n",
            "  -1.13594803e-16  3.53178140e-01  6.20581276e-01  6.06202267e-01]\n",
            " [ 4.82068373e-04 -2.04793484e-02 -3.26658575e-02  7.54516071e-03\n",
            "   1.11006578e-16  1.63303900e-02 -1.71654423e-02 -1.52932998e-01\n",
            "   5.91793899e-02  2.50717039e-01  3.13235844e-15  1.86702867e-01\n",
            "  -5.45703002e-01 -3.38958831e-15  1.03236578e-15 -2.34432685e-02\n",
            "   6.93136042e-01  5.55180101e-01  5.36820222e-01 -1.43399250e-16\n",
            "   4.56182091e-17 -3.14921887e-01  4.93670905e-01  4.93665561e-01]\n",
            " [-2.41432519e-04  1.93586938e-01 -3.27986037e-01  2.06379140e-01\n",
            "   9.12161619e-16 -5.89528865e-02 -2.59440075e-02  9.44354203e-01\n",
            "   7.87474478e-01 -5.46912030e-01 -5.37514419e-15  3.79478789e-01\n",
            "  -3.33122007e-01 -3.06024836e-15  1.10242296e-15 -8.28726670e-01\n",
            "   3.87828780e-01  2.95624572e-01 -4.78848786e-01  1.20619967e-16\n",
            "   3.88262920e-16 -3.07673139e-01 -1.23863764e+00  1.08699711e+00]\n",
            " [ 4.21366228e-04  1.00843866e-02 -8.97753876e-02  4.03178705e-02\n",
            "  -3.57647198e-16 -8.29300475e-01 -1.44439009e+00 -6.86064927e-01\n",
            "  -5.47685840e-01 -1.13125591e-01  5.13138345e-15  8.25486153e-01\n",
            "   2.09645113e-01  7.61934326e-16  1.80899812e-17 -3.88057121e-01\n",
            "   9.15604222e-02  3.29983532e-01 -1.58789442e-01  7.05753710e-17\n",
            "  -4.01400935e-16 -3.80891575e-02 -1.91743584e-01  2.88591924e-01]\n",
            " [-1.05488541e-19 -1.40276747e-18 -7.63537005e-17 -5.13162454e-17\n",
            "   3.10780036e-02 -1.19030697e-17 -9.76569499e-17  1.14814307e-16\n",
            "   5.09638028e-17 -1.36176824e-16  8.10502255e-03  7.19125274e-16\n",
            "  -2.92955019e-15  6.85609232e-01  7.67114685e-01  1.16478045e-16\n",
            "  -7.36262618e-16  1.57566202e-16  1.42178292e-17 -3.98434790e-01\n",
            "   3.71538536e-01 -9.63091108e-17 -3.35438343e-18 -8.43646339e-18]\n",
            " [-5.71725539e-04  3.73302718e-02 -2.33201984e-02  3.17579583e-02\n",
            "   4.46100023e-16 -1.75639965e-02 -2.08385190e-02 -7.39989216e-02\n",
            "  -2.96097565e-01 -8.44941407e-02  8.83032144e-16  3.02709943e-01\n",
            "  -3.29141838e-01 -1.65773242e-15 -4.26338248e-16 -3.73106424e-01\n",
            "  -4.71953316e-01  7.24406239e-01 -7.44653488e-01 -1.10116991e-16\n",
            "   2.00796540e-16 -3.53178140e-01 -6.20581276e-01  6.06202267e-01]\n",
            " [ 4.82068373e-04 -2.04793484e-02  3.26658575e-02  7.54516071e-03\n",
            "  -1.15967907e-16  1.63303900e-02  1.71654423e-02  1.52932998e-01\n",
            "   5.91793899e-02  2.50717039e-01  7.97691323e-16 -1.86702867e-01\n",
            "  -5.45703002e-01 -1.91615600e-15 -9.93045503e-16 -2.34432685e-02\n",
            "  -6.93136042e-01 -5.55180101e-01  5.36820222e-01  4.25169577e-17\n",
            "   2.25396637e-16 -3.14921887e-01  4.93670905e-01 -4.93665561e-01]]\n",
            "Molecular Orbital Energies:\n",
            " [-20.5504377   -1.33665781  -0.69926242  -0.56656203  -0.49314238\n",
            "   0.18555902   0.25624351   0.78927071   0.85427581   1.16351242\n",
            "   1.20038451   1.25330571   1.44460174   1.47624725   1.67466553\n",
            "   1.86731278   1.93485006   2.45276761   2.49025265   3.28561887\n",
            "   3.33886494   3.51047779   3.86584541   4.14744968]\n"
          ]
        }
      ]
    },
    {
      "cell_type": "markdown",
      "source": [
        "*HF-SCF Molecular Orbital Coefficients for only occupied orbitals*"
      ],
      "metadata": {
        "id": "QKUFdZ-zP9Xt"
      }
    },
    {
      "cell_type": "code",
      "source": [
        "# Extract and display the occupied molecular orbitals - used to construct Slater determinant - Only occupied orbitals\n",
        "\n",
        "# The mo_occ variable stores the occupation numbers, which are usually 2 for occupied orbitals\n",
        "# in a closed-shell Hartree-Fock calculation (since there are two electrons per orbital in a closed-shell system).\n",
        "\n",
        "# By identifying which orbitals are occupied using np.where(mo_occ > 0),\n",
        "# the code extracts the coefficients corresponding to those occupied orbitals and prints them.\n",
        "\n",
        "from pyscf import gto, scf\n",
        "import numpy as np\n",
        "\n",
        "# Define the molecule\n",
        "mol = gto.M(\n",
        "    atom = mol.atom,\n",
        "    basis = 'cc-pvdz',  # Use a common basis set\n",
        ")\n",
        "\n",
        "# Perform a Hartree-Fock calculation\n",
        "mf = scf.RHF(mol)\n",
        "mf.kernel()\n",
        "\n",
        "# Get the molecular orbital coefficients\n",
        "mo_coeff = mf.mo_coeff\n",
        "\n",
        "# Get the occupation numbers (2 for occupied orbitals in closed-shell RHF)\n",
        "mo_occ = mf.mo_occ\n",
        "\n",
        "# Identify the indices of occupied orbitals\n",
        "occupied_indices = np.where(mo_occ > 0)[0]\n",
        "\n",
        "# Extract the coefficients of the occupied molecular orbitals\n",
        "occupied_mo_coeff = mo_coeff[:, occupied_indices]\n",
        "\n",
        "print(\"Occupied Molecular Orbital Coefficients:\")\n",
        "print(occupied_mo_coeff)"
      ],
      "metadata": {
        "colab": {
          "base_uri": "https://localhost:8080/"
        },
        "id": "giZNsz1jP_LT",
        "outputId": "8b679ccf-8976-439b-b83c-ff8756760e77"
      },
      "execution_count": null,
      "outputs": [
        {
          "output_type": "stream",
          "name": "stdout",
          "text": [
            "converged SCF energy = -76.0267936449739\n",
            "Occupied Molecular Orbital Coefficients:\n",
            "[[ 1.00089979e+00 -8.21604151e-03  6.38657091e-16  2.16305736e-03\n",
            "   5.21477838e-17]\n",
            " [ 1.17545240e-03  4.42883335e-01 -2.61388851e-16 -1.50393950e-01\n",
            "   3.64158439e-17]\n",
            " [-2.66588259e-03  3.75739337e-01 -8.00111905e-15 -3.49801235e-01\n",
            "  -2.61384119e-16]\n",
            " [ 1.46402791e-20 -2.34467799e-16  1.54541576e-16 -7.98675256e-16\n",
            "   6.31170514e-01]\n",
            " [-1.53193015e-17  5.19072523e-16  4.89970411e-01 -1.71773800e-15\n",
            "   1.73944182e-16]\n",
            " [ 1.76288221e-03  7.88241662e-02  1.36378478e-15  5.45487762e-01\n",
            "   5.14358625e-16]\n",
            " [-4.47982142e-20 -5.80418681e-17 -9.91945638e-17 -5.03083321e-16\n",
            "   4.95654516e-01]\n",
            " [-5.44038209e-17 -5.68901080e-16  2.21871797e-01 -2.04076098e-15\n",
            "  -8.92538427e-17]\n",
            " [-4.83847858e-04 -1.30882003e-02 -1.68913942e-15  3.65342068e-01\n",
            "   7.28053638e-16]\n",
            " [ 7.30058623e-20  3.01007142e-18  4.86213696e-17  1.13287991e-18\n",
            "   2.10443810e-17]\n",
            " [-2.15461780e-17 -2.61711767e-16  2.68096298e-02 -8.27340276e-17\n",
            "   1.91356786e-18]\n",
            " [ 1.10183158e-05  1.24124938e-03 -1.01654281e-16  1.78741272e-02\n",
            "   1.24931943e-17]\n",
            " [-5.50597595e-19 -6.11540271e-18  2.22356900e-16 -2.66567364e-17\n",
            "   1.82051282e-02]\n",
            " [-1.38400215e-04 -3.01486074e-03  3.95516953e-16 -4.59561181e-03\n",
            "  -2.26582568e-16]\n",
            " [-2.41432519e-04  1.93586938e-01  3.27986037e-01  2.06379140e-01\n",
            "  -1.05145425e-17]\n",
            " [ 4.21366228e-04  1.00843866e-02  8.97753876e-02  4.03178705e-02\n",
            "  -7.61142480e-17]\n",
            " [ 8.60043927e-21 -4.58147589e-18  1.25274614e-17 -3.40724536e-17\n",
            "   3.10780036e-02]\n",
            " [ 5.71725539e-04 -3.73302718e-02 -2.33201984e-02 -3.17579583e-02\n",
            "   1.38373674e-16]\n",
            " [ 4.82068373e-04 -2.04793484e-02 -3.26658575e-02  7.54516071e-03\n",
            "  -2.11647210e-16]\n",
            " [-2.41432519e-04  1.93586938e-01 -3.27986037e-01  2.06379140e-01\n",
            "   3.65734025e-16]\n",
            " [ 4.21366228e-04  1.00843866e-02 -8.97753876e-02  4.03178705e-02\n",
            "   8.21636601e-17]\n",
            " [ 5.69505322e-20 -1.72285679e-18  1.71047156e-17 -3.58794648e-17\n",
            "   3.10780036e-02]\n",
            " [-5.71725539e-04  3.73302718e-02 -2.33201984e-02  3.17579583e-02\n",
            "  -1.55460994e-16]\n",
            " [ 4.82068373e-04 -2.04793484e-02  3.26658575e-02  7.54516071e-03\n",
            "   4.18483394e-17]]\n"
          ]
        }
      ]
    }
  ]
}