{
  "nbformat": 4,
  "nbformat_minor": 0,
  "metadata": {
    "colab": {
      "provenance": [],
      "include_colab_link": true
    },
    "kernelspec": {
      "name": "python3",
      "display_name": "Python 3"
    },
    "language_info": {
      "name": "python"
    }
  },
  "cells": [
    {
      "cell_type": "markdown",
      "metadata": {
        "id": "view-in-github",
        "colab_type": "text"
      },
      "source": [
        "<a href=\"https://colab.research.google.com/github/deltorobarba/sciences/blob/master/chemistry_helium.ipynb\" target=\"_parent\"><img src=\"https://colab.research.google.com/assets/colab-badge.svg\" alt=\"Open In Colab\"/></a>"
      ]
    },
    {
      "cell_type": "markdown",
      "source": [
        "# **Helium atom (He)**"
      ],
      "metadata": {
        "id": "VVx4DuF00Xk7"
      }
    },
    {
      "cell_type": "code",
      "source": [
        "!pip install pyscf geometric -q\n",
        "import numpy as np\n",
        "import matplotlib.pyplot as plt\n",
        "from pyscf import gto, scf, hessian, dft, tddft, mp, cc\n",
        "from pyscf.geomopt.geometric_solver import optimize"
      ],
      "metadata": {
        "id": "rOIXm3GWfRL8"
      },
      "execution_count": null,
      "outputs": []
    },
    {
      "cell_type": "code",
      "source": [
        "# Define molecule\n",
        "mol = gto.Mole()\n",
        "mol.atom = '''\n",
        "    He 0.00 0.00 0.00\n",
        "'''\n",
        "\n",
        "# Name\n",
        "molecule = 'Helium (He)'"
      ],
      "metadata": {
        "id": "gJPQJCbFfTCI"
      },
      "execution_count": 2,
      "outputs": []
    },
    {
      "cell_type": "code",
      "source": [
        "# Build molecule (with gto.M() function)\n",
        "mol.atom = mol.atom\n",
        "mol.basis = 'cc-pvdz' # Alternative basis set: sto-3g, cc-pvdz,6-31G\n",
        "mol.symmetry = True\n",
        "mol.spin = 0          # H₂ gas is stable, closed-shell diatomic molecule. The two electrons (one from each H atom) form a covalent bond with paired spins.\n",
        "# wo electrons, paired in a bonding orbital. Ground state is a singlet. mol.spin = 0 (since S=0, 2S=0)\n",
        "mol.build()"
      ],
      "metadata": {
        "id": "BF_EIjOYfUM1"
      },
      "execution_count": null,
      "outputs": []
    },
    {
      "cell_type": "code",
      "source": [
        "print(\"-\" * 20)\n",
        "print(f\"{molecule} molecule symmetry:\")\n",
        "print(f\" Top group: {mol.topgroup}\")\n",
        "print(f\" Group name: {mol.groupname}\")\n",
        "print(\"-\" * 20)"
      ],
      "metadata": {
        "colab": {
          "base_uri": "https://localhost:8080/"
        },
        "id": "iv_aUdMEewQe",
        "outputId": "7ed10a06-ba30-41d2-8137-f2bcaa1a65c1"
      },
      "execution_count": 4,
      "outputs": [
        {
          "output_type": "stream",
          "name": "stdout",
          "text": [
            "--------------------\n",
            "Helium (He) molecule symmetry:\n",
            " Top group: SO3\n",
            " Group name: SO3\n",
            "--------------------\n"
          ]
        }
      ]
    },
    {
      "cell_type": "markdown",
      "source": [
        "Point Group Symmetry\n",
        "* **Shape:** Linear\n",
        "* **Symmetry Operations:** Infinite rotation axis ($C_\\infty$) along the bond, infinite number of vertical mirror planes ($\\sigma_v$), a horizontal mirror plane ($\\sigma_h$), and an inversion center ($i$).\n",
        "* **Point Group:** **$D_{\\infty h}$ (Dooh)**\n",
        "* *Yes, this one is $D_{\\infty h}$!*"
      ],
      "metadata": {
        "id": "nelfJqJVjLIB"
      }
    },
    {
      "cell_type": "code",
      "source": [
        "# Ground State Energy with Hartree-Fock (Slater Determinant)\n",
        "mf = scf.RHF(mol)\n",
        "mf.kernel()"
      ],
      "metadata": {
        "colab": {
          "base_uri": "https://localhost:8080/"
        },
        "id": "wn5tqSs2fVdV",
        "outputId": "0f7a9bd2-a8dc-4529-d913-fd546f2dffba"
      },
      "execution_count": 5,
      "outputs": [
        {
          "output_type": "stream",
          "name": "stdout",
          "text": [
            "converged SCF energy = -2.85516047724274\n"
          ]
        },
        {
          "output_type": "execute_result",
          "data": {
            "text/plain": [
              "np.float64(-2.85516047724274)"
            ]
          },
          "metadata": {},
          "execution_count": 5
        }
      ]
    },
    {
      "cell_type": "code",
      "source": [
        "# Visualization of calculation process (Hartree-Fock)\n",
        "mf = scf.RHF(mol)                         # Set method\n",
        "conv_data = []                            # Store convergence data\n",
        "def callback(envs):                       # Callback function to collect convergence information\n",
        "    conv_data.append(envs['e_tot'])       # Captures energy values at each iteration to track process\n",
        "mf.callback = callback                    # Set callback directly on the mf object\n",
        "energy = mf.kernel()                      # Perform HF calculation\n",
        "energies = conv_data                      # Extract energy values\n",
        "iterations = range(1, len(energies) + 1)  # Extract iteration numbers\n",
        "plt.plot(iterations, energies, marker='o')\n",
        "plt.xlabel('Iteration')\n",
        "plt.ylabel('Total Energy (Hartree)')\n",
        "plt.title('HF-SCF Convergence')\n",
        "plt.grid(True)\n",
        "plt.show()\n",
        "print(f\"Ground state energy for {molecule}: {energy} Hartree\")"
      ],
      "metadata": {
        "colab": {
          "base_uri": "https://localhost:8080/",
          "height": 508
        },
        "id": "IVmWQMMPfaM-",
        "outputId": "29a5eca4-82ce-4f7e-f8c4-e6a3c67611d0"
      },
      "execution_count": 6,
      "outputs": [
        {
          "output_type": "stream",
          "name": "stdout",
          "text": [
            "converged SCF energy = -2.85516047724274\n"
          ]
        },
        {
          "output_type": "display_data",
          "data": {
            "text/plain": [
              "<Figure size 640x480 with 1 Axes>"
            ],
            "image/png": "[encoded data removed]"
          },
          "metadata": {}
        },
        {
          "output_type": "stream",
          "name": "stdout",
          "text": [
            "Ground state energy for Helium (He): -2.85516047724274 Hartree\n"
          ]
        }
      ]
    },
    {
      "cell_type": "code",
      "source": [
        "# Ground State Energy with DFT (Kohn-Sham)\n",
        "mf = dft.RKS(mol)\n",
        "mf.xc = 'B3LYP'    # Exchange-correlation functional\n",
        "mf.kernel()"
      ],
      "metadata": {
        "colab": {
          "base_uri": "https://localhost:8080/"
        },
        "id": "KjrIZEAMfWp5",
        "outputId": "1a907ad6-cacd-49da-fea8-a73dd904b22b"
      },
      "execution_count": 8,
      "outputs": [
        {
          "output_type": "stream",
          "name": "stdout",
          "text": [
            "converged SCF energy = -2.90705409388747\n"
          ]
        },
        {
          "output_type": "execute_result",
          "data": {
            "text/plain": [
              "np.float64(-2.9070540938874694)"
            ]
          },
          "metadata": {},
          "execution_count": 8
        }
      ]
    },
    {
      "cell_type": "code",
      "source": [
        "# Ground State Energy with Møller-Plesset Perturbation Theory (Post Hartree Fock)\n",
        "mf = scf.RHF(mol)\n",
        "mf.kernel()\n",
        "mp2 = mp.MP2(mf) # MP2 single point energy calculation\n",
        "energy_mp2 = mp2.kernel()\n",
        "print(f\"MP2 energy: {energy_mp2[0]} Hartree\")"
      ],
      "metadata": {
        "id": "R2fwALxvpwB2",
        "colab": {
          "base_uri": "https://localhost:8080/"
        },
        "outputId": "dee987ab-9f76-446c-ffc4-49b8b30e9702"
      },
      "execution_count": 9,
      "outputs": [
        {
          "output_type": "stream",
          "name": "stdout",
          "text": [
            "converged SCF energy = -2.85516047724274\n",
            "E(MP2) = -2.88098881679413  E_corr = -0.025828339551385\n",
            "E(SCS-MP2) = -2.8861544847044  E_corr = -0.030994007461662\n",
            "MP2 energy: -0.025828339551384975 Hartree\n"
          ]
        }
      ]
    },
    {
      "cell_type": "code",
      "source": [
        "# Ground State Energy with Coupled Cluster (Post Hartree Fock)\n",
        "mf = scf.RHF(mol)                  # Perform a HF-SCF calculation to obtain the reference wavefunction\n",
        "hf_energy = mf.kernel()\n",
        "ccsd_calc = cc.CCSD(mf)            # Perform a Coupled Cluster calculation\n",
        "ccsd_energy = ccsd_calc.kernel()\n",
        "ccsd_t_energy = ccsd_calc.ccsd_t() # (Optional) Include perturbative triple excitations (CCSD(T))\n",
        "\n",
        "# Ensure that ccsd_t_energy is a scalar (take the first element if it's an array)\n",
        "if isinstance(ccsd_t_energy, (list, tuple)) or hasattr(ccsd_t_energy, \"__len__\"):\n",
        "    ccsd_t_energy = ccsd_t_energy[0]  # Take the first value if it returns multiple results\n",
        "\n",
        "# Print the results\n",
        "#print(f\"HF-SCF energy: {hf_energy} Hartree\")\n",
        "#print(f\"CCSD energy: {ccsd_energy} Hartree\")\n",
        "#print(f\"CCSD(T) energy: {ccsd_energy + ccsd_t_energy} Hartree\")"
      ],
      "metadata": {
        "colab": {
          "base_uri": "https://localhost:8080/"
        },
        "id": "cyiws9ELGJAQ",
        "outputId": "10b6d0d3-09ea-4d61-d13e-71c410f31d67"
      },
      "execution_count": 10,
      "outputs": [
        {
          "output_type": "stream",
          "name": "stdout",
          "text": [
            "converged SCF energy = -2.85516047724274\n",
            "E(CCSD) = -2.887594835752642  E_corr = -0.03243435850990163\n",
            "CCSD(T) correction = 0\n"
          ]
        }
      ]
    },
    {
      "cell_type": "code",
      "source": [
        "# Excited electronic states\n",
        "myhf = scf.RHF(mol).run()     # Perform a ground-state calculation\n",
        "mytd = tddft.TDA(myhf).run()  # Excited-state calculation using TDDFT\n",
        "#mol = gto.M(verbose = 4)     # Add verbose for more details\n",
        "mytd.analyze()"
      ],
      "metadata": {
        "colab": {
          "base_uri": "https://localhost:8080/"
        },
        "id": "9PrGvOWggYlu",
        "outputId": "17b043aa-885d-4367-f9f9-d49ecb8f3b8e"
      },
      "execution_count": 11,
      "outputs": [
        {
          "output_type": "stream",
          "name": "stdout",
          "text": [
            "converged SCF energy = -2.85516047724274\n",
            "Excited State energies (eV)\n",
            "[51.94674047 77.37711192 77.37711192]\n",
            "\n",
            "** Singlet excitation energies and oscillator strengths **\n",
            "Excited State   1:  s+0     51.94674 eV     23.87 nm  f=0.0000\n",
            "Excited State   2:  p+0     77.37711 eV     16.02 nm  f=0.8856\n",
            "Excited State   3:  p-1     77.37711 eV     16.02 nm  f=0.8856\n"
          ]
        },
        {
          "output_type": "execute_result",
          "data": {
            "text/plain": [
              "<pyscf.tdscf.rhf.TDA at 0x7d8b6e852550>"
            ]
          },
          "metadata": {},
          "execution_count": 11
        }
      ]
    }
  ]
}