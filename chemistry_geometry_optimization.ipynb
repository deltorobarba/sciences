{
  "nbformat": 4,
  "nbformat_minor": 0,
  "metadata": {
    "colab": {
      "provenance": [],
      "authorship_tag": "ABX9TyPV409gFRMZM4HHkEdDeZJi",
      "include_colab_link": true
    },
    "kernelspec": {
      "name": "python3",
      "display_name": "Python 3"
    },
    "language_info": {
      "name": "python"
    }
  },
  "cells": [
    {
      "cell_type": "markdown",
      "metadata": {
        "id": "view-in-github",
        "colab_type": "text"
      },
      "source": [
        "<a href=\"https://colab.research.google.com/github/deltorobarba/sciences/blob/master/chemistry_geometry_optimization.ipynb\" target=\"_parent\"><img src=\"https://colab.research.google.com/assets/colab-badge.svg\" alt=\"Open In Colab\"/></a>"
      ]
    },
    {
      "cell_type": "markdown",
      "source": [
        "# **Geometry Optimization**"
      ],
      "metadata": {
        "id": "eU3XH7emGqyX"
      }
    },
    {
      "cell_type": "markdown",
      "source": [
        "![sciences](https://raw.githubusercontent.com/deltorobarba/repo/master/sciences_5000.png)"
      ],
      "metadata": {
        "id": "7RACuNYFNRY8"
      }
    },
    {
      "cell_type": "code",
      "source": [
        "!pip install pyscf geometric -q"
      ],
      "metadata": {
        "colab": {
          "base_uri": "https://localhost:8080/"
        },
        "id": "TErie0efGhPw",
        "outputId": "f3518b9e-bec4-4486-df07-9b72d5cea484"
      },
      "execution_count": null,
      "outputs": [
        {
          "output_type": "stream",
          "name": "stdout",
          "text": [
            "\u001b[?25l     \u001b[90m━━━━━━━━━━━━━━━━━━━━━━━━━━━━━━━━━━━━━━━━\u001b[0m \u001b[32m0.0/386.0 kB\u001b[0m \u001b[31m?\u001b[0m eta \u001b[36m-:--:--\u001b[0m\r\u001b[2K     \u001b[91m━━━━━━━━━━━━━━━\u001b[0m\u001b[91m╸\u001b[0m\u001b[90m━━━━━━━━━━━━━━━━━━━━━━━━\u001b[0m \u001b[32m153.6/386.0 kB\u001b[0m \u001b[31m4.3 MB/s\u001b[0m eta \u001b[36m0:00:01\u001b[0m\r\u001b[2K     \u001b[91m━━━━━━━━━━━━━━━━━━━━━━━━━━━━━━━━━━━━━━━\u001b[0m\u001b[90m╺\u001b[0m \u001b[32m378.9/386.0 kB\u001b[0m \u001b[31m6.4 MB/s\u001b[0m eta \u001b[36m0:00:01\u001b[0m\r\u001b[2K     \u001b[90m━━━━━━━━━━━━━━━━━━━━━━━━━━━━━━━━━━━━━━━━\u001b[0m \u001b[32m386.0/386.0 kB\u001b[0m \u001b[31m4.9 MB/s\u001b[0m eta \u001b[36m0:00:00\u001b[0m\n",
            "\u001b[?25h  Preparing metadata (setup.py) ... \u001b[?25l\u001b[?25hdone\n",
            "\u001b[2K   \u001b[90m━━━━━━━━━━━━━━━━━━━━━━━━━━━━━━━━━━━━━━━━\u001b[0m \u001b[32m50.9/50.9 MB\u001b[0m \u001b[31m17.1 MB/s\u001b[0m eta \u001b[36m0:00:00\u001b[0m\n",
            "\u001b[?25h  Building wheel for geometric (setup.py) ... \u001b[?25l\u001b[?25hdone\n"
          ]
        }
      ]
    },
    {
      "cell_type": "code",
      "execution_count": null,
      "metadata": {
        "id": "ttEFdYRfGc6K"
      },
      "outputs": [],
      "source": [
        "from pyscf import gto\n",
        "\n",
        "# Define the molecule\n",
        "mol = gto.Mole()\n",
        "mol.atom = '''\n",
        "    N  0.0000  0.0000  0.2000\n",
        "    H  0.0000  0.9433 -0.2000\n",
        "    H  0.8165 -0.4717 -0.2000\n",
        "    H -0.8165 -0.4717 -0.2000\n",
        "'''\n",
        "\n",
        "# Name\n",
        "molecule = 'Ammonia (NH₃)'\n",
        "\n",
        "# Set basis set\n",
        "mol.basis = 'cc-pvdz' # Alternatively: sto-3g, cc-pvdz,6-31G"
      ]
    },
    {
      "cell_type": "markdown",
      "source": [
        "*Geometry Optimization using DFT-SCF*"
      ],
      "metadata": {
        "id": "IFRYT9rLNS6V"
      }
    },
    {
      "cell_type": "code",
      "source": [
        "from pyscf import gto, dft\n",
        "from pyscf.geomopt.geometric_solver import optimize\n",
        "\n",
        "# Define the molecule with a rough guess for geometry (initial atomic positions)\n",
        "# These positions don't need to be exact, as the optimization will refine them\n",
        "mol.atom = mol.atom\n",
        "mol.basis = mol.basis\n",
        "mol.build()\n",
        "\n",
        "# Perform geometry optimization using DFT\n",
        "mf = dft.RKS(mol)\n",
        "mf.xc = 'b3lyp'       # Define the exchange-correlation functional\n",
        "mol_eq = optimize(mf) # This function iteratively adjusts positions of atoms to minimize total energy of system\n",
        "\n",
        "# Print optimized coordinates. This geometry corresponds to lowest energy configuration found during optimization process\n",
        "print(\"Optimized Geometry (in Angstroms):\")\n",
        "print(mol_eq.atom_coords())"
      ],
      "metadata": {
        "colab": {
          "base_uri": "https://localhost:8080/"
        },
        "id": "vQuitdUoG1AS",
        "outputId": "b99e7298-af16-4c8e-ec07-2d05ea005aea"
      },
      "execution_count": null,
      "outputs": [
        {
          "output_type": "stream",
          "name": "stderr",
          "text": [
            "geometric-optimize called with the following command line:\n",
            "/usr/local/lib/python3.11/dist-packages/colab_kernel_launcher.py -f /root/.local/share/jupyter/runtime/kernel-7b8eb5c3-5435-4729-9d5e-f9a14ed4d214.json\n",
            "\n",
            "                                        \u001b[91m())))))))))))))))/\u001b[0m                     \n",
            "                                    \u001b[91m())))))))))))))))))))))))),\u001b[0m                \n",
            "                                \u001b[91m*)))))))))))))))))))))))))))))))))\u001b[0m             \n",
            "                        \u001b[94m#,\u001b[0m    \u001b[91m()))))))))/\u001b[0m                \u001b[91m.)))))))))),\u001b[0m          \n",
            "                      \u001b[94m#%%%%,\u001b[0m  \u001b[91m())))))\u001b[0m                        \u001b[91m.))))))))*\u001b[0m        \n",
            "                      \u001b[94m*%%%%%%,\u001b[0m  \u001b[91m))\u001b[0m              \u001b[93m..\u001b[0m              \u001b[91m,))))))).\u001b[0m      \n",
            "                        \u001b[94m*%%%%%%,\u001b[0m         \u001b[93m***************/.\u001b[0m        \u001b[91m.)))))))\u001b[0m     \n",
            "                \u001b[94m#%%/\u001b[0m      \u001b[94m(%%%%%%,\u001b[0m    \u001b[93m/*********************.\u001b[0m       \u001b[91m)))))))\u001b[0m    \n",
            "              \u001b[94m.%%%%%%#\u001b[0m      \u001b[94m*%%%%%%,\u001b[0m  \u001b[93m*******/,\u001b[0m     \u001b[93m**********,\u001b[0m      \u001b[91m.))))))\u001b[0m   \n",
            "                \u001b[94m.%%%%%%/\u001b[0m      \u001b[94m*%%%%%%,\u001b[0m  \u001b[93m**\u001b[0m              \u001b[93m********\u001b[0m      \u001b[91m.))))))\u001b[0m  \n",
            "          \u001b[94m##\u001b[0m      \u001b[94m.%%%%%%/\u001b[0m      \u001b[94m(%%%%%%,\u001b[0m                  \u001b[93m,******\u001b[0m      \u001b[91m/)))))\u001b[0m  \n",
            "        \u001b[94m%%%%%%\u001b[0m      \u001b[94m.%%%%%%#\u001b[0m      \u001b[94m*%%%%%%,\u001b[0m    \u001b[92m,/////.\u001b[0m       \u001b[93m******\u001b[0m      \u001b[91m))))))\u001b[0m \n",
            "      \u001b[94m#%\u001b[0m      \u001b[94m%%\u001b[0m      \u001b[94m.%%%%%%/\u001b[0m      \u001b[94m*%%%%%%,\u001b[0m  \u001b[92m////////,\u001b[0m      \u001b[93m*****/\u001b[0m     \u001b[91m,)))))\u001b[0m \n",
            "    \u001b[94m#%%\u001b[0m  \u001b[94m%%%\u001b[0m  \u001b[94m%%%#\u001b[0m      \u001b[94m.%%%%%%/\u001b[0m      \u001b[94m(%%%%%%,\u001b[0m  \u001b[92m///////.\u001b[0m     \u001b[93m/*****\u001b[0m      \u001b[91m))))).\u001b[0m\n",
            "  \u001b[94m#%%%%.\u001b[0m      \u001b[94m%%%%%#\u001b[0m      \u001b[94m/%%%%%%*\u001b[0m      \u001b[94m#%%%%%%\u001b[0m   \u001b[92m/////)\u001b[0m     \u001b[93m******\u001b[0m      \u001b[91m))))),\u001b[0m\n",
            "    \u001b[94m#%%%%##%\u001b[0m  \u001b[94m%%%#\u001b[0m      \u001b[94m.%%%%%%/\u001b[0m      \u001b[94m(%%%%%%,\u001b[0m  \u001b[92m///////.\u001b[0m     \u001b[93m/*****\u001b[0m      \u001b[91m))))).\u001b[0m\n",
            "      \u001b[94m##\u001b[0m     \u001b[94m%%%\u001b[0m      \u001b[94m.%%%%%%/\u001b[0m      \u001b[94m*%%%%%%,\u001b[0m  \u001b[92m////////.\u001b[0m      \u001b[93m*****/\u001b[0m     \u001b[91m,)))))\u001b[0m \n",
            "        \u001b[94m#%%%%#\u001b[0m      \u001b[94m/%%%%%%/\u001b[0m      \u001b[94m(%%%%%%\u001b[0m      \u001b[92m/)/)//\u001b[0m       \u001b[93m******\u001b[0m      \u001b[91m))))))\u001b[0m \n",
            "          \u001b[94m##\u001b[0m      \u001b[94m.%%%%%%/\u001b[0m      \u001b[94m(%%%%%%,\u001b[0m                  \u001b[93m*******\u001b[0m      \u001b[91m))))))\u001b[0m  \n",
            "                \u001b[94m.%%%%%%/\u001b[0m      \u001b[94m*%%%%%%,\u001b[0m  \u001b[93m**.\u001b[0m             \u001b[93m/*******\u001b[0m      \u001b[91m.))))))\u001b[0m  \n",
            "              \u001b[94m*%%%%%%/\u001b[0m      \u001b[94m(%%%%%%\u001b[0m   \u001b[93m********/*..,*/*********\u001b[0m       \u001b[91m*))))))\u001b[0m   \n",
            "                \u001b[94m#%%/\u001b[0m      \u001b[94m(%%%%%%,\u001b[0m    \u001b[93m*********************/\u001b[0m        \u001b[91m)))))))\u001b[0m    \n",
            "                        \u001b[94m*%%%%%%,\u001b[0m         \u001b[93m,**************/\u001b[0m         \u001b[91m,))))))/\u001b[0m     \n",
            "                      \u001b[94m(%%%%%%\u001b[0m   \u001b[91m()\u001b[0m                              \u001b[91m))))))))\u001b[0m       \n",
            "                      \u001b[94m#%%%%,\u001b[0m  \u001b[91m())))))\u001b[0m                        \u001b[91m,)))))))),\u001b[0m        \n",
            "                        \u001b[94m#,\u001b[0m    \u001b[91m())))))))))\u001b[0m                \u001b[91m,)))))))))).\u001b[0m          \n",
            "                                 \u001b[91m()))))))))))))))))))))))))))))))/\u001b[0m             \n",
            "                                    \u001b[91m())))))))))))))))))))))))).\u001b[0m                \n",
            "                                         \u001b[91m())))))))))))))),\u001b[0m                     \n",
            "\n",
            "-=# \u001b[1;94m geomeTRIC started. Version: 1.1 \u001b[0m #=-\n",
            "Current date and time: 2025-03-07 15:25:21\n",
            "#========================================================#\n",
            "#| \u001b[92m    Arguments passed to driver run_optimizer():     \u001b[0m |#\n",
            "#========================================================#\n",
            "customengine              <pyscf.geomopt.geometric_solver.PySCFEngine object at 0x7cf407d9a710> \n",
            "input                     /tmp/tmp9o6ayv_l/35372753-a5f9-4461-a04d-b2d67d8dce1f \n",
            "logIni                    /usr/local/lib/python3.11/dist-packages/pyscf/geomopt/log.ini \n",
            "----------------------------------------------------------\n",
            "Custom engine selected.\n",
            "Bonds will be generated from interatomic distances less than 1.20 times sum of covalent radii\n",
            "12 internal coordinates being used (instead of 12 Cartesians)\n",
            "Internal coordinate system (atoms numbered from 1):\n",
            "Distance 1-2\n",
            "Distance 1-3\n",
            "Distance 1-4\n",
            "Angle 2-1-3\n",
            "Angle 2-1-4\n",
            "Angle 3-1-4\n",
            "Translation-X 1-4\n",
            "Translation-Y 1-4\n",
            "Translation-Z 1-4\n",
            "Rotation-A 1-4\n",
            "Rotation-B 1-4\n",
            "Rotation-C 1-4\n",
            "<class 'geometric.internal.Distance'> : 3\n",
            "<class 'geometric.internal.Angle'> : 3\n",
            "<class 'geometric.internal.TranslationX'> : 1\n",
            "<class 'geometric.internal.TranslationY'> : 1\n",
            "<class 'geometric.internal.TranslationZ'> : 1\n",
            "<class 'geometric.internal.RotationA'> : 1\n",
            "<class 'geometric.internal.RotationB'> : 1\n",
            "<class 'geometric.internal.RotationC'> : 1\n",
            "> ===== Optimization Info: ====\n",
            "> Job type: Energy minimization\n",
            "> Maximum number of optimization cycles: 300\n",
            "> Initial / maximum trust radius (Angstrom): 0.100 / 0.300\n",
            "> Convergence Criteria:\n",
            "> Will converge when all 5 criteria are reached:\n",
            ">  |Delta-E| < 1.00e-06\n",
            ">  RMS-Grad  < 3.00e-04\n",
            ">  Max-Grad  < 4.50e-04\n",
            ">  RMS-Disp  < 1.20e-03\n",
            ">  Max-Disp  < 1.80e-03\n",
            "> === End Optimization Info ===\n"
          ]
        },
        {
          "output_type": "stream",
          "name": "stdout",
          "text": [
            "\n",
            "Geometry optimization cycle 1\n"
          ]
        },
        {
          "output_type": "stream",
          "name": "stderr",
          "text": [
            "/usr/local/lib/python3.11/dist-packages/pyscf/dft/libxc.py:512: UserWarning: Since PySCF-2.3, B3LYP (and B3P86) are changed to the VWN-RPA variant, corresponding to the original definition by Stephens et al. (issue 1480) and the same as the B3LYP functional in Gaussian. To restore the VWN5 definition, you can put the setting \"B3LYP_WITH_VWN5 = True\" in pyscf_conf.py\n",
            "  warnings.warn('Since PySCF-2.3, B3LYP (and B3P86) are changed to the VWN-RPA variant, '\n"
          ]
        },
        {
          "output_type": "stream",
          "name": "stdout",
          "text": [
            "Cartesian coordinates (Angstrom)\n",
            " Atom        New coordinates             dX        dY        dZ\n",
            "   N   0.000000   0.000000   0.200000    0.000000  0.000000  0.000000\n",
            "   H   0.000000   0.943300  -0.200000    0.000000  0.000000  0.000000\n",
            "   H   0.816500  -0.471700  -0.200000    0.000000  0.000000  0.000000\n",
            "   H  -0.816500  -0.471700  -0.200000    0.000000  0.000000  0.000000\n",
            "converged SCF energy = -56.5541464333648\n",
            "--------------- RKS_Scanner gradients ---------------\n",
            "         x                y                z\n",
            "0 N     0.0000000000    -0.0001758920    -0.0033518690\n",
            "1 H     0.0000000000     0.0019081508     0.0010657719\n",
            "2 H     0.0013950571    -0.0008659445     0.0011417694\n",
            "3 H    -0.0013950571    -0.0008659445     0.0011417694\n",
            "----------------------------------------------\n",
            "cycle 1: E = -56.5541464334  dE = -56.5541  norm(grad) = 0.00490329\n"
          ]
        },
        {
          "output_type": "stream",
          "name": "stderr",
          "text": [
            "Step    0 : Gradient = 2.452e-03/3.356e-03 (rms/max) Energy = -56.5541464334\n",
            "Hessian Eigenvalues: 5.00000e-02 5.00000e-02 5.00000e-02 ... 4.36115e-01 4.36604e-01 4.36604e-01\n"
          ]
        },
        {
          "output_type": "stream",
          "name": "stdout",
          "text": [
            "\n",
            "Geometry optimization cycle 2\n",
            "Cartesian coordinates (Angstrom)\n",
            " Atom        New coordinates             dX        dY        dZ\n",
            "   N  -0.000000  -0.000039   0.211028   -0.000000 -0.000039  0.011028\n",
            "   H  -0.000000   0.935133  -0.203628   -0.000000 -0.008167 -0.003628\n",
            "   H   0.809913  -0.467605  -0.203646   -0.006587  0.004095 -0.003646\n",
            "   H  -0.809913  -0.467605  -0.203646    0.006587  0.004095 -0.003646\n",
            "converged SCF energy = -56.5542434650201\n",
            "--------------- RKS_Scanner gradients ---------------\n",
            "         x                y                z\n",
            "0 N    -0.0000000000     0.0000119479    -0.0022760885\n",
            "1 H     0.0000000000    -0.0009042590     0.0007601567\n",
            "2 H    -0.0007625848     0.0004463902     0.0007567391\n",
            "3 H     0.0007625848     0.0004463902     0.0007567391\n",
            "----------------------------------------------\n",
            "cycle 2: E = -56.554243465  dE = -9.70317e-05  norm(grad) = 0.00304683\n"
          ]
        },
        {
          "output_type": "stream",
          "name": "stderr",
          "text": [
            "Step    1 : Displace = \u001b[0m9.333e-03\u001b[0m/\u001b[0m1.100e-02\u001b[0m (rms/max) Trust = 1.000e-01 (=) Grad = \u001b[0m1.523e-03\u001b[0m/\u001b[0m2.276e-03\u001b[0m (rms/max) E (change) = -56.5542434650 (\u001b[0m-9.703e-05\u001b[0m) Quality = \u001b[0m1.129\u001b[0m\n",
            "Hessian Eigenvalues: 4.99998e-02 5.00000e-02 5.00000e-02 ... 4.36234e-01 4.36604e-01 5.23136e-01\n"
          ]
        },
        {
          "output_type": "stream",
          "name": "stdout",
          "text": [
            "\n",
            "Geometry optimization cycle 3\n",
            "Cartesian coordinates (Angstrom)\n",
            " Atom        New coordinates             dX        dY        dZ\n",
            "   N  -0.000000  -0.000051   0.214935   -0.000000 -0.000012  0.003907\n",
            "   H  -0.000000   0.934398  -0.204858   -0.000000 -0.000735 -0.001230\n",
            "   H   0.809271  -0.467243  -0.204920   -0.000642  0.000362 -0.001274\n",
            "   H  -0.809271  -0.467243  -0.204920    0.000642  0.000362 -0.001274\n",
            "converged SCF energy = -56.5542542089461\n",
            "--------------- RKS_Scanner gradients ---------------\n",
            "         x                y                z\n",
            "0 N    -0.0000000000     0.0000129509    -0.0004109145\n",
            "1 H    -0.0000000000    -0.0002674651     0.0001388412\n",
            "2 H    -0.0002131641     0.0001274942     0.0001348770\n",
            "3 H     0.0002131641     0.0001274942     0.0001348770\n",
            "----------------------------------------------\n",
            "cycle 3: E = -56.5542542089  dE = -1.07439e-05  norm(grad) = 0.000647768\n"
          ]
        },
        {
          "output_type": "stream",
          "name": "stderr",
          "text": [
            "Step    2 : Displace = \u001b[0m2.326e-03\u001b[0m/\u001b[0m3.875e-03\u001b[0m (rms/max) Trust = 1.414e-01 (\u001b[92m+\u001b[0m) Grad = \u001b[0m3.239e-04\u001b[0m/\u001b[92m4.111e-04\u001b[0m (rms/max) E (change) = -56.5542542089 (\u001b[0m-1.074e-05\u001b[0m) Quality = \u001b[0m1.155\u001b[0m\n",
            "Hessian Eigenvalues: 4.99978e-02 5.00000e-02 5.00000e-02 ... 4.36201e-01 4.36604e-01 4.60292e-01\n"
          ]
        },
        {
          "output_type": "stream",
          "name": "stdout",
          "text": [
            "\n",
            "Geometry optimization cycle 4\n",
            "Cartesian coordinates (Angstrom)\n",
            " Atom        New coordinates             dX        dY        dZ\n",
            "   N  -0.000000  -0.000065   0.215492    0.000000 -0.000014  0.000558\n",
            "   H   0.000000   0.934530  -0.204975    0.000000  0.000132 -0.000117\n",
            "   H   0.809355  -0.467314  -0.205081    0.000084 -0.000071 -0.000161\n",
            "   H  -0.809355  -0.467314  -0.205081   -0.000084 -0.000071 -0.000161\n",
            "converged SCF energy = -56.5542545690208\n",
            "--------------- RKS_Scanner gradients ---------------\n",
            "         x                y                z\n",
            "0 N     0.0000000000     0.0000009787    -0.0000045802\n",
            "1 H    -0.0000000000    -0.0000071801    -0.0000001725\n",
            "2 H    -0.0000060305     0.0000033384     0.0000012284\n",
            "3 H     0.0000060305     0.0000033384     0.0000012284\n",
            "----------------------------------------------\n",
            "cycle 4: E = -56.554254569  dE = -3.60075e-07  norm(grad) = 1.30981e-05\n"
          ]
        },
        {
          "output_type": "stream",
          "name": "stderr",
          "text": [
            "Step    3 : Displace = \u001b[92m3.214e-04\u001b[0m/\u001b[92m5.278e-04\u001b[0m (rms/max) Trust = 2.000e-01 (\u001b[92m+\u001b[0m) Grad = \u001b[92m6.549e-06\u001b[0m/\u001b[92m7.182e-06\u001b[0m (rms/max) E (change) = -56.5542545690 (\u001b[92m-3.601e-07\u001b[0m) Quality = \u001b[0m1.007\u001b[0m\n",
            "Hessian Eigenvalues: 4.99978e-02 5.00000e-02 5.00000e-02 ... 4.36201e-01 4.36604e-01 4.60292e-01\n",
            "Converged! =D\n",
            "\n",
            "    #==========================================================================#\n",
            "    #| If this code has benefited your research, please support us by citing: |#\n",
            "    #|                                                                        |#\n",
            "    #| Wang, L.-P.; Song, C.C. (2016) \"Geometry optimization made simple with |#\n",
            "    #| translation and rotation coordinates\", J. Chem, Phys. 144, 214108.     |#\n",
            "    #| http://dx.doi.org/10.1063/1.4952956                                    |#\n",
            "    #==========================================================================#\n",
            "    Time elapsed since start of run_optimizer: 12.271 seconds\n"
          ]
        },
        {
          "output_type": "stream",
          "name": "stdout",
          "text": [
            "Optimized Geometry (in Angstroms):\n",
            "[[-2.64810944e-14 -1.22694250e-04  4.07221513e-01]\n",
            " [ 2.52049492e-14  1.76600514e+00 -3.87346076e-01]\n",
            " [ 1.52945863e+00 -8.83096298e-01 -3.87545996e-01]\n",
            " [-1.52945863e+00 -8.83096298e-01 -3.87545996e-01]]\n"
          ]
        }
      ]
    }
  ]
}