{
  "nbformat": 4,
  "nbformat_minor": 0,
  "metadata": {
    "colab": {
      "provenance": [],
      "include_colab_link": true
    },
    "kernelspec": {
      "name": "python3",
      "display_name": "Python 3"
    },
    "language_info": {
      "name": "python"
    }
  },
  "cells": [
    {
      "cell_type": "markdown",
      "metadata": {
        "id": "view-in-github",
        "colab_type": "text"
      },
      "source": [
        "<a href=\"https://colab.research.google.com/github/deltorobarba/sciences/blob/master/chemistry_benzene.ipynb\" target=\"_parent\"><img src=\"https://colab.research.google.com/assets/colab-badge.svg\" alt=\"Open In Colab\"/></a>"
      ]
    },
    {
      "cell_type": "markdown",
      "source": [
        "# **Benzene (C₆H₆)**"
      ],
      "metadata": {
        "id": "heQItSdecrqx"
      }
    },
    {
      "cell_type": "markdown",
      "source": [
        "[Benzene](https://en.m.wikipedia.org/wiki/Benzene) is an organic chemical compound with the molecular formula C6H6. The benzene molecule is composed of six carbon atoms joined in a planar hexagonal ring with one hydrogen atom attached to each. Because it contains only carbon and hydrogen atoms, benzene is classed as a hydrocarbon.\n",
        "\n",
        "![ggg](https://raw.githubusercontent.com/deltorobarba/repo/master/sciences_1825.png)\n",
        "\n",
        "\n"
      ],
      "metadata": {
        "id": "Fn4GUP2_d4vq"
      }
    },
    {
      "cell_type": "markdown",
      "source": [
        "* **Building Block for Complex Organic Molecules and PAHs**: Benzene is the simplest aromatic hydrocarbon and serves as a crucial building block for larger, more complex organic molecules, including polycyclic aromatic hydrocarbons (PAHs). PAHs are thought to carry a significant fraction of the interstellar carbon and are ubiquitous in various astrophysical environments. Its spectral signatures provide insights into the formation pathways of these complex molecules, which are vital for understanding the carbon budget in the interstellar medium and the chemical evolution of star-forming regions.\n",
        "\n",
        "* **Presence in Protoplanetary Disks and Planet Formation**: The detection of benzene in protoplanetary disks, especially those around very low-mass stars, is highly significant. Its presence, often alongside other hydrocarbons, can indicate a rich carbon chemistry in these planet-forming environments. Understanding its distribution and abundance helps to trace the initial composition of planet-forming material and the potential for organic enrichment in forming planets. This can have implications for the types of planets that form and their initial chemical make-up.\n",
        "\n",
        "* **Indicator of Chemical Processes in Solar System Bodies**: Benzene has been detected in the atmospheres of gas giants like Jupiter and Saturn, and notably on Titan, Saturn's largest moon. On Titan, it's a component of the complex organic chemistry occurring in its atmosphere and on its surface. Spectral observations of benzene in these bodies provide clues about their atmospheric composition, photochemical processes, and the presence of complex organic aerosols, contributing to our understanding of their unique chemical evolution.\n",
        "\n",
        "* **Formation and Evolution in Interstellar Ices and Clouds**: While detection of gaseous benzene can be challenging in certain interstellar environments, it is found in interstellar ices on dust grains in dense molecular clouds. Studying benzene in these icy mantles reveals information about its formation mechanisms in cold, dense environments, possibly through reactions on grain surfaces or gas-phase pathways. Its presence in comets further suggests its role in delivering complex organic material from the interstellar medium to the early Solar System, potentially contributing to the inventory of prebiotic molecules on early Earth.\n",
        "\n",
        "* **Observable Through Vibrational Bands in Infrared and UV Wavelengths**: Benzene exhibits characteristic absorption and emission features across various wavelengths, including the infrared region due to its ro-vibrational bands (e.g., around 1600 cm⁻¹ and 1500-1430 cm⁻¹ for C=C stretches, and C-H stretches from 3100-3000 cm⁻¹). It also has significant electronic transitions in the ultraviolet (UV) region. These spectral fingerprints, particularly in the infrared, are accessible to powerful telescopes like the James Webb Space Telescope (JWST) and other ground and space-based observatories, enabling its detection and detailed characterization in diverse astrophysical settings."
      ],
      "metadata": {
        "id": "GgsZiwVu_f1O"
      }
    },
    {
      "cell_type": "code",
      "source": [
        "!pip install pyscf geometric -q\n",
        "import numpy as np\n",
        "import matplotlib.pyplot as plt\n",
        "from pyscf import gto, scf, hessian, dft, tddft, mp, cc\n",
        "from pyscf.geomopt.geometric_solver import optimize"
      ],
      "metadata": {
        "id": "W9oWMVgPQlGa"
      },
      "execution_count": null,
      "outputs": []
    },
    {
      "cell_type": "code",
      "source": [
        "# Define molecule\n",
        "mol = gto.Mole()\n",
        "mol.atom = '''\n",
        "    C    0.000000    1.396763    0.000000\n",
        "    C    1.209587    0.698382    0.000000\n",
        "    C    1.209587   -0.698382    0.000000\n",
        "    C    0.000000   -1.396763    0.000000\n",
        "    C   -1.209587   -0.698382    0.000000\n",
        "    C   -1.209587    0.698382    0.000000\n",
        "    H    0.000000    2.480310    0.000000\n",
        "    H    2.146325    1.240155    0.000000\n",
        "    H    2.146325   -1.240155    0.000000\n",
        "    H    0.000000   -2.480310    0.000000\n",
        "    H   -2.146325   -1.240155    0.000000\n",
        "    H   -2.146325    1.240155    0.000000\n",
        "'''\n",
        "\n",
        "# Name\n",
        "molecule = 'Benzene (C₆H₆)'"
      ],
      "metadata": {
        "id": "fJXF7LpIQmdH"
      },
      "execution_count": null,
      "outputs": []
    },
    {
      "cell_type": "code",
      "source": [
        "# Build molecule (with gto.M() function)\n",
        "mol.atom = mol.atom\n",
        "mol.basis = 'cc-pvdz' # Alternative basis set: sto-3g, cc-pvdz,6-31G\n",
        "mol.symmetry = True\n",
        "mol.spin = 0          # Benzene is a highly stable aromatic molecule. Its electrons, includ the delocalized pi electrons, are all paired in the ground state.\n",
        "# Aromatic molecule with delocalized pi electrons, all paired. Ground state is a singlet. mol.spin = 0 (since S=0, 2S=0)\n",
        "# Note: While there can be excited triplet states or even highly unstable triplet dianions, the ground state of neutral benzene is unequivocally a singlet.\n",
        "mol.build()"
      ],
      "metadata": {
        "id": "vULMXJXXQvpp"
      },
      "execution_count": null,
      "outputs": []
    },
    {
      "cell_type": "code",
      "source": [
        "print(\"-\" * 20)\n",
        "print(f\"{molecule} molecule symmetry:\")\n",
        "print(f\" Top group: {mol.topgroup}\")\n",
        "print(f\" Group name: {mol.groupname}\")\n",
        "print(\"-\" * 20)"
      ],
      "metadata": {
        "colab": {
          "base_uri": "https://localhost:8080/"
        },
        "id": "Fm_NtKVPet1s",
        "outputId": "8ba88677-83c6-4c34-c76e-fb99ca159e89"
      },
      "execution_count": null,
      "outputs": [
        {
          "output_type": "stream",
          "name": "stdout",
          "text": [
            "--------------------\n",
            "Benzene (C₆H₆) molecule symmetry:\n",
            " Top group: D2h\n",
            " Group name: D2h\n",
            "--------------------\n"
          ]
        }
      ]
    },
    {
      "cell_type": "markdown",
      "source": [
        "Point Group Symmetry\n",
        "* **Shape:** Planar Hexagonal\n",
        "* **Symmetry Operations:** One $C_6$ rotation axis, three $C_2$ axes perpendicular to $C_6$, three $C_2'$ axes perpendicular to $C_6$ and passing through atoms, a horizontal mirror plane ($\\sigma_h$), and six vertical mirror planes.\n",
        "* **Point Group:** **$D_{6h}$**\n",
        "* *A very high-symmetry molecule, but not linear.*"
      ],
      "metadata": {
        "id": "VW3vUf-Si5B6"
      }
    },
    {
      "cell_type": "markdown",
      "source": [
        "* **Stable Electronic Structure of Benzene:** Benzene's planar, hexagonal, and highly symmetric geometry, combined with a delocalized $\\pi$-electron cloud, contributes to a very stable electronic structure, as reflected by its total DFT energy.\n",
        "* **B3LYP Functional for Accurate Calculations:** The B3LYP hybrid functional, which combines Becke's 3-parameter exchange and Lee-Yang-Parr correlation functionals, accurately treats electron exchange and correlation, leading to precise energy calculations for molecules like benzene.\n",
        "* **Aromatic Stabilization through Electron Delocalization:** The resonance and delocalization of $\\pi$-electrons across the entire carbon ring significantly lower benzene's total energy, contributing to its high stability, often referred to as aromatic or resonance stabilization.\n",
        "* **Components of DFT Energy Calculation:** The DFT method calculates the total energy by considering attractive electron-nuclear interactions, repulsive electron-electron and nuclear-nuclear interactions, and crucial electron correlation effects accounted for by B3LYP. The choice of basis set also influences the accuracy of this calculated energy.\n",
        "* **Significance of Negative Energy Value:** The negative total energy value of -232.309 Hartree signifies a bound and stable molecular system. A more negative value indicates greater stability, which for benzene, is a direct consequence of its aromatic structure and electron delocalization."
      ],
      "metadata": {
        "id": "eVayIgVYRDCB"
      }
    },
    {
      "cell_type": "code",
      "source": [
        "# Ground State Energy with Hartree-Fock (Slater Determinant)\n",
        "mf = scf.RHF(mol)\n",
        "mf.kernel()"
      ],
      "metadata": {
        "colab": {
          "base_uri": "https://localhost:8080/"
        },
        "id": "K7EQJ92fQwvb",
        "outputId": "112f943b-9c13-4942-c73c-d56fd35187f3"
      },
      "execution_count": null,
      "outputs": [
        {
          "output_type": "stream",
          "name": "stdout",
          "text": [
            "converged SCF energy = -230.721941890601\n"
          ]
        },
        {
          "output_type": "execute_result",
          "data": {
            "text/plain": [
              "np.float64(-230.72194189060136)"
            ]
          },
          "metadata": {},
          "execution_count": 9
        }
      ]
    },
    {
      "cell_type": "code",
      "source": [
        "# Visualization of calculation process (Hartree-Fock)\n",
        "mf = scf.RHF(mol)                         # Set method\n",
        "conv_data = []                            # Store convergence data\n",
        "def callback(envs):                       # Callback function to collect convergence information\n",
        "    conv_data.append(envs['e_tot'])       # Captures energy values at each iteration to track process\n",
        "mf.callback = callback                    # Set callback directly on the mf object\n",
        "energy = mf.kernel()                      # Perform HF calculation\n",
        "energies = conv_data                      # Extract energy values\n",
        "iterations = range(1, len(energies) + 1)  # Extract iteration numbers\n",
        "plt.plot(iterations, energies, marker='o')\n",
        "plt.xlabel('Iteration')\n",
        "plt.ylabel('Total Energy (Hartree)')\n",
        "plt.title('HF-SCF Convergence')\n",
        "plt.grid(True)\n",
        "plt.show()\n",
        "print(f\"Ground state energy for {molecule}: {energy} Hartree\")"
      ],
      "metadata": {
        "colab": {
          "base_uri": "https://localhost:8080/",
          "height": 506
        },
        "id": "fByBBiuvQ0vK",
        "outputId": "e4b7e641-ab99-4a6e-d9c1-cb6eefef0067"
      },
      "execution_count": null,
      "outputs": [
        {
          "output_type": "stream",
          "name": "stdout",
          "text": [
            "converged SCF energy = -230.721941890602\n"
          ]
        },
        {
          "output_type": "display_data",
          "data": {
            "text/plain": [
              "<Figure size 640x480 with 1 Axes>"
            ],
            "image/png": "[encoded data removed]"
          },
          "metadata": {}
        },
        {
          "output_type": "stream",
          "name": "stdout",
          "text": [
            "Ground state energy for Benzene (C₆H₆): -230.72194189060158 Hartree\n"
          ]
        }
      ]
    },
    {
      "cell_type": "code",
      "source": [
        "# Ground State Energy with DFT (Kohn-Sham)\n",
        "mf = dft.RKS(mol)\n",
        "mf.xc = 'B3LYP'    # Exchange-correlation functional\n",
        "mf.kernel()"
      ],
      "metadata": {
        "colab": {
          "base_uri": "https://localhost:8080/"
        },
        "id": "xfq5Tb9mQx09",
        "outputId": "80cadf55-7f66-4414-ec70-006dec119341"
      },
      "execution_count": null,
      "outputs": [
        {
          "output_type": "stream",
          "name": "stdout",
          "text": [
            "converged SCF energy = -232.26252959283\n"
          ]
        },
        {
          "output_type": "execute_result",
          "data": {
            "text/plain": [
              "np.float64(-232.2625295928303)"
            ]
          },
          "metadata": {},
          "execution_count": 12
        }
      ]
    },
    {
      "cell_type": "code",
      "source": [
        "# Ground State Energy with Møller-Plesset Perturbation Theory (Post Hartree Fock)\n",
        "mf = scf.RHF(mol)\n",
        "mf.kernel()\n",
        "mp2 = mp.MP2(mf) # MP2 single point energy calculation\n",
        "energy_mp2 = mp2.kernel()\n",
        "print(f\"MP2 energy: {energy_mp2[0]} Hartree\")"
      ],
      "metadata": {
        "id": "pzFpVG99puHP",
        "colab": {
          "base_uri": "https://localhost:8080/"
        },
        "outputId": "efff4396-1611-41e7-f2df-74a4621281b4"
      },
      "execution_count": null,
      "outputs": [
        {
          "output_type": "stream",
          "name": "stdout",
          "text": [
            "converged SCF energy = -230.721941890602\n",
            "E(MP2) = -231.520586623213  E_corr = -0.798644732611156\n",
            "E(SCS-MP2) = -231.498142740132  E_corr = -0.776200849530373\n",
            "MP2 energy: -0.7986447326111555 Hartree\n"
          ]
        }
      ]
    },
    {
      "cell_type": "code",
      "source": [
        "# Ground State Energy with Coupled Cluster (Post Hartree Fock)\n",
        "mf = scf.RHF(mol)                  # Perform a HF-SCF calculation to obtain the reference wavefunction\n",
        "hf_energy = mf.kernel()\n",
        "ccsd_calc = cc.CCSD(mf)            # Perform a Coupled Cluster calculation\n",
        "ccsd_energy = ccsd_calc.kernel()\n",
        "ccsd_t_energy = ccsd_calc.ccsd_t() # (Optional) Include perturbative triple excitations (CCSD(T))\n",
        "\n",
        "# Ensure that ccsd_t_energy is a scalar (take the first element if it's an array)\n",
        "if isinstance(ccsd_t_energy, (list, tuple)) or hasattr(ccsd_t_energy, \"__len__\"):\n",
        "    ccsd_t_energy = ccsd_t_energy[0]  # Take the first value if it returns multiple results\n",
        "\n",
        "# Print the results\n",
        "#print(f\"HF-SCF energy: {hf_energy} Hartree\")\n",
        "#print(f\"CCSD energy: {ccsd_energy} Hartree\")\n",
        "#print(f\"CCSD(T) energy: {ccsd_energy + ccsd_t_energy} Hartree\")"
      ],
      "metadata": {
        "id": "8YN6phe_p119",
        "colab": {
          "base_uri": "https://localhost:8080/"
        },
        "outputId": "667d4edf-469e-4f2a-cc50-2c2503012e73"
      },
      "execution_count": null,
      "outputs": [
        {
          "output_type": "stream",
          "name": "stdout",
          "text": [
            "converged SCF energy = -230.721941890602\n",
            "E(CCSD) = -231.5589087600086  E_corr = -0.836966869406218\n",
            "CCSD(T) correction = -0.0362693939492215\n"
          ]
        }
      ]
    },
    {
      "cell_type": "code",
      "source": [
        "# Excited electronic states\n",
        "myhf = scf.RHF(mol).run()     # Perform a ground-state calculation\n",
        "mytd = tddft.TDA(myhf).run()  # Excited-state calculation using TDDFT\n",
        "#mol = gto.M(verbose = 4)     # Add verbose for more details\n",
        "mytd.analyze()"
      ],
      "metadata": {
        "colab": {
          "base_uri": "https://localhost:8080/"
        },
        "id": "O9wD31sfk6oa",
        "outputId": "85b1060b-1a49-413f-c32b-c8f18a7ade01"
      },
      "execution_count": null,
      "outputs": [
        {
          "output_type": "stream",
          "name": "stdout",
          "text": [
            "converged SCF energy = -230.721941890602\n",
            "Excited State energies (eV)\n",
            "[6.18219139 6.35111076 8.35767891]\n",
            "\n",
            "** Singlet excitation energies and oscillator strengths **\n",
            "Excited State   1:  B2u      6.18219 eV    200.55 nm  f=0.0000\n",
            "Excited State   2:  B3u      6.35111 eV    195.22 nm  f=0.0000\n",
            "Excited State   3:  B3u      8.35768 eV    148.35 nm  f=1.1237\n"
          ]
        },
        {
          "output_type": "execute_result",
          "data": {
            "text/plain": [
              "<pyscf.tdscf.rhf.TDA at 0x7e0e879e1550>"
            ]
          },
          "metadata": {},
          "execution_count": 15
        }
      ]
    },
    {
      "cell_type": "code",
      "source": [
        "# Geometry Optimization (in Angstroms) with HF or DFT\n",
        "mol_eq = optimize(mf)\n",
        "print(mol_eq.atom_coords())"
      ],
      "metadata": {
        "colab": {
          "base_uri": "https://localhost:8080/"
        },
        "id": "Ccu2BjvQQzIC",
        "outputId": "84129038-b189-4279-98c8-52fdd3381778"
      },
      "execution_count": null,
      "outputs": [
        {
          "output_type": "stream",
          "name": "stderr",
          "text": [
            "geometric-optimize called with the following command line:\n",
            "/usr/local/lib/python3.11/dist-packages/colab_kernel_launcher.py -f /root/.local/share/jupyter/runtime/kernel-e676cf59-f507-4790-a46e-96d7e790fa52.json\n",
            "\n",
            "                                        \u001b[91m())))))))))))))))/\u001b[0m                     \n",
            "                                    \u001b[91m())))))))))))))))))))))))),\u001b[0m                \n",
            "                                \u001b[91m*)))))))))))))))))))))))))))))))))\u001b[0m             \n",
            "                        \u001b[94m#,\u001b[0m    \u001b[91m()))))))))/\u001b[0m                \u001b[91m.)))))))))),\u001b[0m          \n",
            "                      \u001b[94m#%%%%,\u001b[0m  \u001b[91m())))))\u001b[0m                        \u001b[91m.))))))))*\u001b[0m        \n",
            "                      \u001b[94m*%%%%%%,\u001b[0m  \u001b[91m))\u001b[0m              \u001b[93m..\u001b[0m              \u001b[91m,))))))).\u001b[0m      \n",
            "                        \u001b[94m*%%%%%%,\u001b[0m         \u001b[93m***************/.\u001b[0m        \u001b[91m.)))))))\u001b[0m     \n",
            "                \u001b[94m#%%/\u001b[0m      \u001b[94m(%%%%%%,\u001b[0m    \u001b[93m/*********************.\u001b[0m       \u001b[91m)))))))\u001b[0m    \n",
            "              \u001b[94m.%%%%%%#\u001b[0m      \u001b[94m*%%%%%%,\u001b[0m  \u001b[93m*******/,\u001b[0m     \u001b[93m**********,\u001b[0m      \u001b[91m.))))))\u001b[0m   \n",
            "                \u001b[94m.%%%%%%/\u001b[0m      \u001b[94m*%%%%%%,\u001b[0m  \u001b[93m**\u001b[0m              \u001b[93m********\u001b[0m      \u001b[91m.))))))\u001b[0m  \n",
            "          \u001b[94m##\u001b[0m      \u001b[94m.%%%%%%/\u001b[0m      \u001b[94m(%%%%%%,\u001b[0m                  \u001b[93m,******\u001b[0m      \u001b[91m/)))))\u001b[0m  \n",
            "        \u001b[94m%%%%%%\u001b[0m      \u001b[94m.%%%%%%#\u001b[0m      \u001b[94m*%%%%%%,\u001b[0m    \u001b[92m,/////.\u001b[0m       \u001b[93m******\u001b[0m      \u001b[91m))))))\u001b[0m \n",
            "      \u001b[94m#%\u001b[0m      \u001b[94m%%\u001b[0m      \u001b[94m.%%%%%%/\u001b[0m      \u001b[94m*%%%%%%,\u001b[0m  \u001b[92m////////,\u001b[0m      \u001b[93m*****/\u001b[0m     \u001b[91m,)))))\u001b[0m \n",
            "    \u001b[94m#%%\u001b[0m  \u001b[94m%%%\u001b[0m  \u001b[94m%%%#\u001b[0m      \u001b[94m.%%%%%%/\u001b[0m      \u001b[94m(%%%%%%,\u001b[0m  \u001b[92m///////.\u001b[0m     \u001b[93m/*****\u001b[0m      \u001b[91m))))).\u001b[0m\n",
            "  \u001b[94m#%%%%.\u001b[0m      \u001b[94m%%%%%#\u001b[0m      \u001b[94m/%%%%%%*\u001b[0m      \u001b[94m#%%%%%%\u001b[0m   \u001b[92m/////)\u001b[0m     \u001b[93m******\u001b[0m      \u001b[91m))))),\u001b[0m\n",
            "    \u001b[94m#%%%%##%\u001b[0m  \u001b[94m%%%#\u001b[0m      \u001b[94m.%%%%%%/\u001b[0m      \u001b[94m(%%%%%%,\u001b[0m  \u001b[92m///////.\u001b[0m     \u001b[93m/*****\u001b[0m      \u001b[91m))))).\u001b[0m\n",
            "      \u001b[94m##\u001b[0m     \u001b[94m%%%\u001b[0m      \u001b[94m.%%%%%%/\u001b[0m      \u001b[94m*%%%%%%,\u001b[0m  \u001b[92m////////.\u001b[0m      \u001b[93m*****/\u001b[0m     \u001b[91m,)))))\u001b[0m \n",
            "        \u001b[94m#%%%%#\u001b[0m      \u001b[94m/%%%%%%/\u001b[0m      \u001b[94m(%%%%%%\u001b[0m      \u001b[92m/)/)//\u001b[0m       \u001b[93m******\u001b[0m      \u001b[91m))))))\u001b[0m \n",
            "          \u001b[94m##\u001b[0m      \u001b[94m.%%%%%%/\u001b[0m      \u001b[94m(%%%%%%,\u001b[0m                  \u001b[93m*******\u001b[0m      \u001b[91m))))))\u001b[0m  \n",
            "                \u001b[94m.%%%%%%/\u001b[0m      \u001b[94m*%%%%%%,\u001b[0m  \u001b[93m**.\u001b[0m             \u001b[93m/*******\u001b[0m      \u001b[91m.))))))\u001b[0m  \n",
            "              \u001b[94m*%%%%%%/\u001b[0m      \u001b[94m(%%%%%%\u001b[0m   \u001b[93m********/*..,*/*********\u001b[0m       \u001b[91m*))))))\u001b[0m   \n",
            "                \u001b[94m#%%/\u001b[0m      \u001b[94m(%%%%%%,\u001b[0m    \u001b[93m*********************/\u001b[0m        \u001b[91m)))))))\u001b[0m    \n",
            "                        \u001b[94m*%%%%%%,\u001b[0m         \u001b[93m,**************/\u001b[0m         \u001b[91m,))))))/\u001b[0m     \n",
            "                      \u001b[94m(%%%%%%\u001b[0m   \u001b[91m()\u001b[0m                              \u001b[91m))))))))\u001b[0m       \n",
            "                      \u001b[94m#%%%%,\u001b[0m  \u001b[91m())))))\u001b[0m                        \u001b[91m,)))))))),\u001b[0m        \n",
            "                        \u001b[94m#,\u001b[0m    \u001b[91m())))))))))\u001b[0m                \u001b[91m,)))))))))).\u001b[0m          \n",
            "                                 \u001b[91m()))))))))))))))))))))))))))))))/\u001b[0m             \n",
            "                                    \u001b[91m())))))))))))))))))))))))).\u001b[0m                \n",
            "                                         \u001b[91m())))))))))))))),\u001b[0m                     \n",
            "\n",
            "-=# \u001b[1;94m geomeTRIC started. Version: 1.1 \u001b[0m #=-\n",
            "Current date and time: 2025-06-12 19:20:40\n",
            "#========================================================#\n",
            "#| \u001b[92m    Arguments passed to driver run_optimizer():     \u001b[0m |#\n",
            "#========================================================#\n",
            "customengine              <pyscf.geomopt.geometric_solver.PySCFEngine object at 0x7e0e82470fd0> \n",
            "input                     /tmp/tmpzqhwsy8v/12055e2b-25d6-4dba-a060-506a1a16673a \n",
            "logIni                    /usr/local/lib/python3.11/dist-packages/pyscf/geomopt/log.ini \n",
            "----------------------------------------------------------\n",
            "Custom engine selected.\n",
            "Bonds will be generated from interatomic distances less than 1.20 times sum of covalent radii\n",
            "36 internal coordinates being used (instead of 36 Cartesians)\n",
            "Internal coordinate system (atoms numbered from 1):\n",
            "Distance 1-2\n",
            "Distance 1-6\n",
            "Distance 1-7\n",
            "Distance 2-3\n",
            "Distance 2-8\n",
            "Distance 3-4\n",
            "Distance 3-9\n",
            "Distance 4-5\n",
            "Distance 4-10\n",
            "Distance 5-6\n",
            "Distance 5-11\n",
            "Distance 6-12\n",
            "Angle 2-1-7\n",
            "Angle 6-1-7\n",
            "Angle 1-2-8\n",
            "Angle 3-2-8\n",
            "Angle 2-3-9\n",
            "Angle 4-3-9\n",
            "Angle 3-4-10\n",
            "Angle 5-4-10\n",
            "Angle 4-5-11\n",
            "Angle 6-5-11\n",
            "Angle 1-6-12\n",
            "Angle 5-6-12\n",
            "Out-of-Plane 1-2-6-7\n",
            "Out-of-Plane 2-1-3-8\n",
            "Out-of-Plane 3-2-4-9\n",
            "Out-of-Plane 4-3-5-10\n",
            "Out-of-Plane 5-4-6-11\n",
            "Out-of-Plane 6-1-5-12\n",
            "Dihedral 6-1-2-3\n",
            "Dihedral 6-1-2-8\n",
            "Dihedral 7-1-2-3\n",
            "Dihedral 7-1-2-8\n",
            "Dihedral 2-1-6-5\n",
            "Dihedral 2-1-6-12\n",
            "Dihedral 7-1-6-5\n",
            "Dihedral 7-1-6-12\n",
            "Dihedral 1-2-3-4\n",
            "Dihedral 1-2-3-9\n",
            "Dihedral 8-2-3-4\n",
            "Dihedral 8-2-3-9\n",
            "Dihedral 2-3-4-5\n",
            "Dihedral 2-3-4-10\n",
            "Dihedral 9-3-4-5\n",
            "Dihedral 9-3-4-10\n",
            "Dihedral 3-4-5-6\n",
            "Dihedral 3-4-5-11\n",
            "Dihedral 10-4-5-6\n",
            "Dihedral 10-4-5-11\n",
            "Dihedral 4-5-6-1\n",
            "Dihedral 4-5-6-12\n",
            "Dihedral 11-5-6-1\n",
            "Dihedral 11-5-6-12\n",
            "Translation-X 1-12\n",
            "Translation-Y 1-12\n",
            "Translation-Z 1-12\n",
            "Rotation-A 1-12\n",
            "Rotation-B 1-12\n",
            "Rotation-C 1-12\n",
            "<class 'geometric.internal.Distance'> : 12\n",
            "<class 'geometric.internal.Angle'> : 12\n",
            "<class 'geometric.internal.OutOfPlane'> : 6\n",
            "<class 'geometric.internal.Dihedral'> : 24\n",
            "<class 'geometric.internal.TranslationX'> : 1\n",
            "<class 'geometric.internal.TranslationY'> : 1\n",
            "<class 'geometric.internal.TranslationZ'> : 1\n",
            "<class 'geometric.internal.RotationA'> : 1\n",
            "<class 'geometric.internal.RotationB'> : 1\n",
            "<class 'geometric.internal.RotationC'> : 1\n",
            "> ===== Optimization Info: ====\n",
            "> Job type: Energy minimization\n",
            "> Maximum number of optimization cycles: 300\n",
            "> Initial / maximum trust radius (Angstrom): 0.100 / 0.300\n",
            "> Convergence Criteria:\n",
            "> Will converge when all 5 criteria are reached:\n",
            ">  |Delta-E| < 1.00e-06\n",
            ">  RMS-Grad  < 3.00e-04\n",
            ">  Max-Grad  < 4.50e-04\n",
            ">  RMS-Disp  < 1.20e-03\n",
            ">  Max-Disp  < 1.80e-03\n",
            "> === End Optimization Info ===\n"
          ]
        },
        {
          "output_type": "stream",
          "name": "stdout",
          "text": [
            "\n",
            "Geometry optimization cycle 1\n",
            "Cartesian coordinates (Angstrom)\n",
            " Atom        New coordinates             dX        dY        dZ\n",
            "   C   0.000000   1.396763   0.000000    0.000000  0.000000  0.000000\n",
            "   C   1.209587   0.698382   0.000000    0.000000  0.000000  0.000000\n",
            "   C   1.209587  -0.698382   0.000000    0.000000  0.000000  0.000000\n",
            "   C   0.000000  -1.396763   0.000000    0.000000  0.000000  0.000000\n",
            "   C  -1.209587  -0.698382   0.000000    0.000000  0.000000  0.000000\n",
            "   C  -1.209587   0.698382   0.000000    0.000000  0.000000  0.000000\n",
            "   H   0.000000   2.480310   0.000000    0.000000  0.000000  0.000000\n",
            "   H   2.146325   1.240155   0.000000    0.000000  0.000000  0.000000\n",
            "   H   2.146325  -1.240155   0.000000    0.000000  0.000000  0.000000\n",
            "   H   0.000000  -2.480310   0.000000    0.000000  0.000000  0.000000\n",
            "   H  -2.146325  -1.240155   0.000000    0.000000  0.000000  0.000000\n",
            "   H  -2.146325   1.240155   0.000000    0.000000  0.000000  0.000000\n",
            "converged SCF energy = -230.721941890602\n",
            "--------------- SymAdaptedRHF_Scanner gradients ---------------\n",
            "         x                y                z\n",
            "0 C    -0.0000000000     0.0077542553     0.0000000000\n",
            "1 C     0.0074884087     0.0042439821     0.0000000000\n",
            "2 C     0.0074884087    -0.0042439821     0.0000000000\n",
            "3 C     0.0000000000    -0.0077542553     0.0000000000\n",
            "4 C    -0.0074884087    -0.0042439821     0.0000000000\n",
            "5 C    -0.0074884087     0.0042439821     0.0000000000\n",
            "6 H    -0.0000000000     0.0011034466     0.0000000000\n",
            "7 H    -0.0000187366     0.0001149936     0.0000000000\n",
            "8 H    -0.0000187366    -0.0001149936     0.0000000000\n",
            "9 H     0.0000000000    -0.0011034466     0.0000000000\n",
            "10 H     0.0000187366    -0.0001149936     0.0000000000\n",
            "11 H     0.0000187366     0.0001149936     0.0000000000\n",
            "----------------------------------------------\n",
            "cycle 1: E = -230.721941891  dE = -230.722  norm(grad) = 0.0204719\n"
          ]
        },
        {
          "output_type": "stream",
          "name": "stderr",
          "text": [
            "Step    0 : Gradient = 5.910e-03/8.607e-03 (rms/max) Energy = -230.7219418906\n",
            "Hessian Eigenvalues: 2.30000e-02 2.30000e-02 2.30000e-02 ... 4.61656e-01 4.61679e-01 4.61679e-01\n"
          ]
        },
        {
          "output_type": "stream",
          "name": "stdout",
          "text": [
            "\n",
            "Geometry optimization cycle 2\n",
            "Cartesian coordinates (Angstrom)\n",
            " Atom        New coordinates             dX        dY        dZ\n",
            "   C   0.000000   1.385979   0.000000    0.000000 -0.010784  0.000000\n",
            "   C   1.201412   0.693345   0.000000   -0.008175 -0.005037  0.000000\n",
            "   C   1.201412  -0.693345   0.000000   -0.008175  0.005037  0.000000\n",
            "   C   0.000000  -1.385979   0.000000    0.000000  0.010784  0.000000\n",
            "   C  -1.201412  -0.693345   0.000000    0.008175  0.005037  0.000000\n",
            "   C  -1.201412   0.693345   0.000000    0.008175 -0.005037  0.000000\n",
            "   H   0.000000   2.467884   0.000000    0.000000 -0.012426  0.000000\n",
            "   H   2.138300   1.234736   0.000000   -0.008025 -0.005419  0.000000\n",
            "   H   2.138300  -1.234736   0.000000   -0.008025  0.005419  0.000000\n",
            "   H   0.000000  -2.467884   0.000000    0.000000  0.012426  0.000000\n",
            "   H  -2.138300  -1.234736   0.000000    0.008025  0.005419  0.000000\n",
            "   H  -2.138300   1.234736  -0.000000    0.008025 -0.005419 -0.000000\n",
            "converged SCF energy = -230.722326877322\n",
            "--------------- SymAdaptedRHF_Scanner gradients ---------------\n",
            "         x                y                z\n",
            "0 C     0.0000000000    -0.0021334411     0.0000000000\n",
            "1 C    -0.0014933661    -0.0008737020     0.0000000000\n",
            "2 C    -0.0014933661     0.0008737020     0.0000000000\n",
            "3 C     0.0000000000     0.0021334411     0.0000000000\n",
            "4 C     0.0014933661     0.0008737020     0.0000000000\n",
            "5 C     0.0014933661    -0.0008737020     0.0000000000\n",
            "6 H     0.0000000000    -0.0002958084     0.0000000000\n",
            "7 H    -0.0001053040    -0.0000867279     0.0000000000\n",
            "8 H    -0.0001053040     0.0000867279     0.0000000000\n",
            "9 H     0.0000000000     0.0002958084     0.0000000000\n",
            "10 H     0.0001053040     0.0000867279     0.0000000000\n",
            "11 H     0.0001053040    -0.0000867279     0.0000000000\n",
            "----------------------------------------------\n",
            "cycle 2: E = -230.722326877  dE = -0.000384987  norm(grad) = 0.00461807\n"
          ]
        },
        {
          "output_type": "stream",
          "name": "stderr",
          "text": [
            "Step    1 : Displace = \u001b[0m1.035e-02\u001b[0m/\u001b[0m1.243e-02\u001b[0m (rms/max) Trust = 1.000e-01 (=) Grad = \u001b[0m1.333e-03\u001b[0m/\u001b[0m2.133e-03\u001b[0m (rms/max) E (change) = -230.7223268773 (\u001b[0m-3.850e-04\u001b[0m) Quality = \u001b[0m0.773\u001b[0m\n",
            "Hessian Eigenvalues: 2.30000e-02 2.30000e-02 2.30000e-02 ... 4.61656e-01 4.61679e-01 5.70597e-01\n"
          ]
        },
        {
          "output_type": "stream",
          "name": "stdout",
          "text": [
            "\n",
            "Geometry optimization cycle 3\n",
            "Cartesian coordinates (Angstrom)\n",
            " Atom        New coordinates             dX        dY        dZ\n",
            "   C   0.000000   1.390463   0.000000    0.000000  0.004484  0.000000\n",
            "   C   1.201474   0.694331   0.000000    0.000061  0.000987  0.000000\n",
            "   C   1.201474  -0.694331   0.000000    0.000061 -0.000987  0.000000\n",
            "   C   0.000000  -1.390463   0.000000    0.000000 -0.004484  0.000000\n",
            "   C  -1.201474  -0.694331   0.000000   -0.000061 -0.000987  0.000000\n",
            "   C  -1.201474   0.694331  -0.000000   -0.000061  0.000987 -0.000000\n",
            "   H   0.000000   2.472717   0.000000    0.000000  0.004833  0.000000\n",
            "   H   2.139024   1.234896   0.000000    0.000724  0.000160  0.000000\n",
            "   H   2.139024  -1.234896   0.000000    0.000724 -0.000160  0.000000\n",
            "   H   0.000000  -2.472717   0.000000    0.000000 -0.004833  0.000000\n",
            "   H  -2.139024  -1.234896   0.000000   -0.000724 -0.000160  0.000000\n",
            "   H  -2.139024   1.234896  -0.000000   -0.000724  0.000160 -0.000000\n",
            "converged SCF energy = -230.72234464664\n",
            "--------------- SymAdaptedRHF_Scanner gradients ---------------\n",
            "         x                y                z\n",
            "0 C    -0.0000000000     0.0008847912     0.0000000000\n",
            "1 C    -0.0003531032    -0.0003095202     0.0000000000\n",
            "2 C    -0.0003531032     0.0003095202     0.0000000000\n",
            "3 C     0.0000000000    -0.0008847912     0.0000000000\n",
            "4 C     0.0003531032     0.0003095202     0.0000000000\n",
            "5 C     0.0003531032    -0.0003095202     0.0000000000\n",
            "6 H    -0.0000000000     0.0000918310     0.0000000000\n",
            "7 H    -0.0000806015     0.0000676615     0.0000000000\n",
            "8 H    -0.0000806015    -0.0000676615     0.0000000000\n",
            "9 H     0.0000000000    -0.0000918310     0.0000000000\n",
            "10 H     0.0000806015    -0.0000676615     0.0000000000\n",
            "11 H     0.0000806015     0.0000676615     0.0000000000\n",
            "----------------------------------------------\n",
            "cycle 3: E = -230.722344647  dE = -1.77693e-05  norm(grad) = 0.00158392\n"
          ]
        },
        {
          "output_type": "stream",
          "name": "stderr",
          "text": [
            "Step    2 : Displace = \u001b[0m2.784e-03\u001b[0m/\u001b[0m4.833e-03\u001b[0m (rms/max) Trust = 1.414e-01 (\u001b[92m+\u001b[0m) Grad = \u001b[0m4.572e-04\u001b[0m/\u001b[0m8.848e-04\u001b[0m (rms/max) E (change) = -230.7223446466 (\u001b[0m-1.777e-05\u001b[0m) Quality = \u001b[0m0.718\u001b[0m\n",
            "Hessian Eigenvalues: 2.30000e-02 2.30000e-02 2.30000e-02 ... 4.61656e-01 4.61679e-01 6.28784e-01\n"
          ]
        },
        {
          "output_type": "stream",
          "name": "stdout",
          "text": [
            "\n",
            "Geometry optimization cycle 4\n",
            "Cartesian coordinates (Angstrom)\n",
            " Atom        New coordinates             dX        dY        dZ\n",
            "   C   0.000000   1.386485   0.000000    0.000000 -0.003978  0.000000\n",
            "   C   1.205253   0.694744   0.000000    0.003779  0.000413  0.000000\n",
            "   C   1.205253  -0.694744   0.000000    0.003779 -0.000413  0.000000\n",
            "   C   0.000000  -1.386485   0.000000    0.000000  0.003978  0.000000\n",
            "   C  -1.205253  -0.694744   0.000000   -0.003779 -0.000413  0.000000\n",
            "   C  -1.205253   0.694744  -0.000000   -0.003779  0.000413 -0.000000\n",
            "   H  -0.000000   2.468816   0.000000   -0.000000 -0.003901  0.000000\n",
            "   H   2.142032   1.236883   0.000000    0.003008  0.001987  0.000000\n",
            "   H   2.142032  -1.236883   0.000000    0.003008 -0.001987  0.000000\n",
            "   H   0.000000  -2.468816   0.000000    0.000000  0.003901  0.000000\n",
            "   H  -2.142032  -1.236883   0.000000   -0.003008 -0.001987  0.000000\n",
            "   H  -2.142032   1.236883  -0.000000   -0.003008  0.001987 -0.000000\n",
            "converged SCF energy = -230.722329700407\n",
            "--------------- SymAdaptedRHF_Scanner gradients ---------------\n",
            "         x                y                z\n",
            "0 C     0.0000000000    -0.0005245841     0.0000000000\n",
            "1 C     0.0014316796     0.0009853485     0.0000000000\n",
            "2 C     0.0014316796    -0.0009853485     0.0000000000\n",
            "3 C     0.0000000000     0.0005245841     0.0000000000\n",
            "4 C    -0.0014316796    -0.0009853485     0.0000000000\n",
            "5 C    -0.0014316796     0.0009853485     0.0000000000\n",
            "6 H     0.0000000000    -0.0000250422     0.0000000000\n",
            "7 H     0.0002192512    -0.0000553155     0.0000000000\n",
            "8 H     0.0002192512     0.0000553155     0.0000000000\n",
            "9 H     0.0000000000     0.0000250422     0.0000000000\n",
            "10 H    -0.0002192512     0.0000553155     0.0000000000\n",
            "11 H    -0.0002192512    -0.0000553155     0.0000000000\n",
            "----------------------------------------------\n",
            "cycle 4: E = -230.7223297  dE = 1.49462e-05  norm(grad) = 0.0035831\n"
          ]
        },
        {
          "output_type": "stream",
          "name": "stderr",
          "text": [
            "Step    3 : Displace = \u001b[0m3.785e-03\u001b[0m/\u001b[0m3.978e-03\u001b[0m (rms/max) Trust = 1.414e-01 (=) Grad = \u001b[0m1.034e-03\u001b[0m/\u001b[0m1.738e-03\u001b[0m (rms/max) E (change) = -230.7223297004 (\u001b[91m+1.495e-05\u001b[0m) Quality = \u001b[91m-1.127\u001b[0m\n",
            "\u001b[93mRejecting step - quality is lower than -1.0\u001b[0m\n",
            "Hessian Eigenvalues: 2.30000e-02 2.30000e-02 2.30000e-02 ... 4.61656e-01 4.61679e-01 6.28784e-01\n"
          ]
        },
        {
          "output_type": "stream",
          "name": "stdout",
          "text": [
            "\n",
            "Geometry optimization cycle 5\n",
            "Cartesian coordinates (Angstrom)\n",
            " Atom        New coordinates             dX        dY        dZ\n",
            "   C   0.000000   1.388214   0.000000    0.000000  0.001729  0.000000\n",
            "   C   1.203340   0.694441   0.000000   -0.001913 -0.000303  0.000000\n",
            "   C   1.203340  -0.694441   0.000000   -0.001913  0.000303  0.000000\n",
            "   C   0.000000  -1.388214   0.000000    0.000000 -0.001729  0.000000\n",
            "   C  -1.203340  -0.694441   0.000000    0.001913  0.000303  0.000000\n",
            "   C  -1.203340   0.694441  -0.000000    0.001913 -0.000303 -0.000000\n",
            "   H  -0.000000   2.470458   0.000000    0.000000  0.001642  0.000000\n",
            "   H   2.140474   1.235835   0.000000   -0.001558 -0.001048  0.000000\n",
            "   H   2.140474  -1.235835   0.000000   -0.001558  0.001048  0.000000\n",
            "   H   0.000000  -2.470458   0.000000    0.000000 -0.001642  0.000000\n",
            "   H  -2.140474  -1.235835   0.000000    0.001558  0.001048  0.000000\n",
            "   H  -2.140474   1.235835  -0.000000    0.001558 -0.001048 -0.000000\n",
            "converged SCF energy = -230.722347981869\n",
            "--------------- SymAdaptedRHF_Scanner gradients ---------------\n",
            "         x                y                z\n",
            "0 C     0.0000000000     0.0000396580     0.0000000000\n",
            "1 C     0.0004674669     0.0002222769     0.0000000000\n",
            "2 C     0.0004674669    -0.0002222769     0.0000000000\n",
            "3 C     0.0000000000    -0.0000396580     0.0000000000\n",
            "4 C    -0.0004674669    -0.0002222769     0.0000000000\n",
            "5 C    -0.0004674669     0.0002222769     0.0000000000\n",
            "6 H     0.0000000000    -0.0000088313     0.0000000000\n",
            "7 H     0.0000694084    -0.0000022734     0.0000000000\n",
            "8 H     0.0000694084     0.0000022734     0.0000000000\n",
            "9 H     0.0000000000     0.0000088313     0.0000000000\n",
            "10 H    -0.0000694084     0.0000022734     0.0000000000\n",
            "11 H    -0.0000694084    -0.0000022734     0.0000000000\n",
            "----------------------------------------------\n",
            "cycle 5: E = -230.722347982  dE = -1.82815e-05  norm(grad) = 0.0010461\n"
          ]
        },
        {
          "output_type": "stream",
          "name": "stderr",
          "text": [
            "Step    4 : Displace = \u001b[0m1.963e-03\u001b[0m/\u001b[0m2.259e-03\u001b[0m (rms/max) Trust = 1.892e-03 (\u001b[1;91mx\u001b[0m) Grad = \u001b[0m3.020e-04\u001b[0m/\u001b[0m5.176e-04\u001b[0m (rms/max) E (change) = -230.7223479819 (\u001b[0m-3.335e-06\u001b[0m) Quality = \u001b[0m0.329\u001b[0m\n",
            "Hessian Eigenvalues: 2.30000e-02 2.30000e-02 2.30000e-02 ... 4.61679e-01 4.81032e-01 7.09994e-01\n"
          ]
        },
        {
          "output_type": "stream",
          "name": "stdout",
          "text": [
            "\n",
            "Geometry optimization cycle 6\n",
            "Cartesian coordinates (Angstrom)\n",
            " Atom        New coordinates             dX        dY        dZ\n",
            "   C   0.000000   1.388524   0.000000    0.000000  0.000310  0.000000\n",
            "   C   1.202548   0.694276   0.000000   -0.000792 -0.000165  0.000000\n",
            "   C   1.202548  -0.694276   0.000000   -0.000792  0.000165  0.000000\n",
            "   C   0.000000  -1.388524   0.000000    0.000000 -0.000310  0.000000\n",
            "   C  -1.202548  -0.694276   0.000000    0.000792  0.000165  0.000000\n",
            "   C  -1.202548   0.694276  -0.000000    0.000792 -0.000165 -0.000000\n",
            "   H   0.000000   2.470739   0.000000    0.000000  0.000282  0.000000\n",
            "   H   2.139763   1.235413   0.000000   -0.000711 -0.000422  0.000000\n",
            "   H   2.139763  -1.235413   0.000000   -0.000711  0.000422  0.000000\n",
            "   H   0.000000  -2.470739   0.000000    0.000000 -0.000282  0.000000\n",
            "   H  -2.139763  -1.235413   0.000000    0.000711  0.000422  0.000000\n",
            "   H  -2.139763   1.235413  -0.000000    0.000711 -0.000422 -0.000000\n",
            "converged SCF energy = -230.722349590093\n",
            "--------------- SymAdaptedRHF_Scanner gradients ---------------\n",
            "         x                y                z\n",
            "0 C     0.0000000000    -0.0000578314     0.0000000000\n",
            "1 C    -0.0000343028    -0.0000266123     0.0000000000\n",
            "2 C    -0.0000343028     0.0000266123     0.0000000000\n",
            "3 C     0.0000000000     0.0000578314     0.0000000000\n",
            "4 C     0.0000343028     0.0000266123     0.0000000000\n",
            "5 C     0.0000343028    -0.0000266123     0.0000000000\n",
            "6 H     0.0000000000    -0.0000097976     0.0000000000\n",
            "7 H    -0.0000040785    -0.0000018382     0.0000000000\n",
            "8 H    -0.0000040785     0.0000018382     0.0000000000\n",
            "9 H     0.0000000000     0.0000097976     0.0000000000\n",
            "10 H     0.0000040785     0.0000018382     0.0000000000\n",
            "11 H     0.0000040785    -0.0000018382     0.0000000000\n",
            "----------------------------------------------\n",
            "cycle 6: E = -230.72234959  dE = -1.60822e-06  norm(grad) = 0.000120418\n"
          ]
        },
        {
          "output_type": "stream",
          "name": "stderr",
          "text": [
            "Step    5 : Displace = \u001b[92m6.894e-04\u001b[0m/\u001b[92m8.271e-04\u001b[0m (rms/max) Trust = 1.892e-03 (=) Grad = \u001b[92m3.476e-05\u001b[0m/\u001b[92m5.783e-05\u001b[0m (rms/max) E (change) = -230.7223495901 (\u001b[0m-1.608e-06\u001b[0m) Quality = \u001b[0m0.945\u001b[0m\n",
            "Hessian Eigenvalues: 2.30000e-02 2.30000e-02 2.30000e-02 ... 4.61679e-01 5.34036e-01 6.74783e-01\n"
          ]
        },
        {
          "output_type": "stream",
          "name": "stdout",
          "text": [
            "\n",
            "Geometry optimization cycle 7\n",
            "Cartesian coordinates (Angstrom)\n",
            " Atom        New coordinates             dX        dY        dZ\n",
            "   C   0.000000   1.388621   0.000000    0.000000  0.000097  0.000000\n",
            "   C   1.202567   0.694307   0.000000    0.000019  0.000031  0.000000\n",
            "   C   1.202567  -0.694307   0.000000    0.000019 -0.000031  0.000000\n",
            "   C   0.000000  -1.388621   0.000000    0.000000 -0.000097  0.000000\n",
            "   C  -1.202567  -0.694307   0.000000   -0.000019 -0.000031  0.000000\n",
            "   C  -1.202567   0.694307  -0.000000   -0.000019  0.000031 -0.000000\n",
            "   H   0.000000   2.470849   0.000000    0.000000  0.000110  0.000000\n",
            "   H   2.139802   1.235421   0.000000    0.000039  0.000008  0.000000\n",
            "   H   2.139802  -1.235421   0.000000    0.000039 -0.000008  0.000000\n",
            "   H   0.000000  -2.470849   0.000000    0.000000 -0.000110  0.000000\n",
            "   H  -2.139802  -1.235421   0.000000   -0.000039 -0.000008  0.000000\n",
            "   H  -2.139802   1.235421  -0.000000   -0.000039  0.000008 -0.000000\n",
            "converged SCF energy = -230.722349606957\n",
            "--------------- SymAdaptedRHF_Scanner gradients ---------------\n",
            "         x                y                z\n",
            "0 C    -0.0000000000     0.0000080337     0.0000000000\n",
            "1 C     0.0000014007     0.0000014786     0.0000000000\n",
            "2 C     0.0000014007    -0.0000014786     0.0000000000\n",
            "3 C     0.0000000000    -0.0000080337     0.0000000000\n",
            "4 C    -0.0000014007    -0.0000014786     0.0000000000\n",
            "5 C    -0.0000014007     0.0000014786     0.0000000000\n",
            "6 H    -0.0000000000     0.0000017759     0.0000000000\n",
            "7 H    -0.0000004090     0.0000010075     0.0000000000\n",
            "8 H    -0.0000004090    -0.0000010075     0.0000000000\n",
            "9 H     0.0000000000    -0.0000017759     0.0000000000\n",
            "10 H     0.0000004090    -0.0000010075     0.0000000000\n",
            "11 H     0.0000004090     0.0000010075     0.0000000000\n",
            "----------------------------------------------\n",
            "cycle 7: E = -230.722349607  dE = -1.68638e-08  norm(grad) = 1.25184e-05\n"
          ]
        },
        {
          "output_type": "stream",
          "name": "stderr",
          "text": [
            "Step    6 : Displace = \u001b[92m6.738e-05\u001b[0m/\u001b[92m1.095e-04\u001b[0m (rms/max) Trust = 2.676e-03 (\u001b[92m+\u001b[0m) Grad = \u001b[92m3.614e-06\u001b[0m/\u001b[92m8.034e-06\u001b[0m (rms/max) E (change) = -230.7223496070 (\u001b[92m-1.686e-08\u001b[0m) Quality = \u001b[0m0.894\u001b[0m\n",
            "Hessian Eigenvalues: 2.30000e-02 2.30000e-02 2.30000e-02 ... 4.61679e-01 5.34036e-01 6.74783e-01\n",
            "Converged! =D\n",
            "\n",
            "    #==========================================================================#\n",
            "    #| If this code has benefited your research, please support us by citing: |#\n",
            "    #|                                                                        |#\n",
            "    #| Wang, L.-P.; Song, C.C. (2016) \"Geometry optimization made simple with |#\n",
            "    #| translation and rotation coordinates\", J. Chem, Phys. 144, 214108.     |#\n",
            "    #| http://dx.doi.org/10.1063/1.4952956                                    |#\n",
            "    #==========================================================================#\n",
            "    Time elapsed since start of run_optimizer: 179.599 seconds\n"
          ]
        },
        {
          "output_type": "stream",
          "name": "stdout",
          "text": [
            "[[ 0.          2.62411355  0.        ]\n",
            " [ 2.27252245  1.31204923  0.        ]\n",
            " [ 2.27252245 -1.31204923  0.        ]\n",
            " [ 0.         -2.62411355  0.        ]\n",
            " [-2.27252245 -1.31204923  0.        ]\n",
            " [-2.27252245  1.31204923  0.        ]\n",
            " [ 0.          4.66922739  0.        ]\n",
            " [ 4.04363919  2.33460726  0.        ]\n",
            " [ 4.04363919 -2.33460726  0.        ]\n",
            " [ 0.         -4.66922739  0.        ]\n",
            " [-4.04363919 -2.33460726  0.        ]\n",
            " [-4.04363919  2.33460726  0.        ]]\n"
          ]
        }
      ]
    },
    {
      "cell_type": "code",
      "source": [
        "# Emission and Absorption Spectra (Electronic Frequencies / Transitions)\n",
        "\n",
        "mf = scf.RHF(mol)                                     # Perform a ground-state calculation for molecular vibrational frequencies\n",
        "mf.kernel()\n",
        "hess = hessian.RHF(mf).kernel()                       # Calculate the Hessian matrix (force constants)\n",
        "frequencies = np.linalg.eigvalsh(hess)                # Diagonalize the Hessian to get vibrational frequencies\n",
        "frequencies = np.sqrt(np.abs(frequencies)) * 5140.48  # Conversion factor to cm^-1 (more accurate)\n",
        "frequencies = frequencies[(frequencies > 0) & (frequencies < 5000)]  # Filter out non-physical (imaginary) frequencies and limit to realistic range\n",
        "\n",
        "# Plot stlyes\n",
        "EMISSION_COLOR = '#ff9500'  # Bright orange\n",
        "ABSORPTION_COLOR = '#00b4d8'  # Bright blue\n",
        "BASELINE_COLOR = '#404040'  # Dark gray\n",
        "GRID_COLOR = '#303030'  # Slightly lighter gray for grid\n",
        "plt.figure(figsize=(12, 8), facecolor='black') # Create figure with dark background\n",
        "plt.style.use('dark_background') # Set the style to dark background\n",
        "\n",
        "# Emission Spectrum\n",
        "plt.subplot(2, 1, 1)\n",
        "plt.bar(frequencies, height=1.0, width=15.0, color=EMISSION_COLOR, alpha=0.8)\n",
        "plt.xlabel('Frequency (cm⁻¹)', color='white', fontsize=10)\n",
        "plt.ylabel('Intensity (a.u.)', color='white', fontsize=10)\n",
        "plt.title(f'Emission Spectrum of {molecule} (Vibrational Modes)',\n",
        "         color='white', pad=20, fontsize=12)\n",
        "\n",
        "# Customize grid and spines\n",
        "plt.grid(True, color=GRID_COLOR, linestyle='--', alpha=0.5)\n",
        "for spine in plt.gca().spines.values():\n",
        "    spine.set_color(GRID_COLOR)\n",
        "plt.tick_params(colors='white')\n",
        "\n",
        "# Absorption Spectrum\n",
        "plt.subplot(2, 1, 2)\n",
        "# Create baseline\n",
        "plt.plot(np.linspace(0, 5000, 1000), np.ones(1000),\n",
        "         color=BASELINE_COLOR, linewidth=1)\n",
        "\n",
        "# Plot absorption lines with gradient effect\n",
        "for freq in frequencies:\n",
        "    y = np.linspace(0, 1, 100)\n",
        "    x = np.ones_like(y) * freq\n",
        "    plt.plot(x, y, color=ABSORPTION_COLOR,\n",
        "            alpha=0.8, linewidth=2)\n",
        "\n",
        "plt.xlabel('Frequency (cm⁻¹)', color='white', fontsize=10)\n",
        "plt.ylabel('Normalized Intensity (a.u.)', color='white', fontsize=10)\n",
        "plt.title(f'Absorption Spectrum of {molecule} (Vibrational Modes)',\n",
        "         color='white', pad=20, fontsize=12)\n",
        "\n",
        "# Customize grid and spines\n",
        "plt.grid(True, color=GRID_COLOR, linestyle='--', alpha=0.5)\n",
        "for spine in plt.gca().spines.values():\n",
        "    spine.set_color(GRID_COLOR)\n",
        "plt.tick_params(colors='white')\n",
        "\n",
        "# Adjust layout and display\n",
        "plt.tight_layout()\n",
        "plt.subplots_adjust(hspace=0.3)\n",
        "\n",
        "# Set figure background to black\n",
        "plt.gcf().patch.set_facecolor('black')\n",
        "\n",
        "plt.show()"
      ],
      "metadata": {
        "colab": {
          "base_uri": "https://localhost:8080/",
          "height": 824
        },
        "id": "Ng75cS1wQ33d",
        "outputId": "9b39d525-6aae-4821-e977-12858e4cfad2"
      },
      "execution_count": null,
      "outputs": [
        {
          "output_type": "stream",
          "name": "stdout",
          "text": [
            "converged SCF energy = -230.721941890601\n"
          ]
        },
        {
          "output_type": "display_data",
          "data": {
            "text/plain": [
              "<Figure size 1200x800 with 2 Axes>"
            ],
            "image/png": "[encoded data removed]"
          },
          "metadata": {}
        }
      ]
    }
  ]
}