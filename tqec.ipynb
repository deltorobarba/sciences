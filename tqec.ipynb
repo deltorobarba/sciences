{
  "nbformat": 4,
  "nbformat_minor": 0,
  "metadata": {
    "colab": {
      "provenance": [],
      "authorship_tag": "ABX9TyPN7ugax6+Bl8y3xK4gDcVD",
      "include_colab_link": true
    },
    "kernelspec": {
      "name": "python3",
      "display_name": "Python 3"
    },
    "language_info": {
      "name": "python"
    }
  },
  "cells": [
    {
      "cell_type": "markdown",
      "metadata": {
        "id": "view-in-github",
        "colab_type": "text"
      },
      "source": [
        "<a href=\"https://colab.research.google.com/github/deltorobarba/sciences/blob/master/tqec.ipynb\" target=\"_parent\"><img src=\"https://colab.research.google.com/assets/colab-badge.svg\" alt=\"Open In Colab\"/></a>"
      ]
    },
    {
      "cell_type": "markdown",
      "source": [
        "# **Topological Quantum Error Correction**"
      ],
      "metadata": {
        "id": "hqzYO1e9-2n9"
      }
    },
    {
      "cell_type": "markdown",
      "source": [
        "Video: [Introduction](https://drive.google.com/file/d/1YHrIPJzFfK4yumcM5ETRURvD1OjaxSq_/view)\n",
        "\n",
        "Sheet: [Resources and Recordings](https://docs.google.com/spreadsheets/d/11DSA2wzKLOrfTGNHunFvzsMYeO7jZ8Ny8kpzoC_wKQg/edit?pli=1&resourcekey=0-PdGFkp5s-4XWihMSxk0UIg&gid=0#gid=0)\n",
        "\n",
        "Learning: [Coursera](https://www.coursera.org/learn/quantum-error-correction/)\n",
        "\n",
        "Slides: [Programming a quantum computer using SketchUp internal](https://docs.google.com/presentation/d/19stvGQ3JKH-Ogqrlkte0sxqtZsjJwNp0XYLSpG3IwmY/edit#slide=id.g30dff378cb0_0_38)\n",
        "\n",
        "Paper: [PDF Pages](https://drive.google.com/file/d/1gCNpSdvE7Xtnf6Onh05vz9PX_WkjNv2r/view)\n",
        "\n",
        "Repo: [TQECD github](https://tqec.github.io/tqecd/index.html)"
      ],
      "metadata": {
        "id": "eb0Fp2pBnHH7"
      }
    },
    {
      "cell_type": "code",
      "execution_count": null,
      "metadata": {
        "colab": {
          "base_uri": "https://localhost:8080/"
        },
        "id": "Qv70KBWu-EIS",
        "outputId": "02a2f41b-77c8-4a52-c48d-c66a96707635"
      },
      "outputs": [
        {
          "output_type": "stream",
          "name": "stdout",
          "text": [
            "Collecting git+https://github.com/tqec/tqecd.git\n",
            "  Cloning https://github.com/tqec/tqecd.git to /tmp/pip-req-build-2k29rrzm\n",
            "  Running command git clone --filter=blob:none --quiet https://github.com/tqec/tqecd.git /tmp/pip-req-build-2k29rrzm\n",
            "  Resolved https://github.com/tqec/tqecd.git to commit 3a4ea8313a2e7a2239853da863f26cc80fc634b1\n",
            "  Installing build dependencies ... \u001b[?25l\u001b[?25hdone\n",
            "  Getting requirements to build wheel ... \u001b[?25l\u001b[?25hdone\n",
            "  Preparing metadata (pyproject.toml) ... \u001b[?25l\u001b[?25hdone\n",
            "Requirement already satisfied: numpy in /usr/local/lib/python3.11/dist-packages (from tqecd==0.1.2) (2.0.2)\n",
            "Collecting stim (from tqecd==0.1.2)\n",
            "  Downloading stim-1.14.0-cp311-cp311-manylinux_2_17_x86_64.manylinux2014_x86_64.whl.metadata (4.2 kB)\n",
            "Collecting pycryptosat!=5.11.23 (from tqecd==0.1.2)\n",
            "  Downloading pycryptosat-5.11.21-cp311-cp311-manylinux_2_17_x86_64.manylinux2014_x86_64.whl.metadata (7.5 kB)\n",
            "Collecting python-sat[cryptosat] (from tqecd==0.1.2)\n",
            "  Downloading python_sat-1.8.dev16-cp311-cp311-manylinux_2_17_x86_64.manylinux2014_x86_64.manylinux_2_28_x86_64.whl.metadata (1.5 kB)\n",
            "Requirement already satisfied: six in /usr/local/lib/python3.11/dist-packages (from python-sat[cryptosat]->tqecd==0.1.2) (1.17.0)\n",
            "Downloading pycryptosat-5.11.21-cp311-cp311-manylinux_2_17_x86_64.manylinux2014_x86_64.whl (9.5 MB)\n",
            "\u001b[2K   \u001b[90m━━━━━━━━━━━━━━━━━━━━━━━━━━━━━━━━━━━━━━━━\u001b[0m \u001b[32m9.5/9.5 MB\u001b[0m \u001b[31m60.4 MB/s\u001b[0m eta \u001b[36m0:00:00\u001b[0m\n",
            "\u001b[?25hDownloading stim-1.14.0-cp311-cp311-manylinux_2_17_x86_64.manylinux2014_x86_64.whl (4.7 MB)\n",
            "\u001b[2K   \u001b[90m━━━━━━━━━━━━━━━━━━━━━━━━━━━━━━━━━━━━━━━━\u001b[0m \u001b[32m4.7/4.7 MB\u001b[0m \u001b[31m36.6 MB/s\u001b[0m eta \u001b[36m0:00:00\u001b[0m\n",
            "\u001b[?25hDownloading python_sat-1.8.dev16-cp311-cp311-manylinux_2_17_x86_64.manylinux2014_x86_64.manylinux_2_28_x86_64.whl (2.7 MB)\n",
            "\u001b[2K   \u001b[90m━━━━━━━━━━━━━━━━━━━━━━━━━━━━━━━━━━━━━━━━\u001b[0m \u001b[32m2.7/2.7 MB\u001b[0m \u001b[31m62.6 MB/s\u001b[0m eta \u001b[36m0:00:00\u001b[0m\n",
            "\u001b[?25hBuilding wheels for collected packages: tqecd\n",
            "  Building wheel for tqecd (pyproject.toml) ... \u001b[?25l\u001b[?25hdone\n",
            "  Created wheel for tqecd: filename=tqecd-0.1.2-py3-none-any.whl size=50242 sha256=8b17544ea696c757094b9b5f373d3a35f52b303b846fbeb51deec6b996c4e95d\n",
            "  Stored in directory: /tmp/pip-ephem-wheel-cache-4q1fz4bj/wheels/b9/86/e9/f086e10579449e48d9db309b0a454ae96c499d13578862ecdb\n",
            "Successfully built tqecd\n",
            "Installing collected packages: stim, python-sat, pycryptosat, tqecd\n",
            "Successfully installed pycryptosat-5.11.21 python-sat-1.8.dev16 stim-1.14.0 tqecd-0.1.2\n"
          ]
        }
      ],
      "source": [
        "!python -m pip install git+https://github.com/tqec/tqecd.git"
      ]
    },
    {
      "cell_type": "code",
      "source": [
        "import stim\n",
        "\n",
        "from tqecd import annotate_detectors_automatically\n",
        "\n",
        "# Example circuit that contains a detector\n",
        "XXXX = stim.Circuit(\"\"\"\\\n",
        "QUBIT_COORDS(1, 1) 0\n",
        "QUBIT_COORDS(0, 0) 1\n",
        "QUBIT_COORDS(2, 0) 2\n",
        "QUBIT_COORDS(0, 2) 3\n",
        "QUBIT_COORDS(2, 2) 4\n",
        "RX 0 1 2 3 4\n",
        "TICK\n",
        "CX 0 1\n",
        "TICK\n",
        "CX 0 2\n",
        "TICK\n",
        "CX 0 3\n",
        "TICK\n",
        "CX 0 4\n",
        "TICK\n",
        "MX 0\n",
        "\"\"\")\n",
        "assert XXXX.num_detectors == 0\n",
        "\n",
        "annotated_circuit = annotate_detectors_automatically(XXXX)\n",
        "print(annotated_circuit)"
      ],
      "metadata": {
        "colab": {
          "base_uri": "https://localhost:8080/"
        },
        "id": "Lmja2cDS_KA7",
        "outputId": "d53abfac-6517-4bb1-c7ea-8ba7e45ffd5b"
      },
      "execution_count": null,
      "outputs": [
        {
          "output_type": "stream",
          "name": "stdout",
          "text": [
            "QUBIT_COORDS(1, 1) 0\n",
            "QUBIT_COORDS(0, 0) 1\n",
            "QUBIT_COORDS(2, 0) 2\n",
            "QUBIT_COORDS(0, 2) 3\n",
            "QUBIT_COORDS(2, 2) 4\n",
            "RX 0 1 2 3 4\n",
            "TICK\n",
            "CX 0 1\n",
            "TICK\n",
            "CX 0 2\n",
            "TICK\n",
            "CX 0 3\n",
            "TICK\n",
            "CX 0 4\n",
            "TICK\n",
            "MX 0\n",
            "DETECTOR(1, 1, 0) rec[-1]\n"
          ]
        }
      ]
    },
    {
      "cell_type": "markdown",
      "source": [
        "https://algassert.com/crumble"
      ],
      "metadata": {
        "id": "DarJodr8-0iW"
      }
    },
    {
      "cell_type": "markdown",
      "source": [
        "the process of finding detectors with Crumble is 75% experience and 25% trial and error: You start by marking a reset with the corresponding Pauli mark, see what the propagation looks like, and if there are any anti-commuting measurement on the way, try to remove them by marking another reset.\n",
        "If you are interested about how TQEC is doing that, you can check\n",
        "\n",
        "https://tqec.github.io/tqecd/media/detectors/detector_finding_illustration.html."
      ],
      "metadata": {
        "id": "pHEJ-P-s-KsR"
      }
    }
  ]
}