{
  "nbformat": 4,
  "nbformat_minor": 0,
  "metadata": {
    "colab": {
      "provenance": [],
      "include_colab_link": true
    },
    "kernelspec": {
      "name": "python3",
      "display_name": "Python 3"
    },
    "language_info": {
      "name": "python"
    }
  },
  "cells": [
    {
      "cell_type": "markdown",
      "metadata": {
        "id": "view-in-github",
        "colab_type": "text"
      },
      "source": [
        "<a href=\"https://colab.research.google.com/github/deltorobarba/sciences/blob/master/chemistry_hydrogen.ipynb\" target=\"_parent\"><img src=\"https://colab.research.google.com/assets/colab-badge.svg\" alt=\"Open In Colab\"/></a>"
      ]
    },
    {
      "cell_type": "markdown",
      "source": [
        "# **Hydrogen atom (H) and Hydrogen molecule (H₂)**"
      ],
      "metadata": {
        "id": "VVx4DuF00Xk7"
      }
    },
    {
      "cell_type": "markdown",
      "source": [
        "### **Hydrogen atom (H)**"
      ],
      "metadata": {
        "id": "YFSM-4bpsZh2"
      }
    },
    {
      "cell_type": "markdown",
      "source": [
        "**Electronic Energy Levels of hydrogen-like atom** - energy spectral analysis for a single atom by calculating its electronic energy levels. We can compute the energy levels of a hydrogen-like atom using a simplified quantum mechanical model."
      ],
      "metadata": {
        "id": "dL-SFUic3yyO"
      }
    },
    {
      "cell_type": "code",
      "source": [
        "# qutip i python package for quantum optics simulations to model the energy spectrum of a single atom\n",
        "!pip install qutip -q\n",
        "import numpy as np\n",
        "import matplotlib.pyplot as plt\n",
        "from qutip import basis, qeye, tensor, destroy\n",
        "\n",
        "# Constants (in atomic units)\n",
        "Z = 1  # Atomic number (Z = 1 for hydrogen, Z = 2 for helium, etc.)\n",
        "n_max = 10  # Maximum principal quantum number\n",
        "\n",
        "# Define the Hamiltonian for a hydrogen-like atom\n",
        "def hydrogen_like_hamiltonian(Z, n_max):\n",
        "    energies = []\n",
        "    for n in range(1, n_max + 1):\n",
        "        # Energy levels follow the formula: E_n = -Z^2 / (2 * n^2)\n",
        "        energy_n = -Z**2 / (2 * n**2)\n",
        "        energies.append(energy_n)\n",
        "    return np.array(energies)\n",
        "\n",
        "# Calculate the energy levels\n",
        "energy_levels = hydrogen_like_hamiltonian(Z, n_max)\n",
        "\n",
        "# Plot the energy levels (as lines)\n",
        "plt.figure(figsize=(6, 4))\n",
        "for n, energy in enumerate(energy_levels, start=1):\n",
        "    plt.hlines(energy, xmin=n - 0.5, xmax=n + 0.5, color='blue', lw=2)\n",
        "    plt.text(n, energy + 0.005, f'n={n}', ha='center')\n",
        "\n",
        "plt.xlabel('Principal Quantum Number (n)')\n",
        "plt.ylabel('Energy (a.u.)')\n",
        "plt.title('Electronic Energy Levels of Hydrogen-Like Atom (Z=1)')\n",
        "plt.grid(True)\n",
        "plt.show()\n",
        "\n",
        "# Print the energy levels\n",
        "print(\"Energy levels (in atomic units):\")\n",
        "for n, energy in enumerate(energy_levels, start=1):\n",
        "    print(f\"n={n}, Energy: {energy:.6f} a.u.\")"
      ],
      "metadata": {
        "colab": {
          "base_uri": "https://localhost:8080/",
          "height": 614
        },
        "id": "m9xP4bi42nhK",
        "outputId": "ef3ffe82-26e7-495c-cdfc-75e3ff5a14a2"
      },
      "execution_count": null,
      "outputs": [
        {
          "output_type": "stream",
          "name": "stdout",
          "text": [
            "\u001b[2K   \u001b[90m━━━━━━━━━━━━━━━━━━━━━━━━━━━━━━━━━━━━━━━━\u001b[0m \u001b[32m28.0/28.0 MB\u001b[0m \u001b[31m43.4 MB/s\u001b[0m eta \u001b[36m0:00:00\u001b[0m\n",
            "\u001b[?25h"
          ]
        },
        {
          "output_type": "display_data",
          "data": {
            "text/plain": [
              "<Figure size 600x400 with 1 Axes>"
            ],
            "image/png": "[encoded data removed]"
          },
          "metadata": {}
        },
        {
          "output_type": "stream",
          "name": "stdout",
          "text": [
            "Energy levels (in atomic units):\n",
            "n=1, Energy: -0.500000 a.u.\n",
            "n=2, Energy: -0.125000 a.u.\n",
            "n=3, Energy: -0.055556 a.u.\n",
            "n=4, Energy: -0.031250 a.u.\n",
            "n=5, Energy: -0.020000 a.u.\n",
            "n=6, Energy: -0.013889 a.u.\n",
            "n=7, Energy: -0.010204 a.u.\n",
            "n=8, Energy: -0.007812 a.u.\n",
            "n=9, Energy: -0.006173 a.u.\n",
            "n=10, Energy: -0.005000 a.u.\n"
          ]
        }
      ]
    },
    {
      "cell_type": "markdown",
      "source": [
        "1. **Quantum Mechanical Model**: We use a simplified quantum mechanical model to calculate the energy levels of a hydrogen-like atom. The energy levels follow the well-known formula $ E_n = -\\frac{Z^2}{2n^2} $, where \\( Z \\) is the atomic number and \\( n \\) is the principal quantum number.\n",
        "2. **Hamiltonian**: In this case, the Hamiltonian is modeled as a diagonal matrix of the energy levels for different values of \\( n \\), where \\( n \\) represents different quantum states.\n",
        "3. **Visualization**: The energy levels are plotted as horizontal lines, with each line corresponding to a principal quantum number \\( n \\).\n",
        "\n",
        "**Adaptation for Different Atoms:**\n",
        "- For **alkaline earth metals** (e.g., beryllium, calcium), or **halogens** (e.g., fluorine, chlorine), you'd modify the value of \\( Z \\), and consider the more complex electron-electron interactions in these atoms.\n",
        "- This model, however, does not account for multi-electron effects, spin-orbit coupling, or fine structure. To include these, more advanced quantum chemistry methods are needed (e.g., solving the Schrödinger equation with appropriate potentials for many-electron systems).\n",
        "\n",
        "**Output**\n",
        "\n",
        "- The plot will show the energy levels for different quantum numbers \\( n \\) (1 through 10, by default).\n",
        "- The energy levels will be printed in **atomic units** (Hartrees).\n",
        "\n",
        "This basic model can be extended with more complex interactions if needed. Let me know if you want to delve into specific details for more complicated atoms or need help extending this to account for additional factors!"
      ],
      "metadata": {
        "id": "Fulc0gwk2v3i"
      }
    },
    {
      "cell_type": "markdown",
      "source": [
        "**Hydrogen vs. Hydrogen-like Atom**\n",
        "\n",
        "The term \"hydrogen-like atom\" refers to any atom or ion with only one electron. This can include hydrogen (which naturally has one electron), but it can also include ions of other elements that have lost all but one of their electrons, like \\( \\text{He}^+ \\), \\( \\text{Li}^{2+} \\), and so on. The atomic number \\( Z \\) specifies the number of protons in the nucleus (which determines the charge), and for hydrogen, \\( Z = 1 \\).\n",
        "\n",
        "- **Hydrogen Atom (Z = 1)**: In this specific example, where \\( Z = 1 \\), this code is modeling the energy levels of a hydrogen atom. The energy levels follow the formula:\n",
        "  \\[\n",
        "  E_n = \\frac{-1}{2n^2}\n",
        "  \\]\n",
        "  for \\( n = 1, 2, 3, \\dots \\). These are the well-known energy levels of a hydrogen atom.\n",
        "\n",
        "- **Hydrogen-like Atom (Z > 1)**: The same formula applies to any atom with one electron, but the energy levels are scaled by \\( Z^2 \\), the square of the nuclear charge:\n",
        "  \\[\n",
        "  E_n = \\frac{-Z^2}{2n^2}\n",
        "  \\]\n",
        "  So for helium with \\( Z = 2 \\), or \\( \\text{He}^+ \\), the energy levels would be four times deeper (lower energy) than those of hydrogen.\n",
        "\n",
        "**The Formula:**\n",
        "The energy formula used in the code:\n",
        "\\[\n",
        "E_n = \\frac{-Z^2}{2n^2}\n",
        "\\]\n",
        "describes the energy of an electron in a hydrogen-like atom, where:\n",
        "- \\( Z \\) is the atomic number (nuclear charge).\n",
        "- \\( n \\) is the principal quantum number (the \"shell\" or \"orbit\" the electron is in).\n",
        "\n",
        "**What Happens in the Code:**\n",
        "- For \\( Z = 1 \\), this is precisely the energy levels of a hydrogen atom.\n",
        "- If you change \\( Z \\) to any other value (like \\( Z = 2 \\) for helium), the program will then calculate the energy levels for a hydrogen-like ion with that atomic number (for example, \\( \\text{He}^+ \\)).\n",
        "\n",
        "**Visualization:**\n",
        "The code visualizes the energy levels as horizontal lines, with labels for each principal quantum number \\( n \\). You can think of this as showing how deep each \"orbital\" is in energy for a hydrogen atom.\n",
        "\n",
        "If you wanted to model the energy levels of a hydrogen-like ion, say \\( \\text{He}^+ \\), you would simply change the value of \\( Z \\) to 2. This would adjust the energy levels appropriately, giving a set of deeper (more negative) energy levels compared to hydrogen.\n",
        "\n",
        "**Summary:**\n",
        "- The code provided models the energy levels of a **hydrogen atom** when \\( Z = 1 \\).\n",
        "- The term **hydrogen-like atom** refers to any atom or ion with one electron, and by changing \\( Z \\), you can model the energy levels of different hydrogen-like systems (e.g., \\( \\text{He}^+ \\), \\( \\text{Li}^{2+} \\))."
      ],
      "metadata": {
        "id": "w5_9Mi3s8JOX"
      }
    },
    {
      "cell_type": "markdown",
      "source": [
        "**Emission and Absorption Spectrum of Hydrogen (H)**"
      ],
      "metadata": {
        "id": "dy0RhwNz3iHC"
      }
    },
    {
      "cell_type": "markdown",
      "source": [
        "ChemText: [The Hydrogen Atomic Spectrum](https://chem.libretexts.org/Courses/Pacific_Union_College/Quantum_Chemistry/01%3A_The_Dawn_of_the_Quantum_Theory/1.04%3A_The_Hydrogen_Atomic_Spectrum)\n",
        "\n",
        "![ggg](https://raw.githubusercontent.com/deltorobarba/repo/master/sciences_1828.png)\n",
        "\n",
        "![ggg](https://raw.githubusercontent.com/deltorobarba/repo/master/sciences_1827.png)\n",
        "\n"
      ],
      "metadata": {
        "id": "oOxgVxEh6C7i"
      }
    },
    {
      "cell_type": "markdown",
      "source": [
        "For hydrogen, the electronic transitions between energy levels are well-known.\n",
        "\n",
        "The corresponding emission and absorption spectra can be calculated using the Rydberg formula:\n",
        "\n",
        "$\n",
        "\\frac{1}{\\lambda} = R_H \\left( \\frac{1}{n_1^2} - \\frac{1}{n_2^2} \\right)\n",
        "$\n",
        "\n",
        "Where:\n",
        "- $ \\lambda $ is the wavelength of the transition.\n",
        "- $ R_H $ is the Rydberg constant for hydrogen, $ R_H = 1.097 \\times 10^7 \\, \\text{m}^{-1} $.\n",
        "- $ n_1 $ and $ n_2 $ are the principal quantum numbers of the lower and higher energy levels, respectively, with $ n_2 > n_1 $.\n",
        "\n",
        "For hydrogen, the transitions typically seen in the visible spectrum come from the Balmer series ($ n_1 = 2 $).\n"
      ],
      "metadata": {
        "id": "yNV3uEPE37DV"
      }
    },
    {
      "cell_type": "code",
      "source": [
        "import numpy as np\n",
        "import matplotlib.pyplot as plt\n",
        "\n",
        "# Constants\n",
        "R_H = 1.097e7  # Rydberg constant in m^-1\n",
        "c = 3e8  # Speed of light in m/s\n",
        "h = 6.626e-34  # Planck's constant in J·s\n",
        "eV_to_J = 1.60218e-19  # Conversion from eV to Joules\n",
        "\n",
        "# Rydberg formula for hydrogen transitions (in nm)\n",
        "def rydberg_wavelength(n1, n2):\n",
        "    return 1e9 / (R_H * (1/n1**2 - 1/n2**2))  # Wavelength in nm\n",
        "\n",
        "# Step 1: Define the possible transitions (Balmer series for visible light)\n",
        "transitions = []\n",
        "for n2 in range(3, 7):  # Transitions to n1=2 from n2=3, 4, 5, 6\n",
        "    transitions.append((2, n2))\n",
        "\n",
        "# Step 2: Calculate the wavelengths for these transitions\n",
        "wavelengths = [rydberg_wavelength(n1, n2) for n1, n2 in transitions]\n",
        "\n",
        "# Step 3: Simulate and plot the emission and absorption spectra\n",
        "fig, axs = plt.subplots(2, 1, figsize=(10, 8))\n",
        "\n",
        "# Emission Spectrum (peaks at specific wavelengths)\n",
        "axs[0].bar(wavelengths, [1.0] * len(wavelengths), width=20.0, color='orange')\n",
        "axs[0].set_xlabel('Wavelength (nm)')\n",
        "axs[0].set_ylabel('Intensity (a.u.)')\n",
        "axs[0].set_title('Emission Spectrum of Hydrogen (Balmer Series)')\n",
        "axs[0].grid(True)\n",
        "\n",
        "# Absorption Spectrum (dips at specific wavelengths)\n",
        "axs[1].plot(np.linspace(350, 700, 1000), np.ones(1000), color='gray')  # Baseline at 1.0 intensity\n",
        "for wavelength in wavelengths:\n",
        "    axs[1].plot([wavelength, wavelength], [1.0, 0.0], color='blue', lw=2)  # Vertical absorption dips\n",
        "axs[1].set_xlabel('Wavelength (nm)')\n",
        "axs[1].set_ylabel('Normalized Intensity (a.u.)')\n",
        "axs[1].set_title('Absorption Spectrum of Hydrogen (Balmer Series)')\n",
        "axs[1].grid(True)\n",
        "\n",
        "plt.tight_layout()\n",
        "plt.show()\n",
        "\n",
        "# Step 4: Print out the transition wavelengths\n",
        "print(\"Balmer series transitions (wavelengths in nm):\")\n",
        "for (n1, n2), wavelength in zip(transitions, wavelengths):\n",
        "    print(f\"n2={n2} -> n1={n1}: {wavelength:.2f} nm\")"
      ],
      "metadata": {
        "id": "kr86VyWH3n5j",
        "outputId": "26b26fcf-9bf1-40df-d0ea-7bd3c525b759",
        "colab": {
          "base_uri": "https://localhost:8080/",
          "height": 892
        }
      },
      "execution_count": null,
      "outputs": [
        {
          "output_type": "display_data",
          "data": {
            "text/plain": [
              "<Figure size 1000x800 with 2 Axes>"
            ],
            "image/png": "[encoded data removed]"
          },
          "metadata": {}
        },
        {
          "output_type": "stream",
          "name": "stdout",
          "text": [
            "Balmer series transitions (wavelengths in nm):\n",
            "n2=3 -> n1=2: 656.34 nm\n",
            "n2=4 -> n1=2: 486.17 nm\n",
            "n2=5 -> n1=2: 434.08 nm\n",
            "n2=6 -> n1=2: 410.21 nm\n"
          ]
        }
      ]
    },
    {
      "cell_type": "markdown",
      "source": [
        "- **Rydberg Formula:** This formula calculates the wavelength of light emitted or absorbed when an electron transitions between energy levels.\n",
        "- **Balmer Series:** We focus on transitions where the electron ends up at $ n_1 = 2 $ (visible light region). These include $ n_2 = 3, 4, 5, 6 $, which correspond to specific emission and absorption lines in the visible range.\n",
        "- **Wavelengths:** We calculate the wavelengths of the transitions and plot the emission (peaks) and absorption (dips) spectra.\n",
        "\n",
        "**Output:**\n",
        "- **Emission Spectrum:** Shows peaks at specific wavelengths corresponding to hydrogen’s visible spectral lines.\n",
        "- **Absorption Spectrum:** Shows dips at the same wavelengths, corresponding to the absorption of photons at those energies.\n",
        "- **Wavelengths:** These are the wavelengths corresponding to the visible Balmer series transitions.\n",
        "\n",
        "For hydrogen's Balmer series, the most important lines are around:\n",
        "\n",
        "- $ n_2 = 3 \\rightarrow n_1 = 2 $: 656.3 nm (H-alpha)\n",
        "- $ n_2 = 4 \\rightarrow n_1 = 2 $: 486.1 nm (H-beta)\n",
        "- $ n_2 = 5 \\rightarrow n_1 = 2 $: 434.0 nm (H-gamma)\n",
        "- $ n_2 = 6 \\rightarrow n_1 = 2 $: 410.2 nm (H-delta)"
      ],
      "metadata": {
        "id": "Gg8eOchm3tuU"
      }
    },
    {
      "cell_type": "markdown",
      "source": [
        "**if I consider the hydrogen atom and look at the emission from n3 to n2, I see this corresponds in the ballerina series to a wavelength of 656.34 nm. If I look at the calculation of the energy levels in atomic units, I see n=2 Energy: -0.125000 a.u. and n=3, Energy: -0.055556 a.u.. This means the difference between n=2 and n=3 is (-0.055556) - (-0.125000) = 0.069444. is that the difference in atomic units but how is it related to the wavelength of 656.34 nm?**\n",
        "\n",
        "\n",
        "Yes, you are correct that the energy difference between the \\( n=3 \\) and \\( n=2 \\) energy levels of hydrogen in atomic units is \\( 0.069444 \\, \\text{a.u.} \\), and this is directly related to the wavelength of 656.34 nm via the energy-wavelength relationship.\n",
        "\n",
        "Here’s how you convert the energy difference (in atomic units) to a wavelength:\n",
        "\n",
        "**Step 1: Energy-Wavelength Relationship**\n",
        "The energy \\( E \\) of a photon is related to its wavelength \\( \\lambda \\) by the following equation:\n",
        "\n",
        "$\n",
        "E = \\frac{hc}{\\lambda}\n",
        "$\n",
        "\n",
        "Where:\n",
        "- \\( E \\) is the energy of the photon (in Joules),\n",
        "- \\( h \\) is Planck's constant \\( (6.626 \\times 10^{-34} \\, \\text{J·s}) \\),\n",
        "- \\( c \\) is the speed of light \\( (3.0 \\times 10^8 \\, \\text{m/s}) \\),\n",
        "- \\( \\lambda \\) is the wavelength of the photon (in meters).\n",
        "\n",
        "**Step 2: Converting Atomic Units to Joules**\n",
        "In atomic units (a.u.), energy is expressed in terms of the Hartree energy. The Hartree energy \\( E_h \\) is approximately:\n",
        "\n",
        "$\n",
        "1 \\, \\text{a.u.} = 4.3597 \\times 10^{-18} \\, \\text{J}\n",
        "$\n",
        "\n",
        "So, if the energy difference between \\( n=3 \\) and \\( n=2 \\) is \\( 0.069444 \\, \\text{a.u.} \\), you can convert this to Joules as follows:\n",
        "\n",
        "$\n",
        "E_{\\text{photon}} = 0.069444 \\, \\text{a.u.} \\times 4.3597 \\times 10^{-18} \\, \\text{J/a.u.} = 3.027 \\times 10^{-19} \\, \\text{J}\n",
        "$\n",
        "\n",
        "**Step 3: Solving for Wavelength**\n",
        "Now, we can rearrange the energy-wavelength equation to solve for $ \\lambda $:\n",
        "\n",
        "$\n",
        "\\lambda = \\frac{hc}{E}\n",
        "$\n",
        "\n",
        "Substitute $ h = 6.626 \\times 10^{-34} \\, \\text{J·s} $, $ c = 3.0 \\times 10^8 \\, \\text{m/s} $, and $ E = 3.027 \\times 10^{-19} \\, \\text{J} $:\n",
        "\n",
        "$\n",
        "\\lambda = \\frac{6.626 \\times 10^{-34} \\times 3.0 \\times 10^8}{3.027 \\times 10^{-19}} = 6.565 \\times 10^{-7} \\, \\text{m}\n",
        "$\n",
        "\n",
        "This gives:\n",
        "\n",
        "$\n",
        "\\lambda = 656.5 \\, \\text{nm}\n",
        "$\n",
        "\n",
        "**Conclusion**\n",
        "The energy difference between the \\( n=3 \\) and \\( n=2 \\) levels of hydrogen, \\( 0.069444 \\, \\text{a.u.} \\), corresponds to a photon with a wavelength of approximately **656.5 nm**. This matches very closely with the experimental value of 656.34 nm, which is the red spectral line known as the **H-alpha line** in the Balmer series.\n",
        "\n",
        "So, to summarize:\n",
        "- The difference in energy $ 0.069444 \\, \\text{a.u.} $ is the energy released when an electron transitions from \\( n=3 \\) to \\( n=2 \\).\n",
        "- This energy corresponds to a photon with a wavelength of about **656.5 nm**."
      ],
      "metadata": {
        "id": "06bxsX668VRU"
      }
    },
    {
      "cell_type": "markdown",
      "source": [
        "### **Hydrogen Molecule (H₂)**"
      ],
      "metadata": {
        "id": "bSdSnms1zJGc"
      }
    },
    {
      "cell_type": "code",
      "source": [
        "!pip install pyscf matplotlib geometric openfermion openfermionpyscf -q"
      ],
      "metadata": {
        "id": "PvzSOEgFX3Rh"
      },
      "execution_count": null,
      "outputs": []
    },
    {
      "cell_type": "code",
      "source": [
        "# Define hydrogen (H2) molecule\n",
        "from pyscf import gto\n",
        "mol = gto.Mole()\n",
        "mol.atom = '''\n",
        "    H  0.00 0.00  0.00\n",
        "    H  0.00 0.00  0.74\n",
        "'''"
      ],
      "metadata": {
        "id": "64xtdwNcX4-Y"
      },
      "execution_count": null,
      "outputs": []
    },
    {
      "cell_type": "markdown",
      "source": [
        "**Hartree-Fock SCF (Slater Determinant-based Hartree-Fock Hamiltonian)**"
      ],
      "metadata": {
        "id": "TviIlQ3vX0ro"
      }
    },
    {
      "cell_type": "code",
      "source": [
        "# First, ensure you have the PySCF package installed\n",
        "from pyscf import gto, scf\n",
        "import matplotlib.pyplot as plt\n",
        "\n",
        "# Step 1: Define the molecule using gto.M() function\n",
        "mol = gto.M(\n",
        "    atom = mol.atom,\n",
        "    basis = 'cc-pvdz',  # Use a common basis set, good balance between accuracy and computational cost\n",
        ")\n",
        "\n",
        "# Step 2: Perform a HF-SCF calculation using Restricted Hartree-Fock (RHF) method\n",
        "\n",
        "# scf.RHF for a restricted Hartree-Fock calculation for a closed-shell system (H₂O)\n",
        "mf = scf.RHF(mol)\n",
        "\n",
        "# Store convergence data\n",
        "conv_data = []\n",
        "\n",
        "# Callback function to collect convergence information\n",
        "# (callback function captures energy values at each iteration to track the convergence process)\n",
        "def callback(envs):\n",
        "    conv_data.append(envs['e_tot'])\n",
        "\n",
        "# Set the callback directly on the mf object\n",
        "mf.callback = callback\n",
        "\n",
        "# Perform HF calculation\n",
        "energy = mf.kernel()\n",
        "\n",
        "# Extract energy values and iteration numbers\n",
        "energies = conv_data\n",
        "iterations = range(1, len(energies) + 1)\n",
        "\n",
        "# Plot the convergence\n",
        "plt.plot(iterations, energies, marker='o')\n",
        "plt.xlabel('Iteration')\n",
        "plt.ylabel('Total Energy (Hartree)')\n",
        "plt.title('HF-SCF Convergence')\n",
        "plt.grid(True)\n",
        "plt.show()\n",
        "\n",
        "print(f\"HF-SCF energy for H2O: {energy} Hartree\")"
      ],
      "metadata": {
        "id": "3Ka2Hq73Xynu",
        "outputId": "83f1a325-7f48-4751-a33d-5ef0c4d17a3c",
        "colab": {
          "base_uri": "https://localhost:8080/",
          "height": 506
        }
      },
      "execution_count": null,
      "outputs": [
        {
          "output_type": "stream",
          "name": "stdout",
          "text": [
            "converged SCF energy = -1.12870009355644\n"
          ]
        },
        {
          "output_type": "display_data",
          "data": {
            "text/plain": [
              "<Figure size 640x480 with 1 Axes>"
            ],
            "image/png": "[encoded data removed]"
          },
          "metadata": {}
        },
        {
          "output_type": "stream",
          "name": "stdout",
          "text": [
            "HF-SCF energy for H2O: -1.1287000935564415 Hartree\n"
          ]
        }
      ]
    },
    {
      "cell_type": "markdown",
      "source": [
        "Potentially calculate and dispaly slater determinants"
      ],
      "metadata": {
        "id": "Me57U_knYWi5"
      }
    },
    {
      "cell_type": "code",
      "source": [
        "import numpy as np\n",
        "import matplotlib.pyplot as plt\n",
        "from mpl_toolkits.mplot3d import Axes3D\n",
        "\n",
        "# Define a mock wavefunction for two electrons between two atoms\n",
        "def wavefunction(e1, e2):\n",
        "    # This is just a fictional wavefunction for illustration\n",
        "    return np.sin(e1) * np.cos(e2) - np.cos(e1) * np.sin(e2)\n",
        "\n",
        "# Create a grid of electron positions\n",
        "e1_vals = np.linspace(-np.pi, np.pi, 100)  # Position of electron 1\n",
        "e2_vals = np.linspace(-np.pi, np.pi, 100)  # Position of electron 2\n",
        "E1, E2 = np.meshgrid(e1_vals, e2_vals)\n",
        "\n",
        "# Calculate wavefunction values over the grid\n",
        "W = wavefunction(E1, E2)\n",
        "\n",
        "# Plot the wavefunction as a 3D surface\n",
        "fig = plt.figure()\n",
        "ax = fig.add_subplot(111, projection='3d')\n",
        "\n",
        "# Plotting the surface\n",
        "ax.plot_surface(E1, E2, W, cmap='coolwarm')\n",
        "\n",
        "# Labels\n",
        "ax.set_title('Slater Determinant (Wavefunction)')\n",
        "ax.set_xlabel('Electron 1')\n",
        "ax.set_ylabel('Electron 2')\n",
        "ax.set_zlabel('Value of Wavefunction')\n",
        "\n",
        "# Show the plot\n",
        "plt.show()"
      ],
      "metadata": {
        "id": "tLxNuEHbYWEi"
      },
      "execution_count": null,
      "outputs": []
    },
    {
      "cell_type": "markdown",
      "source": [
        "**Configuration Interaction (CI)**\n"
      ],
      "metadata": {
        "id": "mOPxniPeYMpx"
      }
    },
    {
      "cell_type": "markdown",
      "source": [
        "\n",
        "* **Full CI (FCI)** provides an exact solution to the Schrödinger equation within a given basis set but is computationally prohibitive for large systems.\n",
        "* **CI with Single and Double excitations (CISD)**: A truncated version of FCI that is more computationally feasible but less accurate than CCSD.\n",
        "\n",
        "\n",
        "[Configuration interaction (CI)](https://en.m.wikipedia.org/wiki/Configuration_interaction) is a is a post-Hartree-Fock linear variational method used in quantum chemistry to account for electron correlation. The simplest form is CISD (Configuration Interaction with Single and Double excitations).\n",
        "\n",
        "Configuration interaction is used for solving the nonrelativistic Schrödinger equation within the Born–Oppenheimer approximation for a quantum chemical multi-electron system. Mathematically, **configuration simply describes the linear combination of Slater determinants used for the wave function.**\n",
        "\n",
        "In terms of a specification of orbital occupation (for instance,\n",
        "$\\left.(1 \\mathrm{~s})^{2}(2 \\mathrm{~s})^{2}(2 \\mathrm{p})^{1} \\ldots\\right)$, interaction means the mixing (interaction) of\n",
        "different electronic configurations (states).\n",
        "\n",
        "* Due to the long\n",
        "$\\mathrm{CPU}$ time and large memory required for $\\mathrm{Cl}$ calculations, the\n",
        "method is limited to relatively small systems.\n",
        "\n",
        "* In contrast to the Hartree-Fock method, in order to account for\n",
        "electron correlation, $\\mathrm{Cl}$ **uses a variational wave function that is\n",
        "a linear combination of configuration state functions (CSFs)\n",
        "built from spin orbitals (denoted by the superscript SO)**,\n",
        "\n",
        "> $\\Psi=\\sum_{I=0} c_{I} \\Phi_{I}^{S O}=c_{0} \\Phi_{0}^{S O}+c_{1} \\Phi_{1}^{S O}+\\ldots$\n",
        "\n",
        "* where $\\Psi$ is usually the electronic ground state of the system.\n",
        "\n",
        "* If expansion includes all possible CSFs of the appropriate\n",
        "symmetry, then this is a full configuration interaction"
      ],
      "metadata": {
        "id": "IDY9kxyq128M"
      }
    },
    {
      "cell_type": "code",
      "source": [
        "!pip install pyscf -q\n",
        "from pyscf import gto, scf, ci\n",
        "\n",
        "# Step 1: Define the molecule\n",
        "# H2 molecule with a bond length of 0.74 angstroms\n",
        "mol = gto.M(\n",
        "    atom = 'H 0 0 0; H 0 0 0.74',  # Specify the atomic coordinates\n",
        "    basis = 'sto-3g',               # Choose a basis set\n",
        "    symmetry = True\n",
        ")\n",
        "\n",
        "# Step 2: Perform Hartree-Fock (SCF) calculation\n",
        "mf = scf.RHF(mol)  # Restricted Hartree-Fock for a closed-shell system\n",
        "mf.kernel()        # Compute the SCF solution\n",
        "\n",
        "# Step 3: Configuration Interaction calculation (CISD)\n",
        "myci = ci.CISD(mf)\n",
        "myci.kernel()  # Perform the CISD calculation\n",
        "\n",
        "# Print the CISD total energy\n",
        "print(f'CISD total energy: {myci.e_tot:.6f} Ha')\n",
        "\n",
        "# Step 4: Analyze results (Optional)\n",
        "# You can also print out more details, like the CI coefficients or excitation amplitudes\n",
        "print(\"\\nCISD coefficients:\")\n",
        "print(myci.ci)\n",
        "\n",
        "# Final Output of Total Energy and Coefficients"
      ],
      "metadata": {
        "colab": {
          "base_uri": "https://localhost:8080/"
        },
        "id": "qYJVSIJh16mt",
        "outputId": "92b8f455-65c4-4f4e-9c69-730e7c95c836"
      },
      "execution_count": null,
      "outputs": [
        {
          "output_type": "stream",
          "name": "stdout",
          "text": [
            "converged SCF energy = -1.11675930739643\n",
            "E(RCISD) = -1.137283834488502  E_corr = -0.02052452709207653\n",
            "CISD total energy: -1.137284 Ha\n",
            "\n",
            "CISD coefficients:\n",
            "[-9.93646755e-01  1.20053582e-16  1.12543887e-01]\n"
          ]
        }
      ]
    },
    {
      "cell_type": "code",
      "source": [
        "import matplotlib.pyplot as plt\n",
        "\n",
        "# Collect the energies\n",
        "hf_energy = mf.e_tot  # Hartree-Fock energy\n",
        "cisd_energy = myci.e_tot  # CISD total energy\n",
        "\n",
        "# Step 1: Plot the energies\n",
        "energies = [hf_energy, cisd_energy]\n",
        "labels = ['Hartree-Fock', 'CISD']\n",
        "\n",
        "plt.figure(figsize=(6, 4))\n",
        "plt.bar(labels, energies, color=['blue', 'green'])\n",
        "plt.ylabel('Total Energy (Ha)')\n",
        "plt.title('Hartree-Fock vs CISD Total Energy')\n",
        "plt.show()"
      ],
      "metadata": {
        "colab": {
          "base_uri": "https://localhost:8080/",
          "height": 391
        },
        "id": "Ba0yXP_m2LUl",
        "outputId": "ae4fb201-438b-4018-c1c0-53634329736d"
      },
      "execution_count": null,
      "outputs": [
        {
          "output_type": "display_data",
          "data": {
            "text/plain": [
              "<Figure size 600x400 with 1 Axes>"
            ],
            "image/png": "[encoded data removed]"
          },
          "metadata": {}
        }
      ]
    },
    {
      "cell_type": "markdown",
      "source": [
        "**Molecular Geometry**\n",
        "\n",
        "* Take file called h2_molecular_orbitals.molden\n",
        "* Install a Molecular Viewer by installing Molden from Molden’s official website (alternatively Jmol or Avogadro)\n",
        "* Open Molden and load h2_molecular_orbitals.molden file.\n",
        "* Result: 3D view of H₂ molecule with options to view the orbitals."
      ],
      "metadata": {
        "id": "g2Bk9DIe2U_7"
      }
    },
    {
      "cell_type": "code",
      "source": [
        "# Visualizing the Molecular Orbitals\n",
        "\n",
        "# Import the tools for plotting orbitals\n",
        "from pyscf.tools import molden\n",
        "\n",
        "# Create a .molden file to visualize molecular orbitals using external viewers like Jmol or Molden\n",
        "with open('h2_molecular_orbitals.molden', 'w') as f:\n",
        "    molden.header(mol, f) # Write molecular header\n",
        "    molden.orbital_coeff(mol, f, mf.mo_coeff)  # Write the molecular orbitals\n",
        "\n",
        "print(\"Molecular orbitals saved to 'h2_molecular_orbitals.molden'. You can view it using a tool like Jmol or Molden.\")"
      ],
      "metadata": {
        "id": "rRpTpKAU2Sl5"
      },
      "execution_count": null,
      "outputs": []
    },
    {
      "cell_type": "markdown",
      "source": [
        "**Variational Quantum Eigensolve (VQE) for Ground State Calculation**"
      ],
      "metadata": {
        "id": "zX74gpj0zSeU"
      }
    },
    {
      "cell_type": "code",
      "execution_count": null,
      "metadata": {
        "colab": {
          "base_uri": "https://localhost:8080/"
        },
        "id": "fsvpbKoxzERi",
        "outputId": "3d8948a9-0230-4247-ccce-7d04142cbf9e"
      },
      "outputs": [
        {
          "output_type": "stream",
          "name": "stdout",
          "text": [
            "\u001b[2K   \u001b[90m━━━━━━━━━━━━━━━━━━━━━━━━━━━━━━━━━━━━━━━━\u001b[0m \u001b[32m1.9/1.9 MB\u001b[0m \u001b[31m9.0 MB/s\u001b[0m eta \u001b[36m0:00:00\u001b[0m\n",
            "\u001b[2K   \u001b[90m━━━━━━━━━━━━━━━━━━━━━━━━━━━━━━━━━━━━━━━━\u001b[0m \u001b[32m51.0/51.0 kB\u001b[0m \u001b[31m978.2 kB/s\u001b[0m eta \u001b[36m0:00:00\u001b[0m\n",
            "\u001b[2K   \u001b[90m━━━━━━━━━━━━━━━━━━━━━━━━━━━━━━━━━━━━━━━━\u001b[0m \u001b[32m15.3/15.3 MB\u001b[0m \u001b[31m30.3 MB/s\u001b[0m eta \u001b[36m0:00:00\u001b[0m\n",
            "\u001b[2K   \u001b[90m━━━━━━━━━━━━━━━━━━━━━━━━━━━━━━━━━━━━━━━━\u001b[0m \u001b[32m2.0/2.0 MB\u001b[0m \u001b[31m28.8 MB/s\u001b[0m eta \u001b[36m0:00:00\u001b[0m\n",
            "\u001b[?25hGround state energy: -0.868784928020456\n"
          ]
        }
      ],
      "source": [
        "!pip install pennylane -q\n",
        "\n",
        "import pennylane as qml\n",
        "from pennylane import numpy as np\n",
        "\n",
        "# Define the molecular system\n",
        "symbols = ['H', 'H']\n",
        "coordinates = np.array([0.0, 0.0, 0.0, 0.0, 0.0, 0.7414])  # Atomic units\n",
        "\n",
        "# Generate the molecular Hamiltonian directly in PennyLane\n",
        "H, qubits = qml.qchem.molecular_hamiltonian(\n",
        "    symbols,\n",
        "    coordinates,\n",
        "    charge=0,\n",
        "    mult=1,  # Singlet state\n",
        "    basis='sto-3g',\n",
        "    active_electrons=2,\n",
        "    active_orbitals=2,\n",
        "    mapping='jordan_wigner'\n",
        ")\n",
        "\n",
        "# Define the quantum device\n",
        "dev = qml.device('default.qubit', wires=qubits)\n",
        "\n",
        "# Define the ansatz (parameterized quantum circuit)\n",
        "def ansatz(params):\n",
        "    for i in range(qubits):\n",
        "        qml.RY(params[i], wires=i)\n",
        "    qml.CNOT(wires=[0, 1])\n",
        "\n",
        "# Define the cost function (expectation value of the Hamiltonian)\n",
        "@qml.qnode(dev)\n",
        "def cost_fn(params):\n",
        "    ansatz(params)\n",
        "    return qml.expval(H)\n",
        "\n",
        "# Perform the VQE optimization\n",
        "optimizer = qml.GradientDescentOptimizer(stepsize=0.1)\n",
        "params = np.random.randn(qubits)\n",
        "for i in range(100):\n",
        "    params = optimizer.step(cost_fn, params)\n",
        "\n",
        "# Extract the ground state energy\n",
        "ground_state_energy = cost_fn(params)\n",
        "\n",
        "# Compute excited state energies (modify the ansatz and cost function accordingly)\n",
        "# ...\n",
        "\n",
        "print(\"Ground state energy:\", ground_state_energy)"
      ]
    },
    {
      "cell_type": "markdown",
      "source": [
        "**Approach**\n",
        "1. Molecular System Definition: Specify the atomic symbols and coordinates (in atomic units) for H₂\n",
        "2. Hamiltonian Generation with PennyLane qml.qchem.molecular_hamiltonian to directly generate the qubit Hamiltonian. Specify charge, multiplicity, basis set, active electrons and orbitals, and fermion-to-qubit mapping.\n",
        "3. Quantum Device, Ansatz, and Cost Function used H generated by PennyLane directly in cost function.\n",
        "4. VQE Optimization to find the ground state energy.\n",
        "5. Adapt the ansatz and cost function to target excited states\n",
        "\n",
        "**Outlook**\n",
        "\n",
        "* active_electrons and active_orbitals parameters control the size of active space, which can impact the accuracy and computational cost. Choosen based on system and desired accuracy.\n",
        "* Excited state calculation: modify ansatz and cost function appropriately to target specific excited states. Techniques like subspace search or symmetry constraints might be needed.\n",
        "* Extend  to more complex molecules by changing the molecular geometry and basis set\n",
        "* Use more advanced ansätze like Unitary Coupled Cluster (UCC) for more accurate results"
      ],
      "metadata": {
        "id": "Kr47Rxqwzdbv"
      }
    },
    {
      "cell_type": "markdown",
      "source": [
        "**Restricted Hartree-Fock (RHF)**"
      ],
      "metadata": {
        "id": "nbkyXujEz71d"
      }
    },
    {
      "cell_type": "code",
      "source": [
        "!pip install pyscf -q\n",
        "from pyscf import gto, scf, tddft\n",
        "\n",
        "# Define the molecular system\n",
        "mol = gto.M(\n",
        "    atom = 'H 0 0 0; H 0 0 0.74',  # Hydrogen molecule\n",
        "    basis = '6-31g',\n",
        "    verbose = 4,\n",
        ")\n",
        "\n",
        "# Perform a ground-state calculation\n",
        "myhf = scf.RHF(mol).run()\n",
        "\n",
        "# Excited-state calculation using TDDFT\n",
        "mytd = tddft.TDA(myhf).run()\n",
        "mytd.analyze()"
      ],
      "metadata": {
        "colab": {
          "base_uri": "https://localhost:8080/"
        },
        "id": "wxKOysTVz-Lx",
        "outputId": "c546c330-7c48-4266-c6b3-3cfb86213104"
      },
      "execution_count": null,
      "outputs": [
        {
          "output_type": "stream",
          "name": "stdout",
          "text": [
            "\u001b[2K   \u001b[90m━━━━━━━━━━━━━━━━━━━━━━━━━━━━━━━━━━━━━━━━\u001b[0m \u001b[32m48.7/48.7 MB\u001b[0m \u001b[31m17.5 MB/s\u001b[0m eta \u001b[36m0:00:00\u001b[0m\n",
            "\u001b[?25hSystem: uname_result(system='Linux', node='5af4d54b094f', release='6.1.85+', version='#1 SMP PREEMPT_DYNAMIC Thu Jun 27 21:05:47 UTC 2024', machine='x86_64')  Threads 2\n",
            "Python 3.10.12 (main, Sep 11 2024, 15:47:36) [GCC 11.4.0]\n",
            "numpy 1.26.4  scipy 1.13.1  h5py 3.11.0\n",
            "Date: Sun Sep 29 12:45:08 2024\n",
            "PySCF version 2.7.0\n",
            "PySCF path  /usr/local/lib/python3.10/dist-packages/pyscf\n",
            "\n",
            "[CONFIG] conf_file None\n",
            "[INPUT] verbose = 4\n",
            "[INPUT] num. atoms = 2\n",
            "[INPUT] num. electrons = 2\n",
            "[INPUT] charge = 0\n",
            "[INPUT] spin (= nelec alpha-beta = 2S) = 0\n",
            "[INPUT] symmetry False subgroup None\n",
            "[INPUT] Mole.unit = angstrom\n",
            "[INPUT] Symbol           X                Y                Z      unit          X                Y                Z       unit  Magmom\n",
            "[INPUT]  1 H      0.000000000000   0.000000000000   0.000000000000 AA    0.000000000000   0.000000000000   0.000000000000 Bohr   0.0\n",
            "[INPUT]  2 H      0.000000000000   0.000000000000   0.740000000000 AA    0.000000000000   0.000000000000   1.398397332178 Bohr   0.0\n",
            "\n",
            "nuclear repulsion = 0.715104339081081\n",
            "number of shells = 4\n",
            "number of NR pGTOs = 8\n",
            "number of NR cGTOs = 4\n",
            "basis = 6-31g\n",
            "ecp = {}\n",
            "CPU time:        12.09\n",
            "\n",
            "\n",
            "******** <class 'pyscf.scf.hf.RHF'> ********\n",
            "method = RHF\n",
            "initial guess = minao\n",
            "damping factor = 0\n",
            "level_shift factor = 0\n",
            "DIIS = <class 'pyscf.scf.diis.CDIIS'>\n",
            "diis_start_cycle = 1\n",
            "diis_space = 8\n",
            "diis_damp = 0\n",
            "SCF conv_tol = 1e-09\n",
            "SCF conv_tol_grad = None\n",
            "SCF max_cycles = 50\n",
            "direct_scf = True\n",
            "direct_scf_tol = 1e-13\n",
            "chkfile to save SCF result = /tmp/tmpgdyxyk5c\n",
            "max_memory 4000 MB (current use 281 MB)\n",
            "Set gradient conv threshold to 3.16228e-05\n",
            "Initial guess from minao.\n",
            "init E= -0.807242838369268\n",
            "  HOMO = -0.552324800233207  LUMO = 0.189631159548683\n",
            "cycle= 1 E= -1.12609024036767  delta_E= -0.319  |g|= 0.0394  |ddm|= 0.607\n",
            "  HOMO = -0.601382177559134  LUMO = 0.23442030382044\n",
            "cycle= 2 E= -1.12674076813781  delta_E= -0.000651  |g|= 0.00583  |ddm|= 0.0358\n",
            "  HOMO = -0.595831720005477  LUMO = 0.238474213701137\n",
            "cycle= 3 E= -1.12675531718593  delta_E= -1.45e-05  |g|= 5.08e-06  |ddm|= 0.00623\n",
            "  HOMO = -0.595823300623388  LUMO = 0.238473397059191\n",
            "cycle= 4 E= -1.12675531719506  delta_E= -9.14e-12  |g|= 2.11e-06  |ddm|= 3.18e-06\n",
            "  HOMO = -0.595817604983992  LUMO = 0.238472599151534\n",
            "Extra cycle  E= -1.12675531719693  delta_E= -1.87e-12  |g|= 3.14e-07  |ddm|= 1.93e-06\n",
            "converged SCF energy = -1.12675531719693\n",
            "\n",
            "\n",
            "******** <class 'pyscf.tdscf.rhf.TDA'> for <class 'pyscf.scf.hf.RHF'> ********\n",
            "nstates = 3 singlet\n",
            "deg_eia_thresh = 1.000e-03\n",
            "wfnsym = None\n",
            "conv_tol = 1e-05\n",
            "eigh lindep = 1e-12\n",
            "eigh level_shift = 0\n",
            "eigh max_cycle = 100\n",
            "chkfile = /tmp/tmpgdyxyk5c\n",
            "max_memory 4000 MB (current use 288 MB)\n",
            "\n",
            "\n",
            "Excited State energies (eV)\n",
            "[15.24760901 28.77088492 43.87744945]\n",
            "\n",
            "** Singlet excitation energies and oscillator strengths **\n",
            "Excited State   1:     15.24761 eV     81.31 nm  f=0.7700\n",
            "       1 -> 2         0.70703\n",
            "Excited State   2:     28.77088 eV     43.09 nm  f=0.0000\n",
            "       1 -> 3         0.70711\n",
            "Excited State   3:     43.87745 eV     28.26 nm  f=0.1083\n",
            "       1 -> 4         0.70703\n",
            "\n",
            "** Transition electric dipole moments (AU) **\n",
            "state          X           Y           Z        Dip. S.      Osc.\n",
            "  1         0.0000      0.0000     -1.4357      2.0612      0.7700\n",
            "  2         0.0000      0.0000      0.0000      0.0000      0.0000\n",
            "  3         0.0000      0.0000      0.3174      0.1007      0.1083\n",
            "\n",
            "** Transition velocity dipole moments (imaginary part, AU) **\n",
            "state          X           Y           Z        Dip. S.      Osc.\n",
            "  1        -0.0000     -0.0000     -0.6188      0.3830      0.4556\n",
            "  2        -0.0000     -0.0000     -0.0000      0.0000      0.0000\n",
            "  3        -0.0000     -0.0000      0.2300      0.0529      0.0219\n",
            "\n",
            "** Transition magnetic dipole moments (imaginary part, AU) **\n",
            "state          X           Y           Z\n",
            "  1        -0.0000     -0.0000     -0.0000\n",
            "  2        -0.0000     -0.0000     -0.0000\n",
            "  3        -0.0000     -0.0000     -0.0000\n"
          ]
        },
        {
          "output_type": "execute_result",
          "data": {
            "text/plain": [
              "<pyscf.tdscf.rhf.TDA at 0x7dbadc08d0c0>"
            ]
          },
          "metadata": {},
          "execution_count": 2
        }
      ]
    },
    {
      "cell_type": "markdown",
      "source": [
        "**Interpretation**\n",
        "* The molecule has a strong absorption band around 81.31 nm (corresponding to the first excited state). This transition involves significant electron redistribution along the Z-axis.\n",
        "* The second excited state is \"dark\" (very low oscillator strength), which means that it won't be easily observed in absorption spectroscopy.\n",
        "* The third excited state has a weaker absorption band at 28.26 nm.\n",
        "\n",
        "* **Specify atomic coordinates (of Hydrogen molecule) and basis set ('6-31g')**. The choice of basis set significantly impacts the accuracy of the results. Larger basis sets generally lead to improved accuracy but increased computational cost.\n",
        "* **Restricted Hartree-Fock (RHF) calculation is performed to obtain the ground-state wavefunction**.\n",
        "* **Time-dependent density functional theory (TDDFT) is employed for excited-state calculation, using Tamm-Dancoff approximation (TDA)**.\n",
        "  * TDDFT is just one of several methods for excited-state calculations. Other options in PySCF include configuration interaction singles (CIS), complete active space self-consistent field (CASSCF), and equation-of-motion coupled-cluster (EOM-CC).\n",
        "  * For TDDFT, selecting an appropriate functional is crucial. Some functionals are known to perform better for specific types of excited states.\n",
        "* **analyze() function provides summary of calculated excitation energies and oscillator strengths**.\n",
        "* There are alternative excited-state calculation methods for more advanced features: solvent effects, spin-orbit coupling, and non-adiabatic dynamics\n",
        "\n",
        "**Singlet Excitation Energies and Oscillator Strengths:**\n",
        "* Excited State 1:\n",
        "  * Energy: 15.2476 eV\n",
        "  * Wavelength: 81.31 nm (corresponds to the energy difference between the ground and excited state)\n",
        "  * Oscillator Strength (f): 0.7700 (indicates the intensity of the transition; a higher value means a stronger absorption)\n",
        "  * The transition is primarily from orbital 1 to orbital 2 (coefficient 0.70703)\n",
        "* Excited State 2:\n",
        "  * Energy: 28.7709 eV\n",
        "  * Wavelength: 43.09 nm\n",
        "  * Oscillator Strength (f): 0.0000 (this transition is \"forbidden,\" meaning it's very unlikely to occur upon light absorption)\n",
        "  * The transition is primarily from orbital 1 to orbital 3\n",
        "* Excited State 3:\n",
        "  * Energy: 43.8775 eV\n",
        "  * Wavelength: 28.26 nm\n",
        "  * Oscillator Strength (f): 0.1083 (a weaker transition compared to the first excited state)\n",
        "  * The transition is primarily from orbital 1 to orbital 4\n",
        "\n",
        "\n",
        "**Transition Electric/Velocity/Magnetic Dipole Moments:**\n",
        "* tables describe changes in the molecule's electric and magnetic properties upon excitation.\n",
        "* Electric Dipole Moments: Important for light absorption and emission.\n",
        "* Velocity Dipole Moments: Related to the rate of change of the electron density during the transition.\n",
        "* Magnetic Dipole Moments: Relevant for magnetic interactions and certain types of spectroscopy.\n",
        "* here the first excited state has a significant electric dipole transition moment along the Z-axis,consistent with its high oscillator strength. The other states have negligible dipole moments, indicating weak or forbidden transitions."
      ],
      "metadata": {
        "id": "WaFpm81N0GQ7"
      }
    }
  ]
}