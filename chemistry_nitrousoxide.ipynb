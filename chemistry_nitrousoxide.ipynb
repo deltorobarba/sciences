{
  "nbformat": 4,
  "nbformat_minor": 0,
  "metadata": {
    "colab": {
      "provenance": [],
      "include_colab_link": true
    },
    "kernelspec": {
      "name": "python3",
      "display_name": "Python 3"
    },
    "language_info": {
      "name": "python"
    }
  },
  "cells": [
    {
      "cell_type": "markdown",
      "metadata": {
        "id": "view-in-github",
        "colab_type": "text"
      },
      "source": [
        "<a href=\"https://colab.research.google.com/github/deltorobarba/sciences/blob/master/chemistry_nitrousoxide.ipynb\" target=\"_parent\"><img src=\"https://colab.research.google.com/assets/colab-badge.svg\" alt=\"Open In Colab\"/></a>"
      ]
    },
    {
      "cell_type": "markdown",
      "source": [
        "# **Nitrous Oxide (N₂O)**"
      ],
      "metadata": {
        "id": "y6KY9T_X840N"
      }
    },
    {
      "cell_type": "markdown",
      "source": [
        "**Lachgas (N₂O) als Biosignature 🌱**\n",
        "- Entsteht durch den mikrobiellen **Stickstoffkreislauf**.\n",
        "- Hat nur sehr wenige bekannte abiotische Entstehungsmechanismen."
      ],
      "metadata": {
        "id": "ThManSoujXkp"
      }
    },
    {
      "cell_type": "code",
      "source": [
        "!pip install pyscf geometric py3Dmol -q\n",
        "import numpy as np\n",
        "import py3Dmol\n",
        "import matplotlib.pyplot as plt\n",
        "from pyscf import gto, scf, hessian, dft, tddft, mp, cc\n",
        "from pyscf.geomopt.geometric_solver import optimize"
      ],
      "metadata": {
        "id": "gs-lK9ED5mX4"
      },
      "execution_count": 14,
      "outputs": []
    },
    {
      "cell_type": "code",
      "source": [
        "# Define molecule\n",
        "mol = gto.Mole()\n",
        "mol.atom = '''\n",
        "    N  0.00000000  0.00000000  -1.25324312\n",
        "    N  0.00000000  0.00000000  -0.12244312\n",
        "    O  0.00000000  0.00000000   1.06565688\n",
        "'''\n",
        "\n",
        "# Name\n",
        "molecule = 'Nitrous Oxide (N₂O)'"
      ],
      "metadata": {
        "id": "qwA6Vphx7yJs"
      },
      "execution_count": 17,
      "outputs": []
    },
    {
      "cell_type": "code",
      "source": [
        "# Build molecule (with gto.M() function)\n",
        "mol.atom = mol.atom\n",
        "mol.basis = 'cc-pvdz' # Alternative basis set: sto-3g, cc-pvdz,6-31G\n",
        "mol.symmetry = True\n",
        "mol.spin = 0          # All 16 valence electrons are paired in the stable ground state. It is a closed-shell singlet molecule\n",
        "mol.build()"
      ],
      "metadata": {
        "id": "gLscs4VK3Y0V"
      },
      "execution_count": null,
      "outputs": []
    },
    {
      "cell_type": "code",
      "source": [
        "print(\"-\" * 20)\n",
        "print(f\"{molecule} molecule symmetry:\")\n",
        "print(f\" Top group: {mol.topgroup}\")\n",
        "print(f\" Group name: {mol.groupname}\")\n",
        "print(\"-\" * 20)"
      ],
      "metadata": {
        "colab": {
          "base_uri": "https://localhost:8080/"
        },
        "id": "RttGZ1mGexRA",
        "outputId": "d94e01fb-9db0-45e3-da1f-8635794919b8"
      },
      "execution_count": 19,
      "outputs": [
        {
          "output_type": "stream",
          "name": "stdout",
          "text": [
            "--------------------\n",
            "Nitrous Oxide (N₂O) molecule symmetry:\n",
            " Top group: Coov\n",
            " Group name: Coov\n",
            "--------------------\n"
          ]
        }
      ]
    },
    {
      "cell_type": "markdown",
      "source": [
        "Point Group Symmetry\n",
        "* **Shape:** Linear, but asymmetric (N-N-O).\n",
        "* **Symmetry Operations:** An infinite rotation axis ($C_\\infty$) along the molecular axis and an infinite number of vertical mirror planes ($\\sigma_v$) that contain the $C_\\infty$ axis. Unlike a symmetric linear molecule like CO₂, it lacks a horizontal mirror plane ($\\sigma_h$) and an inversion center ($i$).\n",
        "* **Point Group:** **$C_{\\infty v}$**"
      ],
      "metadata": {
        "id": "V3pSVMgdjGk2"
      }
    },
    {
      "cell_type": "code",
      "source": [
        "# 3D Molecular Geometry Visualization (takes molecule defined in `mol.build()`)\n",
        "bohr_to_ang = 0.529177249                    # Convert coordinates from Bohr to Angstrom\n",
        "xyz_string = f\"{mol.natm}\\n\\n\"               # Create XYZ string with proper formatting, two newlines after atom count\n",
        "for i in range(mol.natm):\n",
        "    coord = mol.atom_coord(i) * bohr_to_ang  # Convert to Angstrom\n",
        "    xyz_string += f\"{mol.atom_symbol(i)} {coord[0]:.6f} {coord[1]:.6f} {coord[2]:.6f}\\n\"\n",
        "view = py3Dmol.view(width=600, height=400)   # Create viewer\n",
        "view.addModel(xyz_string, 'xyz')             # Add molecule\n",
        "view.setStyle({'stick': {'radius': 0.15},    # Apply styling\n",
        "               'sphere': {'radius': 0.3}})\n",
        "# Add labels for atoms\n",
        "view.addPropertyLabels(\"atom\", \"\", {'fontSize': 12, 'fontColor': 'black',\n",
        "                                    'showBackground': True,\n",
        "                                    'backgroundColor': 'white'})\n",
        "view.setBackgroundColor('white')             # Set background and zoom\n",
        "view.zoomTo()\n",
        "print(\"- - - 3D Molecular Geometry Visualization can not be displayed in offline mode on Github - - -\")\n",
        "view  # # In Colab, the molecule will display automatically. If not displaying, you might need to explicitly call this for IPython widget"
      ],
      "metadata": {
        "colab": {
          "base_uri": "https://localhost:8080/",
          "height": 451
        },
        "id": "cBEYQz-dpuM9",
        "outputId": "326305fe-1afa-4e8d-8e7b-6f16fc91add3"
      },
      "execution_count": 20,
      "outputs": [
        {
          "output_type": "stream",
          "name": "stdout",
          "text": [
            "- - - 3D Molecular Geometry Visualization can not be displayed in offline mode on Github - - -\n"
          ]
        },
        {
          "output_type": "display_data",
          "data": {
            "application/3dmoljs_load.v0": "<div id=\"3dmolviewer_17498242604620838\"  style=\"position: relative; width: 600px; height: 400px;\">\n        <p id=\"3dmolwarning_17498242604620838\" style=\"background-color:#ffcccc;color:black\">3Dmol.js failed to load for some reason.  Please check your browser console for error messages.<br></p>\n        </div>\n<script>\n\nvar loadScriptAsync = function(uri){\n  return new Promise((resolve, reject) => {\n    //this is to ignore the existence of requirejs amd\n    var savedexports, savedmodule;\n    if (typeof exports !== 'undefined') savedexports = exports;\n    else exports = {}\n    if (typeof module !== 'undefined') savedmodule = module;\n    else module = {}\n\n    var tag = document.createElement('script');\n    tag.src = uri;\n    tag.async = true;\n    tag.onload = () => {\n        exports = savedexports;\n        module = savedmodule;\n        resolve();\n    };\n  var firstScriptTag = document.getElementsByTagName('script')[0];\n  firstScriptTag.parentNode.insertBefore(tag, firstScriptTag);\n});\n};\n\nif(typeof $3Dmolpromise === 'undefined') {\n$3Dmolpromise = null;\n  $3Dmolpromise = loadScriptAsync('https://cdn.jsdelivr.net/npm/3dmol@2.5.0/build/3Dmol-min.js');\n}\n\nvar viewer_17498242604620838 = null;\nvar warn = document.getElementById(\"3dmolwarning_17498242604620838\");\nif(warn) {\n    warn.parentNode.removeChild(warn);\n}\n$3Dmolpromise.then(function() {\nviewer_17498242604620838 = $3Dmol.createViewer(document.getElementById(\"3dmolviewer_17498242604620838\"),{backgroundColor:\"white\"});\nviewer_17498242604620838.zoomTo();\n\tviewer_17498242604620838.addModel(\"3\\n\\nN 0.000000 0.000000 -1.253243\\nN 0.000000 0.000000 -0.122443\\nO 0.000000 0.000000 1.065657\\n\",\"xyz\");\n\tviewer_17498242604620838.setStyle({\"stick\": {\"radius\": 0.15}, \"sphere\": {\"radius\": 0.3}});\n\tviewer_17498242604620838.addPropertyLabels(\"atom\",\"\",{\"fontSize\": 12, \"fontColor\": \"black\", \"showBackground\": true, \"backgroundColor\": \"white\"});\n\tviewer_17498242604620838.setBackgroundColor(\"white\");\n\tviewer_17498242604620838.zoomTo();\nviewer_17498242604620838.render();\n});\n</script>",
            "text/html": [
              "<div id=\"3dmolviewer_17498242604620838\"  style=\"position: relative; width: 600px; height: 400px;\">\n",
              "        <p id=\"3dmolwarning_17498242604620838\" style=\"background-color:#ffcccc;color:black\">3Dmol.js failed to load for some reason.  Please check your browser console for error messages.<br></p>\n",
              "        </div>\n",
              "<script>\n",
              "\n",
              "var loadScriptAsync = function(uri){\n",
              "  return new Promise((resolve, reject) => {\n",
              "    //this is to ignore the existence of requirejs amd\n",
              "    var savedexports, savedmodule;\n",
              "    if (typeof exports !== 'undefined') savedexports = exports;\n",
              "    else exports = {}\n",
              "    if (typeof module !== 'undefined') savedmodule = module;\n",
              "    else module = {}\n",
              "\n",
              "    var tag = document.createElement('script');\n",
              "    tag.src = uri;\n",
              "    tag.async = true;\n",
              "    tag.onload = () => {\n",
              "        exports = savedexports;\n",
              "        module = savedmodule;\n",
              "        resolve();\n",
              "    };\n",
              "  var firstScriptTag = document.getElementsByTagName('script')[0];\n",
              "  firstScriptTag.parentNode.insertBefore(tag, firstScriptTag);\n",
              "});\n",
              "};\n",
              "\n",
              "if(typeof $3Dmolpromise === 'undefined') {\n",
              "$3Dmolpromise = null;\n",
              "  $3Dmolpromise = loadScriptAsync('https://cdn.jsdelivr.net/npm/3dmol@2.5.0/build/3Dmol-min.js');\n",
              "}\n",
              "\n",
              "var viewer_17498242604620838 = null;\n",
              "var warn = document.getElementById(\"3dmolwarning_17498242604620838\");\n",
              "if(warn) {\n",
              "    warn.parentNode.removeChild(warn);\n",
              "}\n",
              "$3Dmolpromise.then(function() {\n",
              "viewer_17498242604620838 = $3Dmol.createViewer(document.getElementById(\"3dmolviewer_17498242604620838\"),{backgroundColor:\"white\"});\n",
              "viewer_17498242604620838.zoomTo();\n",
              "\tviewer_17498242604620838.addModel(\"3\\n\\nN 0.000000 0.000000 -1.253243\\nN 0.000000 0.000000 -0.122443\\nO 0.000000 0.000000 1.065657\\n\",\"xyz\");\n",
              "\tviewer_17498242604620838.setStyle({\"stick\": {\"radius\": 0.15}, \"sphere\": {\"radius\": 0.3}});\n",
              "\tviewer_17498242604620838.addPropertyLabels(\"atom\",\"\",{\"fontSize\": 12, \"fontColor\": \"black\", \"showBackground\": true, \"backgroundColor\": \"white\"});\n",
              "\tviewer_17498242604620838.setBackgroundColor(\"white\");\n",
              "\tviewer_17498242604620838.zoomTo();\n",
              "viewer_17498242604620838.render();\n",
              "});\n",
              "</script>"
            ]
          },
          "metadata": {}
        },
        {
          "output_type": "execute_result",
          "data": {
            "text/plain": [
              "<py3Dmol.view at 0x79608070eed0>"
            ]
          },
          "metadata": {},
          "execution_count": 20
        }
      ]
    },
    {
      "cell_type": "code",
      "source": [
        "# Ground State Energy with Hartree-Fock (Slater Determinant)\n",
        "mf = scf.RHF(mol)\n",
        "mf.kernel()"
      ],
      "metadata": {
        "colab": {
          "base_uri": "https://localhost:8080/"
        },
        "id": "Rlg9mrNs5OwT",
        "outputId": "97068a59-efcf-4483-93a7-685415f8e586"
      },
      "execution_count": 5,
      "outputs": [
        {
          "output_type": "stream",
          "name": "stdout",
          "text": [
            "converged SCF energy = -183.694957080086\n"
          ]
        },
        {
          "output_type": "execute_result",
          "data": {
            "text/plain": [
              "np.float64(-183.69495708008623)"
            ]
          },
          "metadata": {},
          "execution_count": 5
        }
      ]
    },
    {
      "cell_type": "code",
      "source": [
        "# Visualization of calculation process (Hartree-Fock)\n",
        "mf = scf.RHF(mol)                         # Set method\n",
        "conv_data = []                            # Store convergence data\n",
        "def callback(envs):                       # Callback function to collect convergence information\n",
        "    conv_data.append(envs['e_tot'])       # Captures energy values at each iteration to track process\n",
        "mf.callback = callback                    # Set callback directly on the mf object\n",
        "energy = mf.kernel()                      # Perform HF calculation\n",
        "energies = conv_data                      # Extract energy values\n",
        "iterations = range(1, len(energies) + 1)  # Extract iteration numbers\n",
        "plt.plot(iterations, energies, marker='o')\n",
        "plt.xlabel('Iteration')\n",
        "plt.ylabel('Total Energy (Hartree)')\n",
        "plt.title('HF-SCF Convergence')\n",
        "plt.grid(True)\n",
        "plt.show()\n",
        "print(f\"Ground state energy for {molecule}: {energy} Hartree\")"
      ],
      "metadata": {
        "colab": {
          "base_uri": "https://localhost:8080/",
          "height": 506
        },
        "id": "x-AZllMi3fuy",
        "outputId": "652c1386-7c0e-4c03-a2cc-ed44d9eba567"
      },
      "execution_count": 6,
      "outputs": [
        {
          "output_type": "stream",
          "name": "stdout",
          "text": [
            "converged SCF energy = -183.694957080086\n"
          ]
        },
        {
          "output_type": "display_data",
          "data": {
            "text/plain": [
              "<Figure size 640x480 with 1 Axes>"
            ],
            "image/png": "[encoded data removed]"
          },
          "metadata": {}
        },
        {
          "output_type": "stream",
          "name": "stdout",
          "text": [
            "Ground state energy for Nitrous Oxide (N₂O): -183.69495708008634 Hartree\n"
          ]
        }
      ]
    },
    {
      "cell_type": "code",
      "source": [
        "# Ground State Energy with DFT (Kohn-Sham)\n",
        "mf = dft.RKS(mol)\n",
        "mf.xc = 'B3LYP'    # Exchange-correlation functional\n",
        "mf.kernel()"
      ],
      "metadata": {
        "colab": {
          "base_uri": "https://localhost:8080/"
        },
        "id": "9uI62mVU6Mj2",
        "outputId": "17b5d15e-5a9c-41da-8a31-7ec7b44b3f74"
      },
      "execution_count": 8,
      "outputs": [
        {
          "output_type": "stream",
          "name": "stdout",
          "text": [
            "converged SCF energy = -184.678593578276\n"
          ]
        },
        {
          "output_type": "execute_result",
          "data": {
            "text/plain": [
              "np.float64(-184.67859357827564)"
            ]
          },
          "metadata": {},
          "execution_count": 8
        }
      ]
    },
    {
      "cell_type": "code",
      "source": [
        "# Ground State Energy with Møller-Plesset Perturbation Theory (Post Hartree Fock)\n",
        "mf = scf.RHF(mol)\n",
        "mf.kernel()\n",
        "mp2 = mp.MP2(mf) # MP2 single point energy calculation\n",
        "energy_mp2 = mp2.kernel()\n",
        "print(f\"MP2 energy: {energy_mp2[0]} Hartree\")"
      ],
      "metadata": {
        "id": "SaW_jrEopx69",
        "colab": {
          "base_uri": "https://localhost:8080/"
        },
        "outputId": "aa57d9b6-ab93-4386-e8b2-7bfd72db64e8"
      },
      "execution_count": 9,
      "outputs": [
        {
          "output_type": "stream",
          "name": "stdout",
          "text": [
            "converged SCF energy = -183.694957080086\n",
            "E(MP2) = -184.22928922241  E_corr = -0.534332142324244\n",
            "E(SCS-MP2) = -184.204888933493  E_corr = -0.509931853407102\n",
            "MP2 energy: -0.5343321423242438 Hartree\n"
          ]
        }
      ]
    },
    {
      "cell_type": "code",
      "source": [
        "# Ground State Energy with Coupled Cluster (Post Hartree Fock)\n",
        "mf = scf.RHF(mol)                  # Perform a HF-SCF calculation to obtain the reference wavefunction\n",
        "hf_energy = mf.kernel()\n",
        "ccsd_calc = cc.CCSD(mf)            # Perform a Coupled Cluster calculation\n",
        "ccsd_energy = ccsd_calc.kernel()\n",
        "ccsd_t_energy = ccsd_calc.ccsd_t() # (Optional) Include perturbative triple excitations (CCSD(T))\n",
        "\n",
        "# Ensure that ccsd_t_energy is a scalar (take the first element if it's an array)\n",
        "if isinstance(ccsd_t_energy, (list, tuple)) or hasattr(ccsd_t_energy, \"__len__\"):\n",
        "    ccsd_t_energy = ccsd_t_energy[0]  # Take the first value if it returns multiple results\n",
        "\n",
        "# Print the results\n",
        "#print(f\"HF-SCF energy: {hf_energy} Hartree\")\n",
        "#print(f\"CCSD energy: {ccsd_energy} Hartree\")\n",
        "#print(f\"CCSD(T) energy: {ccsd_energy + ccsd_t_energy} Hartree\")"
      ],
      "metadata": {
        "id": "sWfTGVPAp4BU",
        "colab": {
          "base_uri": "https://localhost:8080/"
        },
        "outputId": "e7911bdc-ac25-48b6-84f8-097fc2b5c576"
      },
      "execution_count": 10,
      "outputs": [
        {
          "output_type": "stream",
          "name": "stdout",
          "text": [
            "converged SCF energy = -183.694957080086\n",
            "E(CCSD) = -184.2150382152573  E_corr = -0.5200811351710035\n",
            "CCSD(T) correction = -0.0243861538938388\n"
          ]
        }
      ]
    },
    {
      "cell_type": "code",
      "source": [
        "# Excited electronic states\n",
        "myhf = scf.RHF(mol).run()     # Perform a ground-state calculation\n",
        "mytd = tddft.TDA(myhf).run()  # Excited-state calculation using TDDFT\n",
        "#mol = gto.M(verbose = 4)     # Add verbose for more details\n",
        "mytd.analyze()"
      ],
      "metadata": {
        "colab": {
          "base_uri": "https://localhost:8080/"
        },
        "id": "ZXoGMGxKk82T",
        "outputId": "25fc30f4-5ea7-43a2-e306-e268d071aaf4"
      },
      "execution_count": 11,
      "outputs": [
        {
          "output_type": "stream",
          "name": "stdout",
          "text": [
            "converged SCF energy = -183.694957080086\n",
            "Excited State energies (eV)\n",
            "[6.51485333 6.92561001 6.92561001]\n",
            "\n",
            "** Singlet excitation energies and oscillator strengths **\n",
            "Excited State   1:  ???      6.51485 eV    190.31 nm  f=0.0000\n",
            "Excited State   2:  ???      6.92561 eV    179.02 nm  f=0.0000\n",
            "Excited State   3:  E2y      6.92561 eV    179.02 nm  f=0.0000\n"
          ]
        },
        {
          "output_type": "execute_result",
          "data": {
            "text/plain": [
              "<pyscf.tdscf.rhf.TDA at 0x7960879c7e10>"
            ]
          },
          "metadata": {},
          "execution_count": 11
        }
      ]
    },
    {
      "cell_type": "code",
      "source": [
        "# Geometry Optimization (in Angstroms) with HF or DFT\n",
        "# Take molecule including basis set defined from `mol.build()`\n",
        "mf = dft.RKS(mol)     # Perform geometry optimization using DFT (Restricted Kohn-Sham)\n",
        "mf.xc = 'b3lyp'       # Define the exchange-correlation functional\n",
        "mol_eq = optimize(mf)\n",
        "print(mol_eq.atom_coords())"
      ],
      "metadata": {
        "colab": {
          "base_uri": "https://localhost:8080/"
        },
        "id": "Qd360vac_PrL",
        "outputId": "e0cd8f0b-b307-4fd6-e0a6-7587cc6e1de2"
      },
      "execution_count": 12,
      "outputs": [
        {
          "output_type": "stream",
          "name": "stderr",
          "text": [
            "geometric-optimize called with the following command line:\n",
            "/usr/local/lib/python3.11/dist-packages/colab_kernel_launcher.py -f /root/.local/share/jupyter/runtime/kernel-ad331fa6-2a1e-419b-a3c9-09ab79f4ba44.json\n",
            "\n",
            "                                        \u001b[91m())))))))))))))))/\u001b[0m                     \n",
            "                                    \u001b[91m())))))))))))))))))))))))),\u001b[0m                \n",
            "                                \u001b[91m*)))))))))))))))))))))))))))))))))\u001b[0m             \n",
            "                        \u001b[94m#,\u001b[0m    \u001b[91m()))))))))/\u001b[0m                \u001b[91m.)))))))))),\u001b[0m          \n",
            "                      \u001b[94m#%%%%,\u001b[0m  \u001b[91m())))))\u001b[0m                        \u001b[91m.))))))))*\u001b[0m        \n",
            "                      \u001b[94m*%%%%%%,\u001b[0m  \u001b[91m))\u001b[0m              \u001b[93m..\u001b[0m              \u001b[91m,))))))).\u001b[0m      \n",
            "                        \u001b[94m*%%%%%%,\u001b[0m         \u001b[93m***************/.\u001b[0m        \u001b[91m.)))))))\u001b[0m     \n",
            "                \u001b[94m#%%/\u001b[0m      \u001b[94m(%%%%%%,\u001b[0m    \u001b[93m/*********************.\u001b[0m       \u001b[91m)))))))\u001b[0m    \n",
            "              \u001b[94m.%%%%%%#\u001b[0m      \u001b[94m*%%%%%%,\u001b[0m  \u001b[93m*******/,\u001b[0m     \u001b[93m**********,\u001b[0m      \u001b[91m.))))))\u001b[0m   \n",
            "                \u001b[94m.%%%%%%/\u001b[0m      \u001b[94m*%%%%%%,\u001b[0m  \u001b[93m**\u001b[0m              \u001b[93m********\u001b[0m      \u001b[91m.))))))\u001b[0m  \n",
            "          \u001b[94m##\u001b[0m      \u001b[94m.%%%%%%/\u001b[0m      \u001b[94m(%%%%%%,\u001b[0m                  \u001b[93m,******\u001b[0m      \u001b[91m/)))))\u001b[0m  \n",
            "        \u001b[94m%%%%%%\u001b[0m      \u001b[94m.%%%%%%#\u001b[0m      \u001b[94m*%%%%%%,\u001b[0m    \u001b[92m,/////.\u001b[0m       \u001b[93m******\u001b[0m      \u001b[91m))))))\u001b[0m \n",
            "      \u001b[94m#%\u001b[0m      \u001b[94m%%\u001b[0m      \u001b[94m.%%%%%%/\u001b[0m      \u001b[94m*%%%%%%,\u001b[0m  \u001b[92m////////,\u001b[0m      \u001b[93m*****/\u001b[0m     \u001b[91m,)))))\u001b[0m \n",
            "    \u001b[94m#%%\u001b[0m  \u001b[94m%%%\u001b[0m  \u001b[94m%%%#\u001b[0m      \u001b[94m.%%%%%%/\u001b[0m      \u001b[94m(%%%%%%,\u001b[0m  \u001b[92m///////.\u001b[0m     \u001b[93m/*****\u001b[0m      \u001b[91m))))).\u001b[0m\n",
            "  \u001b[94m#%%%%.\u001b[0m      \u001b[94m%%%%%#\u001b[0m      \u001b[94m/%%%%%%*\u001b[0m      \u001b[94m#%%%%%%\u001b[0m   \u001b[92m/////)\u001b[0m     \u001b[93m******\u001b[0m      \u001b[91m))))),\u001b[0m\n",
            "    \u001b[94m#%%%%##%\u001b[0m  \u001b[94m%%%#\u001b[0m      \u001b[94m.%%%%%%/\u001b[0m      \u001b[94m(%%%%%%,\u001b[0m  \u001b[92m///////.\u001b[0m     \u001b[93m/*****\u001b[0m      \u001b[91m))))).\u001b[0m\n",
            "      \u001b[94m##\u001b[0m     \u001b[94m%%%\u001b[0m      \u001b[94m.%%%%%%/\u001b[0m      \u001b[94m*%%%%%%,\u001b[0m  \u001b[92m////////.\u001b[0m      \u001b[93m*****/\u001b[0m     \u001b[91m,)))))\u001b[0m \n",
            "        \u001b[94m#%%%%#\u001b[0m      \u001b[94m/%%%%%%/\u001b[0m      \u001b[94m(%%%%%%\u001b[0m      \u001b[92m/)/)//\u001b[0m       \u001b[93m******\u001b[0m      \u001b[91m))))))\u001b[0m \n",
            "          \u001b[94m##\u001b[0m      \u001b[94m.%%%%%%/\u001b[0m      \u001b[94m(%%%%%%,\u001b[0m                  \u001b[93m*******\u001b[0m      \u001b[91m))))))\u001b[0m  \n",
            "                \u001b[94m.%%%%%%/\u001b[0m      \u001b[94m*%%%%%%,\u001b[0m  \u001b[93m**.\u001b[0m             \u001b[93m/*******\u001b[0m      \u001b[91m.))))))\u001b[0m  \n",
            "              \u001b[94m*%%%%%%/\u001b[0m      \u001b[94m(%%%%%%\u001b[0m   \u001b[93m********/*..,*/*********\u001b[0m       \u001b[91m*))))))\u001b[0m   \n",
            "                \u001b[94m#%%/\u001b[0m      \u001b[94m(%%%%%%,\u001b[0m    \u001b[93m*********************/\u001b[0m        \u001b[91m)))))))\u001b[0m    \n",
            "                        \u001b[94m*%%%%%%,\u001b[0m         \u001b[93m,**************/\u001b[0m         \u001b[91m,))))))/\u001b[0m     \n",
            "                      \u001b[94m(%%%%%%\u001b[0m   \u001b[91m()\u001b[0m                              \u001b[91m))))))))\u001b[0m       \n",
            "                      \u001b[94m#%%%%,\u001b[0m  \u001b[91m())))))\u001b[0m                        \u001b[91m,)))))))),\u001b[0m        \n",
            "                        \u001b[94m#,\u001b[0m    \u001b[91m())))))))))\u001b[0m                \u001b[91m,)))))))))).\u001b[0m          \n",
            "                                 \u001b[91m()))))))))))))))))))))))))))))))/\u001b[0m             \n",
            "                                    \u001b[91m())))))))))))))))))))))))).\u001b[0m                \n",
            "                                         \u001b[91m())))))))))))))),\u001b[0m                     \n",
            "\n",
            "-=# \u001b[1;94m geomeTRIC started. Version: 1.1 \u001b[0m #=-\n",
            "Current date and time: 2025-06-13 13:37:49\n",
            "#========================================================#\n",
            "#| \u001b[92m    Arguments passed to driver run_optimizer():     \u001b[0m |#\n",
            "#========================================================#\n",
            "customengine              <pyscf.geomopt.geometric_solver.PySCFEngine object at 0x796087941ad0> \n",
            "input                     /tmp/tmptofkdmnb/f1f1549b-6e8b-4f56-95b9-c8f488150bce \n",
            "logIni                    /usr/local/lib/python3.11/dist-packages/pyscf/geomopt/log.ini \n",
            "----------------------------------------------------------\n",
            "Custom engine selected.\n",
            "Bonds will be generated from interatomic distances less than 1.20 times sum of covalent radii\n",
            "9 internal coordinates being used (instead of 9 Cartesians)\n",
            "Internal coordinate system (atoms numbered from 1):\n",
            "Distance 1-2\n",
            "Distance 2-3\n",
            "LinearAngleX 1-2-3\n",
            "LinearAngleY 1-2-3\n",
            "Translation-X 1-3\n",
            "Translation-Y 1-3\n",
            "Translation-Z 1-3\n",
            "Rotation-A 1-3\n",
            "Rotation-B 1-3\n",
            "Rotation-C 1-3\n",
            "<class 'geometric.internal.Distance'> : 2\n",
            "<class 'geometric.internal.LinearAngle'> : 2\n",
            "<class 'geometric.internal.TranslationX'> : 1\n",
            "<class 'geometric.internal.TranslationY'> : 1\n",
            "<class 'geometric.internal.TranslationZ'> : 1\n",
            "<class 'geometric.internal.RotationA'> : 1\n",
            "<class 'geometric.internal.RotationB'> : 1\n",
            "<class 'geometric.internal.RotationC'> : 1\n",
            "> ===== Optimization Info: ====\n",
            "> Job type: Energy minimization\n",
            "> Maximum number of optimization cycles: 300\n",
            "> Initial / maximum trust radius (Angstrom): 0.100 / 0.300\n",
            "> Convergence Criteria:\n",
            "> Will converge when all 5 criteria are reached:\n",
            ">  |Delta-E| < 1.00e-06\n",
            ">  RMS-Grad  < 3.00e-04\n",
            ">  Max-Grad  < 4.50e-04\n",
            ">  RMS-Disp  < 1.20e-03\n",
            ">  Max-Disp  < 1.80e-03\n",
            "> === End Optimization Info ===\n"
          ]
        },
        {
          "output_type": "stream",
          "name": "stdout",
          "text": [
            "\n",
            "Geometry optimization cycle 1\n",
            "Cartesian coordinates (Angstrom)\n",
            " Atom        New coordinates             dX        dY        dZ\n",
            "   N   0.000000   0.000000  -1.253243    0.000000  0.000000  0.000000\n",
            "   N   0.000000   0.000000  -0.122443    0.000000  0.000000  0.000000\n",
            "   O   0.000000   0.000000   1.065657    0.000000  0.000000 -0.000000\n",
            "converged SCF energy = -183.694957080088\n",
            "--------------- SymAdaptedRHF_Scanner gradients ---------------\n",
            "         x                y                z\n",
            "0 N     0.0000000000     0.0000000000    -0.1170284900\n",
            "1 N     0.0000000000     0.0000000000     0.0821465490\n",
            "2 O     0.0000000000     0.0000000000     0.0348819409\n",
            "----------------------------------------------\n",
            "cycle 1: E = -183.69495708  dE = -183.695  norm(grad) = 0.147175\n"
          ]
        },
        {
          "output_type": "stream",
          "name": "stderr",
          "text": [
            "Step    0 : Gradient = 8.497e-02/1.170e-01 (rms/max) Energy = -183.6949570801\n",
            "Hessian Eigenvalues: 5.00000e-02 5.00000e-02 5.00000e-02 ... 2.50000e-01 1.11037e+00 1.48978e+00\n"
          ]
        },
        {
          "output_type": "stream",
          "name": "stdout",
          "text": [
            "\n",
            "Geometry optimization cycle 2\n",
            "Cartesian coordinates (Angstrom)\n",
            " Atom        New coordinates             dX        dY        dZ\n",
            "   N   0.000000   0.000000  -1.219989    0.000000  0.000000  0.033254\n",
            "   N  -0.000000   0.000000  -0.130758   -0.000000  0.000000 -0.008315\n",
            "   O   0.000000   0.000000   1.040718    0.000000  0.000000 -0.024939\n",
            "converged SCF energy = -183.700054965247\n",
            "--------------- SymAdaptedRHF_Scanner gradients ---------------\n",
            "         x                y                z\n",
            "0 N     0.0000000000     0.0000000000     0.0076737618\n",
            "1 N     0.0000000000     0.0000000000    -0.0075968778\n",
            "2 O     0.0000000000     0.0000000000    -0.0000768840\n",
            "----------------------------------------------\n",
            "cycle 2: E = -183.700054965  dE = -0.00509789  norm(grad) = 0.0107984\n"
          ]
        },
        {
          "output_type": "stream",
          "name": "stderr",
          "text": [
            "Step    1 : Displace = \u001b[0m2.447e-02\u001b[0m/\u001b[0m3.325e-02\u001b[0m (rms/max) Trust = 1.000e-01 (=) Grad = \u001b[0m6.234e-03\u001b[0m/\u001b[0m7.674e-03\u001b[0m (rms/max) E (change) = -183.7000549652 (\u001b[0m-5.098e-03\u001b[0m) Quality = \u001b[0m0.991\u001b[0m\n",
            "Hessian Eigenvalues: 5.00000e-02 5.00000e-02 5.00000e-02 ... 2.50000e-01 1.10427e+00 1.58613e+00\n"
          ]
        },
        {
          "output_type": "stream",
          "name": "stdout",
          "text": [
            "\n",
            "Geometry optimization cycle 3\n",
            "Cartesian coordinates (Angstrom)\n",
            " Atom        New coordinates             dX        dY        dZ\n",
            "   N   0.000000   0.000000  -1.221706    0.000000  0.000000 -0.001716\n",
            "   N  -0.000000   0.000000  -0.129914   -0.000000  0.000000  0.000844\n",
            "   O   0.000000   0.000000   1.041591    0.000000  0.000000  0.000873\n",
            "converged SCF energy = -183.700071410217\n",
            "--------------- SymAdaptedRHF_Scanner gradients ---------------\n",
            "         x                y                z\n",
            "0 N     0.0000000000     0.0000000000    -0.0008421655\n",
            "1 N     0.0000000000     0.0000000000     0.0001571936\n",
            "2 O     0.0000000000     0.0000000000     0.0006849719\n",
            "----------------------------------------------\n",
            "cycle 3: E = -183.70007141  dE = -1.6445e-05  norm(grad) = 0.00109688\n"
          ]
        },
        {
          "output_type": "stream",
          "name": "stderr",
          "text": [
            "Step    2 : Displace = \u001b[0m1.214e-03\u001b[0m/\u001b[92m1.716e-03\u001b[0m (rms/max) Trust = 1.414e-01 (\u001b[92m+\u001b[0m) Grad = \u001b[0m6.333e-04\u001b[0m/\u001b[0m8.422e-04\u001b[0m (rms/max) E (change) = -183.7000714102 (\u001b[0m-1.644e-05\u001b[0m) Quality = \u001b[0m0.886\u001b[0m\n",
            "Hessian Eigenvalues: 5.00000e-02 5.00000e-02 5.00000e-02 ... 2.50000e-01 1.08698e+00 1.78982e+00\n"
          ]
        },
        {
          "output_type": "stream",
          "name": "stdout",
          "text": [
            "\n",
            "Geometry optimization cycle 4\n",
            "Cartesian coordinates (Angstrom)\n",
            " Atom        New coordinates             dX        dY        dZ\n",
            "   N   0.000000   0.000000  -1.221455    0.000000  0.000000  0.000251\n",
            "   N  -0.000000   0.000000  -0.129893   -0.000000  0.000000  0.000022\n",
            "   O   0.000000   0.000000   1.041318    0.000000  0.000000 -0.000273\n",
            "converged SCF energy = -183.700071830924\n",
            "--------------- SymAdaptedRHF_Scanner gradients ---------------\n",
            "         x                y                z\n",
            "0 N     0.0000000000     0.0000000000    -0.0000067294\n",
            "1 N     0.0000000000     0.0000000000    -0.0001564982\n",
            "2 O     0.0000000000     0.0000000000     0.0001632276\n",
            "----------------------------------------------\n",
            "cycle 4: E = -183.700071831  dE = -4.20708e-07  norm(grad) = 0.00022623\n"
          ]
        },
        {
          "output_type": "stream",
          "name": "stderr",
          "text": [
            "Step    3 : Displace = \u001b[92m2.143e-04\u001b[0m/\u001b[92m2.727e-04\u001b[0m (rms/max) Trust = 2.000e-01 (\u001b[92m+\u001b[0m) Grad = \u001b[92m1.306e-04\u001b[0m/\u001b[92m1.632e-04\u001b[0m (rms/max) E (change) = -183.7000718309 (\u001b[92m-4.207e-07\u001b[0m) Quality = \u001b[0m1.128\u001b[0m\n",
            "Hessian Eigenvalues: 5.00000e-02 5.00000e-02 5.00000e-02 ... 2.50000e-01 1.08698e+00 1.78982e+00\n",
            "Converged! =D\n",
            "\n",
            "    #==========================================================================#\n",
            "    #| If this code has benefited your research, please support us by citing: |#\n",
            "    #|                                                                        |#\n",
            "    #| Wang, L.-P.; Song, C.C. (2016) \"Geometry optimization made simple with |#\n",
            "    #| translation and rotation coordinates\", J. Chem, Phys. 144, 214108.     |#\n",
            "    #| http://dx.doi.org/10.1063/1.4952956                                    |#\n",
            "    #==========================================================================#\n",
            "    Time elapsed since start of run_optimizer: 2.058 seconds\n"
          ]
        },
        {
          "output_type": "stream",
          "name": "stdout",
          "text": [
            "[[ 0.          0.         -2.3082147 ]\n",
            " [ 0.          0.         -0.24546154]\n",
            " [ 0.          0.          1.96780567]]\n"
          ]
        }
      ]
    },
    {
      "cell_type": "code",
      "source": [
        "# Emission and Absorption Spectra (Electronic Frequencies / Transitions)\n",
        "\n",
        "mf = scf.RHF(mol)                                     # Perform a ground-state calculation for molecular vibrational frequencies\n",
        "mf.kernel()\n",
        "hess = hessian.RHF(mf).kernel()                       # Calculate the Hessian matrix (force constants)\n",
        "frequencies = np.linalg.eigvalsh(hess)                # Diagonalize the Hessian to get vibrational frequencies\n",
        "frequencies = np.sqrt(np.abs(frequencies)) * 5140.48  # Conversion factor to cm^-1 (more accurate)\n",
        "frequencies = frequencies[(frequencies > 0) & (frequencies < 5000)]  # Filter out non-physical (imaginary) frequencies and limit to realistic range\n",
        "\n",
        "# Plot stlyes\n",
        "EMISSION_COLOR = '#ff9500'  # Bright orange\n",
        "ABSORPTION_COLOR = '#00b4d8'  # Bright blue\n",
        "BASELINE_COLOR = '#404040'  # Dark gray\n",
        "GRID_COLOR = '#303030'  # Slightly lighter gray for grid\n",
        "plt.figure(figsize=(12, 8), facecolor='black') # Create figure with dark background\n",
        "plt.style.use('dark_background') # Set the style to dark background\n",
        "\n",
        "# Emission Spectrum\n",
        "plt.subplot(2, 1, 1)\n",
        "plt.bar(frequencies, height=1.0, width=15.0, color=EMISSION_COLOR, alpha=0.8)\n",
        "plt.xlabel('Frequency (cm⁻¹)', color='white', fontsize=10)\n",
        "plt.ylabel('Intensity (a.u.)', color='white', fontsize=10)\n",
        "plt.title(f'Emission Spectrum of {molecule} (Vibrational Modes)',\n",
        "         color='white', pad=20, fontsize=12)\n",
        "\n",
        "# Customize grid and spines\n",
        "plt.grid(True, color=GRID_COLOR, linestyle='--', alpha=0.5)\n",
        "for spine in plt.gca().spines.values():\n",
        "    spine.set_color(GRID_COLOR)\n",
        "plt.tick_params(colors='white')\n",
        "\n",
        "# Absorption Spectrum\n",
        "plt.subplot(2, 1, 2)\n",
        "# Create baseline\n",
        "plt.plot(np.linspace(0, 5000, 1000), np.ones(1000),\n",
        "         color=BASELINE_COLOR, linewidth=1)\n",
        "\n",
        "# Plot absorption lines with gradient effect\n",
        "for freq in frequencies:\n",
        "    y = np.linspace(0, 1, 100)\n",
        "    x = np.ones_like(y) * freq\n",
        "    plt.plot(x, y, color=ABSORPTION_COLOR,\n",
        "            alpha=0.8, linewidth=2)\n",
        "\n",
        "plt.xlabel('Frequency (cm⁻¹)', color='white', fontsize=10)\n",
        "plt.ylabel('Normalized Intensity (a.u.)', color='white', fontsize=10)\n",
        "plt.title(f'Absorption Spectrum of {molecule} (Vibrational Modes)',\n",
        "         color='white', pad=20, fontsize=12)\n",
        "\n",
        "# Customize grid and spines\n",
        "plt.grid(True, color=GRID_COLOR, linestyle='--', alpha=0.5)\n",
        "for spine in plt.gca().spines.values():\n",
        "    spine.set_color(GRID_COLOR)\n",
        "plt.tick_params(colors='white')\n",
        "\n",
        "# Adjust layout and display\n",
        "plt.tight_layout()\n",
        "plt.subplots_adjust(hspace=0.3)\n",
        "\n",
        "# Set figure background to black\n",
        "plt.gcf().patch.set_facecolor('black')\n",
        "\n",
        "plt.show()"
      ],
      "metadata": {
        "colab": {
          "base_uri": "https://localhost:8080/",
          "height": 824
        },
        "id": "sayZdeXe6wdu",
        "outputId": "a397d33f-04aa-408c-bb94-8ea72eadd329"
      },
      "execution_count": 13,
      "outputs": [
        {
          "output_type": "stream",
          "name": "stdout",
          "text": [
            "converged SCF energy = -183.694957080086\n"
          ]
        },
        {
          "output_type": "display_data",
          "data": {
            "text/plain": [
              "<Figure size 1200x800 with 2 Axes>"
            ],
            "image/png": "[encoded data removed]"
          },
          "metadata": {}
        }
      ]
    }
  ]
}