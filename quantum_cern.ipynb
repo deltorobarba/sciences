{
  "nbformat": 4,
  "nbformat_minor": 0,
  "metadata": {
    "colab": {
      "provenance": [],
      "collapsed_sections": [
        "Gi9vCahYLvix",
        "_zw1dGwEN3ut",
        "qI0n8rIJQlhl",
        "BvASFtd4QoNr",
        "q0xOUtaNQrpR",
        "dUSFjR9HTbQo",
        "P3YPRe8jUxJb",
        "OvMIcvRyV20W",
        "87jR0g2Hc57n",
        "6nbSKxnqeNOY",
        "zHsuCH4RKwnu",
        "t7gpoYKzL83s",
        "JVaGu1H0rIM9"
      ],
      "gpuType": "T4",
      "include_colab_link": true
    },
    "kernelspec": {
      "name": "python3",
      "display_name": "Python 3"
    },
    "language_info": {
      "name": "python"
    },
    "accelerator": "GPU"
  },
  "cells": [
    {
      "cell_type": "markdown",
      "metadata": {
        "id": "view-in-github",
        "colab_type": "text"
      },
      "source": [
        "<a href=\"https://colab.research.google.com/github/deltorobarba/sciences/blob/master/quantum_cern.ipynb\" target=\"_parent\"><img src=\"https://colab.research.google.com/assets/colab-badge.svg\" alt=\"Open In Colab\"/></a>"
      ]
    },
    {
      "cell_type": "markdown",
      "metadata": {
        "id": "hWg6jjQc4aj3"
      },
      "source": [
        "## **CERN: [International Conference on Quantum Technologies for High-Energy Physics](https://indico.cern.ch/event/1190278/)**"
      ]
    },
    {
      "cell_type": "markdown",
      "metadata": {
        "id": "Mw83fgPuBu-6"
      },
      "source": [
        "**Annalisa Pawlosky, PhD**, *Senior Research Scientist at Google*\n",
        "\n",
        "[Google Scholar](https://scholar.google.com/citations?view_op=list_works&hl=de&user=rLeFKJgAAAAJ) $\\cdot$ [LinkedIn](https://www.linkedin.com/in/annalisa-pawlosky-bb7579178/)\n",
        "\n",
        "**Alexander Del Toro Barba, PhD**, *Quantum Computing Practice Lead at Google Cloud*\n",
        "\n",
        "[Google Scholar](https://scholar.google.com/citations?hl=en&user=fddyK-wAAAAJ) $\\cdot$ [LinkedIn](https://www.linkedin.com/in/deltorobarba/)\n"
      ]
    },
    {
      "cell_type": "markdown",
      "metadata": {
        "id": "Gi9vCahYLvix"
      },
      "source": [
        "###### *Install Libraries*"
      ]
    },
    {
      "cell_type": "markdown",
      "metadata": {
        "id": "89z0wFhtUblE"
      },
      "source": [
        "*You can view this notebook shared publicly without sign-in. But in order to execute code, a Google account sign-in is required. Instructions to create a Google account are [here](https://support.google.com/accounts/answer/27441?hl=en).*"
      ]
    },
    {
      "cell_type": "code",
      "source": [
        "!pip install cirq -q\n",
        "import math\n",
        "import sympy\n",
        "import numpy as np\n",
        "import seaborn as sns\n",
        "import networkx as nx\n",
        "from sympy import Matrix\n",
        "from sympy.physics.quantum import TensorProduct\n",
        "import matplotlib.pyplot as plt\n",
        "import importlib, pkg_resources\n",
        "import collections\n",
        "import cirq\n",
        "import cirq_google\n",
        "from cirq.contrib.svg import SVGCircuit"
      ],
      "metadata": {
        "id": "35gBaE4FCIjP"
      },
      "execution_count": null,
      "outputs": []
    },
    {
      "cell_type": "markdown",
      "source": [
        "###### *Complete Introductory Example*"
      ],
      "metadata": {
        "id": "_zw1dGwEN3ut"
      }
    },
    {
      "cell_type": "markdown",
      "metadata": {
        "id": "w_DMTCkZDPD7"
      },
      "source": [
        " * Homepage: [quantumai.google/cirq](https://quantumai.google/cirq)\n",
        "\n",
        "* Youtube video series: [Getting started with Cirq 1.0](https://www.youtube.com/watch?v=4OQrPHmjpVc&list=PLpO2pyKisOjLVt_tDJ2K6ZTapZtHXPLB4)\n",
        "\n",
        "* See following notebook and many more information [here](https://quantumai.google/cirq/start/basics)"
      ]
    },
    {
      "cell_type": "code",
      "source": [
        "# Create Vanilla Qubits\n",
        "a = cirq.NamedQubit(\"a\")\n",
        "b = cirq.NamedQubit(\"b\")\n",
        "c = cirq.NamedQubit(\"c\")\n",
        "\n",
        "qubits = cirq.LineQubit.range(3)\n",
        "\n",
        "# Create Operation\n",
        "ops=[cirq.X(a),\n",
        "     cirq.CCNOT(a,b, c),\n",
        "     cirq.measure(a),\n",
        "     cirq.measure(b),\n",
        "     cirq.measure(c)]\n",
        "circuit=cirq.Circuit(ops)\n",
        "print(circuit)"
      ],
      "metadata": {
        "id": "AF-5AAhlN549",
        "colab": {
          "base_uri": "https://localhost:8080/"
        },
        "outputId": "9b3dbf9d-e673-4624-f4db-6435622eafd2"
      },
      "execution_count": null,
      "outputs": [
        {
          "output_type": "stream",
          "name": "stdout",
          "text": [
            "a: ───X───@───M───\n",
            "          │\n",
            "b: ───────@───M───\n",
            "          │\n",
            "c: ───────X───M───\n"
          ]
        }
      ]
    },
    {
      "cell_type": "code",
      "source": [
        "# Run Simulation, Measure and Visualize\n",
        "simulator = cirq.Simulator()\n",
        "result = simulator.run(circuit,repetitions=10)\n",
        "print('Measurement results:', result) # 0: 00, 1: 01, 2: 10, 3: 11 etc\n",
        "_ = cirq.vis.plot_state_histogram(result, plt.subplot())\n",
        "result.histogram(key=\"a\")"
      ],
      "metadata": {
        "id": "ohxUJ_taN8Fc",
        "colab": {
          "base_uri": "https://localhost:8080/",
          "height": 559
        },
        "outputId": "5a2f9261-d166-4ab1-b456-4cdbc9bd2215"
      },
      "execution_count": null,
      "outputs": [
        {
          "output_type": "stream",
          "name": "stdout",
          "text": [
            "Measurement results: a=1111111111\n",
            "b=0000000000\n",
            "c=0000000000\n"
          ]
        },
        {
          "output_type": "execute_result",
          "data": {
            "text/plain": [
              "Counter({1: 10})"
            ]
          },
          "metadata": {},
          "execution_count": 3
        },
        {
          "output_type": "display_data",
          "data": {
            "text/plain": [
              "<Figure size 640x480 with 1 Axes>"
            ],
            "image/png": "[encoded data removed]"
          },
          "metadata": {}
        }
      ]
    },
    {
      "cell_type": "code",
      "source": [
        "# Pick a qubit.\n",
        "qubit = cirq.GridQubit(0, 0)\n",
        "\n",
        "# Create a circuit\n",
        "circuit = cirq.Circuit(\n",
        "    cirq.X(qubit)**0.5,  # Square root of NOT.\n",
        "    cirq.measure(qubit, key='m')  # Measurement.\n",
        ")\n",
        "print(\"Circuit:\")\n",
        "print(circuit)\n",
        "\n",
        "# Simulate the circuit several times.\n",
        "simulator = cirq.Simulator()\n",
        "result = simulator.run(circuit, repetitions=20)\n",
        "print(\"Results:\")\n",
        "print(result)"
      ],
      "metadata": {
        "id": "tCiY26LrUAKV",
        "colab": {
          "base_uri": "https://localhost:8080/"
        },
        "outputId": "7f3b1b8f-3b59-49c2-ab35-dc7f1f6c7a20"
      },
      "execution_count": null,
      "outputs": [
        {
          "output_type": "stream",
          "name": "stdout",
          "text": [
            "Circuit:\n",
            "(0, 0): ───X^0.5───M('m')───\n",
            "Results:\n",
            "m=01101010001011001100\n"
          ]
        }
      ]
    },
    {
      "cell_type": "markdown",
      "source": [
        "###### *Qubits*"
      ],
      "metadata": {
        "id": "qI0n8rIJQlhl"
      }
    },
    {
      "cell_type": "markdown",
      "source": [
        "The first part of creating a quantum circuit is to define a set of qubits (also known as a quantum register) to act on. [Cirq has three main ways of defining qubits](https://quantumai.google/cirq/build/qubits):\n",
        "\n",
        "* **cirq.NamedQubit**: used to label qubits by an abstract name.\n",
        "* **cirq.LineQubit**: qubits labelled by number in a linear array.\n",
        "* **cirq.GridQubit**: qubits labelled by two numbers in a rectangular lattice."
      ],
      "metadata": {
        "id": "hOJ8-O9WnUcG"
      }
    },
    {
      "cell_type": "code",
      "source": [
        "# Using named qubits can be useful for abstract algorithms\n",
        "# as well as algorithms not yet mapped onto hardware.\n",
        "q0 = cirq.NamedQubit('source')\n",
        "q1 = cirq.NamedQubit('target')\n",
        "\n",
        "# Line qubits can be created individually\n",
        "q3 = cirq.LineQubit(3)\n",
        "\n",
        "# Or created in a range\n",
        "# This will create LineQubit(0), LineQubit(1), LineQubit(2)\n",
        "q0, q1, q2 = cirq.LineQubit.range(3)\n",
        "\n",
        "# Grid Qubits can also be referenced individually\n",
        "q4_5 = cirq.GridQubit(4, 5)\n",
        "\n",
        "# Or created in bulk in a square\n",
        "# This will create 16 qubits from (0,0) to (3,3)\n",
        "qubits = cirq.GridQubit.square(4)"
      ],
      "metadata": {
        "id": "UQpI4Q2FnQ6E"
      },
      "execution_count": null,
      "outputs": []
    },
    {
      "cell_type": "code",
      "source": [
        "qubits"
      ],
      "metadata": {
        "id": "DAhTohiOqB42",
        "colab": {
          "base_uri": "https://localhost:8080/"
        },
        "outputId": "b1b41d83-50f0-484e-ad6a-5d86493224e7"
      },
      "execution_count": null,
      "outputs": [
        {
          "output_type": "execute_result",
          "data": {
            "text/plain": [
              "[cirq.GridQubit(0, 0),\n",
              " cirq.GridQubit(0, 1),\n",
              " cirq.GridQubit(0, 2),\n",
              " cirq.GridQubit(0, 3),\n",
              " cirq.GridQubit(1, 0),\n",
              " cirq.GridQubit(1, 1),\n",
              " cirq.GridQubit(1, 2),\n",
              " cirq.GridQubit(1, 3),\n",
              " cirq.GridQubit(2, 0),\n",
              " cirq.GridQubit(2, 1),\n",
              " cirq.GridQubit(2, 2),\n",
              " cirq.GridQubit(2, 3),\n",
              " cirq.GridQubit(3, 0),\n",
              " cirq.GridQubit(3, 1),\n",
              " cirq.GridQubit(3, 2),\n",
              " cirq.GridQubit(3, 3)]"
            ]
          },
          "metadata": {},
          "execution_count": 6
        }
      ]
    },
    {
      "cell_type": "markdown",
      "source": [
        "There are also pre-packaged sets of qubits called [Devices](https://quantumai.google/cirq/hardware/devices). These are qubits along with a set of rules for how they can be used.\n",
        "\n",
        "A cirq.Device can be used to ensure that two-qubit gates are only applied to qubits that are adjacent in the hardware, and other constraints. The following example will use the cirq_google.Sycamore device that comes with cirq. It is a diamond-shaped grid with 54 qubits that mimics early hardware released by Google.\n",
        "\n",
        "![sycamore](https://4.bp.blogspot.com/-b9akad6ismU/WpmyaJo-cYI/AAAAAAAACa8/mCqPBJxv5oUivy6Jq42FSOQYkeRlTmkiwCLcBGAs/s1600/image1.png)"
      ],
      "metadata": {
        "id": "TI1inRfaL8KI"
      }
    },
    {
      "cell_type": "code",
      "source": [
        "my_device = cirq_google.Sycamore\n",
        "print(my_device)"
      ],
      "metadata": {
        "id": "BeFfKqgfMEIr",
        "colab": {
          "base_uri": "https://localhost:8080/"
        },
        "outputId": "fe37faaa-3061-43b1-a187-de7efe3655c5"
      },
      "execution_count": null,
      "outputs": [
        {
          "output_type": "stream",
          "name": "stdout",
          "text": [
            "                                             (0, 5)───(0, 6)\n",
            "                                             │        │\n",
            "                                             │        │\n",
            "                                    (1, 4)───(1, 5)───(1, 6)───(1, 7)\n",
            "                                    │        │        │        │\n",
            "                                    │        │        │        │\n",
            "                           (2, 3)───(2, 4)───(2, 5)───(2, 6)───(2, 7)───(2, 8)\n",
            "                           │        │        │        │        │        │\n",
            "                           │        │        │        │        │        │\n",
            "                  (3, 2)───(3, 3)───(3, 4)───(3, 5)───(3, 6)───(3, 7)───(3, 8)───(3, 9)\n",
            "                  │        │        │        │        │        │        │        │\n",
            "                  │        │        │        │        │        │        │        │\n",
            "         (4, 1)───(4, 2)───(4, 3)───(4, 4)───(4, 5)───(4, 6)───(4, 7)───(4, 8)───(4, 9)\n",
            "         │        │        │        │        │        │        │        │\n",
            "         │        │        │        │        │        │        │        │\n",
            "(5, 0)───(5, 1)───(5, 2)───(5, 3)───(5, 4)───(5, 5)───(5, 6)───(5, 7)───(5, 8)\n",
            "         │        │        │        │        │        │        │\n",
            "         │        │        │        │        │        │        │\n",
            "         (6, 1)───(6, 2)───(6, 3)───(6, 4)───(6, 5)───(6, 6)───(6, 7)\n",
            "                  │        │        │        │        │\n",
            "                  │        │        │        │        │\n",
            "                  (7, 2)───(7, 3)───(7, 4)───(7, 5)───(7, 6)\n",
            "                           │        │        │\n",
            "                           │        │        │\n",
            "                           (8, 3)───(8, 4)───(8, 5)\n",
            "                                    │\n",
            "                                    │\n",
            "                                    (9, 4)\n"
          ]
        }
      ]
    },
    {
      "cell_type": "markdown",
      "source": [
        "###### *Gates and Operations*"
      ],
      "metadata": {
        "id": "BvASFtd4QoNr"
      }
    },
    {
      "cell_type": "markdown",
      "source": [
        "* A Gate is an effect that can be applied to a set of qubits.\n",
        "\n",
        "* An Operation is a gate applied to a set of qubits.\n",
        "\n",
        "For instance, cirq.H is the quantum Hadamard and is a Gate object. cirq.H(cirq.LineQubit(1)) is an Operation object and is the Hadamard gate applied to a specific qubit (line qubit number 1).\n",
        "\n",
        "Many textbook gates are included within cirq. cirq.X, cirq.Y, and cirq.Z refer to the single-qubit Pauli gates. cirq.CZ, cirq.CNOT, cirq.SWAP are a few of the common two-qubit gates. cirq.measure is a macro to apply a MeasurementGate to a set of qubits. You can find more, as well as instructions on how to create your own custom gates, on the [Gates documentation](https://quantumai.google/cirq/build/gates) page."
      ],
      "metadata": {
        "id": "e3lt3c5LMsTf"
      }
    },
    {
      "cell_type": "code",
      "source": [
        "# Example gates\n",
        "cnot_gate = cirq.CNOT\n",
        "pauli_z = cirq.Z\n",
        "\n",
        "# Use exponentiation to get square root gates.\n",
        "sqrt_x_gate = cirq.X**0.5\n",
        "\n",
        "# Some gates can also take parameters\n",
        "sqrt_sqrt_y = cirq.YPowGate(exponent=0.25)\n",
        "\n",
        "# Create two qubits at once, in a line.\n",
        "q0, q1 = cirq.LineQubit.range(2)\n",
        "\n",
        "# Example operations\n",
        "z_op = cirq.Z(q0)\n",
        "not_op = cirq.CNOT(q0, q1)\n",
        "sqrt_iswap_op = cirq.SQRT_ISWAP(q0, q1)\n",
        "\n",
        "# You can also use the gates you specified earlier.\n",
        "cnot_op = cnot_gate(q0, q1)\n",
        "pauli_z_op = pauli_z(q0)\n",
        "sqrt_x_op = sqrt_x_gate(q0)\n",
        "sqrt_sqrt_y_op = sqrt_sqrt_y(q0)"
      ],
      "metadata": {
        "id": "orEPkAwCNy9m"
      },
      "execution_count": null,
      "outputs": []
    },
    {
      "cell_type": "markdown",
      "source": [
        "###### *Circuits and moments*"
      ],
      "metadata": {
        "id": "q0xOUtaNQrpR"
      }
    },
    {
      "cell_type": "markdown",
      "source": [
        "You are now ready to construct a quantum circuit. A Circuit is a collection of Moments.\n",
        "\n",
        "A Moment is a collection of Operations that all act during the same abstract time slice. Each Operation must be applied to a disjoint set of qubits compared to each of the other Operations in the Moment. A Moment can be thought of as a vertical slice of a quantum circuit diagram.\n",
        "\n",
        "![moments](https://raw.githubusercontent.com/deltorobarba/repo/master/sciences_1212.png)\n"
      ],
      "metadata": {
        "id": "mdtOhOCiOYMw"
      }
    },
    {
      "cell_type": "markdown",
      "source": [
        "<font color=\"blue\">**Tensor-Multiplication (Kronecker) for combination of operators within one moment** *Two systems being described as a joint system*\n",
        "\n",
        "> $\\left[\\begin{array}{ll}a & b \\\\ c & d\\end{array}\\right] \\otimes\\left[\\begin{array}{ll}e & f \\\\ g & h\\end{array}\\right]=\\left[\\begin{array}{lll}a\\left[\\begin{array}{ll}e & f \\\\ g & h\\end{array}\\right] & b\\left[\\begin{array}{ll}e & f \\\\ g & h\\end{array}\\right] \\\\ c\\left[\\begin{array}{ll}e & f \\\\ g & h\\end{array}\\right] & d\\left[\\begin{array}{llll}e & f \\\\ g & h\\end{array}\\right]\\end{array}\\right]=\\left[\\begin{array}{llll}a e & a f & \\text { be } & b f \\\\ a g & a h & b g & b h \\\\ c e & c f & d e & d f \\\\ c g & c h & d g & d h\\end{array}\\right]$\n",
        "\n",
        "Example with Pauli X and Pauli Y gate\n",
        "\n",
        "> $Y \\otimes X=\\left[\\begin{array}{cc}0 & -i \\\\ i & 0\\end{array}\\right] \\otimes\\left[\\begin{array}{ll}0 & 1 \\\\ 1 & 0\\end{array}\\right]=\\left[\\begin{array}{ll}0\\left[\\begin{array}{ll}0 & 1 \\\\ 1 & 0\\end{array}\\right] & -i\\left[\\begin{array}{ll}0 & 1 \\\\ 1 & 0\\end{array}\\right] \\\\ i\\left[\\begin{array}{ll}0 & 1 \\\\ 1 & 0\\end{array}\\right] & 0\\left[\\begin{array}{ll}0 & 1 \\\\ 1 & 0\\end{array}\\right]\\end{array}\\right]=\\left[\\begin{array}{cccc}0 & 0 & 0 & -i \\\\ 0 & 0 & -i & 0 \\\\ 0 & i & 0 & 0 \\\\ i & 0 & 0 & 0\\end{array}\\right]$\n"
      ],
      "metadata": {
        "id": "YFbPFKAmRnNm"
      }
    },
    {
      "cell_type": "code",
      "source": [
        "m1 = Matrix([[1],[0]])\n",
        "m2 = Matrix([[1],[0]])\n",
        "m3 = Matrix([[1],[0]])\n",
        "\n",
        "matrix = TensorProduct(m1, m2, m3)\n",
        "matrix"
      ],
      "metadata": {
        "id": "nkoZOe_lTF8g",
        "colab": {
          "base_uri": "https://localhost:8080/",
          "height": 200
        },
        "outputId": "5c921ccb-81bc-420d-b53c-457509d4d11c"
      },
      "execution_count": null,
      "outputs": [
        {
          "output_type": "execute_result",
          "data": {
            "text/plain": [
              "Matrix([\n",
              "[1],\n",
              "[0],\n",
              "[0],\n",
              "[0],\n",
              "[0],\n",
              "[0],\n",
              "[0],\n",
              "[0]])"
            ],
            "text/latex": "$\\displaystyle \\left[\\begin{matrix}1\\\\0\\\\0\\\\0\\\\0\\\\0\\\\0\\\\0\\end{matrix}\\right]$"
          },
          "metadata": {},
          "execution_count": 9
        }
      ]
    },
    {
      "cell_type": "markdown",
      "source": [
        "**<font color=\"blue\">Usual Matrix-Multiplication for serially wired gates** *A line in the circuit is considered as a quantum wire and basically represents a single qubit. The product of operators keeps the same dimension*\n",
        "\n",
        "\n",
        "![ggg](https://upload.wikimedia.org/wikipedia/commons/thumb/0/0a/Serially_wired_quantum_logic_gates.png/500px-Serially_wired_quantum_logic_gates.png)\n",
        "\n",
        "Putting the Pauli X gate after the Pauli Y gate (both act on a single qubit) can be described as a single combined gate C:\n",
        "\n",
        ">$C = X \\cdot Y=\\left[\\begin{array}{ll}\n",
        "0 & 1 \\\\\n",
        "1 & 0\n",
        "\\end{array}\\right] \\cdot\\left[\\begin{array}{cc}\n",
        "0 & -i \\\\\n",
        "i & 0\n",
        "\\end{array}\\right]=\\left[\\begin{array}{cc}\n",
        "i & 0 \\\\\n",
        "0 & -i\n",
        "\\end{array}\\right]\n",
        "$\n",
        "\n",
        ">$\n",
        "X \\cdot X=\\left(\\begin{array}{ll}\n",
        "0 & 1 \\\\\n",
        "1 & 0\n",
        "\\end{array}\\right)\\left(\\begin{array}{ll}\n",
        "0 & 1 \\\\\n",
        "1 & 0\n",
        "\\end{array}\\right)=\\left(\\begin{array}{ll}\n",
        "1 & 0 \\\\\n",
        "0 & 1\n",
        "\\end{array}\\right)=I\n",
        "$"
      ],
      "metadata": {
        "id": "NBEnOe8ER-ol"
      }
    },
    {
      "cell_type": "markdown",
      "source": [
        "Circuits can be constructed in several different ways. By default, Cirq will attempt to slide your operation into the earliest possible Moment when you insert it. You can use the append function in two ways:\n",
        "\n",
        "By appending each operation one-by-one:"
      ],
      "metadata": {
        "id": "IHrQHfcsxlnH"
      }
    },
    {
      "cell_type": "code",
      "source": [
        "circuit = cirq.Circuit()\n",
        "\n",
        "qubits = cirq.LineQubit.range(4)\n",
        "\n",
        "circuit.append(cirq.H(qubits[0]))\n",
        "circuit.append(cirq.H(qubits[1]))\n",
        "circuit.append(cirq.H(qubits[2]))\n",
        "circuit.append(cirq.H(qubits[3]))\n",
        "\n",
        "\n",
        "print(circuit)"
      ],
      "metadata": {
        "id": "kUfqChjPOWjg",
        "colab": {
          "base_uri": "https://localhost:8080/"
        },
        "outputId": "288475bf-bb5e-45fc-fb62-d81dc83ebfdf"
      },
      "execution_count": null,
      "outputs": [
        {
          "output_type": "stream",
          "name": "stdout",
          "text": [
            "0: ───H───\n",
            "\n",
            "1: ───H───\n",
            "\n",
            "2: ───H───\n",
            "\n",
            "3: ───H───\n"
          ]
        }
      ]
    },
    {
      "cell_type": "markdown",
      "source": [
        "Or by appending some iterable of operations. A preconstructed list works:"
      ],
      "metadata": {
        "id": "DgrvLz5SPedi"
      }
    },
    {
      "cell_type": "code",
      "source": [
        "circuit = cirq.Circuit()\n",
        "\n",
        "ops = [cirq.H(q) for q in cirq.LineQubit.range(4)]\n",
        "\n",
        "circuit.append(ops)\n",
        "\n",
        "print(circuit)"
      ],
      "metadata": {
        "id": "wmGUGU30PgRc",
        "colab": {
          "base_uri": "https://localhost:8080/"
        },
        "outputId": "18262f0f-a2fa-45cd-fb9e-99c3e986ee37"
      },
      "execution_count": null,
      "outputs": [
        {
          "output_type": "stream",
          "name": "stdout",
          "text": [
            "0: ───H───\n",
            "\n",
            "1: ───H───\n",
            "\n",
            "2: ───H───\n",
            "\n",
            "3: ───H───\n"
          ]
        }
      ]
    },
    {
      "cell_type": "markdown",
      "source": [
        "A generator that yields operations also works. This syntax will be used often in documentation, and works both with the cirq.Circuit() initializer and the cirq.Circuit.append() function (for example used in Phase Estimation to append inverse Quantum Fourier Transform)"
      ],
      "metadata": {
        "id": "nZ6n_qlvS21X"
      }
    },
    {
      "cell_type": "code",
      "source": [
        "# Append with generator\n",
        "\n",
        "circuit = cirq.Circuit()\n",
        "circuit.append(cirq.H(q) for q in cirq.LineQubit.range(4))\n",
        "print(circuit)"
      ],
      "metadata": {
        "id": "7pqi9u5bS4by",
        "colab": {
          "base_uri": "https://localhost:8080/"
        },
        "outputId": "e1e45ea0-7cca-4ea4-e344-d339632b4b50"
      },
      "execution_count": null,
      "outputs": [
        {
          "output_type": "stream",
          "name": "stdout",
          "text": [
            "0: ───H───\n",
            "\n",
            "1: ───H───\n",
            "\n",
            "2: ───H───\n",
            "\n",
            "3: ───H───\n"
          ]
        }
      ]
    },
    {
      "cell_type": "code",
      "source": [
        "# Initializer with generator\n",
        "\n",
        "print(cirq.Circuit(cirq.H(q) for q in cirq.LineQubit.range(4)))"
      ],
      "metadata": {
        "id": "FNxTcQsoyH5F",
        "colab": {
          "base_uri": "https://localhost:8080/"
        },
        "outputId": "b57a727e-e71d-4f31-ca99-e36d3e24a6ce"
      },
      "execution_count": null,
      "outputs": [
        {
          "output_type": "stream",
          "name": "stdout",
          "text": [
            "0: ───H───\n",
            "\n",
            "1: ───H───\n",
            "\n",
            "2: ───H───\n",
            "\n",
            "3: ───H───\n"
          ]
        }
      ]
    },
    {
      "cell_type": "code",
      "source": [
        "\"\"\"Creating a circuit.\"\"\"\n",
        "\n",
        "# Define three qubits.\n",
        "a = cirq.NamedQubit(\"a\")\n",
        "b = cirq.NamedQubit(\"b\")\n",
        "c = cirq.NamedQubit(\"c\")\n",
        "\n",
        "# Define a list of operations.\n",
        "ops = [cirq.H(a),\n",
        "       cirq.H(b),\n",
        "       cirq.CNOT(b, c),\n",
        "       cirq.H(b)]\n",
        "\n",
        "# Create a circuit from the list of operations.\n",
        "circuit = cirq.Circuit(ops)\n",
        "\n",
        "print(\"Circuit:\\n\")\n",
        "print(circuit)"
      ],
      "metadata": {
        "id": "7HYK6f-_fvjB",
        "colab": {
          "base_uri": "https://localhost:8080/"
        },
        "outputId": "90b3a358-1f1a-4134-c55a-8ff6017a37f6"
      },
      "execution_count": null,
      "outputs": [
        {
          "output_type": "stream",
          "name": "stdout",
          "text": [
            "Circuit:\n",
            "\n",
            "a: ───H───────────\n",
            "\n",
            "b: ───H───@───H───\n",
            "          │\n",
            "c: ───────X───────\n"
          ]
        }
      ]
    },
    {
      "cell_type": "markdown",
      "source": [
        "If your operations are applied to the same qubits, they will be put in sequential, insertion-ordered moments. In the following example, the two-qubit gates overlap, and are placed in consecutive moments."
      ],
      "metadata": {
        "id": "HFIdzSYvTkK6"
      }
    },
    {
      "cell_type": "code",
      "source": [
        "print(cirq.Circuit(cirq.SWAP(q, q + 1) for q in cirq.LineQubit.range(3)))"
      ],
      "metadata": {
        "id": "wmgdnRAnTmWe",
        "colab": {
          "base_uri": "https://localhost:8080/"
        },
        "outputId": "9691b5d3-1033-470f-e1b1-6f4f337e58a9"
      },
      "execution_count": null,
      "outputs": [
        {
          "output_type": "stream",
          "name": "stdout",
          "text": [
            "0: ───×───────────\n",
            "      │\n",
            "1: ───×───×───────\n",
            "          │\n",
            "2: ───────×───×───\n",
            "              │\n",
            "3: ───────────×───\n"
          ]
        }
      ]
    },
    {
      "cell_type": "markdown",
      "source": [
        "Sometimes, you may not want Cirq to automatically shift operations all the way to the left. To construct a circuit without doing this, you can create the circuit moment-by-moment or use a different InsertStrategy, explained more in the [Circuit documentation](https://quantumai.google/cirq/build/circuits)\n",
        "\n"
      ],
      "metadata": {
        "id": "KbBLr3gQTpHy"
      }
    },
    {
      "cell_type": "code",
      "source": [
        "# Creates each gate in a separate moment by passing an iterable of Moments instead of Operations.\n",
        "print(cirq.Circuit(cirq.Moment([cirq.H(q)]) for q in cirq.LineQubit.range(3)))"
      ],
      "metadata": {
        "id": "2Y5J9ZB_TuUi",
        "colab": {
          "base_uri": "https://localhost:8080/"
        },
        "outputId": "c59ae23b-a3d1-4543-c70c-2b0d9acb4b88"
      },
      "execution_count": null,
      "outputs": [
        {
          "output_type": "stream",
          "name": "stdout",
          "text": [
            "0: ───H───────────\n",
            "\n",
            "1: ───────H───────\n",
            "\n",
            "2: ───────────H───\n"
          ]
        }
      ]
    },
    {
      "cell_type": "markdown",
      "source": [
        "###### *Circuits and devices*"
      ],
      "metadata": {
        "id": "dUSFjR9HTbQo"
      }
    },
    {
      "cell_type": "markdown",
      "source": [
        "One important consideration when using real quantum devices is that there are often constraints on circuits that are able to be run on the hardware. Device objects specify these constraints and can be used to validate your circuit to make sure that it contains no illegal operations. For more information on what constraints Device objects can specify and how to use them, see the [Devices page](https://quantumai.google/cirq/hardware/devices).\n",
        "\n",
        "The following example demonstrates this with the Sycamore Device:"
      ],
      "metadata": {
        "id": "Oe6NTvc9UPFi"
      }
    },
    {
      "cell_type": "code",
      "source": [
        "# Create some qubits.\n",
        "q0 = cirq.GridQubit(5, 6)\n",
        "q1 = cirq.GridQubit(5, 5)\n",
        "q2 = cirq.GridQubit(4, 5)\n",
        "\n",
        "# Create operations using the Sycamore gate, which is supported by the Sycamore device.\n",
        "# However, create operations for both adjacent and non-adjacent qubit pairs.\n",
        "adjacent_op = cirq_google.SYC(q0, q1)\n",
        "nonadjacent_op = cirq_google.SYC(q0, q2)\n",
        "\n",
        "# A working circuit for the Sycamore device raises no issues.\n",
        "working_circuit = cirq.Circuit()\n",
        "working_circuit.append(adjacent_op)\n",
        "valid = cirq_google.Sycamore.validate_circuit(working_circuit)\n",
        "\n",
        "# A circuit using invalid operations.\n",
        "bad_circuit = cirq.Circuit()\n",
        "bad_circuit.append(nonadjacent_op)\n",
        "try:\n",
        "    cirq_google.Sycamore.validate_circuit(bad_circuit)\n",
        "except ValueError as e:\n",
        "    print(e)"
      ],
      "metadata": {
        "id": "Z2VLC0tzUTzu",
        "colab": {
          "base_uri": "https://localhost:8080/"
        },
        "outputId": "bbc255d2-4e1c-46f6-857e-e2f9e342e7bf"
      },
      "execution_count": null,
      "outputs": [
        {
          "output_type": "stream",
          "name": "stdout",
          "text": [
            "Qubit pair is not valid on device: (cirq.GridQubit(5, 6), cirq.GridQubit(4, 5)).\n"
          ]
        }
      ]
    },
    {
      "cell_type": "markdown",
      "source": [
        "###### *Simulation*"
      ],
      "metadata": {
        "id": "P3YPRe8jUxJb"
      }
    },
    {
      "cell_type": "markdown",
      "source": [
        "The results of the application of a quantum circuit can be calculated by a Simulator. Cirq comes bundled with a simulator that can calculate the results of circuits up to about a limit of 20 qubits. It can be initialized with [cirq.Simulator()](https://quantumai.google/reference/python/cirq/Simulator).\n",
        "\n",
        "There are two different approaches to using a simulator:\n",
        "\n",
        "* **simulate():** When classically simulating a circuit, a simulator can directly access and view the resulting wave function. This is useful for debugging, learning, and understanding how circuits will function.\n",
        "\n",
        "* **run():** When using actual quantum devices, we can only access the end result of a computation and must sample the results to get a distribution of results. Running the simulator as a sampler mimics this behavior and only returns bit strings as output.\n",
        "\n",
        "Next simulate a 2-qubit \"Bell State\":"
      ],
      "metadata": {
        "id": "NKXaINymU1Gs"
      }
    },
    {
      "cell_type": "code",
      "source": [
        "# Create a circuit to generate a Bell State:\n",
        "# 1/sqrt(2) * ( |00⟩ + |11⟩ )\n",
        "\n",
        "bell_circuit = cirq.Circuit()\n",
        "\n",
        "q0, q1 = cirq.LineQubit.range(2)\n",
        "\n",
        "bell_circuit.append(cirq.H(q0))\n",
        "bell_circuit.append(cirq.CNOT(q0, q1))\n",
        "\n",
        "# Initialize Simulator\n",
        "s = cirq.Simulator()\n",
        "results = s.simulate(bell_circuit)\n",
        "\n",
        "print('Simulate the circuit:')\n",
        "print(results)\n",
        "\n",
        "# For sampling, we need to add a measurement at the end\n",
        "bell_circuit.append(cirq.measure(q0, q1, key='result'))\n",
        "\n",
        "# Sample the circuit\n",
        "samples = s.run(bell_circuit, repetitions=1000)"
      ],
      "metadata": {
        "id": "o6J200DEVFH8",
        "colab": {
          "base_uri": "https://localhost:8080/"
        },
        "outputId": "04060274-bfe3-449d-cdb0-9b65d24f78f2"
      },
      "execution_count": null,
      "outputs": [
        {
          "output_type": "stream",
          "name": "stdout",
          "text": [
            "Simulate the circuit:\n",
            "measurements: (no measurements)\n",
            "\n",
            "qubits: (cirq.LineQubit(0), cirq.LineQubit(1))\n",
            "output vector: 0.707|00⟩ + 0.707|11⟩\n",
            "\n",
            "phase:\n",
            "output vector: |⟩\n"
          ]
        }
      ]
    },
    {
      "cell_type": "markdown",
      "source": [
        "**Virtual Machine Simulation**\n",
        "\n",
        "Cirq also provides the [Quantum Virtual Machine](https://quantumai.google/cirq/simulate/quantum_virtual_machine), which is a simulated virtual version of quantum hardware devices. It consists of two primary components:\n",
        "\n",
        "1. A virtual [Engine interface](https://quantumai.google/cirq/simulate/virtual_engine_interface) that enables you to verify and run circuits with the same interface that quantum hardware would have.\n",
        "\n",
        "2. A set of noise models that try to realistically replicate the noise present in actual Google quantum hardware devices.\n",
        "\n",
        "The QVM is intended to serve as a replacement for the Google quantum hardware, in two cases:\n",
        "\n",
        "1. Running your circuit on a QVM can give an approximation of how your circuit runs under the influence of hardware-like noise. This can be useful to help you reconfigure or change your circuit to be less impacted by noise when run on actual quantum hardware.\n",
        "\n",
        "2. During the preparation process before running your circuit(s) on hardware, you can seamlessly use a QVM to test that your workflow or pipeline works before eventually switching to the nearly-identical hardware interface.\n",
        "\n",
        "Read more about the QVM and its uses in the [Quantum Virtual Machine page](https://quantumai.google/cirq/simulate/quantum_virtual_machine), or just start using it with the [QVM Creation Template page](https://quantumai.google/cirq/simulate/qvm_builder_code)."
      ],
      "metadata": {
        "id": "xntRZ3evVTk6"
      }
    },
    {
      "cell_type": "markdown",
      "source": [
        "###### *Visualizing Results*"
      ],
      "metadata": {
        "id": "OvMIcvRyV20W"
      }
    },
    {
      "cell_type": "markdown",
      "source": [
        "When you use run() to get a sample distribution of measurements, you can directly graph the simulated samples as a histogram:\n",
        "\n"
      ],
      "metadata": {
        "id": "6lhklnbMV4qY"
      }
    },
    {
      "cell_type": "code",
      "source": [
        "cirq.vis.plot_state_histogram(samples, plt.subplot())\n",
        "plt.show()"
      ],
      "metadata": {
        "id": "z85ZHGkEXE05",
        "colab": {
          "base_uri": "https://localhost:8080/",
          "height": 493
        },
        "outputId": "6964f544-80ad-47cc-acfe-67d25185df24"
      },
      "execution_count": null,
      "outputs": [
        {
          "output_type": "display_data",
          "data": {
            "text/plain": [
              "<Figure size 640x480 with 1 Axes>"
            ],
            "image/png": "[encoded data removed]"
          },
          "metadata": {}
        }
      ]
    },
    {
      "cell_type": "markdown",
      "source": [
        "However, this histogram has some empty qubit states, which may become problematic if you work with more qubits. To graph sparse sampled data, first get the Counts from your results with its histogram() function, and pass that to cirq.plot_state_histogram. By collecting the results into counts, all the qubit states that were never seen are ignored."
      ],
      "metadata": {
        "id": "jLT3p8BFXCFS"
      }
    },
    {
      "cell_type": "code",
      "source": [
        "# Pull of histogram counts from the result data structure\n",
        "counts = samples.histogram(key='result')\n",
        "print(counts)"
      ],
      "metadata": {
        "id": "h38FCjQtWy9g",
        "colab": {
          "base_uri": "https://localhost:8080/"
        },
        "outputId": "29623329-7213-46e8-b4c8-e81613fc5dd2"
      },
      "execution_count": null,
      "outputs": [
        {
          "output_type": "stream",
          "name": "stdout",
          "text": [
            "Counter({0: 520, 3: 480})\n"
          ]
        }
      ]
    },
    {
      "cell_type": "code",
      "source": [
        "# Graph the histogram counts instead of the results\n",
        "cirq.vis.plot_state_histogram(counts, plt.subplot())\n",
        "plt.show()"
      ],
      "metadata": {
        "id": "1rlul2rFWsuS",
        "colab": {
          "base_uri": "https://localhost:8080/",
          "height": 493
        },
        "outputId": "fa5844ac-1616-474c-fa3b-a485888cff87"
      },
      "execution_count": null,
      "outputs": [
        {
          "output_type": "display_data",
          "data": {
            "text/plain": [
              "<Figure size 640x480 with 1 Axes>"
            ],
            "image/png": "[encoded data removed]"
          },
          "metadata": {}
        }
      ]
    },
    {
      "cell_type": "markdown",
      "source": [
        "A histogram over the states that were actually observed can often be more useful when analyzing results. To learn more about the available options for creating result histograms, see the [State Histograms](https://quantumai.google/cirq/simulate/state_histograms) page.\n",
        "\n"
      ],
      "metadata": {
        "id": "tzU1lPBfbSGw"
      }
    },
    {
      "cell_type": "code",
      "source": [
        "def binary_labels(num_qubits):\n",
        "    return [bin(x)[2:].zfill(num_qubits) for x in range(2 ** num_qubits)]\n",
        "\n",
        "q = cirq.LineQubit.range(3)\n",
        "circuit = cirq.Circuit([cirq.H.on_each(*q), cirq.measure(*q)])\n",
        "result = cirq.Simulator().run(circuit, repetitions=100)\n",
        "_ = cirq.vis.plot_state_histogram(result, plt.subplot(), title = 'My Quantum Experiment', xlabel = 'Custom X-Axis Label', ylabel = 'Custom Y-Axis Label', tick_label=binary_labels(3))\n",
        "plt.show()"
      ],
      "metadata": {
        "id": "K0BCE53pcEna",
        "colab": {
          "base_uri": "https://localhost:8080/",
          "height": 493
        },
        "outputId": "d462b50b-5432-45b7-cf23-28da70179b38"
      },
      "execution_count": null,
      "outputs": [
        {
          "output_type": "display_data",
          "data": {
            "text/plain": [
              "<Figure size 640x480 with 1 Axes>"
            ],
            "image/png": "[encoded data removed]"
          },
          "metadata": {}
        }
      ]
    },
    {
      "cell_type": "markdown",
      "source": [
        "###### *Using Parameter Sweeps*"
      ],
      "metadata": {
        "id": "87jR0g2Hc57n"
      }
    },
    {
      "cell_type": "markdown",
      "source": [
        "Cirq circuits allow for gates to have symbols as free parameters within the circuit. This is especially useful for variational algorithms, which vary parameters within the circuit in order to optimize a cost function, but it can be useful in a variety of circumstances.\n",
        "\n",
        "For parameters, Cirq uses the library sympy to add sympy.Symbol as parameters to gates and operations.\n",
        "\n",
        "Once the circuit is complete, you can fill in the possible values of each of these parameters with a Sweep. There are several possibilities that can be used as a sweep:\n",
        "\n",
        "* [**cirq.Points**](https://quantumai.google/reference/python/cirq/Points): A list of manually specified values for one specific symbol as a sequence of floats.\n",
        "* [**cirq.Linspace**](https://quantumai.google/reference/python/cirq/Linspace): A linear sweep from a starting value to an ending value.\n",
        "* [**cirq.ListSweep**](https://quantumai.google/reference/python/cirq/ListSweep): A list of manually specified values for several different symbols, specified as a list of dictionaries.\n",
        "* [**cirq.Zip**](https://quantumai.google/reference/python/cirq/Zip) and [**cirq.Product**](https://quantumai.google/reference/python/cirq/Product): Sweeps can be combined list-wise by zipping them together or through their Cartesian product.\n",
        "\n",
        "A parameterized circuit and sweep together can be run using the simulator or other sampler by changing run() to run_sweep() and adding the sweep as a parameter.\n",
        "\n",
        "Here is an example of sweeping an exponent of a X gate:"
      ],
      "metadata": {
        "id": "0YQnebsuc_DT"
      }
    },
    {
      "cell_type": "code",
      "source": [
        "# Perform an X gate with variable exponent\n",
        "q = cirq.GridQubit(1, 1)\n",
        "circuit = cirq.Circuit(cirq.X(q) ** sympy.Symbol('t'), cirq.measure(q, key='m'))\n",
        "\n",
        "# Sweep exponent from zero (off) to one (on) and back to two (off)\n",
        "param_sweep = cirq.Linspace('t', start=0, stop=2, length=200)\n",
        "\n",
        "# Simulate the sweep\n",
        "s = cirq.Simulator()\n",
        "trials = s.run_sweep(circuit, param_sweep, repetitions=1000)\n",
        "\n",
        "# Plot all the results\n",
        "x_data = [trial.params['t'] for trial in trials]\n",
        "y_data = [trial.histogram(key='m')[1] / 1000.0 for trial in trials]\n",
        "plt.scatter('t', 'p', data={'t': x_data, 'p': y_data})\n",
        "plt.xlabel(\"trials\")\n",
        "plt.ylabel(\"frequency of qubit measured to be one\")\n",
        "plt.show()"
      ],
      "metadata": {
        "id": "n7aCFGYXdVTe",
        "colab": {
          "base_uri": "https://localhost:8080/",
          "height": 470
        },
        "outputId": "2e1ff05a-5ed5-4a2c-c595-b7370b4d6550"
      },
      "execution_count": null,
      "outputs": [
        {
          "output_type": "display_data",
          "data": {
            "text/plain": [
              "<Figure size 640x480 with 1 Axes>"
            ],
            "image/png": "[encoded data removed]"
          },
          "metadata": {}
        }
      ]
    },
    {
      "cell_type": "markdown",
      "source": [
        "###### *Decompositions*"
      ],
      "metadata": {
        "id": "6nbSKxnqeNOY"
      }
    },
    {
      "cell_type": "markdown",
      "source": [
        "Many gates can be decomposed into an equivalent circuit with simpler operations and gates. This is called decomposition and can be accomplished with the [cirq.decompose](https://quantumai.google/reference/python/cirq/decompose) protocol.\n",
        "\n",
        "For instance, a Hadamard H gate can be decomposed into X and Y gates:"
      ],
      "metadata": {
        "id": "vrB_xyUReRU5"
      }
    },
    {
      "cell_type": "code",
      "source": [
        "print(cirq.decompose(cirq.H(cirq.LineQubit(0))))"
      ],
      "metadata": {
        "id": "lUHHiGakeV2S",
        "colab": {
          "base_uri": "https://localhost:8080/"
        },
        "outputId": "22f9b7a2-aef5-4989-b14c-4fa05f358e5a"
      },
      "execution_count": null,
      "outputs": [
        {
          "output_type": "stream",
          "name": "stdout",
          "text": [
            "[(cirq.Y**0.5).on(cirq.LineQubit(0)), cirq.XPowGate(global_shift=-0.25).on(cirq.LineQubit(0))]\n"
          ]
        }
      ]
    },
    {
      "cell_type": "markdown",
      "source": [
        "Another example is the 3-qubit Toffoli gate, which is equivalent to a controlled-controlled-X gate. Many devices do not support three qubit gates, so it is important to decompose them into one and two qubit gates."
      ],
      "metadata": {
        "id": "FGj_webgeYT5"
      }
    },
    {
      "cell_type": "code",
      "source": [
        "q0, q1, q2 = cirq.LineQubit.range(3)\n",
        "print(cirq.Circuit(cirq.decompose(cirq.TOFFOLI(q0, q1, q2))))"
      ],
      "metadata": {
        "id": "hrQsjTfveaEt",
        "colab": {
          "base_uri": "https://localhost:8080/"
        },
        "outputId": "7a72de27-ed1f-44ca-8b51-3ee8f2597271"
      },
      "execution_count": null,
      "outputs": [
        {
          "output_type": "stream",
          "name": "stdout",
          "text": [
            "0: ───T────────────────@─────────────────────────────────@─────────────────────────────@────────────────────────────@───────────────────────────────────────\n",
            "                       │                                 │                             │                            │\n",
            "1: ───T───────Y^-0.5───@───Y^0.5────@───T^-1────Y^-0.5───@────────Y^0.5───@───Y^-0.5───@──────Y^0.5────@───Y^-0.5───@──────Y^0.5────@───────────────────────\n",
            "                                    │                                     │                            │                            │\n",
            "2: ───Y^0.5───X────────T───Y^-0.5───@───Y^0.5───T────────Y^-0.5───────────@───Y^0.5────T^-1───Y^-0.5───@───Y^0.5────T^-1───Y^-0.5───@───Y^0.5───Y^0.5───X───\n"
          ]
        }
      ]
    },
    {
      "cell_type": "markdown",
      "source": [
        "The above decomposes the Toffoli into a simpler set of one-qubit gates and two-qubit CZ gates at the cost of lengthening the circuit considerably.\n",
        "\n"
      ],
      "metadata": {
        "id": "JknFGQUCedo5"
      }
    },
    {
      "cell_type": "markdown",
      "source": [
        "###### *Example: Quantum Fourier Transform*"
      ],
      "metadata": {
        "id": "zHsuCH4RKwnu"
      }
    },
    {
      "cell_type": "markdown",
      "source": [
        "* <font color=\"blue\">$e^{2\\pi i}$ = 1</font> (identity operation), and see why $e^{\\pi i}$ = -1\n",
        "\n",
        "* In QFT we change the <font color=\"blue\">$\\theta$ = phase in $e^{2\\pi i \\theta}$</font> = Eigenvalue of Oracle function $U$ associated with an eigenvector |u⟩\n",
        "\n",
        "* The phase $\\theta$ is expressed as: <font color=\"blue\">$\\theta$ = $\\frac{x_n}{2^{k_n}}$</font> with:\n",
        "\n",
        "  * <font color=\"blue\">$x_n$ = 0 or 1</font> state\n",
        "  \n",
        "  * <font color=\"blue\">$k_n$</font> number of Qubits\n",
        "\n",
        "* This is expressed in a so-called \"controlled-R quantum gate\" that **applies a relative phase change to |1>**\n",
        "\n",
        "* The matrix form of this operator is: <font color=\"blue\">$\\hat{R}_{k}=\\left(\\begin{array}{cc}1 & 0 \\\\ 0 & e^{2 \\pi i \\frac{x_n}{ 2^{k_n}}}\\end{array}\\right)$</font>"
      ],
      "metadata": {
        "id": "ZO1Ppm1DPLqA"
      }
    },
    {
      "cell_type": "markdown",
      "source": [
        "**Circuit Construction**\n",
        "\n",
        "*Compare the equations above with the circuit activations below (how a circuits computes the results). For example for the first qubit the operator / gate $S$ = 90° rotation is only activated if the second qubit $x_2$ is in state 1. Here it is not activated because $x_2$ = 0:*\n",
        "\n",
        "![ggg](https://raw.githubusercontent.com/deltorobarba/repo/master/sciences_0812.png)"
      ],
      "metadata": {
        "id": "crkXPurVPh3L"
      }
    },
    {
      "cell_type": "markdown",
      "source": [
        "*Quantum Fourier Transform with 3 Qubits for $|001\\rangle$*\n",
        "\n",
        "**Computational Basis in $|001\\rangle$**\n",
        "\n",
        "![ggg](https://raw.githubusercontent.com/deltorobarba/repo/master/sciences_0804.png)\n",
        "\n",
        "**Fourier Basis for $|001\\rangle$**\n",
        "\n",
        "![ggg](https://raw.githubusercontent.com/deltorobarba/repo/master/sciences_0805.png)\n",
        "\n",
        "**Computational States:** <font color=\"blue\">$\\tilde{x_1}$ = 0</font>, <font color=\"blue\">$\\tilde{x_2}$ = 0</font>, <font color=\"blue\">$\\tilde{x_3}$ = 1</font>. Number of Qubits: <font color=\"blue\">$k_1$ = 1 qubit, $k_2$ = 2 qubits, $k_3$ = 3 qubits</font>\n",
        "\n",
        "> <font color=\"blue\">Qubit 1 = $\\tilde{x_1}$</font> = $\\frac{1}{\\sqrt{2}}\\left(|0\\rangle+\\mathrm{e}^{2 \\pi \\mathrm{i}\\left(\\frac{\\mathrm{x}_{1}}{2^{k_1}}+\\frac{x_{2}}{2^{k_2}}+\\frac{x_{3}}{2^{k_3}}\\right)}|1\\rangle\\right)$ = $\\frac{1}{\\sqrt{2}}\\left(|0\\rangle+\\mathrm{e}^{2 \\pi \\mathrm{i}\\left(\\frac{0}{2}+\\frac{0}{4}+\\frac{1}{8}\\right)}|1\\rangle\\right)$  = <font color=\"blue\">$\\frac{\\pi i}{4}$</font> (45° T-rotation)\n",
        "\n",
        "> <font color=\"blue\">Qubit 2 = $\\tilde{x_2}$</font> = $\\frac{1}{\\sqrt{2}}\\left(|0\\rangle+\\mathrm{e}^{2 \\pi \\mathrm{i}\\left(\\frac{\\mathrm{x}_{2}}{2^{k_1}}+\\frac{x_{3}}{2^{k_2}}\\right)}|1\\rangle\\right)$ = $\\frac{1}{\\sqrt{2}}\\left(|0\\rangle+\\mathrm{e}^{2 \\pi \\mathrm{i}\\left(\\frac{0}{2}+\\frac{1}{4}\\right)}|1\\rangle\\right)$ = <font color=\"blue\">$\\frac{\\pi i}{2}$</font> (90° S-rotation)\n",
        "\n",
        "> <font color=\"blue\">Qubit 3 = $\\tilde{x_3}$</font> = $\\frac{1}{\\sqrt{2}}\\left(|0\\rangle+\\mathrm{e}^{2 \\pi \\mathrm{i}\\left(\\frac{\\mathrm{x}_{3}}{2^{k_1}}\\right)}|1\\rangle\\right)$ = $\\frac{1}{\\sqrt{2}}\\left(|0\\rangle+\\mathrm{e}^{2 \\pi \\mathrm{i} \\frac{1}{2}}|1\\rangle\\right)$ = $e^{\\pi i 1} =$ <font color=\"blue\">$-1$</font> (180° Z-rotation)"
      ],
      "metadata": {
        "id": "6cEcptE0PflN"
      }
    },
    {
      "cell_type": "markdown",
      "source": [
        "*Example: Quantum Fourier Transform with 3 Qubits: Introduction*\n",
        "\n",
        "**Computational Basis States:** <font color=\"blue\">$\\tilde{x_1}$ = 0 or 1</font>, <font color=\"blue\">$\\tilde{x_2}$ = 0 or 1</font>, <font color=\"blue\">$\\tilde{x_3}$ = 0 or 1</font>. Number of Qubits: <font color=\"blue\">$k_1$ = 1, $k_2$ = 2, $k_3$ = 3</font>\n",
        "\n",
        "> <font color=\"blue\">$\\tilde{x_1}$ = $\\frac{1}{\\sqrt{2}}\\left(|0\\rangle+\\mathrm{e}^{2 \\pi \\mathrm{i}\\left(\\frac{\\mathrm{x}_{1}}{2^{k_1}}+\\frac{x_{2}}{2^{k_2}}+\\frac{x_{3}}{2^{k_3}}\\right)}|1\\rangle\\right)$</font> = $\\frac{1}{\\sqrt{2}}\\left(|0\\rangle+\\mathrm{e}^{2 \\pi \\mathrm{i}\\left(\\frac{\\mathrm{x}_{1}}{2^1}+\\frac{x_{2}}{2^2}+\\frac{x_{3}}{2^3}\\right)}|1\\rangle\\right)$  = $\\frac{1}{\\sqrt{2}}\\left(|0\\rangle+\\mathrm{e}^{2 \\pi \\mathrm{i}\\left(\\frac{\\mathrm{x}_{1}}{2}+\\frac{x_{2}}{4}+\\frac{x_{3}}{8}\\right)}|1\\rangle\\right)$\n",
        "\n",
        "* If only $\\tilde{x_1}$ is activated, then it is a 180° Z-rotation of $\\pi$ radians = -1\n",
        "\n",
        "* If only $\\tilde{x_2}$ is activated, then it is a 90° S-rotation of $\\frac{\\pi}{2}$ radians = i\n",
        "\n",
        "* If only $\\tilde{x_3}$ is activated, then it is a 45° T-rotation of $\\frac{\\pi}{4}$ radians = between 1 and i\n",
        "\n",
        "> <font color=\"blue\">$\\tilde{x_2}$ = $\\frac{1}{\\sqrt{2}}\\left(|0\\rangle+\\mathrm{e}^{2 \\pi \\mathrm{i}\\left(\\frac{x_2}{2^{k_1}}+\\frac{x_3}{2^{k_2}}\\right)}|1\\rangle\\right)$</font> = $\\frac{1}{\\sqrt{2}}\\left(|0\\rangle+\\mathrm{e}^{2 \\pi \\mathrm{i}\\left(\\frac{x_2}{2^1}+\\frac{x_3}{2^2}\\right)}|1\\rangle\\right)$ = $\\frac{1}{\\sqrt{2}}\\left(|0\\rangle+\\mathrm{e}^{2 \\pi \\mathrm{i}\\left(\\frac{x_2}{2}+\\frac{x_3}{4}\\right)}|1\\rangle\\right)$\n",
        "\n",
        "* If only $\\tilde{x_2}$ is activated, then it is a 180° Z-rotation of $\\pi$ radians = -1\n",
        "\n",
        "* If only $\\tilde{x_3}$ is activated, then it is a 90° S-rotation of $\\frac{\\pi}{2}$ radians = i\n",
        "\n",
        "* If both $\\tilde{x_2}$ and $\\tilde{x_3}$ are activated, then it is a 180° + 90° = 170° rotation of $\\pi + \\frac{\\pi}{2}$ radians = -i\n",
        "\n",
        "> <font color=\"blue\">$\\tilde{x_3}$ = $\\frac{1}{\\sqrt{2}}\\left(|0\\rangle+\\mathrm{e}^{2 \\pi \\mathrm{i}\\left(\\frac{x_3}{2^{k_1}}\\right)}|1\\rangle\\right)$</font> = $\\frac{1}{\\sqrt{2}}\\left(|0\\rangle+\\mathrm{e}^{2 \\pi \\mathrm{i}\\left(\\frac{x_3}{2^1}\\right)}|1\\rangle\\right)$ = $\\frac{1}{\\sqrt{2}}\\left(|0\\rangle+\\mathrm{e}^{\\pi \\mathrm{i}x_3}|1\\rangle\\right)$\n",
        "\n",
        "* If $\\tilde{x_3}$ is activated, then it is a 180° Z-rotation of $\\pi$ radians = -1\n"
      ],
      "metadata": {
        "id": "l_mnj_byPPRj"
      }
    },
    {
      "cell_type": "code",
      "source": [
        "def make_qft(qubits):\n",
        "\n",
        "    # Generate list of qubits\n",
        "    qreg = list(qubits)\n",
        "\n",
        "    # Make sure list is longer than 0 qubits:\n",
        "    while len(qreg) > 0:\n",
        "\n",
        "    # Remove first qubit from list and return its value (set as head-qubit):\n",
        "        q_head = qreg.pop(0)\n",
        "\n",
        "    # Apply Hadamard superposition to this head-qubit\n",
        "        yield cirq.H(q_head)\n",
        "\n",
        "    # Enumerate through list with i (index position) and corresponding qubit value (0 or 1)\n",
        "        for i, qubit in enumerate(qreg):\n",
        "\n",
        "    # Apply Controlled-Z * Theta-Phase-Shift on target ('q-head') if control-qubit ('qubit') is in state 1\n",
        "            yield (cirq.CZ ** (1 / 2 ** (i + 1)))(qubit, q_head)\n",
        "\n",
        "    # Iterating through until \"while len(qreg) = 0\", then processes stops\n",
        "\n",
        "\"\"\"Visually check the QFT circuit.\"\"\"\n",
        "qubits = cirq.LineQubit.range(17)\n",
        "qft = cirq.Circuit(make_qft(qubits))\n",
        "print(qft)"
      ],
      "metadata": {
        "id": "-vgG0wEgK0ef",
        "colab": {
          "base_uri": "https://localhost:8080/"
        },
        "outputId": "bd0568f7-941d-40aa-9936-ebdda78145fc"
      },
      "execution_count": null,
      "outputs": [
        {
          "output_type": "stream",
          "name": "stdout",
          "text": [
            "                   ┌───────┐   ┌────────────┐   ┌───────────────┐   ┌───────────────────┐   ┌──────────────────────┐   ┌──────────────────────────┐   ┌─────────────────────────────┐   ┌─────────────────────────────────┐   ┌────────────────────────────────────┐   ┌────────────────────────────────────┐   ┌───────────────────────────────────────┐   ┌───────────────────────────────────────┐   ┌──────────────────────────────────────────┐   ┌──────────────────────────────────────────┐   ┌─────────────────────────────────────────────┐   ┌──────────────────────────────────────────┐   ┌──────────────────────────────────────────┐   ┌───────────────────────────────────────┐   ┌───────────────────────────────────────┐   ┌────────────────────────────────────┐   ┌────────────────────────────────────┐   ┌─────────────────────────────────┐   ┌─────────────────────────────┐   ┌──────────────────────────┐   ┌──────────────────────┐   ┌───────────────────┐   ┌───────────────┐   ┌────────────┐   ┌───────┐\n",
            "0: ────H───@────────@───────────@────────────────@───────────────────@───────────────────────@──────────────────────────@──────────────────────────────@─────────────────────────────────@─────────────────────────────────────@────────────────────────────────────────@────────────────────────────────────────@───────────────────────────────────────────@───────────────────────────────────────────@──────────────────────────────────────────────@──────────────────────────────────────────────@───────────────────────────────────────────────────────────────────────────────────────────────────────────────────────────────────────────────────────────────────────────────────────────────────────────────────────────────────────────────────────────────────────────────────────────────────────────────────────────────────────────────────────────────────────────────────────────────────────────────────────────────────────────────────────────────────────────────────────────────────────────────────────────────────────────────\n",
            "           │        │           │                │                   │                       │                          │                              │                                 │                                     │                                        │                                        │                                           │                                           │                                              │                                              │\n",
            "1: ────────@^0.5────┼─────H─────┼──────@─────────┼───────@───────────┼──────@────────────────┼──────@───────────────────┼──────@───────────────────────┼──────@──────────────────────────┼──────@──────────────────────────────┼──────@─────────────────────────────────┼──@─────────────────────────────────────┼──@────────────────────────────────────────┼──@────────────────────────────────────────┼──@───────────────────────────────────────────┼──@───────────────────────────────────────────┼──@──────────────────────────────────────────────@─────────────────────────────────────────────────────────────────────────────────────────────────────────────────────────────────────────────────────────────────────────────────────────────────────────────────────────────────────────────────────────────────────────────────────────────────────────────────────────────────────────────────────────────────────────────────────────────────────────────────────────────────────────────────────────────────────────────────────────────\n",
            "                    │           │      │         │       │           │      │                │      │                   │      │                       │      │                          │      │                              │      │                                 │  │                                     │  │                                        │  │                                        │  │                                           │  │                                           │  │                                              │\n",
            "2: ─────────────────@^0.25──────┼──────@^0.5─────┼───────┼─────H─────┼──────┼──────@─────────┼──────┼───────@───────────┼──────┼──────@────────────────┼──────┼──────@───────────────────┼──────┼──────@───────────────────────┼──────┼──────@──────────────────────────┼──┼──────@──────────────────────────────┼──┼──────@─────────────────────────────────┼──┼──@─────────────────────────────────────┼──┼──@────────────────────────────────────────┼──┼──@────────────────────────────────────────┼──┼──@───────────────────────────────────────────┼──@───────────────────────────────────────────@──────────────────────────────────────────────────────────────────────────────────────────────────────────────────────────────────────────────────────────────────────────────────────────────────────────────────────────────────────────────────────────────────────────────────────────────────────────────────────────────────────────────────────────────────────────────────────────────────────────────────────────────────────────────\n",
            "                                │                │       │           │      │      │         │      │       │           │      │      │                │      │      │                   │      │      │                       │      │      │                          │  │      │                              │  │      │                                 │  │  │                                     │  │  │                                        │  │  │                                        │  │  │                                           │  │                                           │\n",
            "3: ─────────────────────────────@^(1/8)──────────┼───────@^0.25──────┼──────┼──────@^0.5─────┼──────┼───────┼─────H─────┼──────┼──────┼──────@─────────┼──────┼──────┼───────@───────────┼──────┼──────┼──────@────────────────┼──────┼──────┼──────@───────────────────┼──┼──────┼──────@───────────────────────┼──┼──────┼──────@──────────────────────────┼──┼──┼──────@──────────────────────────────┼──┼──┼──────@─────────────────────────────────┼──┼──┼──@─────────────────────────────────────┼──┼──┼──@────────────────────────────────────────┼──┼──@────────────────────────────────────────┼──@───────────────────────────────────────────@───────────────────────────────────────────────────────────────────────────────────────────────────────────────────────────────────────────────────────────────────────────────────────────────────────────────────────────────────────────────────────────────────────────────────────────────────────────────────────────────────────────────────────────────────────────────────────────────\n",
            "                                                 │                   │      │                │      │       │           │      │      │      │         │      │      │       │           │      │      │      │                │      │      │      │                   │  │      │      │                       │  │      │      │                          │  │  │      │                              │  │  │      │                                 │  │  │  │                                     │  │  │  │                                        │  │  │                                        │  │                                           │\n",
            "4: ──────────────────────────────────────────────@^(1/16)────────────┼──────@^(1/8)──────────┼──────┼───────@^0.25──────┼──────┼──────┼──────@^0.5─────┼──────┼──────┼───────┼─────H─────┼──────┼──────┼──────┼──────@─────────┼──────┼──────┼──────┼───────@───────────┼──┼──────┼──────┼──────@────────────────┼──┼──────┼──────┼──────@───────────────────┼──┼──┼──────┼──────@───────────────────────┼──┼──┼──────┼──────@──────────────────────────┼──┼──┼──┼──────@──────────────────────────────┼──┼──┼──┼──────@─────────────────────────────────┼──┼──┼──@─────────────────────────────────────┼──┼──@────────────────────────────────────────┼──@────────────────────────────────────────@───────────────────────────────────────────────────────────────────────────────────────────────────────────────────────────────────────────────────────────────────────────────────────────────────────────────────────────────────────────────────────────────────────────────────────────────────────────────────────────────────────────────────\n",
            "                                                                     │                       │      │                   │      │      │                │      │      │       │           │      │      │      │      │         │      │      │      │       │           │  │      │      │      │                │  │      │      │      │                   │  │  │      │      │                       │  │  │      │      │                          │  │  │  │      │                              │  │  │  │      │                                 │  │  │  │                                     │  │  │                                        │  │                                        │\n",
            "5: ──────────────────────────────────────────────────────────────────@^0.031─────────────────┼──────@^(1/16)────────────┼──────┼──────@^(1/8)──────────┼──────┼──────┼───────@^0.25──────┼──────┼──────┼──────┼──────@^0.5─────┼──────┼──────┼──────┼───────┼─────H─────┼──┼──────┼──────┼──────┼──────@─────────┼──┼──────┼──────┼──────┼───────@───────────┼──┼──┼──────┼──────┼──────@────────────────┼──┼──┼──────┼──────┼──────@───────────────────┼──┼──┼──┼──────┼──────@───────────────────────┼──┼──┼──┼──────┼──────@──────────────────────────┼──┼──┼──┼──────@──────────────────────────────┼──┼──┼──────@─────────────────────────────────┼──┼──@─────────────────────────────────────┼──@────────────────────────────────────────@───────────────────────────────────────────────────────────────────────────────────────────────────────────────────────────────────────────────────────────────────────────────────────────────────────────────────────────────────────────────────────────────────────────────────────────────────────\n",
            "                                                                                             │                          │      │                       │      │      │                   │      │      │      │                │      │      │      │       │           │  │      │      │      │      │         │  │      │      │      │       │           │  │  │      │      │      │                │  │  │      │      │      │                   │  │  │  │      │      │                       │  │  │  │      │      │                          │  │  │  │      │                              │  │  │      │                                 │  │  │                                     │  │                                        │\n",
            "6: ──────────────────────────────────────────────────────────────────────────────────────────@^0.016────────────────────┼──────@^0.031─────────────────┼──────┼──────@^(1/16)────────────┼──────┼──────┼──────@^(1/8)──────────┼──────┼──────┼──────┼───────@^0.25──────┼──┼──────┼──────┼──────┼──────@^0.5─────┼──┼──────┼──────┼──────┼───────┼─────H─────┼──┼──┼──────┼──────┼──────┼──────@─────────┼──┼──┼──────┼──────┼──────┼───────@───────────┼──┼──┼──┼──────┼──────┼──────@────────────────┼──┼──┼──┼──────┼──────┼──────@───────────────────┼──┼──┼──┼──────┼──────@───────────────────────┼──┼──┼──────┼──────@──────────────────────────┼──┼──┼──────@──────────────────────────────┼──┼──────@─────────────────────────────────┼──@─────────────────────────────────────@──────────────────────────────────────────────────────────────────────────────────────────────────────────────────────────────────────────────────────────────────────────────────────────────────────────────────────────────────────────────────────────────\n",
            "                                                                                                                        │                              │      │                          │      │      │                       │      │      │      │                   │  │      │      │      │                │  │      │      │      │       │           │  │  │      │      │      │      │         │  │  │      │      │      │       │           │  │  │  │      │      │      │                │  │  │  │      │      │      │                   │  │  │  │      │      │                       │  │  │      │      │                          │  │  │      │                              │  │      │                                 │  │                                     │\n",
            "7: ─────────────────────────────────────────────────────────────────────────────────────────────────────────────────────@^0.008────────────────────────┼──────@^0.016────────────────────┼──────┼──────@^0.031─────────────────┼──────┼──────┼──────@^(1/16)────────────┼──┼──────┼──────┼──────@^(1/8)──────────┼──┼──────┼──────┼──────┼───────@^0.25──────┼──┼──┼──────┼──────┼──────┼──────@^0.5─────┼──┼──┼──────┼──────┼──────┼───────┼─────H─────┼──┼──┼──┼──────┼──────┼──────┼──────@─────────┼──┼──┼──┼──────┼──────┼──────┼───────@───────────┼──┼──┼──┼──────┼──────┼──────@────────────────┼──┼──┼──────┼──────┼──────@───────────────────┼──┼──┼──────┼──────@───────────────────────┼──┼──────┼──────@──────────────────────────┼──┼──────@──────────────────────────────┼──────@─────────────────────────────────@─────────────────────────────────────────────────────────────────────────────────────────────────────────────────────────────────────────────────────────────────────────────────────────────────────────────────────\n",
            "                                                                                                                                                       │                                 │      │                              │      │      │                          │  │      │      │                       │  │      │      │      │                   │  │  │      │      │      │                │  │  │      │      │      │       │           │  │  │  │      │      │      │      │         │  │  │  │      │      │      │       │           │  │  │  │      │      │      │                │  │  │      │      │      │                   │  │  │      │      │                       │  │      │      │                          │  │      │                              │      │                                 │\n",
            "8: ────────────────────────────────────────────────────────────────────────────────────────────────────────────────────────────────────────────────────@^0.004───────────────────────────┼──────@^0.008────────────────────────┼──────┼──────@^0.016────────────────────┼──┼──────┼──────@^0.031─────────────────┼──┼──────┼──────┼──────@^(1/16)────────────┼──┼──┼──────┼──────┼──────@^(1/8)──────────┼──┼──┼──────┼──────┼──────┼───────@^0.25──────┼──┼──┼──┼──────┼──────┼──────┼──────@^0.5─────┼──┼──┼──┼──────┼──────┼──────┼───────┼─────H─────┼──┼──┼──┼──────┼──────┼──────┼──────@─────────┼──┼──┼──────┼──────┼──────┼───────@───────────┼──┼──┼──────┼──────┼──────@────────────────┼──┼──────┼──────┼──────@───────────────────┼──┼──────┼──────@───────────────────────┼──────┼──────@──────────────────────────┼──────@──────────────────────────────@───────────────────────────────────────────────────────────────────────────────────────────────────────────────────────────────────────────────────────────────────────────────\n",
            "                                                                                                                                                                                         │                                     │      │                                 │  │      │                              │  │      │      │                          │  │  │      │      │                       │  │  │      │      │      │                   │  │  │  │      │      │      │                │  │  │  │      │      │      │       │           │  │  │  │      │      │      │      │         │  │  │      │      │      │       │           │  │  │      │      │      │                │  │      │      │      │                   │  │      │      │                       │      │      │                          │      │                              │\n",
            "9: ──────────────────────────────────────────────────────────────────────────────────────────────────────────────────────────────────────────────────────────────────────────────────────@^0.002───────────────────────────────┼──────@^0.004───────────────────────────┼──┼──────@^0.008────────────────────────┼──┼──────┼──────@^0.016────────────────────┼──┼──┼──────┼──────@^0.031─────────────────┼──┼──┼──────┼──────┼──────@^(1/16)────────────┼──┼──┼──┼──────┼──────┼──────@^(1/8)──────────┼──┼──┼──┼──────┼──────┼──────┼───────@^0.25──────┼──┼──┼──┼──────┼──────┼──────┼──────@^0.5─────┼──┼──┼──────┼──────┼──────┼───────┼─────H─────┼──┼──┼──────┼──────┼──────┼──────@─────────┼──┼──────┼──────┼──────┼───────@───────────┼──┼──────┼──────┼──────@────────────────┼──────┼──────┼──────@───────────────────┼──────┼──────@───────────────────────┼──────@──────────────────────────@─────────────────────────────────────────────────────────────────────────────────────────────────────────────────────────────────────────────\n",
            "                                                                                                                                                                                                                               │                                        │  │                                     │  │      │                                 │  │  │      │                              │  │  │      │      │                          │  │  │  │      │      │                       │  │  │  │      │      │      │                   │  │  │  │      │      │      │                │  │  │      │      │      │       │           │  │  │      │      │      │      │         │  │      │      │      │       │           │  │      │      │      │                │      │      │      │                   │      │      │                       │      │                          │\n",
            "10: ───────────────────────────────────────────────────────────────────────────────────────────────────────────────────────────────────────────────────────────────────────────────────────────────────────────────────────────@^0.001──────────────────────────────────┼──@^0.002───────────────────────────────┼──┼──────@^0.004───────────────────────────┼──┼──┼──────@^0.008────────────────────────┼──┼──┼──────┼──────@^0.016────────────────────┼──┼──┼──┼──────┼──────@^0.031─────────────────┼──┼──┼──┼──────┼──────┼──────@^(1/16)────────────┼──┼──┼──┼──────┼──────┼──────@^(1/8)──────────┼──┼──┼──────┼──────┼──────┼───────@^0.25──────┼──┼──┼──────┼──────┼──────┼──────@^0.5─────┼──┼──────┼──────┼──────┼───────┼─────H─────┼──┼──────┼──────┼──────┼──────@─────────┼──────┼──────┼──────┼───────@───────────┼──────┼──────┼──────@────────────────┼──────┼──────@───────────────────┼──────@───────────────────────@──────────────────────────────────────────────────────────────────────────────────────────────────────────────\n",
            "                                                                                                                                                                                                                                                                        │                                        │  │                                        │  │  │                                     │  │  │      │                                 │  │  │  │      │                              │  │  │  │      │      │                          │  │  │  │      │      │                       │  │  │      │      │      │                   │  │  │      │      │      │                │  │      │      │      │       │           │  │      │      │      │      │         │      │      │      │       │           │      │      │      │                │      │      │                   │      │                       │\n",
            "11: ────────────────────────────────────────────────────────────────────────────────────────────────────────────────────────────────────────────────────────────────────────────────────────────────────────────────────────────────────────────────────────────────────@^0──────────────────────────────────────┼──@^0.001──────────────────────────────────┼──┼──@^0.002───────────────────────────────┼──┼──┼──────@^0.004───────────────────────────┼──┼──┼──┼──────@^0.008────────────────────────┼──┼──┼──┼──────┼──────@^0.016────────────────────┼──┼──┼──┼──────┼──────@^0.031─────────────────┼──┼──┼──────┼──────┼──────@^(1/16)────────────┼──┼──┼──────┼──────┼──────@^(1/8)──────────┼──┼──────┼──────┼──────┼───────@^0.25──────┼──┼──────┼──────┼──────┼──────@^0.5─────┼──────┼──────┼──────┼───────┼─────H─────┼──────┼──────┼──────┼──────@─────────┼──────┼──────┼───────@───────────┼──────┼──────@────────────────┼──────@───────────────────@───────────────────────────────────────────────────────────────────────────────────\n",
            "                                                                                                                                                                                                                                                                                                                 │                                           │  │                                        │  │  │                                        │  │  │  │                                     │  │  │  │      │                                 │  │  │  │      │                              │  │  │      │      │                          │  │  │      │      │                       │  │      │      │      │                   │  │      │      │      │                │      │      │      │       │           │      │      │      │      │         │      │      │       │           │      │      │                │      │                   │\n",
            "12: ─────────────────────────────────────────────────────────────────────────────────────────────────────────────────────────────────────────────────────────────────────────────────────────────────────────────────────────────────────────────────────────────────────────────────────────────────────────────@^0─────────────────────────────────────────┼──@^0──────────────────────────────────────┼──┼──@^0.001──────────────────────────────────┼──┼──┼──@^0.002───────────────────────────────┼──┼──┼──┼──────@^0.004───────────────────────────┼──┼──┼──┼──────@^0.008────────────────────────┼──┼──┼──────┼──────@^0.016────────────────────┼──┼──┼──────┼──────@^0.031─────────────────┼──┼──────┼──────┼──────@^(1/16)────────────┼──┼──────┼──────┼──────@^(1/8)──────────┼──────┼──────┼──────┼───────@^0.25──────┼──────┼──────┼──────┼──────@^0.5─────┼──────┼──────┼───────┼─────H─────┼──────┼──────┼──────@─────────┼──────┼───────@───────────┼──────@────────────────@───────────────────────────────────────────────────────────\n",
            "                                                                                                                                                                                                                                                                                                                                                             │                                           │  │                                           │  │  │                                        │  │  │  │                                        │  │  │  │                                     │  │  │      │                                 │  │  │      │                              │  │      │      │                          │  │      │      │                       │      │      │      │                   │      │      │      │                │      │      │       │           │      │      │      │         │      │       │           │      │                │\n",
            "13: ─────────────────────────────────────────────────────────────────────────────────────────────────────────────────────────────────────────────────────────────────────────────────────────────────────────────────────────────────────────────────────────────────────────────────────────────────────────────────────────────────────────────────────────@^0─────────────────────────────────────────┼──@^0─────────────────────────────────────────┼──┼──@^0──────────────────────────────────────┼──┼──┼──@^0.001──────────────────────────────────┼──┼──┼──@^0.002───────────────────────────────┼──┼──┼──────@^0.004───────────────────────────┼──┼──┼──────@^0.008────────────────────────┼──┼──────┼──────@^0.016────────────────────┼──┼──────┼──────@^0.031─────────────────┼──────┼──────┼──────@^(1/16)────────────┼──────┼──────┼──────@^(1/8)──────────┼──────┼──────┼───────@^0.25──────┼──────┼──────┼──────@^0.5─────┼──────┼───────┼─────H─────┼──────┼──────@─────────┼───────@───────────@───────────────────────────────────────\n",
            "                                                                                                                                                                                                                                                                                                                                                                                                         │                                              │  │                                           │  │  │                                           │  │  │                                        │  │  │                                        │  │  │                                     │  │      │                                 │  │      │                              │      │      │                          │      │      │                       │      │      │                   │      │      │                │      │       │           │      │      │         │       │           │\n",
            "14: ─────────────────────────────────────────────────────────────────────────────────────────────────────────────────────────────────────────────────────────────────────────────────────────────────────────────────────────────────────────────────────────────────────────────────────────────────────────────────────────────────────────────────────────────────────────────────────────────────────@^0────────────────────────────────────────────┼──@^0─────────────────────────────────────────┼──┼──@^0─────────────────────────────────────────┼──┼──@^0──────────────────────────────────────┼──┼──@^0.001──────────────────────────────────┼──┼──@^0.002───────────────────────────────┼──┼──────@^0.004───────────────────────────┼──┼──────@^0.008────────────────────────┼──────┼──────@^0.016────────────────────┼──────┼──────@^0.031─────────────────┼──────┼──────@^(1/16)────────────┼──────┼──────@^(1/8)──────────┼──────┼───────@^0.25──────┼──────┼──────@^0.5─────┼───────┼─────H─────┼──────@─────────@──────────────────────\n",
            "                                                                                                                                                                                                                                                                                                                                                                                                                                                        │                                              │  │                                              │  │                                           │  │                                           │  │                                        │  │                                        │  │                                     │      │                                 │      │                              │      │                          │      │                       │      │                   │      │                │       │           │      │         │\n",
            "15: ────────────────────────────────────────────────────────────────────────────────────────────────────────────────────────────────────────────────────────────────────────────────────────────────────────────────────────────────────────────────────────────────────────────────────────────────────────────────────────────────────────────────────────────────────────────────────────────────────────────────────────────────────────────────────@^0────────────────────────────────────────────┼──@^0────────────────────────────────────────────┼──@^0─────────────────────────────────────────┼──@^0─────────────────────────────────────────┼──@^0──────────────────────────────────────┼──@^0.001──────────────────────────────────┼──@^0.002───────────────────────────────┼──────@^0.004───────────────────────────┼──────@^0.008────────────────────────┼──────@^0.016────────────────────┼──────@^0.031─────────────────┼──────@^(1/16)────────────┼──────@^(1/8)──────────┼───────@^0.25──────┼──────@^0.5─────┼─────H────@───────────\n",
            "                                                                                                                                                                                                                                                                                                                                                                                                                                                                                                       │                                                 │                                              │                                              │                                           │                                           │                                        │                                        │                                     │                                 │                              │                          │                       │                   │                │          │\n",
            "16: ───────────────────────────────────────────────────────────────────────────────────────────────────────────────────────────────────────────────────────────────────────────────────────────────────────────────────────────────────────────────────────────────────────────────────────────────────────────────────────────────────────────────────────────────────────────────────────────────────────────────────────────────────────────────────────────────────────────────────────────────────@^0───────────────────────────────────────────────@^0────────────────────────────────────────────@^0────────────────────────────────────────────@^0─────────────────────────────────────────@^0─────────────────────────────────────────@^0──────────────────────────────────────@^0.001──────────────────────────────────@^0.002───────────────────────────────@^0.004───────────────────────────@^0.008────────────────────────@^0.016────────────────────@^0.031─────────────────@^(1/16)────────────@^(1/8)──────────@^0.25─────@^0.5───H───\n",
            "                   └───────┘   └────────────┘   └───────────────┘   └───────────────────┘   └──────────────────────┘   └──────────────────────────┘   └─────────────────────────────┘   └─────────────────────────────────┘   └────────────────────────────────────┘   └────────────────────────────────────┘   └───────────────────────────────────────┘   └───────────────────────────────────────┘   └──────────────────────────────────────────┘   └──────────────────────────────────────────┘   └─────────────────────────────────────────────┘   └──────────────────────────────────────────┘   └──────────────────────────────────────────┘   └───────────────────────────────────────┘   └───────────────────────────────────────┘   └────────────────────────────────────┘   └────────────────────────────────────┘   └─────────────────────────────────┘   └─────────────────────────────┘   └──────────────────────────┘   └──────────────────────┘   └───────────────────┘   └───────────────┘   └────────────┘   └───────┘\n"
          ]
        }
      ]
    },
    {
      "cell_type": "markdown",
      "source": [
        "https://quantumai.google/cirq/experiments/textbook_algorithms#quantum_fourier_transform"
      ],
      "metadata": {
        "id": "k4W_TZ56LcdF"
      }
    },
    {
      "cell_type": "markdown",
      "source": [
        "###### *Quantum Phase Estimation*"
      ],
      "metadata": {
        "id": "t7gpoYKzL83s"
      }
    },
    {
      "cell_type": "markdown",
      "source": [
        "**Quantum phase estimation addresses the following problem:**\n",
        "\n",
        "* We have a $n$-qubit oracle function $U$, encoded in the form of a controlled- $U$ unitary.\n",
        "\n",
        "* $U$ has an eigenvalue $e^{2 \\pi i \\phi}$, associated with an eigenvector $|u\\rangle$ which we can prepare.\n",
        "\n",
        "> <font color=\"red\">**We wish to estimate the phase, $\\phi$, of the eigenvalue to $t$ bits of precision.**\n",
        "\n",
        "> <font color=\"blue\">**Given a unitary operator $U$, the algorithm estimates $\\theta$ in $U|\\psi\\rangle=e^{2 \\pi i \\theta}|\\psi\\rangle$** $\\quad$ (based on Eigenvalue equation)</font>\n",
        "\n",
        "* Here $|\\psi\\rangle$ is an eigenvector / eigenstate and $e^{2 \\pi i \\theta}$ is the corresponding eigenvalue.\n"
      ],
      "metadata": {
        "id": "lHWEuNdTQBN3"
      }
    },
    {
      "cell_type": "markdown",
      "source": [
        "As an application of our quantum Fourier transform circuit, we'll implement the phase estimation algorithm. The phase estimation algorithm estimates the eigenvalues of a unitary operator and uses the inverse QFT as a subroutine. The total circuit that we are going to implement is shown below.\n",
        "\n"
      ],
      "metadata": {
        "id": "LFiVTHsOOa27"
      }
    },
    {
      "cell_type": "code",
      "source": [
        "\"\"\"Set up the unitary and number of bits to use in phase estimation.\"\"\"\n",
        "# Value of θ which appears in the definition of the unitary U above.\n",
        "# Try different values.\n",
        "theta = 0.234\n",
        "\n",
        "# Define the unitary U.\n",
        "U = cirq.Z ** (2 * theta)\n",
        "\n",
        "# Accuracy of the estimate for theta. Try different values.\n",
        "n_bits = 3"
      ],
      "metadata": {
        "id": "wTnI6wltMHYh"
      },
      "execution_count": null,
      "outputs": []
    },
    {
      "cell_type": "code",
      "source": [
        "\"\"\"Build the first part of the circuit for phase estimation.\"\"\"\n",
        "# Get qubits for the phase estimation circuit.\n",
        "qubits = cirq.LineQubit.range(n_bits)\n",
        "u_bit = cirq.NamedQubit('u')\n",
        "\n",
        "# Build the first part of the phase estimation circuit.\n",
        "phase_estimator = cirq.Circuit(cirq.H.on_each(*qubits))\n",
        "\n",
        "for i, bit in enumerate(qubits):\n",
        "    phase_estimator.append(cirq.ControlledGate(U).on(bit, u_bit) ** (2 ** (n_bits - i - 1)))\n",
        "\n",
        "print(phase_estimator)"
      ],
      "metadata": {
        "id": "nTZClxlnMJAs",
        "colab": {
          "base_uri": "https://localhost:8080/"
        },
        "outputId": "d60b8239-bb4b-4042-f7af-f1050bea554a"
      },
      "execution_count": null,
      "outputs": [
        {
          "output_type": "stream",
          "name": "stdout",
          "text": [
            "0: ───H───@──────────────────────────────\n",
            "          │\n",
            "1: ───H───┼──────────@───────────────────\n",
            "          │          │\n",
            "2: ───H───┼──────────┼─────────@─────────\n",
            "          │          │         │\n",
            "u: ───────Z^-0.128───Z^0.936───Z^0.468───\n"
          ]
        }
      ]
    },
    {
      "cell_type": "code",
      "source": [
        "\"\"\"Build the last part of the circuit (inverse QFT) for phase estimation.\"\"\"\n",
        "# Do the inverse QFT.\n",
        "phase_estimator.append(make_qft_inverse(qubits[::-1]))\n",
        "\n",
        "# Add measurements to the end of the circuit\n",
        "phase_estimator.append(cirq.measure(*qubits, key='m'))\n",
        "print(phase_estimator)"
      ],
      "metadata": {
        "id": "crc6DOSMMLAT",
        "colab": {
          "base_uri": "https://localhost:8080/"
        },
        "outputId": "1f4ea7e3-5f3e-43aa-ba53-22acdcbd19b0"
      },
      "execution_count": null,
      "outputs": [
        {
          "output_type": "stream",
          "name": "stdout",
          "text": [
            "                                         ┌────────┐\n",
            "0: ───H───@──────────H─────────@──────────@────────────────────────M('m')───\n",
            "          │                    │          │                        │\n",
            "1: ───H───┼──────────@─────────@^-0.5─────┼──────H────@────────────M────────\n",
            "          │          │                    │           │            │\n",
            "2: ───H───┼──────────┼─────────@──────────@^-0.25─────@^-0.5───H───M────────\n",
            "          │          │         │\n",
            "u: ───────Z^-0.128───Z^0.936───Z^0.468──────────────────────────────────────\n",
            "                                         └────────┘\n"
          ]
        }
      ]
    },
    {
      "cell_type": "code",
      "source": [
        "\"\"\"Set the input state of the eigenvalue register.\"\"\"\n",
        "# Add gate to change initial state to |1>.\n",
        "phase_estimator.insert(0, cirq.X(u_bit))\n",
        "\n",
        "print(phase_estimator)"
      ],
      "metadata": {
        "id": "h_qXypDOMN9n",
        "colab": {
          "base_uri": "https://localhost:8080/"
        },
        "outputId": "16d5fb1c-f930-4ef2-c1db-fb7adc99a468"
      },
      "execution_count": null,
      "outputs": [
        {
          "output_type": "stream",
          "name": "stdout",
          "text": [
            "                                         ┌────────┐\n",
            "0: ───H───@──────────H─────────@──────────@────────────────────────M('m')───\n",
            "          │                    │          │                        │\n",
            "1: ───H───┼──────────@─────────@^-0.5─────┼──────H────@────────────M────────\n",
            "          │          │                    │           │            │\n",
            "2: ───H───┼──────────┼─────────@──────────@^-0.25─────@^-0.5───H───M────────\n",
            "          │          │         │\n",
            "u: ───X───Z^-0.128───Z^0.936───Z^0.468──────────────────────────────────────\n",
            "                                         └────────┘\n"
          ]
        }
      ]
    },
    {
      "cell_type": "code",
      "source": [
        "\"\"\"Simulate the circuit and convert from measured bit values to estimated θ values.\"\"\"\n",
        "# Simulate the circuit.\n",
        "sim = cirq.Simulator()\n",
        "result = sim.run(phase_estimator, repetitions=10)\n",
        "\n",
        "# Convert from output bitstrings to estimate θ values.\n",
        "theta_estimates = np.sum(2 ** np.arange(n_bits) * result.measurements['m'], axis=1) / 2**n_bits\n",
        "print(theta_estimates)"
      ],
      "metadata": {
        "id": "-CL6ZAWvMT8O",
        "colab": {
          "base_uri": "https://localhost:8080/"
        },
        "outputId": "8324dbeb-e92c-4947-be50-5885a4012b78"
      },
      "execution_count": null,
      "outputs": [
        {
          "output_type": "stream",
          "name": "stdout",
          "text": [
            "[0.25 0.25 0.25 0.25 0.25 0.25 0.25 0.25 0.25 0.25]\n"
          ]
        }
      ]
    },
    {
      "cell_type": "markdown",
      "source": [
        "Real value theta = 0.234"
      ],
      "metadata": {
        "id": "XZOMGSKPOOJ8"
      }
    },
    {
      "cell_type": "markdown",
      "source": [
        "Complete example: Here is a solution that just consists of what we did in previous cells all put together.\n",
        "\n"
      ],
      "metadata": {
        "id": "NSI7rqQXMVW0"
      }
    },
    {
      "cell_type": "code",
      "source": [
        "def phase_estimation(theta, n_bits, n_reps=10, prepare_eigenstate_gate=cirq.X):\n",
        "    # Define qubit registers.\n",
        "    qubits = cirq.LineQubit.range(n_bits)\n",
        "    u_bit = cirq.NamedQubit('u')\n",
        "\n",
        "    # Define the unitary U.\n",
        "    U = cirq.Z ** (2 * theta)\n",
        "\n",
        "    # Start with Hadamards on every qubit.\n",
        "    phase_estimator = cirq.Circuit(cirq.H.on_each(*qubits))\n",
        "\n",
        "    # Do the controlled powers of the unitary U.\n",
        "    for i, bit in enumerate(qubits):\n",
        "        phase_estimator.append(cirq.ControlledGate(U).on(bit, u_bit) ** (2 ** (n_bits - 1 - i)))\n",
        "\n",
        "    # Do the inverse QFT.\n",
        "    phase_estimator.append(make_qft_inverse(qubits[::-1]))\n",
        "\n",
        "    # Add measurements.\n",
        "    phase_estimator.append(cirq.measure(*qubits, key='m'))\n",
        "\n",
        "    # Gate to choose the initial state for the u_bit. Placing X here chooses the |1> state.\n",
        "    phase_estimator.insert(0, prepare_eigenstate_gate.on(u_bit))\n",
        "\n",
        "    # Code to simulate measurements\n",
        "    sim = cirq.Simulator()\n",
        "    result = sim.run(phase_estimator, repetitions=n_reps)\n",
        "\n",
        "    # Convert measurements into estimates of theta\n",
        "    theta_estimates = np.sum(2**np.arange(n_bits)*result.measurements['m'], axis=1)/2**n_bits\n",
        "\n",
        "    return theta_estimates"
      ],
      "metadata": {
        "id": "d8aZfzVdLrMZ"
      },
      "execution_count": null,
      "outputs": []
    },
    {
      "cell_type": "markdown",
      "source": [
        "Now we can easily examine the accuracy of the estimate vs n_bits. We do so for a variety of values for n_bits in the following cell.\n",
        "\n"
      ],
      "metadata": {
        "id": "OPAkHytXNLEo"
      }
    },
    {
      "cell_type": "code",
      "source": [
        "\"\"\"Analyze convergence vs n_bits.\"\"\"\n",
        "# Set the value of theta. Try different values.\n",
        "theta = 0.123456\n",
        "\n",
        "max_nvals = 16\n",
        "nvals = np.arange(1, max_nvals, step=1)\n",
        "\n",
        "# Get the estimates at each value of n.\n",
        "estimates = []\n",
        "for n in nvals:\n",
        "    estimate = phase_estimation(theta=theta, n_bits=n, n_reps=1)[0]\n",
        "    estimates.append(estimate)"
      ],
      "metadata": {
        "id": "7YEVircbM1My"
      },
      "execution_count": null,
      "outputs": []
    },
    {
      "cell_type": "markdown",
      "source": [
        "And now we make a plot of the $\\theta$ estimates vs. the number of bits."
      ],
      "metadata": {
        "id": "p60x2-R8NNof"
      }
    },
    {
      "cell_type": "code",
      "source": [
        "\"\"\"Plot the results.\"\"\"\n",
        "plt.style.use(\"seaborn-whitegrid\")\n",
        "\n",
        "plt.plot(nvals, estimates, \"--o\", label=\"Phase estimation\")\n",
        "plt.axhline(theta, label=\"True value\", color=\"black\")\n",
        "\n",
        "plt.legend()\n",
        "plt.xlabel(\"Number of bits\")\n",
        "plt.ylabel(r\"$\\theta$\");"
      ],
      "metadata": {
        "id": "h-EuBBbfMv_g",
        "colab": {
          "base_uri": "https://localhost:8080/",
          "height": 499
        },
        "outputId": "468b0b53-adfd-40f3-9481-3ab427ab9759"
      },
      "execution_count": null,
      "outputs": [
        {
          "output_type": "stream",
          "name": "stderr",
          "text": [
            "<ipython-input-38-a29f61d5db4e>:2: MatplotlibDeprecationWarning: The seaborn styles shipped by Matplotlib are deprecated since 3.6, as they no longer correspond to the styles shipped by seaborn. However, they will remain available as 'seaborn-v0_8-<style>'. Alternatively, directly use the seaborn API instead.\n",
            "  plt.style.use(\"seaborn-whitegrid\")\n"
          ]
        },
        {
          "output_type": "display_data",
          "data": {
            "text/plain": [
              "<Figure size 640x480 with 1 Axes>"
            ],
            "image/png": "[encoded data removed]"
          },
          "metadata": {}
        }
      ]
    },
    {
      "cell_type": "markdown",
      "source": [
        "https://quantumai.google/cirq/experiments/textbook_algorithms#phase_estimation"
      ],
      "metadata": {
        "id": "dTDpmPt3LpLH"
      }
    },
    {
      "cell_type": "markdown",
      "source": [
        "###### *Hadamard gate*"
      ],
      "metadata": {
        "id": "JVaGu1H0rIM9"
      }
    },
    {
      "cell_type": "markdown",
      "source": [
        "*Hadamard Gate (Superposition)*\n",
        "\n",
        "> $H=\\frac{1}{\\sqrt{2}}\\left(\\begin{array}{cc}1 & 1 \\\\ 1 & -1\\end{array}\\right)$\n",
        "\n",
        "**The Hadamard states ∣+⟩ and ∣−⟩ are considered superposition states**\n",
        "\n",
        "because they are a combination of the two computational states:\n",
        "\n",
        "> $|\\pm\\rangle=\\frac{1}{\\sqrt{2}}|0\\rangle \\pm \\frac{1}{\\sqrt{2}}|1\\rangle$\n",
        "\n",
        "**Apply Hadamard gate on a qubit that is in the |0> state**:\n",
        "\n",
        "> <font color=\"blue\">$\\frac{1}{\\sqrt{2}}\\left(\\begin{array}{cc}1 & 1 \\\\ 1 & -1\\end{array}\\right)\\left[\\begin{array}{l}1 \\\\ 0\\end{array}\\right]=\\frac{1}{\\sqrt{2}}\\left[\\begin{array}{l}1 \\\\ 1\\end{array}\\right]$\n",
        "\n",
        "The qubit enters a new state where the probability of measuring 0 is:\n",
        "\n",
        "* $\\left(\\frac{1}{\\sqrt{2}}\\right)^{2}=\\frac{1}{2}$\n",
        "\n",
        "And the probability of measuring 1 is also:\n",
        "\n",
        "* $\\left(\\frac{1}{\\sqrt{2}}\\right)^{2}=\\frac{1}{2}$\n",
        "\n",
        "**Now apply Hadamard gate on a qubit that is in the |1> state**:\n",
        "\n",
        "> <font color=\"blue\">$\\frac{1}{\\sqrt{2}}\\left(\\begin{array}{cc}1 & 1 \\\\ 1 & -1\\end{array}\\right)\\left[\\begin{array}{l}0 \\\\ 1\\end{array}\\right]=\\frac{1}{\\sqrt{2}}\\left[\\begin{array}{l}1 \\\\ -1\\end{array}\\right]$\n",
        "\n",
        "The qubit enters a new state where the probability of measuring 0 is:\n",
        "\n",
        "* $\\left(\\frac{1}{\\sqrt{2}}\\right)^{2}=\\frac{1}{2}$\n",
        "\n",
        "And the probability of measuring 1 is also:\n",
        "\n",
        "* $\\left(\\frac{-1}{\\sqrt{2}}\\right)^{2}=\\frac{1}{2}$\n",
        "\n",
        "Hence, in both cases (qubit |0> or qubit |1>) applying a Hadamard Gate gives an equal chance for the qubit to be 0 or 1' when measured.\n",
        "\n",
        "Source: https://freecontent.manning.com/all-about-hadamard-gates/\n",
        "\n",
        "**Herleitung Hadamard (Wichtig!)**\n",
        "\n",
        "For an equal (or uniform) superposition of the two computational states, we can set the two coefficients equal to each other:\n",
        "\n",
        "$a_{1}=a_{2}=a$\n",
        "\n",
        "The normalization condition for a well-behaved quantum state requires that the sum of the squared magnitudes of the coefficients be equal to one; this is sufficient to find\n",
        "a\n",
        "a for a uniform superposition:\n",
        "\n",
        "$|a|^{2}+|a|^{2}=1$\n",
        "\n",
        "$2|a|^{2}=1$\n",
        "\n",
        "$|a|^{2}=\\frac{1}{2}$\n",
        "\n",
        "$a=\\frac{1}{\\sqrt{2}}$\n",
        "\n",
        "In vector form, this state can represented as\n",
        "\n",
        "> $\\left[\\begin{array}{l}\\frac{1}{\\sqrt{2}} \\\\ \\frac{1}{\\sqrt{2}}\\end{array}\\right]$ = $\\frac{1}{\\sqrt{2}}$ $\\left[\\begin{array}{c} 1 \\\\ 0 \\end{array}\\right]$ + $\\frac{1}{\\sqrt{2}}$ $\\left[\\begin{array}{c} 0 \\\\ 1 \\end{array}\\right]$\n",
        "\n",
        "This is what we can use now to understand Hadamard, where you want \"halfway\" a 50/50 chance of basis states 0 and 1 (Bloch sphere representation of superposition state):\n",
        "\n",
        "![ggg](https://raw.githubusercontent.com/deltorobarba/repo/master/quantum_025.jpg)\n",
        "\n",
        "*Hadamard gate operations:*\n",
        "\n",
        "> $\\begin{aligned} H(|0\\rangle) &=\\frac{1}{\\sqrt{2}}|0\\rangle+\\frac{1}{\\sqrt{2}}|1\\rangle=:|+\\rangle \\\\ H(|1\\rangle) &=\\frac{1}{\\sqrt{2}}|0\\rangle-\\frac{1}{\\sqrt{2}}|1\\rangle=:|-\\rangle \\\\ H\\left(\\frac{1}{\\sqrt{2}}|0\\rangle+\\frac{1}{\\sqrt{2}}|1\\rangle\\right) &=\\frac{1}{2}(|0\\rangle+|1\\rangle)+\\frac{1}{2}(|0\\rangle-|1\\rangle)=|0\\rangle \\\\ H\\left(\\frac{1}{\\sqrt{2}}|0\\rangle-\\frac{1}{\\sqrt{2}}|1\\rangle\\right) &=\\frac{1}{2}(|0\\rangle+|1\\rangle)-\\frac{1}{2}(|0\\rangle-|1\\rangle)=|1\\rangle \\end{aligned}$\n",
        "\n",
        "One application of the Hadamard gate to either a 0 or 1 qubit will produce a quantum state that, if observed, **will be a 0 or 1 with equal probability** (as seen in the first two operations). This is exactly like flipping a fair coin in the standard probabilistic model of computation. However, if the Hadamard gate is applied twice in succession (as is effectively being done in the last two operations), then the final state is always the same as the initial state (because quantum operations are reversable, unlike operations on classical computers)."
      ],
      "metadata": {
        "id": "p7kPgIEnrLjp"
      }
    }
  ]
}