{
  "nbformat": 4,
  "nbformat_minor": 0,
  "metadata": {
    "colab": {
      "provenance": [],
      "authorship_tag": "ABX9TyPmt8KR1XIEXIG/25QxXyh5",
      "include_colab_link": true
    },
    "kernelspec": {
      "name": "python3",
      "display_name": "Python 3"
    },
    "language_info": {
      "name": "python"
    }
  },
  "cells": [
    {
      "cell_type": "markdown",
      "metadata": {
        "id": "view-in-github",
        "colab_type": "text"
      },
      "source": [
        "<a href=\"https://colab.research.google.com/github/deltorobarba/sciences/blob/master/chemistry_dft_scf.ipynb\" target=\"_parent\"><img src=\"https://colab.research.google.com/assets/colab-badge.svg\" alt=\"Open In Colab\"/></a>"
      ]
    },
    {
      "cell_type": "markdown",
      "source": [
        "# **Density Functional (DFT-SCF)**"
      ],
      "metadata": {
        "id": "eU3XH7emGqyX"
      }
    },
    {
      "cell_type": "code",
      "source": [
        "!pip install pyscf geometric -q"
      ],
      "metadata": {
        "colab": {
          "base_uri": "https://localhost:8080/"
        },
        "id": "TErie0efGhPw",
        "outputId": "a2c3c9fa-675a-46a1-a2fc-9af709e2f149"
      },
      "execution_count": null,
      "outputs": [
        {
          "output_type": "stream",
          "name": "stdout",
          "text": [
            "\u001b[?25l     \u001b[90m━━━━━━━━━━━━━━━━━━━━━━━━━━━━━━━━━━━━━━━━\u001b[0m \u001b[32m0.0/386.0 kB\u001b[0m \u001b[31m?\u001b[0m eta \u001b[36m-:--:--\u001b[0m\r\u001b[2K     \u001b[91m━━━━━━━━━━━━━━━━━━━━━━━━━━━━━━━━━━━\u001b[0m\u001b[90m╺\u001b[0m\u001b[90m━━━━\u001b[0m \u001b[32m337.9/386.0 kB\u001b[0m \u001b[31m10.6 MB/s\u001b[0m eta \u001b[36m0:00:01\u001b[0m\r\u001b[2K     \u001b[90m━━━━━━━━━━━━━━━━━━━━━━━━━━━━━━━━━━━━━━━━\u001b[0m \u001b[32m386.0/386.0 kB\u001b[0m \u001b[31m6.5 MB/s\u001b[0m eta \u001b[36m0:00:00\u001b[0m\n",
            "\u001b[?25h  Preparing metadata (setup.py) ... \u001b[?25l\u001b[?25hdone\n",
            "\u001b[2K   \u001b[90m━━━━━━━━━━━━━━━━━━━━━━━━━━━━━━━━━━━━━━━━\u001b[0m \u001b[32m50.9/50.9 MB\u001b[0m \u001b[31m9.8 MB/s\u001b[0m eta \u001b[36m0:00:00\u001b[0m\n",
            "\u001b[?25h  Building wheel for geometric (setup.py) ... \u001b[?25l\u001b[?25hdone\n"
          ]
        }
      ]
    },
    {
      "cell_type": "code",
      "execution_count": null,
      "metadata": {
        "id": "ttEFdYRfGc6K"
      },
      "outputs": [],
      "source": [
        "from pyscf import gto\n",
        "\n",
        "# Define the molecule\n",
        "mol = gto.Mole()\n",
        "mol.atom = '''\n",
        "    N  0.0000  0.0000  0.2000\n",
        "    H  0.0000  0.9433 -0.2000\n",
        "    H  0.8165 -0.4717 -0.2000\n",
        "    H -0.8165 -0.4717 -0.2000\n",
        "'''\n",
        "\n",
        "# Name\n",
        "molecule = 'Ammonia (NH₃)'\n",
        "\n",
        "# Set basis set\n",
        "mol.basis = 'cc-pvdz' # Alternatively: sto-3g, cc-pvdz,6-31G"
      ]
    },
    {
      "cell_type": "markdown",
      "source": [
        "**DFT-SCF (Kohn-Sham)**"
      ],
      "metadata": {
        "id": "xIHsJHs9N4yj"
      }
    },
    {
      "cell_type": "code",
      "source": [
        "# DFT-SCF (Kohn-Sham)\n",
        "\n",
        "from pyscf import gto, dft\n",
        "import matplotlib.pyplot as plt\n",
        "import numpy as np\n",
        "\n",
        "# Step 1: Define the molecule using gto.M() function\n",
        "mol.atom = mol.atom\n",
        "mol.basis = mol.basis\n",
        "mol.build()\n",
        "\n",
        "# Step 2: Perform a DFT calculation using the B3LYP functional\n",
        "\n",
        "# dft.RKS for Restricted Kohn-Sham DFT appropriate for a closed-shell system (like water)\n",
        "mf = dft.RKS(mol)\n",
        "\n",
        "# Exchange-correlation functional is set using mf.xc = 'b3lyp' (popular hybrid functional)\n",
        "mf.xc = 'b3lyp'\n",
        "\n",
        "# mf.kernel() function performs actual DFT calculation and returns energy\n",
        "energy = mf.kernel()\n",
        "\n",
        "# Store convergence data\n",
        "conv_data = []\n",
        "\n",
        "# Callback function to collect convergence information\n",
        "def callback(envs):\n",
        "    conv_data.append(envs['e_tot'])\n",
        "\n",
        "# Set the callback directly on the mf object\n",
        "mf.callback = callback\n",
        "\n",
        "# Perform DFT calculation\n",
        "energy = mf.kernel()\n",
        "\n",
        "# Extract energy values and iteration numbers\n",
        "energies = conv_data\n",
        "iterations = range(1, len(energies) + 1)\n",
        "\n",
        "# Plot convergence\n",
        "plt.plot(iterations, energies, marker='o')\n",
        "plt.xlabel('Iteration')\n",
        "plt.ylabel('Total Energy (Hartree)')\n",
        "plt.title('DFT-SCF Convergence')\n",
        "plt.grid(True)\n",
        "plt.show()\n",
        "\n",
        "print(f\"DFT energy using B3LYP: {energy} Hartree\")"
      ],
      "metadata": {
        "colab": {
          "base_uri": "https://localhost:8080/",
          "height": 542
        },
        "id": "f-ThlAaEN7Zi",
        "outputId": "2a57fef1-5c5e-4505-d072-6acf713da054"
      },
      "execution_count": null,
      "outputs": [
        {
          "output_type": "stream",
          "name": "stdout",
          "text": [
            "converged SCF energy = -56.5541464333649\n",
            "converged SCF energy = -56.5541464333645\n"
          ]
        },
        {
          "output_type": "display_data",
          "data": {
            "text/plain": [
              "<Figure size 640x480 with 1 Axes>"
            ],
            "image/png": "[encoded data removed]"
          },
          "metadata": {}
        },
        {
          "output_type": "stream",
          "name": "stdout",
          "text": [
            "DFT energy using B3LYP: -56.554146433364544 Hartree\n"
          ]
        }
      ]
    },
    {
      "cell_type": "markdown",
      "source": [
        "**DFT-SCF Kohn-Sham Hamiltonian**"
      ],
      "metadata": {
        "id": "GC57MYBHN9Ur"
      }
    },
    {
      "cell_type": "code",
      "source": [
        "# Kohn-Sham Hamiltonian (First Quantization) includes exchange-correlation potential, which approximates exchange and correlation effects\n",
        "\n",
        "# Kohn-Sham formalism transforms complex many-electron problem into a simpler set of equations that describe non-interacting electrons\n",
        "# but in presence of an effective potential that accounts for the effects of electron-electron interactions.\n",
        "\n",
        "from pyscf import gto, dft\n",
        "\n",
        "# Define the molecule using gto.M() function\n",
        "mol.atom = mol.atom\n",
        "mol.basis = mol.basis\n",
        "mol.build()\n",
        "\n",
        "# Perform a DFT calculation using the B3LYP functional\n",
        "mf = dft.RKS(mol)\n",
        "mf.xc = 'b3lyp'\n",
        "mf.kernel()\n",
        "\n",
        "# Get the Kohn-Sham Hamiltonian (core Hamiltonian + exchange-correlation potential)\n",
        "ks_hamiltonian = mf.get_hcore() + mf.get_veff()\n",
        "\n",
        "print(\"Kohn-Sham Hamiltonian matrix:\\n\", ks_hamiltonian)"
      ],
      "metadata": {
        "colab": {
          "base_uri": "https://localhost:8080/"
        },
        "id": "Y_2k6OyTN_by",
        "outputId": "c9787b1f-eb7d-4e41-e4df-95e392506fd2"
      },
      "execution_count": null,
      "outputs": [
        {
          "output_type": "stream",
          "name": "stdout",
          "text": [
            "converged SCF energy = -56.5541464333647\n",
            "Kohn-Sham Hamiltonian matrix:\n",
            " [[-1.43009316e+01  3.06099310e+00 -2.74254818e+00 -2.42687814e-16\n",
            "   4.10607287e-06  1.65203579e-02 -4.83987850e-17  1.59762120e-06\n",
            "   3.51087083e-03  4.25549353e-18 -2.29899361e-06  1.30296722e-03\n",
            "   3.06896977e-18 -4.18826612e-07 -7.69365324e-01 -1.14440246e+00\n",
            "  -1.81495444e-17  1.40297511e+00 -5.94007938e-01 -7.70109492e-01\n",
            "  -1.14471503e+00  1.21616502e+00 -7.02590061e-01 -5.94878820e-01\n",
            "  -7.70109492e-01 -1.14471503e+00 -1.21616502e+00 -7.02590061e-01\n",
            "  -5.94878820e-01]\n",
            " [ 3.06099310e+00 -1.13876189e+00 -1.33928746e-01 -6.95277169e-16\n",
            "   6.95656094e-05  7.62625179e-02 -2.87964097e-16  5.04038849e-05\n",
            "   6.31544682e-02  1.43635104e-16 -6.66630068e-05  5.78010052e-02\n",
            "   5.88504939e-17  3.21274867e-06 -2.48494219e-01 -2.29584960e-01\n",
            "  -1.30277733e-16 -4.39939909e-02  2.49687959e-02 -2.48551697e-01\n",
            "  -2.29630394e-01 -3.83978412e-02  2.21965970e-02  2.51386125e-02\n",
            "  -2.48551697e-01 -2.29630394e-01  3.83978412e-02  2.21965970e-02\n",
            "   2.51386125e-02]\n",
            " [-2.74254818e+00 -1.33928746e-01 -1.18177696e+00 -5.74540415e-16\n",
            "   6.79697055e-05  9.04555286e-02 -3.53536644e-16  5.67490909e-05\n",
            "   1.29319436e-01  7.66747776e-17 -7.90429975e-05  7.96731022e-02\n",
            "   6.48786580e-17  2.38554532e-05 -5.47366444e-01 -6.70538992e-01\n",
            "  -1.44675938e-16  5.05585981e-01 -2.02133307e-01 -5.47679413e-01\n",
            "  -6.70691664e-01  4.38151243e-01 -2.53104169e-01 -2.02369613e-01\n",
            "  -5.47679413e-01 -6.70691664e-01 -4.38151243e-01 -2.53104169e-01\n",
            "  -2.02369613e-01]\n",
            " [-2.42687814e-16 -6.95277169e-16 -5.74540415e-16 -7.06747544e-02\n",
            "  -7.46364776e-17 -3.59955121e-18 -4.17877329e-01 -5.55111512e-17\n",
            "  -1.17961196e-17  8.16003198e-02  1.98257209e-16  4.27435864e-16\n",
            "   1.20571653e-01 -3.44602819e-16 -2.49106291e-16 -2.09554596e-16\n",
            "  -1.52146278e-01  4.78089790e-16 -1.84834786e-16 -2.91104421e-01\n",
            "  -1.33747117e-01 -1.49965781e-02 -7.92751533e-02 -6.00233679e-02\n",
            "   2.91104421e-01  1.33747117e-01 -1.49965781e-02  7.92751533e-02\n",
            "   6.00233679e-02]\n",
            " [ 4.10607287e-06  6.95656094e-05  6.79697055e-05 -7.46364776e-17\n",
            "  -7.06599680e-02 -4.39842064e-05 -9.64072572e-17 -4.17893257e-01\n",
            "  -3.41719778e-05 -7.19736770e-16  1.20555652e-01 -3.30633541e-05\n",
            "   3.12900747e-17  8.14701656e-02 -3.36084750e-01 -1.54451005e-01\n",
            "  -1.56819002e-16  3.09646756e-02 -6.93344721e-02  1.68184517e-01\n",
            "   7.73038577e-02 -7.92998052e-02 -1.06412840e-01  3.46770768e-02\n",
            "   1.68184517e-01  7.73038577e-02  7.92998052e-02 -1.06412840e-01\n",
            "   3.46770768e-02]\n",
            " [ 1.65203579e-02  7.62625179e-02  9.04555286e-02 -3.59955121e-18\n",
            "  -4.39842064e-05 -3.13098636e-02  3.89879101e-17 -3.43573800e-05\n",
            "  -3.70597853e-01  4.75531073e-17  6.70125164e-05  3.65475426e-02\n",
            "  -4.83120488e-16  5.63653243e-06  1.57119913e-01  1.09599132e-01\n",
            "   6.47702378e-17 -9.58225647e-02 -1.16887970e-01  1.57229060e-01\n",
            "   1.09635359e-01 -8.29872850e-02  4.79313447e-02 -1.16941996e-01\n",
            "   1.57229060e-01  1.09635359e-01  8.29872850e-02  4.79313447e-02\n",
            "  -1.16941996e-01]\n",
            " [-4.83987850e-17 -2.87964097e-16 -3.53536644e-16 -4.17877329e-01\n",
            "  -9.64072572e-17  3.89879101e-17 -1.38206656e-01  1.64798730e-18\n",
            "  -8.67361738e-19  1.07877347e-01  1.49338007e-16  1.89778748e-16\n",
            "   1.39046345e-01 -1.74860126e-16 -1.47104551e-16 -1.42941214e-16\n",
            "  -2.70969016e-02  3.76630151e-16 -1.36392633e-16 -2.07366378e-01\n",
            "  -7.92641439e-02  3.08346797e-02 -3.34852857e-02 -1.73778899e-02\n",
            "   2.07366378e-01  7.92641439e-02  3.08346797e-02  3.34852857e-02\n",
            "   1.73778899e-02]\n",
            " [ 1.59762120e-06  5.04038849e-05  5.67490909e-05 -5.55111512e-17\n",
            "  -4.17893257e-01 -3.43573800e-05  1.64798730e-18 -1.38324260e-01\n",
            "  -3.48661958e-05 -3.47508480e-16  1.39054171e-01 -2.50958456e-05\n",
            "   4.07660017e-18  1.07765488e-01 -2.39491242e-01 -9.15801772e-02\n",
            "  -1.04430353e-16  5.01165720e-02 -2.00215696e-02  1.19813746e-01\n",
            "   4.58388024e-02 -3.35142758e-02 -7.78471362e-03  1.00393824e-02\n",
            "   1.19813746e-01  4.58388024e-02  3.35142758e-02 -7.78471362e-03\n",
            "   1.00393824e-02]\n",
            " [ 3.51087083e-03  6.31544682e-02  1.29319436e-01 -1.17961196e-17\n",
            "  -3.41719778e-05 -3.70597853e-01 -8.67361738e-19 -3.48661958e-05\n",
            "  -2.85681545e-02  2.80374682e-17  6.41693683e-05  2.29375652e-02\n",
            "  -4.07139600e-16 -5.40878531e-06  1.17002255e-01  1.11724220e-01\n",
            "   3.12250226e-17 -4.44447075e-02 -1.12075022e-02  1.17052780e-01\n",
            "   1.11751037e-01 -3.85511392e-02  2.22571506e-02 -1.12064605e-02\n",
            "   1.17052780e-01  1.11751037e-01  3.85511392e-02  2.22571506e-02\n",
            "  -1.12064605e-02]\n",
            " [ 4.25549353e-18  1.43635104e-16  7.66747776e-17  8.16003198e-02\n",
            "  -7.19736770e-16  4.75531073e-17  1.07877347e-01 -3.47508480e-16\n",
            "   2.80374682e-17  1.61054817e+00  2.60208521e-19 -1.01134379e-16\n",
            "  -6.88508878e-02 -2.16203466e-17 -1.54347021e-16 -5.13911830e-17\n",
            "   2.49026316e-01  2.01097819e-16 -9.07341693e-17  2.31790241e-02\n",
            "   3.56469034e-02  2.83624822e-01 -1.99988702e-02 -1.98945167e-01\n",
            "  -2.31790241e-02 -3.56469034e-02  2.83624822e-01  1.99988702e-02\n",
            "   1.98945167e-01]\n",
            " [-2.29899361e-06 -6.66630068e-05 -7.90429975e-05  1.98257209e-16\n",
            "   1.20555652e-01  6.70125164e-05  1.49338007e-16  1.39054171e-01\n",
            "   6.41693683e-05  2.60208521e-19  1.67581895e+00  7.18600085e-06\n",
            "   7.47665818e-17 -6.87291962e-02  3.68552180e-02  4.64710656e-02\n",
            "   9.55832635e-17  3.39418297e-01  6.05414115e-02 -1.84482811e-02\n",
            "  -2.33168811e-02 -1.85054201e-01  1.91081051e-02 -3.03543990e-02\n",
            "  -1.84482811e-02 -2.33168811e-02  1.85054201e-01  1.91081051e-02\n",
            "  -3.03543990e-02]\n",
            " [ 1.30296722e-03  5.78010052e-02  7.96731022e-02  4.27435864e-16\n",
            "  -3.30633541e-05  3.65475426e-02  1.89778748e-16 -2.50958456e-05\n",
            "   2.29375652e-02 -1.01134379e-16  7.18600085e-06  1.72780102e+00\n",
            "  -5.70290343e-18 -1.73902458e-05  1.21980809e-02  4.73826812e-02\n",
            "   5.21284405e-17  5.76190494e-02 -2.00154642e-01  1.21863615e-02\n",
            "   4.73967591e-02  4.96904457e-02 -2.87125762e-02 -2.00349075e-01\n",
            "   1.21863615e-02  4.73967591e-02 -4.96904457e-02 -2.87125762e-02\n",
            "  -2.00349075e-01]\n",
            " [ 3.06896977e-18  5.88504939e-17  6.48786580e-17  1.20571653e-01\n",
            "   3.12900747e-17 -4.83120488e-16  1.39046345e-01  4.07660017e-18\n",
            "  -4.07139600e-16 -6.88508878e-02  7.47665818e-17 -5.70290343e-18\n",
            "   1.67580666e+00  1.44632570e-17  7.05165093e-17  1.43982049e-17\n",
            "  -8.76627545e-02 -2.09034179e-16 -1.89301699e-17  3.18949603e-02\n",
            "   4.02756636e-02  2.32567966e-01 -1.85085968e-01  5.25478414e-02\n",
            "  -3.18949603e-02 -4.02756636e-02  2.32567966e-01  1.85085968e-01\n",
            "  -5.25478414e-02]\n",
            " [-4.18826612e-07  3.21274867e-06  2.38554532e-05 -3.44602819e-16\n",
            "   8.14701656e-02  5.63653243e-06 -1.74860126e-16  1.07765488e-01\n",
            "  -5.40878531e-06 -2.16203466e-17 -6.87291962e-02 -1.73902458e-05\n",
            "   1.44632570e-17  1.61069319e+00  2.68016117e-02  4.11600593e-02\n",
            "   1.83880688e-17  2.95248869e-01 -2.29534467e-01 -1.33617590e-02\n",
            "  -2.05470311e-02 -1.95800512e-02  2.60749112e-01  1.14720198e-01\n",
            "  -1.33617590e-02 -2.05470311e-02  1.95800512e-02  2.60749112e-01\n",
            "   1.14720198e-01]\n",
            " [-7.69365324e-01 -2.48494219e-01 -5.47366444e-01 -2.49106291e-16\n",
            "  -3.36084750e-01  1.57119913e-01 -1.47104551e-16 -2.39491242e-01\n",
            "   1.17002255e-01 -1.54347021e-16  3.68552180e-02  1.21980809e-02\n",
            "   7.05165093e-17  2.68016117e-02 -3.28953618e-01 -4.68404323e-01\n",
            "  -6.69603262e-17  3.36368065e-01 -1.29630252e-01 -1.76392729e-01\n",
            "  -2.96568550e-01  1.53734486e-01 -1.73375053e-01 -3.81690360e-02\n",
            "  -1.76392729e-01 -2.96568550e-01 -1.53734486e-01 -1.73375053e-01\n",
            "  -3.81690360e-02]\n",
            " [-1.14440246e+00 -2.29584960e-01 -6.70538992e-01 -2.09554596e-16\n",
            "  -1.54451005e-01  1.09599132e-01 -1.42941214e-16 -9.15801772e-02\n",
            "   1.11724220e-01 -5.13911830e-17  4.64710656e-02  4.73826812e-02\n",
            "   1.43982049e-17  4.11600593e-02 -4.68404323e-01 -4.20846211e-01\n",
            "  -5.88288099e-17  3.25336431e-01 -1.24263619e-01 -2.96647568e-01\n",
            "  -3.81001194e-01  2.17421916e-01 -1.57925504e-01 -8.62560293e-02\n",
            "  -2.96647568e-01 -3.81001194e-01 -2.17421916e-01 -1.57925504e-01\n",
            "  -8.62560293e-02]\n",
            " [-1.81495444e-17 -1.30277733e-16 -1.44675938e-16 -1.52146278e-01\n",
            "  -1.56819002e-16  6.47702378e-17 -2.70969016e-02 -1.04430353e-16\n",
            "   3.12250226e-17  2.49026316e-01  9.55832635e-17  5.21284405e-17\n",
            "  -8.76627545e-02  1.83880688e-17 -6.69603262e-17 -5.88288099e-17\n",
            "   1.15267330e+00  2.70963807e-16 -9.63493201e-17 -7.31859199e-02\n",
            "  -2.79656672e-02  1.35056034e-02 -8.42784375e-02 -1.44571210e-02\n",
            "   7.31859199e-02  2.79656672e-02  1.35056034e-02  8.42784375e-02\n",
            "   1.44571210e-02]\n",
            " [ 1.40297511e+00 -4.39939909e-02  5.05585981e-01  4.78089790e-16\n",
            "   3.09646756e-02 -9.58225647e-02  3.76630151e-16  5.01165720e-02\n",
            "  -4.44447075e-02  2.01097819e-16  3.39418297e-01  5.76190494e-02\n",
            "  -2.09034179e-16  2.95248869e-01  3.36368065e-01  3.25336431e-01\n",
            "   2.70963807e-16  7.43189437e-01  1.69191787e-01  2.19841492e-01\n",
            "   2.67131042e-01 -2.35845279e-01  1.98510233e-01  6.34230422e-02\n",
            "   2.19841492e-01  2.67131042e-01  2.35845279e-01  1.98510233e-01\n",
            "   6.34230422e-02]\n",
            " [-5.94007938e-01  2.49687959e-02 -2.02133307e-01 -1.84834786e-16\n",
            "  -6.93344721e-02 -1.16887970e-01 -1.36392633e-16 -2.00215696e-02\n",
            "  -1.12075022e-02 -9.07341693e-17  6.05414115e-02 -2.00154642e-01\n",
            "  -1.89301699e-17 -2.29534467e-01 -1.29630252e-01 -1.24263619e-01\n",
            "  -9.63493201e-17  1.69191787e-01  1.08693770e+00 -3.81561560e-02\n",
            "  -8.61824004e-02  4.76678087e-02 -4.42403988e-02 -7.42823082e-02\n",
            "  -3.81561560e-02 -8.61824004e-02 -4.76678087e-02 -4.42403988e-02\n",
            "  -7.42823082e-02]\n",
            " [-7.70109492e-01 -2.48551697e-01 -5.47679413e-01 -2.91104421e-01\n",
            "   1.68184517e-01  1.57229060e-01 -2.07366378e-01  1.19813746e-01\n",
            "   1.17052780e-01  2.31790241e-02 -1.84482811e-02  1.21863615e-02\n",
            "   3.18949603e-02 -1.33617590e-02 -1.76392729e-01 -2.96647568e-01\n",
            "  -7.31859199e-02  2.19841492e-01 -3.81561560e-02 -3.29219688e-01\n",
            "  -4.68581719e-01  2.91559512e-01 -1.68421553e-01 -1.29815052e-01\n",
            "  -1.76632172e-01 -2.96799205e-01 -2.27230409e-01 -4.66029369e-02\n",
            "  -3.82301969e-02]\n",
            " [-1.14471503e+00 -2.29630394e-01 -6.70691664e-01 -1.33747117e-01\n",
            "   7.73038577e-02  1.09635359e-01 -7.92641439e-02  4.58388024e-02\n",
            "   1.11751037e-01  3.56469034e-02 -2.33168811e-02  4.73967591e-02\n",
            "   4.02756636e-02 -2.05470311e-02 -2.96568550e-01 -3.81001194e-01\n",
            "  -2.79656672e-02  2.67131042e-01 -8.61824004e-02 -4.68581719e-01\n",
            "  -4.20976391e-01  2.81937278e-01 -1.62860126e-01 -1.24408764e-01\n",
            "  -2.96799205e-01 -3.81121311e-01 -2.45511563e-01 -1.09486151e-01\n",
            "  -8.62971658e-02]\n",
            " [ 1.21616502e+00 -3.83978412e-02  4.38151243e-01 -1.49965781e-02\n",
            "  -7.92998052e-02 -8.29872850e-02  3.08346797e-02 -3.35142758e-02\n",
            "  -3.85511392e-02  2.83624822e-01 -1.85054201e-01  4.96904457e-02\n",
            "   2.32567966e-01 -1.95800512e-02  1.53734486e-01  2.17421916e-01\n",
            "   1.35056034e-02 -2.35845279e-01  4.76678087e-02  2.91559512e-01\n",
            "   2.81937278e-01  8.45196555e-01  1.77535620e-01  1.46699341e-01\n",
            "   2.27230409e-01  2.45511563e-01  2.90901039e-01  7.59526991e-02\n",
            "   6.22580877e-02]\n",
            " [-7.02590061e-01  2.21965970e-02 -2.53104169e-01 -7.92751533e-02\n",
            "  -1.06412840e-01  4.79313447e-02 -3.34852857e-02 -7.78471362e-03\n",
            "   2.22571506e-02 -1.99988702e-02  1.91081051e-02 -2.87125762e-02\n",
            "  -1.85085968e-01  2.60749112e-01 -1.73375053e-01 -1.57925504e-01\n",
            "  -8.42784375e-02  1.98510233e-01 -4.42403988e-02 -1.68421553e-01\n",
            "  -1.62860126e-01  1.77535620e-01  1.04996221e+00 -8.47514600e-02\n",
            "  -4.66029369e-02 -1.09486151e-01 -7.59526991e-02 -7.90133096e-02\n",
            "  -1.92297845e-02]\n",
            " [-5.94878820e-01  2.51386125e-02 -2.02369613e-01 -6.00233679e-02\n",
            "   3.46770768e-02 -1.16941996e-01 -1.73778899e-02  1.00393824e-02\n",
            "  -1.12064605e-02 -1.98945167e-01 -3.03543990e-02 -2.00349075e-01\n",
            "   5.25478414e-02  1.14720198e-01 -3.81690360e-02 -8.62560293e-02\n",
            "  -1.44571210e-02  6.34230422e-02 -7.42823082e-02 -1.29815052e-01\n",
            "  -1.24408764e-01  1.46699341e-01 -8.47514600e-02  1.08667569e+00\n",
            "  -3.82301969e-02 -8.62971658e-02 -6.22580877e-02 -1.92297845e-02\n",
            "  -7.43977737e-02]\n",
            " [-7.70109492e-01 -2.48551697e-01 -5.47679413e-01  2.91104421e-01\n",
            "   1.68184517e-01  1.57229060e-01  2.07366378e-01  1.19813746e-01\n",
            "   1.17052780e-01 -2.31790241e-02 -1.84482811e-02  1.21863615e-02\n",
            "  -3.18949603e-02 -1.33617590e-02 -1.76392729e-01 -2.96647568e-01\n",
            "   7.31859199e-02  2.19841492e-01 -3.81561560e-02 -1.76632172e-01\n",
            "  -2.96799205e-01  2.27230409e-01 -4.66029369e-02 -3.82301969e-02\n",
            "  -3.29219688e-01 -4.68581719e-01 -2.91559512e-01 -1.68421553e-01\n",
            "  -1.29815052e-01]\n",
            " [-1.14471503e+00 -2.29630394e-01 -6.70691664e-01  1.33747117e-01\n",
            "   7.73038577e-02  1.09635359e-01  7.92641439e-02  4.58388024e-02\n",
            "   1.11751037e-01 -3.56469034e-02 -2.33168811e-02  4.73967591e-02\n",
            "  -4.02756636e-02 -2.05470311e-02 -2.96568550e-01 -3.81001194e-01\n",
            "   2.79656672e-02  2.67131042e-01 -8.61824004e-02 -2.96799205e-01\n",
            "  -3.81121311e-01  2.45511563e-01 -1.09486151e-01 -8.62971658e-02\n",
            "  -4.68581719e-01 -4.20976391e-01 -2.81937278e-01 -1.62860126e-01\n",
            "  -1.24408764e-01]\n",
            " [-1.21616502e+00  3.83978412e-02 -4.38151243e-01 -1.49965781e-02\n",
            "   7.92998052e-02  8.29872850e-02  3.08346797e-02  3.35142758e-02\n",
            "   3.85511392e-02  2.83624822e-01  1.85054201e-01 -4.96904457e-02\n",
            "   2.32567966e-01  1.95800512e-02 -1.53734486e-01 -2.17421916e-01\n",
            "   1.35056034e-02  2.35845279e-01 -4.76678087e-02 -2.27230409e-01\n",
            "  -2.45511563e-01  2.90901039e-01 -7.59526991e-02 -6.22580877e-02\n",
            "  -2.91559512e-01 -2.81937278e-01  8.45196555e-01 -1.77535620e-01\n",
            "  -1.46699341e-01]\n",
            " [-7.02590061e-01  2.21965970e-02 -2.53104169e-01  7.92751533e-02\n",
            "  -1.06412840e-01  4.79313447e-02  3.34852857e-02 -7.78471362e-03\n",
            "   2.22571506e-02  1.99988702e-02  1.91081051e-02 -2.87125762e-02\n",
            "   1.85085968e-01  2.60749112e-01 -1.73375053e-01 -1.57925504e-01\n",
            "   8.42784375e-02  1.98510233e-01 -4.42403988e-02 -4.66029369e-02\n",
            "  -1.09486151e-01  7.59526991e-02 -7.90133096e-02 -1.92297845e-02\n",
            "  -1.68421553e-01 -1.62860126e-01 -1.77535620e-01  1.04996221e+00\n",
            "  -8.47514600e-02]\n",
            " [-5.94878820e-01  2.51386125e-02 -2.02369613e-01  6.00233679e-02\n",
            "   3.46770768e-02 -1.16941996e-01  1.73778899e-02  1.00393824e-02\n",
            "  -1.12064605e-02  1.98945167e-01 -3.03543990e-02 -2.00349075e-01\n",
            "  -5.25478414e-02  1.14720198e-01 -3.81690360e-02 -8.62560293e-02\n",
            "   1.44571210e-02  6.34230422e-02 -7.42823082e-02 -3.82301969e-02\n",
            "  -8.62971658e-02  6.22580877e-02 -1.92297845e-02 -7.43977737e-02\n",
            "  -1.29815052e-01 -1.24408764e-01 -1.46699341e-01 -8.47514600e-02\n",
            "   1.08667569e+00]]\n"
          ]
        }
      ]
    },
    {
      "cell_type": "code",
      "source": [
        "print(\"Kohn-Sham Hamiltonian Matrix Shape:\", ks_hamiltonian.shape)\n",
        "print(\"Kohn-Sham Hamiltonian Matrix Size:\", ks_hamiltonian.size)\n",
        "print(\"Kohn-Sham Hamiltonian Matrix Dimension:\", ks_hamiltonian.ndim)\n",
        "print(\"Kohn-Sham Hamiltonian Matrix Trace:\", np.trace(ks_hamiltonian))\n",
        "print(\"Kohn-Sham Hamiltonian Matrix Determinant:\", np.linalg.det(ks_hamiltonian))\n",
        "print(\"Kohn-Sham Hamiltonian Matrix Rank:\", np.linalg.matrix_rank(ks_hamiltonian))"
      ],
      "metadata": {
        "colab": {
          "base_uri": "https://localhost:8080/"
        },
        "id": "oMe7GwOBOB9h",
        "outputId": "940f7e87-1b3c-47e8-b006-ffe49520db9c"
      },
      "execution_count": null,
      "outputs": [
        {
          "output_type": "stream",
          "name": "stdout",
          "text": [
            "Kohn-Sham Hamiltonian Matrix Shape: (29, 29)\n",
            "Kohn-Sham Hamiltonian Matrix Size: 841\n",
            "Kohn-Sham Hamiltonian Matrix Dimension: 2\n",
            "Kohn-Sham Hamiltonian Matrix Trace: -2.102268748165449\n",
            "Kohn-Sham Hamiltonian Matrix Determinant: -6.23835098272105e-08\n",
            "Kohn-Sham Hamiltonian Matrix Rank: 29\n"
          ]
        }
      ]
    }
  ]
}