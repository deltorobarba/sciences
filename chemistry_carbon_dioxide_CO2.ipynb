{
  "nbformat": 4,
  "nbformat_minor": 0,
  "metadata": {
    "colab": {
      "provenance": [],
      "include_colab_link": true
    },
    "kernelspec": {
      "name": "python3",
      "display_name": "Python 3"
    },
    "language_info": {
      "name": "python"
    }
  },
  "cells": [
    {
      "cell_type": "markdown",
      "metadata": {
        "id": "view-in-github",
        "colab_type": "text"
      },
      "source": [
        "<a href=\"https://colab.research.google.com/github/deltorobarba/sciences/blob/master/chemistry_carbon_dioxide_CO2.ipynb\" target=\"_parent\"><img src=\"https://colab.research.google.com/assets/colab-badge.svg\" alt=\"Open In Colab\"/></a>"
      ]
    },
    {
      "cell_type": "markdown",
      "source": [
        "# **Carbon Dioxide (CO₂)**"
      ],
      "metadata": {
        "id": "znmbNZum86cA"
      }
    },
    {
      "cell_type": "markdown",
      "source": [
        "[Carbon Dioxide](https://en.m.wikipedia.org/wiki/Carbon_dioxide) (CO₂) has a Linear structure with two oxygen atoms symmetrically arranged around the carbon atom.\n",
        "\n",
        "![science](https://upload.wikimedia.org/wikipedia/commons/thumb/1/1f/Carbon-dioxide-2D-dimensions.svg/320px-Carbon-dioxide-2D-dimensions.svg.png)"
      ],
      "metadata": {
        "id": "YjtwybJ0987z"
      }
    },
    {
      "cell_type": "code",
      "execution_count": null,
      "metadata": {
        "id": "gjlhUTdT8zn2"
      },
      "outputs": [],
      "source": [
        "from pyscf import gto, dft\n",
        "\n",
        "# Define the carbon dioxide molecule (CO₂)\n",
        "mol = gto.Mole()\n",
        "mol.atom = '''\n",
        "    C   0.0000000   0.0000000   0.0000000\n",
        "    O   0.0000000   0.0000000   1.1600000\n",
        "    O   0.0000000   0.0000000  -1.1600000\n",
        "'''\n",
        "mol.basis = 'cc-pvdz'\n",
        "mol.verbose = 4\n",
        "mol.build()\n",
        "\n",
        "# Perform a DFT calculation using the B3LYP functional\n",
        "mf = dft.RKS(mol)\n",
        "mf.xc = 'b3lyp'\n",
        "energy = mf.kernel()\n",
        "\n",
        "print(f\"DFT energy for Carbon Dioxide (CO₂) using B3LYP: {energy} Hartree\")"
      ]
    },
    {
      "cell_type": "markdown",
      "source": [
        "* DFT energy for Carbon Monooxide CO using B3LYP: -113.32127104323799 Hartree\n",
        "* DFT energy for Carbon Dioxide (CO₂) using B3LYP: -188.59824324583923 Hartree\n",
        "\n",
        "The lower DFT energy of CO₂ can be explained by its larger size, greater number of atoms and electrons, and presence of multiple strong bonds, which provide a more stable electronic configuration. CO₂’s symmetric linear structure also allows for better electron delocalization, further stabilizing the molecule\n",
        "\n",
        "1. **Number of Atoms and Electrons**: More atoms and more electrons in CO₂ lead to a more extensive electron cloud and greater total energy contributions from both electron-electron and electron-nucleus interactions. This contributes to a **more negative total energy** in CO₂.\n",
        "\n",
        "2. **Bonding Structure**:\n",
        "   - CO₂ is a **linear molecule** with two strong double bonds between carbon and each oxygen atom, leading to a more stable configuration overall. The bonding in CO₂ is highly delocalized, which spreads out electron density more efficiently across the molecule, resulting in a more stable (lower energy) structure.\n",
        "   - CO has only one C–O bond, and the molecule is not as stabilized as CO₂. The bond in CO is strong, but not as stable or delocalized as the double bonds in CO₂.\n",
        "\n",
        "3. **Electron Delocalization and Symmetry**:\n",
        "   - CO₂ has a more **symmetric structure**, which allows for better electron delocalization over the molecule. This lowers the overall electronic energy.\n",
        "   - CO, being a diatomic molecule with less symmetry, doesn't benefit as much from electron delocalization.\n",
        "\n",
        "4. **Molecular Size and Complexity**:\n",
        "   - CO₂ is a **larger molecule** with more internal degrees of freedom (bond stretching and bending modes). This generally results in a **more negative ground-state energy** because larger systems tend to have lower total energies due to the increased number of interactions between electrons and nuclei.\n"
      ],
      "metadata": {
        "id": "8Q-y8S3k-Ege"
      }
    }
  ]
}